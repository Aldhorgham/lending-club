{
  "cells": [
    {
      "metadata": {
        "_cell_guid": "1e8676bb-b153-45c9-a4ab-13b883e8e896",
        "_uuid": "90e7167782a3bdb675b5b6c581ec99d6920c8939"
      },
      "cell_type": "markdown",
      "source": "# Loan Status Prediction: Lending Club, 2007-2017"
    },
    {
      "metadata": {
        "_cell_guid": "40dc37f2-37a8-4f73-897d-b28a8755e88b",
        "_uuid": "b645d94d7d7103b4000a089c42fca8afa54bac2e"
      },
      "cell_type": "markdown",
      "source": "## Table of Contents"
    },
    {
      "metadata": {
        "_cell_guid": "182e1d7e-6e05-4317-963f-30d45ae40019",
        "_uuid": "84008d2a0f5b8a1f7e7be2c64083ac96906e36f6"
      },
      "cell_type": "markdown",
      "source": "1. [Summary](#1)\n    1. [Spoilers](#1.1)\n2. [Import the Data](#2)\n3. [Target Variable](#3)\n4. [Feature Selection](#4)\n    1. [Drop columns that have only one distinct value](#4.1)\n    2. [Remove columns that have < 2% data](#4.2)\n    3. [Remove irrelevant features](#4.3)\n    4. [Remove features that could make predictions too easy](#4.4)\n    5. [Inspect non-numerical features](#4.5)\n5. [Exploratory Data Analysis](#5)\n6. [Correlations with 'charged_off'](#6)\n    1. [Create dummy variables](#6.1)\n    2. [Compute correlations with 'charged_off'](#6.2)\n7. [More Pre-processing](#7)\n    1. [Train/test split](#7.1)\n    2. [Imputation with mean substitution](#7.2)\n    3. [Standardize the data](#7.3)\n8. [Predictive Modeling: SGDClassifier](#8)\n    1. [Train with grid search](#8.1)\n    2. [Test set evaluation](#8.2)"
    },
    {
      "metadata": {
        "_cell_guid": "a0267cb3-9050-4d81-a57a-d127de53304b",
        "_uuid": "f4449eff5c311a01de7f0027f6952b0c75852c7f"
      },
      "cell_type": "markdown",
      "source": "# Summary\n<a id=\"1\"></a>"
    },
    {
      "metadata": {
        "_cell_guid": "4a90478f-c30d-44f0-84af-6e3bb311165c",
        "_uuid": "264453f199b6f027fbcce63057de3be7e5401bde"
      },
      "cell_type": "markdown",
      "source": "[Data source](https://www.kaggle.com/wordsforthewise/lending-club)\n\nThe goal of this project is to predict whether a loan will be fully paid or charged off. We'll remove some features that would make this prediction too easy, such as the total payments received on the loan to date.\n\nThis is my first kernel on Kaggle. I would appreciate any constructive feedback!"
    },
    {
      "metadata": {
        "_cell_guid": "7cce1c24-3fa3-447c-aa39-5d6371896758",
        "_uuid": "58ee640db24068a8f717aa7d5d705b6e5ef78c9e"
      },
      "cell_type": "markdown",
      "source": "## Spoilers\n<a id=\"1.1\"></a>"
    },
    {
      "metadata": {
        "_cell_guid": "d3230831-1f6f-40c2-b841-87e6c1ed4552",
        "_uuid": "69dff8a3989dd9c8c29e8cf161e03287e0765fae"
      },
      "cell_type": "markdown",
      "source": "By far the most useful features for predicting whether a loan will be paid off are 'last_fico_range_low' and 'last_fico_range_high', which hold the most recent credit score of the borrower.\n\nWe will delete features that could make the prediction too easy, or trivial."
    },
    {
      "metadata": {
        "_cell_guid": "b018242b-b3c5-4245-b5d7-ea6a3f28d4c8",
        "_uuid": "2053f9b0b897cad21155cca0a00c537bfd1bb340"
      },
      "cell_type": "markdown",
      "source": "# Import the Data\n<a id=\"2\"></a>"
    },
    {
      "metadata": {
        "_cell_guid": "8fe25919-5ebd-4101-b62a-c7d234e8bd29",
        "_uuid": "56a4335d022fcd47a34be72a06c88f14db3b7915"
      },
      "cell_type": "markdown",
      "source": "Import basic libraries."
    },
    {
      "metadata": {
        "_cell_guid": "d237539e-2aa1-438e-a2c6-39a48c47211c",
        "_uuid": "3a39bcc870d823d4923c7ec9d8acb62c733bebaa",
        "collapsed": true,
        "trusted": false
      },
      "cell_type": "code",
      "source": "import numpy as np\nimport pandas as pd",
      "execution_count": null,
      "outputs": []
    },
    {
      "metadata": {
        "_cell_guid": "b52a640a-fdb1-4fb6-8e5f-b70c5ed94155",
        "_uuid": "4dcd96a320b2ebc16a98ea0c9ffa4386797c2f71"
      },
      "cell_type": "markdown",
      "source": "Change pandas print options so we can print all desired rows/columns without truncation."
    },
    {
      "metadata": {
        "_cell_guid": "b420bbfc-0e9a-4a4b-9953-afa410543bcf",
        "_uuid": "41d7c6c068c2ef6fa98eae03b5640619b1ee26f1",
        "collapsed": true,
        "trusted": false
      },
      "cell_type": "code",
      "source": "pd.set_option('display.max_rows', None)\npd.set_option('display.max_columns', None)",
      "execution_count": null,
      "outputs": []
    },
    {
      "metadata": {
        "_cell_guid": "4c0f7ef4-37a3-4c71-847f-38f924706540",
        "_uuid": "c4b355a5d50e067d1461d6504cb04d827f65c6cd"
      },
      "cell_type": "markdown",
      "source": "Read in the data."
    },
    {
      "metadata": {
        "_cell_guid": "b54dd1e5-bbf7-4014-9434-3495a578e27f",
        "_uuid": "370f21d16cb87752040bb20a82a9115db2e36cb5",
        "trusted": false,
        "collapsed": true
      },
      "cell_type": "code",
      "source": "df = pd.read_csv('../input/accepted_2007_to_2017Q3.csv.gz', compression='gzip', low_memory=True)\n# low_memory=False prevents mixed data types in the DataFrame",
      "execution_count": null,
      "outputs": []
    },
    {
      "metadata": {
        "_cell_guid": "b195b476-a58b-4a6b-9745-f26a86e9c61c",
        "_uuid": "ee053ebca5fbc378cf651939bde5e378e5d0cdae"
      },
      "cell_type": "markdown",
      "source": "Check basic dataframe info."
    },
    {
      "metadata": {
        "_cell_guid": "f4a7c9a2-ff89-4219-8ff9-2324bef16bdf",
        "_uuid": "00c703a1943e72a68b83c4ddf46c00310656e22c",
        "trusted": false,
        "collapsed": true
      },
      "cell_type": "code",
      "source": "df.info()",
      "execution_count": null,
      "outputs": []
    },
    {
      "metadata": {
        "_cell_guid": "53dad5c0-e147-4a75-9143-263c25aca443",
        "_uuid": "9174c9f401807a208e48aae2553eb69fa807f1cf"
      },
      "cell_type": "markdown",
      "source": "Peek at the first few rows of the data."
    },
    {
      "metadata": {
        "_cell_guid": "ecdf5e79-8e7d-4e10-9d6a-bbed279cf07d",
        "_uuid": "927c3589a9c7ae39e78c2ad42f569101442cbb48",
        "trusted": false,
        "collapsed": true
      },
      "cell_type": "code",
      "source": "df.head(3)",
      "execution_count": null,
      "outputs": []
    },
    {
      "metadata": {
        "_cell_guid": "6e847348-5344-4ebb-b820-03a772ad5059",
        "_uuid": "841ca8b2103b35b98730139c2e64b790f2edeb89"
      },
      "cell_type": "markdown",
      "source": "# Target Variable\n<a id=\"3\"></a>"
    },
    {
      "metadata": {
        "_cell_guid": "b9e79844-28d9-4b5e-a6d3-c9dbfd17820e",
        "_uuid": "138869442509b04e45df20b0356e7ed91f77f7c2"
      },
      "cell_type": "markdown",
      "source": "We're going to try to predict the 'loan_status' column. What are the value counts in this column?"
    },
    {
      "metadata": {
        "_cell_guid": "d5b467af-c5a1-4ae0-a044-3a421252eb78",
        "_uuid": "84e9c41ee08246a83bc6f8ad04a90c83a1bf408e",
        "trusted": false,
        "collapsed": true
      },
      "cell_type": "code",
      "source": "df['loan_status'].value_counts()",
      "execution_count": null,
      "outputs": []
    },
    {
      "metadata": {
        "_cell_guid": "527520b1-32a4-4b95-ab0a-b24ac47b3cf6",
        "_uuid": "49a92fd5f4aab3a3561edf9929df506c9fd34a9d"
      },
      "cell_type": "markdown",
      "source": "Let's only consider loans that meet the credit policy and have either been fully paid or charged off. These are the two cases we'll try to distinguish with a model.\n\nRetain only the rows with 'loan_status' Fully Paid or Charged Off."
    },
    {
      "metadata": {
        "_cell_guid": "f4f361b5-32f2-4828-8e37-3e43a32c32c0",
        "_uuid": "5c7dc5453d31b32b849bec55fe252c449d8e9557",
        "collapsed": true,
        "trusted": false
      },
      "cell_type": "code",
      "source": "df = df.loc[df['loan_status'].isin(['Fully Paid', 'Charged Off'])]",
      "execution_count": null,
      "outputs": []
    },
    {
      "metadata": {
        "_cell_guid": "590a5146-c659-43ed-bfb4-7bea32672932",
        "_uuid": "d70396f915861568607ee204c4ff4574f80d5bdc",
        "trusted": false,
        "collapsed": true
      },
      "cell_type": "code",
      "source": "df['loan_status'].value_counts()",
      "execution_count": null,
      "outputs": []
    },
    {
      "metadata": {
        "_cell_guid": "3888b19c-31f9-4dae-a48c-fee903e376b3",
        "_uuid": "9077c3cc635ed072a4658a4a0c11a111cb668a93"
      },
      "cell_type": "markdown",
      "source": "How many rows remain?"
    },
    {
      "metadata": {
        "_cell_guid": "be5c5ad3-f002-48f3-9695-3a80a1539c1b",
        "_uuid": "c71ee5ec2f8dc3d8297a7eea7eef441f27c51317",
        "trusted": false,
        "collapsed": true
      },
      "cell_type": "code",
      "source": "df.shape",
      "execution_count": null,
      "outputs": []
    },
    {
      "metadata": {
        "_cell_guid": "dd924a07-c14b-465e-bb90-d616e7287a1e",
        "_uuid": "6108b79f942b0f67ef14c4b39ba02035e9fcb6f7"
      },
      "cell_type": "markdown",
      "source": "How balanced are the classes?"
    },
    {
      "metadata": {
        "_cell_guid": "5fe10964-c52d-47ac-a63e-ea97454ff924",
        "_uuid": "98de50d406368d8e43aa35dc41f01d31a95fc239",
        "trusted": false,
        "collapsed": true
      },
      "cell_type": "code",
      "source": "df['loan_status'].value_counts() / df.shape[0]",
      "execution_count": null,
      "outputs": []
    },
    {
      "metadata": {
        "_cell_guid": "c44aa6b1-041a-490e-8f64-81d010b1bf4a",
        "_uuid": "715d0aed4051332c5f32f35142e130e7da555150"
      },
      "cell_type": "markdown",
      "source": "About 79% of the loans have been fully paid, and 21% have been charged off.\n\nLet's convert the 'loan_status' column to a 0/1 'charged_off' column. This will allow us to compute correlations later."
    },
    {
      "metadata": {
        "_cell_guid": "6bc0595b-4ead-4fdc-8161-13b4242406cc",
        "_uuid": "b195f4be2c6a2b0b01b6593f22a244a5e325ee9c",
        "collapsed": true,
        "trusted": false
      },
      "cell_type": "code",
      "source": "df['loan_status'] = df['loan_status'].apply(lambda s: np.float(s == 'Charged Off'))",
      "execution_count": null,
      "outputs": []
    },
    {
      "metadata": {
        "_cell_guid": "c17354aa-e37d-4ba3-9e6d-a5c0e084399c",
        "_uuid": "db75f04efff6ab82d8564beb220580902c48327d",
        "trusted": false,
        "collapsed": true
      },
      "cell_type": "code",
      "source": "df['loan_status'].value_counts()",
      "execution_count": null,
      "outputs": []
    },
    {
      "metadata": {
        "_cell_guid": "5e0f1a69-b7b9-43cb-8d87-143a1c49f952",
        "_uuid": "1b6c365e025f1566511b87f886d1c618b36355d7"
      },
      "cell_type": "markdown",
      "source": "Rename the 'loan_status' column to 'charged_off'."
    },
    {
      "metadata": {
        "_cell_guid": "ea64d8bf-57db-4bc9-bb27-b992b272ffc7",
        "_uuid": "60022360aa67506e30b75b940d5e708389ba3e9b",
        "collapsed": true,
        "trusted": false
      },
      "cell_type": "code",
      "source": "df.rename(columns={'loan_status':'charged_off'}, inplace=True)",
      "execution_count": null,
      "outputs": []
    },
    {
      "metadata": {
        "_cell_guid": "fd09e5bd-3941-4152-8c5f-8471b33b2bc9",
        "_uuid": "6919d1676261dd95646f70b93d64256bc0a3e8f8"
      },
      "cell_type": "markdown",
      "source": "Our target variable is ready to go. We have two classes to try to predict."
    },
    {
      "metadata": {
        "_cell_guid": "a6220e50-5df9-427a-a92b-5e6138234fb9",
        "_uuid": "34206dc6425cbf3c744c23006e6b10f522777a9d"
      },
      "cell_type": "markdown",
      "source": "# Feature Selection\n<a id=\"4\"></a>"
    },
    {
      "metadata": {
        "_cell_guid": "89f9038c-fb12-46e9-9136-5f5e0a81d2bb",
        "_uuid": "a0a000e470b72a6128fc3ec216e181ab4ccc3809"
      },
      "cell_type": "markdown",
      "source": "The raw data has 150 features, but we won't be using all the features for our predictions, as we'll explain below.\n\nDefinitions of the columns are given in the Lending Club \"Data Dictionary\" [available here](https://www.lendingclub.com/info/download-data.action)."
    },
    {
      "metadata": {
        "_cell_guid": "63931776-73d2-444f-a179-1a50c1047e2e",
        "_uuid": "275118e4daf8bcfa522a72a4c39f023ee06b8556"
      },
      "cell_type": "markdown",
      "source": "## Drop columns that have only one distinct value\n<a id=\"4.1\"></a>"
    },
    {
      "metadata": {
        "_cell_guid": "999651e6-cf4d-472e-a87d-1b7d182d4112",
        "_uuid": "301fe9c3bed4dc322791cb68fe8946f04d03b086"
      },
      "cell_type": "markdown",
      "source": "Are there any columns with only one distinct value?"
    },
    {
      "metadata": {
        "_cell_guid": "955e0ce6-4c46-4ba5-a488-a05d7ebf1f87",
        "_uuid": "77ec756b3b2a57eb6f43a28053b0cb39188361e9",
        "trusted": false,
        "collapsed": true
      },
      "cell_type": "code",
      "source": "drop_list = []\nfor col in df.columns:\n    if df[col].nunique() == 1:\n        drop_list.append(col)\n\ndrop_list",
      "execution_count": null,
      "outputs": []
    },
    {
      "metadata": {
        "_cell_guid": "bb5b4e3c-a5a5-4d72-9375-1dbce7756d05",
        "_uuid": "cc1aafebd267547f33382e5bf3a178160c44e4d7"
      },
      "cell_type": "markdown",
      "source": "These columns do not contain any useful information, so we drop them."
    },
    {
      "metadata": {
        "_cell_guid": "191e46d6-4632-4d22-b1ed-3d656477c2a1",
        "_uuid": "0d17a3f2e27ba4cdd4cc81bacf278412b279d441",
        "trusted": false,
        "collapsed": true
      },
      "cell_type": "code",
      "source": "df.shape",
      "execution_count": null,
      "outputs": []
    },
    {
      "metadata": {
        "_cell_guid": "a81de05f-6d0e-4c7a-be77-f2f81d3e268d",
        "_uuid": "ff42ba91c42134ff19c6d910d24b53084cbe07b0",
        "collapsed": true,
        "trusted": false
      },
      "cell_type": "code",
      "source": "df.drop(labels=drop_list, axis=1, inplace=True)",
      "execution_count": null,
      "outputs": []
    },
    {
      "metadata": {
        "_cell_guid": "35b9c29b-88b2-4b3a-893d-53967183e7f3",
        "_uuid": "f561928dc56958bca2af79f9b0fc982503bb0048",
        "trusted": false,
        "collapsed": true
      },
      "cell_type": "code",
      "source": "df.shape",
      "execution_count": null,
      "outputs": []
    },
    {
      "metadata": {
        "_cell_guid": "033676d1-c042-4af2-a41c-1f49d678d03f",
        "_uuid": "6d374ac8147274a76355bbeca958bbcf6ebb1de4"
      },
      "cell_type": "markdown",
      "source": "## Remove columns that have < 2% data\n<a id=\"4.2\"></a>"
    },
    {
      "metadata": {
        "_cell_guid": "589fa1bd-fdc1-48c3-aeac-b6b832b1dd9f",
        "_uuid": "a4c7176325015b59301179239b600e52ff1c012d"
      },
      "cell_type": "markdown",
      "source": "Are there any columns with less than 2% data?"
    },
    {
      "metadata": {
        "_cell_guid": "b2bccd07-6308-4d83-b45a-de8ade091106",
        "_uuid": "dd01b28cdf204ed38fa2d7123254fe9dd5f62c87",
        "trusted": false,
        "collapsed": true
      },
      "cell_type": "code",
      "source": "drop_list = []\nfor col in df.columns:\n    if df[col].notnull().sum() / df.shape[0] < 0.02:\n        drop_list.append(col)\n\ndrop_list",
      "execution_count": null,
      "outputs": []
    },
    {
      "metadata": {
        "_cell_guid": "7fcfae32-fdf5-42af-a14a-0b797c17b034",
        "_uuid": "4477765ea99a243a25421550ff4087b68fc6fa1b"
      },
      "cell_type": "markdown",
      "source": "Drop these columns."
    },
    {
      "metadata": {
        "_cell_guid": "f970dbae-c67e-4c08-9d86-26d3eba0baf6",
        "_uuid": "483385386b944a572c261fd3c7c3c91e37bb0111",
        "trusted": false,
        "collapsed": true
      },
      "cell_type": "code",
      "source": "df.shape",
      "execution_count": null,
      "outputs": []
    },
    {
      "metadata": {
        "_cell_guid": "876333ef-2b06-4fa8-b74f-4d9a59f8b2d6",
        "_uuid": "ea1d37e6b2b661cb6aed42a2929b2113f493fce6",
        "collapsed": true,
        "trusted": false
      },
      "cell_type": "code",
      "source": "df.drop(labels=drop_list, axis=1, inplace=True)",
      "execution_count": null,
      "outputs": []
    },
    {
      "metadata": {
        "_cell_guid": "67fad293-bc4c-4126-b753-0c266c20d639",
        "_uuid": "653d8aafd7048bfdf428338be189d6b317079f5f",
        "trusted": false,
        "collapsed": true
      },
      "cell_type": "code",
      "source": "df.shape",
      "execution_count": null,
      "outputs": []
    },
    {
      "metadata": {
        "_cell_guid": "005d0c15-2687-4121-a1a5-fb976d0785b9",
        "_uuid": "ff18d981d951ab063b7de99fdc1f410776c5ae53"
      },
      "cell_type": "markdown",
      "source": "## Remove irrelevant features\n<a id=\"4.3\"></a>"
    },
    {
      "metadata": {
        "_cell_guid": "3c7faa78-a1f5-40fb-98e5-af7930c95d02",
        "_uuid": "5957f341fdc91568b3e5ef935c9677c93516c480"
      },
      "cell_type": "markdown",
      "source": "Let's drop some features that we don't think will be useful for predicting the loan status.\n\nAnalyzing text in the borrower loan description, job title, or loan title could be an interesting direction, but we won't explore this for now. The last three features listed below contain date information. We could convert these to numerical values, but we won't bother doing so."
    },
    {
      "metadata": {
        "_cell_guid": "6f398be9-0a45-4abc-9e50-ba3d8cca3655",
        "_uuid": "019a40648e082ecbf830828ca8617c3e74cdfb73",
        "trusted": false,
        "collapsed": true
      },
      "cell_type": "code",
      "source": "df.shape",
      "execution_count": null,
      "outputs": []
    },
    {
      "metadata": {
        "_cell_guid": "498805f3-a738-4493-97f7-d1089a630260",
        "_uuid": "e39264c8789579219bd1fc0f50b3beef392efc50",
        "collapsed": true,
        "trusted": false
      },
      "cell_type": "code",
      "source": "df.drop(labels=['id', 'desc', 'emp_title', 'title', 'issue_d', 'last_credit_pull_d', 'earliest_cr_line'], axis=1, inplace=True)",
      "execution_count": null,
      "outputs": []
    },
    {
      "metadata": {
        "_cell_guid": "0ac1ac85-b02d-45df-aae0-c465be793f66",
        "_uuid": "52704d043e424771bf5300cb63e8d692fffc7e8d",
        "trusted": false,
        "collapsed": true
      },
      "cell_type": "code",
      "source": "df.shape",
      "execution_count": null,
      "outputs": []
    },
    {
      "metadata": {
        "_cell_guid": "33b90b6b-0fcd-4657-ae11-0ff2f6a95823",
        "_uuid": "4066be79385b7b0c6b7d4f96533106093304b746"
      },
      "cell_type": "markdown",
      "source": "## Remove features that could make predictions too easy\n<a id=\"4.4\"></a>"
    },
    {
      "metadata": {
        "_cell_guid": "eeca4f72-9f43-41f6-b616-2a774a80241c",
        "_uuid": "d06b13c0421fa20ea98a295341384d09d7783aa4"
      },
      "cell_type": "markdown",
      "source": "Some features give away the loan status. For example, if 'debt_settlement_flag' is 'Y', this implies that the borrower charged off. Also, if 'total_pymnt' is greater than 'loan_amnt', then the loan must be paid off. Let's not make our job too easy---remove these columns!"
    },
    {
      "metadata": {
        "_cell_guid": "bf02966a-485a-4fe2-9d8e-f5533b026c92",
        "_uuid": "018934ea475eb17391210a534ec91dc3f8823a84",
        "trusted": false,
        "collapsed": true
      },
      "cell_type": "code",
      "source": "df.shape",
      "execution_count": null,
      "outputs": []
    },
    {
      "metadata": {
        "_cell_guid": "395ba998-45d7-491f-a7a0-0e437faf85f2",
        "_uuid": "bef17f20d165af9c300243b637d95bf65a552084",
        "collapsed": true,
        "trusted": false
      },
      "cell_type": "code",
      "source": "df.drop(labels=['collection_recovery_fee', 'debt_settlement_flag', 'last_pymnt_amnt', 'last_pymnt_d', 'recoveries', 'total_pymnt', 'total_pymnt_inv', 'total_rec_int', 'total_rec_late_fee', 'total_rec_prncp'], axis=1, inplace=True)",
      "execution_count": null,
      "outputs": []
    },
    {
      "metadata": {
        "_cell_guid": "994ff4b1-9e2e-427a-a464-382d42c2611c",
        "_uuid": "96284db153aaff8cbb0bea1a609b1477f00e0bc7",
        "trusted": false,
        "collapsed": true
      },
      "cell_type": "code",
      "source": "df.shape",
      "execution_count": null,
      "outputs": []
    },
    {
      "metadata": {
        "_cell_guid": "4b13fcc8-9593-447d-b4bf-f9be2ee04c5e",
        "_uuid": "26d6ce8a7444d50202570af00bdb37a51c3fb38e"
      },
      "cell_type": "markdown",
      "source": "Are there any other features I should have removed, or any that I should have kept? Let me know in the comments."
    },
    {
      "metadata": {
        "_cell_guid": "1fccc348-6582-464a-8857-7944f5316954",
        "_uuid": "82e28e93690b55e5bbd6a46e163d93028eca5538"
      },
      "cell_type": "markdown",
      "source": "## Inspect non-numerical features\n<a id=\"4.5\"></a>"
    },
    {
      "metadata": {
        "_cell_guid": "d638c626-6e5e-42af-a75b-7d839edc4717",
        "_uuid": "7df157e16c1f4a6c0ea180bb452336c96064f5e1"
      },
      "cell_type": "markdown",
      "source": "We're going to inspect features of type 'object', i.e. text data."
    },
    {
      "metadata": {
        "_cell_guid": "550efede-0bd4-4b8e-9ec7-99a36da33580",
        "_uuid": "a19ba5766eae9aef2c1cd7d6cfba80d42f0c445f",
        "trusted": false,
        "collapsed": true
      },
      "cell_type": "code",
      "source": "df.head(3)",
      "execution_count": null,
      "outputs": []
    },
    {
      "metadata": {
        "_cell_guid": "e3636ce7-ad85-4821-9fc3-af940e32ca1c",
        "_uuid": "25b3c22ae0b86eac2200f4125a9c45c044e94193"
      },
      "cell_type": "markdown",
      "source": "Which columns have text data?"
    },
    {
      "metadata": {
        "_cell_guid": "3868bffe-5a2a-41c8-8372-717982afe0d1",
        "_uuid": "7031a2b5f456d5824e6025f8ca1d3a1ad242adab",
        "trusted": false,
        "collapsed": true
      },
      "cell_type": "code",
      "source": "text_cols = []\nfor col in df.columns:\n    if df[col].dtype == np.object:\n        text_cols.append(col)\n\ntext_cols",
      "execution_count": null,
      "outputs": []
    },
    {
      "metadata": {
        "_cell_guid": "8e98e8d9-9c8f-49b4-a123-4a11534454e3",
        "_uuid": "77ae6e4830589e4ee9dd0c815043300017c7fd75"
      },
      "cell_type": "markdown",
      "source": "### term"
    },
    {
      "metadata": {
        "_cell_guid": "e3559ee4-0c7c-4e29-9952-ef06f302937a",
        "_uuid": "b8fa81ef40fc0928639d94608d126039f73e3f3d",
        "trusted": false,
        "collapsed": true
      },
      "cell_type": "code",
      "source": "df['term'].value_counts()",
      "execution_count": null,
      "outputs": []
    },
    {
      "metadata": {
        "_cell_guid": "a0a18d84-ed5f-4d4f-a377-c877a6d1be54",
        "_uuid": "7abe9deb95eb215cc2c8fa6425cc4d81bbf79bef"
      },
      "cell_type": "markdown",
      "source": "Convert 'term' to integer values."
    },
    {
      "metadata": {
        "_cell_guid": "dd9462d5-673b-4dce-ae3b-61f427b1abcb",
        "_uuid": "09eed29a2d6f5e30beec07ae5d29088234c99b1c",
        "trusted": false,
        "collapsed": true
      },
      "cell_type": "code",
      "source": "df['term'] = df['term'].apply(lambda s:np.float(s[1:3])) # There's an extra space in the data for some reason\ndf['term'].value_counts()",
      "execution_count": null,
      "outputs": []
    },
    {
      "metadata": {
        "_cell_guid": "1b745ce5-987f-45b9-8e3f-6d5f760e3a7c",
        "_uuid": "687c301f0bd5f40efdeca5307e9d0cb6a1fb6161"
      },
      "cell_type": "markdown",
      "source": "### grade, sub_grade"
    },
    {
      "metadata": {
        "_cell_guid": "005e2c3c-4d90-4abb-9e5a-a23afca7311e",
        "_uuid": "d15d53d9f1f19c0c18ac23826f8681dff98707c6"
      },
      "cell_type": "markdown",
      "source": "Convert the subgrade to a numerical value."
    },
    {
      "metadata": {
        "_cell_guid": "84fe31bf-b21f-43eb-bcb9-8a3458f7fafe",
        "_uuid": "9e368b9124f71d7ecb34576f659c8473ba0fb7a4",
        "collapsed": true,
        "trusted": false
      },
      "cell_type": "code",
      "source": "grade_dict = {'A':0.0, 'B':1.0, 'C':2.0, 'D':3.0, 'E':4.0, 'F':5.0, 'G':6.0}\ndef grade_to_float(s):\n    return 5 * grade_dict[s[0]] + np.float(s[1]) - 1",
      "execution_count": null,
      "outputs": []
    },
    {
      "metadata": {
        "_cell_guid": "c433dbba-20a7-432a-afbb-bdcfb61bbc2e",
        "_uuid": "1a4955044b1e6c6326f6a793d92f3de54121f31e",
        "collapsed": true,
        "trusted": false
      },
      "cell_type": "code",
      "source": "df['sub_grade'] = df['sub_grade'].apply(lambda s: grade_to_float(s))",
      "execution_count": null,
      "outputs": []
    },
    {
      "metadata": {
        "_cell_guid": "b1d34f86-4ffb-4024-ad0f-714bd5cb3f21",
        "_uuid": "efb24fbebc6a4b092a37b79e7fb6f29133d3315a"
      },
      "cell_type": "markdown",
      "source": "The grade is implied by the subgrade, so let's drop the grade column."
    },
    {
      "metadata": {
        "_cell_guid": "9c00600b-0a58-4648-9448-4e960b705eb6",
        "_uuid": "a46021ef96a484732a847ed2f3cece9d423f73ec",
        "collapsed": true,
        "trusted": false
      },
      "cell_type": "code",
      "source": "df.drop(labels=['grade'], axis=1, inplace=True)",
      "execution_count": null,
      "outputs": []
    },
    {
      "metadata": {
        "_cell_guid": "98efbb15-f5d7-42ef-992a-92bb0860a803",
        "_uuid": "e84911043e002622f7c181e2be71d09ac277dbc8"
      },
      "cell_type": "markdown",
      "source": "### emp_length"
    },
    {
      "metadata": {
        "_cell_guid": "a60d507b-dc0d-4e44-912e-0d214b1b85a9",
        "_uuid": "372fd175e1e4458f8a9bc860fd91798d696892be",
        "trusted": false,
        "collapsed": true
      },
      "cell_type": "code",
      "source": "df['emp_length'].value_counts()",
      "execution_count": null,
      "outputs": []
    },
    {
      "metadata": {
        "_cell_guid": "a0093edf-c48f-4680-8581-055c857e842f",
        "_uuid": "c05991844e80bb0af5fe0be54a01e3a822d8f2cb"
      },
      "cell_type": "markdown",
      "source": "Let's convert 'emp_length' to floats."
    },
    {
      "metadata": {
        "_cell_guid": "f5ce8306-8ca3-4a78-8332-7a12fd233f98",
        "_uuid": "fc61f2f288d38767f5fa1e3f7df5b58c7bc52a35",
        "trusted": false,
        "collapsed": true
      },
      "cell_type": "code",
      "source": "def emp_conv(s):\n    try:\n        if pd.isnull(s):\n            return s\n        elif s[0] == '<':\n            return 0.0\n        elif s[:2] == '10':\n            return 10.0\n        else:\n            return np.float(s[0])\n    except TypeError:\n        return np.float64(s)\n\ndf['emp_length'] = df['emp_length'].apply(lambda s: emp_conv(s))\ndf['emp_length'].value_counts()",
      "execution_count": null,
      "outputs": []
    },
    {
      "metadata": {
        "_cell_guid": "e994c5db-880e-4ec0-8cbd-4aacad373993",
        "_uuid": "332158cff90d2e051f5a80bee5983019ada32a30"
      },
      "cell_type": "markdown",
      "source": "### home_ownership"
    },
    {
      "metadata": {
        "_cell_guid": "d574efb7-1a6b-4ec2-a446-827d75d0d9cf",
        "_uuid": "017c6be384f35a700cebfa761dbaee4ec6b73256",
        "trusted": false,
        "collapsed": true
      },
      "cell_type": "code",
      "source": "df['home_ownership'].value_counts()",
      "execution_count": null,
      "outputs": []
    },
    {
      "metadata": {
        "_cell_guid": "119da036-552d-4a95-a61f-7fdd464bcf5b",
        "_uuid": "840799ab7f984830bf29f0b677f4f14b672d4253"
      },
      "cell_type": "markdown",
      "source": "### verification_status"
    },
    {
      "metadata": {
        "_cell_guid": "652e35e1-909f-4f32-94a2-836561bf4a02",
        "_uuid": "d1e800da00aea47ee7a5e2f876da9cbd66dc7947",
        "trusted": false,
        "collapsed": true
      },
      "cell_type": "code",
      "source": "df['verification_status'].value_counts()",
      "execution_count": null,
      "outputs": []
    },
    {
      "metadata": {
        "_cell_guid": "3a91aec4-9bc4-42d6-8c62-e3892a9a2754",
        "_uuid": "87124cd85754a1e6ef201217421ff2f50108cb2a"
      },
      "cell_type": "markdown",
      "source": "### purpose"
    },
    {
      "metadata": {
        "_cell_guid": "9de7d1b4-212b-4478-88a2-a3176a03e982",
        "_uuid": "5d4c3c93e59ee2cde87f4fc5487b43c555c33faf",
        "trusted": false,
        "collapsed": true
      },
      "cell_type": "code",
      "source": "df['purpose'].value_counts()",
      "execution_count": null,
      "outputs": []
    },
    {
      "metadata": {
        "_cell_guid": "b6908ad9-66be-4a38-8e45-bacde206e987",
        "_uuid": "f68d4795cca9861dd340a2c155c0b956ae9f53fa"
      },
      "cell_type": "markdown",
      "source": "### zip_code, addr_state"
    },
    {
      "metadata": {
        "_cell_guid": "62d8e624-cac2-41b2-bd25-4cc00fff9f89",
        "_uuid": "1af7bcf6c20b6cfd584510c204dae83a98e170fc"
      },
      "cell_type": "markdown",
      "source": "Convert the zip code to a float."
    },
    {
      "metadata": {
        "_cell_guid": "60b6baee-65c8-40f7-aed0-75760565c8b9",
        "_uuid": "033f4a24fc2b7d4c70ce67d6bdbcd09960af5c81",
        "collapsed": true,
        "trusted": false
      },
      "cell_type": "code",
      "source": "df['zip_code'] = df['zip_code'].apply(lambda s:np.float(s[:3]))",
      "execution_count": null,
      "outputs": []
    },
    {
      "metadata": {
        "_cell_guid": "a2485d09-8385-427d-9bcb-7c47b8034e53",
        "_uuid": "69aa28976c0826de8e461d39c5e3b5bfdf49e61c"
      },
      "cell_type": "markdown",
      "source": "The state is implied by the zip code, so remove the state column."
    },
    {
      "metadata": {
        "_cell_guid": "aef7a94f-613c-4137-86f2-d0591ea3a4bc",
        "_uuid": "d6d4c635eb86b895acda91d0cc1fa38327a96e7d",
        "collapsed": true,
        "trusted": false
      },
      "cell_type": "code",
      "source": "df.drop(labels=['addr_state'], axis=1, inplace=True)",
      "execution_count": null,
      "outputs": []
    },
    {
      "metadata": {
        "_cell_guid": "57408b52-70fd-4a45-b5bb-12f0c2612190",
        "_uuid": "2a671f42515e7c4727430a48e6163c6f77801275"
      },
      "cell_type": "markdown",
      "source": "### initial_list_status"
    },
    {
      "metadata": {
        "_cell_guid": "4d334d9a-9b65-4310-8dad-0f51e25ed987",
        "_uuid": "003a7ac0ee85585ac40fb46ad7e5907352c0a3b0",
        "trusted": false,
        "collapsed": true
      },
      "cell_type": "code",
      "source": "df['initial_list_status'].value_counts()",
      "execution_count": null,
      "outputs": []
    },
    {
      "metadata": {
        "_cell_guid": "1284f252-1980-4113-a5d3-6f422c11dab6",
        "_uuid": "c7f2a45467caca0cd7be06c244f93d66eeb82243"
      },
      "cell_type": "markdown",
      "source": "I don't know what the initial list status means."
    },
    {
      "metadata": {
        "_cell_guid": "b34ab6cc-0a3f-4780-a234-743b9d406dca",
        "_uuid": "77b5eba4a13bd157c68f522ab8002094bb8b456d"
      },
      "cell_type": "markdown",
      "source": "### application_type"
    },
    {
      "metadata": {
        "_cell_guid": "0fc4f079-695a-49e9-abac-05bf841bd9e5",
        "_uuid": "afc3918d6aa0db8f5ddeab49d17359155db1376d",
        "trusted": false,
        "collapsed": true
      },
      "cell_type": "code",
      "source": "df['application_type'].value_counts()",
      "execution_count": null,
      "outputs": []
    },
    {
      "metadata": {
        "_cell_guid": "3ada3298-69e6-4477-8c89-d4644355d5e8",
        "_uuid": "ac65e5c874b3ec32ad14884e15274dd64c1869d3"
      },
      "cell_type": "markdown",
      "source": "### disbursement_method"
    },
    {
      "metadata": {
        "_cell_guid": "a0796820-ed1a-45d4-bbad-a0cd24b4b31e",
        "_uuid": "d612144ad296b2c463df392d29bcdf928718ec39",
        "trusted": false,
        "collapsed": true
      },
      "cell_type": "code",
      "source": "df['disbursement_method'].value_counts()",
      "execution_count": null,
      "outputs": []
    },
    {
      "metadata": {
        "_cell_guid": "03fcf116-3d14-4038-934b-cc6265fc6181",
        "_uuid": "50e63d0280f0f3ed0ed09812d73a867261fe0433"
      },
      "cell_type": "markdown",
      "source": "# Exploratory Data Analysis\n<a id=\"5\"></a>"
    },
    {
      "metadata": {
        "_cell_guid": "57562ba4-ead2-4c82-b021-8a466762652c",
        "_uuid": "f7bb6751253b617d66dc0e2beb00911501023f8e"
      },
      "cell_type": "markdown",
      "source": "Import plotting libraries."
    },
    {
      "metadata": {
        "_cell_guid": "fa0a4e55-d03a-4ecf-b57c-36e7059f0323",
        "_uuid": "7ec37e7391295f0dd9368ad0b5b725fd5de6f170",
        "collapsed": true,
        "trusted": false
      },
      "cell_type": "code",
      "source": "import matplotlib.pyplot as plt\nimport seaborn as sns\n%matplotlib inline",
      "execution_count": null,
      "outputs": []
    },
    {
      "metadata": {
        "_cell_guid": "1052b34a-487d-4aab-a87f-eae50a0b4224",
        "_uuid": "797b3da0449b25d2e87edde21b84d0cf209752ef"
      },
      "cell_type": "markdown",
      "source": "View the first few rows."
    },
    {
      "metadata": {
        "_cell_guid": "9014b3c0-1a6a-4c26-8c66-0866c31941eb",
        "_uuid": "6fbd34cbcaf678395ba0a5a066a9abf960abe17f",
        "trusted": false,
        "collapsed": true
      },
      "cell_type": "code",
      "source": "df.head(3)",
      "execution_count": null,
      "outputs": []
    },
    {
      "metadata": {
        "_cell_guid": "5a0b1c7c-2fe5-4005-9def-08afd7518a4c",
        "_uuid": "d5c69892f2d0ab0999b26d3c3370dc6055a5e009"
      },
      "cell_type": "markdown",
      "source": "Let's make a count plot of the loan purpose, separated by the 'charged_off' value."
    },
    {
      "metadata": {
        "_cell_guid": "02f5b08a-faa7-4471-a2af-ceca3e5d3b67",
        "_uuid": "d7426bf0ba72d49c0dcf5aeaef19980413ccb6bb",
        "scrolled": true,
        "trusted": false,
        "collapsed": true
      },
      "cell_type": "code",
      "source": "plt.figure(figsize=(12,6), dpi=100)\nsns.countplot(y='purpose', hue='charged_off', data=df, orient='h')",
      "execution_count": null,
      "outputs": []
    },
    {
      "metadata": {
        "_cell_guid": "240c20e9-6336-47c6-9d92-69cc73433966",
        "_uuid": "fab8e8d284e011c9da9fedfa1a586a409f77ea0b"
      },
      "cell_type": "markdown",
      "source": "Looks like most of the charge-offs come from loans for debt consolidation or to pay off credit cards."
    },
    {
      "metadata": {
        "_cell_guid": "4b958608-1759-47e5-841f-6605dc5ed233",
        "_uuid": "4ed5e8ea7bbffd7938cc119fbde663480d763d0e"
      },
      "cell_type": "markdown",
      "source": "Let's make a similar plot, but with 'sub_grade' instead of 'purpose'."
    },
    {
      "metadata": {
        "_cell_guid": "d8c01435-3bff-405f-85c0-65c929912e48",
        "_uuid": "cb0938b6fb0578166eef9ecc15c05cd10130bfd5",
        "trusted": false,
        "collapsed": true
      },
      "cell_type": "code",
      "source": "plt.figure(figsize=(16,6), dpi=120)\nsns.countplot(x='sub_grade', hue='charged_off', data=df, order=sorted(df['sub_grade'].value_counts().index))",
      "execution_count": null,
      "outputs": []
    },
    {
      "metadata": {
        "_cell_guid": "e53dbddd-aff4-4d44-bc8e-a7637e953ab0",
        "_uuid": "cf7685607c32b9857f4fc0cce38c6feea215e2fe"
      },
      "cell_type": "markdown",
      "source": "There's a clear trend of higher probability of charge-off as the subgrade worsens. (A higher value is a worse subgrade.)"
    },
    {
      "metadata": {
        "_cell_guid": "89996216-39b5-42b6-aaf6-af717843f0dc",
        "_uuid": "0e513faba220e8b66e1a4468c61f99f2e362e2c2"
      },
      "cell_type": "markdown",
      "source": "Let's make a similar plot, but with 'term' instead of 'sub_grade'."
    },
    {
      "metadata": {
        "_cell_guid": "23d47bc0-8d57-4ade-a2c2-5d1a1cb3a538",
        "_uuid": "d524414c2b2c783a9b23e3b7147a3d925ef3b425",
        "trusted": false,
        "collapsed": true
      },
      "cell_type": "code",
      "source": "plt.figure(figsize=(4,4), dpi=90)\nsns.countplot(x='term', hue='charged_off', data=df)",
      "execution_count": null,
      "outputs": []
    },
    {
      "metadata": {
        "_cell_guid": "037ad31c-74b8-42fa-baf2-bf3dd5c2f955",
        "_uuid": "3a5a08102e6710ed10a910c66e10bc5df4bc5dba"
      },
      "cell_type": "markdown",
      "source": "Loans with a term of 60 months are much more likely to be charged off."
    },
    {
      "metadata": {
        "_cell_guid": "60f3bbe0-518a-4d5d-a0d6-50355d9c2ba8",
        "_uuid": "bf557e627d93a47d9e69e2157571de6915392917"
      },
      "cell_type": "markdown",
      "source": "Now let's compare the interest rate to the loan status using a kdeplot, which approximates the probability distribution of the data."
    },
    {
      "metadata": {
        "_cell_guid": "42a7fe60-efa9-4a09-8ccf-3c86fda017b0",
        "_uuid": "6672c522ccd0eac962d0045087f41e4c7284b454",
        "trusted": false,
        "collapsed": true
      },
      "cell_type": "code",
      "source": "plt.figure(figsize=(10,4), dpi=90)\nsns.kdeplot(df['int_rate'].loc[df['charged_off']==0], gridsize=500, label='charged_off = 0')\nsns.kdeplot(df['int_rate'].loc[df['charged_off']==1], gridsize=500, label='charged_off = 1')\nplt.xlabel('int_rate')\nplt.ylabel('density')",
      "execution_count": null,
      "outputs": []
    },
    {
      "metadata": {
        "_cell_guid": "1fd2a00f-0f95-481c-b9ff-d26526eb5f04",
        "_uuid": "321c4fb18ebd1bcf6689d7a5d3f23f80752bcfb3"
      },
      "cell_type": "markdown",
      "source": "Charged-off loans tend to have higher interest rates."
    },
    {
      "metadata": {
        "_cell_guid": "0708298c-18c9-4579-9f17-a21e2b76db4f",
        "_uuid": "50b61c252325f6170b4dd3eef39a973a05ea1577"
      },
      "cell_type": "markdown",
      "source": "Now let's compare the borrower's most recent FICO score (a credit score) to the loan status."
    },
    {
      "metadata": {
        "_cell_guid": "7b5e856b-0487-4b7a-8cd5-762ef95aed89",
        "_uuid": "8b38ce7a4cf7015752c9eb1bcfadd2d535ae0fda",
        "trusted": false,
        "collapsed": true
      },
      "cell_type": "code",
      "source": "plt.figure(figsize=(10,4), dpi=90)\nsns.kdeplot(df['last_fico_range_high'].loc[df['charged_off']==0], gridsize=500, label='charged_off = 0')\nsns.kdeplot(df['last_fico_range_high'].loc[df['charged_off']==1], gridsize=500, label='charged_off = 1')\nplt.xlabel('last_fico_range_high')\nplt.ylabel('density')",
      "execution_count": null,
      "outputs": []
    },
    {
      "metadata": {
        "_cell_guid": "c14e89b8-15e6-47f6-ab7a-b65a65331d0a",
        "_uuid": "1e1a8edad690d093dbc1a41d876aeb656f39ca90"
      },
      "cell_type": "markdown",
      "source": "Looks like charged-off loans tend to have much lower FICO scores."
    },
    {
      "metadata": {
        "_cell_guid": "7ef7bb4e-57b9-4d1a-801a-238a6478f04a",
        "_uuid": "791ef6f93303a736c78173439a45d52e612fb8ae"
      },
      "cell_type": "markdown",
      "source": "# Correlations with 'charged_off'\n<a id=\"6\"></a>"
    },
    {
      "metadata": {
        "_cell_guid": "4654e548-15dd-4684-9975-35e6bf1dbf49",
        "_uuid": "1fc5c890c62a5df68280233f5ee72841ac5a1fd8"
      },
      "cell_type": "markdown",
      "source": "By studying correlation coefficients, we can get an idea of which features correlate most strongly with 'charged_off'."
    },
    {
      "metadata": {
        "_cell_guid": "1346206c-dd33-4da3-be18-8b0af193d776",
        "_uuid": "cd60bea970881e3d32c9e11e1008814ec880b57c"
      },
      "cell_type": "markdown",
      "source": "## Create dummy variables\n<a id=\"6.1\"></a>"
    },
    {
      "metadata": {
        "_cell_guid": "d1c7c2b4-e8b1-4b48-b7aa-22471af3ff4d",
        "_uuid": "c1fe3100ebd47d159392795b8304d15ff82016fa"
      },
      "cell_type": "markdown",
      "source": "To study correlations with 'charged_off', we need to convert categorial features to dummy variables."
    },
    {
      "metadata": {
        "_cell_guid": "0985ba05-1127-476e-b08f-e27d013dc007",
        "_uuid": "8f27642db7a5b9ab489bc72922b42068bd992bf1",
        "trusted": false,
        "collapsed": true
      },
      "cell_type": "code",
      "source": "cat_feats = []\nfor col in df.columns:\n    if df[col].dtype == np.object:\n        cat_feats.append(col)\n\ncat_feats",
      "execution_count": null,
      "outputs": []
    },
    {
      "metadata": {
        "_cell_guid": "787e1bc7-accd-4b1a-9f57-6e23c517399b",
        "_uuid": "950a720893228a27b639dd8dacac4e9561f0daa7",
        "trusted": false,
        "collapsed": true
      },
      "cell_type": "code",
      "source": "df.shape",
      "execution_count": null,
      "outputs": []
    },
    {
      "metadata": {
        "_cell_guid": "52024d7a-f856-4b8b-ba68-0b0e4ca7f07c",
        "_uuid": "3bbb478c41375661a0c52899dc222bc9fe1c7023",
        "collapsed": true,
        "trusted": false
      },
      "cell_type": "code",
      "source": "df = pd.get_dummies(df, columns=cat_feats, drop_first=True)",
      "execution_count": null,
      "outputs": []
    },
    {
      "metadata": {
        "_cell_guid": "22cf7871-1850-4c2e-9786-9ebf1fad18ee",
        "_uuid": "9241e4b9c74cfadeb4c660da1aa68a073955ffbb",
        "trusted": false,
        "collapsed": true
      },
      "cell_type": "code",
      "source": "df.shape",
      "execution_count": null,
      "outputs": []
    },
    {
      "metadata": {
        "_cell_guid": "7ea13fa1-7c75-484f-86d3-3268a72f43ea",
        "_uuid": "12769431bbc57650cd3babc647b185fce8c140fd"
      },
      "cell_type": "markdown",
      "source": "We now have 105 features, all numerical. What does the dataframe look like after converting categorical features to dummy variables?"
    },
    {
      "metadata": {
        "_cell_guid": "1d88c5c8-8a56-4e7c-969e-61785d68d650",
        "_uuid": "dc6af80d337ca418f1b32f76e387b43eeef23997",
        "trusted": false,
        "collapsed": true
      },
      "cell_type": "code",
      "source": "df.head(3)",
      "execution_count": null,
      "outputs": []
    },
    {
      "metadata": {
        "_cell_guid": "96155414-caa0-423c-ba6e-36a52a3e8230",
        "_uuid": "1557b83c1fb58d8c81e1d80c9b167f6237c0161a"
      },
      "cell_type": "markdown",
      "source": "## Compute correlations with 'charged_off'\n<a id=\"6.2\"></a>"
    },
    {
      "metadata": {
        "_cell_guid": "a28c3119-48d8-4634-b9b7-7c3011209da4",
        "_uuid": "d50f2b8e120528c07b66967f86e385b0a2182642"
      },
      "cell_type": "markdown",
      "source": "Create the correlation matrix of all our data, then extract the 'charged_off' column. (Is there an easier way to compute correlations with only one variable?) Remove the entry for 'charged_off' (it's 1), and sort the features by their correlation coefficient with 'charged_off'."
    },
    {
      "metadata": {
        "_cell_guid": "71b3f7de-f51f-4905-9b46-4ed39309b3c0",
        "_uuid": "25b606ca8298b15c1d58ff14217bae1cdde7acf4",
        "trusted": false,
        "collapsed": true
      },
      "cell_type": "code",
      "source": "corr_charged_off = df.corr()['charged_off']",
      "execution_count": null,
      "outputs": []
    },
    {
      "metadata": {
        "_cell_guid": "dbe6acf7-5d63-401b-bf88-6058b5131bd2",
        "_uuid": "9357f82e7842e3203afa7acf5a9e939f50b37f3f",
        "collapsed": true,
        "trusted": false
      },
      "cell_type": "code",
      "source": "corr_charged_off.drop(labels='charged_off', inplace=True)\ncorr_charged_off = corr_charged_off.sort_values()",
      "execution_count": null,
      "outputs": []
    },
    {
      "metadata": {
        "_cell_guid": "74d2040d-d5fa-4b01-8f7f-1d2e0c9d197c",
        "_uuid": "114b45c77f1fe5a0d5aa00320a92d036779f1c97"
      },
      "cell_type": "markdown",
      "source": "Plot the correlation coefficients."
    },
    {
      "metadata": {
        "_cell_guid": "d0d701ce-90c7-4257-86e0-e53ad56cae1c",
        "_uuid": "2dd666cd68c1d324b37465859a5f973f5feb2944",
        "trusted": false,
        "collapsed": true
      },
      "cell_type": "code",
      "source": "plt.figure(figsize=(8,28), dpi=90)\nsns.barplot(y=corr_charged_off.index, x=corr_charged_off.values, orient='h')\nplt.title(\"Correlation with 'charged_off'\")\nplt.xlabel(\"Correlation coefficient with 'charged_off'\")\nxmax = np.abs(corr_charged_off).max()\nplt.xlim([-xmax, xmax])",
      "execution_count": null,
      "outputs": []
    },
    {
      "metadata": {
        "_cell_guid": "00cb67e4-8e3f-4297-933f-ee70b0137a18",
        "_uuid": "38e851aa88096fde989c0150aa25a663a4a033a7"
      },
      "cell_type": "markdown",
      "source": "**Things to note:** The borrower's most recent FICO scores are the features most negatively correlated with 'charged_off.' The debt-to-income ratio ('dti'), the number of payments on the loan ('term'), the interest rate ('int_rate'), and the subgrade ('sub_grade') are the features most positively correlated with 'charged_off'."
    },
    {
      "metadata": {
        "_cell_guid": "cf5fdca3-0028-43f7-894f-76bfc1e33a4a",
        "_uuid": "99854ef8dc13dfcb3a60c83c71bef79cfafe765b"
      },
      "cell_type": "markdown",
      "source": "# More Pre-processing\n<a id=\"7\"></a>"
    },
    {
      "metadata": {
        "_cell_guid": "3683a6b7-ab8c-4a76-af52-cbd06ed6c945",
        "_uuid": "55debb071bf182293a2ca6a26d689a8c65f5d51b"
      },
      "cell_type": "markdown",
      "source": "Let's remind ourselves how much data we have."
    },
    {
      "metadata": {
        "_cell_guid": "b030d637-d368-4964-8437-daab002396da",
        "_uuid": "a30981e08e6d7a368122b633288035e6d9d0bd85",
        "trusted": false,
        "collapsed": true
      },
      "cell_type": "code",
      "source": "df.shape",
      "execution_count": null,
      "outputs": []
    },
    {
      "metadata": {
        "_cell_guid": "e918b9dc-718a-4ca9-ba0f-bf292157f5cd",
        "_uuid": "d8ff68468793d640ecd1adf6a46d8c1b89040041"
      },
      "cell_type": "markdown",
      "source": "We have 814,986 samples and 105 features."
    },
    {
      "metadata": {
        "_cell_guid": "35ee020b-95d2-4cb3-9ade-a7cf08e9ace8",
        "_uuid": "266c4c677d0737fa3e28dbe271e8223467967ae0"
      },
      "cell_type": "markdown",
      "source": "## Train/test split\n<a id=\"7.1\"></a>"
    },
    {
      "metadata": {
        "_cell_guid": "73b60707-f995-4487-a799-7e7d2a6e5b5f",
        "_uuid": "4b81987b3bf09fa83c79e47d04aa1192ffea61a5",
        "collapsed": true,
        "trusted": false
      },
      "cell_type": "code",
      "source": "X = df.drop(labels=['charged_off'], axis=1) # Features\ny = df['charged_off'] # Target variable",
      "execution_count": null,
      "outputs": []
    },
    {
      "metadata": {
        "_cell_guid": "367d4fe7-e305-478c-b10a-b3279f9b58e9",
        "_uuid": "456be27a6cbb840501ba58bccacd8150c9c7bbd1",
        "collapsed": true,
        "trusted": false
      },
      "cell_type": "code",
      "source": "from sklearn.model_selection import train_test_split",
      "execution_count": null,
      "outputs": []
    },
    {
      "metadata": {
        "_cell_guid": "0616d433-213b-4a81-bfb2-e65d6ba5fb79",
        "_uuid": "6c8d9bd7443c621e8707f3d4b8fdeee75a503167"
      },
      "cell_type": "markdown",
      "source": "Let's do a 90/10 train/test split."
    },
    {
      "metadata": {
        "_cell_guid": "6b64a2bd-0785-404d-8e75-b82712f8ab6a",
        "_uuid": "c385aaf98736317f4d2971fba7170aab75a3ce9d",
        "collapsed": true,
        "trusted": false
      },
      "cell_type": "code",
      "source": "random_state = 12 # I chose this randomly, just to make the results fixed\nX_train, X_test, y_train, y_test = train_test_split(X, y, test_size=0.1, random_state=random_state)",
      "execution_count": null,
      "outputs": []
    },
    {
      "metadata": {
        "_cell_guid": "4d75c70c-4f7d-4c84-abab-cc22fe78ca04",
        "_uuid": "3eb671b052048ab6e3a161b773160151440bc077"
      },
      "cell_type": "markdown",
      "source": "## Imputation with mean substitution\n<a id=\"7.2\"></a>"
    },
    {
      "metadata": {
        "_cell_guid": "ef289f73-fa8e-43ff-a739-52b39221be56",
        "_uuid": "11c157b0eb3cee2bd0dcd8d6ee72d99c757336b3"
      },
      "cell_type": "markdown",
      "source": "How complete is our training data?"
    },
    {
      "metadata": {
        "_cell_guid": "e2c1de55-63f7-4a88-a2d3-532fac855d39",
        "_uuid": "ef20d8e989c4cab1498c9eca8e26993d1002c808",
        "trusted": false,
        "collapsed": true
      },
      "cell_type": "code",
      "source": "pd.DataFrame((X_train.notnull().sum() / X_train.shape[0]).sort_values(), columns=['Fraction not null'])",
      "execution_count": null,
      "outputs": []
    },
    {
      "metadata": {
        "_cell_guid": "cc46fb54-6537-4dfd-8b25-26dc029cd921",
        "_uuid": "b03a222b3626e441ef356cc5e0f0b9cb25eb0e0b"
      },
      "cell_type": "markdown",
      "source": "The learning algorithms cannot have missing data. Perform mean substitution, using only the means of the training set to prevent test set leakage.\n\n**Note:** I don't know that this is the best way to handle missing data. Should some columns simply be dropped? Should we impute some other way? Should incomplete rows be dropped?"
    },
    {
      "metadata": {
        "_cell_guid": "6566134d-7bf8-4b74-9fa7-ffc66470f7c3",
        "_uuid": "851d2e8508f723a605e442ed71a5aa64bd62588c",
        "collapsed": true,
        "trusted": false
      },
      "cell_type": "code",
      "source": "from sklearn.preprocessing import Imputer",
      "execution_count": null,
      "outputs": []
    },
    {
      "metadata": {
        "_cell_guid": "118c6cb2-ffa7-4505-838f-475ff61f0fb9",
        "_uuid": "de03f263248639ac3f90c3721b82a29cae54431b",
        "collapsed": true,
        "trusted": false
      },
      "cell_type": "code",
      "source": "imputer = Imputer().fit(X_train)",
      "execution_count": null,
      "outputs": []
    },
    {
      "metadata": {
        "_cell_guid": "e4c2e660-e592-4871-b7b0-cae08e0e40af",
        "_uuid": "db1b87cad194575b09a6ef7c8474736ef4250554",
        "collapsed": true,
        "trusted": false
      },
      "cell_type": "code",
      "source": "X_train = pd.DataFrame(imputer.transform(X_train), columns=X_train.columns)\nX_test  = pd.DataFrame(imputer.transform(X_test),  columns=X_test.columns)",
      "execution_count": null,
      "outputs": []
    },
    {
      "metadata": {
        "_cell_guid": "d241b358-7f0b-44d3-86cd-d2d98d5dbf9e",
        "_uuid": "e91e0c1eb2783fa8701c4c1e45b01743c6d5f934"
      },
      "cell_type": "markdown",
      "source": "## Standardize the data\n<a id=\"7.3\"></a>"
    },
    {
      "metadata": {
        "_cell_guid": "55f362d4-9e8a-43c7-a17d-48908fb1c66b",
        "_uuid": "a23991734ea1e185d9dab2f67f5098c9c515e93a"
      },
      "cell_type": "markdown",
      "source": "Shift and scale each column individually so that it has zero mean and unit variance. This will help the learning algorithms.\n\nTrain the scaler using only the training data to prevent test set leakage."
    },
    {
      "metadata": {
        "_cell_guid": "e3811aa0-2b4e-4c07-8e81-f7e3a4b78162",
        "_uuid": "595deb455cbc792529daf83a78a70b9793dfd411",
        "collapsed": true,
        "trusted": false
      },
      "cell_type": "code",
      "source": "from sklearn.preprocessing import StandardScaler",
      "execution_count": null,
      "outputs": []
    },
    {
      "metadata": {
        "_cell_guid": "543d7769-a4fb-4fdd-9be3-648c12d4977a",
        "_uuid": "2fbc17402c0a863c1058859be0560b52b327bdc9",
        "collapsed": true,
        "trusted": false
      },
      "cell_type": "code",
      "source": "scaler = StandardScaler().fit(X_train)",
      "execution_count": null,
      "outputs": []
    },
    {
      "metadata": {
        "_cell_guid": "5f86cfff-0b10-4ff4-b136-0fb51edf50af",
        "_uuid": "f73bd45195b53ff5edec0b13bf9db8b133431ac1",
        "collapsed": true,
        "trusted": false
      },
      "cell_type": "code",
      "source": "X_train = pd.DataFrame(scaler.transform(X_train), columns=X_train.columns)\nX_test  = pd.DataFrame(scaler.transform(X_test),  columns=X_test.columns)",
      "execution_count": null,
      "outputs": []
    },
    {
      "metadata": {
        "_cell_guid": "52309b77-d97d-412a-b20f-da81f44a486f",
        "_uuid": "bbabe5a3810756b27f10e862f3d7ea34a21a20f8"
      },
      "cell_type": "markdown",
      "source": "# Predictive Modeling: SGDClassifier\n<a id=\"8\"></a>"
    },
    {
      "metadata": {
        "_cell_guid": "fc774c42-47e6-427a-ac9c-a4bdbf7b5837",
        "_uuid": "39ac0b9f118cbb5b11d6749f2ec3f8aa3f97ac6d"
      },
      "cell_type": "markdown",
      "source": "I decided to use a SGD Classifier by looking at the machine learning flowchart here: http://scikit-learn.org/stable/tutorial/machine_learning_map/index.html.\n\nThe SGDClassifier estimator implements linear classifiers (SVM, logistic regression, a.o.) with SGD training. The linear classifier is chosen by the 'loss' hyperparameter."
    },
    {
      "metadata": {
        "_cell_guid": "81e2ef8e-37af-44e5-a802-8ea4b028c5f8",
        "_uuid": "1799e7f0f05fed4064007a5cec36869eb3a43ba9",
        "collapsed": true,
        "trusted": false
      },
      "cell_type": "code",
      "source": "from sklearn.linear_model import SGDClassifier\nfrom sklearn.model_selection import GridSearchCV\nfrom sklearn.metrics import matthews_corrcoef, make_scorer",
      "execution_count": null,
      "outputs": []
    },
    {
      "metadata": {
        "_cell_guid": "04560103-0efe-4ace-831b-be73ece4fe7b",
        "_uuid": "4476709021bd10a8e39d8f7e99e8fdf4adcb6970"
      },
      "cell_type": "markdown",
      "source": "## Train with grid search\n<a id=\"8.1\"></a>"
    },
    {
      "metadata": {
        "_cell_guid": "b7460548-ee72-4f66-b921-2ea68bd5db24",
        "_uuid": "edd6b1de60cf7b9da054d0259ea83e8b4e4e8719"
      },
      "cell_type": "markdown",
      "source": "We're going to search through many hyperparameters of SGDClassifier using an exhaustive grid search with 3-fold cross-validation, implemented in GridSearchCV.\n\nHere are the hyperparameters that we'll try:"
    },
    {
      "metadata": {
        "_cell_guid": "7de32018-fcad-45b2-b770-3c29b075d3d5",
        "_uuid": "1508be5b632d730bcd308afd299aa7e4d03906b2",
        "collapsed": true,
        "trusted": false
      },
      "cell_type": "code",
      "source": "param_grid = [{'loss': ['hinge'],\n               'alpha': [10.0**k for k in range(-3,4)],\n               'max_iter': [1000],\n               'tol': [1e-3],\n               'random_state': [random_state],\n               'class_weight': [None, 'balanced'],\n               'warm_start': [True]},\n              {'loss': ['log'],\n               'penalty': ['l2', 'l1'],\n               'alpha': [10.0**k for k in range(-3,4)],\n               'max_iter': [1000],\n               'tol': [1e-3],\n               'random_state': [random_state],\n               'warm_start': [True]}]",
      "execution_count": null,
      "outputs": []
    },
    {
      "metadata": {
        "_cell_guid": "9fb73eb0-d7cc-4335-bdd0-e4297f358732",
        "_uuid": "2de3c9d4458c1e18531be4b3271ce83895bb9ad2"
      },
      "cell_type": "markdown",
      "source": "Instantiate the grid estimator. We'll use the Matthews correlation coefficient as our scoring metric."
    },
    {
      "metadata": {
        "_cell_guid": "c016e122-86dd-4c96-88c2-a901fe48cf70",
        "_uuid": "8144ec0a936a93a1fbf5e2dd00cd0082dbc40782",
        "collapsed": true,
        "trusted": false
      },
      "cell_type": "code",
      "source": "grid = GridSearchCV(estimator=SGDClassifier(), param_grid=param_grid, scoring=make_scorer(matthews_corrcoef), \nn_jobs=1, pre_dispatch=1, verbose=1, return_train_score=True)",
      "execution_count": null,
      "outputs": []
    },
    {
      "metadata": {
        "_cell_guid": "a486c903-f33c-41a2-89bc-ad1b0d3e1fb3",
        "_uuid": "536169e18eb2d6428b9abb8029705e6fd54c8390"
      },
      "cell_type": "markdown",
      "source": "Run the grid search (this could take some time)."
    },
    {
      "metadata": {
        "_cell_guid": "b907b40c-402d-4d4a-a919-e4b63e0a832d",
        "_uuid": "76e6c2e828e670a1494d4d4fbec01f232f067512",
        "trusted": false,
        "collapsed": true
      },
      "cell_type": "code",
      "source": "grid.fit(X_train, y_train)",
      "execution_count": null,
      "outputs": []
    },
    {
      "metadata": {
        "_cell_guid": "67901f97-33dc-4ff0-8968-127eda9da452",
        "_uuid": "a6829cf727f13a804180637da8cfc8477754b8c6"
      },
      "cell_type": "markdown",
      "source": "Hyperparameters that gave the best results on the hold out data:"
    },
    {
      "metadata": {
        "_cell_guid": "14983fb4-d45a-431d-9c03-20d737862cc7",
        "_uuid": "fffc4de31000514e733ccd7c8f0aac9306226644",
        "trusted": false,
        "collapsed": true
      },
      "cell_type": "code",
      "source": "grid.best_params_",
      "execution_count": null,
      "outputs": []
    },
    {
      "metadata": {
        "_cell_guid": "61ffd538-9579-4638-8156-bcb3f29b39ab",
        "_uuid": "f3b87036a9ae078b8a9cc36ce5b47f734059358c"
      },
      "cell_type": "markdown",
      "source": "## Test set evaluation\n<a id=\"8.2\"></a>"
    },
    {
      "metadata": {
        "_cell_guid": "805075c0-3f11-4705-bb1a-cafb980c8489",
        "_uuid": "c3f7ceb052ba43278cb6fed62561d0157399e6d4",
        "collapsed": true,
        "trusted": false
      },
      "cell_type": "code",
      "source": "y_pred = grid.predict(X_test)",
      "execution_count": null,
      "outputs": []
    },
    {
      "metadata": {
        "_cell_guid": "36a40084-53fb-4d03-bafa-a9a0fe71cebf",
        "_uuid": "11f5805021724538a160c09d7de182de538e008c",
        "collapsed": true,
        "trusted": false
      },
      "cell_type": "code",
      "source": "from sklearn.metrics import confusion_matrix, classification_report, accuracy_score",
      "execution_count": null,
      "outputs": []
    },
    {
      "metadata": {
        "_cell_guid": "95afbca0-6fb0-4f4e-8ddf-00974fbe41c5",
        "_uuid": "29c5849f4df14fe275f997f678d317d752608b0d",
        "collapsed": true,
        "trusted": false
      },
      "cell_type": "code",
      "source": "# Display evaluation metrics\ndef my_eval(y_test, y_pred):\n    print('Confusion matrix')\n    print(confusion_matrix(y_test, y_pred),'\\n')\n    print('Classification report')\n    print(classification_report(y_test, y_pred, digits=3))\n    print('MCC = ',matthews_corrcoef(y_test, y_pred))\n    print('Accuracy = ',accuracy_score(y_test, y_pred))",
      "execution_count": null,
      "outputs": []
    },
    {
      "metadata": {
        "_cell_guid": "c5a3e720-328c-4818-bb8d-e78bf0159485",
        "_uuid": "df9b1df55398c7f8fc44ebdb095890c6c0f64ac0",
        "trusted": false,
        "collapsed": true
      },
      "cell_type": "code",
      "source": "my_eval(y_test, y_pred)",
      "execution_count": null,
      "outputs": []
    }
  ],
  "metadata": {
    "kernelspec": {
      "display_name": "Python 3",
      "language": "python",
      "name": "python3"
    },
    "language_info": {
      "name": "python",
      "codemirror_mode": {
        "name": "ipython",
        "version": 3
      },
      "nbconvert_exporter": "python",
      "file_extension": ".py",
      "mimetype": "text/x-python",
      "pygments_lexer": "ipython3",
      "version": "3.6.4"
    }
  },
  "nbformat": 4,
  "nbformat_minor": 1
}