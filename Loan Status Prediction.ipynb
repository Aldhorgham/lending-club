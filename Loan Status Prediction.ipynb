{
 "cells": [
  {
   "cell_type": "markdown",
   "metadata": {},
   "source": [
    "# Loan Status Prediction: Lending Club, 2007-2017"
   ]
  },
  {
   "cell_type": "markdown",
   "metadata": {},
   "source": [
    "## Table of Contents"
   ]
  },
  {
   "cell_type": "markdown",
   "metadata": {},
   "source": [
    "1. [Summary](#1)\n",
    "    1. [Spoilers](#1.1)\n",
    "2. [Import the Data](#2)\n",
    "3. [Target Variable](#3)\n",
    "4. [Feature Selection](#4)\n",
    "    1. [Drop columns that have only one distinct value](#4.1)\n",
    "    2. [Remove columns that have < 2% data](#4.2)\n",
    "    3. [Remove irrelevant features](#4.3)\n",
    "    4. [Remove features that could make predictions too easy](#4.4)\n",
    "    5. [Inspect non-numerical features](#4.5)\n",
    "5. [Exploratory Data Analysis](#5)\n",
    "6. [Correlations with 'charged_off'](#6)\n",
    "    1. [Create dummy variables](#6.1)\n",
    "    2. [Compute correlations with 'charged_off'](#6.2)\n",
    "7. [More Pre-processing](#7)\n",
    "    1. [Train/test split](#7.1)\n",
    "    2. [Imputation with mean substitution](#7.2)\n",
    "    3. [Standardize the data](#7.3)\n",
    "8. [Predictive Modeling: SGDClassifier](#8)\n",
    "    1. [Train with grid search](#8.1)\n",
    "    2. [Test set evaluation](#8.2)"
   ]
  },
  {
   "cell_type": "markdown",
   "metadata": {},
   "source": [
    "# Summary\n",
    "<a id=\"1\"></a>"
   ]
  },
  {
   "cell_type": "markdown",
   "metadata": {},
   "source": [
    "[Data source](https://www.kaggle.com/wordsforthewise/lending-club)\n",
    "\n",
    "The goal of this project is to predict whether a loan will be fully paid or charged off. We'll remove some features that would make this prediction too easy, such as the total payments received on the loan to date.\n",
    "\n",
    "This is my first kernel on Kaggle. I would appreciate any constructive feedback!"
   ]
  },
  {
   "cell_type": "markdown",
   "metadata": {},
   "source": [
    "## Spoilers\n",
    "<a id=\"1.1\"></a>"
   ]
  },
  {
   "cell_type": "markdown",
   "metadata": {},
   "source": [
    "By far the most useful features for predicting whether a loan will be paid off are 'last_fico_range_low' and 'last_fico_range_high', which hold the most recent credit score of the borrower.\n",
    "\n",
    "We will delete features that could make the prediction too easy, or trivial.\n",
    "\n",
    "We will train a linear classifier with stochastic gradient descent, using around 800,000 samples and about 100 features. The resulting model has a Matthews correlation coefficient (MCC) of around 0.7, which indicates (informally) that the model is 70% of the way to a perfect predictor."
   ]
  },
  {
   "cell_type": "markdown",
   "metadata": {},
   "source": [
    "# Import the Data\n",
    "<a id=\"2\"></a>"
   ]
  },
  {
   "cell_type": "markdown",
   "metadata": {},
   "source": [
    "Import basic libraries."
   ]
  },
  {
   "cell_type": "code",
   "execution_count": 1,
   "metadata": {
    "collapsed": true
   },
   "outputs": [],
   "source": [
    "import numpy as np\n",
    "import pandas as pd"
   ]
  },
  {
   "cell_type": "markdown",
   "metadata": {},
   "source": [
    "Change pandas print options so we can print all desired rows/columns without truncation."
   ]
  },
  {
   "cell_type": "code",
   "execution_count": 2,
   "metadata": {
    "collapsed": true
   },
   "outputs": [],
   "source": [
    "pd.set_option('display.max_rows', None)\n",
    "pd.set_option('display.max_columns', None)"
   ]
  },
  {
   "cell_type": "markdown",
   "metadata": {},
   "source": [
    "Read in the data."
   ]
  },
  {
   "cell_type": "code",
   "execution_count": 3,
   "metadata": {
    "collapsed": true
   },
   "outputs": [],
   "source": [
    "df = pd.read_csv('accepted_2007_to_2017Q3.csv.gz', compression='gzip', low_memory=False)\n",
    "# low_memory=False prevents mixed data types in the DataFrame"
   ]
  },
  {
   "cell_type": "markdown",
   "metadata": {},
   "source": [
    "Check basic dataframe info."
   ]
  },
  {
   "cell_type": "code",
   "execution_count": 4,
   "metadata": {},
   "outputs": [
    {
     "name": "stdout",
     "output_type": "stream",
     "text": [
      "<class 'pandas.core.frame.DataFrame'>\n",
      "RangeIndex: 1646801 entries, 0 to 1646800\n",
      "Columns: 150 entries, id to settlement_term\n",
      "dtypes: float64(113), object(37)\n",
      "memory usage: 1.8+ GB\n"
     ]
    }
   ],
   "source": [
    "df.info()"
   ]
  },
  {
   "cell_type": "markdown",
   "metadata": {},
   "source": [
    "Peek at the first few rows of the data."
   ]
  },
  {
   "cell_type": "code",
   "execution_count": 5,
   "metadata": {},
   "outputs": [
    {
     "data": {
      "text/html": [
       "<div>\n",
       "<style scoped>\n",
       "    .dataframe tbody tr th:only-of-type {\n",
       "        vertical-align: middle;\n",
       "    }\n",
       "\n",
       "    .dataframe tbody tr th {\n",
       "        vertical-align: top;\n",
       "    }\n",
       "\n",
       "    .dataframe thead th {\n",
       "        text-align: right;\n",
       "    }\n",
       "</style>\n",
       "<table border=\"1\" class=\"dataframe\">\n",
       "  <thead>\n",
       "    <tr style=\"text-align: right;\">\n",
       "      <th></th>\n",
       "      <th>id</th>\n",
       "      <th>member_id</th>\n",
       "      <th>loan_amnt</th>\n",
       "      <th>funded_amnt</th>\n",
       "      <th>funded_amnt_inv</th>\n",
       "      <th>term</th>\n",
       "      <th>int_rate</th>\n",
       "      <th>installment</th>\n",
       "      <th>grade</th>\n",
       "      <th>sub_grade</th>\n",
       "      <th>emp_title</th>\n",
       "      <th>emp_length</th>\n",
       "      <th>home_ownership</th>\n",
       "      <th>annual_inc</th>\n",
       "      <th>verification_status</th>\n",
       "      <th>issue_d</th>\n",
       "      <th>loan_status</th>\n",
       "      <th>pymnt_plan</th>\n",
       "      <th>desc</th>\n",
       "      <th>purpose</th>\n",
       "      <th>title</th>\n",
       "      <th>zip_code</th>\n",
       "      <th>addr_state</th>\n",
       "      <th>dti</th>\n",
       "      <th>delinq_2yrs</th>\n",
       "      <th>earliest_cr_line</th>\n",
       "      <th>fico_range_low</th>\n",
       "      <th>fico_range_high</th>\n",
       "      <th>inq_last_6mths</th>\n",
       "      <th>mths_since_last_delinq</th>\n",
       "      <th>mths_since_last_record</th>\n",
       "      <th>open_acc</th>\n",
       "      <th>pub_rec</th>\n",
       "      <th>revol_bal</th>\n",
       "      <th>revol_util</th>\n",
       "      <th>total_acc</th>\n",
       "      <th>initial_list_status</th>\n",
       "      <th>out_prncp</th>\n",
       "      <th>out_prncp_inv</th>\n",
       "      <th>total_pymnt</th>\n",
       "      <th>total_pymnt_inv</th>\n",
       "      <th>total_rec_prncp</th>\n",
       "      <th>total_rec_int</th>\n",
       "      <th>total_rec_late_fee</th>\n",
       "      <th>recoveries</th>\n",
       "      <th>collection_recovery_fee</th>\n",
       "      <th>last_pymnt_d</th>\n",
       "      <th>last_pymnt_amnt</th>\n",
       "      <th>next_pymnt_d</th>\n",
       "      <th>last_credit_pull_d</th>\n",
       "      <th>last_fico_range_high</th>\n",
       "      <th>last_fico_range_low</th>\n",
       "      <th>collections_12_mths_ex_med</th>\n",
       "      <th>mths_since_last_major_derog</th>\n",
       "      <th>policy_code</th>\n",
       "      <th>application_type</th>\n",
       "      <th>annual_inc_joint</th>\n",
       "      <th>dti_joint</th>\n",
       "      <th>verification_status_joint</th>\n",
       "      <th>acc_now_delinq</th>\n",
       "      <th>tot_coll_amt</th>\n",
       "      <th>tot_cur_bal</th>\n",
       "      <th>open_acc_6m</th>\n",
       "      <th>open_act_il</th>\n",
       "      <th>open_il_12m</th>\n",
       "      <th>open_il_24m</th>\n",
       "      <th>mths_since_rcnt_il</th>\n",
       "      <th>total_bal_il</th>\n",
       "      <th>il_util</th>\n",
       "      <th>open_rv_12m</th>\n",
       "      <th>open_rv_24m</th>\n",
       "      <th>max_bal_bc</th>\n",
       "      <th>all_util</th>\n",
       "      <th>total_rev_hi_lim</th>\n",
       "      <th>inq_fi</th>\n",
       "      <th>total_cu_tl</th>\n",
       "      <th>inq_last_12m</th>\n",
       "      <th>acc_open_past_24mths</th>\n",
       "      <th>avg_cur_bal</th>\n",
       "      <th>bc_open_to_buy</th>\n",
       "      <th>bc_util</th>\n",
       "      <th>chargeoff_within_12_mths</th>\n",
       "      <th>delinq_amnt</th>\n",
       "      <th>mo_sin_old_il_acct</th>\n",
       "      <th>mo_sin_old_rev_tl_op</th>\n",
       "      <th>mo_sin_rcnt_rev_tl_op</th>\n",
       "      <th>mo_sin_rcnt_tl</th>\n",
       "      <th>mort_acc</th>\n",
       "      <th>mths_since_recent_bc</th>\n",
       "      <th>mths_since_recent_bc_dlq</th>\n",
       "      <th>mths_since_recent_inq</th>\n",
       "      <th>mths_since_recent_revol_delinq</th>\n",
       "      <th>num_accts_ever_120_pd</th>\n",
       "      <th>num_actv_bc_tl</th>\n",
       "      <th>num_actv_rev_tl</th>\n",
       "      <th>num_bc_sats</th>\n",
       "      <th>num_bc_tl</th>\n",
       "      <th>num_il_tl</th>\n",
       "      <th>num_op_rev_tl</th>\n",
       "      <th>num_rev_accts</th>\n",
       "      <th>num_rev_tl_bal_gt_0</th>\n",
       "      <th>num_sats</th>\n",
       "      <th>num_tl_120dpd_2m</th>\n",
       "      <th>num_tl_30dpd</th>\n",
       "      <th>num_tl_90g_dpd_24m</th>\n",
       "      <th>num_tl_op_past_12m</th>\n",
       "      <th>pct_tl_nvr_dlq</th>\n",
       "      <th>percent_bc_gt_75</th>\n",
       "      <th>pub_rec_bankruptcies</th>\n",
       "      <th>tax_liens</th>\n",
       "      <th>tot_hi_cred_lim</th>\n",
       "      <th>total_bal_ex_mort</th>\n",
       "      <th>total_bc_limit</th>\n",
       "      <th>total_il_high_credit_limit</th>\n",
       "      <th>revol_bal_joint</th>\n",
       "      <th>sec_app_fico_range_low</th>\n",
       "      <th>sec_app_fico_range_high</th>\n",
       "      <th>sec_app_earliest_cr_line</th>\n",
       "      <th>sec_app_inq_last_6mths</th>\n",
       "      <th>sec_app_mort_acc</th>\n",
       "      <th>sec_app_open_acc</th>\n",
       "      <th>sec_app_revol_util</th>\n",
       "      <th>sec_app_open_act_il</th>\n",
       "      <th>sec_app_num_rev_accts</th>\n",
       "      <th>sec_app_chargeoff_within_12_mths</th>\n",
       "      <th>sec_app_collections_12_mths_ex_med</th>\n",
       "      <th>sec_app_mths_since_last_major_derog</th>\n",
       "      <th>hardship_flag</th>\n",
       "      <th>hardship_type</th>\n",
       "      <th>hardship_reason</th>\n",
       "      <th>hardship_status</th>\n",
       "      <th>deferral_term</th>\n",
       "      <th>hardship_amount</th>\n",
       "      <th>hardship_start_date</th>\n",
       "      <th>hardship_end_date</th>\n",
       "      <th>payment_plan_start_date</th>\n",
       "      <th>hardship_length</th>\n",
       "      <th>hardship_dpd</th>\n",
       "      <th>hardship_loan_status</th>\n",
       "      <th>orig_projected_additional_accrued_interest</th>\n",
       "      <th>hardship_payoff_balance_amount</th>\n",
       "      <th>hardship_last_payment_amount</th>\n",
       "      <th>disbursement_method</th>\n",
       "      <th>debt_settlement_flag</th>\n",
       "      <th>debt_settlement_flag_date</th>\n",
       "      <th>settlement_status</th>\n",
       "      <th>settlement_date</th>\n",
       "      <th>settlement_amount</th>\n",
       "      <th>settlement_percentage</th>\n",
       "      <th>settlement_term</th>\n",
       "    </tr>\n",
       "  </thead>\n",
       "  <tbody>\n",
       "    <tr>\n",
       "      <th>0</th>\n",
       "      <td>38098114</td>\n",
       "      <td>NaN</td>\n",
       "      <td>15000.0</td>\n",
       "      <td>15000.0</td>\n",
       "      <td>15000.0</td>\n",
       "      <td>60 months</td>\n",
       "      <td>12.39</td>\n",
       "      <td>336.64</td>\n",
       "      <td>C</td>\n",
       "      <td>C1</td>\n",
       "      <td>MANAGEMENT</td>\n",
       "      <td>10+ years</td>\n",
       "      <td>RENT</td>\n",
       "      <td>78000.0</td>\n",
       "      <td>Source Verified</td>\n",
       "      <td>Dec-2014</td>\n",
       "      <td>Fully Paid</td>\n",
       "      <td>n</td>\n",
       "      <td>NaN</td>\n",
       "      <td>debt_consolidation</td>\n",
       "      <td>Debt consolidation</td>\n",
       "      <td>235xx</td>\n",
       "      <td>VA</td>\n",
       "      <td>12.03</td>\n",
       "      <td>0.0</td>\n",
       "      <td>Aug-1994</td>\n",
       "      <td>750.0</td>\n",
       "      <td>754.0</td>\n",
       "      <td>0.0</td>\n",
       "      <td>NaN</td>\n",
       "      <td>NaN</td>\n",
       "      <td>6.0</td>\n",
       "      <td>0.0</td>\n",
       "      <td>138008.0</td>\n",
       "      <td>29.0</td>\n",
       "      <td>17.0</td>\n",
       "      <td>w</td>\n",
       "      <td>0.0</td>\n",
       "      <td>0.0</td>\n",
       "      <td>17392.37</td>\n",
       "      <td>17392.37</td>\n",
       "      <td>15000.00</td>\n",
       "      <td>2392.37</td>\n",
       "      <td>0.0</td>\n",
       "      <td>0.00</td>\n",
       "      <td>0.0000</td>\n",
       "      <td>Jun-2016</td>\n",
       "      <td>12017.81</td>\n",
       "      <td>NaN</td>\n",
       "      <td>Nov-2017</td>\n",
       "      <td>684.0</td>\n",
       "      <td>680.0</td>\n",
       "      <td>0.0</td>\n",
       "      <td>NaN</td>\n",
       "      <td>1.0</td>\n",
       "      <td>Individual</td>\n",
       "      <td>NaN</td>\n",
       "      <td>NaN</td>\n",
       "      <td>NaN</td>\n",
       "      <td>0.0</td>\n",
       "      <td>0.0</td>\n",
       "      <td>149140.0</td>\n",
       "      <td>NaN</td>\n",
       "      <td>NaN</td>\n",
       "      <td>NaN</td>\n",
       "      <td>NaN</td>\n",
       "      <td>NaN</td>\n",
       "      <td>NaN</td>\n",
       "      <td>NaN</td>\n",
       "      <td>NaN</td>\n",
       "      <td>NaN</td>\n",
       "      <td>NaN</td>\n",
       "      <td>NaN</td>\n",
       "      <td>184500.0</td>\n",
       "      <td>NaN</td>\n",
       "      <td>NaN</td>\n",
       "      <td>NaN</td>\n",
       "      <td>5.0</td>\n",
       "      <td>29828.0</td>\n",
       "      <td>9525.0</td>\n",
       "      <td>4.7</td>\n",
       "      <td>0.0</td>\n",
       "      <td>0.0</td>\n",
       "      <td>103.0</td>\n",
       "      <td>244.0</td>\n",
       "      <td>1.0</td>\n",
       "      <td>1.0</td>\n",
       "      <td>0.0</td>\n",
       "      <td>47.0</td>\n",
       "      <td>NaN</td>\n",
       "      <td>NaN</td>\n",
       "      <td>NaN</td>\n",
       "      <td>0.0</td>\n",
       "      <td>1.0</td>\n",
       "      <td>4.0</td>\n",
       "      <td>1.0</td>\n",
       "      <td>2.0</td>\n",
       "      <td>8.0</td>\n",
       "      <td>5.0</td>\n",
       "      <td>9.0</td>\n",
       "      <td>4.0</td>\n",
       "      <td>6.0</td>\n",
       "      <td>0.0</td>\n",
       "      <td>0.0</td>\n",
       "      <td>0.0</td>\n",
       "      <td>4.0</td>\n",
       "      <td>100.0</td>\n",
       "      <td>0.0</td>\n",
       "      <td>0.0</td>\n",
       "      <td>0.0</td>\n",
       "      <td>196500.0</td>\n",
       "      <td>149140.0</td>\n",
       "      <td>10000.0</td>\n",
       "      <td>12000.0</td>\n",
       "      <td>NaN</td>\n",
       "      <td>NaN</td>\n",
       "      <td>NaN</td>\n",
       "      <td>NaN</td>\n",
       "      <td>NaN</td>\n",
       "      <td>NaN</td>\n",
       "      <td>NaN</td>\n",
       "      <td>NaN</td>\n",
       "      <td>NaN</td>\n",
       "      <td>NaN</td>\n",
       "      <td>NaN</td>\n",
       "      <td>NaN</td>\n",
       "      <td>NaN</td>\n",
       "      <td>N</td>\n",
       "      <td>NaN</td>\n",
       "      <td>NaN</td>\n",
       "      <td>NaN</td>\n",
       "      <td>NaN</td>\n",
       "      <td>NaN</td>\n",
       "      <td>NaN</td>\n",
       "      <td>NaN</td>\n",
       "      <td>NaN</td>\n",
       "      <td>NaN</td>\n",
       "      <td>NaN</td>\n",
       "      <td>NaN</td>\n",
       "      <td>NaN</td>\n",
       "      <td>NaN</td>\n",
       "      <td>NaN</td>\n",
       "      <td>Cash</td>\n",
       "      <td>N</td>\n",
       "      <td>NaN</td>\n",
       "      <td>NaN</td>\n",
       "      <td>NaN</td>\n",
       "      <td>NaN</td>\n",
       "      <td>NaN</td>\n",
       "      <td>NaN</td>\n",
       "    </tr>\n",
       "    <tr>\n",
       "      <th>1</th>\n",
       "      <td>36805548</td>\n",
       "      <td>NaN</td>\n",
       "      <td>10400.0</td>\n",
       "      <td>10400.0</td>\n",
       "      <td>10400.0</td>\n",
       "      <td>36 months</td>\n",
       "      <td>6.99</td>\n",
       "      <td>321.08</td>\n",
       "      <td>A</td>\n",
       "      <td>A3</td>\n",
       "      <td>Truck Driver Delivery Personel</td>\n",
       "      <td>8 years</td>\n",
       "      <td>MORTGAGE</td>\n",
       "      <td>58000.0</td>\n",
       "      <td>Not Verified</td>\n",
       "      <td>Dec-2014</td>\n",
       "      <td>Charged Off</td>\n",
       "      <td>n</td>\n",
       "      <td>NaN</td>\n",
       "      <td>credit_card</td>\n",
       "      <td>Credit card refinancing</td>\n",
       "      <td>937xx</td>\n",
       "      <td>CA</td>\n",
       "      <td>14.92</td>\n",
       "      <td>0.0</td>\n",
       "      <td>Sep-1989</td>\n",
       "      <td>710.0</td>\n",
       "      <td>714.0</td>\n",
       "      <td>2.0</td>\n",
       "      <td>42.0</td>\n",
       "      <td>NaN</td>\n",
       "      <td>17.0</td>\n",
       "      <td>0.0</td>\n",
       "      <td>6133.0</td>\n",
       "      <td>31.6</td>\n",
       "      <td>36.0</td>\n",
       "      <td>w</td>\n",
       "      <td>0.0</td>\n",
       "      <td>0.0</td>\n",
       "      <td>6611.69</td>\n",
       "      <td>6611.69</td>\n",
       "      <td>5217.75</td>\n",
       "      <td>872.67</td>\n",
       "      <td>0.0</td>\n",
       "      <td>521.27</td>\n",
       "      <td>93.8286</td>\n",
       "      <td>Aug-2016</td>\n",
       "      <td>321.08</td>\n",
       "      <td>NaN</td>\n",
       "      <td>Feb-2017</td>\n",
       "      <td>564.0</td>\n",
       "      <td>560.0</td>\n",
       "      <td>0.0</td>\n",
       "      <td>59.0</td>\n",
       "      <td>1.0</td>\n",
       "      <td>Individual</td>\n",
       "      <td>NaN</td>\n",
       "      <td>NaN</td>\n",
       "      <td>NaN</td>\n",
       "      <td>0.0</td>\n",
       "      <td>0.0</td>\n",
       "      <td>162110.0</td>\n",
       "      <td>NaN</td>\n",
       "      <td>NaN</td>\n",
       "      <td>NaN</td>\n",
       "      <td>NaN</td>\n",
       "      <td>NaN</td>\n",
       "      <td>NaN</td>\n",
       "      <td>NaN</td>\n",
       "      <td>NaN</td>\n",
       "      <td>NaN</td>\n",
       "      <td>NaN</td>\n",
       "      <td>NaN</td>\n",
       "      <td>19400.0</td>\n",
       "      <td>NaN</td>\n",
       "      <td>NaN</td>\n",
       "      <td>NaN</td>\n",
       "      <td>7.0</td>\n",
       "      <td>9536.0</td>\n",
       "      <td>7599.0</td>\n",
       "      <td>41.5</td>\n",
       "      <td>0.0</td>\n",
       "      <td>0.0</td>\n",
       "      <td>76.0</td>\n",
       "      <td>290.0</td>\n",
       "      <td>1.0</td>\n",
       "      <td>1.0</td>\n",
       "      <td>1.0</td>\n",
       "      <td>5.0</td>\n",
       "      <td>42.0</td>\n",
       "      <td>1.0</td>\n",
       "      <td>42.0</td>\n",
       "      <td>4.0</td>\n",
       "      <td>6.0</td>\n",
       "      <td>9.0</td>\n",
       "      <td>7.0</td>\n",
       "      <td>18.0</td>\n",
       "      <td>2.0</td>\n",
       "      <td>14.0</td>\n",
       "      <td>32.0</td>\n",
       "      <td>9.0</td>\n",
       "      <td>17.0</td>\n",
       "      <td>0.0</td>\n",
       "      <td>0.0</td>\n",
       "      <td>0.0</td>\n",
       "      <td>4.0</td>\n",
       "      <td>83.3</td>\n",
       "      <td>14.3</td>\n",
       "      <td>0.0</td>\n",
       "      <td>0.0</td>\n",
       "      <td>179407.0</td>\n",
       "      <td>15030.0</td>\n",
       "      <td>13000.0</td>\n",
       "      <td>11325.0</td>\n",
       "      <td>NaN</td>\n",
       "      <td>NaN</td>\n",
       "      <td>NaN</td>\n",
       "      <td>NaN</td>\n",
       "      <td>NaN</td>\n",
       "      <td>NaN</td>\n",
       "      <td>NaN</td>\n",
       "      <td>NaN</td>\n",
       "      <td>NaN</td>\n",
       "      <td>NaN</td>\n",
       "      <td>NaN</td>\n",
       "      <td>NaN</td>\n",
       "      <td>NaN</td>\n",
       "      <td>N</td>\n",
       "      <td>NaN</td>\n",
       "      <td>NaN</td>\n",
       "      <td>NaN</td>\n",
       "      <td>NaN</td>\n",
       "      <td>NaN</td>\n",
       "      <td>NaN</td>\n",
       "      <td>NaN</td>\n",
       "      <td>NaN</td>\n",
       "      <td>NaN</td>\n",
       "      <td>NaN</td>\n",
       "      <td>NaN</td>\n",
       "      <td>NaN</td>\n",
       "      <td>NaN</td>\n",
       "      <td>NaN</td>\n",
       "      <td>Cash</td>\n",
       "      <td>N</td>\n",
       "      <td>NaN</td>\n",
       "      <td>NaN</td>\n",
       "      <td>NaN</td>\n",
       "      <td>NaN</td>\n",
       "      <td>NaN</td>\n",
       "      <td>NaN</td>\n",
       "    </tr>\n",
       "    <tr>\n",
       "      <th>2</th>\n",
       "      <td>37842129</td>\n",
       "      <td>NaN</td>\n",
       "      <td>21425.0</td>\n",
       "      <td>21425.0</td>\n",
       "      <td>21425.0</td>\n",
       "      <td>60 months</td>\n",
       "      <td>15.59</td>\n",
       "      <td>516.36</td>\n",
       "      <td>D</td>\n",
       "      <td>D1</td>\n",
       "      <td>Programming Analysis Supervisor</td>\n",
       "      <td>6 years</td>\n",
       "      <td>RENT</td>\n",
       "      <td>63800.0</td>\n",
       "      <td>Source Verified</td>\n",
       "      <td>Dec-2014</td>\n",
       "      <td>Fully Paid</td>\n",
       "      <td>n</td>\n",
       "      <td>NaN</td>\n",
       "      <td>credit_card</td>\n",
       "      <td>Credit card refinancing</td>\n",
       "      <td>658xx</td>\n",
       "      <td>MO</td>\n",
       "      <td>18.49</td>\n",
       "      <td>0.0</td>\n",
       "      <td>Aug-2003</td>\n",
       "      <td>685.0</td>\n",
       "      <td>689.0</td>\n",
       "      <td>0.0</td>\n",
       "      <td>60.0</td>\n",
       "      <td>NaN</td>\n",
       "      <td>10.0</td>\n",
       "      <td>0.0</td>\n",
       "      <td>16374.0</td>\n",
       "      <td>76.2</td>\n",
       "      <td>35.0</td>\n",
       "      <td>w</td>\n",
       "      <td>0.0</td>\n",
       "      <td>0.0</td>\n",
       "      <td>25512.20</td>\n",
       "      <td>25512.20</td>\n",
       "      <td>21425.00</td>\n",
       "      <td>4087.20</td>\n",
       "      <td>0.0</td>\n",
       "      <td>0.00</td>\n",
       "      <td>0.0000</td>\n",
       "      <td>May-2016</td>\n",
       "      <td>17813.19</td>\n",
       "      <td>NaN</td>\n",
       "      <td>Dec-2017</td>\n",
       "      <td>704.0</td>\n",
       "      <td>700.0</td>\n",
       "      <td>0.0</td>\n",
       "      <td>74.0</td>\n",
       "      <td>1.0</td>\n",
       "      <td>Individual</td>\n",
       "      <td>NaN</td>\n",
       "      <td>NaN</td>\n",
       "      <td>NaN</td>\n",
       "      <td>0.0</td>\n",
       "      <td>0.0</td>\n",
       "      <td>42315.0</td>\n",
       "      <td>NaN</td>\n",
       "      <td>NaN</td>\n",
       "      <td>NaN</td>\n",
       "      <td>NaN</td>\n",
       "      <td>NaN</td>\n",
       "      <td>NaN</td>\n",
       "      <td>NaN</td>\n",
       "      <td>NaN</td>\n",
       "      <td>NaN</td>\n",
       "      <td>NaN</td>\n",
       "      <td>NaN</td>\n",
       "      <td>21500.0</td>\n",
       "      <td>NaN</td>\n",
       "      <td>NaN</td>\n",
       "      <td>NaN</td>\n",
       "      <td>4.0</td>\n",
       "      <td>4232.0</td>\n",
       "      <td>324.0</td>\n",
       "      <td>97.8</td>\n",
       "      <td>0.0</td>\n",
       "      <td>0.0</td>\n",
       "      <td>135.0</td>\n",
       "      <td>136.0</td>\n",
       "      <td>7.0</td>\n",
       "      <td>7.0</td>\n",
       "      <td>0.0</td>\n",
       "      <td>7.0</td>\n",
       "      <td>60.0</td>\n",
       "      <td>7.0</td>\n",
       "      <td>60.0</td>\n",
       "      <td>1.0</td>\n",
       "      <td>3.0</td>\n",
       "      <td>4.0</td>\n",
       "      <td>3.0</td>\n",
       "      <td>12.0</td>\n",
       "      <td>16.0</td>\n",
       "      <td>5.0</td>\n",
       "      <td>18.0</td>\n",
       "      <td>4.0</td>\n",
       "      <td>10.0</td>\n",
       "      <td>0.0</td>\n",
       "      <td>0.0</td>\n",
       "      <td>0.0</td>\n",
       "      <td>2.0</td>\n",
       "      <td>91.4</td>\n",
       "      <td>100.0</td>\n",
       "      <td>0.0</td>\n",
       "      <td>0.0</td>\n",
       "      <td>57073.0</td>\n",
       "      <td>42315.0</td>\n",
       "      <td>15000.0</td>\n",
       "      <td>35573.0</td>\n",
       "      <td>NaN</td>\n",
       "      <td>NaN</td>\n",
       "      <td>NaN</td>\n",
       "      <td>NaN</td>\n",
       "      <td>NaN</td>\n",
       "      <td>NaN</td>\n",
       "      <td>NaN</td>\n",
       "      <td>NaN</td>\n",
       "      <td>NaN</td>\n",
       "      <td>NaN</td>\n",
       "      <td>NaN</td>\n",
       "      <td>NaN</td>\n",
       "      <td>NaN</td>\n",
       "      <td>N</td>\n",
       "      <td>NaN</td>\n",
       "      <td>NaN</td>\n",
       "      <td>NaN</td>\n",
       "      <td>NaN</td>\n",
       "      <td>NaN</td>\n",
       "      <td>NaN</td>\n",
       "      <td>NaN</td>\n",
       "      <td>NaN</td>\n",
       "      <td>NaN</td>\n",
       "      <td>NaN</td>\n",
       "      <td>NaN</td>\n",
       "      <td>NaN</td>\n",
       "      <td>NaN</td>\n",
       "      <td>NaN</td>\n",
       "      <td>Cash</td>\n",
       "      <td>N</td>\n",
       "      <td>NaN</td>\n",
       "      <td>NaN</td>\n",
       "      <td>NaN</td>\n",
       "      <td>NaN</td>\n",
       "      <td>NaN</td>\n",
       "      <td>NaN</td>\n",
       "    </tr>\n",
       "  </tbody>\n",
       "</table>\n",
       "</div>"
      ],
      "text/plain": [
       "         id  member_id  loan_amnt  funded_amnt  funded_amnt_inv        term  \\\n",
       "0  38098114        NaN    15000.0      15000.0          15000.0   60 months   \n",
       "1  36805548        NaN    10400.0      10400.0          10400.0   36 months   \n",
       "2  37842129        NaN    21425.0      21425.0          21425.0   60 months   \n",
       "\n",
       "   int_rate  installment grade sub_grade                        emp_title  \\\n",
       "0     12.39       336.64     C        C1                       MANAGEMENT   \n",
       "1      6.99       321.08     A        A3   Truck Driver Delivery Personel   \n",
       "2     15.59       516.36     D        D1  Programming Analysis Supervisor   \n",
       "\n",
       "  emp_length home_ownership  annual_inc verification_status   issue_d  \\\n",
       "0  10+ years           RENT     78000.0     Source Verified  Dec-2014   \n",
       "1    8 years       MORTGAGE     58000.0        Not Verified  Dec-2014   \n",
       "2    6 years           RENT     63800.0     Source Verified  Dec-2014   \n",
       "\n",
       "   loan_status pymnt_plan desc             purpose                    title  \\\n",
       "0   Fully Paid          n  NaN  debt_consolidation       Debt consolidation   \n",
       "1  Charged Off          n  NaN         credit_card  Credit card refinancing   \n",
       "2   Fully Paid          n  NaN         credit_card  Credit card refinancing   \n",
       "\n",
       "  zip_code addr_state    dti  delinq_2yrs earliest_cr_line  fico_range_low  \\\n",
       "0    235xx         VA  12.03          0.0         Aug-1994           750.0   \n",
       "1    937xx         CA  14.92          0.0         Sep-1989           710.0   \n",
       "2    658xx         MO  18.49          0.0         Aug-2003           685.0   \n",
       "\n",
       "   fico_range_high  inq_last_6mths  mths_since_last_delinq  \\\n",
       "0            754.0             0.0                     NaN   \n",
       "1            714.0             2.0                    42.0   \n",
       "2            689.0             0.0                    60.0   \n",
       "\n",
       "   mths_since_last_record  open_acc  pub_rec  revol_bal  revol_util  \\\n",
       "0                     NaN       6.0      0.0   138008.0        29.0   \n",
       "1                     NaN      17.0      0.0     6133.0        31.6   \n",
       "2                     NaN      10.0      0.0    16374.0        76.2   \n",
       "\n",
       "   total_acc initial_list_status  out_prncp  out_prncp_inv  total_pymnt  \\\n",
       "0       17.0                   w        0.0            0.0     17392.37   \n",
       "1       36.0                   w        0.0            0.0      6611.69   \n",
       "2       35.0                   w        0.0            0.0     25512.20   \n",
       "\n",
       "   total_pymnt_inv  total_rec_prncp  total_rec_int  total_rec_late_fee  \\\n",
       "0         17392.37         15000.00        2392.37                 0.0   \n",
       "1          6611.69          5217.75         872.67                 0.0   \n",
       "2         25512.20         21425.00        4087.20                 0.0   \n",
       "\n",
       "   recoveries  collection_recovery_fee last_pymnt_d  last_pymnt_amnt  \\\n",
       "0        0.00                   0.0000     Jun-2016         12017.81   \n",
       "1      521.27                  93.8286     Aug-2016           321.08   \n",
       "2        0.00                   0.0000     May-2016         17813.19   \n",
       "\n",
       "  next_pymnt_d last_credit_pull_d  last_fico_range_high  last_fico_range_low  \\\n",
       "0          NaN           Nov-2017                 684.0                680.0   \n",
       "1          NaN           Feb-2017                 564.0                560.0   \n",
       "2          NaN           Dec-2017                 704.0                700.0   \n",
       "\n",
       "   collections_12_mths_ex_med  mths_since_last_major_derog  policy_code  \\\n",
       "0                         0.0                          NaN          1.0   \n",
       "1                         0.0                         59.0          1.0   \n",
       "2                         0.0                         74.0          1.0   \n",
       "\n",
       "  application_type  annual_inc_joint  dti_joint verification_status_joint  \\\n",
       "0       Individual               NaN        NaN                       NaN   \n",
       "1       Individual               NaN        NaN                       NaN   \n",
       "2       Individual               NaN        NaN                       NaN   \n",
       "\n",
       "   acc_now_delinq  tot_coll_amt  tot_cur_bal  open_acc_6m  open_act_il  \\\n",
       "0             0.0           0.0     149140.0          NaN          NaN   \n",
       "1             0.0           0.0     162110.0          NaN          NaN   \n",
       "2             0.0           0.0      42315.0          NaN          NaN   \n",
       "\n",
       "   open_il_12m  open_il_24m  mths_since_rcnt_il  total_bal_il  il_util  \\\n",
       "0          NaN          NaN                 NaN           NaN      NaN   \n",
       "1          NaN          NaN                 NaN           NaN      NaN   \n",
       "2          NaN          NaN                 NaN           NaN      NaN   \n",
       "\n",
       "   open_rv_12m  open_rv_24m  max_bal_bc  all_util  total_rev_hi_lim  inq_fi  \\\n",
       "0          NaN          NaN         NaN       NaN          184500.0     NaN   \n",
       "1          NaN          NaN         NaN       NaN           19400.0     NaN   \n",
       "2          NaN          NaN         NaN       NaN           21500.0     NaN   \n",
       "\n",
       "   total_cu_tl  inq_last_12m  acc_open_past_24mths  avg_cur_bal  \\\n",
       "0          NaN           NaN                   5.0      29828.0   \n",
       "1          NaN           NaN                   7.0       9536.0   \n",
       "2          NaN           NaN                   4.0       4232.0   \n",
       "\n",
       "   bc_open_to_buy  bc_util  chargeoff_within_12_mths  delinq_amnt  \\\n",
       "0          9525.0      4.7                       0.0          0.0   \n",
       "1          7599.0     41.5                       0.0          0.0   \n",
       "2           324.0     97.8                       0.0          0.0   \n",
       "\n",
       "   mo_sin_old_il_acct  mo_sin_old_rev_tl_op  mo_sin_rcnt_rev_tl_op  \\\n",
       "0               103.0                 244.0                    1.0   \n",
       "1                76.0                 290.0                    1.0   \n",
       "2               135.0                 136.0                    7.0   \n",
       "\n",
       "   mo_sin_rcnt_tl  mort_acc  mths_since_recent_bc  mths_since_recent_bc_dlq  \\\n",
       "0             1.0       0.0                  47.0                       NaN   \n",
       "1             1.0       1.0                   5.0                      42.0   \n",
       "2             7.0       0.0                   7.0                      60.0   \n",
       "\n",
       "   mths_since_recent_inq  mths_since_recent_revol_delinq  \\\n",
       "0                    NaN                             NaN   \n",
       "1                    1.0                            42.0   \n",
       "2                    7.0                            60.0   \n",
       "\n",
       "   num_accts_ever_120_pd  num_actv_bc_tl  num_actv_rev_tl  num_bc_sats  \\\n",
       "0                    0.0             1.0              4.0          1.0   \n",
       "1                    4.0             6.0              9.0          7.0   \n",
       "2                    1.0             3.0              4.0          3.0   \n",
       "\n",
       "   num_bc_tl  num_il_tl  num_op_rev_tl  num_rev_accts  num_rev_tl_bal_gt_0  \\\n",
       "0        2.0        8.0            5.0            9.0                  4.0   \n",
       "1       18.0        2.0           14.0           32.0                  9.0   \n",
       "2       12.0       16.0            5.0           18.0                  4.0   \n",
       "\n",
       "   num_sats  num_tl_120dpd_2m  num_tl_30dpd  num_tl_90g_dpd_24m  \\\n",
       "0       6.0               0.0           0.0                 0.0   \n",
       "1      17.0               0.0           0.0                 0.0   \n",
       "2      10.0               0.0           0.0                 0.0   \n",
       "\n",
       "   num_tl_op_past_12m  pct_tl_nvr_dlq  percent_bc_gt_75  pub_rec_bankruptcies  \\\n",
       "0                 4.0           100.0               0.0                   0.0   \n",
       "1                 4.0            83.3              14.3                   0.0   \n",
       "2                 2.0            91.4             100.0                   0.0   \n",
       "\n",
       "   tax_liens  tot_hi_cred_lim  total_bal_ex_mort  total_bc_limit  \\\n",
       "0        0.0         196500.0           149140.0         10000.0   \n",
       "1        0.0         179407.0            15030.0         13000.0   \n",
       "2        0.0          57073.0            42315.0         15000.0   \n",
       "\n",
       "   total_il_high_credit_limit  revol_bal_joint  sec_app_fico_range_low  \\\n",
       "0                     12000.0              NaN                     NaN   \n",
       "1                     11325.0              NaN                     NaN   \n",
       "2                     35573.0              NaN                     NaN   \n",
       "\n",
       "   sec_app_fico_range_high sec_app_earliest_cr_line  sec_app_inq_last_6mths  \\\n",
       "0                      NaN                      NaN                     NaN   \n",
       "1                      NaN                      NaN                     NaN   \n",
       "2                      NaN                      NaN                     NaN   \n",
       "\n",
       "   sec_app_mort_acc  sec_app_open_acc  sec_app_revol_util  \\\n",
       "0               NaN               NaN                 NaN   \n",
       "1               NaN               NaN                 NaN   \n",
       "2               NaN               NaN                 NaN   \n",
       "\n",
       "   sec_app_open_act_il  sec_app_num_rev_accts  \\\n",
       "0                  NaN                    NaN   \n",
       "1                  NaN                    NaN   \n",
       "2                  NaN                    NaN   \n",
       "\n",
       "   sec_app_chargeoff_within_12_mths  sec_app_collections_12_mths_ex_med  \\\n",
       "0                               NaN                                 NaN   \n",
       "1                               NaN                                 NaN   \n",
       "2                               NaN                                 NaN   \n",
       "\n",
       "   sec_app_mths_since_last_major_derog hardship_flag hardship_type  \\\n",
       "0                                  NaN             N           NaN   \n",
       "1                                  NaN             N           NaN   \n",
       "2                                  NaN             N           NaN   \n",
       "\n",
       "  hardship_reason hardship_status  deferral_term  hardship_amount  \\\n",
       "0             NaN             NaN            NaN              NaN   \n",
       "1             NaN             NaN            NaN              NaN   \n",
       "2             NaN             NaN            NaN              NaN   \n",
       "\n",
       "  hardship_start_date hardship_end_date payment_plan_start_date  \\\n",
       "0                 NaN               NaN                     NaN   \n",
       "1                 NaN               NaN                     NaN   \n",
       "2                 NaN               NaN                     NaN   \n",
       "\n",
       "   hardship_length  hardship_dpd hardship_loan_status  \\\n",
       "0              NaN           NaN                  NaN   \n",
       "1              NaN           NaN                  NaN   \n",
       "2              NaN           NaN                  NaN   \n",
       "\n",
       "   orig_projected_additional_accrued_interest  hardship_payoff_balance_amount  \\\n",
       "0                                         NaN                             NaN   \n",
       "1                                         NaN                             NaN   \n",
       "2                                         NaN                             NaN   \n",
       "\n",
       "   hardship_last_payment_amount disbursement_method debt_settlement_flag  \\\n",
       "0                           NaN                Cash                    N   \n",
       "1                           NaN                Cash                    N   \n",
       "2                           NaN                Cash                    N   \n",
       "\n",
       "  debt_settlement_flag_date settlement_status settlement_date  \\\n",
       "0                       NaN               NaN             NaN   \n",
       "1                       NaN               NaN             NaN   \n",
       "2                       NaN               NaN             NaN   \n",
       "\n",
       "   settlement_amount  settlement_percentage  settlement_term  \n",
       "0                NaN                    NaN              NaN  \n",
       "1                NaN                    NaN              NaN  \n",
       "2                NaN                    NaN              NaN  "
      ]
     },
     "execution_count": 5,
     "metadata": {},
     "output_type": "execute_result"
    }
   ],
   "source": [
    "df.head(3)"
   ]
  },
  {
   "cell_type": "markdown",
   "metadata": {},
   "source": [
    "# Target Variable\n",
    "<a id=\"3\"></a>"
   ]
  },
  {
   "cell_type": "markdown",
   "metadata": {},
   "source": [
    "We're going to try to predict the 'loan_status' column. What are the value counts in this column?"
   ]
  },
  {
   "cell_type": "code",
   "execution_count": 7,
   "metadata": {},
   "outputs": [
    {
     "data": {
      "text/plain": [
       "Current                                                788950\n",
       "Fully Paid                                             646902\n",
       "Charged Off                                            168084\n",
       "Late (31-120 days)                                      23763\n",
       "In Grace Period                                         10474\n",
       "Late (16-30 days)                                        5786\n",
       "Does not meet the credit policy. Status:Fully Paid       1988\n",
       "Does not meet the credit policy. Status:Charged Off       761\n",
       "Default                                                    70\n",
       "Name: loan_status, dtype: int64"
      ]
     },
     "execution_count": 7,
     "metadata": {},
     "output_type": "execute_result"
    }
   ],
   "source": [
    "df['loan_status'].value_counts()"
   ]
  },
  {
   "cell_type": "markdown",
   "metadata": {},
   "source": [
    "Let's only consider loans that meet the credit policy and have either been fully paid or charged off. These are the two cases we'll try to distinguish with a model.\n",
    "\n",
    "Retain only the rows with 'loan_status' Fully Paid or Charged Off."
   ]
  },
  {
   "cell_type": "code",
   "execution_count": 8,
   "metadata": {
    "collapsed": true
   },
   "outputs": [],
   "source": [
    "df = df.loc[df['loan_status'].isin(['Fully Paid', 'Charged Off'])]"
   ]
  },
  {
   "cell_type": "code",
   "execution_count": 9,
   "metadata": {},
   "outputs": [
    {
     "data": {
      "text/plain": [
       "Fully Paid     646902\n",
       "Charged Off    168084\n",
       "Name: loan_status, dtype: int64"
      ]
     },
     "execution_count": 9,
     "metadata": {},
     "output_type": "execute_result"
    }
   ],
   "source": [
    "df['loan_status'].value_counts()"
   ]
  },
  {
   "cell_type": "markdown",
   "metadata": {},
   "source": [
    "How many rows remain?"
   ]
  },
  {
   "cell_type": "code",
   "execution_count": 10,
   "metadata": {},
   "outputs": [
    {
     "data": {
      "text/plain": [
       "(814986, 150)"
      ]
     },
     "execution_count": 10,
     "metadata": {},
     "output_type": "execute_result"
    }
   ],
   "source": [
    "df.shape"
   ]
  },
  {
   "cell_type": "markdown",
   "metadata": {},
   "source": [
    "How balanced are the classes?"
   ]
  },
  {
   "cell_type": "code",
   "execution_count": 11,
   "metadata": {},
   "outputs": [
    {
     "data": {
      "text/plain": [
       "Fully Paid     0.793758\n",
       "Charged Off    0.206242\n",
       "Name: loan_status, dtype: float64"
      ]
     },
     "execution_count": 11,
     "metadata": {},
     "output_type": "execute_result"
    }
   ],
   "source": [
    "df['loan_status'].value_counts() / df.shape[0]"
   ]
  },
  {
   "cell_type": "markdown",
   "metadata": {},
   "source": [
    "About 79% of the loans have been fully paid, and 21% have been charged off.\n",
    "\n",
    "Let's convert the 'loan_status' column to a 0/1 'charged_off' column. This will allow us to compute correlations later."
   ]
  },
  {
   "cell_type": "code",
   "execution_count": 12,
   "metadata": {
    "collapsed": true
   },
   "outputs": [],
   "source": [
    "df['loan_status'] = df['loan_status'].apply(lambda s: np.float(s == 'Charged Off'))"
   ]
  },
  {
   "cell_type": "code",
   "execution_count": 13,
   "metadata": {},
   "outputs": [
    {
     "data": {
      "text/plain": [
       "0.0    646902\n",
       "1.0    168084\n",
       "Name: loan_status, dtype: int64"
      ]
     },
     "execution_count": 13,
     "metadata": {},
     "output_type": "execute_result"
    }
   ],
   "source": [
    "df['loan_status'].value_counts()"
   ]
  },
  {
   "cell_type": "markdown",
   "metadata": {},
   "source": [
    "Rename the 'loan_status' column to 'charged_off'."
   ]
  },
  {
   "cell_type": "code",
   "execution_count": 14,
   "metadata": {
    "collapsed": true
   },
   "outputs": [],
   "source": [
    "df.rename(columns={'loan_status':'charged_off'}, inplace=True)"
   ]
  },
  {
   "cell_type": "markdown",
   "metadata": {},
   "source": [
    "Our target variable is ready to go. We have two classes to try to predict."
   ]
  },
  {
   "cell_type": "markdown",
   "metadata": {},
   "source": [
    "# Feature Selection\n",
    "<a id=\"4\"></a>"
   ]
  },
  {
   "cell_type": "markdown",
   "metadata": {},
   "source": [
    "The raw data has 150 features, but we won't be using all the features for our predictions, as we'll explain below.\n",
    "\n",
    "Definitions of the columns are given in the Lending Club \"Data Dictionary\" [available here](https://www.lendingclub.com/info/download-data.action)."
   ]
  },
  {
   "cell_type": "markdown",
   "metadata": {},
   "source": [
    "## Drop columns that have only one distinct value\n",
    "<a id=\"4.1\"></a>"
   ]
  },
  {
   "cell_type": "markdown",
   "metadata": {},
   "source": [
    "Are there any columns with only one distinct value?"
   ]
  },
  {
   "cell_type": "code",
   "execution_count": 15,
   "metadata": {},
   "outputs": [
    {
     "data": {
      "text/plain": [
       "['pymnt_plan',\n",
       " 'out_prncp',\n",
       " 'out_prncp_inv',\n",
       " 'policy_code',\n",
       " 'hardship_flag',\n",
       " 'hardship_type',\n",
       " 'deferral_term',\n",
       " 'hardship_length']"
      ]
     },
     "execution_count": 15,
     "metadata": {},
     "output_type": "execute_result"
    }
   ],
   "source": [
    "drop_list = []\n",
    "for col in df.columns:\n",
    "    if df[col].nunique() == 1:\n",
    "        drop_list.append(col)\n",
    "\n",
    "drop_list"
   ]
  },
  {
   "cell_type": "markdown",
   "metadata": {},
   "source": [
    "These columns do not contain any useful information, so we drop them."
   ]
  },
  {
   "cell_type": "code",
   "execution_count": 16,
   "metadata": {},
   "outputs": [
    {
     "data": {
      "text/plain": [
       "(814986, 150)"
      ]
     },
     "execution_count": 16,
     "metadata": {},
     "output_type": "execute_result"
    }
   ],
   "source": [
    "df.shape"
   ]
  },
  {
   "cell_type": "code",
   "execution_count": 17,
   "metadata": {
    "collapsed": true
   },
   "outputs": [],
   "source": [
    "df.drop(columns=drop_list, inplace=True)"
   ]
  },
  {
   "cell_type": "code",
   "execution_count": 18,
   "metadata": {},
   "outputs": [
    {
     "data": {
      "text/plain": [
       "(814986, 142)"
      ]
     },
     "execution_count": 18,
     "metadata": {},
     "output_type": "execute_result"
    }
   ],
   "source": [
    "df.shape"
   ]
  },
  {
   "cell_type": "markdown",
   "metadata": {},
   "source": [
    "## Remove columns that have < 2% data\n",
    "<a id=\"4.2\"></a>"
   ]
  },
  {
   "cell_type": "markdown",
   "metadata": {},
   "source": [
    "Are there any columns with less than 2% data?"
   ]
  },
  {
   "cell_type": "code",
   "execution_count": 19,
   "metadata": {},
   "outputs": [
    {
     "data": {
      "text/plain": [
       "['member_id',\n",
       " 'next_pymnt_d',\n",
       " 'annual_inc_joint',\n",
       " 'dti_joint',\n",
       " 'verification_status_joint',\n",
       " 'revol_bal_joint',\n",
       " 'sec_app_fico_range_low',\n",
       " 'sec_app_fico_range_high',\n",
       " 'sec_app_earliest_cr_line',\n",
       " 'sec_app_inq_last_6mths',\n",
       " 'sec_app_mort_acc',\n",
       " 'sec_app_open_acc',\n",
       " 'sec_app_revol_util',\n",
       " 'sec_app_open_act_il',\n",
       " 'sec_app_num_rev_accts',\n",
       " 'sec_app_chargeoff_within_12_mths',\n",
       " 'sec_app_collections_12_mths_ex_med',\n",
       " 'sec_app_mths_since_last_major_derog',\n",
       " 'hardship_reason',\n",
       " 'hardship_status',\n",
       " 'hardship_amount',\n",
       " 'hardship_start_date',\n",
       " 'hardship_end_date',\n",
       " 'payment_plan_start_date',\n",
       " 'hardship_dpd',\n",
       " 'hardship_loan_status',\n",
       " 'orig_projected_additional_accrued_interest',\n",
       " 'hardship_payoff_balance_amount',\n",
       " 'hardship_last_payment_amount',\n",
       " 'debt_settlement_flag_date',\n",
       " 'settlement_status',\n",
       " 'settlement_date',\n",
       " 'settlement_amount',\n",
       " 'settlement_percentage',\n",
       " 'settlement_term']"
      ]
     },
     "execution_count": 19,
     "metadata": {},
     "output_type": "execute_result"
    }
   ],
   "source": [
    "drop_list = []\n",
    "for col in df.columns:\n",
    "    if df[col].notnull().sum() / df.shape[0] < 0.02:\n",
    "        drop_list.append(col)\n",
    "\n",
    "drop_list"
   ]
  },
  {
   "cell_type": "markdown",
   "metadata": {},
   "source": [
    "Drop these columns."
   ]
  },
  {
   "cell_type": "code",
   "execution_count": 20,
   "metadata": {},
   "outputs": [
    {
     "data": {
      "text/plain": [
       "(814986, 142)"
      ]
     },
     "execution_count": 20,
     "metadata": {},
     "output_type": "execute_result"
    }
   ],
   "source": [
    "df.shape"
   ]
  },
  {
   "cell_type": "code",
   "execution_count": 21,
   "metadata": {
    "collapsed": true
   },
   "outputs": [],
   "source": [
    "df.drop(columns=drop_list, inplace=True)"
   ]
  },
  {
   "cell_type": "code",
   "execution_count": 22,
   "metadata": {},
   "outputs": [
    {
     "data": {
      "text/plain": [
       "(814986, 107)"
      ]
     },
     "execution_count": 22,
     "metadata": {},
     "output_type": "execute_result"
    }
   ],
   "source": [
    "df.shape"
   ]
  },
  {
   "cell_type": "markdown",
   "metadata": {},
   "source": [
    "## Remove irrelevant features\n",
    "<a id=\"4.3\"></a>"
   ]
  },
  {
   "cell_type": "markdown",
   "metadata": {},
   "source": [
    "Let's drop some features that we don't think will be useful for predicting the loan status.\n",
    "\n",
    "Analyzing text in the borrower loan description, job title, or loan title could be an interesting direction, but we won't explore this for now. The last three features listed below contain date information. We could convert these to numerical values, but we won't bother doing so."
   ]
  },
  {
   "cell_type": "code",
   "execution_count": 23,
   "metadata": {},
   "outputs": [
    {
     "data": {
      "text/plain": [
       "(814986, 107)"
      ]
     },
     "execution_count": 23,
     "metadata": {},
     "output_type": "execute_result"
    }
   ],
   "source": [
    "df.shape"
   ]
  },
  {
   "cell_type": "code",
   "execution_count": 24,
   "metadata": {
    "collapsed": true
   },
   "outputs": [],
   "source": [
    "df.drop(columns=['id', 'desc', 'emp_title', 'title', 'issue_d', 'last_credit_pull_d', 'earliest_cr_line'], inplace=True)"
   ]
  },
  {
   "cell_type": "code",
   "execution_count": 25,
   "metadata": {},
   "outputs": [
    {
     "data": {
      "text/plain": [
       "(814986, 100)"
      ]
     },
     "execution_count": 25,
     "metadata": {},
     "output_type": "execute_result"
    }
   ],
   "source": [
    "df.shape"
   ]
  },
  {
   "cell_type": "markdown",
   "metadata": {},
   "source": [
    "## Remove features that could make predictions too easy\n",
    "<a id=\"4.4\"></a>"
   ]
  },
  {
   "cell_type": "markdown",
   "metadata": {},
   "source": [
    "Some features give away the loan status. For example, if 'debt_settlement_flag' is 'Y', this implies that the borrower charged off. Also, if 'total_pymnt' is greater than 'loan_amnt', then the loan must be paid off. Let's not make our job too easy---remove these columns!"
   ]
  },
  {
   "cell_type": "code",
   "execution_count": 26,
   "metadata": {},
   "outputs": [
    {
     "data": {
      "text/plain": [
       "(814986, 100)"
      ]
     },
     "execution_count": 26,
     "metadata": {},
     "output_type": "execute_result"
    }
   ],
   "source": [
    "df.shape"
   ]
  },
  {
   "cell_type": "code",
   "execution_count": 27,
   "metadata": {
    "collapsed": true
   },
   "outputs": [],
   "source": [
    "df.drop(columns=['collection_recovery_fee', 'debt_settlement_flag', 'last_pymnt_amnt', 'last_pymnt_d', 'recoveries', \n",
    "                 'total_pymnt', 'total_pymnt_inv', 'total_rec_int', 'total_rec_late_fee', 'total_rec_prncp'], inplace=True)"
   ]
  },
  {
   "cell_type": "code",
   "execution_count": 28,
   "metadata": {},
   "outputs": [
    {
     "data": {
      "text/plain": [
       "(814986, 90)"
      ]
     },
     "execution_count": 28,
     "metadata": {},
     "output_type": "execute_result"
    }
   ],
   "source": [
    "df.shape"
   ]
  },
  {
   "cell_type": "markdown",
   "metadata": {},
   "source": [
    "Are there any other features I should have removed, or any that I should have kept? Let me know in the comments."
   ]
  },
  {
   "cell_type": "markdown",
   "metadata": {},
   "source": [
    "## Inspect non-numerical features\n",
    "<a id=\"4.5\"></a>"
   ]
  },
  {
   "cell_type": "markdown",
   "metadata": {},
   "source": [
    "We're going to inspect features of type 'object', i.e. text data."
   ]
  },
  {
   "cell_type": "code",
   "execution_count": 29,
   "metadata": {},
   "outputs": [
    {
     "data": {
      "text/html": [
       "<div>\n",
       "<style scoped>\n",
       "    .dataframe tbody tr th:only-of-type {\n",
       "        vertical-align: middle;\n",
       "    }\n",
       "\n",
       "    .dataframe tbody tr th {\n",
       "        vertical-align: top;\n",
       "    }\n",
       "\n",
       "    .dataframe thead th {\n",
       "        text-align: right;\n",
       "    }\n",
       "</style>\n",
       "<table border=\"1\" class=\"dataframe\">\n",
       "  <thead>\n",
       "    <tr style=\"text-align: right;\">\n",
       "      <th></th>\n",
       "      <th>loan_amnt</th>\n",
       "      <th>funded_amnt</th>\n",
       "      <th>funded_amnt_inv</th>\n",
       "      <th>term</th>\n",
       "      <th>int_rate</th>\n",
       "      <th>installment</th>\n",
       "      <th>grade</th>\n",
       "      <th>sub_grade</th>\n",
       "      <th>emp_length</th>\n",
       "      <th>home_ownership</th>\n",
       "      <th>annual_inc</th>\n",
       "      <th>verification_status</th>\n",
       "      <th>charged_off</th>\n",
       "      <th>purpose</th>\n",
       "      <th>zip_code</th>\n",
       "      <th>addr_state</th>\n",
       "      <th>dti</th>\n",
       "      <th>delinq_2yrs</th>\n",
       "      <th>fico_range_low</th>\n",
       "      <th>fico_range_high</th>\n",
       "      <th>inq_last_6mths</th>\n",
       "      <th>mths_since_last_delinq</th>\n",
       "      <th>mths_since_last_record</th>\n",
       "      <th>open_acc</th>\n",
       "      <th>pub_rec</th>\n",
       "      <th>revol_bal</th>\n",
       "      <th>revol_util</th>\n",
       "      <th>total_acc</th>\n",
       "      <th>initial_list_status</th>\n",
       "      <th>last_fico_range_high</th>\n",
       "      <th>last_fico_range_low</th>\n",
       "      <th>collections_12_mths_ex_med</th>\n",
       "      <th>mths_since_last_major_derog</th>\n",
       "      <th>application_type</th>\n",
       "      <th>acc_now_delinq</th>\n",
       "      <th>tot_coll_amt</th>\n",
       "      <th>tot_cur_bal</th>\n",
       "      <th>open_acc_6m</th>\n",
       "      <th>open_act_il</th>\n",
       "      <th>open_il_12m</th>\n",
       "      <th>open_il_24m</th>\n",
       "      <th>mths_since_rcnt_il</th>\n",
       "      <th>total_bal_il</th>\n",
       "      <th>il_util</th>\n",
       "      <th>open_rv_12m</th>\n",
       "      <th>open_rv_24m</th>\n",
       "      <th>max_bal_bc</th>\n",
       "      <th>all_util</th>\n",
       "      <th>total_rev_hi_lim</th>\n",
       "      <th>inq_fi</th>\n",
       "      <th>total_cu_tl</th>\n",
       "      <th>inq_last_12m</th>\n",
       "      <th>acc_open_past_24mths</th>\n",
       "      <th>avg_cur_bal</th>\n",
       "      <th>bc_open_to_buy</th>\n",
       "      <th>bc_util</th>\n",
       "      <th>chargeoff_within_12_mths</th>\n",
       "      <th>delinq_amnt</th>\n",
       "      <th>mo_sin_old_il_acct</th>\n",
       "      <th>mo_sin_old_rev_tl_op</th>\n",
       "      <th>mo_sin_rcnt_rev_tl_op</th>\n",
       "      <th>mo_sin_rcnt_tl</th>\n",
       "      <th>mort_acc</th>\n",
       "      <th>mths_since_recent_bc</th>\n",
       "      <th>mths_since_recent_bc_dlq</th>\n",
       "      <th>mths_since_recent_inq</th>\n",
       "      <th>mths_since_recent_revol_delinq</th>\n",
       "      <th>num_accts_ever_120_pd</th>\n",
       "      <th>num_actv_bc_tl</th>\n",
       "      <th>num_actv_rev_tl</th>\n",
       "      <th>num_bc_sats</th>\n",
       "      <th>num_bc_tl</th>\n",
       "      <th>num_il_tl</th>\n",
       "      <th>num_op_rev_tl</th>\n",
       "      <th>num_rev_accts</th>\n",
       "      <th>num_rev_tl_bal_gt_0</th>\n",
       "      <th>num_sats</th>\n",
       "      <th>num_tl_120dpd_2m</th>\n",
       "      <th>num_tl_30dpd</th>\n",
       "      <th>num_tl_90g_dpd_24m</th>\n",
       "      <th>num_tl_op_past_12m</th>\n",
       "      <th>pct_tl_nvr_dlq</th>\n",
       "      <th>percent_bc_gt_75</th>\n",
       "      <th>pub_rec_bankruptcies</th>\n",
       "      <th>tax_liens</th>\n",
       "      <th>tot_hi_cred_lim</th>\n",
       "      <th>total_bal_ex_mort</th>\n",
       "      <th>total_bc_limit</th>\n",
       "      <th>total_il_high_credit_limit</th>\n",
       "      <th>disbursement_method</th>\n",
       "    </tr>\n",
       "  </thead>\n",
       "  <tbody>\n",
       "    <tr>\n",
       "      <th>0</th>\n",
       "      <td>15000.0</td>\n",
       "      <td>15000.0</td>\n",
       "      <td>15000.0</td>\n",
       "      <td>60 months</td>\n",
       "      <td>12.39</td>\n",
       "      <td>336.64</td>\n",
       "      <td>C</td>\n",
       "      <td>C1</td>\n",
       "      <td>10+ years</td>\n",
       "      <td>RENT</td>\n",
       "      <td>78000.0</td>\n",
       "      <td>Source Verified</td>\n",
       "      <td>0.0</td>\n",
       "      <td>debt_consolidation</td>\n",
       "      <td>235xx</td>\n",
       "      <td>VA</td>\n",
       "      <td>12.03</td>\n",
       "      <td>0.0</td>\n",
       "      <td>750.0</td>\n",
       "      <td>754.0</td>\n",
       "      <td>0.0</td>\n",
       "      <td>NaN</td>\n",
       "      <td>NaN</td>\n",
       "      <td>6.0</td>\n",
       "      <td>0.0</td>\n",
       "      <td>138008.0</td>\n",
       "      <td>29.0</td>\n",
       "      <td>17.0</td>\n",
       "      <td>w</td>\n",
       "      <td>684.0</td>\n",
       "      <td>680.0</td>\n",
       "      <td>0.0</td>\n",
       "      <td>NaN</td>\n",
       "      <td>Individual</td>\n",
       "      <td>0.0</td>\n",
       "      <td>0.0</td>\n",
       "      <td>149140.0</td>\n",
       "      <td>NaN</td>\n",
       "      <td>NaN</td>\n",
       "      <td>NaN</td>\n",
       "      <td>NaN</td>\n",
       "      <td>NaN</td>\n",
       "      <td>NaN</td>\n",
       "      <td>NaN</td>\n",
       "      <td>NaN</td>\n",
       "      <td>NaN</td>\n",
       "      <td>NaN</td>\n",
       "      <td>NaN</td>\n",
       "      <td>184500.0</td>\n",
       "      <td>NaN</td>\n",
       "      <td>NaN</td>\n",
       "      <td>NaN</td>\n",
       "      <td>5.0</td>\n",
       "      <td>29828.0</td>\n",
       "      <td>9525.0</td>\n",
       "      <td>4.7</td>\n",
       "      <td>0.0</td>\n",
       "      <td>0.0</td>\n",
       "      <td>103.0</td>\n",
       "      <td>244.0</td>\n",
       "      <td>1.0</td>\n",
       "      <td>1.0</td>\n",
       "      <td>0.0</td>\n",
       "      <td>47.0</td>\n",
       "      <td>NaN</td>\n",
       "      <td>NaN</td>\n",
       "      <td>NaN</td>\n",
       "      <td>0.0</td>\n",
       "      <td>1.0</td>\n",
       "      <td>4.0</td>\n",
       "      <td>1.0</td>\n",
       "      <td>2.0</td>\n",
       "      <td>8.0</td>\n",
       "      <td>5.0</td>\n",
       "      <td>9.0</td>\n",
       "      <td>4.0</td>\n",
       "      <td>6.0</td>\n",
       "      <td>0.0</td>\n",
       "      <td>0.0</td>\n",
       "      <td>0.0</td>\n",
       "      <td>4.0</td>\n",
       "      <td>100.0</td>\n",
       "      <td>0.0</td>\n",
       "      <td>0.0</td>\n",
       "      <td>0.0</td>\n",
       "      <td>196500.0</td>\n",
       "      <td>149140.0</td>\n",
       "      <td>10000.0</td>\n",
       "      <td>12000.0</td>\n",
       "      <td>Cash</td>\n",
       "    </tr>\n",
       "    <tr>\n",
       "      <th>1</th>\n",
       "      <td>10400.0</td>\n",
       "      <td>10400.0</td>\n",
       "      <td>10400.0</td>\n",
       "      <td>36 months</td>\n",
       "      <td>6.99</td>\n",
       "      <td>321.08</td>\n",
       "      <td>A</td>\n",
       "      <td>A3</td>\n",
       "      <td>8 years</td>\n",
       "      <td>MORTGAGE</td>\n",
       "      <td>58000.0</td>\n",
       "      <td>Not Verified</td>\n",
       "      <td>1.0</td>\n",
       "      <td>credit_card</td>\n",
       "      <td>937xx</td>\n",
       "      <td>CA</td>\n",
       "      <td>14.92</td>\n",
       "      <td>0.0</td>\n",
       "      <td>710.0</td>\n",
       "      <td>714.0</td>\n",
       "      <td>2.0</td>\n",
       "      <td>42.0</td>\n",
       "      <td>NaN</td>\n",
       "      <td>17.0</td>\n",
       "      <td>0.0</td>\n",
       "      <td>6133.0</td>\n",
       "      <td>31.6</td>\n",
       "      <td>36.0</td>\n",
       "      <td>w</td>\n",
       "      <td>564.0</td>\n",
       "      <td>560.0</td>\n",
       "      <td>0.0</td>\n",
       "      <td>59.0</td>\n",
       "      <td>Individual</td>\n",
       "      <td>0.0</td>\n",
       "      <td>0.0</td>\n",
       "      <td>162110.0</td>\n",
       "      <td>NaN</td>\n",
       "      <td>NaN</td>\n",
       "      <td>NaN</td>\n",
       "      <td>NaN</td>\n",
       "      <td>NaN</td>\n",
       "      <td>NaN</td>\n",
       "      <td>NaN</td>\n",
       "      <td>NaN</td>\n",
       "      <td>NaN</td>\n",
       "      <td>NaN</td>\n",
       "      <td>NaN</td>\n",
       "      <td>19400.0</td>\n",
       "      <td>NaN</td>\n",
       "      <td>NaN</td>\n",
       "      <td>NaN</td>\n",
       "      <td>7.0</td>\n",
       "      <td>9536.0</td>\n",
       "      <td>7599.0</td>\n",
       "      <td>41.5</td>\n",
       "      <td>0.0</td>\n",
       "      <td>0.0</td>\n",
       "      <td>76.0</td>\n",
       "      <td>290.0</td>\n",
       "      <td>1.0</td>\n",
       "      <td>1.0</td>\n",
       "      <td>1.0</td>\n",
       "      <td>5.0</td>\n",
       "      <td>42.0</td>\n",
       "      <td>1.0</td>\n",
       "      <td>42.0</td>\n",
       "      <td>4.0</td>\n",
       "      <td>6.0</td>\n",
       "      <td>9.0</td>\n",
       "      <td>7.0</td>\n",
       "      <td>18.0</td>\n",
       "      <td>2.0</td>\n",
       "      <td>14.0</td>\n",
       "      <td>32.0</td>\n",
       "      <td>9.0</td>\n",
       "      <td>17.0</td>\n",
       "      <td>0.0</td>\n",
       "      <td>0.0</td>\n",
       "      <td>0.0</td>\n",
       "      <td>4.0</td>\n",
       "      <td>83.3</td>\n",
       "      <td>14.3</td>\n",
       "      <td>0.0</td>\n",
       "      <td>0.0</td>\n",
       "      <td>179407.0</td>\n",
       "      <td>15030.0</td>\n",
       "      <td>13000.0</td>\n",
       "      <td>11325.0</td>\n",
       "      <td>Cash</td>\n",
       "    </tr>\n",
       "    <tr>\n",
       "      <th>2</th>\n",
       "      <td>21425.0</td>\n",
       "      <td>21425.0</td>\n",
       "      <td>21425.0</td>\n",
       "      <td>60 months</td>\n",
       "      <td>15.59</td>\n",
       "      <td>516.36</td>\n",
       "      <td>D</td>\n",
       "      <td>D1</td>\n",
       "      <td>6 years</td>\n",
       "      <td>RENT</td>\n",
       "      <td>63800.0</td>\n",
       "      <td>Source Verified</td>\n",
       "      <td>0.0</td>\n",
       "      <td>credit_card</td>\n",
       "      <td>658xx</td>\n",
       "      <td>MO</td>\n",
       "      <td>18.49</td>\n",
       "      <td>0.0</td>\n",
       "      <td>685.0</td>\n",
       "      <td>689.0</td>\n",
       "      <td>0.0</td>\n",
       "      <td>60.0</td>\n",
       "      <td>NaN</td>\n",
       "      <td>10.0</td>\n",
       "      <td>0.0</td>\n",
       "      <td>16374.0</td>\n",
       "      <td>76.2</td>\n",
       "      <td>35.0</td>\n",
       "      <td>w</td>\n",
       "      <td>704.0</td>\n",
       "      <td>700.0</td>\n",
       "      <td>0.0</td>\n",
       "      <td>74.0</td>\n",
       "      <td>Individual</td>\n",
       "      <td>0.0</td>\n",
       "      <td>0.0</td>\n",
       "      <td>42315.0</td>\n",
       "      <td>NaN</td>\n",
       "      <td>NaN</td>\n",
       "      <td>NaN</td>\n",
       "      <td>NaN</td>\n",
       "      <td>NaN</td>\n",
       "      <td>NaN</td>\n",
       "      <td>NaN</td>\n",
       "      <td>NaN</td>\n",
       "      <td>NaN</td>\n",
       "      <td>NaN</td>\n",
       "      <td>NaN</td>\n",
       "      <td>21500.0</td>\n",
       "      <td>NaN</td>\n",
       "      <td>NaN</td>\n",
       "      <td>NaN</td>\n",
       "      <td>4.0</td>\n",
       "      <td>4232.0</td>\n",
       "      <td>324.0</td>\n",
       "      <td>97.8</td>\n",
       "      <td>0.0</td>\n",
       "      <td>0.0</td>\n",
       "      <td>135.0</td>\n",
       "      <td>136.0</td>\n",
       "      <td>7.0</td>\n",
       "      <td>7.0</td>\n",
       "      <td>0.0</td>\n",
       "      <td>7.0</td>\n",
       "      <td>60.0</td>\n",
       "      <td>7.0</td>\n",
       "      <td>60.0</td>\n",
       "      <td>1.0</td>\n",
       "      <td>3.0</td>\n",
       "      <td>4.0</td>\n",
       "      <td>3.0</td>\n",
       "      <td>12.0</td>\n",
       "      <td>16.0</td>\n",
       "      <td>5.0</td>\n",
       "      <td>18.0</td>\n",
       "      <td>4.0</td>\n",
       "      <td>10.0</td>\n",
       "      <td>0.0</td>\n",
       "      <td>0.0</td>\n",
       "      <td>0.0</td>\n",
       "      <td>2.0</td>\n",
       "      <td>91.4</td>\n",
       "      <td>100.0</td>\n",
       "      <td>0.0</td>\n",
       "      <td>0.0</td>\n",
       "      <td>57073.0</td>\n",
       "      <td>42315.0</td>\n",
       "      <td>15000.0</td>\n",
       "      <td>35573.0</td>\n",
       "      <td>Cash</td>\n",
       "    </tr>\n",
       "  </tbody>\n",
       "</table>\n",
       "</div>"
      ],
      "text/plain": [
       "   loan_amnt  funded_amnt  funded_amnt_inv        term  int_rate  installment  \\\n",
       "0    15000.0      15000.0          15000.0   60 months     12.39       336.64   \n",
       "1    10400.0      10400.0          10400.0   36 months      6.99       321.08   \n",
       "2    21425.0      21425.0          21425.0   60 months     15.59       516.36   \n",
       "\n",
       "  grade sub_grade emp_length home_ownership  annual_inc verification_status  \\\n",
       "0     C        C1  10+ years           RENT     78000.0     Source Verified   \n",
       "1     A        A3    8 years       MORTGAGE     58000.0        Not Verified   \n",
       "2     D        D1    6 years           RENT     63800.0     Source Verified   \n",
       "\n",
       "   charged_off             purpose zip_code addr_state    dti  delinq_2yrs  \\\n",
       "0          0.0  debt_consolidation    235xx         VA  12.03          0.0   \n",
       "1          1.0         credit_card    937xx         CA  14.92          0.0   \n",
       "2          0.0         credit_card    658xx         MO  18.49          0.0   \n",
       "\n",
       "   fico_range_low  fico_range_high  inq_last_6mths  mths_since_last_delinq  \\\n",
       "0           750.0            754.0             0.0                     NaN   \n",
       "1           710.0            714.0             2.0                    42.0   \n",
       "2           685.0            689.0             0.0                    60.0   \n",
       "\n",
       "   mths_since_last_record  open_acc  pub_rec  revol_bal  revol_util  \\\n",
       "0                     NaN       6.0      0.0   138008.0        29.0   \n",
       "1                     NaN      17.0      0.0     6133.0        31.6   \n",
       "2                     NaN      10.0      0.0    16374.0        76.2   \n",
       "\n",
       "   total_acc initial_list_status  last_fico_range_high  last_fico_range_low  \\\n",
       "0       17.0                   w                 684.0                680.0   \n",
       "1       36.0                   w                 564.0                560.0   \n",
       "2       35.0                   w                 704.0                700.0   \n",
       "\n",
       "   collections_12_mths_ex_med  mths_since_last_major_derog application_type  \\\n",
       "0                         0.0                          NaN       Individual   \n",
       "1                         0.0                         59.0       Individual   \n",
       "2                         0.0                         74.0       Individual   \n",
       "\n",
       "   acc_now_delinq  tot_coll_amt  tot_cur_bal  open_acc_6m  open_act_il  \\\n",
       "0             0.0           0.0     149140.0          NaN          NaN   \n",
       "1             0.0           0.0     162110.0          NaN          NaN   \n",
       "2             0.0           0.0      42315.0          NaN          NaN   \n",
       "\n",
       "   open_il_12m  open_il_24m  mths_since_rcnt_il  total_bal_il  il_util  \\\n",
       "0          NaN          NaN                 NaN           NaN      NaN   \n",
       "1          NaN          NaN                 NaN           NaN      NaN   \n",
       "2          NaN          NaN                 NaN           NaN      NaN   \n",
       "\n",
       "   open_rv_12m  open_rv_24m  max_bal_bc  all_util  total_rev_hi_lim  inq_fi  \\\n",
       "0          NaN          NaN         NaN       NaN          184500.0     NaN   \n",
       "1          NaN          NaN         NaN       NaN           19400.0     NaN   \n",
       "2          NaN          NaN         NaN       NaN           21500.0     NaN   \n",
       "\n",
       "   total_cu_tl  inq_last_12m  acc_open_past_24mths  avg_cur_bal  \\\n",
       "0          NaN           NaN                   5.0      29828.0   \n",
       "1          NaN           NaN                   7.0       9536.0   \n",
       "2          NaN           NaN                   4.0       4232.0   \n",
       "\n",
       "   bc_open_to_buy  bc_util  chargeoff_within_12_mths  delinq_amnt  \\\n",
       "0          9525.0      4.7                       0.0          0.0   \n",
       "1          7599.0     41.5                       0.0          0.0   \n",
       "2           324.0     97.8                       0.0          0.0   \n",
       "\n",
       "   mo_sin_old_il_acct  mo_sin_old_rev_tl_op  mo_sin_rcnt_rev_tl_op  \\\n",
       "0               103.0                 244.0                    1.0   \n",
       "1                76.0                 290.0                    1.0   \n",
       "2               135.0                 136.0                    7.0   \n",
       "\n",
       "   mo_sin_rcnt_tl  mort_acc  mths_since_recent_bc  mths_since_recent_bc_dlq  \\\n",
       "0             1.0       0.0                  47.0                       NaN   \n",
       "1             1.0       1.0                   5.0                      42.0   \n",
       "2             7.0       0.0                   7.0                      60.0   \n",
       "\n",
       "   mths_since_recent_inq  mths_since_recent_revol_delinq  \\\n",
       "0                    NaN                             NaN   \n",
       "1                    1.0                            42.0   \n",
       "2                    7.0                            60.0   \n",
       "\n",
       "   num_accts_ever_120_pd  num_actv_bc_tl  num_actv_rev_tl  num_bc_sats  \\\n",
       "0                    0.0             1.0              4.0          1.0   \n",
       "1                    4.0             6.0              9.0          7.0   \n",
       "2                    1.0             3.0              4.0          3.0   \n",
       "\n",
       "   num_bc_tl  num_il_tl  num_op_rev_tl  num_rev_accts  num_rev_tl_bal_gt_0  \\\n",
       "0        2.0        8.0            5.0            9.0                  4.0   \n",
       "1       18.0        2.0           14.0           32.0                  9.0   \n",
       "2       12.0       16.0            5.0           18.0                  4.0   \n",
       "\n",
       "   num_sats  num_tl_120dpd_2m  num_tl_30dpd  num_tl_90g_dpd_24m  \\\n",
       "0       6.0               0.0           0.0                 0.0   \n",
       "1      17.0               0.0           0.0                 0.0   \n",
       "2      10.0               0.0           0.0                 0.0   \n",
       "\n",
       "   num_tl_op_past_12m  pct_tl_nvr_dlq  percent_bc_gt_75  pub_rec_bankruptcies  \\\n",
       "0                 4.0           100.0               0.0                   0.0   \n",
       "1                 4.0            83.3              14.3                   0.0   \n",
       "2                 2.0            91.4             100.0                   0.0   \n",
       "\n",
       "   tax_liens  tot_hi_cred_lim  total_bal_ex_mort  total_bc_limit  \\\n",
       "0        0.0         196500.0           149140.0         10000.0   \n",
       "1        0.0         179407.0            15030.0         13000.0   \n",
       "2        0.0          57073.0            42315.0         15000.0   \n",
       "\n",
       "   total_il_high_credit_limit disbursement_method  \n",
       "0                     12000.0                Cash  \n",
       "1                     11325.0                Cash  \n",
       "2                     35573.0                Cash  "
      ]
     },
     "execution_count": 29,
     "metadata": {},
     "output_type": "execute_result"
    }
   ],
   "source": [
    "df.head(3)"
   ]
  },
  {
   "cell_type": "markdown",
   "metadata": {},
   "source": [
    "Which columns have text data?"
   ]
  },
  {
   "cell_type": "code",
   "execution_count": 30,
   "metadata": {},
   "outputs": [
    {
     "data": {
      "text/plain": [
       "['term',\n",
       " 'grade',\n",
       " 'sub_grade',\n",
       " 'emp_length',\n",
       " 'home_ownership',\n",
       " 'verification_status',\n",
       " 'purpose',\n",
       " 'zip_code',\n",
       " 'addr_state',\n",
       " 'initial_list_status',\n",
       " 'application_type',\n",
       " 'disbursement_method']"
      ]
     },
     "execution_count": 30,
     "metadata": {},
     "output_type": "execute_result"
    }
   ],
   "source": [
    "text_cols = []\n",
    "for col in df.columns:\n",
    "    if df[col].dtype == np.object:\n",
    "        text_cols.append(col)\n",
    "\n",
    "text_cols"
   ]
  },
  {
   "cell_type": "markdown",
   "metadata": {},
   "source": [
    "### term"
   ]
  },
  {
   "cell_type": "code",
   "execution_count": 31,
   "metadata": {},
   "outputs": [
    {
     "data": {
      "text/plain": [
       " 36 months    618460\n",
       " 60 months    196526\n",
       "Name: term, dtype: int64"
      ]
     },
     "execution_count": 31,
     "metadata": {},
     "output_type": "execute_result"
    }
   ],
   "source": [
    "df['term'].value_counts()"
   ]
  },
  {
   "cell_type": "markdown",
   "metadata": {},
   "source": [
    "Convert 'term' to integer values."
   ]
  },
  {
   "cell_type": "code",
   "execution_count": 32,
   "metadata": {},
   "outputs": [
    {
     "data": {
      "text/plain": [
       "36.0    618460\n",
       "60.0    196526\n",
       "Name: term, dtype: int64"
      ]
     },
     "execution_count": 32,
     "metadata": {},
     "output_type": "execute_result"
    }
   ],
   "source": [
    "df['term'] = df['term'].apply(lambda s:np.float(s[1:3])) # There's an extra space in the data for some reason\n",
    "df['term'].value_counts()"
   ]
  },
  {
   "cell_type": "markdown",
   "metadata": {},
   "source": [
    "### grade, sub_grade"
   ]
  },
  {
   "cell_type": "markdown",
   "metadata": {},
   "source": [
    "Convert the subgrade to a numerical value."
   ]
  },
  {
   "cell_type": "code",
   "execution_count": 33,
   "metadata": {
    "collapsed": true
   },
   "outputs": [],
   "source": [
    "grade_dict = {'A':0.0, 'B':1.0, 'C':2.0, 'D':3.0, 'E':4.0, 'F':5.0, 'G':6.0}\n",
    "def grade_to_float(s):\n",
    "    return 5 * grade_dict[s[0]] + np.float(s[1]) - 1"
   ]
  },
  {
   "cell_type": "code",
   "execution_count": 34,
   "metadata": {
    "collapsed": true
   },
   "outputs": [],
   "source": [
    "df['sub_grade'] = df['sub_grade'].apply(lambda s: grade_to_float(s))"
   ]
  },
  {
   "cell_type": "markdown",
   "metadata": {},
   "source": [
    "The grade is implied by the subgrade, so let's drop the grade column."
   ]
  },
  {
   "cell_type": "code",
   "execution_count": 35,
   "metadata": {
    "collapsed": true
   },
   "outputs": [],
   "source": [
    "df.drop(columns=['grade'], inplace=True)"
   ]
  },
  {
   "cell_type": "markdown",
   "metadata": {},
   "source": [
    "### emp_length"
   ]
  },
  {
   "cell_type": "code",
   "execution_count": 36,
   "metadata": {},
   "outputs": [
    {
     "data": {
      "text/plain": [
       "10+ years    264873\n",
       "2 years       73493\n",
       "3 years       64999\n",
       "< 1 year      64572\n",
       "1 year        53411\n",
       "5 years       52149\n",
       "4 years       48752\n",
       "6 years       40290\n",
       "7 years       39407\n",
       "8 years       38887\n",
       "9 years       31900\n",
       "Name: emp_length, dtype: int64"
      ]
     },
     "execution_count": 36,
     "metadata": {},
     "output_type": "execute_result"
    }
   ],
   "source": [
    "df['emp_length'].value_counts()"
   ]
  },
  {
   "cell_type": "markdown",
   "metadata": {},
   "source": [
    "Let's convert 'emp_length' to floats."
   ]
  },
  {
   "cell_type": "code",
   "execution_count": 37,
   "metadata": {},
   "outputs": [
    {
     "data": {
      "text/plain": [
       "10.0    264873\n",
       "2.0      73493\n",
       "3.0      64999\n",
       "0.0      64572\n",
       "1.0      53411\n",
       "5.0      52149\n",
       "4.0      48752\n",
       "6.0      40290\n",
       "7.0      39407\n",
       "8.0      38887\n",
       "9.0      31900\n",
       "Name: emp_length, dtype: int64"
      ]
     },
     "execution_count": 37,
     "metadata": {},
     "output_type": "execute_result"
    }
   ],
   "source": [
    "def emp_conv(s):\n",
    "    try:\n",
    "        if pd.isna(s):\n",
    "            return s\n",
    "        elif s[0] == '<':\n",
    "            return 0.0\n",
    "        elif s[:2] == '10':\n",
    "            return 10.0\n",
    "        else:\n",
    "            return np.float(s[0])\n",
    "    except TypeError:\n",
    "        return np.float64(s)\n",
    "\n",
    "df['emp_length'] = df['emp_length'].apply(lambda s: emp_conv(s))\n",
    "df['emp_length'].value_counts()"
   ]
  },
  {
   "cell_type": "markdown",
   "metadata": {},
   "source": [
    "### home_ownership"
   ]
  },
  {
   "cell_type": "code",
   "execution_count": 38,
   "metadata": {},
   "outputs": [
    {
     "data": {
      "text/plain": [
       "MORTGAGE    406866\n",
       "RENT        325071\n",
       "OWN          82765\n",
       "OTHER          144\n",
       "ANY             94\n",
       "NONE            46\n",
       "Name: home_ownership, dtype: int64"
      ]
     },
     "execution_count": 38,
     "metadata": {},
     "output_type": "execute_result"
    }
   ],
   "source": [
    "df['home_ownership'].value_counts()"
   ]
  },
  {
   "cell_type": "markdown",
   "metadata": {},
   "source": [
    "### verification_status"
   ]
  },
  {
   "cell_type": "code",
   "execution_count": 39,
   "metadata": {},
   "outputs": [
    {
     "data": {
      "text/plain": [
       "Source Verified    293897\n",
       "Verified           269895\n",
       "Not Verified       251194\n",
       "Name: verification_status, dtype: int64"
      ]
     },
     "execution_count": 39,
     "metadata": {},
     "output_type": "execute_result"
    }
   ],
   "source": [
    "df['verification_status'].value_counts()"
   ]
  },
  {
   "cell_type": "markdown",
   "metadata": {},
   "source": [
    "### purpose"
   ]
  },
  {
   "cell_type": "code",
   "execution_count": 40,
   "metadata": {},
   "outputs": [
    {
     "data": {
      "text/plain": [
       "debt_consolidation    481652\n",
       "credit_card           175123\n",
       "home_improvement       50793\n",
       "other                  43900\n",
       "major_purchase         17463\n",
       "small_business         10214\n",
       "car                     8936\n",
       "medical                 8772\n",
       "moving                  5725\n",
       "vacation                5116\n",
       "house                   4095\n",
       "wedding                 2272\n",
       "renewable_energy         599\n",
       "educational              326\n",
       "Name: purpose, dtype: int64"
      ]
     },
     "execution_count": 40,
     "metadata": {},
     "output_type": "execute_result"
    }
   ],
   "source": [
    "df['purpose'].value_counts()"
   ]
  },
  {
   "cell_type": "markdown",
   "metadata": {},
   "source": [
    "### zip_code, addr_state"
   ]
  },
  {
   "cell_type": "markdown",
   "metadata": {},
   "source": [
    "Convert the zip code to a float."
   ]
  },
  {
   "cell_type": "code",
   "execution_count": 41,
   "metadata": {
    "collapsed": true
   },
   "outputs": [],
   "source": [
    "df['zip_code'] = df['zip_code'].apply(lambda s:np.float(s[:3]))"
   ]
  },
  {
   "cell_type": "markdown",
   "metadata": {},
   "source": [
    "The state is implied by the zip code, so remove the state column."
   ]
  },
  {
   "cell_type": "code",
   "execution_count": 42,
   "metadata": {
    "collapsed": true
   },
   "outputs": [],
   "source": [
    "df.drop(columns=['addr_state'], inplace=True)"
   ]
  },
  {
   "cell_type": "markdown",
   "metadata": {},
   "source": [
    "### initial_list_status"
   ]
  },
  {
   "cell_type": "code",
   "execution_count": 43,
   "metadata": {},
   "outputs": [
    {
     "data": {
      "text/plain": [
       "f    413678\n",
       "w    401308\n",
       "Name: initial_list_status, dtype: int64"
      ]
     },
     "execution_count": 43,
     "metadata": {},
     "output_type": "execute_result"
    }
   ],
   "source": [
    "df['initial_list_status'].value_counts()"
   ]
  },
  {
   "cell_type": "markdown",
   "metadata": {},
   "source": [
    "I don't know what the initial list status means."
   ]
  },
  {
   "cell_type": "markdown",
   "metadata": {},
   "source": [
    "### application_type"
   ]
  },
  {
   "cell_type": "code",
   "execution_count": 44,
   "metadata": {},
   "outputs": [
    {
     "data": {
      "text/plain": [
       "Individual    811207\n",
       "Joint App       3779\n",
       "Name: application_type, dtype: int64"
      ]
     },
     "execution_count": 44,
     "metadata": {},
     "output_type": "execute_result"
    }
   ],
   "source": [
    "df['application_type'].value_counts()"
   ]
  },
  {
   "cell_type": "markdown",
   "metadata": {},
   "source": [
    "### disbursement_method"
   ]
  },
  {
   "cell_type": "code",
   "execution_count": 45,
   "metadata": {},
   "outputs": [
    {
     "data": {
      "text/plain": [
       "Cash         813877\n",
       "DirectPay      1109\n",
       "Name: disbursement_method, dtype: int64"
      ]
     },
     "execution_count": 45,
     "metadata": {},
     "output_type": "execute_result"
    }
   ],
   "source": [
    "df['disbursement_method'].value_counts()"
   ]
  },
  {
   "cell_type": "markdown",
   "metadata": {},
   "source": [
    "# Exploratory Data Analysis\n",
    "<a id=\"5\"></a>"
   ]
  },
  {
   "cell_type": "markdown",
   "metadata": {},
   "source": [
    "Import plotting libraries."
   ]
  },
  {
   "cell_type": "code",
   "execution_count": 46,
   "metadata": {
    "collapsed": true
   },
   "outputs": [],
   "source": [
    "import matplotlib.pyplot as plt\n",
    "import seaborn as sns\n",
    "%matplotlib inline"
   ]
  },
  {
   "cell_type": "markdown",
   "metadata": {},
   "source": [
    "View the first few rows."
   ]
  },
  {
   "cell_type": "code",
   "execution_count": 47,
   "metadata": {},
   "outputs": [
    {
     "data": {
      "text/html": [
       "<div>\n",
       "<style scoped>\n",
       "    .dataframe tbody tr th:only-of-type {\n",
       "        vertical-align: middle;\n",
       "    }\n",
       "\n",
       "    .dataframe tbody tr th {\n",
       "        vertical-align: top;\n",
       "    }\n",
       "\n",
       "    .dataframe thead th {\n",
       "        text-align: right;\n",
       "    }\n",
       "</style>\n",
       "<table border=\"1\" class=\"dataframe\">\n",
       "  <thead>\n",
       "    <tr style=\"text-align: right;\">\n",
       "      <th></th>\n",
       "      <th>loan_amnt</th>\n",
       "      <th>funded_amnt</th>\n",
       "      <th>funded_amnt_inv</th>\n",
       "      <th>term</th>\n",
       "      <th>int_rate</th>\n",
       "      <th>installment</th>\n",
       "      <th>sub_grade</th>\n",
       "      <th>emp_length</th>\n",
       "      <th>home_ownership</th>\n",
       "      <th>annual_inc</th>\n",
       "      <th>verification_status</th>\n",
       "      <th>charged_off</th>\n",
       "      <th>purpose</th>\n",
       "      <th>zip_code</th>\n",
       "      <th>dti</th>\n",
       "      <th>delinq_2yrs</th>\n",
       "      <th>fico_range_low</th>\n",
       "      <th>fico_range_high</th>\n",
       "      <th>inq_last_6mths</th>\n",
       "      <th>mths_since_last_delinq</th>\n",
       "      <th>mths_since_last_record</th>\n",
       "      <th>open_acc</th>\n",
       "      <th>pub_rec</th>\n",
       "      <th>revol_bal</th>\n",
       "      <th>revol_util</th>\n",
       "      <th>total_acc</th>\n",
       "      <th>initial_list_status</th>\n",
       "      <th>last_fico_range_high</th>\n",
       "      <th>last_fico_range_low</th>\n",
       "      <th>collections_12_mths_ex_med</th>\n",
       "      <th>mths_since_last_major_derog</th>\n",
       "      <th>application_type</th>\n",
       "      <th>acc_now_delinq</th>\n",
       "      <th>tot_coll_amt</th>\n",
       "      <th>tot_cur_bal</th>\n",
       "      <th>open_acc_6m</th>\n",
       "      <th>open_act_il</th>\n",
       "      <th>open_il_12m</th>\n",
       "      <th>open_il_24m</th>\n",
       "      <th>mths_since_rcnt_il</th>\n",
       "      <th>total_bal_il</th>\n",
       "      <th>il_util</th>\n",
       "      <th>open_rv_12m</th>\n",
       "      <th>open_rv_24m</th>\n",
       "      <th>max_bal_bc</th>\n",
       "      <th>all_util</th>\n",
       "      <th>total_rev_hi_lim</th>\n",
       "      <th>inq_fi</th>\n",
       "      <th>total_cu_tl</th>\n",
       "      <th>inq_last_12m</th>\n",
       "      <th>acc_open_past_24mths</th>\n",
       "      <th>avg_cur_bal</th>\n",
       "      <th>bc_open_to_buy</th>\n",
       "      <th>bc_util</th>\n",
       "      <th>chargeoff_within_12_mths</th>\n",
       "      <th>delinq_amnt</th>\n",
       "      <th>mo_sin_old_il_acct</th>\n",
       "      <th>mo_sin_old_rev_tl_op</th>\n",
       "      <th>mo_sin_rcnt_rev_tl_op</th>\n",
       "      <th>mo_sin_rcnt_tl</th>\n",
       "      <th>mort_acc</th>\n",
       "      <th>mths_since_recent_bc</th>\n",
       "      <th>mths_since_recent_bc_dlq</th>\n",
       "      <th>mths_since_recent_inq</th>\n",
       "      <th>mths_since_recent_revol_delinq</th>\n",
       "      <th>num_accts_ever_120_pd</th>\n",
       "      <th>num_actv_bc_tl</th>\n",
       "      <th>num_actv_rev_tl</th>\n",
       "      <th>num_bc_sats</th>\n",
       "      <th>num_bc_tl</th>\n",
       "      <th>num_il_tl</th>\n",
       "      <th>num_op_rev_tl</th>\n",
       "      <th>num_rev_accts</th>\n",
       "      <th>num_rev_tl_bal_gt_0</th>\n",
       "      <th>num_sats</th>\n",
       "      <th>num_tl_120dpd_2m</th>\n",
       "      <th>num_tl_30dpd</th>\n",
       "      <th>num_tl_90g_dpd_24m</th>\n",
       "      <th>num_tl_op_past_12m</th>\n",
       "      <th>pct_tl_nvr_dlq</th>\n",
       "      <th>percent_bc_gt_75</th>\n",
       "      <th>pub_rec_bankruptcies</th>\n",
       "      <th>tax_liens</th>\n",
       "      <th>tot_hi_cred_lim</th>\n",
       "      <th>total_bal_ex_mort</th>\n",
       "      <th>total_bc_limit</th>\n",
       "      <th>total_il_high_credit_limit</th>\n",
       "      <th>disbursement_method</th>\n",
       "    </tr>\n",
       "  </thead>\n",
       "  <tbody>\n",
       "    <tr>\n",
       "      <th>0</th>\n",
       "      <td>15000.0</td>\n",
       "      <td>15000.0</td>\n",
       "      <td>15000.0</td>\n",
       "      <td>60.0</td>\n",
       "      <td>12.39</td>\n",
       "      <td>336.64</td>\n",
       "      <td>10.0</td>\n",
       "      <td>10.0</td>\n",
       "      <td>RENT</td>\n",
       "      <td>78000.0</td>\n",
       "      <td>Source Verified</td>\n",
       "      <td>0.0</td>\n",
       "      <td>debt_consolidation</td>\n",
       "      <td>235.0</td>\n",
       "      <td>12.03</td>\n",
       "      <td>0.0</td>\n",
       "      <td>750.0</td>\n",
       "      <td>754.0</td>\n",
       "      <td>0.0</td>\n",
       "      <td>NaN</td>\n",
       "      <td>NaN</td>\n",
       "      <td>6.0</td>\n",
       "      <td>0.0</td>\n",
       "      <td>138008.0</td>\n",
       "      <td>29.0</td>\n",
       "      <td>17.0</td>\n",
       "      <td>w</td>\n",
       "      <td>684.0</td>\n",
       "      <td>680.0</td>\n",
       "      <td>0.0</td>\n",
       "      <td>NaN</td>\n",
       "      <td>Individual</td>\n",
       "      <td>0.0</td>\n",
       "      <td>0.0</td>\n",
       "      <td>149140.0</td>\n",
       "      <td>NaN</td>\n",
       "      <td>NaN</td>\n",
       "      <td>NaN</td>\n",
       "      <td>NaN</td>\n",
       "      <td>NaN</td>\n",
       "      <td>NaN</td>\n",
       "      <td>NaN</td>\n",
       "      <td>NaN</td>\n",
       "      <td>NaN</td>\n",
       "      <td>NaN</td>\n",
       "      <td>NaN</td>\n",
       "      <td>184500.0</td>\n",
       "      <td>NaN</td>\n",
       "      <td>NaN</td>\n",
       "      <td>NaN</td>\n",
       "      <td>5.0</td>\n",
       "      <td>29828.0</td>\n",
       "      <td>9525.0</td>\n",
       "      <td>4.7</td>\n",
       "      <td>0.0</td>\n",
       "      <td>0.0</td>\n",
       "      <td>103.0</td>\n",
       "      <td>244.0</td>\n",
       "      <td>1.0</td>\n",
       "      <td>1.0</td>\n",
       "      <td>0.0</td>\n",
       "      <td>47.0</td>\n",
       "      <td>NaN</td>\n",
       "      <td>NaN</td>\n",
       "      <td>NaN</td>\n",
       "      <td>0.0</td>\n",
       "      <td>1.0</td>\n",
       "      <td>4.0</td>\n",
       "      <td>1.0</td>\n",
       "      <td>2.0</td>\n",
       "      <td>8.0</td>\n",
       "      <td>5.0</td>\n",
       "      <td>9.0</td>\n",
       "      <td>4.0</td>\n",
       "      <td>6.0</td>\n",
       "      <td>0.0</td>\n",
       "      <td>0.0</td>\n",
       "      <td>0.0</td>\n",
       "      <td>4.0</td>\n",
       "      <td>100.0</td>\n",
       "      <td>0.0</td>\n",
       "      <td>0.0</td>\n",
       "      <td>0.0</td>\n",
       "      <td>196500.0</td>\n",
       "      <td>149140.0</td>\n",
       "      <td>10000.0</td>\n",
       "      <td>12000.0</td>\n",
       "      <td>Cash</td>\n",
       "    </tr>\n",
       "    <tr>\n",
       "      <th>1</th>\n",
       "      <td>10400.0</td>\n",
       "      <td>10400.0</td>\n",
       "      <td>10400.0</td>\n",
       "      <td>36.0</td>\n",
       "      <td>6.99</td>\n",
       "      <td>321.08</td>\n",
       "      <td>2.0</td>\n",
       "      <td>8.0</td>\n",
       "      <td>MORTGAGE</td>\n",
       "      <td>58000.0</td>\n",
       "      <td>Not Verified</td>\n",
       "      <td>1.0</td>\n",
       "      <td>credit_card</td>\n",
       "      <td>937.0</td>\n",
       "      <td>14.92</td>\n",
       "      <td>0.0</td>\n",
       "      <td>710.0</td>\n",
       "      <td>714.0</td>\n",
       "      <td>2.0</td>\n",
       "      <td>42.0</td>\n",
       "      <td>NaN</td>\n",
       "      <td>17.0</td>\n",
       "      <td>0.0</td>\n",
       "      <td>6133.0</td>\n",
       "      <td>31.6</td>\n",
       "      <td>36.0</td>\n",
       "      <td>w</td>\n",
       "      <td>564.0</td>\n",
       "      <td>560.0</td>\n",
       "      <td>0.0</td>\n",
       "      <td>59.0</td>\n",
       "      <td>Individual</td>\n",
       "      <td>0.0</td>\n",
       "      <td>0.0</td>\n",
       "      <td>162110.0</td>\n",
       "      <td>NaN</td>\n",
       "      <td>NaN</td>\n",
       "      <td>NaN</td>\n",
       "      <td>NaN</td>\n",
       "      <td>NaN</td>\n",
       "      <td>NaN</td>\n",
       "      <td>NaN</td>\n",
       "      <td>NaN</td>\n",
       "      <td>NaN</td>\n",
       "      <td>NaN</td>\n",
       "      <td>NaN</td>\n",
       "      <td>19400.0</td>\n",
       "      <td>NaN</td>\n",
       "      <td>NaN</td>\n",
       "      <td>NaN</td>\n",
       "      <td>7.0</td>\n",
       "      <td>9536.0</td>\n",
       "      <td>7599.0</td>\n",
       "      <td>41.5</td>\n",
       "      <td>0.0</td>\n",
       "      <td>0.0</td>\n",
       "      <td>76.0</td>\n",
       "      <td>290.0</td>\n",
       "      <td>1.0</td>\n",
       "      <td>1.0</td>\n",
       "      <td>1.0</td>\n",
       "      <td>5.0</td>\n",
       "      <td>42.0</td>\n",
       "      <td>1.0</td>\n",
       "      <td>42.0</td>\n",
       "      <td>4.0</td>\n",
       "      <td>6.0</td>\n",
       "      <td>9.0</td>\n",
       "      <td>7.0</td>\n",
       "      <td>18.0</td>\n",
       "      <td>2.0</td>\n",
       "      <td>14.0</td>\n",
       "      <td>32.0</td>\n",
       "      <td>9.0</td>\n",
       "      <td>17.0</td>\n",
       "      <td>0.0</td>\n",
       "      <td>0.0</td>\n",
       "      <td>0.0</td>\n",
       "      <td>4.0</td>\n",
       "      <td>83.3</td>\n",
       "      <td>14.3</td>\n",
       "      <td>0.0</td>\n",
       "      <td>0.0</td>\n",
       "      <td>179407.0</td>\n",
       "      <td>15030.0</td>\n",
       "      <td>13000.0</td>\n",
       "      <td>11325.0</td>\n",
       "      <td>Cash</td>\n",
       "    </tr>\n",
       "    <tr>\n",
       "      <th>2</th>\n",
       "      <td>21425.0</td>\n",
       "      <td>21425.0</td>\n",
       "      <td>21425.0</td>\n",
       "      <td>60.0</td>\n",
       "      <td>15.59</td>\n",
       "      <td>516.36</td>\n",
       "      <td>15.0</td>\n",
       "      <td>6.0</td>\n",
       "      <td>RENT</td>\n",
       "      <td>63800.0</td>\n",
       "      <td>Source Verified</td>\n",
       "      <td>0.0</td>\n",
       "      <td>credit_card</td>\n",
       "      <td>658.0</td>\n",
       "      <td>18.49</td>\n",
       "      <td>0.0</td>\n",
       "      <td>685.0</td>\n",
       "      <td>689.0</td>\n",
       "      <td>0.0</td>\n",
       "      <td>60.0</td>\n",
       "      <td>NaN</td>\n",
       "      <td>10.0</td>\n",
       "      <td>0.0</td>\n",
       "      <td>16374.0</td>\n",
       "      <td>76.2</td>\n",
       "      <td>35.0</td>\n",
       "      <td>w</td>\n",
       "      <td>704.0</td>\n",
       "      <td>700.0</td>\n",
       "      <td>0.0</td>\n",
       "      <td>74.0</td>\n",
       "      <td>Individual</td>\n",
       "      <td>0.0</td>\n",
       "      <td>0.0</td>\n",
       "      <td>42315.0</td>\n",
       "      <td>NaN</td>\n",
       "      <td>NaN</td>\n",
       "      <td>NaN</td>\n",
       "      <td>NaN</td>\n",
       "      <td>NaN</td>\n",
       "      <td>NaN</td>\n",
       "      <td>NaN</td>\n",
       "      <td>NaN</td>\n",
       "      <td>NaN</td>\n",
       "      <td>NaN</td>\n",
       "      <td>NaN</td>\n",
       "      <td>21500.0</td>\n",
       "      <td>NaN</td>\n",
       "      <td>NaN</td>\n",
       "      <td>NaN</td>\n",
       "      <td>4.0</td>\n",
       "      <td>4232.0</td>\n",
       "      <td>324.0</td>\n",
       "      <td>97.8</td>\n",
       "      <td>0.0</td>\n",
       "      <td>0.0</td>\n",
       "      <td>135.0</td>\n",
       "      <td>136.0</td>\n",
       "      <td>7.0</td>\n",
       "      <td>7.0</td>\n",
       "      <td>0.0</td>\n",
       "      <td>7.0</td>\n",
       "      <td>60.0</td>\n",
       "      <td>7.0</td>\n",
       "      <td>60.0</td>\n",
       "      <td>1.0</td>\n",
       "      <td>3.0</td>\n",
       "      <td>4.0</td>\n",
       "      <td>3.0</td>\n",
       "      <td>12.0</td>\n",
       "      <td>16.0</td>\n",
       "      <td>5.0</td>\n",
       "      <td>18.0</td>\n",
       "      <td>4.0</td>\n",
       "      <td>10.0</td>\n",
       "      <td>0.0</td>\n",
       "      <td>0.0</td>\n",
       "      <td>0.0</td>\n",
       "      <td>2.0</td>\n",
       "      <td>91.4</td>\n",
       "      <td>100.0</td>\n",
       "      <td>0.0</td>\n",
       "      <td>0.0</td>\n",
       "      <td>57073.0</td>\n",
       "      <td>42315.0</td>\n",
       "      <td>15000.0</td>\n",
       "      <td>35573.0</td>\n",
       "      <td>Cash</td>\n",
       "    </tr>\n",
       "  </tbody>\n",
       "</table>\n",
       "</div>"
      ],
      "text/plain": [
       "   loan_amnt  funded_amnt  funded_amnt_inv  term  int_rate  installment  \\\n",
       "0    15000.0      15000.0          15000.0  60.0     12.39       336.64   \n",
       "1    10400.0      10400.0          10400.0  36.0      6.99       321.08   \n",
       "2    21425.0      21425.0          21425.0  60.0     15.59       516.36   \n",
       "\n",
       "   sub_grade  emp_length home_ownership  annual_inc verification_status  \\\n",
       "0       10.0        10.0           RENT     78000.0     Source Verified   \n",
       "1        2.0         8.0       MORTGAGE     58000.0        Not Verified   \n",
       "2       15.0         6.0           RENT     63800.0     Source Verified   \n",
       "\n",
       "   charged_off             purpose  zip_code    dti  delinq_2yrs  \\\n",
       "0          0.0  debt_consolidation     235.0  12.03          0.0   \n",
       "1          1.0         credit_card     937.0  14.92          0.0   \n",
       "2          0.0         credit_card     658.0  18.49          0.0   \n",
       "\n",
       "   fico_range_low  fico_range_high  inq_last_6mths  mths_since_last_delinq  \\\n",
       "0           750.0            754.0             0.0                     NaN   \n",
       "1           710.0            714.0             2.0                    42.0   \n",
       "2           685.0            689.0             0.0                    60.0   \n",
       "\n",
       "   mths_since_last_record  open_acc  pub_rec  revol_bal  revol_util  \\\n",
       "0                     NaN       6.0      0.0   138008.0        29.0   \n",
       "1                     NaN      17.0      0.0     6133.0        31.6   \n",
       "2                     NaN      10.0      0.0    16374.0        76.2   \n",
       "\n",
       "   total_acc initial_list_status  last_fico_range_high  last_fico_range_low  \\\n",
       "0       17.0                   w                 684.0                680.0   \n",
       "1       36.0                   w                 564.0                560.0   \n",
       "2       35.0                   w                 704.0                700.0   \n",
       "\n",
       "   collections_12_mths_ex_med  mths_since_last_major_derog application_type  \\\n",
       "0                         0.0                          NaN       Individual   \n",
       "1                         0.0                         59.0       Individual   \n",
       "2                         0.0                         74.0       Individual   \n",
       "\n",
       "   acc_now_delinq  tot_coll_amt  tot_cur_bal  open_acc_6m  open_act_il  \\\n",
       "0             0.0           0.0     149140.0          NaN          NaN   \n",
       "1             0.0           0.0     162110.0          NaN          NaN   \n",
       "2             0.0           0.0      42315.0          NaN          NaN   \n",
       "\n",
       "   open_il_12m  open_il_24m  mths_since_rcnt_il  total_bal_il  il_util  \\\n",
       "0          NaN          NaN                 NaN           NaN      NaN   \n",
       "1          NaN          NaN                 NaN           NaN      NaN   \n",
       "2          NaN          NaN                 NaN           NaN      NaN   \n",
       "\n",
       "   open_rv_12m  open_rv_24m  max_bal_bc  all_util  total_rev_hi_lim  inq_fi  \\\n",
       "0          NaN          NaN         NaN       NaN          184500.0     NaN   \n",
       "1          NaN          NaN         NaN       NaN           19400.0     NaN   \n",
       "2          NaN          NaN         NaN       NaN           21500.0     NaN   \n",
       "\n",
       "   total_cu_tl  inq_last_12m  acc_open_past_24mths  avg_cur_bal  \\\n",
       "0          NaN           NaN                   5.0      29828.0   \n",
       "1          NaN           NaN                   7.0       9536.0   \n",
       "2          NaN           NaN                   4.0       4232.0   \n",
       "\n",
       "   bc_open_to_buy  bc_util  chargeoff_within_12_mths  delinq_amnt  \\\n",
       "0          9525.0      4.7                       0.0          0.0   \n",
       "1          7599.0     41.5                       0.0          0.0   \n",
       "2           324.0     97.8                       0.0          0.0   \n",
       "\n",
       "   mo_sin_old_il_acct  mo_sin_old_rev_tl_op  mo_sin_rcnt_rev_tl_op  \\\n",
       "0               103.0                 244.0                    1.0   \n",
       "1                76.0                 290.0                    1.0   \n",
       "2               135.0                 136.0                    7.0   \n",
       "\n",
       "   mo_sin_rcnt_tl  mort_acc  mths_since_recent_bc  mths_since_recent_bc_dlq  \\\n",
       "0             1.0       0.0                  47.0                       NaN   \n",
       "1             1.0       1.0                   5.0                      42.0   \n",
       "2             7.0       0.0                   7.0                      60.0   \n",
       "\n",
       "   mths_since_recent_inq  mths_since_recent_revol_delinq  \\\n",
       "0                    NaN                             NaN   \n",
       "1                    1.0                            42.0   \n",
       "2                    7.0                            60.0   \n",
       "\n",
       "   num_accts_ever_120_pd  num_actv_bc_tl  num_actv_rev_tl  num_bc_sats  \\\n",
       "0                    0.0             1.0              4.0          1.0   \n",
       "1                    4.0             6.0              9.0          7.0   \n",
       "2                    1.0             3.0              4.0          3.0   \n",
       "\n",
       "   num_bc_tl  num_il_tl  num_op_rev_tl  num_rev_accts  num_rev_tl_bal_gt_0  \\\n",
       "0        2.0        8.0            5.0            9.0                  4.0   \n",
       "1       18.0        2.0           14.0           32.0                  9.0   \n",
       "2       12.0       16.0            5.0           18.0                  4.0   \n",
       "\n",
       "   num_sats  num_tl_120dpd_2m  num_tl_30dpd  num_tl_90g_dpd_24m  \\\n",
       "0       6.0               0.0           0.0                 0.0   \n",
       "1      17.0               0.0           0.0                 0.0   \n",
       "2      10.0               0.0           0.0                 0.0   \n",
       "\n",
       "   num_tl_op_past_12m  pct_tl_nvr_dlq  percent_bc_gt_75  pub_rec_bankruptcies  \\\n",
       "0                 4.0           100.0               0.0                   0.0   \n",
       "1                 4.0            83.3              14.3                   0.0   \n",
       "2                 2.0            91.4             100.0                   0.0   \n",
       "\n",
       "   tax_liens  tot_hi_cred_lim  total_bal_ex_mort  total_bc_limit  \\\n",
       "0        0.0         196500.0           149140.0         10000.0   \n",
       "1        0.0         179407.0            15030.0         13000.0   \n",
       "2        0.0          57073.0            42315.0         15000.0   \n",
       "\n",
       "   total_il_high_credit_limit disbursement_method  \n",
       "0                     12000.0                Cash  \n",
       "1                     11325.0                Cash  \n",
       "2                     35573.0                Cash  "
      ]
     },
     "execution_count": 47,
     "metadata": {},
     "output_type": "execute_result"
    }
   ],
   "source": [
    "df.head(3)"
   ]
  },
  {
   "cell_type": "markdown",
   "metadata": {},
   "source": [
    "Let's make a count plot of the loan purpose, separated by the 'charged_off' value."
   ]
  },
  {
   "cell_type": "code",
   "execution_count": 48,
   "metadata": {
    "scrolled": true
   },
   "outputs": [
    {
     "data": {
      "text/plain": [
       "<matplotlib.axes._subplots.AxesSubplot at 0x23c00813dd8>"
      ]
     },
     "execution_count": 48,
     "metadata": {},
     "output_type": "execute_result"
    },
    {
     "data": {
      "image/png": "[encoded data removed]",
      "text/plain": [
       "<matplotlib.figure.Figure at 0x23c014debe0>"
      ]
     },
     "metadata": {},
     "output_type": "display_data"
    }
   ],
   "source": [
    "plt.figure(figsize=(12,6), dpi=100)\n",
    "sns.countplot(y='purpose', hue='charged_off', data=df, orient='h')"
   ]
  },
  {
   "cell_type": "markdown",
   "metadata": {},
   "source": [
    "Looks like most of the charge-offs come from loans for debt consolidation or to pay off credit cards."
   ]
  },
  {
   "cell_type": "markdown",
   "metadata": {},
   "source": [
    "Let's make a similar plot, but with 'sub_grade' instead of 'purpose'."
   ]
  },
  {
   "cell_type": "code",
   "execution_count": 49,
   "metadata": {},
   "outputs": [
    {
     "data": {
      "text/plain": [
       "<matplotlib.axes._subplots.AxesSubplot at 0x23c01c52128>"
      ]
     },
     "execution_count": 49,
     "metadata": {},
     "output_type": "execute_result"
    },
    {
     "data": {
      "image/png": "[encoded data removed]",
      "text/plain": [
       "<matplotlib.figure.Figure at 0x23c01b81860>"
      ]
     },
     "metadata": {},
     "output_type": "display_data"
    }
   ],
   "source": [
    "plt.figure(figsize=(16,6), dpi=120)\n",
    "sns.countplot(x='sub_grade', hue='charged_off', data=df, order=sorted(df['sub_grade'].value_counts().index))"
   ]
  },
  {
   "cell_type": "markdown",
   "metadata": {},
   "source": [
    "There's a clear trend of higher probability of charge-off as the subgrade worsens. (A higher value is a worse subgrade.)"
   ]
  },
  {
   "cell_type": "markdown",
   "metadata": {},
   "source": [
    "Let's make a similar plot, but with 'term' instead of 'sub_grade'."
   ]
  },
  {
   "cell_type": "code",
   "execution_count": 50,
   "metadata": {},
   "outputs": [
    {
     "data": {
      "text/plain": [
       "<matplotlib.axes._subplots.AxesSubplot at 0x23c01cb1eb8>"
      ]
     },
     "execution_count": 50,
     "metadata": {},
     "output_type": "execute_result"
    },
    {
     "data": {
      "image/png": "[encoded data removed]",
      "text/plain": [
       "<matplotlib.figure.Figure at 0x23c01b95940>"
      ]
     },
     "metadata": {},
     "output_type": "display_data"
    }
   ],
   "source": [
    "plt.figure(figsize=(4,4), dpi=90)\n",
    "sns.countplot(x='term', hue='charged_off', data=df)"
   ]
  },
  {
   "cell_type": "markdown",
   "metadata": {},
   "source": [
    "Loans with a term of 60 months are much more likely to be charged off."
   ]
  },
  {
   "cell_type": "markdown",
   "metadata": {},
   "source": [
    "Now let's compare the interest rate to the loan status using a kdeplot, which approximates the probability distribution of the data."
   ]
  },
  {
   "cell_type": "code",
   "execution_count": 51,
   "metadata": {},
   "outputs": [
    {
     "data": {
      "text/plain": [
       "Text(0,0.5,'density')"
      ]
     },
     "execution_count": 51,
     "metadata": {},
     "output_type": "execute_result"
    },
    {
     "data": {
      "image/png": "[encoded data removed]",
      "text/plain": [
       "<matplotlib.figure.Figure at 0x23c01b956a0>"
      ]
     },
     "metadata": {},
     "output_type": "display_data"
    }
   ],
   "source": [
    "plt.figure(figsize=(10,4), dpi=90)\n",
    "sns.kdeplot(df['int_rate'].loc[df['charged_off']==0], gridsize=500, label='charged_off = 0')\n",
    "sns.kdeplot(df['int_rate'].loc[df['charged_off']==1], gridsize=500, label='charged_off = 1')\n",
    "plt.xlabel('int_rate')\n",
    "plt.ylabel('density')"
   ]
  },
  {
   "cell_type": "markdown",
   "metadata": {},
   "source": [
    "Charged-off loans tend to have higher interest rates."
   ]
  },
  {
   "cell_type": "markdown",
   "metadata": {},
   "source": [
    "Now let's compare the borrower's most recent FICO score (a credit score) to the loan status."
   ]
  },
  {
   "cell_type": "code",
   "execution_count": 52,
   "metadata": {},
   "outputs": [
    {
     "data": {
      "text/plain": [
       "Text(0,0.5,'density')"
      ]
     },
     "execution_count": 52,
     "metadata": {},
     "output_type": "execute_result"
    },
    {
     "data": {
      "image/png": "[encoded data removed]",
      "text/plain": [
       "<matplotlib.figure.Figure at 0x23c01c52710>"
      ]
     },
     "metadata": {},
     "output_type": "display_data"
    }
   ],
   "source": [
    "plt.figure(figsize=(10,4), dpi=90)\n",
    "sns.kdeplot(df['last_fico_range_high'].loc[df['charged_off']==0], gridsize=500, label='charged_off = 0')\n",
    "sns.kdeplot(df['last_fico_range_high'].loc[df['charged_off']==1], gridsize=500, label='charged_off = 1')\n",
    "plt.xlabel('last_fico_range_high')\n",
    "plt.ylabel('density')"
   ]
  },
  {
   "cell_type": "markdown",
   "metadata": {},
   "source": [
    "Looks like charged-off loans tend to have much lower FICO scores."
   ]
  },
  {
   "cell_type": "markdown",
   "metadata": {},
   "source": [
    "# Correlations with 'charged_off'\n",
    "<a id=\"6\"></a>"
   ]
  },
  {
   "cell_type": "markdown",
   "metadata": {},
   "source": [
    "By studying correlation coefficients, we can get an idea of which features correlate most strongly with 'charged_off'."
   ]
  },
  {
   "cell_type": "markdown",
   "metadata": {},
   "source": [
    "## Create dummy variables\n",
    "<a id=\"6.1\"></a>"
   ]
  },
  {
   "cell_type": "markdown",
   "metadata": {},
   "source": [
    "To study correlations with 'charged_off', we need to convert categorial features to dummy variables."
   ]
  },
  {
   "cell_type": "code",
   "execution_count": 53,
   "metadata": {},
   "outputs": [
    {
     "data": {
      "text/plain": [
       "['home_ownership',\n",
       " 'verification_status',\n",
       " 'purpose',\n",
       " 'initial_list_status',\n",
       " 'application_type',\n",
       " 'disbursement_method']"
      ]
     },
     "execution_count": 53,
     "metadata": {},
     "output_type": "execute_result"
    }
   ],
   "source": [
    "cat_feats = []\n",
    "for col in df.columns:\n",
    "    if df[col].dtype == np.object:\n",
    "        cat_feats.append(col)\n",
    "\n",
    "cat_feats"
   ]
  },
  {
   "cell_type": "code",
   "execution_count": 54,
   "metadata": {},
   "outputs": [
    {
     "data": {
      "text/plain": [
       "(814986, 88)"
      ]
     },
     "execution_count": 54,
     "metadata": {},
     "output_type": "execute_result"
    }
   ],
   "source": [
    "df.shape"
   ]
  },
  {
   "cell_type": "code",
   "execution_count": 55,
   "metadata": {
    "collapsed": true
   },
   "outputs": [],
   "source": [
    "df = pd.get_dummies(df, columns=cat_feats, drop_first=True)"
   ]
  },
  {
   "cell_type": "code",
   "execution_count": 56,
   "metadata": {},
   "outputs": [
    {
     "data": {
      "text/plain": [
       "(814986, 105)"
      ]
     },
     "execution_count": 56,
     "metadata": {},
     "output_type": "execute_result"
    }
   ],
   "source": [
    "df.shape"
   ]
  },
  {
   "cell_type": "markdown",
   "metadata": {},
   "source": [
    "We now have 105 features, all numerical. What does the dataframe look like after converting categorical features to dummy variables?"
   ]
  },
  {
   "cell_type": "code",
   "execution_count": 57,
   "metadata": {},
   "outputs": [
    {
     "data": {
      "text/html": [
       "<div>\n",
       "<style scoped>\n",
       "    .dataframe tbody tr th:only-of-type {\n",
       "        vertical-align: middle;\n",
       "    }\n",
       "\n",
       "    .dataframe tbody tr th {\n",
       "        vertical-align: top;\n",
       "    }\n",
       "\n",
       "    .dataframe thead th {\n",
       "        text-align: right;\n",
       "    }\n",
       "</style>\n",
       "<table border=\"1\" class=\"dataframe\">\n",
       "  <thead>\n",
       "    <tr style=\"text-align: right;\">\n",
       "      <th></th>\n",
       "      <th>loan_amnt</th>\n",
       "      <th>funded_amnt</th>\n",
       "      <th>funded_amnt_inv</th>\n",
       "      <th>term</th>\n",
       "      <th>int_rate</th>\n",
       "      <th>installment</th>\n",
       "      <th>sub_grade</th>\n",
       "      <th>emp_length</th>\n",
       "      <th>annual_inc</th>\n",
       "      <th>charged_off</th>\n",
       "      <th>zip_code</th>\n",
       "      <th>dti</th>\n",
       "      <th>delinq_2yrs</th>\n",
       "      <th>fico_range_low</th>\n",
       "      <th>fico_range_high</th>\n",
       "      <th>inq_last_6mths</th>\n",
       "      <th>mths_since_last_delinq</th>\n",
       "      <th>mths_since_last_record</th>\n",
       "      <th>open_acc</th>\n",
       "      <th>pub_rec</th>\n",
       "      <th>revol_bal</th>\n",
       "      <th>revol_util</th>\n",
       "      <th>total_acc</th>\n",
       "      <th>last_fico_range_high</th>\n",
       "      <th>last_fico_range_low</th>\n",
       "      <th>collections_12_mths_ex_med</th>\n",
       "      <th>mths_since_last_major_derog</th>\n",
       "      <th>acc_now_delinq</th>\n",
       "      <th>tot_coll_amt</th>\n",
       "      <th>tot_cur_bal</th>\n",
       "      <th>open_acc_6m</th>\n",
       "      <th>open_act_il</th>\n",
       "      <th>open_il_12m</th>\n",
       "      <th>open_il_24m</th>\n",
       "      <th>mths_since_rcnt_il</th>\n",
       "      <th>total_bal_il</th>\n",
       "      <th>il_util</th>\n",
       "      <th>open_rv_12m</th>\n",
       "      <th>open_rv_24m</th>\n",
       "      <th>max_bal_bc</th>\n",
       "      <th>all_util</th>\n",
       "      <th>total_rev_hi_lim</th>\n",
       "      <th>inq_fi</th>\n",
       "      <th>total_cu_tl</th>\n",
       "      <th>inq_last_12m</th>\n",
       "      <th>acc_open_past_24mths</th>\n",
       "      <th>avg_cur_bal</th>\n",
       "      <th>bc_open_to_buy</th>\n",
       "      <th>bc_util</th>\n",
       "      <th>chargeoff_within_12_mths</th>\n",
       "      <th>delinq_amnt</th>\n",
       "      <th>mo_sin_old_il_acct</th>\n",
       "      <th>mo_sin_old_rev_tl_op</th>\n",
       "      <th>mo_sin_rcnt_rev_tl_op</th>\n",
       "      <th>mo_sin_rcnt_tl</th>\n",
       "      <th>mort_acc</th>\n",
       "      <th>mths_since_recent_bc</th>\n",
       "      <th>mths_since_recent_bc_dlq</th>\n",
       "      <th>mths_since_recent_inq</th>\n",
       "      <th>mths_since_recent_revol_delinq</th>\n",
       "      <th>num_accts_ever_120_pd</th>\n",
       "      <th>num_actv_bc_tl</th>\n",
       "      <th>num_actv_rev_tl</th>\n",
       "      <th>num_bc_sats</th>\n",
       "      <th>num_bc_tl</th>\n",
       "      <th>num_il_tl</th>\n",
       "      <th>num_op_rev_tl</th>\n",
       "      <th>num_rev_accts</th>\n",
       "      <th>num_rev_tl_bal_gt_0</th>\n",
       "      <th>num_sats</th>\n",
       "      <th>num_tl_120dpd_2m</th>\n",
       "      <th>num_tl_30dpd</th>\n",
       "      <th>num_tl_90g_dpd_24m</th>\n",
       "      <th>num_tl_op_past_12m</th>\n",
       "      <th>pct_tl_nvr_dlq</th>\n",
       "      <th>percent_bc_gt_75</th>\n",
       "      <th>pub_rec_bankruptcies</th>\n",
       "      <th>tax_liens</th>\n",
       "      <th>tot_hi_cred_lim</th>\n",
       "      <th>total_bal_ex_mort</th>\n",
       "      <th>total_bc_limit</th>\n",
       "      <th>total_il_high_credit_limit</th>\n",
       "      <th>home_ownership_MORTGAGE</th>\n",
       "      <th>home_ownership_NONE</th>\n",
       "      <th>home_ownership_OTHER</th>\n",
       "      <th>home_ownership_OWN</th>\n",
       "      <th>home_ownership_RENT</th>\n",
       "      <th>verification_status_Source Verified</th>\n",
       "      <th>verification_status_Verified</th>\n",
       "      <th>purpose_credit_card</th>\n",
       "      <th>purpose_debt_consolidation</th>\n",
       "      <th>purpose_educational</th>\n",
       "      <th>purpose_home_improvement</th>\n",
       "      <th>purpose_house</th>\n",
       "      <th>purpose_major_purchase</th>\n",
       "      <th>purpose_medical</th>\n",
       "      <th>purpose_moving</th>\n",
       "      <th>purpose_other</th>\n",
       "      <th>purpose_renewable_energy</th>\n",
       "      <th>purpose_small_business</th>\n",
       "      <th>purpose_vacation</th>\n",
       "      <th>purpose_wedding</th>\n",
       "      <th>initial_list_status_w</th>\n",
       "      <th>application_type_Joint App</th>\n",
       "      <th>disbursement_method_DirectPay</th>\n",
       "    </tr>\n",
       "  </thead>\n",
       "  <tbody>\n",
       "    <tr>\n",
       "      <th>0</th>\n",
       "      <td>15000.0</td>\n",
       "      <td>15000.0</td>\n",
       "      <td>15000.0</td>\n",
       "      <td>60.0</td>\n",
       "      <td>12.39</td>\n",
       "      <td>336.64</td>\n",
       "      <td>10.0</td>\n",
       "      <td>10.0</td>\n",
       "      <td>78000.0</td>\n",
       "      <td>0.0</td>\n",
       "      <td>235.0</td>\n",
       "      <td>12.03</td>\n",
       "      <td>0.0</td>\n",
       "      <td>750.0</td>\n",
       "      <td>754.0</td>\n",
       "      <td>0.0</td>\n",
       "      <td>NaN</td>\n",
       "      <td>NaN</td>\n",
       "      <td>6.0</td>\n",
       "      <td>0.0</td>\n",
       "      <td>138008.0</td>\n",
       "      <td>29.0</td>\n",
       "      <td>17.0</td>\n",
       "      <td>684.0</td>\n",
       "      <td>680.0</td>\n",
       "      <td>0.0</td>\n",
       "      <td>NaN</td>\n",
       "      <td>0.0</td>\n",
       "      <td>0.0</td>\n",
       "      <td>149140.0</td>\n",
       "      <td>NaN</td>\n",
       "      <td>NaN</td>\n",
       "      <td>NaN</td>\n",
       "      <td>NaN</td>\n",
       "      <td>NaN</td>\n",
       "      <td>NaN</td>\n",
       "      <td>NaN</td>\n",
       "      <td>NaN</td>\n",
       "      <td>NaN</td>\n",
       "      <td>NaN</td>\n",
       "      <td>NaN</td>\n",
       "      <td>184500.0</td>\n",
       "      <td>NaN</td>\n",
       "      <td>NaN</td>\n",
       "      <td>NaN</td>\n",
       "      <td>5.0</td>\n",
       "      <td>29828.0</td>\n",
       "      <td>9525.0</td>\n",
       "      <td>4.7</td>\n",
       "      <td>0.0</td>\n",
       "      <td>0.0</td>\n",
       "      <td>103.0</td>\n",
       "      <td>244.0</td>\n",
       "      <td>1.0</td>\n",
       "      <td>1.0</td>\n",
       "      <td>0.0</td>\n",
       "      <td>47.0</td>\n",
       "      <td>NaN</td>\n",
       "      <td>NaN</td>\n",
       "      <td>NaN</td>\n",
       "      <td>0.0</td>\n",
       "      <td>1.0</td>\n",
       "      <td>4.0</td>\n",
       "      <td>1.0</td>\n",
       "      <td>2.0</td>\n",
       "      <td>8.0</td>\n",
       "      <td>5.0</td>\n",
       "      <td>9.0</td>\n",
       "      <td>4.0</td>\n",
       "      <td>6.0</td>\n",
       "      <td>0.0</td>\n",
       "      <td>0.0</td>\n",
       "      <td>0.0</td>\n",
       "      <td>4.0</td>\n",
       "      <td>100.0</td>\n",
       "      <td>0.0</td>\n",
       "      <td>0.0</td>\n",
       "      <td>0.0</td>\n",
       "      <td>196500.0</td>\n",
       "      <td>149140.0</td>\n",
       "      <td>10000.0</td>\n",
       "      <td>12000.0</td>\n",
       "      <td>0</td>\n",
       "      <td>0</td>\n",
       "      <td>0</td>\n",
       "      <td>0</td>\n",
       "      <td>1</td>\n",
       "      <td>1</td>\n",
       "      <td>0</td>\n",
       "      <td>0</td>\n",
       "      <td>1</td>\n",
       "      <td>0</td>\n",
       "      <td>0</td>\n",
       "      <td>0</td>\n",
       "      <td>0</td>\n",
       "      <td>0</td>\n",
       "      <td>0</td>\n",
       "      <td>0</td>\n",
       "      <td>0</td>\n",
       "      <td>0</td>\n",
       "      <td>0</td>\n",
       "      <td>0</td>\n",
       "      <td>1</td>\n",
       "      <td>0</td>\n",
       "      <td>0</td>\n",
       "    </tr>\n",
       "    <tr>\n",
       "      <th>1</th>\n",
       "      <td>10400.0</td>\n",
       "      <td>10400.0</td>\n",
       "      <td>10400.0</td>\n",
       "      <td>36.0</td>\n",
       "      <td>6.99</td>\n",
       "      <td>321.08</td>\n",
       "      <td>2.0</td>\n",
       "      <td>8.0</td>\n",
       "      <td>58000.0</td>\n",
       "      <td>1.0</td>\n",
       "      <td>937.0</td>\n",
       "      <td>14.92</td>\n",
       "      <td>0.0</td>\n",
       "      <td>710.0</td>\n",
       "      <td>714.0</td>\n",
       "      <td>2.0</td>\n",
       "      <td>42.0</td>\n",
       "      <td>NaN</td>\n",
       "      <td>17.0</td>\n",
       "      <td>0.0</td>\n",
       "      <td>6133.0</td>\n",
       "      <td>31.6</td>\n",
       "      <td>36.0</td>\n",
       "      <td>564.0</td>\n",
       "      <td>560.0</td>\n",
       "      <td>0.0</td>\n",
       "      <td>59.0</td>\n",
       "      <td>0.0</td>\n",
       "      <td>0.0</td>\n",
       "      <td>162110.0</td>\n",
       "      <td>NaN</td>\n",
       "      <td>NaN</td>\n",
       "      <td>NaN</td>\n",
       "      <td>NaN</td>\n",
       "      <td>NaN</td>\n",
       "      <td>NaN</td>\n",
       "      <td>NaN</td>\n",
       "      <td>NaN</td>\n",
       "      <td>NaN</td>\n",
       "      <td>NaN</td>\n",
       "      <td>NaN</td>\n",
       "      <td>19400.0</td>\n",
       "      <td>NaN</td>\n",
       "      <td>NaN</td>\n",
       "      <td>NaN</td>\n",
       "      <td>7.0</td>\n",
       "      <td>9536.0</td>\n",
       "      <td>7599.0</td>\n",
       "      <td>41.5</td>\n",
       "      <td>0.0</td>\n",
       "      <td>0.0</td>\n",
       "      <td>76.0</td>\n",
       "      <td>290.0</td>\n",
       "      <td>1.0</td>\n",
       "      <td>1.0</td>\n",
       "      <td>1.0</td>\n",
       "      <td>5.0</td>\n",
       "      <td>42.0</td>\n",
       "      <td>1.0</td>\n",
       "      <td>42.0</td>\n",
       "      <td>4.0</td>\n",
       "      <td>6.0</td>\n",
       "      <td>9.0</td>\n",
       "      <td>7.0</td>\n",
       "      <td>18.0</td>\n",
       "      <td>2.0</td>\n",
       "      <td>14.0</td>\n",
       "      <td>32.0</td>\n",
       "      <td>9.0</td>\n",
       "      <td>17.0</td>\n",
       "      <td>0.0</td>\n",
       "      <td>0.0</td>\n",
       "      <td>0.0</td>\n",
       "      <td>4.0</td>\n",
       "      <td>83.3</td>\n",
       "      <td>14.3</td>\n",
       "      <td>0.0</td>\n",
       "      <td>0.0</td>\n",
       "      <td>179407.0</td>\n",
       "      <td>15030.0</td>\n",
       "      <td>13000.0</td>\n",
       "      <td>11325.0</td>\n",
       "      <td>1</td>\n",
       "      <td>0</td>\n",
       "      <td>0</td>\n",
       "      <td>0</td>\n",
       "      <td>0</td>\n",
       "      <td>0</td>\n",
       "      <td>0</td>\n",
       "      <td>1</td>\n",
       "      <td>0</td>\n",
       "      <td>0</td>\n",
       "      <td>0</td>\n",
       "      <td>0</td>\n",
       "      <td>0</td>\n",
       "      <td>0</td>\n",
       "      <td>0</td>\n",
       "      <td>0</td>\n",
       "      <td>0</td>\n",
       "      <td>0</td>\n",
       "      <td>0</td>\n",
       "      <td>0</td>\n",
       "      <td>1</td>\n",
       "      <td>0</td>\n",
       "      <td>0</td>\n",
       "    </tr>\n",
       "    <tr>\n",
       "      <th>2</th>\n",
       "      <td>21425.0</td>\n",
       "      <td>21425.0</td>\n",
       "      <td>21425.0</td>\n",
       "      <td>60.0</td>\n",
       "      <td>15.59</td>\n",
       "      <td>516.36</td>\n",
       "      <td>15.0</td>\n",
       "      <td>6.0</td>\n",
       "      <td>63800.0</td>\n",
       "      <td>0.0</td>\n",
       "      <td>658.0</td>\n",
       "      <td>18.49</td>\n",
       "      <td>0.0</td>\n",
       "      <td>685.0</td>\n",
       "      <td>689.0</td>\n",
       "      <td>0.0</td>\n",
       "      <td>60.0</td>\n",
       "      <td>NaN</td>\n",
       "      <td>10.0</td>\n",
       "      <td>0.0</td>\n",
       "      <td>16374.0</td>\n",
       "      <td>76.2</td>\n",
       "      <td>35.0</td>\n",
       "      <td>704.0</td>\n",
       "      <td>700.0</td>\n",
       "      <td>0.0</td>\n",
       "      <td>74.0</td>\n",
       "      <td>0.0</td>\n",
       "      <td>0.0</td>\n",
       "      <td>42315.0</td>\n",
       "      <td>NaN</td>\n",
       "      <td>NaN</td>\n",
       "      <td>NaN</td>\n",
       "      <td>NaN</td>\n",
       "      <td>NaN</td>\n",
       "      <td>NaN</td>\n",
       "      <td>NaN</td>\n",
       "      <td>NaN</td>\n",
       "      <td>NaN</td>\n",
       "      <td>NaN</td>\n",
       "      <td>NaN</td>\n",
       "      <td>21500.0</td>\n",
       "      <td>NaN</td>\n",
       "      <td>NaN</td>\n",
       "      <td>NaN</td>\n",
       "      <td>4.0</td>\n",
       "      <td>4232.0</td>\n",
       "      <td>324.0</td>\n",
       "      <td>97.8</td>\n",
       "      <td>0.0</td>\n",
       "      <td>0.0</td>\n",
       "      <td>135.0</td>\n",
       "      <td>136.0</td>\n",
       "      <td>7.0</td>\n",
       "      <td>7.0</td>\n",
       "      <td>0.0</td>\n",
       "      <td>7.0</td>\n",
       "      <td>60.0</td>\n",
       "      <td>7.0</td>\n",
       "      <td>60.0</td>\n",
       "      <td>1.0</td>\n",
       "      <td>3.0</td>\n",
       "      <td>4.0</td>\n",
       "      <td>3.0</td>\n",
       "      <td>12.0</td>\n",
       "      <td>16.0</td>\n",
       "      <td>5.0</td>\n",
       "      <td>18.0</td>\n",
       "      <td>4.0</td>\n",
       "      <td>10.0</td>\n",
       "      <td>0.0</td>\n",
       "      <td>0.0</td>\n",
       "      <td>0.0</td>\n",
       "      <td>2.0</td>\n",
       "      <td>91.4</td>\n",
       "      <td>100.0</td>\n",
       "      <td>0.0</td>\n",
       "      <td>0.0</td>\n",
       "      <td>57073.0</td>\n",
       "      <td>42315.0</td>\n",
       "      <td>15000.0</td>\n",
       "      <td>35573.0</td>\n",
       "      <td>0</td>\n",
       "      <td>0</td>\n",
       "      <td>0</td>\n",
       "      <td>0</td>\n",
       "      <td>1</td>\n",
       "      <td>1</td>\n",
       "      <td>0</td>\n",
       "      <td>1</td>\n",
       "      <td>0</td>\n",
       "      <td>0</td>\n",
       "      <td>0</td>\n",
       "      <td>0</td>\n",
       "      <td>0</td>\n",
       "      <td>0</td>\n",
       "      <td>0</td>\n",
       "      <td>0</td>\n",
       "      <td>0</td>\n",
       "      <td>0</td>\n",
       "      <td>0</td>\n",
       "      <td>0</td>\n",
       "      <td>1</td>\n",
       "      <td>0</td>\n",
       "      <td>0</td>\n",
       "    </tr>\n",
       "  </tbody>\n",
       "</table>\n",
       "</div>"
      ],
      "text/plain": [
       "   loan_amnt  funded_amnt  funded_amnt_inv  term  int_rate  installment  \\\n",
       "0    15000.0      15000.0          15000.0  60.0     12.39       336.64   \n",
       "1    10400.0      10400.0          10400.0  36.0      6.99       321.08   \n",
       "2    21425.0      21425.0          21425.0  60.0     15.59       516.36   \n",
       "\n",
       "   sub_grade  emp_length  annual_inc  charged_off  zip_code    dti  \\\n",
       "0       10.0        10.0     78000.0          0.0     235.0  12.03   \n",
       "1        2.0         8.0     58000.0          1.0     937.0  14.92   \n",
       "2       15.0         6.0     63800.0          0.0     658.0  18.49   \n",
       "\n",
       "   delinq_2yrs  fico_range_low  fico_range_high  inq_last_6mths  \\\n",
       "0          0.0           750.0            754.0             0.0   \n",
       "1          0.0           710.0            714.0             2.0   \n",
       "2          0.0           685.0            689.0             0.0   \n",
       "\n",
       "   mths_since_last_delinq  mths_since_last_record  open_acc  pub_rec  \\\n",
       "0                     NaN                     NaN       6.0      0.0   \n",
       "1                    42.0                     NaN      17.0      0.0   \n",
       "2                    60.0                     NaN      10.0      0.0   \n",
       "\n",
       "   revol_bal  revol_util  total_acc  last_fico_range_high  \\\n",
       "0   138008.0        29.0       17.0                 684.0   \n",
       "1     6133.0        31.6       36.0                 564.0   \n",
       "2    16374.0        76.2       35.0                 704.0   \n",
       "\n",
       "   last_fico_range_low  collections_12_mths_ex_med  \\\n",
       "0                680.0                         0.0   \n",
       "1                560.0                         0.0   \n",
       "2                700.0                         0.0   \n",
       "\n",
       "   mths_since_last_major_derog  acc_now_delinq  tot_coll_amt  tot_cur_bal  \\\n",
       "0                          NaN             0.0           0.0     149140.0   \n",
       "1                         59.0             0.0           0.0     162110.0   \n",
       "2                         74.0             0.0           0.0      42315.0   \n",
       "\n",
       "   open_acc_6m  open_act_il  open_il_12m  open_il_24m  mths_since_rcnt_il  \\\n",
       "0          NaN          NaN          NaN          NaN                 NaN   \n",
       "1          NaN          NaN          NaN          NaN                 NaN   \n",
       "2          NaN          NaN          NaN          NaN                 NaN   \n",
       "\n",
       "   total_bal_il  il_util  open_rv_12m  open_rv_24m  max_bal_bc  all_util  \\\n",
       "0           NaN      NaN          NaN          NaN         NaN       NaN   \n",
       "1           NaN      NaN          NaN          NaN         NaN       NaN   \n",
       "2           NaN      NaN          NaN          NaN         NaN       NaN   \n",
       "\n",
       "   total_rev_hi_lim  inq_fi  total_cu_tl  inq_last_12m  acc_open_past_24mths  \\\n",
       "0          184500.0     NaN          NaN           NaN                   5.0   \n",
       "1           19400.0     NaN          NaN           NaN                   7.0   \n",
       "2           21500.0     NaN          NaN           NaN                   4.0   \n",
       "\n",
       "   avg_cur_bal  bc_open_to_buy  bc_util  chargeoff_within_12_mths  \\\n",
       "0      29828.0          9525.0      4.7                       0.0   \n",
       "1       9536.0          7599.0     41.5                       0.0   \n",
       "2       4232.0           324.0     97.8                       0.0   \n",
       "\n",
       "   delinq_amnt  mo_sin_old_il_acct  mo_sin_old_rev_tl_op  \\\n",
       "0          0.0               103.0                 244.0   \n",
       "1          0.0                76.0                 290.0   \n",
       "2          0.0               135.0                 136.0   \n",
       "\n",
       "   mo_sin_rcnt_rev_tl_op  mo_sin_rcnt_tl  mort_acc  mths_since_recent_bc  \\\n",
       "0                    1.0             1.0       0.0                  47.0   \n",
       "1                    1.0             1.0       1.0                   5.0   \n",
       "2                    7.0             7.0       0.0                   7.0   \n",
       "\n",
       "   mths_since_recent_bc_dlq  mths_since_recent_inq  \\\n",
       "0                       NaN                    NaN   \n",
       "1                      42.0                    1.0   \n",
       "2                      60.0                    7.0   \n",
       "\n",
       "   mths_since_recent_revol_delinq  num_accts_ever_120_pd  num_actv_bc_tl  \\\n",
       "0                             NaN                    0.0             1.0   \n",
       "1                            42.0                    4.0             6.0   \n",
       "2                            60.0                    1.0             3.0   \n",
       "\n",
       "   num_actv_rev_tl  num_bc_sats  num_bc_tl  num_il_tl  num_op_rev_tl  \\\n",
       "0              4.0          1.0        2.0        8.0            5.0   \n",
       "1              9.0          7.0       18.0        2.0           14.0   \n",
       "2              4.0          3.0       12.0       16.0            5.0   \n",
       "\n",
       "   num_rev_accts  num_rev_tl_bal_gt_0  num_sats  num_tl_120dpd_2m  \\\n",
       "0            9.0                  4.0       6.0               0.0   \n",
       "1           32.0                  9.0      17.0               0.0   \n",
       "2           18.0                  4.0      10.0               0.0   \n",
       "\n",
       "   num_tl_30dpd  num_tl_90g_dpd_24m  num_tl_op_past_12m  pct_tl_nvr_dlq  \\\n",
       "0           0.0                 0.0                 4.0           100.0   \n",
       "1           0.0                 0.0                 4.0            83.3   \n",
       "2           0.0                 0.0                 2.0            91.4   \n",
       "\n",
       "   percent_bc_gt_75  pub_rec_bankruptcies  tax_liens  tot_hi_cred_lim  \\\n",
       "0               0.0                   0.0        0.0         196500.0   \n",
       "1              14.3                   0.0        0.0         179407.0   \n",
       "2             100.0                   0.0        0.0          57073.0   \n",
       "\n",
       "   total_bal_ex_mort  total_bc_limit  total_il_high_credit_limit  \\\n",
       "0           149140.0         10000.0                     12000.0   \n",
       "1            15030.0         13000.0                     11325.0   \n",
       "2            42315.0         15000.0                     35573.0   \n",
       "\n",
       "   home_ownership_MORTGAGE  home_ownership_NONE  home_ownership_OTHER  \\\n",
       "0                        0                    0                     0   \n",
       "1                        1                    0                     0   \n",
       "2                        0                    0                     0   \n",
       "\n",
       "   home_ownership_OWN  home_ownership_RENT  \\\n",
       "0                   0                    1   \n",
       "1                   0                    0   \n",
       "2                   0                    1   \n",
       "\n",
       "   verification_status_Source Verified  verification_status_Verified  \\\n",
       "0                                    1                             0   \n",
       "1                                    0                             0   \n",
       "2                                    1                             0   \n",
       "\n",
       "   purpose_credit_card  purpose_debt_consolidation  purpose_educational  \\\n",
       "0                    0                           1                    0   \n",
       "1                    1                           0                    0   \n",
       "2                    1                           0                    0   \n",
       "\n",
       "   purpose_home_improvement  purpose_house  purpose_major_purchase  \\\n",
       "0                         0              0                       0   \n",
       "1                         0              0                       0   \n",
       "2                         0              0                       0   \n",
       "\n",
       "   purpose_medical  purpose_moving  purpose_other  purpose_renewable_energy  \\\n",
       "0                0               0              0                         0   \n",
       "1                0               0              0                         0   \n",
       "2                0               0              0                         0   \n",
       "\n",
       "   purpose_small_business  purpose_vacation  purpose_wedding  \\\n",
       "0                       0                 0                0   \n",
       "1                       0                 0                0   \n",
       "2                       0                 0                0   \n",
       "\n",
       "   initial_list_status_w  application_type_Joint App  \\\n",
       "0                      1                           0   \n",
       "1                      1                           0   \n",
       "2                      1                           0   \n",
       "\n",
       "   disbursement_method_DirectPay  \n",
       "0                              0  \n",
       "1                              0  \n",
       "2                              0  "
      ]
     },
     "execution_count": 57,
     "metadata": {},
     "output_type": "execute_result"
    }
   ],
   "source": [
    "df.head(3)"
   ]
  },
  {
   "cell_type": "markdown",
   "metadata": {},
   "source": [
    "## Compute correlations with 'charged_off'\n",
    "<a id=\"6.2\"></a>"
   ]
  },
  {
   "cell_type": "markdown",
   "metadata": {},
   "source": [
    "Create the correlation matrix of all our data, then extract the 'charged_off' column. (Is there an easier way to compute correlations with only one variable?) Remove the entry for 'charged_off' (it's 1), and sort the features by their correlation coefficient with 'charged_off'."
   ]
  },
  {
   "cell_type": "code",
   "execution_count": 58,
   "metadata": {
    "collapsed": true
   },
   "outputs": [],
   "source": [
    "corr_charged_off = df.corr()['charged_off']\n",
    "corr_charged_off.drop(index='charged_off', inplace=True)\n",
    "corr_charged_off = corr_charged_off.sort_values()"
   ]
  },
  {
   "cell_type": "markdown",
   "metadata": {},
   "source": [
    "Plot the correlation coefficients."
   ]
  },
  {
   "cell_type": "code",
   "execution_count": 59,
   "metadata": {},
   "outputs": [
    {
     "data": {
      "text/plain": [
       "(-0.6866086165148878, 0.6866086165148878)"
      ]
     },
     "execution_count": 59,
     "metadata": {},
     "output_type": "execute_result"
    },
    {
     "data": {
      "image/png": "[encoded data removed]",
      "text/plain": [
       "<matplotlib.figure.Figure at 0x23c01ed9e48>"
      ]
     },
     "metadata": {},
     "output_type": "display_data"
    }
   ],
   "source": [
    "plt.figure(figsize=(8,28), dpi=90)\n",
    "sns.barplot(y=corr_charged_off.index, x=corr_charged_off.values, orient='h')\n",
    "plt.title(\"Correlation with 'charged_off'\")\n",
    "plt.xlabel(\"Correlation coefficient with 'charged_off'\")\n",
    "xmax = np.abs(corr_charged_off).max()\n",
    "plt.xlim([-xmax, xmax])"
   ]
  },
  {
   "cell_type": "markdown",
   "metadata": {},
   "source": [
    "**Things to note:** The borrower's most recent FICO scores are the features most negatively correlated with 'charged_off.' The debt-to-income ratio ('dti'), the number of payments on the loan ('term'), the interest rate ('int_rate'), and the subgrade ('sub_grade') are the features most positively correlated with 'charged_off'."
   ]
  },
  {
   "cell_type": "markdown",
   "metadata": {},
   "source": [
    "# More Pre-processing\n",
    "<a id=\"7\"></a>"
   ]
  },
  {
   "cell_type": "markdown",
   "metadata": {},
   "source": [
    "Let's remind ourselves how much data we have."
   ]
  },
  {
   "cell_type": "code",
   "execution_count": 60,
   "metadata": {},
   "outputs": [
    {
     "data": {
      "text/plain": [
       "(814986, 105)"
      ]
     },
     "execution_count": 60,
     "metadata": {},
     "output_type": "execute_result"
    }
   ],
   "source": [
    "df.shape"
   ]
  },
  {
   "cell_type": "markdown",
   "metadata": {},
   "source": [
    "We have 814,986 samples and 105 features."
   ]
  },
  {
   "cell_type": "markdown",
   "metadata": {},
   "source": [
    "## Train/test split\n",
    "<a id=\"7.1\"></a>"
   ]
  },
  {
   "cell_type": "code",
   "execution_count": 61,
   "metadata": {
    "collapsed": true
   },
   "outputs": [],
   "source": [
    "X = df.drop(columns=['charged_off']) # Features\n",
    "y = df['charged_off'] # Target variable"
   ]
  },
  {
   "cell_type": "code",
   "execution_count": 62,
   "metadata": {
    "collapsed": true
   },
   "outputs": [],
   "source": [
    "from sklearn.model_selection import train_test_split"
   ]
  },
  {
   "cell_type": "markdown",
   "metadata": {},
   "source": [
    "Let's do a 90/10 train/test split."
   ]
  },
  {
   "cell_type": "code",
   "execution_count": 63,
   "metadata": {
    "collapsed": true
   },
   "outputs": [],
   "source": [
    "X_train, X_test, y_train, y_test = train_test_split(X, y, test_size=0.1)"
   ]
  },
  {
   "cell_type": "markdown",
   "metadata": {},
   "source": [
    "## Imputation with mean substitution\n",
    "<a id=\"7.2\"></a>"
   ]
  },
  {
   "cell_type": "markdown",
   "metadata": {},
   "source": [
    "How complete is our training data?"
   ]
  },
  {
   "cell_type": "code",
   "execution_count": 64,
   "metadata": {},
   "outputs": [
    {
     "data": {
      "text/html": [
       "<div>\n",
       "<style scoped>\n",
       "    .dataframe tbody tr th:only-of-type {\n",
       "        vertical-align: middle;\n",
       "    }\n",
       "\n",
       "    .dataframe tbody tr th {\n",
       "        vertical-align: top;\n",
       "    }\n",
       "\n",
       "    .dataframe thead th {\n",
       "        text-align: right;\n",
       "    }\n",
       "</style>\n",
       "<table border=\"1\" class=\"dataframe\">\n",
       "  <thead>\n",
       "    <tr style=\"text-align: right;\">\n",
       "      <th></th>\n",
       "      <th>Fraction not null</th>\n",
       "    </tr>\n",
       "  </thead>\n",
       "  <tbody>\n",
       "    <tr>\n",
       "      <th>mths_since_last_record</th>\n",
       "      <td>0.164588</td>\n",
       "    </tr>\n",
       "    <tr>\n",
       "      <th>il_util</th>\n",
       "      <td>0.190280</td>\n",
       "    </tr>\n",
       "    <tr>\n",
       "      <th>mths_since_rcnt_il</th>\n",
       "      <td>0.212771</td>\n",
       "    </tr>\n",
       "    <tr>\n",
       "      <th>all_util</th>\n",
       "      <td>0.217615</td>\n",
       "    </tr>\n",
       "    <tr>\n",
       "      <th>open_acc_6m</th>\n",
       "      <td>0.217626</td>\n",
       "    </tr>\n",
       "    <tr>\n",
       "      <th>total_cu_tl</th>\n",
       "      <td>0.217626</td>\n",
       "    </tr>\n",
       "    <tr>\n",
       "      <th>inq_last_12m</th>\n",
       "      <td>0.217626</td>\n",
       "    </tr>\n",
       "    <tr>\n",
       "      <th>max_bal_bc</th>\n",
       "      <td>0.217628</td>\n",
       "    </tr>\n",
       "    <tr>\n",
       "      <th>open_rv_12m</th>\n",
       "      <td>0.217628</td>\n",
       "    </tr>\n",
       "    <tr>\n",
       "      <th>total_bal_il</th>\n",
       "      <td>0.217628</td>\n",
       "    </tr>\n",
       "    <tr>\n",
       "      <th>open_il_24m</th>\n",
       "      <td>0.217628</td>\n",
       "    </tr>\n",
       "    <tr>\n",
       "      <th>open_il_12m</th>\n",
       "      <td>0.217628</td>\n",
       "    </tr>\n",
       "    <tr>\n",
       "      <th>open_act_il</th>\n",
       "      <td>0.217628</td>\n",
       "    </tr>\n",
       "    <tr>\n",
       "      <th>inq_fi</th>\n",
       "      <td>0.217628</td>\n",
       "    </tr>\n",
       "    <tr>\n",
       "      <th>open_rv_24m</th>\n",
       "      <td>0.217628</td>\n",
       "    </tr>\n",
       "    <tr>\n",
       "      <th>mths_since_recent_bc_dlq</th>\n",
       "      <td>0.232570</td>\n",
       "    </tr>\n",
       "    <tr>\n",
       "      <th>mths_since_last_major_derog</th>\n",
       "      <td>0.251964</td>\n",
       "    </tr>\n",
       "    <tr>\n",
       "      <th>mths_since_recent_revol_delinq</th>\n",
       "      <td>0.326022</td>\n",
       "    </tr>\n",
       "    <tr>\n",
       "      <th>mths_since_last_delinq</th>\n",
       "      <td>0.488118</td>\n",
       "    </tr>\n",
       "    <tr>\n",
       "      <th>mths_since_recent_inq</th>\n",
       "      <td>0.855616</td>\n",
       "    </tr>\n",
       "    <tr>\n",
       "      <th>num_tl_120dpd_2m</th>\n",
       "      <td>0.885680</td>\n",
       "    </tr>\n",
       "    <tr>\n",
       "      <th>mo_sin_old_il_acct</th>\n",
       "      <td>0.890091</td>\n",
       "    </tr>\n",
       "    <tr>\n",
       "      <th>pct_tl_nvr_dlq</th>\n",
       "      <td>0.917047</td>\n",
       "    </tr>\n",
       "    <tr>\n",
       "      <th>avg_cur_bal</th>\n",
       "      <td>0.917179</td>\n",
       "    </tr>\n",
       "    <tr>\n",
       "      <th>mo_sin_old_rev_tl_op</th>\n",
       "      <td>0.917193</td>\n",
       "    </tr>\n",
       "    <tr>\n",
       "      <th>mo_sin_rcnt_rev_tl_op</th>\n",
       "      <td>0.917193</td>\n",
       "    </tr>\n",
       "    <tr>\n",
       "      <th>tot_hi_cred_lim</th>\n",
       "      <td>0.917194</td>\n",
       "    </tr>\n",
       "    <tr>\n",
       "      <th>num_tl_op_past_12m</th>\n",
       "      <td>0.917194</td>\n",
       "    </tr>\n",
       "    <tr>\n",
       "      <th>num_tl_90g_dpd_24m</th>\n",
       "      <td>0.917194</td>\n",
       "    </tr>\n",
       "    <tr>\n",
       "      <th>num_tl_30dpd</th>\n",
       "      <td>0.917194</td>\n",
       "    </tr>\n",
       "    <tr>\n",
       "      <th>num_accts_ever_120_pd</th>\n",
       "      <td>0.917194</td>\n",
       "    </tr>\n",
       "    <tr>\n",
       "      <th>num_rev_accts</th>\n",
       "      <td>0.917194</td>\n",
       "    </tr>\n",
       "    <tr>\n",
       "      <th>num_op_rev_tl</th>\n",
       "      <td>0.917194</td>\n",
       "    </tr>\n",
       "    <tr>\n",
       "      <th>num_bc_tl</th>\n",
       "      <td>0.917194</td>\n",
       "    </tr>\n",
       "    <tr>\n",
       "      <th>num_actv_rev_tl</th>\n",
       "      <td>0.917194</td>\n",
       "    </tr>\n",
       "    <tr>\n",
       "      <th>mo_sin_rcnt_tl</th>\n",
       "      <td>0.917194</td>\n",
       "    </tr>\n",
       "    <tr>\n",
       "      <th>num_actv_bc_tl</th>\n",
       "      <td>0.917194</td>\n",
       "    </tr>\n",
       "    <tr>\n",
       "      <th>num_rev_tl_bal_gt_0</th>\n",
       "      <td>0.917194</td>\n",
       "    </tr>\n",
       "    <tr>\n",
       "      <th>num_il_tl</th>\n",
       "      <td>0.917194</td>\n",
       "    </tr>\n",
       "    <tr>\n",
       "      <th>total_rev_hi_lim</th>\n",
       "      <td>0.917194</td>\n",
       "    </tr>\n",
       "    <tr>\n",
       "      <th>total_il_high_credit_limit</th>\n",
       "      <td>0.917194</td>\n",
       "    </tr>\n",
       "    <tr>\n",
       "      <th>tot_coll_amt</th>\n",
       "      <td>0.917194</td>\n",
       "    </tr>\n",
       "    <tr>\n",
       "      <th>tot_cur_bal</th>\n",
       "      <td>0.917194</td>\n",
       "    </tr>\n",
       "    <tr>\n",
       "      <th>num_sats</th>\n",
       "      <td>0.931520</td>\n",
       "    </tr>\n",
       "    <tr>\n",
       "      <th>num_bc_sats</th>\n",
       "      <td>0.931520</td>\n",
       "    </tr>\n",
       "    <tr>\n",
       "      <th>bc_util</th>\n",
       "      <td>0.931777</td>\n",
       "    </tr>\n",
       "    <tr>\n",
       "      <th>percent_bc_gt_75</th>\n",
       "      <td>0.932032</td>\n",
       "    </tr>\n",
       "    <tr>\n",
       "      <th>bc_open_to_buy</th>\n",
       "      <td>0.932381</td>\n",
       "    </tr>\n",
       "    <tr>\n",
       "      <th>mths_since_recent_bc</th>\n",
       "      <td>0.933119</td>\n",
       "    </tr>\n",
       "    <tr>\n",
       "      <th>total_bal_ex_mort</th>\n",
       "      <td>0.942082</td>\n",
       "    </tr>\n",
       "    <tr>\n",
       "      <th>mort_acc</th>\n",
       "      <td>0.942082</td>\n",
       "    </tr>\n",
       "    <tr>\n",
       "      <th>total_bc_limit</th>\n",
       "      <td>0.942082</td>\n",
       "    </tr>\n",
       "    <tr>\n",
       "      <th>acc_open_past_24mths</th>\n",
       "      <td>0.942082</td>\n",
       "    </tr>\n",
       "    <tr>\n",
       "      <th>emp_length</th>\n",
       "      <td>0.948125</td>\n",
       "    </tr>\n",
       "    <tr>\n",
       "      <th>pub_rec_bankruptcies</th>\n",
       "      <td>0.999157</td>\n",
       "    </tr>\n",
       "    <tr>\n",
       "      <th>revol_util</th>\n",
       "      <td>0.999408</td>\n",
       "    </tr>\n",
       "    <tr>\n",
       "      <th>collections_12_mths_ex_med</th>\n",
       "      <td>0.999933</td>\n",
       "    </tr>\n",
       "    <tr>\n",
       "      <th>chargeoff_within_12_mths</th>\n",
       "      <td>0.999933</td>\n",
       "    </tr>\n",
       "    <tr>\n",
       "      <th>tax_liens</th>\n",
       "      <td>0.999954</td>\n",
       "    </tr>\n",
       "    <tr>\n",
       "      <th>dti</th>\n",
       "      <td>0.999956</td>\n",
       "    </tr>\n",
       "    <tr>\n",
       "      <th>inq_last_6mths</th>\n",
       "      <td>0.999999</td>\n",
       "    </tr>\n",
       "    <tr>\n",
       "      <th>initial_list_status_w</th>\n",
       "      <td>1.000000</td>\n",
       "    </tr>\n",
       "    <tr>\n",
       "      <th>home_ownership_OWN</th>\n",
       "      <td>1.000000</td>\n",
       "    </tr>\n",
       "    <tr>\n",
       "      <th>purpose_wedding</th>\n",
       "      <td>1.000000</td>\n",
       "    </tr>\n",
       "    <tr>\n",
       "      <th>purpose_vacation</th>\n",
       "      <td>1.000000</td>\n",
       "    </tr>\n",
       "    <tr>\n",
       "      <th>purpose_small_business</th>\n",
       "      <td>1.000000</td>\n",
       "    </tr>\n",
       "    <tr>\n",
       "      <th>purpose_renewable_energy</th>\n",
       "      <td>1.000000</td>\n",
       "    </tr>\n",
       "    <tr>\n",
       "      <th>purpose_other</th>\n",
       "      <td>1.000000</td>\n",
       "    </tr>\n",
       "    <tr>\n",
       "      <th>verification_status_Verified</th>\n",
       "      <td>1.000000</td>\n",
       "    </tr>\n",
       "    <tr>\n",
       "      <th>purpose_moving</th>\n",
       "      <td>1.000000</td>\n",
       "    </tr>\n",
       "    <tr>\n",
       "      <th>purpose_medical</th>\n",
       "      <td>1.000000</td>\n",
       "    </tr>\n",
       "    <tr>\n",
       "      <th>purpose_major_purchase</th>\n",
       "      <td>1.000000</td>\n",
       "    </tr>\n",
       "    <tr>\n",
       "      <th>home_ownership_RENT</th>\n",
       "      <td>1.000000</td>\n",
       "    </tr>\n",
       "    <tr>\n",
       "      <th>purpose_house</th>\n",
       "      <td>1.000000</td>\n",
       "    </tr>\n",
       "    <tr>\n",
       "      <th>purpose_educational</th>\n",
       "      <td>1.000000</td>\n",
       "    </tr>\n",
       "    <tr>\n",
       "      <th>purpose_debt_consolidation</th>\n",
       "      <td>1.000000</td>\n",
       "    </tr>\n",
       "    <tr>\n",
       "      <th>purpose_credit_card</th>\n",
       "      <td>1.000000</td>\n",
       "    </tr>\n",
       "    <tr>\n",
       "      <th>home_ownership_OTHER</th>\n",
       "      <td>1.000000</td>\n",
       "    </tr>\n",
       "    <tr>\n",
       "      <th>verification_status_Source Verified</th>\n",
       "      <td>1.000000</td>\n",
       "    </tr>\n",
       "    <tr>\n",
       "      <th>home_ownership_NONE</th>\n",
       "      <td>1.000000</td>\n",
       "    </tr>\n",
       "    <tr>\n",
       "      <th>purpose_home_improvement</th>\n",
       "      <td>1.000000</td>\n",
       "    </tr>\n",
       "    <tr>\n",
       "      <th>loan_amnt</th>\n",
       "      <td>1.000000</td>\n",
       "    </tr>\n",
       "    <tr>\n",
       "      <th>application_type_Joint App</th>\n",
       "      <td>1.000000</td>\n",
       "    </tr>\n",
       "    <tr>\n",
       "      <th>funded_amnt</th>\n",
       "      <td>1.000000</td>\n",
       "    </tr>\n",
       "    <tr>\n",
       "      <th>funded_amnt_inv</th>\n",
       "      <td>1.000000</td>\n",
       "    </tr>\n",
       "    <tr>\n",
       "      <th>term</th>\n",
       "      <td>1.000000</td>\n",
       "    </tr>\n",
       "    <tr>\n",
       "      <th>int_rate</th>\n",
       "      <td>1.000000</td>\n",
       "    </tr>\n",
       "    <tr>\n",
       "      <th>installment</th>\n",
       "      <td>1.000000</td>\n",
       "    </tr>\n",
       "    <tr>\n",
       "      <th>sub_grade</th>\n",
       "      <td>1.000000</td>\n",
       "    </tr>\n",
       "    <tr>\n",
       "      <th>annual_inc</th>\n",
       "      <td>1.000000</td>\n",
       "    </tr>\n",
       "    <tr>\n",
       "      <th>zip_code</th>\n",
       "      <td>1.000000</td>\n",
       "    </tr>\n",
       "    <tr>\n",
       "      <th>delinq_2yrs</th>\n",
       "      <td>1.000000</td>\n",
       "    </tr>\n",
       "    <tr>\n",
       "      <th>fico_range_low</th>\n",
       "      <td>1.000000</td>\n",
       "    </tr>\n",
       "    <tr>\n",
       "      <th>fico_range_high</th>\n",
       "      <td>1.000000</td>\n",
       "    </tr>\n",
       "    <tr>\n",
       "      <th>open_acc</th>\n",
       "      <td>1.000000</td>\n",
       "    </tr>\n",
       "    <tr>\n",
       "      <th>pub_rec</th>\n",
       "      <td>1.000000</td>\n",
       "    </tr>\n",
       "    <tr>\n",
       "      <th>revol_bal</th>\n",
       "      <td>1.000000</td>\n",
       "    </tr>\n",
       "    <tr>\n",
       "      <th>total_acc</th>\n",
       "      <td>1.000000</td>\n",
       "    </tr>\n",
       "    <tr>\n",
       "      <th>last_fico_range_high</th>\n",
       "      <td>1.000000</td>\n",
       "    </tr>\n",
       "    <tr>\n",
       "      <th>last_fico_range_low</th>\n",
       "      <td>1.000000</td>\n",
       "    </tr>\n",
       "    <tr>\n",
       "      <th>acc_now_delinq</th>\n",
       "      <td>1.000000</td>\n",
       "    </tr>\n",
       "    <tr>\n",
       "      <th>delinq_amnt</th>\n",
       "      <td>1.000000</td>\n",
       "    </tr>\n",
       "    <tr>\n",
       "      <th>home_ownership_MORTGAGE</th>\n",
       "      <td>1.000000</td>\n",
       "    </tr>\n",
       "    <tr>\n",
       "      <th>disbursement_method_DirectPay</th>\n",
       "      <td>1.000000</td>\n",
       "    </tr>\n",
       "  </tbody>\n",
       "</table>\n",
       "</div>"
      ],
      "text/plain": [
       "                                     Fraction not null\n",
       "mths_since_last_record                        0.164588\n",
       "il_util                                       0.190280\n",
       "mths_since_rcnt_il                            0.212771\n",
       "all_util                                      0.217615\n",
       "open_acc_6m                                   0.217626\n",
       "total_cu_tl                                   0.217626\n",
       "inq_last_12m                                  0.217626\n",
       "max_bal_bc                                    0.217628\n",
       "open_rv_12m                                   0.217628\n",
       "total_bal_il                                  0.217628\n",
       "open_il_24m                                   0.217628\n",
       "open_il_12m                                   0.217628\n",
       "open_act_il                                   0.217628\n",
       "inq_fi                                        0.217628\n",
       "open_rv_24m                                   0.217628\n",
       "mths_since_recent_bc_dlq                      0.232570\n",
       "mths_since_last_major_derog                   0.251964\n",
       "mths_since_recent_revol_delinq                0.326022\n",
       "mths_since_last_delinq                        0.488118\n",
       "mths_since_recent_inq                         0.855616\n",
       "num_tl_120dpd_2m                              0.885680\n",
       "mo_sin_old_il_acct                            0.890091\n",
       "pct_tl_nvr_dlq                                0.917047\n",
       "avg_cur_bal                                   0.917179\n",
       "mo_sin_old_rev_tl_op                          0.917193\n",
       "mo_sin_rcnt_rev_tl_op                         0.917193\n",
       "tot_hi_cred_lim                               0.917194\n",
       "num_tl_op_past_12m                            0.917194\n",
       "num_tl_90g_dpd_24m                            0.917194\n",
       "num_tl_30dpd                                  0.917194\n",
       "num_accts_ever_120_pd                         0.917194\n",
       "num_rev_accts                                 0.917194\n",
       "num_op_rev_tl                                 0.917194\n",
       "num_bc_tl                                     0.917194\n",
       "num_actv_rev_tl                               0.917194\n",
       "mo_sin_rcnt_tl                                0.917194\n",
       "num_actv_bc_tl                                0.917194\n",
       "num_rev_tl_bal_gt_0                           0.917194\n",
       "num_il_tl                                     0.917194\n",
       "total_rev_hi_lim                              0.917194\n",
       "total_il_high_credit_limit                    0.917194\n",
       "tot_coll_amt                                  0.917194\n",
       "tot_cur_bal                                   0.917194\n",
       "num_sats                                      0.931520\n",
       "num_bc_sats                                   0.931520\n",
       "bc_util                                       0.931777\n",
       "percent_bc_gt_75                              0.932032\n",
       "bc_open_to_buy                                0.932381\n",
       "mths_since_recent_bc                          0.933119\n",
       "total_bal_ex_mort                             0.942082\n",
       "mort_acc                                      0.942082\n",
       "total_bc_limit                                0.942082\n",
       "acc_open_past_24mths                          0.942082\n",
       "emp_length                                    0.948125\n",
       "pub_rec_bankruptcies                          0.999157\n",
       "revol_util                                    0.999408\n",
       "collections_12_mths_ex_med                    0.999933\n",
       "chargeoff_within_12_mths                      0.999933\n",
       "tax_liens                                     0.999954\n",
       "dti                                           0.999956\n",
       "inq_last_6mths                                0.999999\n",
       "initial_list_status_w                         1.000000\n",
       "home_ownership_OWN                            1.000000\n",
       "purpose_wedding                               1.000000\n",
       "purpose_vacation                              1.000000\n",
       "purpose_small_business                        1.000000\n",
       "purpose_renewable_energy                      1.000000\n",
       "purpose_other                                 1.000000\n",
       "verification_status_Verified                  1.000000\n",
       "purpose_moving                                1.000000\n",
       "purpose_medical                               1.000000\n",
       "purpose_major_purchase                        1.000000\n",
       "home_ownership_RENT                           1.000000\n",
       "purpose_house                                 1.000000\n",
       "purpose_educational                           1.000000\n",
       "purpose_debt_consolidation                    1.000000\n",
       "purpose_credit_card                           1.000000\n",
       "home_ownership_OTHER                          1.000000\n",
       "verification_status_Source Verified           1.000000\n",
       "home_ownership_NONE                           1.000000\n",
       "purpose_home_improvement                      1.000000\n",
       "loan_amnt                                     1.000000\n",
       "application_type_Joint App                    1.000000\n",
       "funded_amnt                                   1.000000\n",
       "funded_amnt_inv                               1.000000\n",
       "term                                          1.000000\n",
       "int_rate                                      1.000000\n",
       "installment                                   1.000000\n",
       "sub_grade                                     1.000000\n",
       "annual_inc                                    1.000000\n",
       "zip_code                                      1.000000\n",
       "delinq_2yrs                                   1.000000\n",
       "fico_range_low                                1.000000\n",
       "fico_range_high                               1.000000\n",
       "open_acc                                      1.000000\n",
       "pub_rec                                       1.000000\n",
       "revol_bal                                     1.000000\n",
       "total_acc                                     1.000000\n",
       "last_fico_range_high                          1.000000\n",
       "last_fico_range_low                           1.000000\n",
       "acc_now_delinq                                1.000000\n",
       "delinq_amnt                                   1.000000\n",
       "home_ownership_MORTGAGE                       1.000000\n",
       "disbursement_method_DirectPay                 1.000000"
      ]
     },
     "execution_count": 64,
     "metadata": {},
     "output_type": "execute_result"
    }
   ],
   "source": [
    "pd.DataFrame((X_train.notnull().sum() / X_train.shape[0]).sort_values(), columns=['Fraction not null'])"
   ]
  },
  {
   "cell_type": "markdown",
   "metadata": {},
   "source": [
    "The learning algorithms cannot have missing data. Perform mean substitution, using only the means of the training set to prevent test set leakage.\n",
    "\n",
    "*Note:* I don't know that this is the best way to handle missing data. Should some columns simply be dropped? Should we impute some other way? Should incomplete rows be dropped?"
   ]
  },
  {
   "cell_type": "code",
   "execution_count": 65,
   "metadata": {
    "collapsed": true
   },
   "outputs": [],
   "source": [
    "from sklearn.preprocessing import Imputer"
   ]
  },
  {
   "cell_type": "code",
   "execution_count": 66,
   "metadata": {
    "collapsed": true
   },
   "outputs": [],
   "source": [
    "imputer = Imputer().fit(X_train)"
   ]
  },
  {
   "cell_type": "code",
   "execution_count": 67,
   "metadata": {
    "collapsed": true
   },
   "outputs": [],
   "source": [
    "X_train = pd.DataFrame(imputer.transform(X_train), columns=X_train.columns)\n",
    "X_test  = pd.DataFrame(imputer.transform(X_test),  columns=X_test.columns)"
   ]
  },
  {
   "cell_type": "markdown",
   "metadata": {},
   "source": [
    "## Standardize the data\n",
    "<a id=\"7.3\"></a>"
   ]
  },
  {
   "cell_type": "markdown",
   "metadata": {},
   "source": [
    "Shift and scale each column individually so that it has zero mean and unit variance. This will help the learning algorithms.\n",
    "\n",
    "Train the scaler using only the training data to prevent test set leakage."
   ]
  },
  {
   "cell_type": "code",
   "execution_count": 68,
   "metadata": {
    "collapsed": true
   },
   "outputs": [],
   "source": [
    "from sklearn.preprocessing import StandardScaler"
   ]
  },
  {
   "cell_type": "code",
   "execution_count": 69,
   "metadata": {
    "collapsed": true
   },
   "outputs": [],
   "source": [
    "scaler = StandardScaler().fit(X_train)"
   ]
  },
  {
   "cell_type": "code",
   "execution_count": 70,
   "metadata": {
    "collapsed": true
   },
   "outputs": [],
   "source": [
    "X_train = pd.DataFrame(scaler.transform(X_train), columns=X_train.columns)\n",
    "X_test  = pd.DataFrame(scaler.transform(X_test),  columns=X_test.columns)"
   ]
  },
  {
   "cell_type": "markdown",
   "metadata": {},
   "source": [
    "# Predictive Modeling: SGDClassifier\n",
    "<a id=\"8\"></a>"
   ]
  },
  {
   "cell_type": "markdown",
   "metadata": {},
   "source": [
    "I decided to use a SGD Classifier by looking at the machine learning flowchart here: http://scikit-learn.org/stable/tutorial/machine_learning_map/index.html.\n",
    "\n",
    "The SGDClassifier estimator implements linear classifiers (SVM, logistic regression, a.o.) with SGD training. The linear classifier is chosen by the 'loss' hyperparameter."
   ]
  },
  {
   "cell_type": "code",
   "execution_count": 71,
   "metadata": {
    "collapsed": true
   },
   "outputs": [],
   "source": [
    "from sklearn.linear_model import SGDClassifier\n",
    "from sklearn.model_selection import GridSearchCV\n",
    "from sklearn.metrics import matthews_corrcoef, make_scorer"
   ]
  },
  {
   "cell_type": "markdown",
   "metadata": {},
   "source": [
    "## Train with grid search\n",
    "<a id=\"8.1\"></a>"
   ]
  },
  {
   "cell_type": "markdown",
   "metadata": {},
   "source": [
    "We're going to search through many hyperparameters of SGDClassifier using an exhaustive grid search with 3-fold cross-validation, implemented in GridSearchCV.\n",
    "\n",
    "Here are the hyperparameters that we'll try:"
   ]
  },
  {
   "cell_type": "code",
   "execution_count": 72,
   "metadata": {
    "collapsed": true
   },
   "outputs": [],
   "source": [
    "param_grid = {'loss': ['hinge', 'log', 'modified_huber', 'perceptron'],\n",
    "              'penalty': ['l2'],\n",
    "              'alpha': [1e-5, 1e-4, 1e-3, 1e-2, 1e-1, 1e0],\n",
    "              'max_iter': [1000],\n",
    "              'tol': [1e-3],\n",
    "              'warm_start': [True],\n",
    "              'class_weight': [None, 'balanced']}"
   ]
  },
  {
   "cell_type": "markdown",
   "metadata": {},
   "source": [
    "Instantiate the grid estimator. We'll use the Matthews correlation coefficient as our scoring metric."
   ]
  },
  {
   "cell_type": "code",
   "execution_count": 73,
   "metadata": {
    "collapsed": true
   },
   "outputs": [],
   "source": [
    "grid = GridSearchCV(estimator=SGDClassifier(), param_grid=param_grid, scoring=make_scorer(matthews_corrcoef), \n",
    "                    n_jobs=4, pre_dispatch=8, verbose=3, return_train_score=True)"
   ]
  },
  {
   "cell_type": "markdown",
   "metadata": {},
   "source": [
    "Run the grid search (this could take some time)."
   ]
  },
  {
   "cell_type": "code",
   "execution_count": 74,
   "metadata": {},
   "outputs": [
    {
     "name": "stdout",
     "output_type": "stream",
     "text": [
      "Fitting 3 folds for each of 48 candidates, totalling 144 fits\n"
     ]
    },
    {
     "name": "stderr",
     "output_type": "stream",
     "text": [
      "[Parallel(n_jobs=4)]: Done  17 tasks      | elapsed:  2.0min\n",
      "[Parallel(n_jobs=4)]: Done  90 tasks      | elapsed:  5.6min\n",
      "[Parallel(n_jobs=4)]: Done 144 out of 144 | elapsed:  7.4min finished\n"
     ]
    },
    {
     "data": {
      "text/plain": [
       "GridSearchCV(cv=None, error_score='raise',\n",
       "       estimator=SGDClassifier(alpha=0.0001, average=False, class_weight=None, epsilon=0.1,\n",
       "       eta0=0.0, fit_intercept=True, l1_ratio=0.15,\n",
       "       learning_rate='optimal', loss='hinge', max_iter=None, n_iter=None,\n",
       "       n_jobs=1, penalty='l2', power_t=0.5, random_state=None,\n",
       "       shuffle=True, tol=None, verbose=0, warm_start=False),\n",
       "       fit_params=None, iid=True, n_jobs=4,\n",
       "       param_grid={'loss': ['hinge', 'log', 'modified_huber', 'perceptron'], 'penalty': ['l2'], 'alpha': [1e-05, 0.0001, 0.001, 0.01, 0.1, 1.0], 'max_iter': [1000], 'tol': [0.001], 'warm_start': [True], 'class_weight': [None, 'balanced']},\n",
       "       pre_dispatch=8, refit=True, return_train_score=True,\n",
       "       scoring=make_scorer(matthews_corrcoef), verbose=4)"
      ]
     },
     "execution_count": 74,
     "metadata": {},
     "output_type": "execute_result"
    }
   ],
   "source": [
    "grid.fit(X_train, y_train)"
   ]
  },
  {
   "cell_type": "markdown",
   "metadata": {},
   "source": [
    "Hyperparameters that gave the best results on the hold out data:"
   ]
  },
  {
   "cell_type": "code",
   "execution_count": 75,
   "metadata": {},
   "outputs": [
    {
     "data": {
      "text/plain": [
       "{'alpha': 0.1,\n",
       " 'class_weight': 'balanced',\n",
       " 'loss': 'modified_huber',\n",
       " 'max_iter': 1000,\n",
       " 'penalty': 'l2',\n",
       " 'tol': 0.001,\n",
       " 'warm_start': True}"
      ]
     },
     "execution_count": 75,
     "metadata": {},
     "output_type": "execute_result"
    }
   ],
   "source": [
    "grid.best_params_"
   ]
  },
  {
   "cell_type": "markdown",
   "metadata": {},
   "source": [
    "Full description of the best estimator:"
   ]
  },
  {
   "cell_type": "code",
   "execution_count": 76,
   "metadata": {},
   "outputs": [
    {
     "data": {
      "text/plain": [
       "SGDClassifier(alpha=0.1, average=False, class_weight='balanced', epsilon=0.1,\n",
       "       eta0=0.0, fit_intercept=True, l1_ratio=0.15,\n",
       "       learning_rate='optimal', loss='modified_huber', max_iter=1000,\n",
       "       n_iter=None, n_jobs=1, penalty='l2', power_t=0.5, random_state=None,\n",
       "       shuffle=True, tol=0.001, verbose=0, warm_start=True)"
      ]
     },
     "execution_count": 76,
     "metadata": {},
     "output_type": "execute_result"
    }
   ],
   "source": [
    "grid.best_estimator_"
   ]
  },
  {
   "cell_type": "markdown",
   "metadata": {},
   "source": [
    "Mean cross-validated score (Matthews correlation coefficient) of the best estimator:"
   ]
  },
  {
   "cell_type": "code",
   "execution_count": 77,
   "metadata": {},
   "outputs": [
    {
     "data": {
      "text/plain": [
       "0.7379911106551648"
      ]
     },
     "execution_count": 77,
     "metadata": {},
     "output_type": "execute_result"
    }
   ],
   "source": [
    "grid.best_score_"
   ]
  },
  {
   "cell_type": "markdown",
   "metadata": {},
   "source": [
    "## Test set evaluation\n",
    "<a id=\"8.2\"></a>"
   ]
  },
  {
   "cell_type": "code",
   "execution_count": 78,
   "metadata": {
    "collapsed": true
   },
   "outputs": [],
   "source": [
    "y_pred = grid.predict(X_test)"
   ]
  },
  {
   "cell_type": "code",
   "execution_count": 83,
   "metadata": {
    "collapsed": true
   },
   "outputs": [],
   "source": [
    "from sklearn.metrics import confusion_matrix, classification_report, accuracy_score"
   ]
  },
  {
   "cell_type": "markdown",
   "metadata": {},
   "source": [
    "Confustion matrix:"
   ]
  },
  {
   "cell_type": "code",
   "execution_count": 80,
   "metadata": {},
   "outputs": [
    {
     "name": "stdout",
     "output_type": "stream",
     "text": [
      "[[58555  6147]\n",
      " [ 1736 15061]]\n"
     ]
    }
   ],
   "source": [
    "print(confusion_matrix(y_test, y_pred))"
   ]
  },
  {
   "cell_type": "markdown",
   "metadata": {},
   "source": [
    "Not bad?\n",
    "\n",
    "Precision, recall, and F1-scores:"
   ]
  },
  {
   "cell_type": "code",
   "execution_count": 81,
   "metadata": {},
   "outputs": [
    {
     "name": "stdout",
     "output_type": "stream",
     "text": [
      "             precision    recall  f1-score   support\n",
      "\n",
      "        0.0      0.971     0.905     0.937     64702\n",
      "        1.0      0.710     0.897     0.793     16797\n",
      "\n",
      "avg / total      0.917     0.903     0.907     81499\n",
      "\n"
     ]
    }
   ],
   "source": [
    "print(classification_report(y_test, y_pred, digits=3))"
   ]
  },
  {
   "cell_type": "markdown",
   "metadata": {},
   "source": [
    "Matthews correlation coefficient:"
   ]
  },
  {
   "cell_type": "code",
   "execution_count": 82,
   "metadata": {},
   "outputs": [
    {
     "data": {
      "text/plain": [
       "0.7390602504526238"
      ]
     },
     "execution_count": 82,
     "metadata": {},
     "output_type": "execute_result"
    }
   ],
   "source": [
    "matthews_corrcoef(y_test, y_pred)"
   ]
  },
  {
   "cell_type": "code",
   "execution_count": 84,
   "metadata": {},
   "outputs": [
    {
     "data": {
      "text/plain": [
       "0.903274886808427"
      ]
     },
     "execution_count": 84,
     "metadata": {},
     "output_type": "execute_result"
    }
   ],
   "source": [
    "accuracy_score(y_test, y_pred)"
   ]
  }
 ],
 "metadata": {
  "kernelspec": {
   "display_name": "Python 3",
   "language": "python",
   "name": "python3"
  },
  "language_info": {
   "codemirror_mode": {
    "name": "ipython",
    "version": 3
   },
   "file_extension": ".py",
   "mimetype": "text/x-python",
   "name": "python",
   "nbconvert_exporter": "python",
   "pygments_lexer": "ipython3",
   "version": "3.6.4"
  }
 },
 "nbformat": 4,
 "nbformat_minor": 2
}
