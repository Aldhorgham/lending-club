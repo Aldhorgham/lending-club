{
 "cells": [
  {
   "cell_type": "markdown",
   "metadata": {
    "_cell_guid": "1e8676bb-b153-45c9-a4ab-13b883e8e896",
    "_uuid": "90e7167782a3bdb675b5b6c581ec99d6920c8939"
   },
   "source": [
    "# Predicting Loan Outcomes on Lending Club\n",
    "\n",
    "***By Joe Corliss***"
   ]
  },
  {
   "cell_type": "markdown",
   "metadata": {
    "_cell_guid": "40dc37f2-37a8-4f73-897d-b28a8755e88b",
    "_uuid": "b645d94d7d7103b4000a089c42fca8afa54bac2e"
   },
   "source": [
    "## Table of Contents\n",
    "\n",
    "1. [Summary](#1)\n",
    "    1. [Spoilers](#1.1)"
   ]
  },
  {
   "cell_type": "markdown",
   "metadata": {},
   "source": [
    "# Introduction"
   ]
  },
  {
   "cell_type": "markdown",
   "metadata": {
    "_cell_guid": "1e8676bb-b153-45c9-a4ab-13b883e8e896",
    "_uuid": "90e7167782a3bdb675b5b6c581ec99d6920c8939"
   },
   "source": [
    "[Dataset 1](https://www.kaggle.com/wordsforthewise/lending-club) - The dataset used in this project, hosted on Kaggle\n",
    "\n",
    "[Dataset 2](https://www.kaggle.com/wendykan/lending-club-loan-data) - Another Lending Club dataset on Kaggle, not used in this project\n",
    "\n",
    "[Kaggle notebook](https://www.kaggle.com/pileatedperch/predicting-loan-status-mcc-0-73) - This notebook on Kaggle\n",
    "\n",
    "[Lending Club statistics](https://www.lendingclub.com/info/download-data.action) - Original data source\n",
    "\n",
    "[GitHub repository](https://github.com/jgcorliss/lending-club) - This project on GitHub\n",
    "\n",
    "[EXPAND INTRODUCTION] The goal of this project is to predict loan charge-offs only using data available at the time of the loan application."
   ]
  },
  {
   "cell_type": "markdown",
   "metadata": {
    "_cell_guid": "b018242b-b3c5-4245-b5d7-ea6a3f28d4c8",
    "_uuid": "2053f9b0b897cad21155cca0a00c537bfd1bb340"
   },
   "source": [
    "# Import the Data\n",
    "<a id=\"2\"></a>"
   ]
  },
  {
   "cell_type": "markdown",
   "metadata": {},
   "source": [
    "Package imports:"
   ]
  },
  {
   "cell_type": "code",
   "execution_count": 3,
   "metadata": {
    "_cell_guid": "d237539e-2aa1-438e-a2c6-39a48c47211c",
    "_uuid": "3a39bcc870d823d4923c7ec9d8acb62c733bebaa"
   },
   "outputs": [],
   "source": [
    "import numpy as np\n",
    "import scipy as sp\n",
    "import pandas as pd\n",
    "import matplotlib as mpl\n",
    "import matplotlib.pyplot as plt\n",
    "import seaborn as sns\n",
    "\n",
    "# Pandas options\n",
    "pd.set_option('display.max_colwidth', 1000, 'display.max_rows', None, 'display.max_columns', None)\n",
    "\n",
    "# Plotting options\n",
    "%matplotlib inline\n",
    "mpl.style.use('ggplot')\n",
    "sns.set(style='whitegrid')"
   ]
  },
  {
   "cell_type": "markdown",
   "metadata": {
    "_cell_guid": "4c0f7ef4-37a3-4c71-847f-38f924706540",
    "_uuid": "c4b355a5d50e067d1461d6504cb04d827f65c6cd"
   },
   "source": [
    "Read the data into a pandas dataframe."
   ]
  },
  {
   "cell_type": "code",
   "execution_count": 4,
   "metadata": {
    "_cell_guid": "b54dd1e5-bbf7-4014-9434-3495a578e27f",
    "_uuid": "370f21d16cb87752040bb20a82a9115db2e36cb5"
   },
   "outputs": [
    {
     "name": "stderr",
     "output_type": "stream",
     "text": [
      "C:\\Users\\Joe\\Anaconda3\\lib\\site-packages\\IPython\\core\\interactiveshell.py:2728: DtypeWarning: Columns (0,18,48,58,117,128,129,130,133,134,135,138,144,145,146) have mixed types. Specify dtype option on import or set low_memory=False.\n",
      "  interactivity=interactivity, compiler=compiler, result=result)\n"
     ]
    }
   ],
   "source": [
    "loans = pd.read_csv('accepted_2007_to_2017Q3.csv.gz', compression='gzip')"
   ]
  },
  {
   "cell_type": "markdown",
   "metadata": {
    "_cell_guid": "b195b476-a58b-4a6b-9745-f26a86e9c61c",
    "_uuid": "ee053ebca5fbc378cf651939bde5e378e5d0cdae"
   },
   "source": [
    "Check basic dataframe info."
   ]
  },
  {
   "cell_type": "code",
   "execution_count": 5,
   "metadata": {
    "_cell_guid": "f4a7c9a2-ff89-4219-8ff9-2324bef16bdf",
    "_uuid": "00c703a1943e72a68b83c4ddf46c00310656e22c"
   },
   "outputs": [
    {
     "name": "stdout",
     "output_type": "stream",
     "text": [
      "<class 'pandas.core.frame.DataFrame'>\n",
      "RangeIndex: 1646801 entries, 0 to 1646800\n",
      "Columns: 150 entries, id to settlement_term\n",
      "dtypes: float64(113), object(37)\n",
      "memory usage: 1.8+ GB\n"
     ]
    }
   ],
   "source": [
    "loans.info()"
   ]
  },
  {
   "cell_type": "markdown",
   "metadata": {
    "_cell_guid": "53dad5c0-e147-4a75-9143-263c25aca443",
    "_uuid": "9174c9f401807a208e48aae2553eb69fa807f1cf"
   },
   "source": [
    "Let's view the data from some randomly chosen loans:"
   ]
  },
  {
   "cell_type": "code",
   "execution_count": 6,
   "metadata": {
    "_cell_guid": "ecdf5e79-8e7d-4e10-9d6a-bbed279cf07d",
    "_uuid": "927c3589a9c7ae39e78c2ad42f569101442cbb48",
    "scrolled": true
   },
   "outputs": [
    {
     "data": {
      "text/html": [
       "<div>\n",
       "<style scoped>\n",
       "    .dataframe tbody tr th:only-of-type {\n",
       "        vertical-align: middle;\n",
       "    }\n",
       "\n",
       "    .dataframe tbody tr th {\n",
       "        vertical-align: top;\n",
       "    }\n",
       "\n",
       "    .dataframe thead th {\n",
       "        text-align: right;\n",
       "    }\n",
       "</style>\n",
       "<table border=\"1\" class=\"dataframe\">\n",
       "  <thead>\n",
       "    <tr style=\"text-align: right;\">\n",
       "      <th></th>\n",
       "      <th>id</th>\n",
       "      <th>member_id</th>\n",
       "      <th>loan_amnt</th>\n",
       "      <th>funded_amnt</th>\n",
       "      <th>funded_amnt_inv</th>\n",
       "      <th>term</th>\n",
       "      <th>int_rate</th>\n",
       "      <th>installment</th>\n",
       "      <th>grade</th>\n",
       "      <th>sub_grade</th>\n",
       "      <th>emp_title</th>\n",
       "      <th>emp_length</th>\n",
       "      <th>home_ownership</th>\n",
       "      <th>annual_inc</th>\n",
       "      <th>verification_status</th>\n",
       "      <th>issue_d</th>\n",
       "      <th>loan_status</th>\n",
       "      <th>pymnt_plan</th>\n",
       "      <th>desc</th>\n",
       "      <th>purpose</th>\n",
       "      <th>title</th>\n",
       "      <th>zip_code</th>\n",
       "      <th>addr_state</th>\n",
       "      <th>dti</th>\n",
       "      <th>delinq_2yrs</th>\n",
       "      <th>earliest_cr_line</th>\n",
       "      <th>fico_range_low</th>\n",
       "      <th>fico_range_high</th>\n",
       "      <th>inq_last_6mths</th>\n",
       "      <th>mths_since_last_delinq</th>\n",
       "      <th>mths_since_last_record</th>\n",
       "      <th>open_acc</th>\n",
       "      <th>pub_rec</th>\n",
       "      <th>revol_bal</th>\n",
       "      <th>revol_util</th>\n",
       "      <th>total_acc</th>\n",
       "      <th>initial_list_status</th>\n",
       "      <th>out_prncp</th>\n",
       "      <th>out_prncp_inv</th>\n",
       "      <th>total_pymnt</th>\n",
       "      <th>total_pymnt_inv</th>\n",
       "      <th>total_rec_prncp</th>\n",
       "      <th>total_rec_int</th>\n",
       "      <th>total_rec_late_fee</th>\n",
       "      <th>recoveries</th>\n",
       "      <th>collection_recovery_fee</th>\n",
       "      <th>last_pymnt_d</th>\n",
       "      <th>last_pymnt_amnt</th>\n",
       "      <th>next_pymnt_d</th>\n",
       "      <th>last_credit_pull_d</th>\n",
       "      <th>last_fico_range_high</th>\n",
       "      <th>last_fico_range_low</th>\n",
       "      <th>collections_12_mths_ex_med</th>\n",
       "      <th>mths_since_last_major_derog</th>\n",
       "      <th>policy_code</th>\n",
       "      <th>application_type</th>\n",
       "      <th>annual_inc_joint</th>\n",
       "      <th>dti_joint</th>\n",
       "      <th>verification_status_joint</th>\n",
       "      <th>acc_now_delinq</th>\n",
       "      <th>tot_coll_amt</th>\n",
       "      <th>tot_cur_bal</th>\n",
       "      <th>open_acc_6m</th>\n",
       "      <th>open_act_il</th>\n",
       "      <th>open_il_12m</th>\n",
       "      <th>open_il_24m</th>\n",
       "      <th>mths_since_rcnt_il</th>\n",
       "      <th>total_bal_il</th>\n",
       "      <th>il_util</th>\n",
       "      <th>open_rv_12m</th>\n",
       "      <th>open_rv_24m</th>\n",
       "      <th>max_bal_bc</th>\n",
       "      <th>all_util</th>\n",
       "      <th>total_rev_hi_lim</th>\n",
       "      <th>inq_fi</th>\n",
       "      <th>total_cu_tl</th>\n",
       "      <th>inq_last_12m</th>\n",
       "      <th>acc_open_past_24mths</th>\n",
       "      <th>avg_cur_bal</th>\n",
       "      <th>bc_open_to_buy</th>\n",
       "      <th>bc_util</th>\n",
       "      <th>chargeoff_within_12_mths</th>\n",
       "      <th>delinq_amnt</th>\n",
       "      <th>mo_sin_old_il_acct</th>\n",
       "      <th>mo_sin_old_rev_tl_op</th>\n",
       "      <th>mo_sin_rcnt_rev_tl_op</th>\n",
       "      <th>mo_sin_rcnt_tl</th>\n",
       "      <th>mort_acc</th>\n",
       "      <th>mths_since_recent_bc</th>\n",
       "      <th>mths_since_recent_bc_dlq</th>\n",
       "      <th>mths_since_recent_inq</th>\n",
       "      <th>mths_since_recent_revol_delinq</th>\n",
       "      <th>num_accts_ever_120_pd</th>\n",
       "      <th>num_actv_bc_tl</th>\n",
       "      <th>num_actv_rev_tl</th>\n",
       "      <th>num_bc_sats</th>\n",
       "      <th>num_bc_tl</th>\n",
       "      <th>num_il_tl</th>\n",
       "      <th>num_op_rev_tl</th>\n",
       "      <th>num_rev_accts</th>\n",
       "      <th>num_rev_tl_bal_gt_0</th>\n",
       "      <th>num_sats</th>\n",
       "      <th>num_tl_120dpd_2m</th>\n",
       "      <th>num_tl_30dpd</th>\n",
       "      <th>num_tl_90g_dpd_24m</th>\n",
       "      <th>num_tl_op_past_12m</th>\n",
       "      <th>pct_tl_nvr_dlq</th>\n",
       "      <th>percent_bc_gt_75</th>\n",
       "      <th>pub_rec_bankruptcies</th>\n",
       "      <th>tax_liens</th>\n",
       "      <th>tot_hi_cred_lim</th>\n",
       "      <th>total_bal_ex_mort</th>\n",
       "      <th>total_bc_limit</th>\n",
       "      <th>total_il_high_credit_limit</th>\n",
       "      <th>revol_bal_joint</th>\n",
       "      <th>sec_app_fico_range_low</th>\n",
       "      <th>sec_app_fico_range_high</th>\n",
       "      <th>sec_app_earliest_cr_line</th>\n",
       "      <th>sec_app_inq_last_6mths</th>\n",
       "      <th>sec_app_mort_acc</th>\n",
       "      <th>sec_app_open_acc</th>\n",
       "      <th>sec_app_revol_util</th>\n",
       "      <th>sec_app_open_act_il</th>\n",
       "      <th>sec_app_num_rev_accts</th>\n",
       "      <th>sec_app_chargeoff_within_12_mths</th>\n",
       "      <th>sec_app_collections_12_mths_ex_med</th>\n",
       "      <th>sec_app_mths_since_last_major_derog</th>\n",
       "      <th>hardship_flag</th>\n",
       "      <th>hardship_type</th>\n",
       "      <th>hardship_reason</th>\n",
       "      <th>hardship_status</th>\n",
       "      <th>deferral_term</th>\n",
       "      <th>hardship_amount</th>\n",
       "      <th>hardship_start_date</th>\n",
       "      <th>hardship_end_date</th>\n",
       "      <th>payment_plan_start_date</th>\n",
       "      <th>hardship_length</th>\n",
       "      <th>hardship_dpd</th>\n",
       "      <th>hardship_loan_status</th>\n",
       "      <th>orig_projected_additional_accrued_interest</th>\n",
       "      <th>hardship_payoff_balance_amount</th>\n",
       "      <th>hardship_last_payment_amount</th>\n",
       "      <th>disbursement_method</th>\n",
       "      <th>debt_settlement_flag</th>\n",
       "      <th>debt_settlement_flag_date</th>\n",
       "      <th>settlement_status</th>\n",
       "      <th>settlement_date</th>\n",
       "      <th>settlement_amount</th>\n",
       "      <th>settlement_percentage</th>\n",
       "      <th>settlement_term</th>\n",
       "    </tr>\n",
       "  </thead>\n",
       "  <tbody>\n",
       "    <tr>\n",
       "      <th>232560</th>\n",
       "      <td>10181582</td>\n",
       "      <td>NaN</td>\n",
       "      <td>22000.0</td>\n",
       "      <td>22000.0</td>\n",
       "      <td>22000.0</td>\n",
       "      <td>60 months</td>\n",
       "      <td>14.47</td>\n",
       "      <td>517.28</td>\n",
       "      <td>C</td>\n",
       "      <td>C2</td>\n",
       "      <td>Program Officer</td>\n",
       "      <td>5 years</td>\n",
       "      <td>MORTGAGE</td>\n",
       "      <td>92000.0</td>\n",
       "      <td>Verified</td>\n",
       "      <td>Jan-2014</td>\n",
       "      <td>Charged Off</td>\n",
       "      <td>n</td>\n",
       "      <td>NaN</td>\n",
       "      <td>debt_consolidation</td>\n",
       "      <td>My Loan</td>\n",
       "      <td>200xx</td>\n",
       "      <td>DC</td>\n",
       "      <td>23.31</td>\n",
       "      <td>1.0</td>\n",
       "      <td>Mar-2003</td>\n",
       "      <td>720.0</td>\n",
       "      <td>724.0</td>\n",
       "      <td>0.0</td>\n",
       "      <td>3.0</td>\n",
       "      <td>NaN</td>\n",
       "      <td>13.0</td>\n",
       "      <td>0.0</td>\n",
       "      <td>5526.0</td>\n",
       "      <td>13.1</td>\n",
       "      <td>29.0</td>\n",
       "      <td>w</td>\n",
       "      <td>0.00</td>\n",
       "      <td>0.00</td>\n",
       "      <td>9571.240000</td>\n",
       "      <td>9571.24</td>\n",
       "      <td>3232.80</td>\n",
       "      <td>2974.56</td>\n",
       "      <td>0.0</td>\n",
       "      <td>3363.88</td>\n",
       "      <td>605.4984</td>\n",
       "      <td>Jan-2015</td>\n",
       "      <td>517.28</td>\n",
       "      <td>NaN</td>\n",
       "      <td>Oct-2016</td>\n",
       "      <td>689.0</td>\n",
       "      <td>685.0</td>\n",
       "      <td>0.0</td>\n",
       "      <td>NaN</td>\n",
       "      <td>1.0</td>\n",
       "      <td>Individual</td>\n",
       "      <td>NaN</td>\n",
       "      <td>NaN</td>\n",
       "      <td>NaN</td>\n",
       "      <td>0.0</td>\n",
       "      <td>0.0</td>\n",
       "      <td>264562.0</td>\n",
       "      <td>NaN</td>\n",
       "      <td>NaN</td>\n",
       "      <td>NaN</td>\n",
       "      <td>NaN</td>\n",
       "      <td>NaN</td>\n",
       "      <td>NaN</td>\n",
       "      <td>NaN</td>\n",
       "      <td>NaN</td>\n",
       "      <td>NaN</td>\n",
       "      <td>NaN</td>\n",
       "      <td>NaN</td>\n",
       "      <td>42200.0</td>\n",
       "      <td>NaN</td>\n",
       "      <td>NaN</td>\n",
       "      <td>NaN</td>\n",
       "      <td>7.0</td>\n",
       "      <td>20351.0</td>\n",
       "      <td>26036.0</td>\n",
       "      <td>14.6</td>\n",
       "      <td>0.0</td>\n",
       "      <td>0.0</td>\n",
       "      <td>130.0</td>\n",
       "      <td>107.0</td>\n",
       "      <td>11.0</td>\n",
       "      <td>6.0</td>\n",
       "      <td>3.0</td>\n",
       "      <td>11.0</td>\n",
       "      <td>NaN</td>\n",
       "      <td>11.0</td>\n",
       "      <td>3.0</td>\n",
       "      <td>0.0</td>\n",
       "      <td>2.0</td>\n",
       "      <td>5.0</td>\n",
       "      <td>5.0</td>\n",
       "      <td>10.0</td>\n",
       "      <td>9.0</td>\n",
       "      <td>9.0</td>\n",
       "      <td>17.0</td>\n",
       "      <td>5.0</td>\n",
       "      <td>13.0</td>\n",
       "      <td>0.0</td>\n",
       "      <td>0.0</td>\n",
       "      <td>0.0</td>\n",
       "      <td>3.0</td>\n",
       "      <td>96.4</td>\n",
       "      <td>0.0</td>\n",
       "      <td>0.0</td>\n",
       "      <td>0.0</td>\n",
       "      <td>332285.0</td>\n",
       "      <td>54587.0</td>\n",
       "      <td>30500.0</td>\n",
       "      <td>77507.0</td>\n",
       "      <td>NaN</td>\n",
       "      <td>NaN</td>\n",
       "      <td>NaN</td>\n",
       "      <td>NaN</td>\n",
       "      <td>NaN</td>\n",
       "      <td>NaN</td>\n",
       "      <td>NaN</td>\n",
       "      <td>NaN</td>\n",
       "      <td>NaN</td>\n",
       "      <td>NaN</td>\n",
       "      <td>NaN</td>\n",
       "      <td>NaN</td>\n",
       "      <td>NaN</td>\n",
       "      <td>N</td>\n",
       "      <td>NaN</td>\n",
       "      <td>NaN</td>\n",
       "      <td>NaN</td>\n",
       "      <td>NaN</td>\n",
       "      <td>NaN</td>\n",
       "      <td>NaN</td>\n",
       "      <td>NaN</td>\n",
       "      <td>NaN</td>\n",
       "      <td>NaN</td>\n",
       "      <td>NaN</td>\n",
       "      <td>NaN</td>\n",
       "      <td>NaN</td>\n",
       "      <td>NaN</td>\n",
       "      <td>NaN</td>\n",
       "      <td>Cash</td>\n",
       "      <td>N</td>\n",
       "      <td>NaN</td>\n",
       "      <td>NaN</td>\n",
       "      <td>NaN</td>\n",
       "      <td>NaN</td>\n",
       "      <td>NaN</td>\n",
       "      <td>NaN</td>\n",
       "    </tr>\n",
       "    <tr>\n",
       "      <th>835903</th>\n",
       "      <td>8194985</td>\n",
       "      <td>NaN</td>\n",
       "      <td>17500.0</td>\n",
       "      <td>17500.0</td>\n",
       "      <td>17500.0</td>\n",
       "      <td>60 months</td>\n",
       "      <td>17.10</td>\n",
       "      <td>435.87</td>\n",
       "      <td>C</td>\n",
       "      <td>C5</td>\n",
       "      <td>teacher</td>\n",
       "      <td>3 years</td>\n",
       "      <td>OWN</td>\n",
       "      <td>40000.0</td>\n",
       "      <td>Source Verified</td>\n",
       "      <td>Oct-2013</td>\n",
       "      <td>Fully Paid</td>\n",
       "      <td>n</td>\n",
       "      <td>NaN</td>\n",
       "      <td>debt_consolidation</td>\n",
       "      <td>student loan pay off</td>\n",
       "      <td>253xx</td>\n",
       "      <td>WV</td>\n",
       "      <td>18.42</td>\n",
       "      <td>0.0</td>\n",
       "      <td>Aug-1997</td>\n",
       "      <td>670.0</td>\n",
       "      <td>674.0</td>\n",
       "      <td>0.0</td>\n",
       "      <td>NaN</td>\n",
       "      <td>NaN</td>\n",
       "      <td>14.0</td>\n",
       "      <td>0.0</td>\n",
       "      <td>8524.0</td>\n",
       "      <td>56.5</td>\n",
       "      <td>17.0</td>\n",
       "      <td>w</td>\n",
       "      <td>0.00</td>\n",
       "      <td>0.00</td>\n",
       "      <td>25546.093122</td>\n",
       "      <td>25546.09</td>\n",
       "      <td>17500.00</td>\n",
       "      <td>8046.09</td>\n",
       "      <td>0.0</td>\n",
       "      <td>0.00</td>\n",
       "      <td>0.0000</td>\n",
       "      <td>Sep-2017</td>\n",
       "      <td>5931.94</td>\n",
       "      <td>NaN</td>\n",
       "      <td>Aug-2017</td>\n",
       "      <td>799.0</td>\n",
       "      <td>795.0</td>\n",
       "      <td>0.0</td>\n",
       "      <td>NaN</td>\n",
       "      <td>1.0</td>\n",
       "      <td>Individual</td>\n",
       "      <td>NaN</td>\n",
       "      <td>NaN</td>\n",
       "      <td>NaN</td>\n",
       "      <td>0.0</td>\n",
       "      <td>0.0</td>\n",
       "      <td>38653.0</td>\n",
       "      <td>NaN</td>\n",
       "      <td>NaN</td>\n",
       "      <td>NaN</td>\n",
       "      <td>NaN</td>\n",
       "      <td>NaN</td>\n",
       "      <td>NaN</td>\n",
       "      <td>NaN</td>\n",
       "      <td>NaN</td>\n",
       "      <td>NaN</td>\n",
       "      <td>NaN</td>\n",
       "      <td>NaN</td>\n",
       "      <td>15100.0</td>\n",
       "      <td>NaN</td>\n",
       "      <td>NaN</td>\n",
       "      <td>NaN</td>\n",
       "      <td>6.0</td>\n",
       "      <td>2973.0</td>\n",
       "      <td>2264.0</td>\n",
       "      <td>75.1</td>\n",
       "      <td>0.0</td>\n",
       "      <td>0.0</td>\n",
       "      <td>26.0</td>\n",
       "      <td>194.0</td>\n",
       "      <td>3.0</td>\n",
       "      <td>2.0</td>\n",
       "      <td>0.0</td>\n",
       "      <td>24.0</td>\n",
       "      <td>NaN</td>\n",
       "      <td>NaN</td>\n",
       "      <td>NaN</td>\n",
       "      <td>0.0</td>\n",
       "      <td>3.0</td>\n",
       "      <td>6.0</td>\n",
       "      <td>5.0</td>\n",
       "      <td>6.0</td>\n",
       "      <td>3.0</td>\n",
       "      <td>11.0</td>\n",
       "      <td>14.0</td>\n",
       "      <td>6.0</td>\n",
       "      <td>14.0</td>\n",
       "      <td>0.0</td>\n",
       "      <td>0.0</td>\n",
       "      <td>0.0</td>\n",
       "      <td>2.0</td>\n",
       "      <td>94.1</td>\n",
       "      <td>40.0</td>\n",
       "      <td>0.0</td>\n",
       "      <td>0.0</td>\n",
       "      <td>45506.0</td>\n",
       "      <td>38653.0</td>\n",
       "      <td>9100.0</td>\n",
       "      <td>30406.0</td>\n",
       "      <td>NaN</td>\n",
       "      <td>NaN</td>\n",
       "      <td>NaN</td>\n",
       "      <td>NaN</td>\n",
       "      <td>NaN</td>\n",
       "      <td>NaN</td>\n",
       "      <td>NaN</td>\n",
       "      <td>NaN</td>\n",
       "      <td>NaN</td>\n",
       "      <td>NaN</td>\n",
       "      <td>NaN</td>\n",
       "      <td>NaN</td>\n",
       "      <td>NaN</td>\n",
       "      <td>N</td>\n",
       "      <td>NaN</td>\n",
       "      <td>NaN</td>\n",
       "      <td>NaN</td>\n",
       "      <td>NaN</td>\n",
       "      <td>NaN</td>\n",
       "      <td>NaN</td>\n",
       "      <td>NaN</td>\n",
       "      <td>NaN</td>\n",
       "      <td>NaN</td>\n",
       "      <td>NaN</td>\n",
       "      <td>NaN</td>\n",
       "      <td>NaN</td>\n",
       "      <td>NaN</td>\n",
       "      <td>NaN</td>\n",
       "      <td>Cash</td>\n",
       "      <td>N</td>\n",
       "      <td>NaN</td>\n",
       "      <td>NaN</td>\n",
       "      <td>NaN</td>\n",
       "      <td>NaN</td>\n",
       "      <td>NaN</td>\n",
       "      <td>NaN</td>\n",
       "    </tr>\n",
       "    <tr>\n",
       "      <th>1434085</th>\n",
       "      <td>93742407</td>\n",
       "      <td>NaN</td>\n",
       "      <td>20000.0</td>\n",
       "      <td>20000.0</td>\n",
       "      <td>20000.0</td>\n",
       "      <td>36 months</td>\n",
       "      <td>14.99</td>\n",
       "      <td>693.21</td>\n",
       "      <td>C</td>\n",
       "      <td>C4</td>\n",
       "      <td>OTR Driver</td>\n",
       "      <td>2 years</td>\n",
       "      <td>RENT</td>\n",
       "      <td>70000.0</td>\n",
       "      <td>Source Verified</td>\n",
       "      <td>Dec-2016</td>\n",
       "      <td>Current</td>\n",
       "      <td>n</td>\n",
       "      <td>NaN</td>\n",
       "      <td>major_purchase</td>\n",
       "      <td>Major purchase</td>\n",
       "      <td>342xx</td>\n",
       "      <td>FL</td>\n",
       "      <td>4.58</td>\n",
       "      <td>0.0</td>\n",
       "      <td>Oct-2004</td>\n",
       "      <td>680.0</td>\n",
       "      <td>684.0</td>\n",
       "      <td>0.0</td>\n",
       "      <td>NaN</td>\n",
       "      <td>NaN</td>\n",
       "      <td>3.0</td>\n",
       "      <td>0.0</td>\n",
       "      <td>2393.0</td>\n",
       "      <td>88.6</td>\n",
       "      <td>13.0</td>\n",
       "      <td>w</td>\n",
       "      <td>14298.28</td>\n",
       "      <td>14298.28</td>\n",
       "      <td>8285.210000</td>\n",
       "      <td>8285.21</td>\n",
       "      <td>5701.72</td>\n",
       "      <td>2583.49</td>\n",
       "      <td>0.0</td>\n",
       "      <td>0.00</td>\n",
       "      <td>0.0000</td>\n",
       "      <td>Dec-2017</td>\n",
       "      <td>693.21</td>\n",
       "      <td>Jan-2018</td>\n",
       "      <td>Dec-2017</td>\n",
       "      <td>659.0</td>\n",
       "      <td>655.0</td>\n",
       "      <td>0.0</td>\n",
       "      <td>NaN</td>\n",
       "      <td>1.0</td>\n",
       "      <td>Individual</td>\n",
       "      <td>NaN</td>\n",
       "      <td>NaN</td>\n",
       "      <td>NaN</td>\n",
       "      <td>0.0</td>\n",
       "      <td>71.0</td>\n",
       "      <td>4743.0</td>\n",
       "      <td>0.0</td>\n",
       "      <td>1.0</td>\n",
       "      <td>1.0</td>\n",
       "      <td>1.0</td>\n",
       "      <td>12.0</td>\n",
       "      <td>2350.0</td>\n",
       "      <td>67.0</td>\n",
       "      <td>0.0</td>\n",
       "      <td>0.0</td>\n",
       "      <td>2393.0</td>\n",
       "      <td>77.0</td>\n",
       "      <td>2700.0</td>\n",
       "      <td>1.0</td>\n",
       "      <td>1.0</td>\n",
       "      <td>5.0</td>\n",
       "      <td>1.0</td>\n",
       "      <td>1581.0</td>\n",
       "      <td>7.0</td>\n",
       "      <td>99.7</td>\n",
       "      <td>0.0</td>\n",
       "      <td>0.0</td>\n",
       "      <td>134.0</td>\n",
       "      <td>65.0</td>\n",
       "      <td>36.0</td>\n",
       "      <td>12.0</td>\n",
       "      <td>2.0</td>\n",
       "      <td>58.0</td>\n",
       "      <td>NaN</td>\n",
       "      <td>1.0</td>\n",
       "      <td>NaN</td>\n",
       "      <td>0.0</td>\n",
       "      <td>1.0</td>\n",
       "      <td>1.0</td>\n",
       "      <td>1.0</td>\n",
       "      <td>3.0</td>\n",
       "      <td>7.0</td>\n",
       "      <td>2.0</td>\n",
       "      <td>4.0</td>\n",
       "      <td>1.0</td>\n",
       "      <td>3.0</td>\n",
       "      <td>0.0</td>\n",
       "      <td>0.0</td>\n",
       "      <td>0.0</td>\n",
       "      <td>1.0</td>\n",
       "      <td>100.0</td>\n",
       "      <td>100.0</td>\n",
       "      <td>0.0</td>\n",
       "      <td>0.0</td>\n",
       "      <td>6200.0</td>\n",
       "      <td>4743.0</td>\n",
       "      <td>2400.0</td>\n",
       "      <td>3500.0</td>\n",
       "      <td>NaN</td>\n",
       "      <td>NaN</td>\n",
       "      <td>NaN</td>\n",
       "      <td>NaN</td>\n",
       "      <td>NaN</td>\n",
       "      <td>NaN</td>\n",
       "      <td>NaN</td>\n",
       "      <td>NaN</td>\n",
       "      <td>NaN</td>\n",
       "      <td>NaN</td>\n",
       "      <td>NaN</td>\n",
       "      <td>NaN</td>\n",
       "      <td>NaN</td>\n",
       "      <td>N</td>\n",
       "      <td>NaN</td>\n",
       "      <td>NaN</td>\n",
       "      <td>NaN</td>\n",
       "      <td>NaN</td>\n",
       "      <td>NaN</td>\n",
       "      <td>NaN</td>\n",
       "      <td>NaN</td>\n",
       "      <td>NaN</td>\n",
       "      <td>NaN</td>\n",
       "      <td>NaN</td>\n",
       "      <td>NaN</td>\n",
       "      <td>NaN</td>\n",
       "      <td>NaN</td>\n",
       "      <td>NaN</td>\n",
       "      <td>Cash</td>\n",
       "      <td>N</td>\n",
       "      <td>NaN</td>\n",
       "      <td>NaN</td>\n",
       "      <td>NaN</td>\n",
       "      <td>NaN</td>\n",
       "      <td>NaN</td>\n",
       "      <td>NaN</td>\n",
       "    </tr>\n",
       "    <tr>\n",
       "      <th>876652</th>\n",
       "      <td>5947197</td>\n",
       "      <td>NaN</td>\n",
       "      <td>13350.0</td>\n",
       "      <td>13350.0</td>\n",
       "      <td>13350.0</td>\n",
       "      <td>60 months</td>\n",
       "      <td>13.68</td>\n",
       "      <td>308.43</td>\n",
       "      <td>C</td>\n",
       "      <td>C1</td>\n",
       "      <td>al pugh dis</td>\n",
       "      <td>3 years</td>\n",
       "      <td>MORTGAGE</td>\n",
       "      <td>50000.0</td>\n",
       "      <td>Source Verified</td>\n",
       "      <td>Jul-2013</td>\n",
       "      <td>Fully Paid</td>\n",
       "      <td>n</td>\n",
       "      <td>Borrower added on 07/11/13 &gt; paying off a car loan and purchasing a boat. want one payment instead of two seperate&lt;br&gt;</td>\n",
       "      <td>major_purchase</td>\n",
       "      <td>Major purchase</td>\n",
       "      <td>225xx</td>\n",
       "      <td>VA</td>\n",
       "      <td>12.43</td>\n",
       "      <td>0.0</td>\n",
       "      <td>Feb-1994</td>\n",
       "      <td>705.0</td>\n",
       "      <td>709.0</td>\n",
       "      <td>2.0</td>\n",
       "      <td>53.0</td>\n",
       "      <td>NaN</td>\n",
       "      <td>6.0</td>\n",
       "      <td>0.0</td>\n",
       "      <td>6344.0</td>\n",
       "      <td>73.8</td>\n",
       "      <td>24.0</td>\n",
       "      <td>f</td>\n",
       "      <td>0.00</td>\n",
       "      <td>0.00</td>\n",
       "      <td>16392.580005</td>\n",
       "      <td>16392.58</td>\n",
       "      <td>13350.00</td>\n",
       "      <td>3042.58</td>\n",
       "      <td>0.0</td>\n",
       "      <td>0.00</td>\n",
       "      <td>0.0000</td>\n",
       "      <td>Aug-2015</td>\n",
       "      <td>473.57</td>\n",
       "      <td>NaN</td>\n",
       "      <td>Aug-2017</td>\n",
       "      <td>709.0</td>\n",
       "      <td>705.0</td>\n",
       "      <td>0.0</td>\n",
       "      <td>NaN</td>\n",
       "      <td>1.0</td>\n",
       "      <td>Individual</td>\n",
       "      <td>NaN</td>\n",
       "      <td>NaN</td>\n",
       "      <td>NaN</td>\n",
       "      <td>0.0</td>\n",
       "      <td>0.0</td>\n",
       "      <td>191886.0</td>\n",
       "      <td>NaN</td>\n",
       "      <td>NaN</td>\n",
       "      <td>NaN</td>\n",
       "      <td>NaN</td>\n",
       "      <td>NaN</td>\n",
       "      <td>NaN</td>\n",
       "      <td>NaN</td>\n",
       "      <td>NaN</td>\n",
       "      <td>NaN</td>\n",
       "      <td>NaN</td>\n",
       "      <td>NaN</td>\n",
       "      <td>8600.0</td>\n",
       "      <td>NaN</td>\n",
       "      <td>NaN</td>\n",
       "      <td>NaN</td>\n",
       "      <td>3.0</td>\n",
       "      <td>38377.0</td>\n",
       "      <td>2256.0</td>\n",
       "      <td>73.8</td>\n",
       "      <td>0.0</td>\n",
       "      <td>0.0</td>\n",
       "      <td>236.0</td>\n",
       "      <td>174.0</td>\n",
       "      <td>23.0</td>\n",
       "      <td>3.0</td>\n",
       "      <td>6.0</td>\n",
       "      <td>40.0</td>\n",
       "      <td>NaN</td>\n",
       "      <td>3.0</td>\n",
       "      <td>NaN</td>\n",
       "      <td>0.0</td>\n",
       "      <td>2.0</td>\n",
       "      <td>2.0</td>\n",
       "      <td>2.0</td>\n",
       "      <td>10.0</td>\n",
       "      <td>7.0</td>\n",
       "      <td>3.0</td>\n",
       "      <td>11.0</td>\n",
       "      <td>2.0</td>\n",
       "      <td>6.0</td>\n",
       "      <td>0.0</td>\n",
       "      <td>0.0</td>\n",
       "      <td>0.0</td>\n",
       "      <td>1.0</td>\n",
       "      <td>95.0</td>\n",
       "      <td>50.0</td>\n",
       "      <td>0.0</td>\n",
       "      <td>0.0</td>\n",
       "      <td>208703.0</td>\n",
       "      <td>21774.0</td>\n",
       "      <td>8600.0</td>\n",
       "      <td>16953.0</td>\n",
       "      <td>NaN</td>\n",
       "      <td>NaN</td>\n",
       "      <td>NaN</td>\n",
       "      <td>NaN</td>\n",
       "      <td>NaN</td>\n",
       "      <td>NaN</td>\n",
       "      <td>NaN</td>\n",
       "      <td>NaN</td>\n",
       "      <td>NaN</td>\n",
       "      <td>NaN</td>\n",
       "      <td>NaN</td>\n",
       "      <td>NaN</td>\n",
       "      <td>NaN</td>\n",
       "      <td>N</td>\n",
       "      <td>NaN</td>\n",
       "      <td>NaN</td>\n",
       "      <td>NaN</td>\n",
       "      <td>NaN</td>\n",
       "      <td>NaN</td>\n",
       "      <td>NaN</td>\n",
       "      <td>NaN</td>\n",
       "      <td>NaN</td>\n",
       "      <td>NaN</td>\n",
       "      <td>NaN</td>\n",
       "      <td>NaN</td>\n",
       "      <td>NaN</td>\n",
       "      <td>NaN</td>\n",
       "      <td>NaN</td>\n",
       "      <td>Cash</td>\n",
       "      <td>N</td>\n",
       "      <td>NaN</td>\n",
       "      <td>NaN</td>\n",
       "      <td>NaN</td>\n",
       "      <td>NaN</td>\n",
       "      <td>NaN</td>\n",
       "      <td>NaN</td>\n",
       "    </tr>\n",
       "    <tr>\n",
       "      <th>938117</th>\n",
       "      <td>2894774</td>\n",
       "      <td>NaN</td>\n",
       "      <td>35000.0</td>\n",
       "      <td>35000.0</td>\n",
       "      <td>35000.0</td>\n",
       "      <td>60 months</td>\n",
       "      <td>21.49</td>\n",
       "      <td>956.55</td>\n",
       "      <td>E</td>\n",
       "      <td>E3</td>\n",
       "      <td>Lanham Associates</td>\n",
       "      <td>7 years</td>\n",
       "      <td>MORTGAGE</td>\n",
       "      <td>83000.0</td>\n",
       "      <td>Verified</td>\n",
       "      <td>Jan-2013</td>\n",
       "      <td>Fully Paid</td>\n",
       "      <td>n</td>\n",
       "      <td>NaN</td>\n",
       "      <td>debt_consolidation</td>\n",
       "      <td>Loan</td>\n",
       "      <td>300xx</td>\n",
       "      <td>GA</td>\n",
       "      <td>20.94</td>\n",
       "      <td>0.0</td>\n",
       "      <td>Mar-1992</td>\n",
       "      <td>690.0</td>\n",
       "      <td>694.0</td>\n",
       "      <td>1.0</td>\n",
       "      <td>31.0</td>\n",
       "      <td>NaN</td>\n",
       "      <td>16.0</td>\n",
       "      <td>0.0</td>\n",
       "      <td>26773.0</td>\n",
       "      <td>73.4</td>\n",
       "      <td>48.0</td>\n",
       "      <td>f</td>\n",
       "      <td>0.00</td>\n",
       "      <td>0.00</td>\n",
       "      <td>50516.029977</td>\n",
       "      <td>50516.03</td>\n",
       "      <td>35000.00</td>\n",
       "      <td>15516.03</td>\n",
       "      <td>0.0</td>\n",
       "      <td>0.00</td>\n",
       "      <td>0.0000</td>\n",
       "      <td>Jun-2015</td>\n",
       "      <td>23535.83</td>\n",
       "      <td>NaN</td>\n",
       "      <td>Jan-2017</td>\n",
       "      <td>719.0</td>\n",
       "      <td>715.0</td>\n",
       "      <td>0.0</td>\n",
       "      <td>33.0</td>\n",
       "      <td>1.0</td>\n",
       "      <td>Individual</td>\n",
       "      <td>NaN</td>\n",
       "      <td>NaN</td>\n",
       "      <td>NaN</td>\n",
       "      <td>0.0</td>\n",
       "      <td>0.0</td>\n",
       "      <td>228287.0</td>\n",
       "      <td>NaN</td>\n",
       "      <td>NaN</td>\n",
       "      <td>NaN</td>\n",
       "      <td>NaN</td>\n",
       "      <td>NaN</td>\n",
       "      <td>NaN</td>\n",
       "      <td>NaN</td>\n",
       "      <td>NaN</td>\n",
       "      <td>NaN</td>\n",
       "      <td>NaN</td>\n",
       "      <td>NaN</td>\n",
       "      <td>36500.0</td>\n",
       "      <td>NaN</td>\n",
       "      <td>NaN</td>\n",
       "      <td>NaN</td>\n",
       "      <td>4.0</td>\n",
       "      <td>16306.0</td>\n",
       "      <td>3121.0</td>\n",
       "      <td>84.1</td>\n",
       "      <td>0.0</td>\n",
       "      <td>0.0</td>\n",
       "      <td>138.0</td>\n",
       "      <td>253.0</td>\n",
       "      <td>4.0</td>\n",
       "      <td>4.0</td>\n",
       "      <td>4.0</td>\n",
       "      <td>4.0</td>\n",
       "      <td>31.0</td>\n",
       "      <td>4.0</td>\n",
       "      <td>31.0</td>\n",
       "      <td>1.0</td>\n",
       "      <td>5.0</td>\n",
       "      <td>11.0</td>\n",
       "      <td>5.0</td>\n",
       "      <td>17.0</td>\n",
       "      <td>11.0</td>\n",
       "      <td>13.0</td>\n",
       "      <td>33.0</td>\n",
       "      <td>11.0</td>\n",
       "      <td>16.0</td>\n",
       "      <td>0.0</td>\n",
       "      <td>0.0</td>\n",
       "      <td>0.0</td>\n",
       "      <td>3.0</td>\n",
       "      <td>87.0</td>\n",
       "      <td>60.0</td>\n",
       "      <td>0.0</td>\n",
       "      <td>0.0</td>\n",
       "      <td>254910.0</td>\n",
       "      <td>60109.0</td>\n",
       "      <td>19600.0</td>\n",
       "      <td>33726.0</td>\n",
       "      <td>NaN</td>\n",
       "      <td>NaN</td>\n",
       "      <td>NaN</td>\n",
       "      <td>NaN</td>\n",
       "      <td>NaN</td>\n",
       "      <td>NaN</td>\n",
       "      <td>NaN</td>\n",
       "      <td>NaN</td>\n",
       "      <td>NaN</td>\n",
       "      <td>NaN</td>\n",
       "      <td>NaN</td>\n",
       "      <td>NaN</td>\n",
       "      <td>NaN</td>\n",
       "      <td>N</td>\n",
       "      <td>NaN</td>\n",
       "      <td>NaN</td>\n",
       "      <td>NaN</td>\n",
       "      <td>NaN</td>\n",
       "      <td>NaN</td>\n",
       "      <td>NaN</td>\n",
       "      <td>NaN</td>\n",
       "      <td>NaN</td>\n",
       "      <td>NaN</td>\n",
       "      <td>NaN</td>\n",
       "      <td>NaN</td>\n",
       "      <td>NaN</td>\n",
       "      <td>NaN</td>\n",
       "      <td>NaN</td>\n",
       "      <td>Cash</td>\n",
       "      <td>N</td>\n",
       "      <td>NaN</td>\n",
       "      <td>NaN</td>\n",
       "      <td>NaN</td>\n",
       "      <td>NaN</td>\n",
       "      <td>NaN</td>\n",
       "      <td>NaN</td>\n",
       "    </tr>\n",
       "  </tbody>\n",
       "</table>\n",
       "</div>"
      ],
      "text/plain": [
       "               id  member_id  loan_amnt  funded_amnt  funded_amnt_inv  \\\n",
       "232560   10181582        NaN    22000.0      22000.0          22000.0   \n",
       "835903    8194985        NaN    17500.0      17500.0          17500.0   \n",
       "1434085  93742407        NaN    20000.0      20000.0          20000.0   \n",
       "876652    5947197        NaN    13350.0      13350.0          13350.0   \n",
       "938117    2894774        NaN    35000.0      35000.0          35000.0   \n",
       "\n",
       "               term  int_rate  installment grade sub_grade          emp_title  \\\n",
       "232560    60 months     14.47       517.28     C        C2    Program Officer   \n",
       "835903    60 months     17.10       435.87     C        C5            teacher   \n",
       "1434085   36 months     14.99       693.21     C        C4         OTR Driver   \n",
       "876652    60 months     13.68       308.43     C        C1        al pugh dis   \n",
       "938117    60 months     21.49       956.55     E        E3  Lanham Associates   \n",
       "\n",
       "        emp_length home_ownership  annual_inc verification_status   issue_d  \\\n",
       "232560     5 years       MORTGAGE     92000.0            Verified  Jan-2014   \n",
       "835903     3 years            OWN     40000.0     Source Verified  Oct-2013   \n",
       "1434085    2 years           RENT     70000.0     Source Verified  Dec-2016   \n",
       "876652     3 years       MORTGAGE     50000.0     Source Verified  Jul-2013   \n",
       "938117     7 years       MORTGAGE     83000.0            Verified  Jan-2013   \n",
       "\n",
       "         loan_status pymnt_plan  \\\n",
       "232560   Charged Off          n   \n",
       "835903    Fully Paid          n   \n",
       "1434085      Current          n   \n",
       "876652    Fully Paid          n   \n",
       "938117    Fully Paid          n   \n",
       "\n",
       "                                                                                                                             desc  \\\n",
       "232560                                                                                                                        NaN   \n",
       "835903                                                                                                                        NaN   \n",
       "1434085                                                                                                                       NaN   \n",
       "876652     Borrower added on 07/11/13 > paying off a car loan and purchasing a boat. want one payment instead of two seperate<br>   \n",
       "938117                                                                                                                        NaN   \n",
       "\n",
       "                    purpose                 title zip_code addr_state    dti  \\\n",
       "232560   debt_consolidation               My Loan    200xx         DC  23.31   \n",
       "835903   debt_consolidation  student loan pay off    253xx         WV  18.42   \n",
       "1434085      major_purchase        Major purchase    342xx         FL   4.58   \n",
       "876652       major_purchase        Major purchase    225xx         VA  12.43   \n",
       "938117   debt_consolidation                  Loan    300xx         GA  20.94   \n",
       "\n",
       "         delinq_2yrs earliest_cr_line  fico_range_low  fico_range_high  \\\n",
       "232560           1.0         Mar-2003           720.0            724.0   \n",
       "835903           0.0         Aug-1997           670.0            674.0   \n",
       "1434085          0.0         Oct-2004           680.0            684.0   \n",
       "876652           0.0         Feb-1994           705.0            709.0   \n",
       "938117           0.0         Mar-1992           690.0            694.0   \n",
       "\n",
       "         inq_last_6mths  mths_since_last_delinq  mths_since_last_record  \\\n",
       "232560              0.0                     3.0                     NaN   \n",
       "835903              0.0                     NaN                     NaN   \n",
       "1434085             0.0                     NaN                     NaN   \n",
       "876652              2.0                    53.0                     NaN   \n",
       "938117              1.0                    31.0                     NaN   \n",
       "\n",
       "         open_acc  pub_rec  revol_bal  revol_util  total_acc  \\\n",
       "232560       13.0      0.0     5526.0        13.1       29.0   \n",
       "835903       14.0      0.0     8524.0        56.5       17.0   \n",
       "1434085       3.0      0.0     2393.0        88.6       13.0   \n",
       "876652        6.0      0.0     6344.0        73.8       24.0   \n",
       "938117       16.0      0.0    26773.0        73.4       48.0   \n",
       "\n",
       "        initial_list_status  out_prncp  out_prncp_inv   total_pymnt  \\\n",
       "232560                    w       0.00           0.00   9571.240000   \n",
       "835903                    w       0.00           0.00  25546.093122   \n",
       "1434085                   w   14298.28       14298.28   8285.210000   \n",
       "876652                    f       0.00           0.00  16392.580005   \n",
       "938117                    f       0.00           0.00  50516.029977   \n",
       "\n",
       "         total_pymnt_inv  total_rec_prncp  total_rec_int  total_rec_late_fee  \\\n",
       "232560           9571.24          3232.80        2974.56                 0.0   \n",
       "835903          25546.09         17500.00        8046.09                 0.0   \n",
       "1434085          8285.21          5701.72        2583.49                 0.0   \n",
       "876652          16392.58         13350.00        3042.58                 0.0   \n",
       "938117          50516.03         35000.00       15516.03                 0.0   \n",
       "\n",
       "         recoveries  collection_recovery_fee last_pymnt_d  last_pymnt_amnt  \\\n",
       "232560      3363.88                 605.4984     Jan-2015           517.28   \n",
       "835903         0.00                   0.0000     Sep-2017          5931.94   \n",
       "1434085        0.00                   0.0000     Dec-2017           693.21   \n",
       "876652         0.00                   0.0000     Aug-2015           473.57   \n",
       "938117         0.00                   0.0000     Jun-2015         23535.83   \n",
       "\n",
       "        next_pymnt_d last_credit_pull_d  last_fico_range_high  \\\n",
       "232560           NaN           Oct-2016                 689.0   \n",
       "835903           NaN           Aug-2017                 799.0   \n",
       "1434085     Jan-2018           Dec-2017                 659.0   \n",
       "876652           NaN           Aug-2017                 709.0   \n",
       "938117           NaN           Jan-2017                 719.0   \n",
       "\n",
       "         last_fico_range_low  collections_12_mths_ex_med  \\\n",
       "232560                 685.0                         0.0   \n",
       "835903                 795.0                         0.0   \n",
       "1434085                655.0                         0.0   \n",
       "876652                 705.0                         0.0   \n",
       "938117                 715.0                         0.0   \n",
       "\n",
       "         mths_since_last_major_derog  policy_code application_type  \\\n",
       "232560                           NaN          1.0       Individual   \n",
       "835903                           NaN          1.0       Individual   \n",
       "1434085                          NaN          1.0       Individual   \n",
       "876652                           NaN          1.0       Individual   \n",
       "938117                          33.0          1.0       Individual   \n",
       "\n",
       "         annual_inc_joint  dti_joint verification_status_joint  \\\n",
       "232560                NaN        NaN                       NaN   \n",
       "835903                NaN        NaN                       NaN   \n",
       "1434085               NaN        NaN                       NaN   \n",
       "876652                NaN        NaN                       NaN   \n",
       "938117                NaN        NaN                       NaN   \n",
       "\n",
       "         acc_now_delinq  tot_coll_amt  tot_cur_bal  open_acc_6m  open_act_il  \\\n",
       "232560              0.0           0.0     264562.0          NaN          NaN   \n",
       "835903              0.0           0.0      38653.0          NaN          NaN   \n",
       "1434085             0.0          71.0       4743.0          0.0          1.0   \n",
       "876652              0.0           0.0     191886.0          NaN          NaN   \n",
       "938117              0.0           0.0     228287.0          NaN          NaN   \n",
       "\n",
       "         open_il_12m  open_il_24m  mths_since_rcnt_il  total_bal_il  il_util  \\\n",
       "232560           NaN          NaN                 NaN           NaN      NaN   \n",
       "835903           NaN          NaN                 NaN           NaN      NaN   \n",
       "1434085          1.0          1.0                12.0        2350.0     67.0   \n",
       "876652           NaN          NaN                 NaN           NaN      NaN   \n",
       "938117           NaN          NaN                 NaN           NaN      NaN   \n",
       "\n",
       "         open_rv_12m  open_rv_24m  max_bal_bc  all_util  total_rev_hi_lim  \\\n",
       "232560           NaN          NaN         NaN       NaN           42200.0   \n",
       "835903           NaN          NaN         NaN       NaN           15100.0   \n",
       "1434085          0.0          0.0      2393.0      77.0            2700.0   \n",
       "876652           NaN          NaN         NaN       NaN            8600.0   \n",
       "938117           NaN          NaN         NaN       NaN           36500.0   \n",
       "\n",
       "         inq_fi  total_cu_tl  inq_last_12m  acc_open_past_24mths  avg_cur_bal  \\\n",
       "232560      NaN          NaN           NaN                   7.0      20351.0   \n",
       "835903      NaN          NaN           NaN                   6.0       2973.0   \n",
       "1434085     1.0          1.0           5.0                   1.0       1581.0   \n",
       "876652      NaN          NaN           NaN                   3.0      38377.0   \n",
       "938117      NaN          NaN           NaN                   4.0      16306.0   \n",
       "\n",
       "         bc_open_to_buy  bc_util  chargeoff_within_12_mths  delinq_amnt  \\\n",
       "232560          26036.0     14.6                       0.0          0.0   \n",
       "835903           2264.0     75.1                       0.0          0.0   \n",
       "1434085             7.0     99.7                       0.0          0.0   \n",
       "876652           2256.0     73.8                       0.0          0.0   \n",
       "938117           3121.0     84.1                       0.0          0.0   \n",
       "\n",
       "         mo_sin_old_il_acct  mo_sin_old_rev_tl_op  mo_sin_rcnt_rev_tl_op  \\\n",
       "232560                130.0                 107.0                   11.0   \n",
       "835903                 26.0                 194.0                    3.0   \n",
       "1434085               134.0                  65.0                   36.0   \n",
       "876652                236.0                 174.0                   23.0   \n",
       "938117                138.0                 253.0                    4.0   \n",
       "\n",
       "         mo_sin_rcnt_tl  mort_acc  mths_since_recent_bc  \\\n",
       "232560              6.0       3.0                  11.0   \n",
       "835903              2.0       0.0                  24.0   \n",
       "1434085            12.0       2.0                  58.0   \n",
       "876652              3.0       6.0                  40.0   \n",
       "938117              4.0       4.0                   4.0   \n",
       "\n",
       "         mths_since_recent_bc_dlq  mths_since_recent_inq  \\\n",
       "232560                        NaN                   11.0   \n",
       "835903                        NaN                    NaN   \n",
       "1434085                       NaN                    1.0   \n",
       "876652                        NaN                    3.0   \n",
       "938117                       31.0                    4.0   \n",
       "\n",
       "         mths_since_recent_revol_delinq  num_accts_ever_120_pd  \\\n",
       "232560                              3.0                    0.0   \n",
       "835903                              NaN                    0.0   \n",
       "1434085                             NaN                    0.0   \n",
       "876652                              NaN                    0.0   \n",
       "938117                             31.0                    1.0   \n",
       "\n",
       "         num_actv_bc_tl  num_actv_rev_tl  num_bc_sats  num_bc_tl  num_il_tl  \\\n",
       "232560              2.0              5.0          5.0       10.0        9.0   \n",
       "835903              3.0              6.0          5.0        6.0        3.0   \n",
       "1434085             1.0              1.0          1.0        3.0        7.0   \n",
       "876652              2.0              2.0          2.0       10.0        7.0   \n",
       "938117              5.0             11.0          5.0       17.0       11.0   \n",
       "\n",
       "         num_op_rev_tl  num_rev_accts  num_rev_tl_bal_gt_0  num_sats  \\\n",
       "232560             9.0           17.0                  5.0      13.0   \n",
       "835903            11.0           14.0                  6.0      14.0   \n",
       "1434085            2.0            4.0                  1.0       3.0   \n",
       "876652             3.0           11.0                  2.0       6.0   \n",
       "938117            13.0           33.0                 11.0      16.0   \n",
       "\n",
       "         num_tl_120dpd_2m  num_tl_30dpd  num_tl_90g_dpd_24m  \\\n",
       "232560                0.0           0.0                 0.0   \n",
       "835903                0.0           0.0                 0.0   \n",
       "1434085               0.0           0.0                 0.0   \n",
       "876652                0.0           0.0                 0.0   \n",
       "938117                0.0           0.0                 0.0   \n",
       "\n",
       "         num_tl_op_past_12m  pct_tl_nvr_dlq  percent_bc_gt_75  \\\n",
       "232560                  3.0            96.4               0.0   \n",
       "835903                  2.0            94.1              40.0   \n",
       "1434085                 1.0           100.0             100.0   \n",
       "876652                  1.0            95.0              50.0   \n",
       "938117                  3.0            87.0              60.0   \n",
       "\n",
       "         pub_rec_bankruptcies  tax_liens  tot_hi_cred_lim  total_bal_ex_mort  \\\n",
       "232560                    0.0        0.0         332285.0            54587.0   \n",
       "835903                    0.0        0.0          45506.0            38653.0   \n",
       "1434085                   0.0        0.0           6200.0             4743.0   \n",
       "876652                    0.0        0.0         208703.0            21774.0   \n",
       "938117                    0.0        0.0         254910.0            60109.0   \n",
       "\n",
       "         total_bc_limit  total_il_high_credit_limit  revol_bal_joint  \\\n",
       "232560          30500.0                     77507.0              NaN   \n",
       "835903           9100.0                     30406.0              NaN   \n",
       "1434085          2400.0                      3500.0              NaN   \n",
       "876652           8600.0                     16953.0              NaN   \n",
       "938117          19600.0                     33726.0              NaN   \n",
       "\n",
       "         sec_app_fico_range_low  sec_app_fico_range_high  \\\n",
       "232560                      NaN                      NaN   \n",
       "835903                      NaN                      NaN   \n",
       "1434085                     NaN                      NaN   \n",
       "876652                      NaN                      NaN   \n",
       "938117                      NaN                      NaN   \n",
       "\n",
       "        sec_app_earliest_cr_line  sec_app_inq_last_6mths  sec_app_mort_acc  \\\n",
       "232560                       NaN                     NaN               NaN   \n",
       "835903                       NaN                     NaN               NaN   \n",
       "1434085                      NaN                     NaN               NaN   \n",
       "876652                       NaN                     NaN               NaN   \n",
       "938117                       NaN                     NaN               NaN   \n",
       "\n",
       "         sec_app_open_acc  sec_app_revol_util  sec_app_open_act_il  \\\n",
       "232560                NaN                 NaN                  NaN   \n",
       "835903                NaN                 NaN                  NaN   \n",
       "1434085               NaN                 NaN                  NaN   \n",
       "876652                NaN                 NaN                  NaN   \n",
       "938117                NaN                 NaN                  NaN   \n",
       "\n",
       "         sec_app_num_rev_accts  sec_app_chargeoff_within_12_mths  \\\n",
       "232560                     NaN                               NaN   \n",
       "835903                     NaN                               NaN   \n",
       "1434085                    NaN                               NaN   \n",
       "876652                     NaN                               NaN   \n",
       "938117                     NaN                               NaN   \n",
       "\n",
       "         sec_app_collections_12_mths_ex_med  \\\n",
       "232560                                  NaN   \n",
       "835903                                  NaN   \n",
       "1434085                                 NaN   \n",
       "876652                                  NaN   \n",
       "938117                                  NaN   \n",
       "\n",
       "         sec_app_mths_since_last_major_derog hardship_flag hardship_type  \\\n",
       "232560                                   NaN             N           NaN   \n",
       "835903                                   NaN             N           NaN   \n",
       "1434085                                  NaN             N           NaN   \n",
       "876652                                   NaN             N           NaN   \n",
       "938117                                   NaN             N           NaN   \n",
       "\n",
       "        hardship_reason hardship_status  deferral_term  hardship_amount  \\\n",
       "232560              NaN             NaN            NaN              NaN   \n",
       "835903              NaN             NaN            NaN              NaN   \n",
       "1434085             NaN             NaN            NaN              NaN   \n",
       "876652              NaN             NaN            NaN              NaN   \n",
       "938117              NaN             NaN            NaN              NaN   \n",
       "\n",
       "        hardship_start_date hardship_end_date payment_plan_start_date  \\\n",
       "232560                  NaN               NaN                     NaN   \n",
       "835903                  NaN               NaN                     NaN   \n",
       "1434085                 NaN               NaN                     NaN   \n",
       "876652                  NaN               NaN                     NaN   \n",
       "938117                  NaN               NaN                     NaN   \n",
       "\n",
       "         hardship_length  hardship_dpd hardship_loan_status  \\\n",
       "232560               NaN           NaN                  NaN   \n",
       "835903               NaN           NaN                  NaN   \n",
       "1434085              NaN           NaN                  NaN   \n",
       "876652               NaN           NaN                  NaN   \n",
       "938117               NaN           NaN                  NaN   \n",
       "\n",
       "         orig_projected_additional_accrued_interest  \\\n",
       "232560                                          NaN   \n",
       "835903                                          NaN   \n",
       "1434085                                         NaN   \n",
       "876652                                          NaN   \n",
       "938117                                          NaN   \n",
       "\n",
       "         hardship_payoff_balance_amount  hardship_last_payment_amount  \\\n",
       "232560                              NaN                           NaN   \n",
       "835903                              NaN                           NaN   \n",
       "1434085                             NaN                           NaN   \n",
       "876652                              NaN                           NaN   \n",
       "938117                              NaN                           NaN   \n",
       "\n",
       "        disbursement_method debt_settlement_flag debt_settlement_flag_date  \\\n",
       "232560                 Cash                    N                       NaN   \n",
       "835903                 Cash                    N                       NaN   \n",
       "1434085                Cash                    N                       NaN   \n",
       "876652                 Cash                    N                       NaN   \n",
       "938117                 Cash                    N                       NaN   \n",
       "\n",
       "        settlement_status settlement_date  settlement_amount  \\\n",
       "232560                NaN             NaN                NaN   \n",
       "835903                NaN             NaN                NaN   \n",
       "1434085               NaN             NaN                NaN   \n",
       "876652                NaN             NaN                NaN   \n",
       "938117                NaN             NaN                NaN   \n",
       "\n",
       "         settlement_percentage  settlement_term  \n",
       "232560                     NaN              NaN  \n",
       "835903                     NaN              NaN  \n",
       "1434085                    NaN              NaN  \n",
       "876652                     NaN              NaN  \n",
       "938117                     NaN              NaN  "
      ]
     },
     "execution_count": 6,
     "metadata": {},
     "output_type": "execute_result"
    }
   ],
   "source": [
    "loans.sample(5)"
   ]
  },
  {
   "cell_type": "markdown",
   "metadata": {
    "_cell_guid": "6e847348-5344-4ebb-b820-03a772ad5059",
    "_uuid": "841ca8b2103b35b98730139c2e64b790f2edeb89"
   },
   "source": [
    "# Response Variable\n",
    "<a id=\"3\"></a>"
   ]
  },
  {
   "cell_type": "markdown",
   "metadata": {
    "_cell_guid": "b9e79844-28d9-4b5e-a6d3-c9dbfd17820e",
    "_uuid": "138869442509b04e45df20b0356e7ed91f77f7c2"
   },
   "source": [
    "We're going to try to predict the `loan_status` column. What are the value counts in this column?"
   ]
  },
  {
   "cell_type": "code",
   "execution_count": 7,
   "metadata": {
    "_cell_guid": "d5b467af-c5a1-4ae0-a044-3a421252eb78",
    "_uuid": "84e9c41ee08246a83bc6f8ad04a90c83a1bf408e"
   },
   "outputs": [
    {
     "data": {
      "text/plain": [
       "Current                                                788950\n",
       "Fully Paid                                             646902\n",
       "Charged Off                                            168084\n",
       "Late (31-120 days)                                      23763\n",
       "In Grace Period                                         10474\n",
       "Late (16-30 days)                                        5786\n",
       "Does not meet the credit policy. Status:Fully Paid       1988\n",
       "Does not meet the credit policy. Status:Charged Off       761\n",
       "Default                                                    70\n",
       "NaN                                                        23\n",
       "Name: loan_status, dtype: int64"
      ]
     },
     "execution_count": 7,
     "metadata": {},
     "output_type": "execute_result"
    }
   ],
   "source": [
    "loans['loan_status'].value_counts(dropna=False)"
   ]
  },
  {
   "cell_type": "markdown",
   "metadata": {
    "_cell_guid": "527520b1-32a4-4b95-ab0a-b24ac47b3cf6",
    "_uuid": "49a92fd5f4aab3a3561edf9929df506c9fd34a9d"
   },
   "source": [
    "We're going to try to predict the final status of completed loans. More specifically, we'll only consider loans that meet the credit policy and have either been fully paid or charged off. These are the two cases we'll try to distinguish with a predictive model.\n",
    "\n",
    "So we only retain the loans with `loan_status` \"Fully Paid\" or \"Charged Off.\" The other loans either (i) have not been completed, with status \"Current,\" \"Late,\" or \"In Grace Period\"; (ii) do not meet the credit policy; or (iii) have defaulted, a case that we won't consider because these loans are extremely rare."
   ]
  },
  {
   "cell_type": "code",
   "execution_count": 8,
   "metadata": {
    "_cell_guid": "f4f361b5-32f2-4828-8e37-3e43a32c32c0",
    "_uuid": "5c7dc5453d31b32b849bec55fe252c449d8e9557"
   },
   "outputs": [],
   "source": [
    "loans = loans.loc[loans['loan_status'].isin(['Fully Paid', 'Charged Off'])]"
   ]
  },
  {
   "cell_type": "markdown",
   "metadata": {},
   "source": [
    "How many loans remain in the dataset?"
   ]
  },
  {
   "cell_type": "code",
   "execution_count": 9,
   "metadata": {
    "_cell_guid": "be5c5ad3-f002-48f3-9695-3a80a1539c1b",
    "_uuid": "c71ee5ec2f8dc3d8297a7eea7eef441f27c51317"
   },
   "outputs": [
    {
     "data": {
      "text/plain": [
       "(814986, 150)"
      ]
     },
     "execution_count": 9,
     "metadata": {},
     "output_type": "execute_result"
    }
   ],
   "source": [
    "loans.shape"
   ]
  },
  {
   "cell_type": "markdown",
   "metadata": {},
   "source": [
    "Check the status counts:"
   ]
  },
  {
   "cell_type": "code",
   "execution_count": 10,
   "metadata": {
    "_cell_guid": "590a5146-c659-43ed-bfb4-7bea32672932",
    "_uuid": "d70396f915861568607ee204c4ff4574f80d5bdc"
   },
   "outputs": [
    {
     "data": {
      "text/plain": [
       "Fully Paid     646902\n",
       "Charged Off    168084\n",
       "Name: loan_status, dtype: int64"
      ]
     },
     "execution_count": 10,
     "metadata": {},
     "output_type": "execute_result"
    }
   ],
   "source": [
    "loans['loan_status'].value_counts(normalize=False, dropna=False) # Value counts as fractions of the total"
   ]
  },
  {
   "cell_type": "code",
   "execution_count": 11,
   "metadata": {
    "_cell_guid": "590a5146-c659-43ed-bfb4-7bea32672932",
    "_uuid": "d70396f915861568607ee204c4ff4574f80d5bdc"
   },
   "outputs": [
    {
     "data": {
      "text/plain": [
       "Fully Paid     0.793758\n",
       "Charged Off    0.206242\n",
       "Name: loan_status, dtype: float64"
      ]
     },
     "execution_count": 11,
     "metadata": {},
     "output_type": "execute_result"
    }
   ],
   "source": [
    "loans['loan_status'].value_counts(normalize=True, dropna=False) # Value counts as fractions of the total"
   ]
  },
  {
   "cell_type": "markdown",
   "metadata": {
    "_cell_guid": "c44aa6b1-041a-490e-8f64-81d010b1bf4a",
    "_uuid": "715d0aed4051332c5f32f35142e130e7da555150"
   },
   "source": [
    "About 79% of the remaining loans have been fully paid and 21% have been charged off, leading to a somewhat unbalanced classification problem."
   ]
  },
  {
   "cell_type": "markdown",
   "metadata": {
    "_cell_guid": "a6220e50-5df9-427a-a92b-5e6138234fb9",
    "_uuid": "34206dc6425cbf3c744c23006e6b10f522777a9d"
   },
   "source": [
    "# Feature Selection\n",
    "<a id=\"4\"></a>"
   ]
  },
  {
   "cell_type": "markdown",
   "metadata": {
    "_cell_guid": "89f9038c-fb12-46e9-9136-5f5e0a81d2bb",
    "_uuid": "a0a000e470b72a6128fc3ec216e181ab4ccc3809"
   },
   "source": [
    "The dataset has 150 features, but we won't be using all the features to predict the loan status. We'll first drop any features that meet either of the following criteria:\n",
    "\n",
    "1. More than 30% of the data is missing (in the training set)\n",
    "2. The feature would not have been available at the time of the loan application\n",
    "\n",
    "Definitions of the features are given in the Lending Club Data Dictionary [available here](https://www.lendingclub.com/info/download-data.action)."
   ]
  },
  {
   "cell_type": "markdown",
   "metadata": {
    "_cell_guid": "033676d1-c042-4af2-a41c-1f49d678d03f",
    "_uuid": "6d374ac8147274a76355bbeca958bbcf6ebb1de4"
   },
   "source": [
    "## Drop features missing too much data\n",
    "<a id=\"4.2\"></a>"
   ]
  },
  {
   "cell_type": "markdown",
   "metadata": {},
   "source": [
    "First we calculate the percentage of missing data for each feature:"
   ]
  },
  {
   "cell_type": "code",
   "execution_count": 12,
   "metadata": {},
   "outputs": [],
   "source": [
    "missing_fractions = loans.isnull().mean().sort_values(ascending=False)"
   ]
  },
  {
   "cell_type": "markdown",
   "metadata": {},
   "source": [
    "Let's visualize the distribution of missing data percentages:"
   ]
  },
  {
   "cell_type": "code",
   "execution_count": 13,
   "metadata": {},
   "outputs": [
    {
     "data": {
      "text/plain": [
       "Text(0,0.5,'Variable count')"
      ]
     },
     "execution_count": 13,
     "metadata": {},
     "output_type": "execute_result"
    },
    {
     "data": {
      "image/png": "[encoded data removed]",
      "text/plain": [
       "<Figure size 540x270 with 1 Axes>"
      ]
     },
     "metadata": {},
     "output_type": "display_data"
    }
   ],
   "source": [
    "plt.figure(figsize=(6,3), dpi=90)\n",
    "missing_fractions.plot.hist(bins=20)\n",
    "plt.title('Histogram of Variable Incompleteness')\n",
    "plt.xlabel('Fraction of data missing')\n",
    "plt.ylabel('Variable count')"
   ]
  },
  {
   "cell_type": "markdown",
   "metadata": {},
   "source": [
    "From the above histogram, we see there's a large gap between features missing \"some\" data and those missing \"lots\" of data. Because it's generally very difficult to accurately impute data with more than 30% missing values, we drop such columns. First store all variables missing more than 30% data in a list:"
   ]
  },
  {
   "cell_type": "code",
   "execution_count": 14,
   "metadata": {
    "_cell_guid": "b2bccd07-6308-4d83-b45a-de8ade091106",
    "_uuid": "dd01b28cdf204ed38fa2d7123254fe9dd5f62c87"
   },
   "outputs": [],
   "source": [
    "drop_list = sorted(list(missing_fractions[missing_fractions > 0.3].index))"
   ]
  },
  {
   "cell_type": "code",
   "execution_count": 15,
   "metadata": {
    "_cell_guid": "b2bccd07-6308-4d83-b45a-de8ade091106",
    "_uuid": "dd01b28cdf204ed38fa2d7123254fe9dd5f62c87"
   },
   "outputs": [
    {
     "name": "stdout",
     "output_type": "stream",
     "text": [
      "['all_util', 'annual_inc_joint', 'debt_settlement_flag_date', 'deferral_term', 'desc', 'dti_joint', 'hardship_amount', 'hardship_dpd', 'hardship_end_date', 'hardship_last_payment_amount', 'hardship_length', 'hardship_loan_status', 'hardship_payoff_balance_amount', 'hardship_reason', 'hardship_start_date', 'hardship_status', 'hardship_type', 'il_util', 'inq_fi', 'inq_last_12m', 'max_bal_bc', 'member_id', 'mths_since_last_delinq', 'mths_since_last_major_derog', 'mths_since_last_record', 'mths_since_rcnt_il', 'mths_since_recent_bc_dlq', 'mths_since_recent_revol_delinq', 'next_pymnt_d', 'open_acc_6m', 'open_act_il', 'open_il_12m', 'open_il_24m', 'open_rv_12m', 'open_rv_24m', 'orig_projected_additional_accrued_interest', 'payment_plan_start_date', 'revol_bal_joint', 'sec_app_chargeoff_within_12_mths', 'sec_app_collections_12_mths_ex_med', 'sec_app_earliest_cr_line', 'sec_app_fico_range_high', 'sec_app_fico_range_low', 'sec_app_inq_last_6mths', 'sec_app_mort_acc', 'sec_app_mths_since_last_major_derog', 'sec_app_num_rev_accts', 'sec_app_open_acc', 'sec_app_open_act_il', 'sec_app_revol_util', 'settlement_amount', 'settlement_date', 'settlement_percentage', 'settlement_status', 'settlement_term', 'total_bal_il', 'total_cu_tl', 'verification_status_joint']\n"
     ]
    }
   ],
   "source": [
    "print(drop_list)"
   ]
  },
  {
   "cell_type": "markdown",
   "metadata": {},
   "source": [
    "How many features will be dropped?"
   ]
  },
  {
   "cell_type": "code",
   "execution_count": 16,
   "metadata": {},
   "outputs": [
    {
     "data": {
      "text/plain": [
       "58"
      ]
     },
     "execution_count": 16,
     "metadata": {},
     "output_type": "execute_result"
    }
   ],
   "source": [
    "len(drop_list)"
   ]
  },
  {
   "cell_type": "markdown",
   "metadata": {
    "_cell_guid": "7fcfae32-fdf5-42af-a14a-0b797c17b034",
    "_uuid": "4477765ea99a243a25421550ff4087b68fc6fa1b"
   },
   "source": [
    "Now drop these features."
   ]
  },
  {
   "cell_type": "code",
   "execution_count": 17,
   "metadata": {},
   "outputs": [],
   "source": [
    "def drop_cols(cols):\n",
    "    # cols can be a single string, or a list of strings\n",
    "    loans.drop(labels=cols, axis=1, inplace=True)\n",
    "    missing_fractions.drop(labels=cols, inplace=True)"
   ]
  },
  {
   "cell_type": "code",
   "execution_count": 18,
   "metadata": {
    "_cell_guid": "876333ef-2b06-4fa8-b74f-4d9a59f8b2d6",
    "_uuid": "ea1d37e6b2b661cb6aed42a2929b2113f493fce6"
   },
   "outputs": [],
   "source": [
    "drop_cols(drop_list)"
   ]
  },
  {
   "cell_type": "markdown",
   "metadata": {
    "_cell_guid": "33b90b6b-0fcd-4657-ae11-0ff2f6a95823",
    "_uuid": "4066be79385b7b0c6b7d4f96533106093304b746"
   },
   "source": [
    "## Remove features that were unavailable before the loan was funded\n",
    "<a id=\"4.4\"></a>"
   ]
  },
  {
   "cell_type": "markdown",
   "metadata": {},
   "source": [
    "We examine the Lending Club Data Dictionary to determine which features would not have been available before the loan was funded. The idea here is to predict whether a loan will be paid off **before** deciding to fund the loan. Here's the list of features we currently have, in alphabetical order:"
   ]
  },
  {
   "cell_type": "code",
   "execution_count": 19,
   "metadata": {},
   "outputs": [
    {
     "name": "stdout",
     "output_type": "stream",
     "text": [
      "['acc_now_delinq', 'acc_open_past_24mths', 'addr_state', 'annual_inc', 'application_type', 'avg_cur_bal', 'bc_open_to_buy', 'bc_util', 'chargeoff_within_12_mths', 'collection_recovery_fee', 'collections_12_mths_ex_med', 'debt_settlement_flag', 'delinq_2yrs', 'delinq_amnt', 'disbursement_method', 'dti', 'earliest_cr_line', 'emp_length', 'emp_title', 'fico_range_high', 'fico_range_low', 'funded_amnt', 'funded_amnt_inv', 'grade', 'hardship_flag', 'home_ownership', 'id', 'initial_list_status', 'inq_last_6mths', 'installment', 'int_rate', 'issue_d', 'last_credit_pull_d', 'last_fico_range_high', 'last_fico_range_low', 'last_pymnt_amnt', 'last_pymnt_d', 'loan_amnt', 'loan_status', 'mo_sin_old_il_acct', 'mo_sin_old_rev_tl_op', 'mo_sin_rcnt_rev_tl_op', 'mo_sin_rcnt_tl', 'mort_acc', 'mths_since_recent_bc', 'mths_since_recent_inq', 'num_accts_ever_120_pd', 'num_actv_bc_tl', 'num_actv_rev_tl', 'num_bc_sats', 'num_bc_tl', 'num_il_tl', 'num_op_rev_tl', 'num_rev_accts', 'num_rev_tl_bal_gt_0', 'num_sats', 'num_tl_120dpd_2m', 'num_tl_30dpd', 'num_tl_90g_dpd_24m', 'num_tl_op_past_12m', 'open_acc', 'out_prncp', 'out_prncp_inv', 'pct_tl_nvr_dlq', 'percent_bc_gt_75', 'policy_code', 'pub_rec', 'pub_rec_bankruptcies', 'purpose', 'pymnt_plan', 'recoveries', 'revol_bal', 'revol_util', 'sub_grade', 'tax_liens', 'term', 'title', 'tot_coll_amt', 'tot_cur_bal', 'tot_hi_cred_lim', 'total_acc', 'total_bal_ex_mort', 'total_bc_limit', 'total_il_high_credit_limit', 'total_pymnt', 'total_pymnt_inv', 'total_rec_int', 'total_rec_late_fee', 'total_rec_prncp', 'total_rev_hi_lim', 'verification_status', 'zip_code']\n"
     ]
    }
   ],
   "source": [
    "print(sorted(list(loans.columns)))"
   ]
  },
  {
   "cell_type": "markdown",
   "metadata": {},
   "source": [
    "For each of these features, we check the description in the Data Dictionary, and drop those features that we believe would not have been available before the loan was funded. When in doubt, we err on the side of dropping the feature."
   ]
  },
  {
   "cell_type": "code",
   "execution_count": 20,
   "metadata": {},
   "outputs": [],
   "source": [
    "drop_list = ['acc_now_delinq', 'acc_open_past_24mths', 'avg_cur_bal', 'bc_open_to_buy', 'bc_util', 'chargeoff_within_12_mths', 'collection_recovery_fee', 'collections_12_mths_ex_med', 'debt_settlement_flag', 'delinq_2yrs', 'delinq_amnt', 'disbursement_method', 'funded_amnt', 'funded_amnt_inv', 'hardship_flag', 'inq_last_6mths', 'last_credit_pull_d', 'last_fico_range_high', 'last_fico_range_low', 'last_pymnt_amnt', 'last_pymnt_d', 'mo_sin_rcnt_rev_tl_op', 'mo_sin_rcnt_tl', 'mths_since_recent_bc', 'mths_since_recent_inq', 'num_accts_ever_120_pd', 'num_actv_bc_tl', 'num_actv_rev_tl', 'num_bc_sats', 'num_bc_tl', 'num_il_tl', 'num_op_rev_tl', 'num_rev_accts', 'num_rev_tl_bal_gt_0', 'num_sats', 'num_tl_120dpd_2m', 'num_tl_30dpd', 'num_tl_90g_dpd_24m', 'num_tl_op_past_12m', 'open_acc', 'out_prncp', 'out_prncp_inv', 'pct_tl_nvr_dlq', 'percent_bc_gt_75', 'pymnt_plan', 'recoveries', 'revol_bal', 'revol_util', 'tax_liens', 'tot_coll_amt', 'tot_cur_bal', 'tot_hi_cred_lim', 'total_acc', 'total_bal_ex_mort', 'total_bc_limit', 'total_il_high_credit_limit', 'total_pymnt', 'total_pymnt_inv', 'total_rec_int', 'total_rec_late_fee', 'total_rec_prncp', 'total_rev_hi_lim']"
   ]
  },
  {
   "cell_type": "markdown",
   "metadata": {},
   "source": [
    "How many features will be dropped?"
   ]
  },
  {
   "cell_type": "code",
   "execution_count": 21,
   "metadata": {},
   "outputs": [
    {
     "data": {
      "text/plain": [
       "62"
      ]
     },
     "execution_count": 21,
     "metadata": {},
     "output_type": "execute_result"
    }
   ],
   "source": [
    "len(drop_list)"
   ]
  },
  {
   "cell_type": "markdown",
   "metadata": {},
   "source": [
    "Drop these variables:"
   ]
  },
  {
   "cell_type": "code",
   "execution_count": 22,
   "metadata": {},
   "outputs": [],
   "source": [
    "drop_cols(drop_list)"
   ]
  },
  {
   "cell_type": "markdown",
   "metadata": {},
   "source": [
    "## Inspect the remaining features"
   ]
  },
  {
   "cell_type": "markdown",
   "metadata": {},
   "source": [
    "We'll inspect each feature individually, and do the following:\n",
    "\n",
    "1. View summary statistics and visualize the data, if desired.\n",
    "2. Modify the feature to make it useful for modeling, if necessary.\n",
    "3. Drop the feature if it can't be made useful for modeling."
   ]
  },
  {
   "cell_type": "code",
   "execution_count": 23,
   "metadata": {},
   "outputs": [],
   "source": [
    "def plot_var(col_name, full_name, continuous):\n",
    "    \"\"\"\n",
    "    Visualize a variable with and without faceting on the loan status.\n",
    "    - col_name is the variable name in the dataframe\n",
    "    - full_name is the full variable name\n",
    "    - continuous is True if the variable is continuous, False otherwise\n",
    "    \"\"\"\n",
    "    f, (ax1, ax2) = plt.subplots(nrows=1, ncols=2, figsize=(12,3), dpi=90)\n",
    "    \n",
    "    # Plot without loan status\n",
    "    if continuous:\n",
    "        sns.distplot(loans.loc[loans[col_name].notnull(), col_name], kde=False, ax=ax1)\n",
    "    else:\n",
    "        sns.countplot(loans[col_name], order=sorted(loans[col_name].unique()), color='#5975A4', saturation=1, ax=ax1)\n",
    "    ax1.set_xlabel(full_name)\n",
    "    ax1.set_ylabel('Count')\n",
    "    ax1.set_title(full_name)\n",
    "\n",
    "    # Plot with loan status\n",
    "    if continuous:\n",
    "        sns.boxplot(x=col_name, y='loan_status', data=loans, ax=ax2)\n",
    "        ax2.set_ylabel('')\n",
    "        ax2.set_title(full_name + ' by Loan Status')\n",
    "    else:\n",
    "        fully_paid_rates = loans.groupby(col_name)['loan_status'].value_counts(normalize=True)[:,'Fully Paid']\n",
    "        sns.barplot(x=fully_paid_rates.index, y=fully_paid_rates.values, color='#5975A4', saturation=1, ax=ax2)\n",
    "        ax2.set_ylabel('Fraction of Loans Fully Paid')\n",
    "        ax2.set_title('Fully Paid Rate by ' + full_name)\n",
    "    ax2.set_xlabel(full_name)\n",
    "    \n",
    "    plt.tight_layout()"
   ]
  },
  {
   "cell_type": "markdown",
   "metadata": {},
   "source": [
    "How many features are left?"
   ]
  },
  {
   "cell_type": "code",
   "execution_count": 24,
   "metadata": {},
   "outputs": [
    {
     "data": {
      "text/plain": [
       "30"
      ]
     },
     "execution_count": 24,
     "metadata": {},
     "output_type": "execute_result"
    }
   ],
   "source": [
    "loans.shape[1]"
   ]
  },
  {
   "cell_type": "markdown",
   "metadata": {},
   "source": [
    "What are the remaining features?"
   ]
  },
  {
   "cell_type": "code",
   "execution_count": 25,
   "metadata": {},
   "outputs": [
    {
     "name": "stdout",
     "output_type": "stream",
     "text": [
      "['id', 'loan_amnt', 'term', 'int_rate', 'installment', 'grade', 'sub_grade', 'emp_title', 'emp_length', 'home_ownership', 'annual_inc', 'verification_status', 'issue_d', 'loan_status', 'purpose', 'title', 'zip_code', 'addr_state', 'dti', 'earliest_cr_line', 'fico_range_low', 'fico_range_high', 'pub_rec', 'initial_list_status', 'policy_code', 'application_type', 'mo_sin_old_il_acct', 'mo_sin_old_rev_tl_op', 'mort_acc', 'pub_rec_bankruptcies']\n"
     ]
    }
   ],
   "source": [
    "print(list(loans.columns))"
   ]
  },
  {
   "cell_type": "markdown",
   "metadata": {},
   "source": [
    "### id"
   ]
  },
  {
   "cell_type": "markdown",
   "metadata": {},
   "source": [
    "Data Dictionary: \"A unique [Lending Club] assigned ID for the loan listing.\""
   ]
  },
  {
   "cell_type": "code",
   "execution_count": 26,
   "metadata": {},
   "outputs": [
    {
     "data": {
      "text/plain": [
       "629814     42663280\n",
       "1416234    95203003\n",
       "837224      8135817\n",
       "493440     54007443\n",
       "1150352    86593479\n",
       "Name: id, dtype: object"
      ]
     },
     "execution_count": 26,
     "metadata": {},
     "output_type": "execute_result"
    }
   ],
   "source": [
    "loans['id'].sample(5)"
   ]
  },
  {
   "cell_type": "markdown",
   "metadata": {},
   "source": [
    " Are all the IDs in fact unique?"
   ]
  },
  {
   "cell_type": "code",
   "execution_count": 27,
   "metadata": {},
   "outputs": [
    {
     "data": {
      "text/plain": [
       "count       814986\n",
       "unique      814986\n",
       "top       14680062\n",
       "freq             1\n",
       "Name: id, dtype: int64"
      ]
     },
     "execution_count": 27,
     "metadata": {},
     "output_type": "execute_result"
    }
   ],
   "source": [
    "loans['id'].describe()"
   ]
  },
  {
   "cell_type": "markdown",
   "metadata": {},
   "source": [
    "The ID is not useful for modeling, either as a categorical variable (there are too many distinct values) or as a numerical variable (the IDs vary wildly in magnitude, likely without any significance), so we drop this variable."
   ]
  },
  {
   "cell_type": "code",
   "execution_count": 28,
   "metadata": {},
   "outputs": [],
   "source": [
    "drop_cols('id')"
   ]
  },
  {
   "cell_type": "markdown",
   "metadata": {},
   "source": [
    "### loan_amnt"
   ]
  },
  {
   "cell_type": "markdown",
   "metadata": {},
   "source": [
    "Data Dictionary: \"The listed amount of the loan applied for by the borrower. If at some point in time, the credit department reduces the loan amount, then it will be reflected in this value.\""
   ]
  },
  {
   "cell_type": "code",
   "execution_count": 29,
   "metadata": {},
   "outputs": [
    {
     "data": {
      "text/plain": [
       "count    814986.000000\n",
       "mean      14315.458210\n",
       "std        8499.799241\n",
       "min         500.000000\n",
       "25%        8000.000000\n",
       "50%       12000.000000\n",
       "75%       20000.000000\n",
       "max       40000.000000\n",
       "Name: loan_amnt, dtype: float64"
      ]
     },
     "execution_count": 29,
     "metadata": {},
     "output_type": "execute_result"
    }
   ],
   "source": [
    "loans['loan_amnt'].describe()"
   ]
  },
  {
   "cell_type": "markdown",
   "metadata": {},
   "source": [
    "Loan amounts range from \\$500 to \\$40,000, with a median of \\$12,000."
   ]
  },
  {
   "cell_type": "code",
   "execution_count": 30,
   "metadata": {},
   "outputs": [
    {
     "name": "stderr",
     "output_type": "stream",
     "text": [
      "C:\\Users\\Joe\\Anaconda3\\lib\\site-packages\\matplotlib\\axes\\_axes.py:6462: UserWarning: The 'normed' kwarg is deprecated, and has been replaced by the 'density' kwarg.\n",
      "  warnings.warn(\"The 'normed' kwarg is deprecated, and has been \"\n"
     ]
    },
    {
     "data": {
      "image/png": "[encoded data removed]",
      "text/plain": [
       "<Figure size 1080x270 with 2 Axes>"
      ]
     },
     "metadata": {},
     "output_type": "display_data"
    }
   ],
   "source": [
    "plot_var('loan_amnt', 'Loan Amounts', continuous=True)"
   ]
  },
  {
   "cell_type": "markdown",
   "metadata": {},
   "source": [
    "Charged-off loans tend to have higher loan amounts. Because of the number of samples, the difference in the medians is statistically significant."
   ]
  },
  {
   "cell_type": "markdown",
   "metadata": {
    "_cell_guid": "8e98e8d9-9c8f-49b4-a123-4a11534454e3",
    "_uuid": "77ae6e4830589e4ee9dd0c815043300017c7fd75"
   },
   "source": [
    "### term"
   ]
  },
  {
   "cell_type": "markdown",
   "metadata": {},
   "source": [
    "Data Dictionary: \"The number of payments on the loan. Values are in months and can be either 36 or 60.\"\n",
    "\n",
    "Let's check the value counts:"
   ]
  },
  {
   "cell_type": "code",
   "execution_count": 31,
   "metadata": {
    "_cell_guid": "e3559ee4-0c7c-4e29-9952-ef06f302937a",
    "_uuid": "b8fa81ef40fc0928639d94608d126039f73e3f3d"
   },
   "outputs": [
    {
     "data": {
      "text/plain": [
       " 36 months    618460\n",
       " 60 months    196526\n",
       "Name: term, dtype: int64"
      ]
     },
     "execution_count": 31,
     "metadata": {},
     "output_type": "execute_result"
    }
   ],
   "source": [
    "loans['term'].value_counts(dropna=False)"
   ]
  },
  {
   "cell_type": "markdown",
   "metadata": {
    "_cell_guid": "a0a18d84-ed5f-4d4f-a377-c877a6d1be54",
    "_uuid": "7abe9deb95eb215cc2c8fa6425cc4d81bbf79bef"
   },
   "source": [
    "Convert `term` to integers."
   ]
  },
  {
   "cell_type": "code",
   "execution_count": 32,
   "metadata": {
    "_cell_guid": "dd9462d5-673b-4dce-ae3b-61f427b1abcb",
    "_uuid": "09eed29a2d6f5e30beec07ae5d29088234c99b1c"
   },
   "outputs": [],
   "source": [
    "loans.loc[:,'term'] = loans['term'].apply(lambda s: np.int8(s.split()[0]))"
   ]
  },
  {
   "cell_type": "code",
   "execution_count": 33,
   "metadata": {
    "_cell_guid": "dd9462d5-673b-4dce-ae3b-61f427b1abcb",
    "_uuid": "09eed29a2d6f5e30beec07ae5d29088234c99b1c"
   },
   "outputs": [
    {
     "data": {
      "text/plain": [
       "36    0.75886\n",
       "60    0.24114\n",
       "Name: term, dtype: float64"
      ]
     },
     "execution_count": 33,
     "metadata": {},
     "output_type": "execute_result"
    }
   ],
   "source": [
    "loans['term'].value_counts(normalize=True)"
   ]
  },
  {
   "cell_type": "code",
   "execution_count": 34,
   "metadata": {},
   "outputs": [
    {
     "data": {
      "image/png": "[encoded data removed]",
      "text/plain": [
       "<Figure size 1080x270 with 2 Axes>"
      ]
     },
     "metadata": {},
     "output_type": "display_data"
    }
   ],
   "source": [
    "plot_var('term', 'Term', continuous=False)"
   ]
  },
  {
   "cell_type": "markdown",
   "metadata": {},
   "source": [
    "About 76% of loans are 36 months, and the rest are 60 months. Loans with 60-month terms are less likely to be fully paid."
   ]
  },
  {
   "cell_type": "markdown",
   "metadata": {},
   "source": [
    "### int_rate"
   ]
  },
  {
   "cell_type": "markdown",
   "metadata": {},
   "source": [
    "Data Dictionary: \"Interest Rate on the loan.\""
   ]
  },
  {
   "cell_type": "code",
   "execution_count": 35,
   "metadata": {},
   "outputs": [
    {
     "data": {
      "text/plain": [
       "count    814986.000000\n",
       "mean         13.490993\n",
       "std           4.618486\n",
       "min           5.320000\n",
       "25%           9.990000\n",
       "50%          13.110000\n",
       "75%          16.290000\n",
       "max          30.990000\n",
       "Name: int_rate, dtype: float64"
      ]
     },
     "execution_count": 35,
     "metadata": {},
     "output_type": "execute_result"
    }
   ],
   "source": [
    "loans['int_rate'].describe()"
   ]
  },
  {
   "cell_type": "markdown",
   "metadata": {},
   "source": [
    "Interest rates range from 5.3% to 30.9% (!), with a median of 13.1%."
   ]
  },
  {
   "cell_type": "code",
   "execution_count": 36,
   "metadata": {},
   "outputs": [
    {
     "name": "stderr",
     "output_type": "stream",
     "text": [
      "C:\\Users\\Joe\\Anaconda3\\lib\\site-packages\\matplotlib\\axes\\_axes.py:6462: UserWarning: The 'normed' kwarg is deprecated, and has been replaced by the 'density' kwarg.\n",
      "  warnings.warn(\"The 'normed' kwarg is deprecated, and has been \"\n"
     ]
    },
    {
     "data": {
      "image/png": "[encoded data removed]",
      "text/plain": [
       "<Figure size 1080x270 with 2 Axes>"
      ]
     },
     "metadata": {},
     "output_type": "display_data"
    }
   ],
   "source": [
    "plot_var('int_rate', 'Interest Rate', continuous=True)"
   ]
  },
  {
   "cell_type": "markdown",
   "metadata": {
    "_cell_guid": "1fd2a00f-0f95-481c-b9ff-d26526eb5f04",
    "_uuid": "321c4fb18ebd1bcf6689d7a5d3f23f80752bcfb3"
   },
   "source": [
    "Charged-off loans tend to have higher interest rates."
   ]
  },
  {
   "cell_type": "markdown",
   "metadata": {},
   "source": [
    "### installment"
   ]
  },
  {
   "cell_type": "markdown",
   "metadata": {},
   "source": [
    "Data Dictionary: \"The monthly payment owed by the borrower if the loan originates.\""
   ]
  },
  {
   "cell_type": "code",
   "execution_count": 37,
   "metadata": {},
   "outputs": [
    {
     "data": {
      "text/plain": [
       "count    814986.000000\n",
       "mean        436.749624\n",
       "std         255.732093\n",
       "min           4.930000\n",
       "25%         251.400000\n",
       "50%         377.040000\n",
       "75%         576.290000\n",
       "max        1714.540000\n",
       "Name: installment, dtype: float64"
      ]
     },
     "execution_count": 37,
     "metadata": {},
     "output_type": "execute_result"
    }
   ],
   "source": [
    "loans['installment'].describe()"
   ]
  },
  {
   "cell_type": "markdown",
   "metadata": {},
   "source": [
    "Installments range from \\$4.93 to \\$1,714, with a median of \\$377."
   ]
  },
  {
   "cell_type": "code",
   "execution_count": 38,
   "metadata": {},
   "outputs": [
    {
     "name": "stderr",
     "output_type": "stream",
     "text": [
      "C:\\Users\\Joe\\Anaconda3\\lib\\site-packages\\matplotlib\\axes\\_axes.py:6462: UserWarning: The 'normed' kwarg is deprecated, and has been replaced by the 'density' kwarg.\n",
      "  warnings.warn(\"The 'normed' kwarg is deprecated, and has been \"\n"
     ]
    },
    {
     "data": {
      "image/png": "[encoded data removed]",
      "text/plain": [
       "<Figure size 1080x270 with 2 Axes>"
      ]
     },
     "metadata": {},
     "output_type": "display_data"
    }
   ],
   "source": [
    "plot_var('installment', 'Installment', continuous=True)"
   ]
  },
  {
   "cell_type": "markdown",
   "metadata": {
    "_cell_guid": "1fd2a00f-0f95-481c-b9ff-d26526eb5f04",
    "_uuid": "321c4fb18ebd1bcf6689d7a5d3f23f80752bcfb3"
   },
   "source": [
    "Charged-off loans tend to have slightly higher installments."
   ]
  },
  {
   "cell_type": "markdown",
   "metadata": {
    "_cell_guid": "1b745ce5-987f-45b9-8e3f-6d5f760e3a7c",
    "_uuid": "687c301f0bd5f40efdeca5307e9d0cb6a1fb6161"
   },
   "source": [
    "### grade, sub_grade"
   ]
  },
  {
   "cell_type": "markdown",
   "metadata": {},
   "source": [
    "Data Dictionary for `grade`: \"[Lending Club] assigned loan grade.\"\n",
    "\n",
    "Data Dictionary for `sub_grade`: \"LC assigned loan subgrade.\"\n",
    "\n",
    "What are the possible values of `grade` and `sub_grade`?"
   ]
  },
  {
   "cell_type": "code",
   "execution_count": 39,
   "metadata": {},
   "outputs": [
    {
     "name": "stdout",
     "output_type": "stream",
     "text": [
      "['A', 'B', 'C', 'D', 'E', 'F', 'G']\n"
     ]
    }
   ],
   "source": [
    "print(sorted(loans['grade'].unique()))"
   ]
  },
  {
   "cell_type": "code",
   "execution_count": 40,
   "metadata": {
    "scrolled": true
   },
   "outputs": [
    {
     "name": "stdout",
     "output_type": "stream",
     "text": [
      "['A1', 'A2', 'A3', 'A4', 'A5', 'B1', 'B2', 'B3', 'B4', 'B5', 'C1', 'C2', 'C3', 'C4', 'C5', 'D1', 'D2', 'D3', 'D4', 'D5', 'E1', 'E2', 'E3', 'E4', 'E5', 'F1', 'F2', 'F3', 'F4', 'F5', 'G1', 'G2', 'G3', 'G4', 'G5']\n"
     ]
    }
   ],
   "source": [
    "print(sorted(loans['sub_grade'].unique()))"
   ]
  },
  {
   "cell_type": "markdown",
   "metadata": {
    "_cell_guid": "b1d34f86-4ffb-4024-ad0f-714bd5cb3f21",
    "_uuid": "efb24fbebc6a4b092a37b79e7fb6f29133d3315a"
   },
   "source": [
    "The grade is implied by the subgrade, so let's drop the grade column."
   ]
  },
  {
   "cell_type": "code",
   "execution_count": 41,
   "metadata": {
    "_cell_guid": "9c00600b-0a58-4648-9448-4e960b705eb6",
    "_uuid": "a46021ef96a484732a847ed2f3cece9d423f73ec"
   },
   "outputs": [],
   "source": [
    "drop_cols('grade')"
   ]
  },
  {
   "cell_type": "code",
   "execution_count": 42,
   "metadata": {},
   "outputs": [
    {
     "data": {
      "image/png": "[encoded data removed]",
      "text/plain": [
       "<Figure size 1080x270 with 2 Axes>"
      ]
     },
     "metadata": {},
     "output_type": "display_data"
    }
   ],
   "source": [
    "plot_var('sub_grade', 'Subgrade', continuous=False)"
   ]
  },
  {
   "cell_type": "markdown",
   "metadata": {
    "_cell_guid": "e53dbddd-aff4-4d44-bc8e-a7637e953ab0",
    "_uuid": "cf7685607c32b9857f4fc0cce38c6feea215e2fe"
   },
   "source": [
    "There's a clear trend of higher probability of charge-off as the subgrade worsens."
   ]
  },
  {
   "cell_type": "markdown",
   "metadata": {},
   "source": [
    "### emp_title"
   ]
  },
  {
   "cell_type": "markdown",
   "metadata": {},
   "source": [
    "Data Dictionary: \"The job title supplied by the Borrower when applying for the loan.\""
   ]
  },
  {
   "cell_type": "code",
   "execution_count": 43,
   "metadata": {},
   "outputs": [
    {
     "data": {
      "text/plain": [
       "count      766415\n",
       "unique     280473\n",
       "top       Teacher\n",
       "freq        11351\n",
       "Name: emp_title, dtype: object"
      ]
     },
     "execution_count": 43,
     "metadata": {},
     "output_type": "execute_result"
    }
   ],
   "source": [
    "loans['emp_title'].describe()"
   ]
  },
  {
   "cell_type": "code",
   "execution_count": 44,
   "metadata": {},
   "outputs": [
    {
     "data": {
      "text/plain": [
       "814986"
      ]
     },
     "execution_count": 44,
     "metadata": {},
     "output_type": "execute_result"
    }
   ],
   "source": [
    "loans.shape[0]"
   ]
  },
  {
   "cell_type": "markdown",
   "metadata": {},
   "source": [
    "There are too many different job titles for this feature to be useful, so we drop it."
   ]
  },
  {
   "cell_type": "code",
   "execution_count": 45,
   "metadata": {},
   "outputs": [],
   "source": [
    "drop_cols('emp_title')"
   ]
  },
  {
   "cell_type": "markdown",
   "metadata": {
    "_cell_guid": "98efbb15-f5d7-42ef-992a-92bb0860a803",
    "_uuid": "e84911043e002622f7c181e2be71d09ac277dbc8"
   },
   "source": [
    "### emp_length"
   ]
  },
  {
   "cell_type": "markdown",
   "metadata": {},
   "source": [
    "Data Dictionary: \"Employment length in years. Possible values are between 0 and 10 where 0 means less than one year and 10 means ten or more years.\" The actual data does not match this description:"
   ]
  },
  {
   "cell_type": "code",
   "execution_count": 46,
   "metadata": {
    "_cell_guid": "a60d507b-dc0d-4e44-912e-0d214b1b85a9",
    "_uuid": "372fd175e1e4458f8a9bc860fd91798d696892be"
   },
   "outputs": [
    {
     "data": {
      "text/plain": [
       "1 year        53411\n",
       "10+ years    264873\n",
       "2 years       73493\n",
       "3 years       64999\n",
       "4 years       48752\n",
       "5 years       52149\n",
       "6 years       40290\n",
       "7 years       39407\n",
       "8 years       38887\n",
       "9 years       31900\n",
       "< 1 year      64572\n",
       "NaN           42253\n",
       "Name: emp_length, dtype: int64"
      ]
     },
     "execution_count": 46,
     "metadata": {},
     "output_type": "execute_result"
    }
   ],
   "source": [
    "loans['emp_length'].value_counts(dropna=False).sort_index()"
   ]
  },
  {
   "cell_type": "markdown",
   "metadata": {},
   "source": [
    "Note there are 42,253 loans without data on the length of employment.\n",
    "\n",
    "Convert `emp_length` to integers:"
   ]
  },
  {
   "cell_type": "code",
   "execution_count": 47,
   "metadata": {},
   "outputs": [],
   "source": [
    "loans['emp_length'].replace(to_replace='10+ years', value='10 years', inplace=True)"
   ]
  },
  {
   "cell_type": "code",
   "execution_count": 48,
   "metadata": {},
   "outputs": [],
   "source": [
    "loans['emp_length'].replace('< 1 year', '0 years', inplace=True)"
   ]
  },
  {
   "cell_type": "code",
   "execution_count": 49,
   "metadata": {
    "_cell_guid": "f5ce8306-8ca3-4a78-8332-7a12fd233f98",
    "_uuid": "fc61f2f288d38767f5fa1e3f7df5b58c7bc52a35"
   },
   "outputs": [],
   "source": [
    "def emp_length_to_int(s):\n",
    "    if pd.isnull(s):\n",
    "        return s\n",
    "    else:\n",
    "        return np.int8(s.split()[0])"
   ]
  },
  {
   "cell_type": "code",
   "execution_count": 50,
   "metadata": {
    "_cell_guid": "f5ce8306-8ca3-4a78-8332-7a12fd233f98",
    "_uuid": "fc61f2f288d38767f5fa1e3f7df5b58c7bc52a35"
   },
   "outputs": [],
   "source": [
    "loans['emp_length'] = loans['emp_length'].apply(emp_length_to_int)"
   ]
  },
  {
   "cell_type": "code",
   "execution_count": 51,
   "metadata": {
    "_cell_guid": "f5ce8306-8ca3-4a78-8332-7a12fd233f98",
    "_uuid": "fc61f2f288d38767f5fa1e3f7df5b58c7bc52a35"
   },
   "outputs": [
    {
     "data": {
      "text/plain": [
       " 0.0      64572\n",
       " 1.0      53411\n",
       " 2.0      73493\n",
       " 3.0      64999\n",
       " 4.0      48752\n",
       " 5.0      52149\n",
       " 6.0      40290\n",
       " 7.0      39407\n",
       " 8.0      38887\n",
       " 9.0      31900\n",
       " 10.0    264873\n",
       "NaN       42253\n",
       "Name: emp_length, dtype: int64"
      ]
     },
     "execution_count": 51,
     "metadata": {},
     "output_type": "execute_result"
    }
   ],
   "source": [
    "loans['emp_length'].value_counts(dropna=False).sort_index()"
   ]
  },
  {
   "cell_type": "code",
   "execution_count": 52,
   "metadata": {},
   "outputs": [
    {
     "data": {
      "image/png": "[encoded data removed]",
      "text/plain": [
       "<Figure size 1080x270 with 2 Axes>"
      ]
     },
     "metadata": {},
     "output_type": "display_data"
    }
   ],
   "source": [
    "plot_var('emp_length', 'Employment length', continuous=False)"
   ]
  },
  {
   "cell_type": "markdown",
   "metadata": {},
   "source": [
    "Loan status does not appear to depend much at all on employment length."
   ]
  },
  {
   "cell_type": "markdown",
   "metadata": {
    "_cell_guid": "e994c5db-880e-4ec0-8cbd-4aacad373993",
    "_uuid": "332158cff90d2e051f5a80bee5983019ada32a30"
   },
   "source": [
    "### home_ownership"
   ]
  },
  {
   "cell_type": "markdown",
   "metadata": {},
   "source": [
    "Data Dictionary: \"The home ownership status provided by the borrower during registration or obtained from the credit report. Our values are: RENT, OWN, MORTGAGE, OTHER.\""
   ]
  },
  {
   "cell_type": "code",
   "execution_count": 53,
   "metadata": {
    "_cell_guid": "d574efb7-1a6b-4ec2-a446-827d75d0d9cf",
    "_uuid": "017c6be384f35a700cebfa761dbaee4ec6b73256"
   },
   "outputs": [
    {
     "data": {
      "text/plain": [
       "MORTGAGE    406866\n",
       "RENT        325071\n",
       "OWN          82765\n",
       "OTHER          144\n",
       "ANY             94\n",
       "NONE            46\n",
       "Name: home_ownership, dtype: int64"
      ]
     },
     "execution_count": 53,
     "metadata": {},
     "output_type": "execute_result"
    }
   ],
   "source": [
    "loans['home_ownership'].value_counts(dropna=False)"
   ]
  },
  {
   "cell_type": "markdown",
   "metadata": {},
   "source": [
    "Replace ANY and NONE with OTHER, so that we have enough observations of each category."
   ]
  },
  {
   "cell_type": "code",
   "execution_count": 54,
   "metadata": {},
   "outputs": [],
   "source": [
    "loans['home_ownership'].replace(['NONE', 'ANY'], 'OTHER', inplace=True)"
   ]
  },
  {
   "cell_type": "code",
   "execution_count": 55,
   "metadata": {},
   "outputs": [
    {
     "data": {
      "text/plain": [
       "MORTGAGE    406866\n",
       "RENT        325071\n",
       "OWN          82765\n",
       "OTHER          284\n",
       "Name: home_ownership, dtype: int64"
      ]
     },
     "execution_count": 55,
     "metadata": {},
     "output_type": "execute_result"
    }
   ],
   "source": [
    "loans['home_ownership'].value_counts(dropna=False)"
   ]
  },
  {
   "cell_type": "code",
   "execution_count": 56,
   "metadata": {},
   "outputs": [
    {
     "data": {
      "image/png": "[encoded data removed]",
      "text/plain": [
       "<Figure size 1080x270 with 2 Axes>"
      ]
     },
     "metadata": {},
     "output_type": "display_data"
    }
   ],
   "source": [
    "plot_var('home_ownership', 'Home Ownership', continuous=False)"
   ]
  },
  {
   "cell_type": "markdown",
   "metadata": {},
   "source": [
    "There appear to be small differences in charge-off rates by home ownership status. Renters have slightly less probability of fully paying off the loan. Because of the large numbers of observations in each category, these differences are statistically significant."
   ]
  },
  {
   "cell_type": "markdown",
   "metadata": {},
   "source": [
    "### annual_inc"
   ]
  },
  {
   "cell_type": "markdown",
   "metadata": {},
   "source": [
    "Data Dictionary: \"The self-reported annual income provided by the borrower during registration.\""
   ]
  },
  {
   "cell_type": "code",
   "execution_count": 57,
   "metadata": {},
   "outputs": [
    {
     "data": {
      "text/plain": [
       "count    8.149860e+05\n",
       "mean     7.523039e+04\n",
       "std      6.524373e+04\n",
       "min      0.000000e+00\n",
       "25%      4.500000e+04\n",
       "50%      6.500000e+04\n",
       "75%      9.000000e+04\n",
       "max      9.550000e+06\n",
       "Name: annual_inc, dtype: float64"
      ]
     },
     "execution_count": 57,
     "metadata": {},
     "output_type": "execute_result"
    }
   ],
   "source": [
    "loans['annual_inc'].describe()"
   ]
  },
  {
   "cell_type": "markdown",
   "metadata": {},
   "source": [
    "Annual income ranges from \\$0 to \\$9,550,000, with a median of \\$65,000. (Note this is more than double the national median individual income in the US.)\n",
    "\n",
    "Because of the large range of incomes, we should take a log transform of the annual income."
   ]
  },
  {
   "cell_type": "code",
   "execution_count": 58,
   "metadata": {},
   "outputs": [],
   "source": [
    "loans['annual_inc'] = loans['annual_inc'].apply(lambda x: np.log10(x+1))"
   ]
  },
  {
   "cell_type": "code",
   "execution_count": 59,
   "metadata": {},
   "outputs": [
    {
     "data": {
      "text/plain": [
       "count    814986.000000\n",
       "mean          4.810836\n",
       "std           0.231893\n",
       "min           0.000000\n",
       "25%           4.653222\n",
       "50%           4.812920\n",
       "75%           4.954247\n",
       "max           6.980003\n",
       "Name: annual_inc, dtype: float64"
      ]
     },
     "execution_count": 59,
     "metadata": {},
     "output_type": "execute_result"
    }
   ],
   "source": [
    "loans['annual_inc'].describe()"
   ]
  },
  {
   "cell_type": "code",
   "execution_count": 60,
   "metadata": {},
   "outputs": [
    {
     "name": "stderr",
     "output_type": "stream",
     "text": [
      "C:\\Users\\Joe\\Anaconda3\\lib\\site-packages\\matplotlib\\axes\\_axes.py:6462: UserWarning: The 'normed' kwarg is deprecated, and has been replaced by the 'density' kwarg.\n",
      "  warnings.warn(\"The 'normed' kwarg is deprecated, and has been \"\n"
     ]
    },
    {
     "data": {
      "image/png": "[encoded data removed]",
      "text/plain": [
       "<Figure size 1080x270 with 2 Axes>"
      ]
     },
     "metadata": {},
     "output_type": "display_data"
    }
   ],
   "source": [
    "plot_var('annual_inc', 'Log Annual Income', continuous=True)"
   ]
  },
  {
   "cell_type": "markdown",
   "metadata": {},
   "source": [
    "It appears that individuals with somewhat higher income are more likely to pay off their loans. Let's break this down:"
   ]
  },
  {
   "cell_type": "code",
   "execution_count": 61,
   "metadata": {},
   "outputs": [
    {
     "data": {
      "text/html": [
       "<div>\n",
       "<style scoped>\n",
       "    .dataframe tbody tr th:only-of-type {\n",
       "        vertical-align: middle;\n",
       "    }\n",
       "\n",
       "    .dataframe tbody tr th {\n",
       "        vertical-align: top;\n",
       "    }\n",
       "\n",
       "    .dataframe thead th {\n",
       "        text-align: right;\n",
       "    }\n",
       "</style>\n",
       "<table border=\"1\" class=\"dataframe\">\n",
       "  <thead>\n",
       "    <tr style=\"text-align: right;\">\n",
       "      <th></th>\n",
       "      <th>count</th>\n",
       "      <th>mean</th>\n",
       "      <th>std</th>\n",
       "      <th>min</th>\n",
       "      <th>25%</th>\n",
       "      <th>50%</th>\n",
       "      <th>75%</th>\n",
       "      <th>max</th>\n",
       "    </tr>\n",
       "    <tr>\n",
       "      <th>loan_status</th>\n",
       "      <th></th>\n",
       "      <th></th>\n",
       "      <th></th>\n",
       "      <th></th>\n",
       "      <th></th>\n",
       "      <th></th>\n",
       "      <th></th>\n",
       "      <th></th>\n",
       "    </tr>\n",
       "  </thead>\n",
       "  <tbody>\n",
       "    <tr>\n",
       "      <th>Charged Off</th>\n",
       "      <td>168084.0</td>\n",
       "      <td>4.777072</td>\n",
       "      <td>0.227015</td>\n",
       "      <td>0.0</td>\n",
       "      <td>4.632467</td>\n",
       "      <td>4.778158</td>\n",
       "      <td>4.915096</td>\n",
       "      <td>6.949393</td>\n",
       "    </tr>\n",
       "    <tr>\n",
       "      <th>Fully Paid</th>\n",
       "      <td>646902.0</td>\n",
       "      <td>4.819608</td>\n",
       "      <td>0.232342</td>\n",
       "      <td>0.0</td>\n",
       "      <td>4.672107</td>\n",
       "      <td>4.812920</td>\n",
       "      <td>4.963793</td>\n",
       "      <td>6.980003</td>\n",
       "    </tr>\n",
       "  </tbody>\n",
       "</table>\n",
       "</div>"
      ],
      "text/plain": [
       "                count      mean       std  min       25%       50%       75%  \\\n",
       "loan_status                                                                    \n",
       "Charged Off  168084.0  4.777072  0.227015  0.0  4.632467  4.778158  4.915096   \n",
       "Fully Paid   646902.0  4.819608  0.232342  0.0  4.672107  4.812920  4.963793   \n",
       "\n",
       "                  max  \n",
       "loan_status            \n",
       "Charged Off  6.949393  \n",
       "Fully Paid   6.980003  "
      ]
     },
     "execution_count": 61,
     "metadata": {},
     "output_type": "execute_result"
    }
   ],
   "source": [
    "loans.groupby('loan_status')['annual_inc'].describe()"
   ]
  },
  {
   "cell_type": "markdown",
   "metadata": {},
   "source": [
    "There is a small, but likely statistically significant difference in the medians."
   ]
  },
  {
   "cell_type": "markdown",
   "metadata": {
    "_cell_guid": "119da036-552d-4a95-a61f-7fdd464bcf5b",
    "_uuid": "840799ab7f984830bf29f0b677f4f14b672d4253"
   },
   "source": [
    "### verification_status"
   ]
  },
  {
   "cell_type": "markdown",
   "metadata": {},
   "source": [
    "Data Dictionary: \"Indicates if income was verified by [Lending Club], not verified, or if the income source was verified.\""
   ]
  },
  {
   "cell_type": "code",
   "execution_count": 62,
   "metadata": {
    "_cell_guid": "652e35e1-909f-4f32-94a2-836561bf4a02",
    "_uuid": "d1e800da00aea47ee7a5e2f876da9cbd66dc7947"
   },
   "outputs": [
    {
     "data": {
      "text/plain": [
       "Source Verified    293897\n",
       "Verified           269895\n",
       "Not Verified       251194\n",
       "Name: verification_status, dtype: int64"
      ]
     },
     "execution_count": 62,
     "metadata": {},
     "output_type": "execute_result"
    }
   ],
   "source": [
    "loans['verification_status'].value_counts(dropna=False)"
   ]
  },
  {
   "cell_type": "code",
   "execution_count": 63,
   "metadata": {},
   "outputs": [
    {
     "data": {
      "image/png": "[encoded data removed]",
      "text/plain": [
       "<Figure size 1080x270 with 2 Axes>"
      ]
     },
     "metadata": {},
     "output_type": "display_data"
    }
   ],
   "source": [
    "plot_var('verification_status', 'Verification Status', continuous=False)"
   ]
  },
  {
   "cell_type": "markdown",
   "metadata": {},
   "source": [
    "### issue_d"
   ]
  },
  {
   "cell_type": "markdown",
   "metadata": {},
   "source": [
    "Data Dictionary: \"The month which the loan was funded.\"\n",
    "\n",
    "Because we're only using variables available before the loan was funded, `issue_d` will not be included in the final model. We're keeping it for now just to perform the train/test split later, then we'll drop it."
   ]
  },
  {
   "cell_type": "markdown",
   "metadata": {
    "_cell_guid": "3a91aec4-9bc4-42d6-8c62-e3892a9a2754",
    "_uuid": "87124cd85754a1e6ef201217421ff2f50108cb2a"
   },
   "source": [
    "### purpose"
   ]
  },
  {
   "cell_type": "markdown",
   "metadata": {},
   "source": [
    "Data Dictionary: \"A category provided by the borrower for the loan request.\""
   ]
  },
  {
   "cell_type": "code",
   "execution_count": 64,
   "metadata": {
    "_cell_guid": "9de7d1b4-212b-4478-88a2-a3176a03e982",
    "_uuid": "5d4c3c93e59ee2cde87f4fc5487b43c555c33faf"
   },
   "outputs": [
    {
     "data": {
      "text/plain": [
       "debt_consolidation    481652\n",
       "credit_card           175123\n",
       "home_improvement       50793\n",
       "other                  43900\n",
       "major_purchase         17463\n",
       "small_business         10214\n",
       "car                     8936\n",
       "medical                 8772\n",
       "moving                  5725\n",
       "vacation                5116\n",
       "house                   4095\n",
       "wedding                 2272\n",
       "renewable_energy         599\n",
       "educational              326\n",
       "Name: purpose, dtype: int64"
      ]
     },
     "execution_count": 64,
     "metadata": {},
     "output_type": "execute_result"
    }
   ],
   "source": [
    "loans['purpose'].value_counts()"
   ]
  },
  {
   "cell_type": "markdown",
   "metadata": {},
   "source": [
    "Calculate the fully-paid rates by purpose:"
   ]
  },
  {
   "cell_type": "code",
   "execution_count": 65,
   "metadata": {},
   "outputs": [
    {
     "data": {
      "text/plain": [
       "purpose\n",
       "wedding               0.878081\n",
       "car                   0.851947\n",
       "educational           0.828221\n",
       "credit_card           0.821588\n",
       "home_improvement      0.818617\n",
       "major_purchase        0.816755\n",
       "vacation              0.801212\n",
       "house                 0.785348\n",
       "other                 0.783030\n",
       "debt_consolidation    0.782602\n",
       "medical               0.770634\n",
       "moving                0.757031\n",
       "renewable_energy      0.752922\n",
       "small_business        0.697572\n",
       "Name: loan_status, dtype: float64"
      ]
     },
     "execution_count": 65,
     "metadata": {},
     "output_type": "execute_result"
    }
   ],
   "source": [
    "loans.groupby('purpose')['loan_status'].value_counts(normalize=True)[:,'Fully Paid'].sort_values(ascending=False)"
   ]
  },
  {
   "cell_type": "markdown",
   "metadata": {
    "_cell_guid": "240c20e9-6336-47c6-9d92-69cc73433966",
    "_uuid": "fab8e8d284e011c9da9fedfa1a586a409f77ea0b"
   },
   "source": [
    "We see that, for example, 87.8% of loans for weddings are fully paid, but only 69.7% of small business loans are fully paid."
   ]
  },
  {
   "cell_type": "markdown",
   "metadata": {},
   "source": [
    "### title"
   ]
  },
  {
   "cell_type": "markdown",
   "metadata": {},
   "source": [
    "Data Dictionary: \"The loan title provided by the borrower.\""
   ]
  },
  {
   "cell_type": "code",
   "execution_count": 66,
   "metadata": {},
   "outputs": [
    {
     "data": {
      "text/plain": [
       "124701          Debt consolidation\n",
       "468072                       Other\n",
       "1488172         Debt consolidation\n",
       "460866          Debt consolidation\n",
       "1385402    Credit card refinancing\n",
       "Name: title, dtype: object"
      ]
     },
     "execution_count": 66,
     "metadata": {},
     "output_type": "execute_result"
    }
   ],
   "source": [
    "loans['title'].sample(5)"
   ]
  },
  {
   "cell_type": "code",
   "execution_count": 67,
   "metadata": {},
   "outputs": [
    {
     "data": {
      "text/plain": [
       "count                 807068\n",
       "unique                 60298\n",
       "top       Debt consolidation\n",
       "freq                  371874\n",
       "Name: title, dtype: object"
      ]
     },
     "execution_count": 67,
     "metadata": {},
     "output_type": "execute_result"
    }
   ],
   "source": [
    "loans['title'].describe()"
   ]
  },
  {
   "cell_type": "markdown",
   "metadata": {},
   "source": [
    "View the top 10 loan titles, and their frequencies:"
   ]
  },
  {
   "cell_type": "code",
   "execution_count": 68,
   "metadata": {},
   "outputs": [
    {
     "data": {
      "text/plain": [
       "Debt consolidation         371874\n",
       "Credit card refinancing    133334\n",
       "Home improvement            39171\n",
       "Other                       33265\n",
       "Debt Consolidation          15059\n",
       "Major purchase              12311\n",
       "Medical expenses             6908\n",
       "Business                     6666\n",
       "Car financing                5667\n",
       "Consolidation                5090\n",
       "Name: title, dtype: int64"
      ]
     },
     "execution_count": 68,
     "metadata": {},
     "output_type": "execute_result"
    }
   ],
   "source": [
    "loans['title'].value_counts().head(10)"
   ]
  },
  {
   "cell_type": "markdown",
   "metadata": {},
   "source": [
    "There are 60,298 different purposes in the dataset, and based on the top 10 titles, the `purpose` variable appears to already contain this information. So we drop the `title` variable."
   ]
  },
  {
   "cell_type": "code",
   "execution_count": 69,
   "metadata": {},
   "outputs": [],
   "source": [
    "drop_cols('title')"
   ]
  },
  {
   "cell_type": "markdown",
   "metadata": {
    "_cell_guid": "b6908ad9-66be-4a38-8e45-bacde206e987",
    "_uuid": "f68d4795cca9861dd340a2c155c0b956ae9f53fa"
   },
   "source": [
    "### zip_code, addr_state"
   ]
  },
  {
   "cell_type": "markdown",
   "metadata": {},
   "source": [
    "Data Dictionary for `zip_code`: \"The first 3 numbers of the zip code provided by the borrower in the loan application.\"\n",
    "\n",
    "Data Dictionary for `addr_state`: \"The state provided by the borrower in the loan application.\""
   ]
  },
  {
   "cell_type": "code",
   "execution_count": 70,
   "metadata": {},
   "outputs": [
    {
     "data": {
      "text/plain": [
       "866492     606xx\n",
       "1635785    801xx\n",
       "101675     945xx\n",
       "312846     930xx\n",
       "73635      710xx\n",
       "Name: zip_code, dtype: object"
      ]
     },
     "execution_count": 70,
     "metadata": {},
     "output_type": "execute_result"
    }
   ],
   "source": [
    "loans['zip_code'].sample(5)"
   ]
  },
  {
   "cell_type": "code",
   "execution_count": 71,
   "metadata": {},
   "outputs": [
    {
     "data": {
      "text/plain": [
       "925"
      ]
     },
     "execution_count": 71,
     "metadata": {},
     "output_type": "execute_result"
    }
   ],
   "source": [
    "loans['zip_code'].nunique()"
   ]
  },
  {
   "cell_type": "code",
   "execution_count": 72,
   "metadata": {},
   "outputs": [
    {
     "data": {
      "text/plain": [
       "82652     NV\n",
       "444933    CA\n",
       "190958    GA\n",
       "201728    MN\n",
       "471406    NM\n",
       "Name: addr_state, dtype: object"
      ]
     },
     "execution_count": 72,
     "metadata": {},
     "output_type": "execute_result"
    }
   ],
   "source": [
    "loans['addr_state'].sample(5)"
   ]
  },
  {
   "cell_type": "code",
   "execution_count": 73,
   "metadata": {},
   "outputs": [
    {
     "data": {
      "text/plain": [
       "51"
      ]
     },
     "execution_count": 73,
     "metadata": {},
     "output_type": "execute_result"
    }
   ],
   "source": [
    "loans['addr_state'].nunique()"
   ]
  },
  {
   "cell_type": "markdown",
   "metadata": {
    "_cell_guid": "a2485d09-8385-427d-9bcb-7c47b8034e53",
    "_uuid": "69aa28976c0826de8e461d39c5e3b5bfdf49e61c"
   },
   "source": [
    "There are a lot of different zip codes, so let's just retain the state column."
   ]
  },
  {
   "cell_type": "code",
   "execution_count": 74,
   "metadata": {
    "_cell_guid": "aef7a94f-613c-4137-86f2-d0591ea3a4bc",
    "_uuid": "d6d4c635eb86b895acda91d0cc1fa38327a96e7d"
   },
   "outputs": [],
   "source": [
    "drop_cols('zip_code')"
   ]
  },
  {
   "cell_type": "markdown",
   "metadata": {},
   "source": [
    "Calculate the fully-paid rates by address state:"
   ]
  },
  {
   "cell_type": "code",
   "execution_count": 75,
   "metadata": {
    "scrolled": true
   },
   "outputs": [
    {
     "data": {
      "text/plain": [
       "addr_state\n",
       "DC    0.869622\n",
       "ME    0.863436\n",
       "NH    0.857446\n",
       "IA    0.857143\n",
       "VT    0.850775\n",
       "OR    0.847173\n",
       "CO    0.841917\n",
       "WA    0.833462\n",
       "KS    0.828996\n",
       "SC    0.827295\n",
       "WI    0.824685\n",
       "MT    0.822241\n",
       "WY    0.821858\n",
       "UT    0.820951\n",
       "WV    0.817543\n",
       "CT    0.816190\n",
       "GA    0.808776\n",
       "MA    0.807026\n",
       "IL    0.806698\n",
       "ID    0.806513\n",
       "RI    0.805991\n",
       "CA    0.801697\n",
       "AZ    0.800679\n",
       "TX    0.797714\n",
       "AK    0.795859\n",
       "HI    0.795465\n",
       "DE    0.793425\n",
       "VA    0.792058\n",
       "MI    0.791120\n",
       "MN    0.789637\n",
       "PA    0.785224\n",
       "MD    0.785155\n",
       "NC    0.784718\n",
       "NJ    0.783792\n",
       "KY    0.783647\n",
       "MO    0.780600\n",
       "FL    0.777993\n",
       "OH    0.774600\n",
       "NM    0.774306\n",
       "SD    0.774213\n",
       "NY    0.772955\n",
       "IN    0.771821\n",
       "TN    0.769521\n",
       "NV    0.765798\n",
       "ND    0.762768\n",
       "LA    0.762100\n",
       "AR    0.756846\n",
       "AL    0.752350\n",
       "OK    0.751748\n",
       "NE    0.732054\n",
       "MS    0.724381\n",
       "Name: loan_status, dtype: float64"
      ]
     },
     "execution_count": 75,
     "metadata": {},
     "output_type": "execute_result"
    }
   ],
   "source": [
    "loans.groupby('addr_state')['loan_status'].value_counts(normalize=True)[:,'Fully Paid'].sort_values(ascending=False)"
   ]
  },
  {
   "cell_type": "markdown",
   "metadata": {},
   "source": [
    "The percentages of loans fully paid ranges from 72.4% in Mississippi to 86.9% in Washington, DC."
   ]
  },
  {
   "cell_type": "markdown",
   "metadata": {},
   "source": [
    "### dti"
   ]
  },
  {
   "cell_type": "markdown",
   "metadata": {},
   "source": [
    "Data Dictionary: \"A ratio calculated using the borrower’s total monthly debt payments on the total debt obligations, excluding mortgage and the requested LC loan, divided by the borrower’s self-reported monthly income.\""
   ]
  },
  {
   "cell_type": "code",
   "execution_count": 76,
   "metadata": {},
   "outputs": [
    {
     "data": {
      "text/plain": [
       "count    814950.000000\n",
       "mean         17.867719\n",
       "std           8.856477\n",
       "min          -1.000000\n",
       "25%          11.640000\n",
       "50%          17.360000\n",
       "75%          23.630000\n",
       "max         999.000000\n",
       "Name: dti, dtype: float64"
      ]
     },
     "execution_count": 76,
     "metadata": {},
     "output_type": "execute_result"
    }
   ],
   "source": [
    "loans['dti'].describe()"
   ]
  },
  {
   "cell_type": "markdown",
   "metadata": {},
   "source": [
    "Note sure if the values of -1 and 999 make sense...\n",
    "\n",
    "There are several outliers that mess up our default plots. Plot a histogram for `dti` less than 60:"
   ]
  },
  {
   "cell_type": "code",
   "execution_count": 77,
   "metadata": {},
   "outputs": [
    {
     "name": "stderr",
     "output_type": "stream",
     "text": [
      "C:\\Users\\Joe\\Anaconda3\\lib\\site-packages\\matplotlib\\axes\\_axes.py:6462: UserWarning: The 'normed' kwarg is deprecated, and has been replaced by the 'density' kwarg.\n",
      "  warnings.warn(\"The 'normed' kwarg is deprecated, and has been \"\n"
     ]
    },
    {
     "data": {
      "text/plain": [
       "Text(0.5,1,'Debt-to-income')"
      ]
     },
     "execution_count": 77,
     "metadata": {},
     "output_type": "execute_result"
    },
    {
     "data": {
      "image/png": "[encoded data removed]",
      "text/plain": [
       "<Figure size 720x270 with 1 Axes>"
      ]
     },
     "metadata": {},
     "output_type": "display_data"
    }
   ],
   "source": [
    "plt.figure(figsize=(8,3), dpi=90)\n",
    "sns.distplot(loans.loc[loans['dti'].notnull() & (loans['dti']<60), 'dti'], kde=False)\n",
    "plt.xlabel('Debt-to-income')\n",
    "plt.ylabel('Count')\n",
    "plt.title('Debt-to-income')"
   ]
  },
  {
   "cell_type": "markdown",
   "metadata": {},
   "source": [
    "How many of the `dti` values are \"outliers\" (above 60)?"
   ]
  },
  {
   "cell_type": "code",
   "execution_count": 78,
   "metadata": {},
   "outputs": [
    {
     "data": {
      "text/plain": [
       "179"
      ]
     },
     "execution_count": 78,
     "metadata": {},
     "output_type": "execute_result"
    }
   ],
   "source": [
    "(loans['dti']>=60).sum()"
   ]
  },
  {
   "cell_type": "markdown",
   "metadata": {},
   "source": [
    "Very few."
   ]
  },
  {
   "cell_type": "markdown",
   "metadata": {},
   "source": [
    "Compare the `dti` medians for fully paid and charged-off loans:"
   ]
  },
  {
   "cell_type": "code",
   "execution_count": 79,
   "metadata": {},
   "outputs": [
    {
     "data": {
      "text/plain": [
       "loan_status\n",
       "Charged Off    19.77\n",
       "Fully Paid     16.77\n",
       "Name: dti, dtype: float64"
      ]
     },
     "execution_count": 79,
     "metadata": {},
     "output_type": "execute_result"
    }
   ],
   "source": [
    "loans.groupby('loan_status')['dti'].median()"
   ]
  },
  {
   "cell_type": "markdown",
   "metadata": {},
   "source": [
    "Borrowers who charge off tend to have higher debt-to-income ratios."
   ]
  },
  {
   "cell_type": "markdown",
   "metadata": {},
   "source": [
    "### earliest_cr_line"
   ]
  },
  {
   "cell_type": "markdown",
   "metadata": {},
   "source": [
    "Data Dictionary: \"The month the borrower's earliest reported credit line was opened.\""
   ]
  },
  {
   "cell_type": "code",
   "execution_count": 80,
   "metadata": {},
   "outputs": [
    {
     "data": {
      "text/plain": [
       "586343    Nov-2001\n",
       "541991    Sep-1998\n",
       "929230    Feb-1984\n",
       "267614    Jan-1989\n",
       "576476    May-2006\n",
       "Name: earliest_cr_line, dtype: object"
      ]
     },
     "execution_count": 80,
     "metadata": {},
     "output_type": "execute_result"
    }
   ],
   "source": [
    "loans['earliest_cr_line'].sample(5)"
   ]
  },
  {
   "cell_type": "code",
   "execution_count": 81,
   "metadata": {},
   "outputs": [
    {
     "data": {
      "text/plain": [
       "False"
      ]
     },
     "execution_count": 81,
     "metadata": {},
     "output_type": "execute_result"
    }
   ],
   "source": [
    "loans['earliest_cr_line'].isnull().any()"
   ]
  },
  {
   "cell_type": "markdown",
   "metadata": {},
   "source": [
    "Let's just retain the year for simplicity:"
   ]
  },
  {
   "cell_type": "code",
   "execution_count": 82,
   "metadata": {},
   "outputs": [],
   "source": [
    "loans['earliest_cr_line'] = loans['earliest_cr_line'].apply(lambda s: int(s[-4:]))"
   ]
  },
  {
   "cell_type": "code",
   "execution_count": 83,
   "metadata": {},
   "outputs": [
    {
     "data": {
      "text/plain": [
       "count    814986.000000\n",
       "mean       1998.170962\n",
       "std           7.385629\n",
       "min        1944.000000\n",
       "25%        1994.000000\n",
       "50%        2000.000000\n",
       "75%        2003.000000\n",
       "max        2014.000000\n",
       "Name: earliest_cr_line, dtype: float64"
      ]
     },
     "execution_count": 83,
     "metadata": {},
     "output_type": "execute_result"
    }
   ],
   "source": [
    "loans['earliest_cr_line'].describe()"
   ]
  },
  {
   "cell_type": "code",
   "execution_count": 84,
   "metadata": {},
   "outputs": [
    {
     "name": "stderr",
     "output_type": "stream",
     "text": [
      "C:\\Users\\Joe\\Anaconda3\\lib\\site-packages\\matplotlib\\axes\\_axes.py:6462: UserWarning: The 'normed' kwarg is deprecated, and has been replaced by the 'density' kwarg.\n",
      "  warnings.warn(\"The 'normed' kwarg is deprecated, and has been \"\n"
     ]
    },
    {
     "data": {
      "image/png": "[encoded data removed]",
      "text/plain": [
       "<Figure size 1080x270 with 2 Axes>"
      ]
     },
     "metadata": {},
     "output_type": "display_data"
    }
   ],
   "source": [
    "plot_var('earliest_cr_line', 'Year of Earliest Credit Line', continuous=True)"
   ]
  },
  {
   "cell_type": "markdown",
   "metadata": {},
   "source": [
    "Borrowers who charge off tend to have opened their first credit line more recently."
   ]
  },
  {
   "cell_type": "markdown",
   "metadata": {},
   "source": [
    "### fico_range_low, fico_range_high"
   ]
  },
  {
   "cell_type": "markdown",
   "metadata": {},
   "source": [
    "Data Dictionary for `fico_range_low`: \"The lower boundary range the borrower’s FICO at loan origination belongs to.\"\n",
    "\n",
    "Data Dictionary for `fico_range_high`: \"The upper boundary range the borrower’s FICO at loan origination belongs to.\""
   ]
  },
  {
   "cell_type": "code",
   "execution_count": 85,
   "metadata": {},
   "outputs": [
    {
     "data": {
      "text/html": [
       "<div>\n",
       "<style scoped>\n",
       "    .dataframe tbody tr th:only-of-type {\n",
       "        vertical-align: middle;\n",
       "    }\n",
       "\n",
       "    .dataframe tbody tr th {\n",
       "        vertical-align: top;\n",
       "    }\n",
       "\n",
       "    .dataframe thead th {\n",
       "        text-align: right;\n",
       "    }\n",
       "</style>\n",
       "<table border=\"1\" class=\"dataframe\">\n",
       "  <thead>\n",
       "    <tr style=\"text-align: right;\">\n",
       "      <th></th>\n",
       "      <th>fico_range_low</th>\n",
       "      <th>fico_range_high</th>\n",
       "    </tr>\n",
       "  </thead>\n",
       "  <tbody>\n",
       "    <tr>\n",
       "      <th>count</th>\n",
       "      <td>814986.000000</td>\n",
       "      <td>814986.000000</td>\n",
       "    </tr>\n",
       "    <tr>\n",
       "      <th>mean</th>\n",
       "      <td>695.603151</td>\n",
       "      <td>699.603264</td>\n",
       "    </tr>\n",
       "    <tr>\n",
       "      <th>std</th>\n",
       "      <td>31.352251</td>\n",
       "      <td>31.352791</td>\n",
       "    </tr>\n",
       "    <tr>\n",
       "      <th>min</th>\n",
       "      <td>625.000000</td>\n",
       "      <td>629.000000</td>\n",
       "    </tr>\n",
       "    <tr>\n",
       "      <th>25%</th>\n",
       "      <td>670.000000</td>\n",
       "      <td>674.000000</td>\n",
       "    </tr>\n",
       "    <tr>\n",
       "      <th>50%</th>\n",
       "      <td>690.000000</td>\n",
       "      <td>694.000000</td>\n",
       "    </tr>\n",
       "    <tr>\n",
       "      <th>75%</th>\n",
       "      <td>710.000000</td>\n",
       "      <td>714.000000</td>\n",
       "    </tr>\n",
       "    <tr>\n",
       "      <th>max</th>\n",
       "      <td>845.000000</td>\n",
       "      <td>850.000000</td>\n",
       "    </tr>\n",
       "  </tbody>\n",
       "</table>\n",
       "</div>"
      ],
      "text/plain": [
       "       fico_range_low  fico_range_high\n",
       "count   814986.000000    814986.000000\n",
       "mean       695.603151       699.603264\n",
       "std         31.352251        31.352791\n",
       "min        625.000000       629.000000\n",
       "25%        670.000000       674.000000\n",
       "50%        690.000000       694.000000\n",
       "75%        710.000000       714.000000\n",
       "max        845.000000       850.000000"
      ]
     },
     "execution_count": 85,
     "metadata": {},
     "output_type": "execute_result"
    }
   ],
   "source": [
    "loans[['fico_range_low', 'fico_range_high']].describe()"
   ]
  },
  {
   "cell_type": "markdown",
   "metadata": {},
   "source": [
    "Check the correlation between these values:"
   ]
  },
  {
   "cell_type": "code",
   "execution_count": 86,
   "metadata": {},
   "outputs": [
    {
     "data": {
      "text/html": [
       "<div>\n",
       "<style scoped>\n",
       "    .dataframe tbody tr th:only-of-type {\n",
       "        vertical-align: middle;\n",
       "    }\n",
       "\n",
       "    .dataframe tbody tr th {\n",
       "        vertical-align: top;\n",
       "    }\n",
       "\n",
       "    .dataframe thead th {\n",
       "        text-align: right;\n",
       "    }\n",
       "</style>\n",
       "<table border=\"1\" class=\"dataframe\">\n",
       "  <thead>\n",
       "    <tr style=\"text-align: right;\">\n",
       "      <th></th>\n",
       "      <th>fico_range_low</th>\n",
       "      <th>fico_range_high</th>\n",
       "    </tr>\n",
       "  </thead>\n",
       "  <tbody>\n",
       "    <tr>\n",
       "      <th>fico_range_low</th>\n",
       "      <td>1.0</td>\n",
       "      <td>1.0</td>\n",
       "    </tr>\n",
       "    <tr>\n",
       "      <th>fico_range_high</th>\n",
       "      <td>1.0</td>\n",
       "      <td>1.0</td>\n",
       "    </tr>\n",
       "  </tbody>\n",
       "</table>\n",
       "</div>"
      ],
      "text/plain": [
       "                 fico_range_low  fico_range_high\n",
       "fico_range_low              1.0              1.0\n",
       "fico_range_high             1.0              1.0"
      ]
     },
     "execution_count": 86,
     "metadata": {},
     "output_type": "execute_result"
    }
   ],
   "source": [
    "loans[['fico_range_low','fico_range_high']].corr()"
   ]
  },
  {
   "cell_type": "markdown",
   "metadata": {},
   "source": [
    "We only need to keep one of the FICO scores."
   ]
  },
  {
   "cell_type": "code",
   "execution_count": 87,
   "metadata": {},
   "outputs": [],
   "source": [
    "drop_cols('fico_range_low')"
   ]
  },
  {
   "cell_type": "code",
   "execution_count": 88,
   "metadata": {},
   "outputs": [
    {
     "name": "stderr",
     "output_type": "stream",
     "text": [
      "C:\\Users\\Joe\\Anaconda3\\lib\\site-packages\\matplotlib\\axes\\_axes.py:6462: UserWarning: The 'normed' kwarg is deprecated, and has been replaced by the 'density' kwarg.\n",
      "  warnings.warn(\"The 'normed' kwarg is deprecated, and has been \"\n"
     ]
    },
    {
     "data": {
      "image/png": "[encoded data removed]",
      "text/plain": [
       "<Figure size 1080x270 with 2 Axes>"
      ]
     },
     "metadata": {},
     "output_type": "display_data"
    }
   ],
   "source": [
    "plot_var('fico_range_high', 'FICO Range High', continuous=True)"
   ]
  },
  {
   "cell_type": "markdown",
   "metadata": {},
   "source": [
    "There is a noticeable difference in FICO scores between fully paid and charged-off loans."
   ]
  },
  {
   "cell_type": "markdown",
   "metadata": {},
   "source": [
    "### pub_rec"
   ]
  },
  {
   "cell_type": "markdown",
   "metadata": {},
   "source": [
    "Data Dictionary: \"Number of derogatory public records.\""
   ]
  },
  {
   "cell_type": "code",
   "execution_count": 89,
   "metadata": {
    "scrolled": true
   },
   "outputs": [
    {
     "data": {
      "text/plain": [
       "0.0     681509\n",
       "1.0     112483\n",
       "2.0      14115\n",
       "3.0       4107\n",
       "4.0       1400\n",
       "5.0        651\n",
       "6.0        338\n",
       "7.0        146\n",
       "8.0         90\n",
       "9.0         42\n",
       "10.0        28\n",
       "11.0        24\n",
       "12.0        15\n",
       "13.0        11\n",
       "15.0         5\n",
       "18.0         3\n",
       "16.0         2\n",
       "19.0         2\n",
       "14.0         2\n",
       "49.0         2\n",
       "28.0         2\n",
       "34.0         1\n",
       "24.0         1\n",
       "46.0         1\n",
       "54.0         1\n",
       "63.0         1\n",
       "17.0         1\n",
       "21.0         1\n",
       "86.0         1\n",
       "40.0         1\n",
       "Name: pub_rec, dtype: int64"
      ]
     },
     "execution_count": 89,
     "metadata": {},
     "output_type": "execute_result"
    }
   ],
   "source": [
    "loans['pub_rec'].value_counts()"
   ]
  },
  {
   "cell_type": "markdown",
   "metadata": {},
   "source": [
    "Is there a difference in average public records between fully paid loans and charged-off loans?"
   ]
  },
  {
   "cell_type": "code",
   "execution_count": 90,
   "metadata": {},
   "outputs": [
    {
     "data": {
      "text/plain": [
       "loan_status\n",
       "Charged Off    0.232247\n",
       "Fully Paid     0.198845\n",
       "Name: pub_rec, dtype: float64"
      ]
     },
     "execution_count": 90,
     "metadata": {},
     "output_type": "execute_result"
    }
   ],
   "source": [
    "loans.groupby('loan_status')['pub_rec'].mean()"
   ]
  },
  {
   "cell_type": "markdown",
   "metadata": {
    "_cell_guid": "57408b52-70fd-4a45-b5bb-12f0c2612190",
    "_uuid": "2a671f42515e7c4727430a48e6163c6f77801275"
   },
   "source": [
    "### initial_list_status"
   ]
  },
  {
   "cell_type": "markdown",
   "metadata": {},
   "source": [
    "Data Dictionary: \"The initial listing status of the loan. Possible values are – W, F.\"\n",
    "\n",
    "(No idea what this means.)"
   ]
  },
  {
   "cell_type": "code",
   "execution_count": 91,
   "metadata": {
    "_cell_guid": "4d334d9a-9b65-4310-8dad-0f51e25ed987",
    "_uuid": "003a7ac0ee85585ac40fb46ad7e5907352c0a3b0"
   },
   "outputs": [
    {
     "data": {
      "text/plain": [
       "f    413678\n",
       "w    401308\n",
       "Name: initial_list_status, dtype: int64"
      ]
     },
     "execution_count": 91,
     "metadata": {},
     "output_type": "execute_result"
    }
   ],
   "source": [
    "loans['initial_list_status'].value_counts()"
   ]
  },
  {
   "cell_type": "code",
   "execution_count": 92,
   "metadata": {},
   "outputs": [
    {
     "data": {
      "image/png": "[encoded data removed]",
      "text/plain": [
       "<Figure size 1080x270 with 2 Axes>"
      ]
     },
     "metadata": {},
     "output_type": "display_data"
    }
   ],
   "source": [
    "plot_var('initial_list_status', 'Initial List Status', continuous=False)"
   ]
  },
  {
   "cell_type": "markdown",
   "metadata": {},
   "source": [
    "### policy_code"
   ]
  },
  {
   "cell_type": "markdown",
   "metadata": {},
   "source": [
    "Data Dictionary: \"publicly available policy_code=1; new products not publicly available policy_code=2\""
   ]
  },
  {
   "cell_type": "code",
   "execution_count": 93,
   "metadata": {},
   "outputs": [
    {
     "data": {
      "text/plain": [
       "1.0    814986\n",
       "Name: policy_code, dtype: int64"
      ]
     },
     "execution_count": 93,
     "metadata": {},
     "output_type": "execute_result"
    }
   ],
   "source": [
    "loans['policy_code'].value_counts()"
   ]
  },
  {
   "cell_type": "markdown",
   "metadata": {},
   "source": [
    "All values are the same; drop this variable."
   ]
  },
  {
   "cell_type": "code",
   "execution_count": 94,
   "metadata": {},
   "outputs": [],
   "source": [
    "drop_cols('policy_code')"
   ]
  },
  {
   "cell_type": "markdown",
   "metadata": {
    "_cell_guid": "b34ab6cc-0a3f-4780-a234-743b9d406dca",
    "_uuid": "77b5eba4a13bd157c68f522ab8002094bb8b456d"
   },
   "source": [
    "### application_type"
   ]
  },
  {
   "cell_type": "markdown",
   "metadata": {},
   "source": [
    "Data Dictionary: \"Indicates whether the loan is an individual application or a joint application with two co-borrowers.\""
   ]
  },
  {
   "cell_type": "code",
   "execution_count": 95,
   "metadata": {
    "_cell_guid": "0fc4f079-695a-49e9-abac-05bf841bd9e5",
    "_uuid": "afc3918d6aa0db8f5ddeab49d17359155db1376d"
   },
   "outputs": [
    {
     "data": {
      "text/plain": [
       "Individual    811207\n",
       "Joint App       3779\n",
       "Name: application_type, dtype: int64"
      ]
     },
     "execution_count": 95,
     "metadata": {},
     "output_type": "execute_result"
    }
   ],
   "source": [
    "loans['application_type'].value_counts()"
   ]
  },
  {
   "cell_type": "code",
   "execution_count": 96,
   "metadata": {},
   "outputs": [
    {
     "data": {
      "image/png": "[encoded data removed]",
      "text/plain": [
       "<Figure size 1080x270 with 2 Axes>"
      ]
     },
     "metadata": {},
     "output_type": "display_data"
    }
   ],
   "source": [
    "plot_var('application_type', 'Application Type', continuous=False)"
   ]
  },
  {
   "cell_type": "markdown",
   "metadata": {},
   "source": [
    "Joint loans are slightly more likely to be fully paid, but because there are few joint apps, it's unclear at the moment whether the difference is statistically significant."
   ]
  },
  {
   "cell_type": "markdown",
   "metadata": {},
   "source": [
    "### mo_sin_old_il_acct"
   ]
  },
  {
   "cell_type": "markdown",
   "metadata": {},
   "source": [
    "Data Dictionary: \"Months since oldest bank installment account opened.\""
   ]
  },
  {
   "cell_type": "code",
   "execution_count": 97,
   "metadata": {},
   "outputs": [
    {
     "data": {
      "text/plain": [
       "count    725427.000000\n",
       "mean        125.926232\n",
       "std          51.554620\n",
       "min           0.000000\n",
       "25%          98.000000\n",
       "50%         129.000000\n",
       "75%         152.000000\n",
       "max         724.000000\n",
       "Name: mo_sin_old_il_acct, dtype: float64"
      ]
     },
     "execution_count": 97,
     "metadata": {},
     "output_type": "execute_result"
    }
   ],
   "source": [
    "loans['mo_sin_old_il_acct'].describe()"
   ]
  },
  {
   "cell_type": "code",
   "execution_count": 98,
   "metadata": {},
   "outputs": [
    {
     "name": "stderr",
     "output_type": "stream",
     "text": [
      "C:\\Users\\Joe\\Anaconda3\\lib\\site-packages\\matplotlib\\axes\\_axes.py:6462: UserWarning: The 'normed' kwarg is deprecated, and has been replaced by the 'density' kwarg.\n",
      "  warnings.warn(\"The 'normed' kwarg is deprecated, and has been \"\n"
     ]
    },
    {
     "data": {
      "image/png": "[encoded data removed]",
      "text/plain": [
       "<Figure size 1080x270 with 2 Axes>"
      ]
     },
     "metadata": {},
     "output_type": "display_data"
    }
   ],
   "source": [
    "plot_var('mo_sin_old_il_acct', 'Months since Oldest Installment Account', continuous=True)"
   ]
  },
  {
   "cell_type": "markdown",
   "metadata": {},
   "source": [
    "### mo_sin_old_rev_tl_op"
   ]
  },
  {
   "cell_type": "markdown",
   "metadata": {},
   "source": [
    "Data Dictionary: \"Months since oldest revolving account opened.\""
   ]
  },
  {
   "cell_type": "code",
   "execution_count": 99,
   "metadata": {},
   "outputs": [
    {
     "data": {
      "text/plain": [
       "count    747458.000000\n",
       "mean        180.843182\n",
       "std          92.192939\n",
       "min           2.000000\n",
       "25%         117.000000\n",
       "50%         164.000000\n",
       "75%         228.000000\n",
       "max         842.000000\n",
       "Name: mo_sin_old_rev_tl_op, dtype: float64"
      ]
     },
     "execution_count": 99,
     "metadata": {},
     "output_type": "execute_result"
    }
   ],
   "source": [
    "loans['mo_sin_old_rev_tl_op'].describe()"
   ]
  },
  {
   "cell_type": "code",
   "execution_count": 100,
   "metadata": {},
   "outputs": [
    {
     "name": "stderr",
     "output_type": "stream",
     "text": [
      "C:\\Users\\Joe\\Anaconda3\\lib\\site-packages\\matplotlib\\axes\\_axes.py:6462: UserWarning: The 'normed' kwarg is deprecated, and has been replaced by the 'density' kwarg.\n",
      "  warnings.warn(\"The 'normed' kwarg is deprecated, and has been \"\n"
     ]
    },
    {
     "data": {
      "image/png": "[encoded data removed]",
      "text/plain": [
       "<Figure size 1080x270 with 2 Axes>"
      ]
     },
     "metadata": {},
     "output_type": "display_data"
    }
   ],
   "source": [
    "plot_var('mo_sin_old_rev_tl_op', 'Months since Oldest Revolving Account', continuous=True)"
   ]
  },
  {
   "cell_type": "markdown",
   "metadata": {},
   "source": [
    "### mort_acc"
   ]
  },
  {
   "cell_type": "markdown",
   "metadata": {},
   "source": [
    "Data Dictionary: \"Number of mortgage accounts.\""
   ]
  },
  {
   "cell_type": "code",
   "execution_count": 101,
   "metadata": {},
   "outputs": [
    {
     "data": {
      "text/plain": [
       "count    767705.000000\n",
       "mean          1.758707\n",
       "std           2.081730\n",
       "min           0.000000\n",
       "25%           0.000000\n",
       "50%           1.000000\n",
       "75%           3.000000\n",
       "max          51.000000\n",
       "Name: mort_acc, dtype: float64"
      ]
     },
     "execution_count": 101,
     "metadata": {},
     "output_type": "execute_result"
    }
   ],
   "source": [
    "loans['mort_acc'].describe()"
   ]
  },
  {
   "cell_type": "markdown",
   "metadata": {},
   "source": [
    "Not sure how someone can have 51 mortgage accounts...but apparently they do."
   ]
  },
  {
   "cell_type": "markdown",
   "metadata": {},
   "source": [
    "Top 5 values:"
   ]
  },
  {
   "cell_type": "code",
   "execution_count": 102,
   "metadata": {},
   "outputs": [
    {
     "data": {
      "text/plain": [
       "0.0    301446\n",
       "1.0    131811\n",
       "2.0    109869\n",
       "3.0     82723\n",
       "4.0     58698\n",
       "Name: mort_acc, dtype: int64"
      ]
     },
     "execution_count": 102,
     "metadata": {},
     "output_type": "execute_result"
    }
   ],
   "source": [
    "loans['mort_acc'].value_counts().head()"
   ]
  },
  {
   "cell_type": "code",
   "execution_count": 103,
   "metadata": {},
   "outputs": [
    {
     "name": "stderr",
     "output_type": "stream",
     "text": [
      "C:\\Users\\Joe\\Anaconda3\\lib\\site-packages\\matplotlib\\axes\\_axes.py:6462: UserWarning: The 'normed' kwarg is deprecated, and has been replaced by the 'density' kwarg.\n",
      "  warnings.warn(\"The 'normed' kwarg is deprecated, and has been \"\n"
     ]
    },
    {
     "data": {
      "image/png": "[encoded data removed]",
      "text/plain": [
       "<Figure size 1080x270 with 2 Axes>"
      ]
     },
     "metadata": {},
     "output_type": "display_data"
    }
   ],
   "source": [
    "plot_var('mort_acc', 'Number of Mortgage Accounts', continuous=True)"
   ]
  },
  {
   "cell_type": "markdown",
   "metadata": {},
   "source": [
    "Compare the averages by loan status:"
   ]
  },
  {
   "cell_type": "code",
   "execution_count": 104,
   "metadata": {},
   "outputs": [
    {
     "data": {
      "text/plain": [
       "loan_status\n",
       "Charged Off    1.447437\n",
       "Fully Paid     1.841436\n",
       "Name: mort_acc, dtype: float64"
      ]
     },
     "execution_count": 104,
     "metadata": {},
     "output_type": "execute_result"
    }
   ],
   "source": [
    "loans.groupby('loan_status')['mort_acc'].mean()"
   ]
  },
  {
   "cell_type": "markdown",
   "metadata": {},
   "source": [
    "### pub_rec_bankruptcies"
   ]
  },
  {
   "cell_type": "markdown",
   "metadata": {},
   "source": [
    "Data Dictionary: \"Number of public record bankruptcies.\""
   ]
  },
  {
   "cell_type": "code",
   "execution_count": 105,
   "metadata": {},
   "outputs": [
    {
     "data": {
      "text/plain": [
       "0.0     714642\n",
       "1.0      93680\n",
       "2.0       4673\n",
       "3.0        926\n",
       "4.0        234\n",
       "5.0         85\n",
       "6.0         28\n",
       "7.0         14\n",
       "8.0          5\n",
       "9.0          1\n",
       "12.0         1\n",
       "Name: pub_rec_bankruptcies, dtype: int64"
      ]
     },
     "execution_count": 105,
     "metadata": {},
     "output_type": "execute_result"
    }
   ],
   "source": [
    "loans['pub_rec_bankruptcies'].value_counts().sort_index()"
   ]
  },
  {
   "cell_type": "code",
   "execution_count": 106,
   "metadata": {},
   "outputs": [
    {
     "data": {
      "image/png": "[encoded data removed]",
      "text/plain": [
       "<Figure size 1080x270 with 2 Axes>"
      ]
     },
     "metadata": {},
     "output_type": "display_data"
    }
   ],
   "source": [
    "plot_var('pub_rec_bankruptcies', 'Public Record Bankruptcies', continuous=False)"
   ]
  },
  {
   "cell_type": "markdown",
   "metadata": {},
   "source": [
    "# More Pre-processing"
   ]
  },
  {
   "cell_type": "markdown",
   "metadata": {},
   "source": [
    "## Create Dummy Variables"
   ]
  },
  {
   "cell_type": "markdown",
   "metadata": {},
   "source": [
    "How many variables do we currently have?"
   ]
  },
  {
   "cell_type": "code",
   "execution_count": 107,
   "metadata": {},
   "outputs": [
    {
     "data": {
      "text/plain": [
       "(814986, 23)"
      ]
     },
     "execution_count": 107,
     "metadata": {},
     "output_type": "execute_result"
    }
   ],
   "source": [
    "loans.shape"
   ]
  },
  {
   "cell_type": "markdown",
   "metadata": {},
   "source": [
    "Which variables have missing values?"
   ]
  },
  {
   "cell_type": "code",
   "execution_count": 108,
   "metadata": {},
   "outputs": [
    {
     "data": {
      "text/plain": [
       "mo_sin_old_il_acct      0.109890\n",
       "mo_sin_old_rev_tl_op    0.082858\n",
       "mort_acc                0.058014\n",
       "emp_length              0.051845\n",
       "pub_rec_bankruptcies    0.000855\n",
       "dti                     0.000044\n",
       "dtype: float64"
      ]
     },
     "execution_count": 108,
     "metadata": {},
     "output_type": "execute_result"
    }
   ],
   "source": [
    "missing_fractions[missing_fractions > 0]"
   ]
  },
  {
   "cell_type": "markdown",
   "metadata": {},
   "source": [
    "There are no categorical variables with missing values, and therefore we don't need any NaN dummy variables.\n",
    "\n",
    "Create dummy variables for the categorical variables:"
   ]
  },
  {
   "cell_type": "code",
   "execution_count": 109,
   "metadata": {},
   "outputs": [],
   "source": [
    "loans = pd.get_dummies(loans, columns=['sub_grade', 'home_ownership', 'verification_status', 'purpose', 'addr_state', 'initial_list_status', 'application_type'], drop_first=True)"
   ]
  },
  {
   "cell_type": "code",
   "execution_count": 110,
   "metadata": {},
   "outputs": [
    {
     "data": {
      "text/plain": [
       "(814986, 120)"
      ]
     },
     "execution_count": 110,
     "metadata": {},
     "output_type": "execute_result"
    }
   ],
   "source": [
    "loans.shape"
   ]
  },
  {
   "cell_type": "markdown",
   "metadata": {},
   "source": [
    "Check our transformed data:"
   ]
  },
  {
   "cell_type": "code",
   "execution_count": 111,
   "metadata": {},
   "outputs": [
    {
     "data": {
      "text/html": [
       "<div>\n",
       "<style scoped>\n",
       "    .dataframe tbody tr th:only-of-type {\n",
       "        vertical-align: middle;\n",
       "    }\n",
       "\n",
       "    .dataframe tbody tr th {\n",
       "        vertical-align: top;\n",
       "    }\n",
       "\n",
       "    .dataframe thead th {\n",
       "        text-align: right;\n",
       "    }\n",
       "</style>\n",
       "<table border=\"1\" class=\"dataframe\">\n",
       "  <thead>\n",
       "    <tr style=\"text-align: right;\">\n",
       "      <th></th>\n",
       "      <th>loan_amnt</th>\n",
       "      <th>term</th>\n",
       "      <th>int_rate</th>\n",
       "      <th>installment</th>\n",
       "      <th>emp_length</th>\n",
       "      <th>annual_inc</th>\n",
       "      <th>issue_d</th>\n",
       "      <th>loan_status</th>\n",
       "      <th>dti</th>\n",
       "      <th>earliest_cr_line</th>\n",
       "      <th>fico_range_high</th>\n",
       "      <th>pub_rec</th>\n",
       "      <th>mo_sin_old_il_acct</th>\n",
       "      <th>mo_sin_old_rev_tl_op</th>\n",
       "      <th>mort_acc</th>\n",
       "      <th>pub_rec_bankruptcies</th>\n",
       "      <th>sub_grade_A2</th>\n",
       "      <th>sub_grade_A3</th>\n",
       "      <th>sub_grade_A4</th>\n",
       "      <th>sub_grade_A5</th>\n",
       "      <th>sub_grade_B1</th>\n",
       "      <th>sub_grade_B2</th>\n",
       "      <th>sub_grade_B3</th>\n",
       "      <th>sub_grade_B4</th>\n",
       "      <th>sub_grade_B5</th>\n",
       "      <th>sub_grade_C1</th>\n",
       "      <th>sub_grade_C2</th>\n",
       "      <th>sub_grade_C3</th>\n",
       "      <th>sub_grade_C4</th>\n",
       "      <th>sub_grade_C5</th>\n",
       "      <th>sub_grade_D1</th>\n",
       "      <th>sub_grade_D2</th>\n",
       "      <th>sub_grade_D3</th>\n",
       "      <th>sub_grade_D4</th>\n",
       "      <th>sub_grade_D5</th>\n",
       "      <th>sub_grade_E1</th>\n",
       "      <th>sub_grade_E2</th>\n",
       "      <th>sub_grade_E3</th>\n",
       "      <th>sub_grade_E4</th>\n",
       "      <th>sub_grade_E5</th>\n",
       "      <th>sub_grade_F1</th>\n",
       "      <th>sub_grade_F2</th>\n",
       "      <th>sub_grade_F3</th>\n",
       "      <th>sub_grade_F4</th>\n",
       "      <th>sub_grade_F5</th>\n",
       "      <th>sub_grade_G1</th>\n",
       "      <th>sub_grade_G2</th>\n",
       "      <th>sub_grade_G3</th>\n",
       "      <th>sub_grade_G4</th>\n",
       "      <th>sub_grade_G5</th>\n",
       "      <th>home_ownership_OTHER</th>\n",
       "      <th>home_ownership_OWN</th>\n",
       "      <th>home_ownership_RENT</th>\n",
       "      <th>verification_status_Source Verified</th>\n",
       "      <th>verification_status_Verified</th>\n",
       "      <th>purpose_credit_card</th>\n",
       "      <th>purpose_debt_consolidation</th>\n",
       "      <th>purpose_educational</th>\n",
       "      <th>purpose_home_improvement</th>\n",
       "      <th>purpose_house</th>\n",
       "      <th>purpose_major_purchase</th>\n",
       "      <th>purpose_medical</th>\n",
       "      <th>purpose_moving</th>\n",
       "      <th>purpose_other</th>\n",
       "      <th>purpose_renewable_energy</th>\n",
       "      <th>purpose_small_business</th>\n",
       "      <th>purpose_vacation</th>\n",
       "      <th>purpose_wedding</th>\n",
       "      <th>addr_state_AL</th>\n",
       "      <th>addr_state_AR</th>\n",
       "      <th>addr_state_AZ</th>\n",
       "      <th>addr_state_CA</th>\n",
       "      <th>addr_state_CO</th>\n",
       "      <th>addr_state_CT</th>\n",
       "      <th>addr_state_DC</th>\n",
       "      <th>addr_state_DE</th>\n",
       "      <th>addr_state_FL</th>\n",
       "      <th>addr_state_GA</th>\n",
       "      <th>addr_state_HI</th>\n",
       "      <th>addr_state_IA</th>\n",
       "      <th>addr_state_ID</th>\n",
       "      <th>addr_state_IL</th>\n",
       "      <th>addr_state_IN</th>\n",
       "      <th>addr_state_KS</th>\n",
       "      <th>addr_state_KY</th>\n",
       "      <th>addr_state_LA</th>\n",
       "      <th>addr_state_MA</th>\n",
       "      <th>addr_state_MD</th>\n",
       "      <th>addr_state_ME</th>\n",
       "      <th>addr_state_MI</th>\n",
       "      <th>addr_state_MN</th>\n",
       "      <th>addr_state_MO</th>\n",
       "      <th>addr_state_MS</th>\n",
       "      <th>addr_state_MT</th>\n",
       "      <th>addr_state_NC</th>\n",
       "      <th>addr_state_ND</th>\n",
       "      <th>addr_state_NE</th>\n",
       "      <th>addr_state_NH</th>\n",
       "      <th>addr_state_NJ</th>\n",
       "      <th>addr_state_NM</th>\n",
       "      <th>addr_state_NV</th>\n",
       "      <th>addr_state_NY</th>\n",
       "      <th>addr_state_OH</th>\n",
       "      <th>addr_state_OK</th>\n",
       "      <th>addr_state_OR</th>\n",
       "      <th>addr_state_PA</th>\n",
       "      <th>addr_state_RI</th>\n",
       "      <th>addr_state_SC</th>\n",
       "      <th>addr_state_SD</th>\n",
       "      <th>addr_state_TN</th>\n",
       "      <th>addr_state_TX</th>\n",
       "      <th>addr_state_UT</th>\n",
       "      <th>addr_state_VA</th>\n",
       "      <th>addr_state_VT</th>\n",
       "      <th>addr_state_WA</th>\n",
       "      <th>addr_state_WI</th>\n",
       "      <th>addr_state_WV</th>\n",
       "      <th>addr_state_WY</th>\n",
       "      <th>initial_list_status_w</th>\n",
       "      <th>application_type_Joint App</th>\n",
       "    </tr>\n",
       "  </thead>\n",
       "  <tbody>\n",
       "    <tr>\n",
       "      <th>1539414</th>\n",
       "      <td>12500.0</td>\n",
       "      <td>60</td>\n",
       "      <td>21.97</td>\n",
       "      <td>345.03</td>\n",
       "      <td>10.0</td>\n",
       "      <td>4.556315</td>\n",
       "      <td>Mar-2016</td>\n",
       "      <td>Fully Paid</td>\n",
       "      <td>31.70</td>\n",
       "      <td>1997</td>\n",
       "      <td>664.0</td>\n",
       "      <td>0.0</td>\n",
       "      <td>198.0</td>\n",
       "      <td>227.0</td>\n",
       "      <td>0.0</td>\n",
       "      <td>0.0</td>\n",
       "      <td>0</td>\n",
       "      <td>0</td>\n",
       "      <td>0</td>\n",
       "      <td>0</td>\n",
       "      <td>0</td>\n",
       "      <td>0</td>\n",
       "      <td>0</td>\n",
       "      <td>0</td>\n",
       "      <td>0</td>\n",
       "      <td>0</td>\n",
       "      <td>0</td>\n",
       "      <td>0</td>\n",
       "      <td>0</td>\n",
       "      <td>0</td>\n",
       "      <td>0</td>\n",
       "      <td>0</td>\n",
       "      <td>0</td>\n",
       "      <td>0</td>\n",
       "      <td>0</td>\n",
       "      <td>0</td>\n",
       "      <td>0</td>\n",
       "      <td>0</td>\n",
       "      <td>1</td>\n",
       "      <td>0</td>\n",
       "      <td>0</td>\n",
       "      <td>0</td>\n",
       "      <td>0</td>\n",
       "      <td>0</td>\n",
       "      <td>0</td>\n",
       "      <td>0</td>\n",
       "      <td>0</td>\n",
       "      <td>0</td>\n",
       "      <td>0</td>\n",
       "      <td>0</td>\n",
       "      <td>0</td>\n",
       "      <td>0</td>\n",
       "      <td>1</td>\n",
       "      <td>0</td>\n",
       "      <td>1</td>\n",
       "      <td>0</td>\n",
       "      <td>1</td>\n",
       "      <td>0</td>\n",
       "      <td>0</td>\n",
       "      <td>0</td>\n",
       "      <td>0</td>\n",
       "      <td>0</td>\n",
       "      <td>0</td>\n",
       "      <td>0</td>\n",
       "      <td>0</td>\n",
       "      <td>0</td>\n",
       "      <td>0</td>\n",
       "      <td>0</td>\n",
       "      <td>0</td>\n",
       "      <td>0</td>\n",
       "      <td>0</td>\n",
       "      <td>1</td>\n",
       "      <td>0</td>\n",
       "      <td>0</td>\n",
       "      <td>0</td>\n",
       "      <td>0</td>\n",
       "      <td>0</td>\n",
       "      <td>0</td>\n",
       "      <td>0</td>\n",
       "      <td>0</td>\n",
       "      <td>0</td>\n",
       "      <td>0</td>\n",
       "      <td>0</td>\n",
       "      <td>0</td>\n",
       "      <td>0</td>\n",
       "      <td>0</td>\n",
       "      <td>0</td>\n",
       "      <td>0</td>\n",
       "      <td>0</td>\n",
       "      <td>0</td>\n",
       "      <td>0</td>\n",
       "      <td>0</td>\n",
       "      <td>0</td>\n",
       "      <td>0</td>\n",
       "      <td>0</td>\n",
       "      <td>0</td>\n",
       "      <td>0</td>\n",
       "      <td>0</td>\n",
       "      <td>0</td>\n",
       "      <td>0</td>\n",
       "      <td>0</td>\n",
       "      <td>0</td>\n",
       "      <td>0</td>\n",
       "      <td>0</td>\n",
       "      <td>0</td>\n",
       "      <td>0</td>\n",
       "      <td>0</td>\n",
       "      <td>0</td>\n",
       "      <td>0</td>\n",
       "      <td>0</td>\n",
       "      <td>0</td>\n",
       "      <td>0</td>\n",
       "      <td>0</td>\n",
       "      <td>0</td>\n",
       "      <td>0</td>\n",
       "      <td>0</td>\n",
       "      <td>0</td>\n",
       "      <td>0</td>\n",
       "      <td>1</td>\n",
       "      <td>0</td>\n",
       "    </tr>\n",
       "    <tr>\n",
       "      <th>268564</th>\n",
       "      <td>3500.0</td>\n",
       "      <td>36</td>\n",
       "      <td>12.18</td>\n",
       "      <td>116.55</td>\n",
       "      <td>3.0</td>\n",
       "      <td>5.136724</td>\n",
       "      <td>Jan-2010</td>\n",
       "      <td>Fully Paid</td>\n",
       "      <td>13.53</td>\n",
       "      <td>1989</td>\n",
       "      <td>694.0</td>\n",
       "      <td>0.0</td>\n",
       "      <td>NaN</td>\n",
       "      <td>NaN</td>\n",
       "      <td>NaN</td>\n",
       "      <td>0.0</td>\n",
       "      <td>0</td>\n",
       "      <td>0</td>\n",
       "      <td>0</td>\n",
       "      <td>0</td>\n",
       "      <td>0</td>\n",
       "      <td>0</td>\n",
       "      <td>0</td>\n",
       "      <td>1</td>\n",
       "      <td>0</td>\n",
       "      <td>0</td>\n",
       "      <td>0</td>\n",
       "      <td>0</td>\n",
       "      <td>0</td>\n",
       "      <td>0</td>\n",
       "      <td>0</td>\n",
       "      <td>0</td>\n",
       "      <td>0</td>\n",
       "      <td>0</td>\n",
       "      <td>0</td>\n",
       "      <td>0</td>\n",
       "      <td>0</td>\n",
       "      <td>0</td>\n",
       "      <td>0</td>\n",
       "      <td>0</td>\n",
       "      <td>0</td>\n",
       "      <td>0</td>\n",
       "      <td>0</td>\n",
       "      <td>0</td>\n",
       "      <td>0</td>\n",
       "      <td>0</td>\n",
       "      <td>0</td>\n",
       "      <td>0</td>\n",
       "      <td>0</td>\n",
       "      <td>0</td>\n",
       "      <td>0</td>\n",
       "      <td>0</td>\n",
       "      <td>0</td>\n",
       "      <td>0</td>\n",
       "      <td>1</td>\n",
       "      <td>0</td>\n",
       "      <td>0</td>\n",
       "      <td>0</td>\n",
       "      <td>0</td>\n",
       "      <td>0</td>\n",
       "      <td>0</td>\n",
       "      <td>0</td>\n",
       "      <td>0</td>\n",
       "      <td>1</td>\n",
       "      <td>0</td>\n",
       "      <td>0</td>\n",
       "      <td>0</td>\n",
       "      <td>0</td>\n",
       "      <td>0</td>\n",
       "      <td>0</td>\n",
       "      <td>0</td>\n",
       "      <td>0</td>\n",
       "      <td>0</td>\n",
       "      <td>0</td>\n",
       "      <td>0</td>\n",
       "      <td>0</td>\n",
       "      <td>0</td>\n",
       "      <td>0</td>\n",
       "      <td>0</td>\n",
       "      <td>0</td>\n",
       "      <td>0</td>\n",
       "      <td>0</td>\n",
       "      <td>0</td>\n",
       "      <td>0</td>\n",
       "      <td>0</td>\n",
       "      <td>0</td>\n",
       "      <td>0</td>\n",
       "      <td>0</td>\n",
       "      <td>0</td>\n",
       "      <td>0</td>\n",
       "      <td>0</td>\n",
       "      <td>0</td>\n",
       "      <td>0</td>\n",
       "      <td>0</td>\n",
       "      <td>0</td>\n",
       "      <td>0</td>\n",
       "      <td>0</td>\n",
       "      <td>1</td>\n",
       "      <td>0</td>\n",
       "      <td>0</td>\n",
       "      <td>0</td>\n",
       "      <td>0</td>\n",
       "      <td>0</td>\n",
       "      <td>0</td>\n",
       "      <td>0</td>\n",
       "      <td>0</td>\n",
       "      <td>0</td>\n",
       "      <td>0</td>\n",
       "      <td>0</td>\n",
       "      <td>0</td>\n",
       "      <td>0</td>\n",
       "      <td>0</td>\n",
       "      <td>0</td>\n",
       "      <td>0</td>\n",
       "      <td>0</td>\n",
       "      <td>0</td>\n",
       "      <td>0</td>\n",
       "      <td>0</td>\n",
       "      <td>0</td>\n",
       "      <td>0</td>\n",
       "    </tr>\n",
       "    <tr>\n",
       "      <th>984516</th>\n",
       "      <td>30000.0</td>\n",
       "      <td>36</td>\n",
       "      <td>17.99</td>\n",
       "      <td>1084.43</td>\n",
       "      <td>2.0</td>\n",
       "      <td>5.477123</td>\n",
       "      <td>Mar-2012</td>\n",
       "      <td>Charged Off</td>\n",
       "      <td>12.50</td>\n",
       "      <td>1998</td>\n",
       "      <td>714.0</td>\n",
       "      <td>0.0</td>\n",
       "      <td>NaN</td>\n",
       "      <td>NaN</td>\n",
       "      <td>0.0</td>\n",
       "      <td>0.0</td>\n",
       "      <td>0</td>\n",
       "      <td>0</td>\n",
       "      <td>0</td>\n",
       "      <td>0</td>\n",
       "      <td>0</td>\n",
       "      <td>0</td>\n",
       "      <td>0</td>\n",
       "      <td>0</td>\n",
       "      <td>0</td>\n",
       "      <td>0</td>\n",
       "      <td>0</td>\n",
       "      <td>0</td>\n",
       "      <td>0</td>\n",
       "      <td>0</td>\n",
       "      <td>0</td>\n",
       "      <td>1</td>\n",
       "      <td>0</td>\n",
       "      <td>0</td>\n",
       "      <td>0</td>\n",
       "      <td>0</td>\n",
       "      <td>0</td>\n",
       "      <td>0</td>\n",
       "      <td>0</td>\n",
       "      <td>0</td>\n",
       "      <td>0</td>\n",
       "      <td>0</td>\n",
       "      <td>0</td>\n",
       "      <td>0</td>\n",
       "      <td>0</td>\n",
       "      <td>0</td>\n",
       "      <td>0</td>\n",
       "      <td>0</td>\n",
       "      <td>0</td>\n",
       "      <td>0</td>\n",
       "      <td>0</td>\n",
       "      <td>0</td>\n",
       "      <td>1</td>\n",
       "      <td>1</td>\n",
       "      <td>0</td>\n",
       "      <td>0</td>\n",
       "      <td>1</td>\n",
       "      <td>0</td>\n",
       "      <td>0</td>\n",
       "      <td>0</td>\n",
       "      <td>0</td>\n",
       "      <td>0</td>\n",
       "      <td>0</td>\n",
       "      <td>0</td>\n",
       "      <td>0</td>\n",
       "      <td>0</td>\n",
       "      <td>0</td>\n",
       "      <td>0</td>\n",
       "      <td>0</td>\n",
       "      <td>0</td>\n",
       "      <td>0</td>\n",
       "      <td>0</td>\n",
       "      <td>0</td>\n",
       "      <td>0</td>\n",
       "      <td>0</td>\n",
       "      <td>0</td>\n",
       "      <td>0</td>\n",
       "      <td>0</td>\n",
       "      <td>0</td>\n",
       "      <td>0</td>\n",
       "      <td>0</td>\n",
       "      <td>0</td>\n",
       "      <td>0</td>\n",
       "      <td>0</td>\n",
       "      <td>0</td>\n",
       "      <td>0</td>\n",
       "      <td>0</td>\n",
       "      <td>0</td>\n",
       "      <td>0</td>\n",
       "      <td>0</td>\n",
       "      <td>0</td>\n",
       "      <td>0</td>\n",
       "      <td>0</td>\n",
       "      <td>0</td>\n",
       "      <td>0</td>\n",
       "      <td>0</td>\n",
       "      <td>0</td>\n",
       "      <td>0</td>\n",
       "      <td>0</td>\n",
       "      <td>0</td>\n",
       "      <td>0</td>\n",
       "      <td>1</td>\n",
       "      <td>0</td>\n",
       "      <td>0</td>\n",
       "      <td>0</td>\n",
       "      <td>0</td>\n",
       "      <td>0</td>\n",
       "      <td>0</td>\n",
       "      <td>0</td>\n",
       "      <td>0</td>\n",
       "      <td>0</td>\n",
       "      <td>0</td>\n",
       "      <td>0</td>\n",
       "      <td>0</td>\n",
       "      <td>0</td>\n",
       "      <td>0</td>\n",
       "      <td>0</td>\n",
       "      <td>0</td>\n",
       "      <td>0</td>\n",
       "      <td>0</td>\n",
       "    </tr>\n",
       "  </tbody>\n",
       "</table>\n",
       "</div>"
      ],
      "text/plain": [
       "         loan_amnt  term  int_rate  installment  emp_length  annual_inc  \\\n",
       "1539414    12500.0    60     21.97       345.03        10.0    4.556315   \n",
       "268564      3500.0    36     12.18       116.55         3.0    5.136724   \n",
       "984516     30000.0    36     17.99      1084.43         2.0    5.477123   \n",
       "\n",
       "          issue_d  loan_status    dti  earliest_cr_line  fico_range_high  \\\n",
       "1539414  Mar-2016   Fully Paid  31.70              1997            664.0   \n",
       "268564   Jan-2010   Fully Paid  13.53              1989            694.0   \n",
       "984516   Mar-2012  Charged Off  12.50              1998            714.0   \n",
       "\n",
       "         pub_rec  mo_sin_old_il_acct  mo_sin_old_rev_tl_op  mort_acc  \\\n",
       "1539414      0.0               198.0                 227.0       0.0   \n",
       "268564       0.0                 NaN                   NaN       NaN   \n",
       "984516       0.0                 NaN                   NaN       0.0   \n",
       "\n",
       "         pub_rec_bankruptcies  sub_grade_A2  sub_grade_A3  sub_grade_A4  \\\n",
       "1539414                   0.0             0             0             0   \n",
       "268564                    0.0             0             0             0   \n",
       "984516                    0.0             0             0             0   \n",
       "\n",
       "         sub_grade_A5  sub_grade_B1  sub_grade_B2  sub_grade_B3  sub_grade_B4  \\\n",
       "1539414             0             0             0             0             0   \n",
       "268564              0             0             0             0             1   \n",
       "984516              0             0             0             0             0   \n",
       "\n",
       "         sub_grade_B5  sub_grade_C1  sub_grade_C2  sub_grade_C3  sub_grade_C4  \\\n",
       "1539414             0             0             0             0             0   \n",
       "268564              0             0             0             0             0   \n",
       "984516              0             0             0             0             0   \n",
       "\n",
       "         sub_grade_C5  sub_grade_D1  sub_grade_D2  sub_grade_D3  sub_grade_D4  \\\n",
       "1539414             0             0             0             0             0   \n",
       "268564              0             0             0             0             0   \n",
       "984516              0             0             1             0             0   \n",
       "\n",
       "         sub_grade_D5  sub_grade_E1  sub_grade_E2  sub_grade_E3  sub_grade_E4  \\\n",
       "1539414             0             0             0             0             1   \n",
       "268564              0             0             0             0             0   \n",
       "984516              0             0             0             0             0   \n",
       "\n",
       "         sub_grade_E5  sub_grade_F1  sub_grade_F2  sub_grade_F3  sub_grade_F4  \\\n",
       "1539414             0             0             0             0             0   \n",
       "268564              0             0             0             0             0   \n",
       "984516              0             0             0             0             0   \n",
       "\n",
       "         sub_grade_F5  sub_grade_G1  sub_grade_G2  sub_grade_G3  sub_grade_G4  \\\n",
       "1539414             0             0             0             0             0   \n",
       "268564              0             0             0             0             0   \n",
       "984516              0             0             0             0             0   \n",
       "\n",
       "         sub_grade_G5  home_ownership_OTHER  home_ownership_OWN  \\\n",
       "1539414             0                     0                   0   \n",
       "268564              0                     0                   0   \n",
       "984516              0                     0                   0   \n",
       "\n",
       "         home_ownership_RENT  verification_status_Source Verified  \\\n",
       "1539414                    1                                    0   \n",
       "268564                     0                                    0   \n",
       "984516                     1                                    1   \n",
       "\n",
       "         verification_status_Verified  purpose_credit_card  \\\n",
       "1539414                             1                    0   \n",
       "268564                              1                    0   \n",
       "984516                              0                    0   \n",
       "\n",
       "         purpose_debt_consolidation  purpose_educational  \\\n",
       "1539414                           1                    0   \n",
       "268564                            0                    0   \n",
       "984516                            1                    0   \n",
       "\n",
       "         purpose_home_improvement  purpose_house  purpose_major_purchase  \\\n",
       "1539414                         0              0                       0   \n",
       "268564                          0              0                       0   \n",
       "984516                          0              0                       0   \n",
       "\n",
       "         purpose_medical  purpose_moving  purpose_other  \\\n",
       "1539414                0               0              0   \n",
       "268564                 0               0              1   \n",
       "984516                 0               0              0   \n",
       "\n",
       "         purpose_renewable_energy  purpose_small_business  purpose_vacation  \\\n",
       "1539414                         0                       0                 0   \n",
       "268564                          0                       0                 0   \n",
       "984516                          0                       0                 0   \n",
       "\n",
       "         purpose_wedding  addr_state_AL  addr_state_AR  addr_state_AZ  \\\n",
       "1539414                0              0              0              0   \n",
       "268564                 0              0              0              0   \n",
       "984516                 0              0              0              0   \n",
       "\n",
       "         addr_state_CA  addr_state_CO  addr_state_CT  addr_state_DC  \\\n",
       "1539414              1              0              0              0   \n",
       "268564               0              0              0              0   \n",
       "984516               0              0              0              0   \n",
       "\n",
       "         addr_state_DE  addr_state_FL  addr_state_GA  addr_state_HI  \\\n",
       "1539414              0              0              0              0   \n",
       "268564               0              0              0              0   \n",
       "984516               0              0              0              0   \n",
       "\n",
       "         addr_state_IA  addr_state_ID  addr_state_IL  addr_state_IN  \\\n",
       "1539414              0              0              0              0   \n",
       "268564               0              0              0              0   \n",
       "984516               0              0              0              0   \n",
       "\n",
       "         addr_state_KS  addr_state_KY  addr_state_LA  addr_state_MA  \\\n",
       "1539414              0              0              0              0   \n",
       "268564               0              0              0              0   \n",
       "984516               0              0              0              0   \n",
       "\n",
       "         addr_state_MD  addr_state_ME  addr_state_MI  addr_state_MN  \\\n",
       "1539414              0              0              0              0   \n",
       "268564               0              0              0              0   \n",
       "984516               0              0              0              0   \n",
       "\n",
       "         addr_state_MO  addr_state_MS  addr_state_MT  addr_state_NC  \\\n",
       "1539414              0              0              0              0   \n",
       "268564               0              0              0              0   \n",
       "984516               0              0              0              0   \n",
       "\n",
       "         addr_state_ND  addr_state_NE  addr_state_NH  addr_state_NJ  \\\n",
       "1539414              0              0              0              0   \n",
       "268564               0              0              1              0   \n",
       "984516               0              0              0              0   \n",
       "\n",
       "         addr_state_NM  addr_state_NV  addr_state_NY  addr_state_OH  \\\n",
       "1539414              0              0              0              0   \n",
       "268564               0              0              0              0   \n",
       "984516               0              0              1              0   \n",
       "\n",
       "         addr_state_OK  addr_state_OR  addr_state_PA  addr_state_RI  \\\n",
       "1539414              0              0              0              0   \n",
       "268564               0              0              0              0   \n",
       "984516               0              0              0              0   \n",
       "\n",
       "         addr_state_SC  addr_state_SD  addr_state_TN  addr_state_TX  \\\n",
       "1539414              0              0              0              0   \n",
       "268564               0              0              0              0   \n",
       "984516               0              0              0              0   \n",
       "\n",
       "         addr_state_UT  addr_state_VA  addr_state_VT  addr_state_WA  \\\n",
       "1539414              0              0              0              0   \n",
       "268564               0              0              0              0   \n",
       "984516               0              0              0              0   \n",
       "\n",
       "         addr_state_WI  addr_state_WV  addr_state_WY  initial_list_status_w  \\\n",
       "1539414              0              0              0                      1   \n",
       "268564               0              0              0                      0   \n",
       "984516               0              0              0                      0   \n",
       "\n",
       "         application_type_Joint App  \n",
       "1539414                           0  \n",
       "268564                            0  \n",
       "984516                            0  "
      ]
     },
     "execution_count": 111,
     "metadata": {},
     "output_type": "execute_result"
    }
   ],
   "source": [
    "loans.sample(3)"
   ]
  },
  {
   "cell_type": "markdown",
   "metadata": {},
   "source": [
    "Looks good!"
   ]
  },
  {
   "cell_type": "markdown",
   "metadata": {},
   "source": [
    "## Train/test split"
   ]
  },
  {
   "cell_type": "markdown",
   "metadata": {},
   "source": [
    "We'll make our predictions more realistic by performing the train/test split based on the month that the loan was funded. That is, we'll use loans funded on earlier dates to predict the outcome of loans funded on later dates.\n",
    "\n",
    "The variable `issue_d` includes the month which the loan was funded. Let's peek at this variable:"
   ]
  },
  {
   "cell_type": "code",
   "execution_count": 112,
   "metadata": {},
   "outputs": [
    {
     "data": {
      "text/plain": [
       "229300     Jan-2014\n",
       "1578895    Feb-2016\n",
       "857341     Sep-2013\n",
       "863670     Aug-2013\n",
       "250106     Jun-2011\n",
       "Name: issue_d, dtype: object"
      ]
     },
     "execution_count": 112,
     "metadata": {},
     "output_type": "execute_result"
    }
   ],
   "source": [
    "loans['issue_d'].sample(5)"
   ]
  },
  {
   "cell_type": "markdown",
   "metadata": {},
   "source": [
    "So `issue_d` only includes month and year data. Are there any missing values?"
   ]
  },
  {
   "cell_type": "code",
   "execution_count": 113,
   "metadata": {},
   "outputs": [
    {
     "data": {
      "text/plain": [
       "False"
      ]
     },
     "execution_count": 113,
     "metadata": {},
     "output_type": "execute_result"
    }
   ],
   "source": [
    "loans['issue_d'].isnull().any()"
   ]
  },
  {
   "cell_type": "markdown",
   "metadata": {},
   "source": [
    "No. Let's convert the issue dates to datetime objects:"
   ]
  },
  {
   "cell_type": "code",
   "execution_count": 114,
   "metadata": {},
   "outputs": [],
   "source": [
    "loans['issue_d'] = pd.to_datetime(loans['issue_d'])"
   ]
  },
  {
   "cell_type": "code",
   "execution_count": 115,
   "metadata": {},
   "outputs": [
    {
     "data": {
      "text/plain": [
       "1405169   2016-04-01\n",
       "373920    2015-10-01\n",
       "603046    2015-04-01\n",
       "67835     2014-10-01\n",
       "1611527   2016-02-01\n",
       "Name: issue_d, dtype: datetime64[ns]"
      ]
     },
     "execution_count": 115,
     "metadata": {},
     "output_type": "execute_result"
    }
   ],
   "source": [
    "loans['issue_d'].sample(5)"
   ]
  },
  {
   "cell_type": "markdown",
   "metadata": {},
   "source": [
    "The `issue_d` values got converted to dates, all on the first day of the month. Check summary statistics of the issue dates:"
   ]
  },
  {
   "cell_type": "code",
   "execution_count": 116,
   "metadata": {},
   "outputs": [
    {
     "data": {
      "text/plain": [
       "count                  814986\n",
       "unique                    124\n",
       "top       2014-10-01 00:00:00\n",
       "freq                    33699\n",
       "first     2007-06-01 00:00:00\n",
       "last      2017-09-01 00:00:00\n",
       "Name: issue_d, dtype: object"
      ]
     },
     "execution_count": 116,
     "metadata": {},
     "output_type": "execute_result"
    }
   ],
   "source": [
    "loans['issue_d'].describe()"
   ]
  },
  {
   "cell_type": "markdown",
   "metadata": {},
   "source": [
    "Note there are only 124 unique issue dates over the 10-year period because we only have month/year information. In this particular dataset, the first loans were issued in June 2007, and the most recent loans were issued in September 2017. The busiest month was October 2014 with 33,699 loans funded in that month. What is the distribution of loans funded per year?"
   ]
  },
  {
   "cell_type": "code",
   "execution_count": 117,
   "metadata": {},
   "outputs": [
    {
     "data": {
      "text/plain": [
       "Text(0.5,1,'Loans Funded per Year')"
      ]
     },
     "execution_count": 117,
     "metadata": {},
     "output_type": "execute_result"
    },
    {
     "data": {
      "image/png": "[encoded data removed]",
      "text/plain": [
       "<Figure size 540x270 with 1 Axes>"
      ]
     },
     "metadata": {},
     "output_type": "display_data"
    }
   ],
   "source": [
    "plt.figure(figsize=(6,3), dpi=90)\n",
    "loans['issue_d'].dt.year.value_counts().sort_index().plot.bar(color='darkblue')\n",
    "plt.xlabel('Year')\n",
    "plt.ylabel('Number of loans funded')\n",
    "plt.title('Loans Funded per Year')"
   ]
  },
  {
   "cell_type": "markdown",
   "metadata": {},
   "source": [
    "We'll form the test set from the most recent 10% of the loans."
   ]
  },
  {
   "cell_type": "code",
   "execution_count": 118,
   "metadata": {},
   "outputs": [],
   "source": [
    "loans_train = loans.loc[loans['issue_d'] <  loans['issue_d'].quantile(0.9)]\n",
    "loans_test =  loans.loc[loans['issue_d'] >= loans['issue_d'].quantile(0.9)]"
   ]
  },
  {
   "cell_type": "markdown",
   "metadata": {},
   "source": [
    "Check that we properly partitioned the loans:"
   ]
  },
  {
   "cell_type": "code",
   "execution_count": 119,
   "metadata": {},
   "outputs": [
    {
     "name": "stdout",
     "output_type": "stream",
     "text": [
      "Number of loans in the partition:    814986\n",
      "Number of loans in the full dataset: 814986\n"
     ]
    }
   ],
   "source": [
    "print('Number of loans in the partition:   ', loans_train.shape[0] + loans_test.shape[0])\n",
    "print('Number of loans in the full dataset:', loans.shape[0])"
   ]
  },
  {
   "cell_type": "markdown",
   "metadata": {},
   "source": [
    "The partition looks good, so we can delete the original `loans` dataframe."
   ]
  },
  {
   "cell_type": "code",
   "execution_count": 120,
   "metadata": {},
   "outputs": [],
   "source": [
    "del loans"
   ]
  },
  {
   "cell_type": "markdown",
   "metadata": {},
   "source": [
    "Let's look at the summary statistics of the issue dates in the train/validation/test sets:"
   ]
  },
  {
   "cell_type": "code",
   "execution_count": 121,
   "metadata": {},
   "outputs": [
    {
     "data": {
      "text/plain": [
       "count                  731108\n",
       "unique                    109\n",
       "top       2014-10-01 00:00:00\n",
       "freq                    33699\n",
       "first     2007-06-01 00:00:00\n",
       "last      2016-06-01 00:00:00\n",
       "Name: issue_d, dtype: object"
      ]
     },
     "execution_count": 121,
     "metadata": {},
     "output_type": "execute_result"
    }
   ],
   "source": [
    "loans_train['issue_d'].describe()"
   ]
  },
  {
   "cell_type": "code",
   "execution_count": 122,
   "metadata": {},
   "outputs": [
    {
     "data": {
      "text/plain": [
       "count                   83878\n",
       "unique                     15\n",
       "top       2016-07-01 00:00:00\n",
       "freq                    10825\n",
       "first     2016-07-01 00:00:00\n",
       "last      2017-09-01 00:00:00\n",
       "Name: issue_d, dtype: object"
      ]
     },
     "execution_count": 122,
     "metadata": {},
     "output_type": "execute_result"
    }
   ],
   "source": [
    "loans_test['issue_d'].describe()"
   ]
  },
  {
   "cell_type": "markdown",
   "metadata": {},
   "source": [
    "The training set includes loans from June 2007 to June 2016. The test set includes loans from July 2016 to September 2017.\n",
    "\n",
    "Now separate the predictor variables from the response variable:"
   ]
  },
  {
   "cell_type": "code",
   "execution_count": 126,
   "metadata": {},
   "outputs": [],
   "source": [
    "X_train = loans_train.drop('loan_status', axis=1)\n",
    "y_train = loans_train.loc[:, 'loan_status']\n",
    "X_test = loans_test.drop('loan_status', axis=1)\n",
    "y_test = loans_test.loc[:, 'loan_status']"
   ]
  },
  {
   "cell_type": "code",
   "execution_count": 127,
   "metadata": {},
   "outputs": [],
   "source": [
    "del loans_train, loans_test"
   ]
  },
  {
   "cell_type": "markdown",
   "metadata": {
    "_cell_guid": "4d75c70c-4f7d-4c84-abab-cc22fe78ca04",
    "_uuid": "3eb671b052048ab6e3a161b773160151440bc077"
   },
   "source": [
    "## Imputation with mean substitution\n",
    "<a id=\"7.2\"></a>"
   ]
  },
  {
   "cell_type": "markdown",
   "metadata": {
    "_cell_guid": "ef289f73-fa8e-43ff-a739-52b39221be56",
    "_uuid": "11c157b0eb3cee2bd0dcd8d6ee72d99c757336b3"
   },
   "source": [
    "How complete is our training data?"
   ]
  },
  {
   "cell_type": "code",
   "execution_count": null,
   "metadata": {
    "_cell_guid": "e2c1de55-63f7-4a88-a2d3-532fac855d39",
    "_uuid": "ef20d8e989c4cab1498c9eca8e26993d1002c808",
    "scrolled": true
   },
   "outputs": [],
   "source": [
    "incomplete_cols(X_train)"
   ]
  },
  {
   "cell_type": "markdown",
   "metadata": {
    "_cell_guid": "cc46fb54-6537-4dfd-8b25-26dc029cd921",
    "_uuid": "b03a222b3626e441ef356cc5e0f0b9cb25eb0e0b"
   },
   "source": [
    "The learning algorithms cannot have missing data. Perform mean substitution, using only the means of the training set to prevent test set leakage."
   ]
  },
  {
   "cell_type": "code",
   "execution_count": null,
   "metadata": {
    "_cell_guid": "6566134d-7bf8-4b74-9fa7-ffc66470f7c3",
    "_uuid": "851d2e8508f723a605e442ed71a5aa64bd62588c"
   },
   "outputs": [],
   "source": [
    "from sklearn.preprocessing import Imputer"
   ]
  },
  {
   "cell_type": "code",
   "execution_count": null,
   "metadata": {
    "_cell_guid": "118c6cb2-ffa7-4505-838f-475ff61f0fb9",
    "_uuid": "de03f263248639ac3f90c3721b82a29cae54431b"
   },
   "outputs": [],
   "source": [
    "imputer = Imputer().fit(X_train)"
   ]
  },
  {
   "cell_type": "code",
   "execution_count": null,
   "metadata": {
    "_cell_guid": "e4c2e660-e592-4871-b7b0-cae08e0e40af",
    "_uuid": "db1b87cad194575b09a6ef7c8474736ef4250554"
   },
   "outputs": [],
   "source": [
    "X_train = pd.DataFrame(imputer.transform(X_train), columns=X_train.columns)\n",
    "X_test  = pd.DataFrame(imputer.transform(X_test),  columns=X_test.columns)"
   ]
  },
  {
   "cell_type": "markdown",
   "metadata": {
    "_cell_guid": "d241b358-7f0b-44d3-86cd-d2d98d5dbf9e",
    "_uuid": "e91e0c1eb2783fa8701c4c1e45b01743c6d5f934"
   },
   "source": [
    "## Standardize the data\n",
    "<a id=\"7.3\"></a>"
   ]
  },
  {
   "cell_type": "markdown",
   "metadata": {
    "_cell_guid": "55f362d4-9e8a-43c7-a17d-48908fb1c66b",
    "_uuid": "a23991734ea1e185d9dab2f67f5098c9c515e93a"
   },
   "source": [
    "Shift and scale each column individually so that it has zero mean and unit variance. This will help to train the linear models.\n",
    "\n",
    "Train the scaler using only the training data to prevent test set leakage."
   ]
  },
  {
   "cell_type": "code",
   "execution_count": null,
   "metadata": {
    "_cell_guid": "e3811aa0-2b4e-4c07-8e81-f7e3a4b78162",
    "_uuid": "595deb455cbc792529daf83a78a70b9793dfd411"
   },
   "outputs": [],
   "source": [
    "from sklearn.preprocessing import StandardScaler"
   ]
  },
  {
   "cell_type": "code",
   "execution_count": null,
   "metadata": {
    "_cell_guid": "543d7769-a4fb-4fdd-9be3-648c12d4977a",
    "_uuid": "2fbc17402c0a863c1058859be0560b52b327bdc9"
   },
   "outputs": [],
   "source": [
    "scaler = StandardScaler().fit(X_train)"
   ]
  },
  {
   "cell_type": "code",
   "execution_count": null,
   "metadata": {
    "_cell_guid": "5f86cfff-0b10-4ff4-b136-0fb51edf50af",
    "_uuid": "f73bd45195b53ff5edec0b13bf9db8b133431ac1"
   },
   "outputs": [],
   "source": [
    "X_train = pd.DataFrame(scaler.transform(X_train), columns=X_train.columns)\n",
    "X_test  = pd.DataFrame(scaler.transform(X_test),  columns=X_test.columns)"
   ]
  },
  {
   "cell_type": "markdown",
   "metadata": {},
   "source": [
    "## Automatic feature selection"
   ]
  },
  {
   "cell_type": "code",
   "execution_count": null,
   "metadata": {},
   "outputs": [],
   "source": [
    "from sklearn.feature_selection import SelectKBest, mutual_info_classif"
   ]
  },
  {
   "cell_type": "code",
   "execution_count": null,
   "metadata": {},
   "outputs": [],
   "source": [
    "selector = SelectKBest(mutual_info_classif, k=15)"
   ]
  },
  {
   "cell_type": "code",
   "execution_count": null,
   "metadata": {},
   "outputs": [],
   "source": [
    "selector.fit(X_train.iloc[1:50000], y_train.iloc[1:50000])"
   ]
  },
  {
   "cell_type": "code",
   "execution_count": null,
   "metadata": {},
   "outputs": [],
   "source": [
    "X_train.shape"
   ]
  },
  {
   "cell_type": "code",
   "execution_count": null,
   "metadata": {},
   "outputs": [],
   "source": [
    "X_test.shape"
   ]
  },
  {
   "cell_type": "code",
   "execution_count": null,
   "metadata": {},
   "outputs": [],
   "source": [
    "X_train = selector.transform(X_train)\n",
    "X_test  = selector.transform(X_test)"
   ]
  },
  {
   "cell_type": "code",
   "execution_count": null,
   "metadata": {},
   "outputs": [],
   "source": [
    "X_train.shape"
   ]
  },
  {
   "cell_type": "code",
   "execution_count": null,
   "metadata": {},
   "outputs": [],
   "source": [
    "X_test.shape"
   ]
  },
  {
   "cell_type": "markdown",
   "metadata": {
    "_cell_guid": "52309b77-d97d-412a-b20f-da81f44a486f",
    "_uuid": "bbabe5a3810756b27f10e862f3d7ea34a21a20f8"
   },
   "source": [
    "# Predictive Modeling: SGDClassifier\n",
    "<a id=\"8\"></a>"
   ]
  },
  {
   "cell_type": "markdown",
   "metadata": {
    "_cell_guid": "fc774c42-47e6-427a-ac9c-a4bdbf7b5837",
    "_uuid": "39ac0b9f118cbb5b11d6749f2ec3f8aa3f97ac6d"
   },
   "source": [
    "I decided to use a SGD Classifier by looking at the machine learning flowchart here: http://scikit-learn.org/stable/tutorial/machine_learning_map/index.html.\n",
    "\n",
    "The SGDClassifier estimator implements linear classifiers (SVM, logistic regression, a.o.) with SGD training. The linear classifier is chosen by the `loss` hyperparameter."
   ]
  },
  {
   "cell_type": "code",
   "execution_count": null,
   "metadata": {
    "_cell_guid": "81e2ef8e-37af-44e5-a802-8ea4b028c5f8",
    "_uuid": "1799e7f0f05fed4064007a5cec36869eb3a43ba9"
   },
   "outputs": [],
   "source": [
    "from sklearn.linear_model import SGDClassifier\n",
    "from sklearn.model_selection import GridSearchCV\n",
    "from sklearn.metrics import matthews_corrcoef, make_scorer"
   ]
  },
  {
   "cell_type": "markdown",
   "metadata": {
    "_cell_guid": "04560103-0efe-4ace-831b-be73ece4fe7b",
    "_uuid": "4476709021bd10a8e39d8f7e99e8fdf4adcb6970"
   },
   "source": [
    "## Train with grid search\n",
    "<a id=\"8.1\"></a>"
   ]
  },
  {
   "cell_type": "markdown",
   "metadata": {
    "_cell_guid": "b7460548-ee72-4f66-b921-2ea68bd5db24",
    "_uuid": "edd6b1de60cf7b9da054d0259ea83e8b4e4e8719"
   },
   "source": [
    "We're going to search through many hyperparameters of SGDClassifier using an exhaustive grid search with 3-fold cross-validation, implemented in GridSearchCV.\n",
    "\n",
    "Here are the hyperparameters that we'll try:"
   ]
  },
  {
   "cell_type": "code",
   "execution_count": null,
   "metadata": {
    "_cell_guid": "7de32018-fcad-45b2-b770-3c29b075d3d5",
    "_uuid": "1508be5b632d730bcd308afd299aa7e4d03906b2"
   },
   "outputs": [],
   "source": [
    "param_grid = [{'loss': ['hinge'],\n",
    "               'alpha': [10.0**k for k in range(-3, 3)],\n",
    "               'class_weight': [None, 'balanced']},\n",
    "              {'loss': ['log'],\n",
    "               'alpha': [10.0**k for k in range(-3, 3)],\n",
    "               'penalty': ['l2', 'l1']}]"
   ]
  },
  {
   "cell_type": "markdown",
   "metadata": {
    "_cell_guid": "9fb73eb0-d7cc-4335-bdd0-e4297f358732",
    "_uuid": "2de3c9d4458c1e18531be4b3271ce83895bb9ad2"
   },
   "source": [
    "Instantiate the grid estimator. We'll use the Matthews correlation coefficient as our scoring metric."
   ]
  },
  {
   "cell_type": "code",
   "execution_count": null,
   "metadata": {
    "_cell_guid": "c016e122-86dd-4c96-88c2-a901fe48cf70",
    "_uuid": "8144ec0a936a93a1fbf5e2dd00cd0082dbc40782"
   },
   "outputs": [],
   "source": [
    "grid = GridSearchCV(estimator=SGDClassifier(max_iter=1000, tol=1e-3, random_state=random_state, warm_start=True), param_grid=param_grid, scoring=make_scorer(matthews_corrcoef), n_jobs=4, pre_dispatch=8, cv=5, verbose=1)"
   ]
  },
  {
   "cell_type": "markdown",
   "metadata": {
    "_cell_guid": "a486c903-f33c-41a2-89bc-ad1b0d3e1fb3",
    "_uuid": "536169e18eb2d6428b9abb8029705e6fd54c8390"
   },
   "source": [
    "Run the grid search (this could take some time)."
   ]
  },
  {
   "cell_type": "code",
   "execution_count": null,
   "metadata": {
    "_cell_guid": "b907b40c-402d-4d4a-a919-e4b63e0a832d",
    "_uuid": "76e6c2e828e670a1494d4d4fbec01f232f067512"
   },
   "outputs": [],
   "source": [
    "grid.fit(X_train, y_train)"
   ]
  },
  {
   "cell_type": "markdown",
   "metadata": {
    "_cell_guid": "67901f97-33dc-4ff0-8968-127eda9da452",
    "_uuid": "a6829cf727f13a804180637da8cfc8477754b8c6"
   },
   "source": [
    "Hyperparameters that gave the best results on the hold out data:"
   ]
  },
  {
   "cell_type": "code",
   "execution_count": null,
   "metadata": {
    "_cell_guid": "14983fb4-d45a-431d-9c03-20d737862cc7",
    "_uuid": "fffc4de31000514e733ccd7c8f0aac9306226644"
   },
   "outputs": [],
   "source": [
    "grid.best_params_"
   ]
  },
  {
   "cell_type": "markdown",
   "metadata": {},
   "source": [
    "Mean cross-validated MCC score of the best estimator:"
   ]
  },
  {
   "cell_type": "code",
   "execution_count": null,
   "metadata": {},
   "outputs": [],
   "source": [
    "grid.best_score_"
   ]
  },
  {
   "cell_type": "markdown",
   "metadata": {},
   "source": [
    "Weights assigned to the features by the best estimator:"
   ]
  },
  {
   "cell_type": "code",
   "execution_count": null,
   "metadata": {},
   "outputs": [],
   "source": [
    "plt.figure(figsize=(6,4), dpi=90)\n",
    "sns.barplot(y=np.arange(0,15), x=grid.best_estimator_.coef_[0,:], orient='h')\n",
    "plt.title(\"Classifier Weights\")\n",
    "plt.xlabel(\"classifier weight\")"
   ]
  },
  {
   "cell_type": "markdown",
   "metadata": {
    "_cell_guid": "61ffd538-9579-4638-8156-bcb3f29b39ab",
    "_uuid": "f3b87036a9ae078b8a9cc36ce5b47f734059358c"
   },
   "source": [
    "## Test set evaluation\n",
    "<a id=\"8.2\"></a>"
   ]
  },
  {
   "cell_type": "code",
   "execution_count": null,
   "metadata": {},
   "outputs": [],
   "source": [
    "from sklearn.metrics import confusion_matrix, classification_report, matthews_corrcoef, cohen_kappa_score, accuracy_score, average_precision_score, roc_auc_score"
   ]
  },
  {
   "cell_type": "code",
   "execution_count": null,
   "metadata": {},
   "outputs": [],
   "source": [
    "def classification_eval(estimator, X_test, y_test):\n",
    "    \"\"\"\n",
    "    Print several metrics of classification performance of an estimator, given features X_test and true labels y_test.\n",
    "    \n",
    "    Input: estimator or GridSearchCV instance, X_test, y_test\n",
    "    Returns: text printout of metrics\n",
    "    \"\"\"\n",
    "    y_pred = estimator.predict(X_test)\n",
    "    \n",
    "    # Number of decimal places based on number of samples\n",
    "    dec = np.int64(np.ceil(np.log10(len(y_test))))\n",
    "    \n",
    "    print('Confusion matrix')\n",
    "    print(confusion_matrix(y_test, y_pred), '\\n')\n",
    "    \n",
    "    print('Classification report')\n",
    "    print(classification_report(y_test, y_pred, digits=dec))\n",
    "    \n",
    "    print('Scalar metrics')\n",
    "    format_str = '%%13s = %%.%if' % dec\n",
    "    print(format_str % ('MCC', matthews_corrcoef(y_test, y_pred)))\n",
    "    if y_test.nunique() <= 2: # Additional metrics for binary classification\n",
    "        try:\n",
    "            y_score = estimator.predict_proba(X_test)[:,1]\n",
    "        except:\n",
    "            y_score = estimator.decision_function(X_test)\n",
    "        print(format_str % ('AUPRC', average_precision_score(y_test, y_score)))\n",
    "        print(format_str % ('AUROCC', roc_auc_score(y_test, y_score)))\n",
    "    print(format_str % (\"Cohen's kappa\", cohen_kappa_score(y_test, y_pred)))\n",
    "    print(format_str % ('Accuracy', accuracy_score(y_test, y_pred)))\n",
    "    # Add Informedness\n",
    "    # Add Markedness\n",
    "    # Add Fleiss' kappa"
   ]
  },
  {
   "cell_type": "markdown",
   "metadata": {},
   "source": [
    "Test set evaluation metrics:"
   ]
  },
  {
   "cell_type": "code",
   "execution_count": null,
   "metadata": {},
   "outputs": [],
   "source": [
    "classification_eval(grid, X_test, y_test)"
   ]
  }
 ],
 "metadata": {
  "kernelspec": {
   "display_name": "Python 3",
   "language": "python",
   "name": "python3"
  },
  "language_info": {
   "codemirror_mode": {
    "name": "ipython",
    "version": 3
   },
   "file_extension": ".py",
   "mimetype": "text/x-python",
   "name": "python",
   "nbconvert_exporter": "python",
   "pygments_lexer": "ipython3",
   "version": "3.6.5"
  }
 },
 "nbformat": 4,
 "nbformat_minor": 1
}
