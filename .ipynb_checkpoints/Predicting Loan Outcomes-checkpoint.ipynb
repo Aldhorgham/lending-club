{
 "cells": [
  {
   "cell_type": "markdown",
   "metadata": {},
   "source": [
    "To-do:\n",
    "* Update table of contents\n",
    "* Write introduction\n",
    "* Write conclusion"
   ]
  },
  {
   "cell_type": "markdown",
   "metadata": {
    "_cell_guid": "1e8676bb-b153-45c9-a4ab-13b883e8e896",
    "_uuid": "90e7167782a3bdb675b5b6c581ec99d6920c8939"
   },
   "source": [
    "# Predicting Loan Outcomes on Lending Club\n",
    "\n",
    "***By Joe Corliss***"
   ]
  },
  {
   "cell_type": "markdown",
   "metadata": {
    "_cell_guid": "40dc37f2-37a8-4f73-897d-b28a8755e88b",
    "_uuid": "b645d94d7d7103b4000a089c42fca8afa54bac2e"
   },
   "source": [
    "## Table of Contents\n",
    "\n",
    "1. [Summary](#1)\n",
    "    1. [Spoilers](#1.1)"
   ]
  },
  {
   "cell_type": "markdown",
   "metadata": {},
   "source": [
    "# Introduction"
   ]
  },
  {
   "cell_type": "markdown",
   "metadata": {
    "_cell_guid": "1e8676bb-b153-45c9-a4ab-13b883e8e896",
    "_uuid": "90e7167782a3bdb675b5b6c581ec99d6920c8939"
   },
   "source": [
    "[Dataset 1](https://www.kaggle.com/wordsforthewise/lending-club) - The dataset used in this project, hosted on Kaggle\n",
    "\n",
    "[Dataset 2](https://www.kaggle.com/wendykan/lending-club-loan-data) - Another Lending Club dataset on Kaggle, not used in this project\n",
    "\n",
    "[Kaggle notebook](https://www.kaggle.com/pileatedperch/predicting-loan-status-mcc-0-73) - This notebook on Kaggle\n",
    "\n",
    "[Lending Club statistics](https://www.lendingclub.com/info/download-data.action) - Original data source\n",
    "\n",
    "[GitHub repository](https://github.com/jgcorliss/lending-club) - This project on GitHub\n",
    "\n",
    "[EXPAND INTRODUCTION] The goal of this project is to predict loan charge-offs only using data available at the time of the loan application."
   ]
  },
  {
   "cell_type": "markdown",
   "metadata": {
    "_cell_guid": "b018242b-b3c5-4245-b5d7-ea6a3f28d4c8",
    "_uuid": "2053f9b0b897cad21155cca0a00c537bfd1bb340"
   },
   "source": [
    "# Import the Data\n",
    "<a id=\"2\"></a>"
   ]
  },
  {
   "cell_type": "code",
   "execution_count": 1,
   "metadata": {
    "_cell_guid": "d237539e-2aa1-438e-a2c6-39a48c47211c",
    "_uuid": "3a39bcc870d823d4923c7ec9d8acb62c733bebaa"
   },
   "outputs": [],
   "source": [
    "import numpy as np\n",
    "import scipy as sp\n",
    "import pandas as pd\n",
    "import matplotlib as mpl\n",
    "import matplotlib.pyplot as plt\n",
    "import seaborn as sns\n",
    "\n",
    "# Pandas options\n",
    "pd.set_option('display.max_colwidth', 1000, 'display.max_rows', None, 'display.max_columns', None)\n",
    "\n",
    "# Plotting options\n",
    "%matplotlib inline\n",
    "mpl.style.use('ggplot')\n",
    "sns.set(style='whitegrid')"
   ]
  },
  {
   "cell_type": "markdown",
   "metadata": {
    "_cell_guid": "4c0f7ef4-37a3-4c71-847f-38f924706540",
    "_uuid": "c4b355a5d50e067d1461d6504cb04d827f65c6cd"
   },
   "source": [
    "Read the data into a pandas dataframe."
   ]
  },
  {
   "cell_type": "code",
   "execution_count": 2,
   "metadata": {
    "_cell_guid": "b54dd1e5-bbf7-4014-9434-3495a578e27f",
    "_uuid": "370f21d16cb87752040bb20a82a9115db2e36cb5"
   },
   "outputs": [
    {
     "name": "stderr",
     "output_type": "stream",
     "text": [
      "C:\\Users\\Joe\\Anaconda3\\lib\\site-packages\\IPython\\core\\interactiveshell.py:2728: DtypeWarning: Columns (0,18,48,58,117,128,129,130,133,134,135,138,144,145,146) have mixed types. Specify dtype option on import or set low_memory=False.\n",
      "  interactivity=interactivity, compiler=compiler, result=result)\n"
     ]
    }
   ],
   "source": [
    "loans = pd.read_csv('accepted_2007_to_2017Q3.csv.gz', compression='gzip')"
   ]
  },
  {
   "cell_type": "markdown",
   "metadata": {
    "_cell_guid": "b195b476-a58b-4a6b-9745-f26a86e9c61c",
    "_uuid": "ee053ebca5fbc378cf651939bde5e378e5d0cdae"
   },
   "source": [
    "Check basic dataframe info."
   ]
  },
  {
   "cell_type": "code",
   "execution_count": 3,
   "metadata": {
    "_cell_guid": "f4a7c9a2-ff89-4219-8ff9-2324bef16bdf",
    "_uuid": "00c703a1943e72a68b83c4ddf46c00310656e22c"
   },
   "outputs": [
    {
     "name": "stdout",
     "output_type": "stream",
     "text": [
      "<class 'pandas.core.frame.DataFrame'>\n",
      "RangeIndex: 1646801 entries, 0 to 1646800\n",
      "Columns: 150 entries, id to settlement_term\n",
      "dtypes: float64(113), object(37)\n",
      "memory usage: 1.8+ GB\n"
     ]
    }
   ],
   "source": [
    "loans.info()"
   ]
  },
  {
   "cell_type": "markdown",
   "metadata": {
    "_cell_guid": "53dad5c0-e147-4a75-9143-263c25aca443",
    "_uuid": "9174c9f401807a208e48aae2553eb69fa807f1cf"
   },
   "source": [
    "Let's view the data from some randomly chosen loans:"
   ]
  },
  {
   "cell_type": "code",
   "execution_count": 4,
   "metadata": {
    "_cell_guid": "ecdf5e79-8e7d-4e10-9d6a-bbed279cf07d",
    "_uuid": "927c3589a9c7ae39e78c2ad42f569101442cbb48",
    "scrolled": true
   },
   "outputs": [
    {
     "data": {
      "text/html": [
       "<div>\n",
       "<style scoped>\n",
       "    .dataframe tbody tr th:only-of-type {\n",
       "        vertical-align: middle;\n",
       "    }\n",
       "\n",
       "    .dataframe tbody tr th {\n",
       "        vertical-align: top;\n",
       "    }\n",
       "\n",
       "    .dataframe thead th {\n",
       "        text-align: right;\n",
       "    }\n",
       "</style>\n",
       "<table border=\"1\" class=\"dataframe\">\n",
       "  <thead>\n",
       "    <tr style=\"text-align: right;\">\n",
       "      <th></th>\n",
       "      <th>id</th>\n",
       "      <th>member_id</th>\n",
       "      <th>loan_amnt</th>\n",
       "      <th>funded_amnt</th>\n",
       "      <th>funded_amnt_inv</th>\n",
       "      <th>term</th>\n",
       "      <th>int_rate</th>\n",
       "      <th>installment</th>\n",
       "      <th>grade</th>\n",
       "      <th>sub_grade</th>\n",
       "      <th>emp_title</th>\n",
       "      <th>emp_length</th>\n",
       "      <th>home_ownership</th>\n",
       "      <th>annual_inc</th>\n",
       "      <th>verification_status</th>\n",
       "      <th>issue_d</th>\n",
       "      <th>loan_status</th>\n",
       "      <th>pymnt_plan</th>\n",
       "      <th>desc</th>\n",
       "      <th>purpose</th>\n",
       "      <th>title</th>\n",
       "      <th>zip_code</th>\n",
       "      <th>addr_state</th>\n",
       "      <th>dti</th>\n",
       "      <th>delinq_2yrs</th>\n",
       "      <th>earliest_cr_line</th>\n",
       "      <th>fico_range_low</th>\n",
       "      <th>fico_range_high</th>\n",
       "      <th>inq_last_6mths</th>\n",
       "      <th>mths_since_last_delinq</th>\n",
       "      <th>mths_since_last_record</th>\n",
       "      <th>open_acc</th>\n",
       "      <th>pub_rec</th>\n",
       "      <th>revol_bal</th>\n",
       "      <th>revol_util</th>\n",
       "      <th>total_acc</th>\n",
       "      <th>initial_list_status</th>\n",
       "      <th>out_prncp</th>\n",
       "      <th>out_prncp_inv</th>\n",
       "      <th>total_pymnt</th>\n",
       "      <th>total_pymnt_inv</th>\n",
       "      <th>total_rec_prncp</th>\n",
       "      <th>total_rec_int</th>\n",
       "      <th>total_rec_late_fee</th>\n",
       "      <th>recoveries</th>\n",
       "      <th>collection_recovery_fee</th>\n",
       "      <th>last_pymnt_d</th>\n",
       "      <th>last_pymnt_amnt</th>\n",
       "      <th>next_pymnt_d</th>\n",
       "      <th>last_credit_pull_d</th>\n",
       "      <th>last_fico_range_high</th>\n",
       "      <th>last_fico_range_low</th>\n",
       "      <th>collections_12_mths_ex_med</th>\n",
       "      <th>mths_since_last_major_derog</th>\n",
       "      <th>policy_code</th>\n",
       "      <th>application_type</th>\n",
       "      <th>annual_inc_joint</th>\n",
       "      <th>dti_joint</th>\n",
       "      <th>verification_status_joint</th>\n",
       "      <th>acc_now_delinq</th>\n",
       "      <th>tot_coll_amt</th>\n",
       "      <th>tot_cur_bal</th>\n",
       "      <th>open_acc_6m</th>\n",
       "      <th>open_act_il</th>\n",
       "      <th>open_il_12m</th>\n",
       "      <th>open_il_24m</th>\n",
       "      <th>mths_since_rcnt_il</th>\n",
       "      <th>total_bal_il</th>\n",
       "      <th>il_util</th>\n",
       "      <th>open_rv_12m</th>\n",
       "      <th>open_rv_24m</th>\n",
       "      <th>max_bal_bc</th>\n",
       "      <th>all_util</th>\n",
       "      <th>total_rev_hi_lim</th>\n",
       "      <th>inq_fi</th>\n",
       "      <th>total_cu_tl</th>\n",
       "      <th>inq_last_12m</th>\n",
       "      <th>acc_open_past_24mths</th>\n",
       "      <th>avg_cur_bal</th>\n",
       "      <th>bc_open_to_buy</th>\n",
       "      <th>bc_util</th>\n",
       "      <th>chargeoff_within_12_mths</th>\n",
       "      <th>delinq_amnt</th>\n",
       "      <th>mo_sin_old_il_acct</th>\n",
       "      <th>mo_sin_old_rev_tl_op</th>\n",
       "      <th>mo_sin_rcnt_rev_tl_op</th>\n",
       "      <th>mo_sin_rcnt_tl</th>\n",
       "      <th>mort_acc</th>\n",
       "      <th>mths_since_recent_bc</th>\n",
       "      <th>mths_since_recent_bc_dlq</th>\n",
       "      <th>mths_since_recent_inq</th>\n",
       "      <th>mths_since_recent_revol_delinq</th>\n",
       "      <th>num_accts_ever_120_pd</th>\n",
       "      <th>num_actv_bc_tl</th>\n",
       "      <th>num_actv_rev_tl</th>\n",
       "      <th>num_bc_sats</th>\n",
       "      <th>num_bc_tl</th>\n",
       "      <th>num_il_tl</th>\n",
       "      <th>num_op_rev_tl</th>\n",
       "      <th>num_rev_accts</th>\n",
       "      <th>num_rev_tl_bal_gt_0</th>\n",
       "      <th>num_sats</th>\n",
       "      <th>num_tl_120dpd_2m</th>\n",
       "      <th>num_tl_30dpd</th>\n",
       "      <th>num_tl_90g_dpd_24m</th>\n",
       "      <th>num_tl_op_past_12m</th>\n",
       "      <th>pct_tl_nvr_dlq</th>\n",
       "      <th>percent_bc_gt_75</th>\n",
       "      <th>pub_rec_bankruptcies</th>\n",
       "      <th>tax_liens</th>\n",
       "      <th>tot_hi_cred_lim</th>\n",
       "      <th>total_bal_ex_mort</th>\n",
       "      <th>total_bc_limit</th>\n",
       "      <th>total_il_high_credit_limit</th>\n",
       "      <th>revol_bal_joint</th>\n",
       "      <th>sec_app_fico_range_low</th>\n",
       "      <th>sec_app_fico_range_high</th>\n",
       "      <th>sec_app_earliest_cr_line</th>\n",
       "      <th>sec_app_inq_last_6mths</th>\n",
       "      <th>sec_app_mort_acc</th>\n",
       "      <th>sec_app_open_acc</th>\n",
       "      <th>sec_app_revol_util</th>\n",
       "      <th>sec_app_open_act_il</th>\n",
       "      <th>sec_app_num_rev_accts</th>\n",
       "      <th>sec_app_chargeoff_within_12_mths</th>\n",
       "      <th>sec_app_collections_12_mths_ex_med</th>\n",
       "      <th>sec_app_mths_since_last_major_derog</th>\n",
       "      <th>hardship_flag</th>\n",
       "      <th>hardship_type</th>\n",
       "      <th>hardship_reason</th>\n",
       "      <th>hardship_status</th>\n",
       "      <th>deferral_term</th>\n",
       "      <th>hardship_amount</th>\n",
       "      <th>hardship_start_date</th>\n",
       "      <th>hardship_end_date</th>\n",
       "      <th>payment_plan_start_date</th>\n",
       "      <th>hardship_length</th>\n",
       "      <th>hardship_dpd</th>\n",
       "      <th>hardship_loan_status</th>\n",
       "      <th>orig_projected_additional_accrued_interest</th>\n",
       "      <th>hardship_payoff_balance_amount</th>\n",
       "      <th>hardship_last_payment_amount</th>\n",
       "      <th>disbursement_method</th>\n",
       "      <th>debt_settlement_flag</th>\n",
       "      <th>debt_settlement_flag_date</th>\n",
       "      <th>settlement_status</th>\n",
       "      <th>settlement_date</th>\n",
       "      <th>settlement_amount</th>\n",
       "      <th>settlement_percentage</th>\n",
       "      <th>settlement_term</th>\n",
       "    </tr>\n",
       "  </thead>\n",
       "  <tbody>\n",
       "    <tr>\n",
       "      <th>333821</th>\n",
       "      <td>65374575</td>\n",
       "      <td>NaN</td>\n",
       "      <td>4200.0</td>\n",
       "      <td>4200.0</td>\n",
       "      <td>4200.0</td>\n",
       "      <td>36 months</td>\n",
       "      <td>10.99</td>\n",
       "      <td>137.49</td>\n",
       "      <td>B</td>\n",
       "      <td>B4</td>\n",
       "      <td>Director of Client Service</td>\n",
       "      <td>4 years</td>\n",
       "      <td>RENT</td>\n",
       "      <td>41000.0</td>\n",
       "      <td>Verified</td>\n",
       "      <td>Nov-2015</td>\n",
       "      <td>Charged Off</td>\n",
       "      <td>n</td>\n",
       "      <td>NaN</td>\n",
       "      <td>debt_consolidation</td>\n",
       "      <td>Debt consolidation</td>\n",
       "      <td>080xx</td>\n",
       "      <td>NJ</td>\n",
       "      <td>24.09</td>\n",
       "      <td>0.0</td>\n",
       "      <td>Nov-2007</td>\n",
       "      <td>735.0</td>\n",
       "      <td>739.0</td>\n",
       "      <td>1.0</td>\n",
       "      <td>NaN</td>\n",
       "      <td>NaN</td>\n",
       "      <td>16.0</td>\n",
       "      <td>0.0</td>\n",
       "      <td>3731.0</td>\n",
       "      <td>29.4</td>\n",
       "      <td>28.0</td>\n",
       "      <td>w</td>\n",
       "      <td>0.00</td>\n",
       "      <td>0.00</td>\n",
       "      <td>2137.610000</td>\n",
       "      <td>2137.61</td>\n",
       "      <td>1360.49</td>\n",
       "      <td>421.75</td>\n",
       "      <td>0.0</td>\n",
       "      <td>355.37</td>\n",
       "      <td>63.9666</td>\n",
       "      <td>Dec-2016</td>\n",
       "      <td>137.49</td>\n",
       "      <td>NaN</td>\n",
       "      <td>Dec-2017</td>\n",
       "      <td>549.0</td>\n",
       "      <td>545.0</td>\n",
       "      <td>0.0</td>\n",
       "      <td>NaN</td>\n",
       "      <td>1.0</td>\n",
       "      <td>Individual</td>\n",
       "      <td>NaN</td>\n",
       "      <td>NaN</td>\n",
       "      <td>NaN</td>\n",
       "      <td>0.0</td>\n",
       "      <td>0.0</td>\n",
       "      <td>68515.0</td>\n",
       "      <td>NaN</td>\n",
       "      <td>NaN</td>\n",
       "      <td>NaN</td>\n",
       "      <td>NaN</td>\n",
       "      <td>NaN</td>\n",
       "      <td>NaN</td>\n",
       "      <td>NaN</td>\n",
       "      <td>NaN</td>\n",
       "      <td>NaN</td>\n",
       "      <td>NaN</td>\n",
       "      <td>NaN</td>\n",
       "      <td>12700.0</td>\n",
       "      <td>NaN</td>\n",
       "      <td>NaN</td>\n",
       "      <td>NaN</td>\n",
       "      <td>6.0</td>\n",
       "      <td>4568.0</td>\n",
       "      <td>7169.0</td>\n",
       "      <td>34.2</td>\n",
       "      <td>0.0</td>\n",
       "      <td>0.0</td>\n",
       "      <td>86.0</td>\n",
       "      <td>96.0</td>\n",
       "      <td>2.0</td>\n",
       "      <td>2.0</td>\n",
       "      <td>0.0</td>\n",
       "      <td>2.0</td>\n",
       "      <td>NaN</td>\n",
       "      <td>2.0</td>\n",
       "      <td>NaN</td>\n",
       "      <td>0.0</td>\n",
       "      <td>3.0</td>\n",
       "      <td>3.0</td>\n",
       "      <td>5.0</td>\n",
       "      <td>6.0</td>\n",
       "      <td>11.0</td>\n",
       "      <td>8.0</td>\n",
       "      <td>17.0</td>\n",
       "      <td>3.0</td>\n",
       "      <td>16.0</td>\n",
       "      <td>0.0</td>\n",
       "      <td>0.0</td>\n",
       "      <td>0.0</td>\n",
       "      <td>3.0</td>\n",
       "      <td>100.0</td>\n",
       "      <td>0.0</td>\n",
       "      <td>0.0</td>\n",
       "      <td>0.0</td>\n",
       "      <td>82363.0</td>\n",
       "      <td>68515.0</td>\n",
       "      <td>10900.0</td>\n",
       "      <td>69663.0</td>\n",
       "      <td>NaN</td>\n",
       "      <td>NaN</td>\n",
       "      <td>NaN</td>\n",
       "      <td>NaN</td>\n",
       "      <td>NaN</td>\n",
       "      <td>NaN</td>\n",
       "      <td>NaN</td>\n",
       "      <td>NaN</td>\n",
       "      <td>NaN</td>\n",
       "      <td>NaN</td>\n",
       "      <td>NaN</td>\n",
       "      <td>NaN</td>\n",
       "      <td>NaN</td>\n",
       "      <td>N</td>\n",
       "      <td>NaN</td>\n",
       "      <td>NaN</td>\n",
       "      <td>NaN</td>\n",
       "      <td>NaN</td>\n",
       "      <td>NaN</td>\n",
       "      <td>NaN</td>\n",
       "      <td>NaN</td>\n",
       "      <td>NaN</td>\n",
       "      <td>NaN</td>\n",
       "      <td>NaN</td>\n",
       "      <td>NaN</td>\n",
       "      <td>NaN</td>\n",
       "      <td>NaN</td>\n",
       "      <td>NaN</td>\n",
       "      <td>Cash</td>\n",
       "      <td>N</td>\n",
       "      <td>NaN</td>\n",
       "      <td>NaN</td>\n",
       "      <td>NaN</td>\n",
       "      <td>NaN</td>\n",
       "      <td>NaN</td>\n",
       "      <td>NaN</td>\n",
       "    </tr>\n",
       "    <tr>\n",
       "      <th>1178344</th>\n",
       "      <td>84475031</td>\n",
       "      <td>NaN</td>\n",
       "      <td>24000.0</td>\n",
       "      <td>24000.0</td>\n",
       "      <td>24000.0</td>\n",
       "      <td>60 months</td>\n",
       "      <td>13.99</td>\n",
       "      <td>558.32</td>\n",
       "      <td>C</td>\n",
       "      <td>C3</td>\n",
       "      <td>Sr. ADMINISTRATIVE ASSISTANT</td>\n",
       "      <td>10+ years</td>\n",
       "      <td>RENT</td>\n",
       "      <td>60000.0</td>\n",
       "      <td>Not Verified</td>\n",
       "      <td>Jul-2016</td>\n",
       "      <td>Current</td>\n",
       "      <td>n</td>\n",
       "      <td>NaN</td>\n",
       "      <td>credit_card</td>\n",
       "      <td>Credit card refinancing</td>\n",
       "      <td>067xx</td>\n",
       "      <td>CT</td>\n",
       "      <td>25.08</td>\n",
       "      <td>0.0</td>\n",
       "      <td>Sep-1976</td>\n",
       "      <td>690.0</td>\n",
       "      <td>694.0</td>\n",
       "      <td>0.0</td>\n",
       "      <td>NaN</td>\n",
       "      <td>105.0</td>\n",
       "      <td>8.0</td>\n",
       "      <td>1.0</td>\n",
       "      <td>17738.0</td>\n",
       "      <td>69.8</td>\n",
       "      <td>18.0</td>\n",
       "      <td>w</td>\n",
       "      <td>18796.72</td>\n",
       "      <td>18796.72</td>\n",
       "      <td>9553.440000</td>\n",
       "      <td>9553.44</td>\n",
       "      <td>5203.28</td>\n",
       "      <td>4350.16</td>\n",
       "      <td>0.0</td>\n",
       "      <td>0.00</td>\n",
       "      <td>0.0000</td>\n",
       "      <td>Dec-2017</td>\n",
       "      <td>558.32</td>\n",
       "      <td>Jan-2018</td>\n",
       "      <td>Dec-2017</td>\n",
       "      <td>679.0</td>\n",
       "      <td>675.0</td>\n",
       "      <td>0.0</td>\n",
       "      <td>NaN</td>\n",
       "      <td>1.0</td>\n",
       "      <td>Individual</td>\n",
       "      <td>NaN</td>\n",
       "      <td>NaN</td>\n",
       "      <td>NaN</td>\n",
       "      <td>0.0</td>\n",
       "      <td>0.0</td>\n",
       "      <td>35029.0</td>\n",
       "      <td>0.0</td>\n",
       "      <td>2.0</td>\n",
       "      <td>0.0</td>\n",
       "      <td>1.0</td>\n",
       "      <td>21.0</td>\n",
       "      <td>17291.0</td>\n",
       "      <td>43.0</td>\n",
       "      <td>1.0</td>\n",
       "      <td>2.0</td>\n",
       "      <td>6348.0</td>\n",
       "      <td>54.0</td>\n",
       "      <td>25400.0</td>\n",
       "      <td>0.0</td>\n",
       "      <td>3.0</td>\n",
       "      <td>2.0</td>\n",
       "      <td>3.0</td>\n",
       "      <td>4379.0</td>\n",
       "      <td>1853.0</td>\n",
       "      <td>84.4</td>\n",
       "      <td>0.0</td>\n",
       "      <td>0.0</td>\n",
       "      <td>107.0</td>\n",
       "      <td>478.0</td>\n",
       "      <td>7.0</td>\n",
       "      <td>7.0</td>\n",
       "      <td>0.0</td>\n",
       "      <td>23.0</td>\n",
       "      <td>NaN</td>\n",
       "      <td>12.0</td>\n",
       "      <td>NaN</td>\n",
       "      <td>0.0</td>\n",
       "      <td>2.0</td>\n",
       "      <td>4.0</td>\n",
       "      <td>2.0</td>\n",
       "      <td>5.0</td>\n",
       "      <td>6.0</td>\n",
       "      <td>6.0</td>\n",
       "      <td>12.0</td>\n",
       "      <td>4.0</td>\n",
       "      <td>8.0</td>\n",
       "      <td>0.0</td>\n",
       "      <td>0.0</td>\n",
       "      <td>0.0</td>\n",
       "      <td>1.0</td>\n",
       "      <td>100.0</td>\n",
       "      <td>50.0</td>\n",
       "      <td>1.0</td>\n",
       "      <td>0.0</td>\n",
       "      <td>65457.0</td>\n",
       "      <td>35029.0</td>\n",
       "      <td>11900.0</td>\n",
       "      <td>40057.0</td>\n",
       "      <td>NaN</td>\n",
       "      <td>NaN</td>\n",
       "      <td>NaN</td>\n",
       "      <td>NaN</td>\n",
       "      <td>NaN</td>\n",
       "      <td>NaN</td>\n",
       "      <td>NaN</td>\n",
       "      <td>NaN</td>\n",
       "      <td>NaN</td>\n",
       "      <td>NaN</td>\n",
       "      <td>NaN</td>\n",
       "      <td>NaN</td>\n",
       "      <td>NaN</td>\n",
       "      <td>N</td>\n",
       "      <td>NaN</td>\n",
       "      <td>NaN</td>\n",
       "      <td>NaN</td>\n",
       "      <td>NaN</td>\n",
       "      <td>NaN</td>\n",
       "      <td>NaN</td>\n",
       "      <td>NaN</td>\n",
       "      <td>NaN</td>\n",
       "      <td>NaN</td>\n",
       "      <td>NaN</td>\n",
       "      <td>NaN</td>\n",
       "      <td>NaN</td>\n",
       "      <td>NaN</td>\n",
       "      <td>NaN</td>\n",
       "      <td>Cash</td>\n",
       "      <td>N</td>\n",
       "      <td>NaN</td>\n",
       "      <td>NaN</td>\n",
       "      <td>NaN</td>\n",
       "      <td>NaN</td>\n",
       "      <td>NaN</td>\n",
       "      <td>NaN</td>\n",
       "    </tr>\n",
       "    <tr>\n",
       "      <th>1356138</th>\n",
       "      <td>79023006</td>\n",
       "      <td>NaN</td>\n",
       "      <td>4200.0</td>\n",
       "      <td>4200.0</td>\n",
       "      <td>4200.0</td>\n",
       "      <td>36 months</td>\n",
       "      <td>14.46</td>\n",
       "      <td>144.49</td>\n",
       "      <td>C</td>\n",
       "      <td>C4</td>\n",
       "      <td>Office/Cashier</td>\n",
       "      <td>10+ years</td>\n",
       "      <td>MORTGAGE</td>\n",
       "      <td>25000.0</td>\n",
       "      <td>Source Verified</td>\n",
       "      <td>May-2016</td>\n",
       "      <td>Current</td>\n",
       "      <td>n</td>\n",
       "      <td>NaN</td>\n",
       "      <td>debt_consolidation</td>\n",
       "      <td>Debt consolidation</td>\n",
       "      <td>458xx</td>\n",
       "      <td>OH</td>\n",
       "      <td>6.00</td>\n",
       "      <td>0.0</td>\n",
       "      <td>Jun-2005</td>\n",
       "      <td>660.0</td>\n",
       "      <td>664.0</td>\n",
       "      <td>0.0</td>\n",
       "      <td>NaN</td>\n",
       "      <td>48.0</td>\n",
       "      <td>5.0</td>\n",
       "      <td>1.0</td>\n",
       "      <td>1717.0</td>\n",
       "      <td>31.8</td>\n",
       "      <td>21.0</td>\n",
       "      <td>w</td>\n",
       "      <td>2208.97</td>\n",
       "      <td>2208.97</td>\n",
       "      <td>2738.560000</td>\n",
       "      <td>2738.56</td>\n",
       "      <td>1991.03</td>\n",
       "      <td>747.53</td>\n",
       "      <td>0.0</td>\n",
       "      <td>0.00</td>\n",
       "      <td>0.0000</td>\n",
       "      <td>Dec-2017</td>\n",
       "      <td>144.49</td>\n",
       "      <td>Jan-2018</td>\n",
       "      <td>Dec-2017</td>\n",
       "      <td>669.0</td>\n",
       "      <td>665.0</td>\n",
       "      <td>0.0</td>\n",
       "      <td>NaN</td>\n",
       "      <td>1.0</td>\n",
       "      <td>Individual</td>\n",
       "      <td>NaN</td>\n",
       "      <td>NaN</td>\n",
       "      <td>NaN</td>\n",
       "      <td>0.0</td>\n",
       "      <td>0.0</td>\n",
       "      <td>72213.0</td>\n",
       "      <td>0.0</td>\n",
       "      <td>0.0</td>\n",
       "      <td>0.0</td>\n",
       "      <td>0.0</td>\n",
       "      <td>45.0</td>\n",
       "      <td>0.0</td>\n",
       "      <td>NaN</td>\n",
       "      <td>2.0</td>\n",
       "      <td>2.0</td>\n",
       "      <td>0.0</td>\n",
       "      <td>32.0</td>\n",
       "      <td>5400.0</td>\n",
       "      <td>0.0</td>\n",
       "      <td>2.0</td>\n",
       "      <td>2.0</td>\n",
       "      <td>2.0</td>\n",
       "      <td>14443.0</td>\n",
       "      <td>NaN</td>\n",
       "      <td>NaN</td>\n",
       "      <td>0.0</td>\n",
       "      <td>0.0</td>\n",
       "      <td>125.0</td>\n",
       "      <td>131.0</td>\n",
       "      <td>12.0</td>\n",
       "      <td>12.0</td>\n",
       "      <td>1.0</td>\n",
       "      <td>NaN</td>\n",
       "      <td>NaN</td>\n",
       "      <td>6.0</td>\n",
       "      <td>NaN</td>\n",
       "      <td>0.0</td>\n",
       "      <td>0.0</td>\n",
       "      <td>2.0</td>\n",
       "      <td>0.0</td>\n",
       "      <td>5.0</td>\n",
       "      <td>9.0</td>\n",
       "      <td>4.0</td>\n",
       "      <td>11.0</td>\n",
       "      <td>2.0</td>\n",
       "      <td>4.0</td>\n",
       "      <td>0.0</td>\n",
       "      <td>0.0</td>\n",
       "      <td>0.0</td>\n",
       "      <td>2.0</td>\n",
       "      <td>100.0</td>\n",
       "      <td>NaN</td>\n",
       "      <td>1.0</td>\n",
       "      <td>0.0</td>\n",
       "      <td>86400.0</td>\n",
       "      <td>1717.0</td>\n",
       "      <td>0.0</td>\n",
       "      <td>0.0</td>\n",
       "      <td>NaN</td>\n",
       "      <td>NaN</td>\n",
       "      <td>NaN</td>\n",
       "      <td>NaN</td>\n",
       "      <td>NaN</td>\n",
       "      <td>NaN</td>\n",
       "      <td>NaN</td>\n",
       "      <td>NaN</td>\n",
       "      <td>NaN</td>\n",
       "      <td>NaN</td>\n",
       "      <td>NaN</td>\n",
       "      <td>NaN</td>\n",
       "      <td>NaN</td>\n",
       "      <td>N</td>\n",
       "      <td>NaN</td>\n",
       "      <td>NaN</td>\n",
       "      <td>NaN</td>\n",
       "      <td>NaN</td>\n",
       "      <td>NaN</td>\n",
       "      <td>NaN</td>\n",
       "      <td>NaN</td>\n",
       "      <td>NaN</td>\n",
       "      <td>NaN</td>\n",
       "      <td>NaN</td>\n",
       "      <td>NaN</td>\n",
       "      <td>NaN</td>\n",
       "      <td>NaN</td>\n",
       "      <td>NaN</td>\n",
       "      <td>Cash</td>\n",
       "      <td>N</td>\n",
       "      <td>NaN</td>\n",
       "      <td>NaN</td>\n",
       "      <td>NaN</td>\n",
       "      <td>NaN</td>\n",
       "      <td>NaN</td>\n",
       "      <td>NaN</td>\n",
       "    </tr>\n",
       "    <tr>\n",
       "      <th>430743</th>\n",
       "      <td>59571346</td>\n",
       "      <td>NaN</td>\n",
       "      <td>7500.0</td>\n",
       "      <td>7500.0</td>\n",
       "      <td>7500.0</td>\n",
       "      <td>36 months</td>\n",
       "      <td>10.99</td>\n",
       "      <td>245.51</td>\n",
       "      <td>B</td>\n",
       "      <td>B4</td>\n",
       "      <td>Business Analytics Admin</td>\n",
       "      <td>1 year</td>\n",
       "      <td>RENT</td>\n",
       "      <td>44000.0</td>\n",
       "      <td>Source Verified</td>\n",
       "      <td>Sep-2015</td>\n",
       "      <td>Fully Paid</td>\n",
       "      <td>n</td>\n",
       "      <td>NaN</td>\n",
       "      <td>debt_consolidation</td>\n",
       "      <td>Debt consolidation</td>\n",
       "      <td>347xx</td>\n",
       "      <td>FL</td>\n",
       "      <td>9.60</td>\n",
       "      <td>0.0</td>\n",
       "      <td>Dec-2003</td>\n",
       "      <td>690.0</td>\n",
       "      <td>694.0</td>\n",
       "      <td>0.0</td>\n",
       "      <td>NaN</td>\n",
       "      <td>NaN</td>\n",
       "      <td>5.0</td>\n",
       "      <td>0.0</td>\n",
       "      <td>7365.0</td>\n",
       "      <td>89.8</td>\n",
       "      <td>15.0</td>\n",
       "      <td>f</td>\n",
       "      <td>0.00</td>\n",
       "      <td>0.00</td>\n",
       "      <td>8462.482868</td>\n",
       "      <td>8462.48</td>\n",
       "      <td>7500.00</td>\n",
       "      <td>962.48</td>\n",
       "      <td>0.0</td>\n",
       "      <td>0.00</td>\n",
       "      <td>0.0000</td>\n",
       "      <td>Feb-2017</td>\n",
       "      <td>4520.59</td>\n",
       "      <td>NaN</td>\n",
       "      <td>Feb-2017</td>\n",
       "      <td>744.0</td>\n",
       "      <td>740.0</td>\n",
       "      <td>0.0</td>\n",
       "      <td>NaN</td>\n",
       "      <td>1.0</td>\n",
       "      <td>Individual</td>\n",
       "      <td>NaN</td>\n",
       "      <td>NaN</td>\n",
       "      <td>NaN</td>\n",
       "      <td>0.0</td>\n",
       "      <td>0.0</td>\n",
       "      <td>58405.0</td>\n",
       "      <td>NaN</td>\n",
       "      <td>NaN</td>\n",
       "      <td>NaN</td>\n",
       "      <td>NaN</td>\n",
       "      <td>NaN</td>\n",
       "      <td>NaN</td>\n",
       "      <td>NaN</td>\n",
       "      <td>NaN</td>\n",
       "      <td>NaN</td>\n",
       "      <td>NaN</td>\n",
       "      <td>NaN</td>\n",
       "      <td>8200.0</td>\n",
       "      <td>NaN</td>\n",
       "      <td>NaN</td>\n",
       "      <td>NaN</td>\n",
       "      <td>4.0</td>\n",
       "      <td>11681.0</td>\n",
       "      <td>151.0</td>\n",
       "      <td>97.5</td>\n",
       "      <td>0.0</td>\n",
       "      <td>0.0</td>\n",
       "      <td>96.0</td>\n",
       "      <td>140.0</td>\n",
       "      <td>13.0</td>\n",
       "      <td>13.0</td>\n",
       "      <td>0.0</td>\n",
       "      <td>13.0</td>\n",
       "      <td>NaN</td>\n",
       "      <td>13.0</td>\n",
       "      <td>NaN</td>\n",
       "      <td>0.0</td>\n",
       "      <td>2.0</td>\n",
       "      <td>3.0</td>\n",
       "      <td>2.0</td>\n",
       "      <td>2.0</td>\n",
       "      <td>11.0</td>\n",
       "      <td>3.0</td>\n",
       "      <td>4.0</td>\n",
       "      <td>3.0</td>\n",
       "      <td>5.0</td>\n",
       "      <td>0.0</td>\n",
       "      <td>0.0</td>\n",
       "      <td>0.0</td>\n",
       "      <td>0.0</td>\n",
       "      <td>100.0</td>\n",
       "      <td>100.0</td>\n",
       "      <td>0.0</td>\n",
       "      <td>0.0</td>\n",
       "      <td>57438.0</td>\n",
       "      <td>58405.0</td>\n",
       "      <td>6000.0</td>\n",
       "      <td>49238.0</td>\n",
       "      <td>NaN</td>\n",
       "      <td>NaN</td>\n",
       "      <td>NaN</td>\n",
       "      <td>NaN</td>\n",
       "      <td>NaN</td>\n",
       "      <td>NaN</td>\n",
       "      <td>NaN</td>\n",
       "      <td>NaN</td>\n",
       "      <td>NaN</td>\n",
       "      <td>NaN</td>\n",
       "      <td>NaN</td>\n",
       "      <td>NaN</td>\n",
       "      <td>NaN</td>\n",
       "      <td>N</td>\n",
       "      <td>NaN</td>\n",
       "      <td>NaN</td>\n",
       "      <td>NaN</td>\n",
       "      <td>NaN</td>\n",
       "      <td>NaN</td>\n",
       "      <td>NaN</td>\n",
       "      <td>NaN</td>\n",
       "      <td>NaN</td>\n",
       "      <td>NaN</td>\n",
       "      <td>NaN</td>\n",
       "      <td>NaN</td>\n",
       "      <td>NaN</td>\n",
       "      <td>NaN</td>\n",
       "      <td>NaN</td>\n",
       "      <td>Cash</td>\n",
       "      <td>N</td>\n",
       "      <td>NaN</td>\n",
       "      <td>NaN</td>\n",
       "      <td>NaN</td>\n",
       "      <td>NaN</td>\n",
       "      <td>NaN</td>\n",
       "      <td>NaN</td>\n",
       "    </tr>\n",
       "    <tr>\n",
       "      <th>1349799</th>\n",
       "      <td>77517403</td>\n",
       "      <td>NaN</td>\n",
       "      <td>19475.0</td>\n",
       "      <td>19475.0</td>\n",
       "      <td>19475.0</td>\n",
       "      <td>60 months</td>\n",
       "      <td>26.57</td>\n",
       "      <td>589.69</td>\n",
       "      <td>F</td>\n",
       "      <td>F5</td>\n",
       "      <td>RN</td>\n",
       "      <td>3 years</td>\n",
       "      <td>MORTGAGE</td>\n",
       "      <td>65000.0</td>\n",
       "      <td>Source Verified</td>\n",
       "      <td>May-2016</td>\n",
       "      <td>Current</td>\n",
       "      <td>n</td>\n",
       "      <td>NaN</td>\n",
       "      <td>debt_consolidation</td>\n",
       "      <td>Debt consolidation</td>\n",
       "      <td>451xx</td>\n",
       "      <td>OH</td>\n",
       "      <td>16.62</td>\n",
       "      <td>0.0</td>\n",
       "      <td>Apr-2003</td>\n",
       "      <td>710.0</td>\n",
       "      <td>714.0</td>\n",
       "      <td>1.0</td>\n",
       "      <td>64.0</td>\n",
       "      <td>NaN</td>\n",
       "      <td>13.0</td>\n",
       "      <td>0.0</td>\n",
       "      <td>5233.0</td>\n",
       "      <td>60.8</td>\n",
       "      <td>24.0</td>\n",
       "      <td>w</td>\n",
       "      <td>15782.07</td>\n",
       "      <td>15782.07</td>\n",
       "      <td>11175.360000</td>\n",
       "      <td>11175.36</td>\n",
       "      <td>3692.93</td>\n",
       "      <td>7482.43</td>\n",
       "      <td>0.0</td>\n",
       "      <td>0.00</td>\n",
       "      <td>0.0000</td>\n",
       "      <td>Dec-2017</td>\n",
       "      <td>589.69</td>\n",
       "      <td>Jan-2018</td>\n",
       "      <td>Dec-2017</td>\n",
       "      <td>704.0</td>\n",
       "      <td>700.0</td>\n",
       "      <td>0.0</td>\n",
       "      <td>64.0</td>\n",
       "      <td>1.0</td>\n",
       "      <td>Individual</td>\n",
       "      <td>NaN</td>\n",
       "      <td>NaN</td>\n",
       "      <td>NaN</td>\n",
       "      <td>0.0</td>\n",
       "      <td>123.0</td>\n",
       "      <td>264345.0</td>\n",
       "      <td>1.0</td>\n",
       "      <td>9.0</td>\n",
       "      <td>6.0</td>\n",
       "      <td>6.0</td>\n",
       "      <td>4.0</td>\n",
       "      <td>57283.0</td>\n",
       "      <td>89.0</td>\n",
       "      <td>1.0</td>\n",
       "      <td>2.0</td>\n",
       "      <td>3947.0</td>\n",
       "      <td>86.0</td>\n",
       "      <td>8600.0</td>\n",
       "      <td>0.0</td>\n",
       "      <td>2.0</td>\n",
       "      <td>5.0</td>\n",
       "      <td>8.0</td>\n",
       "      <td>20334.0</td>\n",
       "      <td>3112.0</td>\n",
       "      <td>60.1</td>\n",
       "      <td>0.0</td>\n",
       "      <td>0.0</td>\n",
       "      <td>156.0</td>\n",
       "      <td>44.0</td>\n",
       "      <td>12.0</td>\n",
       "      <td>4.0</td>\n",
       "      <td>2.0</td>\n",
       "      <td>20.0</td>\n",
       "      <td>NaN</td>\n",
       "      <td>4.0</td>\n",
       "      <td>NaN</td>\n",
       "      <td>0.0</td>\n",
       "      <td>2.0</td>\n",
       "      <td>3.0</td>\n",
       "      <td>2.0</td>\n",
       "      <td>2.0</td>\n",
       "      <td>19.0</td>\n",
       "      <td>3.0</td>\n",
       "      <td>3.0</td>\n",
       "      <td>3.0</td>\n",
       "      <td>13.0</td>\n",
       "      <td>0.0</td>\n",
       "      <td>0.0</td>\n",
       "      <td>0.0</td>\n",
       "      <td>7.0</td>\n",
       "      <td>95.7</td>\n",
       "      <td>0.0</td>\n",
       "      <td>0.0</td>\n",
       "      <td>0.0</td>\n",
       "      <td>286637.0</td>\n",
       "      <td>62516.0</td>\n",
       "      <td>7800.0</td>\n",
       "      <td>64085.0</td>\n",
       "      <td>NaN</td>\n",
       "      <td>NaN</td>\n",
       "      <td>NaN</td>\n",
       "      <td>NaN</td>\n",
       "      <td>NaN</td>\n",
       "      <td>NaN</td>\n",
       "      <td>NaN</td>\n",
       "      <td>NaN</td>\n",
       "      <td>NaN</td>\n",
       "      <td>NaN</td>\n",
       "      <td>NaN</td>\n",
       "      <td>NaN</td>\n",
       "      <td>NaN</td>\n",
       "      <td>N</td>\n",
       "      <td>NaN</td>\n",
       "      <td>NaN</td>\n",
       "      <td>NaN</td>\n",
       "      <td>NaN</td>\n",
       "      <td>NaN</td>\n",
       "      <td>NaN</td>\n",
       "      <td>NaN</td>\n",
       "      <td>NaN</td>\n",
       "      <td>NaN</td>\n",
       "      <td>NaN</td>\n",
       "      <td>NaN</td>\n",
       "      <td>NaN</td>\n",
       "      <td>NaN</td>\n",
       "      <td>NaN</td>\n",
       "      <td>Cash</td>\n",
       "      <td>N</td>\n",
       "      <td>NaN</td>\n",
       "      <td>NaN</td>\n",
       "      <td>NaN</td>\n",
       "      <td>NaN</td>\n",
       "      <td>NaN</td>\n",
       "      <td>NaN</td>\n",
       "    </tr>\n",
       "  </tbody>\n",
       "</table>\n",
       "</div>"
      ],
      "text/plain": [
       "               id  member_id  loan_amnt  funded_amnt  funded_amnt_inv  \\\n",
       "333821   65374575        NaN     4200.0       4200.0           4200.0   \n",
       "1178344  84475031        NaN    24000.0      24000.0          24000.0   \n",
       "1356138  79023006        NaN     4200.0       4200.0           4200.0   \n",
       "430743   59571346        NaN     7500.0       7500.0           7500.0   \n",
       "1349799  77517403        NaN    19475.0      19475.0          19475.0   \n",
       "\n",
       "               term  int_rate  installment grade sub_grade  \\\n",
       "333821    36 months     10.99       137.49     B        B4   \n",
       "1178344   60 months     13.99       558.32     C        C3   \n",
       "1356138   36 months     14.46       144.49     C        C4   \n",
       "430743    36 months     10.99       245.51     B        B4   \n",
       "1349799   60 months     26.57       589.69     F        F5   \n",
       "\n",
       "                             emp_title emp_length home_ownership  annual_inc  \\\n",
       "333821      Director of Client Service    4 years           RENT     41000.0   \n",
       "1178344  Sr. ADMINISTRATIVE ASSISTANT   10+ years           RENT     60000.0   \n",
       "1356138                 Office/Cashier  10+ years       MORTGAGE     25000.0   \n",
       "430743        Business Analytics Admin     1 year           RENT     44000.0   \n",
       "1349799                             RN    3 years       MORTGAGE     65000.0   \n",
       "\n",
       "        verification_status   issue_d  loan_status pymnt_plan desc  \\\n",
       "333821             Verified  Nov-2015  Charged Off          n  NaN   \n",
       "1178344        Not Verified  Jul-2016      Current          n  NaN   \n",
       "1356138     Source Verified  May-2016      Current          n  NaN   \n",
       "430743      Source Verified  Sep-2015   Fully Paid          n  NaN   \n",
       "1349799     Source Verified  May-2016      Current          n  NaN   \n",
       "\n",
       "                    purpose                    title zip_code addr_state  \\\n",
       "333821   debt_consolidation       Debt consolidation    080xx         NJ   \n",
       "1178344         credit_card  Credit card refinancing    067xx         CT   \n",
       "1356138  debt_consolidation       Debt consolidation    458xx         OH   \n",
       "430743   debt_consolidation       Debt consolidation    347xx         FL   \n",
       "1349799  debt_consolidation       Debt consolidation    451xx         OH   \n",
       "\n",
       "           dti  delinq_2yrs earliest_cr_line  fico_range_low  fico_range_high  \\\n",
       "333821   24.09          0.0         Nov-2007           735.0            739.0   \n",
       "1178344  25.08          0.0         Sep-1976           690.0            694.0   \n",
       "1356138   6.00          0.0         Jun-2005           660.0            664.0   \n",
       "430743    9.60          0.0         Dec-2003           690.0            694.0   \n",
       "1349799  16.62          0.0         Apr-2003           710.0            714.0   \n",
       "\n",
       "         inq_last_6mths  mths_since_last_delinq  mths_since_last_record  \\\n",
       "333821              1.0                     NaN                     NaN   \n",
       "1178344             0.0                     NaN                   105.0   \n",
       "1356138             0.0                     NaN                    48.0   \n",
       "430743              0.0                     NaN                     NaN   \n",
       "1349799             1.0                    64.0                     NaN   \n",
       "\n",
       "         open_acc  pub_rec  revol_bal  revol_util  total_acc  \\\n",
       "333821       16.0      0.0     3731.0        29.4       28.0   \n",
       "1178344       8.0      1.0    17738.0        69.8       18.0   \n",
       "1356138       5.0      1.0     1717.0        31.8       21.0   \n",
       "430743        5.0      0.0     7365.0        89.8       15.0   \n",
       "1349799      13.0      0.0     5233.0        60.8       24.0   \n",
       "\n",
       "        initial_list_status  out_prncp  out_prncp_inv   total_pymnt  \\\n",
       "333821                    w       0.00           0.00   2137.610000   \n",
       "1178344                   w   18796.72       18796.72   9553.440000   \n",
       "1356138                   w    2208.97        2208.97   2738.560000   \n",
       "430743                    f       0.00           0.00   8462.482868   \n",
       "1349799                   w   15782.07       15782.07  11175.360000   \n",
       "\n",
       "         total_pymnt_inv  total_rec_prncp  total_rec_int  total_rec_late_fee  \\\n",
       "333821           2137.61          1360.49         421.75                 0.0   \n",
       "1178344          9553.44          5203.28        4350.16                 0.0   \n",
       "1356138          2738.56          1991.03         747.53                 0.0   \n",
       "430743           8462.48          7500.00         962.48                 0.0   \n",
       "1349799         11175.36          3692.93        7482.43                 0.0   \n",
       "\n",
       "         recoveries  collection_recovery_fee last_pymnt_d  last_pymnt_amnt  \\\n",
       "333821       355.37                  63.9666     Dec-2016           137.49   \n",
       "1178344        0.00                   0.0000     Dec-2017           558.32   \n",
       "1356138        0.00                   0.0000     Dec-2017           144.49   \n",
       "430743         0.00                   0.0000     Feb-2017          4520.59   \n",
       "1349799        0.00                   0.0000     Dec-2017           589.69   \n",
       "\n",
       "        next_pymnt_d last_credit_pull_d  last_fico_range_high  \\\n",
       "333821           NaN           Dec-2017                 549.0   \n",
       "1178344     Jan-2018           Dec-2017                 679.0   \n",
       "1356138     Jan-2018           Dec-2017                 669.0   \n",
       "430743           NaN           Feb-2017                 744.0   \n",
       "1349799     Jan-2018           Dec-2017                 704.0   \n",
       "\n",
       "         last_fico_range_low  collections_12_mths_ex_med  \\\n",
       "333821                 545.0                         0.0   \n",
       "1178344                675.0                         0.0   \n",
       "1356138                665.0                         0.0   \n",
       "430743                 740.0                         0.0   \n",
       "1349799                700.0                         0.0   \n",
       "\n",
       "         mths_since_last_major_derog  policy_code application_type  \\\n",
       "333821                           NaN          1.0       Individual   \n",
       "1178344                          NaN          1.0       Individual   \n",
       "1356138                          NaN          1.0       Individual   \n",
       "430743                           NaN          1.0       Individual   \n",
       "1349799                         64.0          1.0       Individual   \n",
       "\n",
       "         annual_inc_joint  dti_joint verification_status_joint  \\\n",
       "333821                NaN        NaN                       NaN   \n",
       "1178344               NaN        NaN                       NaN   \n",
       "1356138               NaN        NaN                       NaN   \n",
       "430743                NaN        NaN                       NaN   \n",
       "1349799               NaN        NaN                       NaN   \n",
       "\n",
       "         acc_now_delinq  tot_coll_amt  tot_cur_bal  open_acc_6m  open_act_il  \\\n",
       "333821              0.0           0.0      68515.0          NaN          NaN   \n",
       "1178344             0.0           0.0      35029.0          0.0          2.0   \n",
       "1356138             0.0           0.0      72213.0          0.0          0.0   \n",
       "430743              0.0           0.0      58405.0          NaN          NaN   \n",
       "1349799             0.0         123.0     264345.0          1.0          9.0   \n",
       "\n",
       "         open_il_12m  open_il_24m  mths_since_rcnt_il  total_bal_il  il_util  \\\n",
       "333821           NaN          NaN                 NaN           NaN      NaN   \n",
       "1178344          0.0          1.0                21.0       17291.0     43.0   \n",
       "1356138          0.0          0.0                45.0           0.0      NaN   \n",
       "430743           NaN          NaN                 NaN           NaN      NaN   \n",
       "1349799          6.0          6.0                 4.0       57283.0     89.0   \n",
       "\n",
       "         open_rv_12m  open_rv_24m  max_bal_bc  all_util  total_rev_hi_lim  \\\n",
       "333821           NaN          NaN         NaN       NaN           12700.0   \n",
       "1178344          1.0          2.0      6348.0      54.0           25400.0   \n",
       "1356138          2.0          2.0         0.0      32.0            5400.0   \n",
       "430743           NaN          NaN         NaN       NaN            8200.0   \n",
       "1349799          1.0          2.0      3947.0      86.0            8600.0   \n",
       "\n",
       "         inq_fi  total_cu_tl  inq_last_12m  acc_open_past_24mths  avg_cur_bal  \\\n",
       "333821      NaN          NaN           NaN                   6.0       4568.0   \n",
       "1178344     0.0          3.0           2.0                   3.0       4379.0   \n",
       "1356138     0.0          2.0           2.0                   2.0      14443.0   \n",
       "430743      NaN          NaN           NaN                   4.0      11681.0   \n",
       "1349799     0.0          2.0           5.0                   8.0      20334.0   \n",
       "\n",
       "         bc_open_to_buy  bc_util  chargeoff_within_12_mths  delinq_amnt  \\\n",
       "333821           7169.0     34.2                       0.0          0.0   \n",
       "1178344          1853.0     84.4                       0.0          0.0   \n",
       "1356138             NaN      NaN                       0.0          0.0   \n",
       "430743            151.0     97.5                       0.0          0.0   \n",
       "1349799          3112.0     60.1                       0.0          0.0   \n",
       "\n",
       "         mo_sin_old_il_acct  mo_sin_old_rev_tl_op  mo_sin_rcnt_rev_tl_op  \\\n",
       "333821                 86.0                  96.0                    2.0   \n",
       "1178344               107.0                 478.0                    7.0   \n",
       "1356138               125.0                 131.0                   12.0   \n",
       "430743                 96.0                 140.0                   13.0   \n",
       "1349799               156.0                  44.0                   12.0   \n",
       "\n",
       "         mo_sin_rcnt_tl  mort_acc  mths_since_recent_bc  \\\n",
       "333821              2.0       0.0                   2.0   \n",
       "1178344             7.0       0.0                  23.0   \n",
       "1356138            12.0       1.0                   NaN   \n",
       "430743             13.0       0.0                  13.0   \n",
       "1349799             4.0       2.0                  20.0   \n",
       "\n",
       "         mths_since_recent_bc_dlq  mths_since_recent_inq  \\\n",
       "333821                        NaN                    2.0   \n",
       "1178344                       NaN                   12.0   \n",
       "1356138                       NaN                    6.0   \n",
       "430743                        NaN                   13.0   \n",
       "1349799                       NaN                    4.0   \n",
       "\n",
       "         mths_since_recent_revol_delinq  num_accts_ever_120_pd  \\\n",
       "333821                              NaN                    0.0   \n",
       "1178344                             NaN                    0.0   \n",
       "1356138                             NaN                    0.0   \n",
       "430743                              NaN                    0.0   \n",
       "1349799                             NaN                    0.0   \n",
       "\n",
       "         num_actv_bc_tl  num_actv_rev_tl  num_bc_sats  num_bc_tl  num_il_tl  \\\n",
       "333821              3.0              3.0          5.0        6.0       11.0   \n",
       "1178344             2.0              4.0          2.0        5.0        6.0   \n",
       "1356138             0.0              2.0          0.0        5.0        9.0   \n",
       "430743              2.0              3.0          2.0        2.0       11.0   \n",
       "1349799             2.0              3.0          2.0        2.0       19.0   \n",
       "\n",
       "         num_op_rev_tl  num_rev_accts  num_rev_tl_bal_gt_0  num_sats  \\\n",
       "333821             8.0           17.0                  3.0      16.0   \n",
       "1178344            6.0           12.0                  4.0       8.0   \n",
       "1356138            4.0           11.0                  2.0       4.0   \n",
       "430743             3.0            4.0                  3.0       5.0   \n",
       "1349799            3.0            3.0                  3.0      13.0   \n",
       "\n",
       "         num_tl_120dpd_2m  num_tl_30dpd  num_tl_90g_dpd_24m  \\\n",
       "333821                0.0           0.0                 0.0   \n",
       "1178344               0.0           0.0                 0.0   \n",
       "1356138               0.0           0.0                 0.0   \n",
       "430743                0.0           0.0                 0.0   \n",
       "1349799               0.0           0.0                 0.0   \n",
       "\n",
       "         num_tl_op_past_12m  pct_tl_nvr_dlq  percent_bc_gt_75  \\\n",
       "333821                  3.0           100.0               0.0   \n",
       "1178344                 1.0           100.0              50.0   \n",
       "1356138                 2.0           100.0               NaN   \n",
       "430743                  0.0           100.0             100.0   \n",
       "1349799                 7.0            95.7               0.0   \n",
       "\n",
       "         pub_rec_bankruptcies  tax_liens  tot_hi_cred_lim  total_bal_ex_mort  \\\n",
       "333821                    0.0        0.0          82363.0            68515.0   \n",
       "1178344                   1.0        0.0          65457.0            35029.0   \n",
       "1356138                   1.0        0.0          86400.0             1717.0   \n",
       "430743                    0.0        0.0          57438.0            58405.0   \n",
       "1349799                   0.0        0.0         286637.0            62516.0   \n",
       "\n",
       "         total_bc_limit  total_il_high_credit_limit  revol_bal_joint  \\\n",
       "333821          10900.0                     69663.0              NaN   \n",
       "1178344         11900.0                     40057.0              NaN   \n",
       "1356138             0.0                         0.0              NaN   \n",
       "430743           6000.0                     49238.0              NaN   \n",
       "1349799          7800.0                     64085.0              NaN   \n",
       "\n",
       "         sec_app_fico_range_low  sec_app_fico_range_high  \\\n",
       "333821                      NaN                      NaN   \n",
       "1178344                     NaN                      NaN   \n",
       "1356138                     NaN                      NaN   \n",
       "430743                      NaN                      NaN   \n",
       "1349799                     NaN                      NaN   \n",
       "\n",
       "        sec_app_earliest_cr_line  sec_app_inq_last_6mths  sec_app_mort_acc  \\\n",
       "333821                       NaN                     NaN               NaN   \n",
       "1178344                      NaN                     NaN               NaN   \n",
       "1356138                      NaN                     NaN               NaN   \n",
       "430743                       NaN                     NaN               NaN   \n",
       "1349799                      NaN                     NaN               NaN   \n",
       "\n",
       "         sec_app_open_acc  sec_app_revol_util  sec_app_open_act_il  \\\n",
       "333821                NaN                 NaN                  NaN   \n",
       "1178344               NaN                 NaN                  NaN   \n",
       "1356138               NaN                 NaN                  NaN   \n",
       "430743                NaN                 NaN                  NaN   \n",
       "1349799               NaN                 NaN                  NaN   \n",
       "\n",
       "         sec_app_num_rev_accts  sec_app_chargeoff_within_12_mths  \\\n",
       "333821                     NaN                               NaN   \n",
       "1178344                    NaN                               NaN   \n",
       "1356138                    NaN                               NaN   \n",
       "430743                     NaN                               NaN   \n",
       "1349799                    NaN                               NaN   \n",
       "\n",
       "         sec_app_collections_12_mths_ex_med  \\\n",
       "333821                                  NaN   \n",
       "1178344                                 NaN   \n",
       "1356138                                 NaN   \n",
       "430743                                  NaN   \n",
       "1349799                                 NaN   \n",
       "\n",
       "         sec_app_mths_since_last_major_derog hardship_flag hardship_type  \\\n",
       "333821                                   NaN             N           NaN   \n",
       "1178344                                  NaN             N           NaN   \n",
       "1356138                                  NaN             N           NaN   \n",
       "430743                                   NaN             N           NaN   \n",
       "1349799                                  NaN             N           NaN   \n",
       "\n",
       "        hardship_reason hardship_status  deferral_term  hardship_amount  \\\n",
       "333821              NaN             NaN            NaN              NaN   \n",
       "1178344             NaN             NaN            NaN              NaN   \n",
       "1356138             NaN             NaN            NaN              NaN   \n",
       "430743              NaN             NaN            NaN              NaN   \n",
       "1349799             NaN             NaN            NaN              NaN   \n",
       "\n",
       "        hardship_start_date hardship_end_date payment_plan_start_date  \\\n",
       "333821                  NaN               NaN                     NaN   \n",
       "1178344                 NaN               NaN                     NaN   \n",
       "1356138                 NaN               NaN                     NaN   \n",
       "430743                  NaN               NaN                     NaN   \n",
       "1349799                 NaN               NaN                     NaN   \n",
       "\n",
       "         hardship_length  hardship_dpd hardship_loan_status  \\\n",
       "333821               NaN           NaN                  NaN   \n",
       "1178344              NaN           NaN                  NaN   \n",
       "1356138              NaN           NaN                  NaN   \n",
       "430743               NaN           NaN                  NaN   \n",
       "1349799              NaN           NaN                  NaN   \n",
       "\n",
       "         orig_projected_additional_accrued_interest  \\\n",
       "333821                                          NaN   \n",
       "1178344                                         NaN   \n",
       "1356138                                         NaN   \n",
       "430743                                          NaN   \n",
       "1349799                                         NaN   \n",
       "\n",
       "         hardship_payoff_balance_amount  hardship_last_payment_amount  \\\n",
       "333821                              NaN                           NaN   \n",
       "1178344                             NaN                           NaN   \n",
       "1356138                             NaN                           NaN   \n",
       "430743                              NaN                           NaN   \n",
       "1349799                             NaN                           NaN   \n",
       "\n",
       "        disbursement_method debt_settlement_flag debt_settlement_flag_date  \\\n",
       "333821                 Cash                    N                       NaN   \n",
       "1178344                Cash                    N                       NaN   \n",
       "1356138                Cash                    N                       NaN   \n",
       "430743                 Cash                    N                       NaN   \n",
       "1349799                Cash                    N                       NaN   \n",
       "\n",
       "        settlement_status settlement_date  settlement_amount  \\\n",
       "333821                NaN             NaN                NaN   \n",
       "1178344               NaN             NaN                NaN   \n",
       "1356138               NaN             NaN                NaN   \n",
       "430743                NaN             NaN                NaN   \n",
       "1349799               NaN             NaN                NaN   \n",
       "\n",
       "         settlement_percentage  settlement_term  \n",
       "333821                     NaN              NaN  \n",
       "1178344                    NaN              NaN  \n",
       "1356138                    NaN              NaN  \n",
       "430743                     NaN              NaN  \n",
       "1349799                    NaN              NaN  "
      ]
     },
     "execution_count": 4,
     "metadata": {},
     "output_type": "execute_result"
    }
   ],
   "source": [
    "loans.sample(5)"
   ]
  },
  {
   "cell_type": "markdown",
   "metadata": {
    "_cell_guid": "6e847348-5344-4ebb-b820-03a772ad5059",
    "_uuid": "841ca8b2103b35b98730139c2e64b790f2edeb89"
   },
   "source": [
    "# Response Variable\n",
    "<a id=\"3\"></a>"
   ]
  },
  {
   "cell_type": "markdown",
   "metadata": {
    "_cell_guid": "b9e79844-28d9-4b5e-a6d3-c9dbfd17820e",
    "_uuid": "138869442509b04e45df20b0356e7ed91f77f7c2"
   },
   "source": [
    "We're going to try to predict the `loan_status` column. What are the value counts in this column?"
   ]
  },
  {
   "cell_type": "code",
   "execution_count": 5,
   "metadata": {
    "_cell_guid": "d5b467af-c5a1-4ae0-a044-3a421252eb78",
    "_uuid": "84e9c41ee08246a83bc6f8ad04a90c83a1bf408e"
   },
   "outputs": [
    {
     "data": {
      "text/plain": [
       "Current                                                788950\n",
       "Fully Paid                                             646902\n",
       "Charged Off                                            168084\n",
       "Late (31-120 days)                                      23763\n",
       "In Grace Period                                         10474\n",
       "Late (16-30 days)                                        5786\n",
       "Does not meet the credit policy. Status:Fully Paid       1988\n",
       "Does not meet the credit policy. Status:Charged Off       761\n",
       "Default                                                    70\n",
       "NaN                                                        23\n",
       "Name: loan_status, dtype: int64"
      ]
     },
     "execution_count": 5,
     "metadata": {},
     "output_type": "execute_result"
    }
   ],
   "source": [
    "loans['loan_status'].value_counts(dropna=False)"
   ]
  },
  {
   "cell_type": "markdown",
   "metadata": {
    "_cell_guid": "527520b1-32a4-4b95-ab0a-b24ac47b3cf6",
    "_uuid": "49a92fd5f4aab3a3561edf9929df506c9fd34a9d"
   },
   "source": [
    "We're going to try to predict the final status of completed loans. More specifically, we'll only consider loans that meet the credit policy and have either been fully paid or charged off. These are the two cases we'll try to distinguish with a predictive model.\n",
    "\n",
    "So we only retain the loans with `loan_status` \"Fully Paid\" or \"Charged Off.\" The other loans either (i) have not been completed, with status \"Current,\" \"Late,\" or \"In Grace Period\"; (ii) do not meet the credit policy; or (iii) have defaulted, a case that we won't consider because these loans are extremely rare."
   ]
  },
  {
   "cell_type": "code",
   "execution_count": 6,
   "metadata": {
    "_cell_guid": "f4f361b5-32f2-4828-8e37-3e43a32c32c0",
    "_uuid": "5c7dc5453d31b32b849bec55fe252c449d8e9557"
   },
   "outputs": [],
   "source": [
    "loans = loans.loc[loans['loan_status'].isin(['Fully Paid', 'Charged Off'])]"
   ]
  },
  {
   "cell_type": "markdown",
   "metadata": {},
   "source": [
    "How many loans remain in the dataset?"
   ]
  },
  {
   "cell_type": "code",
   "execution_count": 7,
   "metadata": {
    "_cell_guid": "be5c5ad3-f002-48f3-9695-3a80a1539c1b",
    "_uuid": "c71ee5ec2f8dc3d8297a7eea7eef441f27c51317"
   },
   "outputs": [
    {
     "data": {
      "text/plain": [
       "(814986, 150)"
      ]
     },
     "execution_count": 7,
     "metadata": {},
     "output_type": "execute_result"
    }
   ],
   "source": [
    "loans.shape"
   ]
  },
  {
   "cell_type": "markdown",
   "metadata": {},
   "source": [
    "Check we have the correct loans:"
   ]
  },
  {
   "cell_type": "code",
   "execution_count": 8,
   "metadata": {
    "_cell_guid": "590a5146-c659-43ed-bfb4-7bea32672932",
    "_uuid": "d70396f915861568607ee204c4ff4574f80d5bdc"
   },
   "outputs": [
    {
     "data": {
      "text/plain": [
       "Fully Paid     0.793758\n",
       "Charged Off    0.206242\n",
       "Name: loan_status, dtype: float64"
      ]
     },
     "execution_count": 8,
     "metadata": {},
     "output_type": "execute_result"
    }
   ],
   "source": [
    "loans['loan_status'].value_counts(normalize=True, dropna=False) # Value counts as fractions of the total"
   ]
  },
  {
   "cell_type": "markdown",
   "metadata": {
    "_cell_guid": "c44aa6b1-041a-490e-8f64-81d010b1bf4a",
    "_uuid": "715d0aed4051332c5f32f35142e130e7da555150"
   },
   "source": [
    "About 79% of the remaining loans have been fully paid and 21% have been charged off, leading to a somewhat unbalanced classification problem."
   ]
  },
  {
   "cell_type": "markdown",
   "metadata": {},
   "source": [
    "SKIP START"
   ]
  },
  {
   "cell_type": "code",
   "execution_count": null,
   "metadata": {
    "_cell_guid": "6bc0595b-4ead-4fdc-8161-13b4242406cc",
    "_uuid": "b195f4be2c6a2b0b01b6593f22a244a5e325ee9c"
   },
   "outputs": [],
   "source": [
    "loans['loan_status'] = (loans['loan_status'] == 'Charged Off')"
   ]
  },
  {
   "cell_type": "code",
   "execution_count": null,
   "metadata": {
    "_cell_guid": "6bc0595b-4ead-4fdc-8161-13b4242406cc",
    "_uuid": "b195f4be2c6a2b0b01b6593f22a244a5e325ee9c"
   },
   "outputs": [],
   "source": [
    "loans['loan_status'].value_counts(normalize=True, dropna=False)"
   ]
  },
  {
   "cell_type": "markdown",
   "metadata": {
    "_cell_guid": "5e0f1a69-b7b9-43cb-8d87-143a1c49f952",
    "_uuid": "1b6c365e025f1566511b87f886d1c618b36355d7"
   },
   "source": [
    "Rename the `loan_status` column to `charged_off`."
   ]
  },
  {
   "cell_type": "code",
   "execution_count": null,
   "metadata": {
    "_cell_guid": "ea64d8bf-57db-4bc9-bb27-b992b272ffc7",
    "_uuid": "60022360aa67506e30b75b940d5e708389ba3e9b"
   },
   "outputs": [],
   "source": [
    "loans.rename(columns={'loan_status':'charged_off'}, inplace=True)"
   ]
  },
  {
   "cell_type": "markdown",
   "metadata": {},
   "source": [
    "SKIP END"
   ]
  },
  {
   "cell_type": "markdown",
   "metadata": {},
   "source": [
    "# Train/Test Split"
   ]
  },
  {
   "cell_type": "markdown",
   "metadata": {},
   "source": [
    "We'll make our predictions more realistic by performing the train/validation/test split based on the month that the loan was funded. That is, we'll use loans funded on earlier dates to predict the outcome of loans funded on later dates.\n",
    "\n",
    "The variable `issue_d` includes the month which the loan was funded. Let's peek at this variable:"
   ]
  },
  {
   "cell_type": "code",
   "execution_count": 12,
   "metadata": {},
   "outputs": [
    {
     "data": {
      "text/plain": [
       "598904    2015-04-01\n",
       "429110    2015-09-01\n",
       "88307     2014-08-01\n",
       "1350724   2016-05-01\n",
       "373487    2015-10-01\n",
       "Name: issue_d, dtype: datetime64[ns]"
      ]
     },
     "execution_count": 12,
     "metadata": {},
     "output_type": "execute_result"
    }
   ],
   "source": [
    "loans['issue_d'].sample(5)"
   ]
  },
  {
   "cell_type": "markdown",
   "metadata": {},
   "source": [
    "So `issue_d` only includes month and year data. Are there any missing values?"
   ]
  },
  {
   "cell_type": "code",
   "execution_count": 9,
   "metadata": {},
   "outputs": [
    {
     "data": {
      "text/plain": [
       "False"
      ]
     },
     "execution_count": 9,
     "metadata": {},
     "output_type": "execute_result"
    }
   ],
   "source": [
    "loans['issue_d'].isnull().any()"
   ]
  },
  {
   "cell_type": "markdown",
   "metadata": {},
   "source": [
    "No. Let's convert the issue dates to datetime objects:"
   ]
  },
  {
   "cell_type": "code",
   "execution_count": 10,
   "metadata": {},
   "outputs": [],
   "source": [
    "loans['issue_d'] = pd.to_datetime(loans['issue_d'])"
   ]
  },
  {
   "cell_type": "code",
   "execution_count": 13,
   "metadata": {},
   "outputs": [
    {
     "data": {
      "text/plain": [
       "874002   2013-07-01\n",
       "953049   2012-10-01\n",
       "105550   2014-07-01\n",
       "116872   2014-07-01\n",
       "79359    2014-09-01\n",
       "Name: issue_d, dtype: datetime64[ns]"
      ]
     },
     "execution_count": 13,
     "metadata": {},
     "output_type": "execute_result"
    }
   ],
   "source": [
    "loans['issue_d'].sample(5)"
   ]
  },
  {
   "cell_type": "markdown",
   "metadata": {},
   "source": [
    "The `issue_d` values got converted to dates, all on the first day of the month. Check summary statistics of the issue dates:"
   ]
  },
  {
   "cell_type": "code",
   "execution_count": 11,
   "metadata": {},
   "outputs": [
    {
     "data": {
      "text/plain": [
       "count                  814986\n",
       "unique                    124\n",
       "top       2014-10-01 00:00:00\n",
       "freq                    33699\n",
       "first     2007-06-01 00:00:00\n",
       "last      2017-09-01 00:00:00\n",
       "Name: issue_d, dtype: object"
      ]
     },
     "execution_count": 11,
     "metadata": {},
     "output_type": "execute_result"
    }
   ],
   "source": [
    "loans['issue_d'].describe()"
   ]
  },
  {
   "cell_type": "markdown",
   "metadata": {},
   "source": [
    "Note there are only 124 unique issue dates over the 10-year period because we only have month/year information. In this particular dataset, the first loans were issued in June 2007, and the most recent loans were issued in September 2017. The busiest month was October 2014 with 33,699 loans funded in that month. What is the distribution of loans among the years 2007-2017?"
   ]
  },
  {
   "cell_type": "code",
   "execution_count": 20,
   "metadata": {},
   "outputs": [
    {
     "data": {
      "text/plain": [
       "Text(0.5,1,'Loans Funded per Year')"
      ]
     },
     "execution_count": 20,
     "metadata": {},
     "output_type": "execute_result"
    },
    {
     "data": {
      "image/png": "[encoded data removed]",
      "text/plain": [
       "<Figure size 540x270 with 1 Axes>"
      ]
     },
     "metadata": {},
     "output_type": "display_data"
    }
   ],
   "source": [
    "plt.figure(figsize=(6,3), dpi=90)\n",
    "loans['issue_d'].dt.year.value_counts().sort_index().plot.bar(color='darkblue')\n",
    "plt.xlabel('Year')\n",
    "plt.ylabel('Number of loans funded')\n",
    "plt.title('Loans Funded per Year')"
   ]
  },
  {
   "cell_type": "markdown",
   "metadata": {},
   "source": [
    "We'll form the test set from the most recent 10% of the loans, and the validation set from the next-most-recent 10%."
   ]
  },
  {
   "cell_type": "code",
   "execution_count": 21,
   "metadata": {},
   "outputs": [],
   "source": [
    "loans_train = loans.loc[loans['issue_d'] <  loans['issue_d'].quantile(0.8)]\n",
    "loans_valid = loans.loc[(loans['issue_d'] >= loans['issue_d'].quantile(0.8)) & (loans['issue_d'] < loans['issue_d'].quantile(0.9))]\n",
    "loans_test =  loans.loc[loans['issue_d'] >= loans['issue_d'].quantile(0.9)]"
   ]
  },
  {
   "cell_type": "markdown",
   "metadata": {},
   "source": [
    "Check that we properly partitioned the loans:"
   ]
  },
  {
   "cell_type": "code",
   "execution_count": 22,
   "metadata": {},
   "outputs": [
    {
     "name": "stdout",
     "output_type": "stream",
     "text": [
      "Number of loans in the partition:    814986\n",
      "Number of loans in the full dataset: 814986\n"
     ]
    }
   ],
   "source": [
    "print('Number of loans in the partition:   ', loans_train.shape[0] + loans_valid.shape[0] + loans_test.shape[0])\n",
    "print('Number of loans in the full dataset:', loans.shape[0])"
   ]
  },
  {
   "cell_type": "markdown",
   "metadata": {},
   "source": [
    "The partition looks good, so we can delete the original `loans` dataframe."
   ]
  },
  {
   "cell_type": "code",
   "execution_count": 23,
   "metadata": {},
   "outputs": [],
   "source": [
    "del loans"
   ]
  },
  {
   "cell_type": "markdown",
   "metadata": {},
   "source": [
    "Let's look at the summary statistics of the issue dates in the train/validation/test sets:"
   ]
  },
  {
   "cell_type": "code",
   "execution_count": 24,
   "metadata": {},
   "outputs": [
    {
     "data": {
      "text/plain": [
       "count                  647071\n",
       "unique                    103\n",
       "top       2014-10-01 00:00:00\n",
       "freq                    33699\n",
       "first     2007-06-01 00:00:00\n",
       "last      2015-12-01 00:00:00\n",
       "Name: issue_d, dtype: object"
      ]
     },
     "execution_count": 24,
     "metadata": {},
     "output_type": "execute_result"
    }
   ],
   "source": [
    "loans_train['issue_d'].describe()"
   ]
  },
  {
   "cell_type": "code",
   "execution_count": 25,
   "metadata": {},
   "outputs": [
    {
     "data": {
      "text/plain": [
       "count                   84037\n",
       "unique                      6\n",
       "top       2016-03-01 00:00:00\n",
       "freq                    22914\n",
       "first     2016-01-01 00:00:00\n",
       "last      2016-06-01 00:00:00\n",
       "Name: issue_d, dtype: object"
      ]
     },
     "execution_count": 25,
     "metadata": {},
     "output_type": "execute_result"
    }
   ],
   "source": [
    "loans_valid['issue_d'].describe()"
   ]
  },
  {
   "cell_type": "code",
   "execution_count": 26,
   "metadata": {},
   "outputs": [
    {
     "data": {
      "text/plain": [
       "count                   83878\n",
       "unique                     15\n",
       "top       2016-07-01 00:00:00\n",
       "freq                    10825\n",
       "first     2016-07-01 00:00:00\n",
       "last      2017-09-01 00:00:00\n",
       "Name: issue_d, dtype: object"
      ]
     },
     "execution_count": 26,
     "metadata": {},
     "output_type": "execute_result"
    }
   ],
   "source": [
    "loans_test['issue_d'].describe()"
   ]
  },
  {
   "cell_type": "markdown",
   "metadata": {},
   "source": [
    "The training set includes loans from June 2007 to December 2015. The validation set includes loans from January 2016 to June 2016. The test set includes loans from July 2016 to September 2017."
   ]
  },
  {
   "cell_type": "markdown",
   "metadata": {
    "_cell_guid": "a6220e50-5df9-427a-a92b-5e6138234fb9",
    "_uuid": "34206dc6425cbf3c744c23006e6b10f522777a9d"
   },
   "source": [
    "# Feature Selection\n",
    "<a id=\"4\"></a>"
   ]
  },
  {
   "cell_type": "markdown",
   "metadata": {
    "_cell_guid": "89f9038c-fb12-46e9-9136-5f5e0a81d2bb",
    "_uuid": "a0a000e470b72a6128fc3ec216e181ab4ccc3809"
   },
   "source": [
    "The dataset has 150 features, but we won't be using all the features to predict the loan status. We'll first drop any features that meet either of the following criteria:\n",
    "\n",
    "1. More than 30% of the data is missing (in the training set)\n",
    "2. The feature would not have been available at the time of the loan application\n",
    "\n",
    "Definitions of the features are given in the Lending Club Data Dictionary [available here](https://www.lendingclub.com/info/download-data.action).\n",
    "\n",
    "Note that we will only analyze the training data in performing feature selection."
   ]
  },
  {
   "cell_type": "markdown",
   "metadata": {
    "_cell_guid": "033676d1-c042-4af2-a41c-1f49d678d03f",
    "_uuid": "6d374ac8147274a76355bbeca958bbcf6ebb1de4"
   },
   "source": [
    "## Drop features missing too much data\n",
    "<a id=\"4.2\"></a>"
   ]
  },
  {
   "cell_type": "markdown",
   "metadata": {},
   "source": [
    "First we calculate the percentage of missing data for each feature:"
   ]
  },
  {
   "cell_type": "code",
   "execution_count": 27,
   "metadata": {},
   "outputs": [],
   "source": [
    "missing_fractions = loans_train.isnull().mean().sort_values(ascending=False)"
   ]
  },
  {
   "cell_type": "markdown",
   "metadata": {},
   "source": [
    "Print the fraction of missing data in each column:"
   ]
  },
  {
   "cell_type": "code",
   "execution_count": 29,
   "metadata": {
    "scrolled": true
   },
   "outputs": [
    {
     "name": "stdout",
     "output_type": "stream",
     "text": [
      "sec_app_mths_since_last_major_derog           1.000000\n",
      "sec_app_earliest_cr_line                      1.000000\n",
      "sec_app_chargeoff_within_12_mths              1.000000\n",
      "sec_app_num_rev_accts                         1.000000\n",
      "sec_app_open_act_il                           1.000000\n",
      "sec_app_revol_util                            1.000000\n",
      "sec_app_open_acc                              1.000000\n",
      "sec_app_mort_acc                              1.000000\n",
      "sec_app_inq_last_6mths                        1.000000\n",
      "sec_app_collections_12_mths_ex_med            1.000000\n",
      "sec_app_fico_range_high                       1.000000\n",
      "sec_app_fico_range_low                        1.000000\n",
      "revol_bal_joint                               1.000000\n",
      "next_pymnt_d                                  1.000000\n",
      "member_id                                     1.000000\n",
      "orig_projected_additional_accrued_interest    0.999935\n",
      "verification_status_joint                     0.999665\n",
      "dti_joint                                     0.999665\n",
      "annual_inc_joint                              0.999665\n",
      "hardship_type                                 0.999598\n",
      "hardship_status                               0.999598\n",
      "hardship_reason                               0.999598\n",
      "hardship_end_date                             0.999598\n",
      "hardship_last_payment_amount                  0.999598\n",
      "hardship_payoff_balance_amount                0.999598\n",
      "hardship_loan_status                          0.999598\n",
      "hardship_dpd                                  0.999598\n",
      "payment_plan_start_date                       0.999598\n",
      "hardship_length                               0.999598\n",
      "hardship_start_date                           0.999598\n",
      "hardship_amount                               0.999598\n",
      "deferral_term                                 0.999598\n",
      "il_util                                       0.987295\n",
      "mths_since_rcnt_il                            0.985907\n",
      "max_bal_bc                                    0.985577\n",
      "total_bal_il                                  0.985577\n",
      "open_rv_24m                                   0.985577\n",
      "all_util                                      0.985577\n",
      "open_rv_12m                                   0.985577\n",
      "inq_fi                                        0.985577\n",
      "open_il_24m                                   0.985577\n",
      "open_il_12m                                   0.985577\n",
      "inq_last_12m                                  0.985577\n",
      "open_act_il                                   0.985577\n",
      "open_acc_6m                                   0.985577\n",
      "total_cu_tl                                   0.985577\n",
      "settlement_percentage                         0.984518\n",
      "settlement_term                               0.984518\n",
      "settlement_status                             0.984518\n",
      "settlement_date                               0.984518\n",
      "debt_settlement_flag_date                     0.984518\n",
      "settlement_amount                             0.984518\n",
      "mths_since_last_record                        0.846100\n",
      "desc                                          0.814977\n",
      "mths_since_recent_bc_dlq                      0.772339\n",
      "mths_since_last_major_derog                   0.757775\n",
      "mths_since_recent_revol_delinq                0.681715\n",
      "mths_since_last_delinq                        0.520575\n",
      "mths_since_recent_inq                         0.161196\n",
      "mo_sin_old_il_acct                            0.132616\n",
      "num_tl_120dpd_2m                              0.131978\n",
      "pct_tl_nvr_dlq                                0.104570\n",
      "avg_cur_bal                                   0.104376\n",
      "mo_sin_rcnt_rev_tl_op                         0.104359\n",
      "num_rev_accts                                 0.104359\n",
      "mo_sin_old_rev_tl_op                          0.104359\n",
      "num_tl_90g_dpd_24m                            0.104358\n",
      "total_rev_hi_lim                              0.104358\n",
      "num_tl_op_past_12m                            0.104358\n",
      "num_tl_30dpd                                  0.104358\n",
      "tot_coll_amt                                  0.104358\n",
      "total_il_high_credit_limit                    0.104358\n",
      "num_rev_tl_bal_gt_0                           0.104358\n",
      "tot_hi_cred_lim                               0.104358\n",
      "mo_sin_rcnt_tl                                0.104358\n",
      "num_accts_ever_120_pd                         0.104358\n",
      "num_actv_bc_tl                                0.104358\n",
      "num_actv_rev_tl                               0.104358\n",
      "num_bc_tl                                     0.104358\n",
      "num_il_tl                                     0.104358\n",
      "num_op_rev_tl                                 0.104358\n",
      "tot_cur_bal                                   0.104358\n",
      "num_sats                                      0.086298\n",
      "num_bc_sats                                   0.086298\n",
      "bc_util                                       0.082754\n",
      "percent_bc_gt_75                              0.082574\n",
      "bc_open_to_buy                                0.082164\n",
      "mths_since_recent_bc                          0.081433\n",
      "total_bal_ex_mort                             0.073069\n",
      "mort_acc                                      0.073069\n",
      "total_bc_limit                                0.073069\n",
      "acc_open_past_24mths                          0.073069\n",
      "emp_title                                     0.058312\n",
      "emp_length                                    0.048687\n",
      "pub_rec_bankruptcies                          0.001077\n",
      "last_pymnt_d                                  0.001017\n",
      "revol_util                                    0.000576\n",
      "title                                         0.000124\n",
      "chargeoff_within_12_mths                      0.000087\n",
      "collections_12_mths_ex_med                    0.000087\n",
      "tax_liens                                     0.000060\n",
      "last_credit_pull_d                            0.000059\n",
      "dti                                           0.000003\n",
      "installment                                   0.000000\n",
      "funded_amnt                                   0.000000\n",
      "delinq_2yrs                                   0.000000\n",
      "fico_range_low                                0.000000\n",
      "loan_amnt                                     0.000000\n",
      "addr_state                                    0.000000\n",
      "zip_code                                      0.000000\n",
      "purpose                                       0.000000\n",
      "issue_d                                       0.000000\n",
      "pymnt_plan                                    0.000000\n",
      "loan_status                                   0.000000\n",
      "verification_status                           0.000000\n",
      "annual_inc                                    0.000000\n",
      "home_ownership                                0.000000\n",
      "funded_amnt_inv                               0.000000\n",
      "term                                          0.000000\n",
      "sub_grade                                     0.000000\n",
      "int_rate                                      0.000000\n",
      "grade                                         0.000000\n",
      "earliest_cr_line                              0.000000\n",
      "last_fico_range_high                          0.000000\n",
      "fico_range_high                               0.000000\n",
      "inq_last_6mths                                0.000000\n",
      "delinq_amnt                                   0.000000\n",
      "hardship_flag                                 0.000000\n",
      "disbursement_method                           0.000000\n",
      "acc_now_delinq                                0.000000\n",
      "debt_settlement_flag                          0.000000\n",
      "application_type                              0.000000\n",
      "policy_code                                   0.000000\n",
      "last_fico_range_low                           0.000000\n",
      "last_pymnt_amnt                               0.000000\n",
      "collection_recovery_fee                       0.000000\n",
      "recoveries                                    0.000000\n",
      "total_rec_late_fee                            0.000000\n",
      "total_rec_int                                 0.000000\n",
      "total_rec_prncp                               0.000000\n",
      "total_pymnt_inv                               0.000000\n",
      "total_pymnt                                   0.000000\n",
      "out_prncp_inv                                 0.000000\n",
      "out_prncp                                     0.000000\n",
      "initial_list_status                           0.000000\n",
      "total_acc                                     0.000000\n",
      "revol_bal                                     0.000000\n",
      "pub_rec                                       0.000000\n",
      "open_acc                                      0.000000\n",
      "id                                            0.000000\n",
      "dtype: float64\n"
     ]
    }
   ],
   "source": [
    "print(missing_fractions)"
   ]
  },
  {
   "cell_type": "markdown",
   "metadata": {},
   "source": [
    "Things to note:\n",
    "\n",
    "* There are several columns with no data at all. But perhaps these variables have some data in the validation and/or test sets.\n",
    "* There's a large gap between features missing \"some\" data and those missing \"lots\" of data: there are no features with a missing data percentage between 16.2% and 52.0%.\n",
    "\n",
    "Because it's generally very difficult to accurately impute data with more than 30% missing values, we drop such columns. Find the features to drop:"
   ]
  },
  {
   "cell_type": "code",
   "execution_count": 30,
   "metadata": {
    "_cell_guid": "b2bccd07-6308-4d83-b45a-de8ade091106",
    "_uuid": "dd01b28cdf204ed38fa2d7123254fe9dd5f62c87"
   },
   "outputs": [],
   "source": [
    "drop_list = missing_fractions[missing_fractions > 0.3].index"
   ]
  },
  {
   "cell_type": "markdown",
   "metadata": {},
   "source": [
    "How many features will be dropped?"
   ]
  },
  {
   "cell_type": "code",
   "execution_count": 31,
   "metadata": {},
   "outputs": [
    {
     "data": {
      "text/plain": [
       "58"
      ]
     },
     "execution_count": 31,
     "metadata": {},
     "output_type": "execute_result"
    }
   ],
   "source": [
    "len(drop_list)"
   ]
  },
  {
   "cell_type": "markdown",
   "metadata": {
    "_cell_guid": "7fcfae32-fdf5-42af-a14a-0b797c17b034",
    "_uuid": "4477765ea99a243a25421550ff4087b68fc6fa1b"
   },
   "source": [
    "Now drop these features from all data sets."
   ]
  },
  {
   "cell_type": "code",
   "execution_count": 32,
   "metadata": {},
   "outputs": [],
   "source": [
    "def drop_cols(cols):\n",
    "    # cols can be a single string, or a list of strings\n",
    "    loans_train.drop(labels=cols, axis=1, inplace=True)\n",
    "    loans_valid.drop(labels=cols, axis=1, inplace=True)\n",
    "    loans_test.drop(labels=cols, axis=1, inplace=True)\n",
    "    missing_fractions.drop(labels=drop_list, inplace=True)"
   ]
  },
  {
   "cell_type": "code",
   "execution_count": 33,
   "metadata": {
    "_cell_guid": "876333ef-2b06-4fa8-b74f-4d9a59f8b2d6",
    "_uuid": "ea1d37e6b2b661cb6aed42a2929b2113f493fce6"
   },
   "outputs": [],
   "source": [
    "drop_cols(drop_list)"
   ]
  },
  {
   "cell_type": "markdown",
   "metadata": {
    "_cell_guid": "33b90b6b-0fcd-4657-ae11-0ff2f6a95823",
    "_uuid": "4066be79385b7b0c6b7d4f96533106093304b746"
   },
   "source": [
    "## Remove features that were unavailable before the loan was funded\n",
    "<a id=\"4.4\"></a>"
   ]
  },
  {
   "cell_type": "markdown",
   "metadata": {},
   "source": [
    "We examine the Lending Club Data Dictionary to determine which features would not have been available before the loan was funded. The idea here is to predict whether a loan will be paid off **before** deciding to fund the loan. Here's the list of features we currently have, in alphabetical order:"
   ]
  },
  {
   "cell_type": "code",
   "execution_count": 34,
   "metadata": {},
   "outputs": [
    {
     "name": "stdout",
     "output_type": "stream",
     "text": [
      "['acc_now_delinq', 'acc_open_past_24mths', 'addr_state', 'annual_inc', 'application_type', 'avg_cur_bal', 'bc_open_to_buy', 'bc_util', 'chargeoff_within_12_mths', 'collection_recovery_fee', 'collections_12_mths_ex_med', 'debt_settlement_flag', 'delinq_2yrs', 'delinq_amnt', 'disbursement_method', 'dti', 'earliest_cr_line', 'emp_length', 'emp_title', 'fico_range_high', 'fico_range_low', 'funded_amnt', 'funded_amnt_inv', 'grade', 'hardship_flag', 'home_ownership', 'id', 'initial_list_status', 'inq_last_6mths', 'installment', 'int_rate', 'issue_d', 'last_credit_pull_d', 'last_fico_range_high', 'last_fico_range_low', 'last_pymnt_amnt', 'last_pymnt_d', 'loan_amnt', 'loan_status', 'mo_sin_old_il_acct', 'mo_sin_old_rev_tl_op', 'mo_sin_rcnt_rev_tl_op', 'mo_sin_rcnt_tl', 'mort_acc', 'mths_since_recent_bc', 'mths_since_recent_inq', 'num_accts_ever_120_pd', 'num_actv_bc_tl', 'num_actv_rev_tl', 'num_bc_sats', 'num_bc_tl', 'num_il_tl', 'num_op_rev_tl', 'num_rev_accts', 'num_rev_tl_bal_gt_0', 'num_sats', 'num_tl_120dpd_2m', 'num_tl_30dpd', 'num_tl_90g_dpd_24m', 'num_tl_op_past_12m', 'open_acc', 'out_prncp', 'out_prncp_inv', 'pct_tl_nvr_dlq', 'percent_bc_gt_75', 'policy_code', 'pub_rec', 'pub_rec_bankruptcies', 'purpose', 'pymnt_plan', 'recoveries', 'revol_bal', 'revol_util', 'sub_grade', 'tax_liens', 'term', 'title', 'tot_coll_amt', 'tot_cur_bal', 'tot_hi_cred_lim', 'total_acc', 'total_bal_ex_mort', 'total_bc_limit', 'total_il_high_credit_limit', 'total_pymnt', 'total_pymnt_inv', 'total_rec_int', 'total_rec_late_fee', 'total_rec_prncp', 'total_rev_hi_lim', 'verification_status', 'zip_code']\n"
     ]
    }
   ],
   "source": [
    "print(sorted(list(loans_train.columns)))"
   ]
  },
  {
   "cell_type": "markdown",
   "metadata": {},
   "source": [
    "For each of these features, we check the description in the Data Dictionary, and drop those features that we believe would not have been available before the loan was funded. When in doubt, we err on the side of dropping the feature."
   ]
  },
  {
   "cell_type": "code",
   "execution_count": 35,
   "metadata": {},
   "outputs": [],
   "source": [
    "drop_list = ['acc_now_delinq', 'acc_open_past_24mths', 'avg_cur_bal', 'bc_open_to_buy', 'bc_util', 'chargeoff_within_12_mths', 'collection_recovery_fee', 'collections_12_mths_ex_med', 'debt_settlement_flag', 'delinq_2yrs', 'delinq_amnt', 'funded_amnt', 'funded_amnt_inv', 'hardship_flag', 'inq_last_6mths', 'issue_d', 'last_credit_pull_d', 'last_fico_range_high', 'last_fico_range_low', 'last_pymnt_amnt', 'last_pymnt_d', 'mo_sin_rcnt_rev_tl_op', 'mo_sin_rcnt_tl', 'mths_since_recent_bc', 'mths_since_recent_inq', 'num_accts_ever_120_pd', 'num_actv_bc_tl', 'num_actv_rev_tl', 'num_bc_sats', 'num_bc_tl', 'num_il_tl', 'num_op_rev_tl', 'num_rev_accts', 'num_rev_tl_bal_gt_0', 'num_sats', 'num_tl_120dpd_2m', 'num_tl_30dpd', 'num_tl_90g_dpd_24m', 'num_tl_op_past_12m', 'open_acc', 'out_prncp', 'out_prncp_inv', 'pct_tl_nvr_dlq', 'percent_bc_gt_75', 'pymnt_plan', 'recoveries', 'revol_bal', 'revol_util', 'tax_liens', 'tot_coll_amt', 'tot_cur_bal', 'tot_hi_cred_lim', 'total_acc', 'total_bal_ex_mort', 'total_bc_limit', 'total_il_high_credit_limit', 'total_pymnt', 'total_pymnt_inv', 'total_rec_int', 'total_rec_late_fee', 'total_rec_prncp', 'total_rev_hi_lim']"
   ]
  },
  {
   "cell_type": "code",
   "execution_count": 36,
   "metadata": {},
   "outputs": [
    {
     "data": {
      "text/plain": [
       "62"
      ]
     },
     "execution_count": 36,
     "metadata": {},
     "output_type": "execute_result"
    }
   ],
   "source": [
    "len(drop_list)"
   ]
  },
  {
   "cell_type": "code",
   "execution_count": 37,
   "metadata": {},
   "outputs": [],
   "source": [
    "drop_cols(drop_list)"
   ]
  },
  {
   "cell_type": "markdown",
   "metadata": {},
   "source": [
    "# Feature Engineering and Exploratory Data Analysis"
   ]
  },
  {
   "cell_type": "markdown",
   "metadata": {},
   "source": [
    "We'll inspect each feature individually, and do the following:\n",
    "\n",
    "1. View summary statistics and visualize the data, if necessary\n",
    "2. Modify the feature to make it useful for modeling, if necessary\n",
    "3. Drop the feature if it can't be made useful for modeling\n",
    "\n",
    "How many features are left?"
   ]
  },
  {
   "cell_type": "code",
   "execution_count": 38,
   "metadata": {},
   "outputs": [
    {
     "data": {
      "text/plain": [
       "30"
      ]
     },
     "execution_count": 38,
     "metadata": {},
     "output_type": "execute_result"
    }
   ],
   "source": [
    "len(loans_train.columns)"
   ]
  },
  {
   "cell_type": "markdown",
   "metadata": {},
   "source": [
    "What are the remaining features?"
   ]
  },
  {
   "cell_type": "code",
   "execution_count": 42,
   "metadata": {},
   "outputs": [
    {
     "name": "stdout",
     "output_type": "stream",
     "text": [
      "['id', 'loan_amnt', 'term', 'int_rate', 'installment', 'grade', 'sub_grade', 'emp_title', 'emp_length', 'home_ownership', 'annual_inc', 'verification_status', 'loan_status', 'purpose', 'title', 'zip_code', 'addr_state', 'dti', 'earliest_cr_line', 'fico_range_low', 'fico_range_high', 'pub_rec', 'initial_list_status', 'policy_code', 'application_type', 'mo_sin_old_il_acct', 'mo_sin_old_rev_tl_op', 'mort_acc', 'pub_rec_bankruptcies', 'disbursement_method']\n"
     ]
    }
   ],
   "source": [
    "print(list(loans_train.columns))"
   ]
  },
  {
   "cell_type": "markdown",
   "metadata": {},
   "source": [
    "### id"
   ]
  },
  {
   "cell_type": "markdown",
   "metadata": {},
   "source": [
    "The `id` is \"a unique LC assigned ID for the loan listing.\""
   ]
  },
  {
   "cell_type": "code",
   "execution_count": null,
   "metadata": {},
   "outputs": [],
   "source": [
    "print('Number of unique IDs:', loans_train['id'].nunique())\n",
    "print('Number of training set loans:', loans_train.shape[0])"
   ]
  },
  {
   "cell_type": "markdown",
   "metadata": {},
   "source": [
    "So all IDs are indeed unique. The ID is most likely meaningless for predicting charge-offs, but we'll keep it for now."
   ]
  },
  {
   "cell_type": "markdown",
   "metadata": {},
   "source": [
    "### loan_amnt"
   ]
  },
  {
   "cell_type": "code",
   "execution_count": null,
   "metadata": {},
   "outputs": [],
   "source": [
    "loans_train['loan_amnt'].describe()"
   ]
  },
  {
   "cell_type": "markdown",
   "metadata": {},
   "source": [
    "Loan amounts range from \\$500 to \\$35,000, with a median of \\$12,000."
   ]
  },
  {
   "cell_type": "code",
   "execution_count": null,
   "metadata": {},
   "outputs": [],
   "source": [
    "plt.figure(dpi=90)\n",
    "sns.distplot(loans_train['loan_amnt'], kde=False)\n",
    "plt.ylabel('count')\n",
    "plt.title('Loan Amounts (Training Set)')"
   ]
  },
  {
   "cell_type": "markdown",
   "metadata": {},
   "source": [
    "Could `loan_amnt` benefit from a power transform?"
   ]
  },
  {
   "cell_type": "code",
   "execution_count": null,
   "metadata": {},
   "outputs": [],
   "source": [
    "loans_train['loan_amnt'].skew()"
   ]
  },
  {
   "cell_type": "markdown",
   "metadata": {},
   "source": [
    "There is not a high amount of skew, so we'll leave this feature as-is."
   ]
  },
  {
   "cell_type": "markdown",
   "metadata": {
    "_cell_guid": "8e98e8d9-9c8f-49b4-a123-4a11534454e3",
    "_uuid": "77ae6e4830589e4ee9dd0c815043300017c7fd75"
   },
   "source": [
    "### term"
   ]
  },
  {
   "cell_type": "code",
   "execution_count": null,
   "metadata": {
    "_cell_guid": "e3559ee4-0c7c-4e29-9952-ef06f302937a",
    "_uuid": "b8fa81ef40fc0928639d94608d126039f73e3f3d"
   },
   "outputs": [],
   "source": [
    "loans_train['term'].value_counts(dropna=False)"
   ]
  },
  {
   "cell_type": "markdown",
   "metadata": {
    "_cell_guid": "a0a18d84-ed5f-4d4f-a377-c877a6d1be54",
    "_uuid": "7abe9deb95eb215cc2c8fa6425cc4d81bbf79bef"
   },
   "source": [
    "Convert `term` to integer values."
   ]
  },
  {
   "cell_type": "code",
   "execution_count": null,
   "metadata": {
    "_cell_guid": "dd9462d5-673b-4dce-ae3b-61f427b1abcb",
    "_uuid": "09eed29a2d6f5e30beec07ae5d29088234c99b1c"
   },
   "outputs": [],
   "source": [
    "loans_train.loc[:,'term'] = loans_train['term'].apply(lambda s: np.int8(s.split()[0]))\n",
    "loans_valid.loc[:,'term'] = loans_valid['term'].apply(lambda s: np.int8(s.split()[0]))\n",
    "loans_test.loc[:,'term'] = loans_test['term'].apply(lambda s: np.int8(s.split()[0]))"
   ]
  },
  {
   "cell_type": "code",
   "execution_count": null,
   "metadata": {
    "_cell_guid": "dd9462d5-673b-4dce-ae3b-61f427b1abcb",
    "_uuid": "09eed29a2d6f5e30beec07ae5d29088234c99b1c"
   },
   "outputs": [],
   "source": [
    "loans_train['term'].value_counts()"
   ]
  },
  {
   "cell_type": "markdown",
   "metadata": {},
   "source": [
    "### int_rate"
   ]
  },
  {
   "cell_type": "markdown",
   "metadata": {},
   "source": [
    "This is the interest rate on the loan."
   ]
  },
  {
   "cell_type": "code",
   "execution_count": null,
   "metadata": {},
   "outputs": [],
   "source": [
    "loans_train['int_rate'].describe()"
   ]
  },
  {
   "cell_type": "code",
   "execution_count": null,
   "metadata": {},
   "outputs": [],
   "source": [
    "plt.figure(dpi=90)\n",
    "sns.distplot(loans_train['int_rate'], kde=False)\n",
    "plt.ylabel('count')\n",
    "plt.title('Interest Rates (Training Set)')"
   ]
  },
  {
   "cell_type": "code",
   "execution_count": null,
   "metadata": {},
   "outputs": [],
   "source": [
    "loans_train['int_rate'].skew()"
   ]
  },
  {
   "cell_type": "markdown",
   "metadata": {},
   "source": [
    "### installment"
   ]
  },
  {
   "cell_type": "markdown",
   "metadata": {},
   "source": [
    "The installment is \"The monthly payment owed by the borrower if the loan originates.\""
   ]
  },
  {
   "cell_type": "code",
   "execution_count": null,
   "metadata": {},
   "outputs": [],
   "source": [
    "loans_train['installment'].describe()"
   ]
  },
  {
   "cell_type": "code",
   "execution_count": null,
   "metadata": {},
   "outputs": [],
   "source": [
    "plt.figure(dpi=90)\n",
    "sns.distplot(loans_train['installment'], kde=False)\n",
    "plt.ylabel('count')\n",
    "plt.title('Installments (Training Set)')"
   ]
  },
  {
   "cell_type": "code",
   "execution_count": null,
   "metadata": {},
   "outputs": [],
   "source": [
    "loans_train['installment'].skew()"
   ]
  },
  {
   "cell_type": "markdown",
   "metadata": {
    "_cell_guid": "1b745ce5-987f-45b9-8e3f-6d5f760e3a7c",
    "_uuid": "687c301f0bd5f40efdeca5307e9d0cb6a1fb6161"
   },
   "source": [
    "### grade, sub_grade"
   ]
  },
  {
   "cell_type": "code",
   "execution_count": null,
   "metadata": {},
   "outputs": [],
   "source": [
    "df['grade'].value_counts().sort_index()"
   ]
  },
  {
   "cell_type": "markdown",
   "metadata": {
    "_cell_guid": "b1d34f86-4ffb-4024-ad0f-714bd5cb3f21",
    "_uuid": "efb24fbebc6a4b092a37b79e7fb6f29133d3315a"
   },
   "source": [
    "The grade is implied by the subgrade, so let's drop the grade column."
   ]
  },
  {
   "cell_type": "code",
   "execution_count": null,
   "metadata": {
    "_cell_guid": "9c00600b-0a58-4648-9448-4e960b705eb6",
    "_uuid": "a46021ef96a484732a847ed2f3cece9d423f73ec"
   },
   "outputs": [],
   "source": [
    "df.drop(labels=['grade'], axis=1, inplace=True)"
   ]
  },
  {
   "cell_type": "markdown",
   "metadata": {
    "_cell_guid": "98efbb15-f5d7-42ef-992a-92bb0860a803",
    "_uuid": "e84911043e002622f7c181e2be71d09ac277dbc8"
   },
   "source": [
    "### emp_length"
   ]
  },
  {
   "cell_type": "code",
   "execution_count": null,
   "metadata": {
    "_cell_guid": "a60d507b-dc0d-4e44-912e-0d214b1b85a9",
    "_uuid": "372fd175e1e4458f8a9bc860fd91798d696892be"
   },
   "outputs": [],
   "source": [
    "df['emp_length'].value_counts(dropna=False).sort_index()"
   ]
  },
  {
   "cell_type": "markdown",
   "metadata": {
    "_cell_guid": "a0093edf-c48f-4680-8581-055c857e842f",
    "_uuid": "c05991844e80bb0af5fe0be54a01e3a822d8f2cb"
   },
   "source": [
    "Let's convert `emp_length` to floats:"
   ]
  },
  {
   "cell_type": "code",
   "execution_count": null,
   "metadata": {
    "_cell_guid": "f5ce8306-8ca3-4a78-8332-7a12fd233f98",
    "_uuid": "fc61f2f288d38767f5fa1e3f7df5b58c7bc52a35"
   },
   "outputs": [],
   "source": [
    "def emp_conv(s):\n",
    "    try:\n",
    "        if pd.isnull(s):\n",
    "            return s\n",
    "        elif s[0] == '<':\n",
    "            return 0.0\n",
    "        elif s[:2] == '10':\n",
    "            return 10.0\n",
    "        else:\n",
    "            return float(s[0])\n",
    "    except TypeError:\n",
    "        return float(s)"
   ]
  },
  {
   "cell_type": "code",
   "execution_count": null,
   "metadata": {
    "_cell_guid": "f5ce8306-8ca3-4a78-8332-7a12fd233f98",
    "_uuid": "fc61f2f288d38767f5fa1e3f7df5b58c7bc52a35"
   },
   "outputs": [],
   "source": [
    "df['emp_length'] = df['emp_length'].apply(lambda s: emp_conv(s))"
   ]
  },
  {
   "cell_type": "code",
   "execution_count": null,
   "metadata": {
    "_cell_guid": "f5ce8306-8ca3-4a78-8332-7a12fd233f98",
    "_uuid": "fc61f2f288d38767f5fa1e3f7df5b58c7bc52a35"
   },
   "outputs": [],
   "source": [
    "df['emp_length'].value_counts(dropna=False).sort_index()"
   ]
  },
  {
   "cell_type": "markdown",
   "metadata": {
    "_cell_guid": "e994c5db-880e-4ec0-8cbd-4aacad373993",
    "_uuid": "332158cff90d2e051f5a80bee5983019ada32a30"
   },
   "source": [
    "### home_ownership"
   ]
  },
  {
   "cell_type": "code",
   "execution_count": null,
   "metadata": {
    "_cell_guid": "d574efb7-1a6b-4ec2-a446-827d75d0d9cf",
    "_uuid": "017c6be384f35a700cebfa761dbaee4ec6b73256"
   },
   "outputs": [],
   "source": [
    "df['home_ownership'].value_counts()"
   ]
  },
  {
   "cell_type": "markdown",
   "metadata": {
    "_cell_guid": "119da036-552d-4a95-a61f-7fdd464bcf5b",
    "_uuid": "840799ab7f984830bf29f0b677f4f14b672d4253"
   },
   "source": [
    "### verification_status"
   ]
  },
  {
   "cell_type": "code",
   "execution_count": null,
   "metadata": {
    "_cell_guid": "652e35e1-909f-4f32-94a2-836561bf4a02",
    "_uuid": "d1e800da00aea47ee7a5e2f876da9cbd66dc7947"
   },
   "outputs": [],
   "source": [
    "df['verification_status'].value_counts()"
   ]
  },
  {
   "cell_type": "markdown",
   "metadata": {},
   "source": [
    "### pymnt_plan"
   ]
  },
  {
   "cell_type": "code",
   "execution_count": null,
   "metadata": {},
   "outputs": [],
   "source": [
    "df['pymnt_plan'].value_counts(dropna=False)"
   ]
  },
  {
   "cell_type": "markdown",
   "metadata": {},
   "source": [
    "This feature will be removed automatically later."
   ]
  },
  {
   "cell_type": "markdown",
   "metadata": {
    "_cell_guid": "3a91aec4-9bc4-42d6-8c62-e3892a9a2754",
    "_uuid": "87124cd85754a1e6ef201217421ff2f50108cb2a"
   },
   "source": [
    "### purpose"
   ]
  },
  {
   "cell_type": "code",
   "execution_count": null,
   "metadata": {
    "_cell_guid": "9de7d1b4-212b-4478-88a2-a3176a03e982",
    "_uuid": "5d4c3c93e59ee2cde87f4fc5487b43c555c33faf"
   },
   "outputs": [],
   "source": [
    "df['purpose'].value_counts()"
   ]
  },
  {
   "cell_type": "markdown",
   "metadata": {
    "_cell_guid": "b6908ad9-66be-4a38-8e45-bacde206e987",
    "_uuid": "f68d4795cca9861dd340a2c155c0b956ae9f53fa"
   },
   "source": [
    "### zip_code, addr_state"
   ]
  },
  {
   "cell_type": "code",
   "execution_count": null,
   "metadata": {},
   "outputs": [],
   "source": [
    "df['zip_code'].nunique()"
   ]
  },
  {
   "cell_type": "code",
   "execution_count": null,
   "metadata": {},
   "outputs": [],
   "source": [
    "df['addr_state'].nunique()"
   ]
  },
  {
   "cell_type": "markdown",
   "metadata": {
    "_cell_guid": "a2485d09-8385-427d-9bcb-7c47b8034e53",
    "_uuid": "69aa28976c0826de8e461d39c5e3b5bfdf49e61c"
   },
   "source": [
    "There are a lot of zip codes, so let's just retain the state column."
   ]
  },
  {
   "cell_type": "code",
   "execution_count": null,
   "metadata": {
    "_cell_guid": "aef7a94f-613c-4137-86f2-d0591ea3a4bc",
    "_uuid": "d6d4c635eb86b895acda91d0cc1fa38327a96e7d"
   },
   "outputs": [],
   "source": [
    "df.drop(labels=['zip_code'], axis=1, inplace=True)"
   ]
  },
  {
   "cell_type": "markdown",
   "metadata": {
    "_cell_guid": "57408b52-70fd-4a45-b5bb-12f0c2612190",
    "_uuid": "2a671f42515e7c4727430a48e6163c6f77801275"
   },
   "source": [
    "### initial_list_status"
   ]
  },
  {
   "cell_type": "code",
   "execution_count": null,
   "metadata": {
    "_cell_guid": "4d334d9a-9b65-4310-8dad-0f51e25ed987",
    "_uuid": "003a7ac0ee85585ac40fb46ad7e5907352c0a3b0"
   },
   "outputs": [],
   "source": [
    "df['initial_list_status'].value_counts()"
   ]
  },
  {
   "cell_type": "markdown",
   "metadata": {
    "_cell_guid": "1284f252-1980-4113-a5d3-6f422c11dab6",
    "_uuid": "c7f2a45467caca0cd7be06c244f93d66eeb82243"
   },
   "source": [
    "I wasn't able to determine what the initial list status means."
   ]
  },
  {
   "cell_type": "markdown",
   "metadata": {
    "_cell_guid": "b34ab6cc-0a3f-4780-a234-743b9d406dca",
    "_uuid": "77b5eba4a13bd157c68f522ab8002094bb8b456d"
   },
   "source": [
    "### application_type"
   ]
  },
  {
   "cell_type": "code",
   "execution_count": null,
   "metadata": {
    "_cell_guid": "0fc4f079-695a-49e9-abac-05bf841bd9e5",
    "_uuid": "afc3918d6aa0db8f5ddeab49d17359155db1376d"
   },
   "outputs": [],
   "source": [
    "df['application_type'].value_counts()"
   ]
  },
  {
   "cell_type": "markdown",
   "metadata": {},
   "source": [
    "### hardship_flag"
   ]
  },
  {
   "cell_type": "code",
   "execution_count": null,
   "metadata": {},
   "outputs": [],
   "source": [
    "df['hardship_flag'].value_counts()"
   ]
  },
  {
   "cell_type": "markdown",
   "metadata": {},
   "source": [
    "This feature will be removed automatically later."
   ]
  },
  {
   "cell_type": "markdown",
   "metadata": {
    "_cell_guid": "3ada3298-69e6-4477-8c89-d4644355d5e8",
    "_uuid": "ac65e5c874b3ec32ad14884e15274dd64c1869d3"
   },
   "source": [
    "### disbursement_method"
   ]
  },
  {
   "cell_type": "code",
   "execution_count": null,
   "metadata": {
    "_cell_guid": "a0796820-ed1a-45d4-bbad-a0cd24b4b31e",
    "_uuid": "d612144ad296b2c463df392d29bcdf928718ec39"
   },
   "outputs": [],
   "source": [
    "df['disbursement_method'].value_counts()"
   ]
  },
  {
   "cell_type": "markdown",
   "metadata": {
    "_cell_guid": "03fcf116-3d14-4038-934b-cc6265fc6181",
    "_uuid": "50e63d0280f0f3ed0ed09812d73a867261fe0433"
   },
   "source": [
    "# Exploratory Data Analysis\n",
    "<a id=\"5\"></a>"
   ]
  },
  {
   "cell_type": "markdown",
   "metadata": {
    "_cell_guid": "1052b34a-487d-4aab-a87f-eae50a0b4224",
    "_uuid": "797b3da0449b25d2e87edde21b84d0cf209752ef"
   },
   "source": [
    "View some random rows:"
   ]
  },
  {
   "cell_type": "code",
   "execution_count": null,
   "metadata": {
    "_cell_guid": "9014b3c0-1a6a-4c26-8c66-0866c31941eb",
    "_uuid": "6fbd34cbcaf678395ba0a5a066a9abf960abe17f"
   },
   "outputs": [],
   "source": [
    "df.sample(3)"
   ]
  },
  {
   "cell_type": "markdown",
   "metadata": {
    "_cell_guid": "5a0b1c7c-2fe5-4005-9def-08afd7518a4c",
    "_uuid": "d5c69892f2d0ab0999b26d3c3370dc6055a5e009"
   },
   "source": [
    "Let's make a count plot of the loan purpose, separated by the `charged_off` value."
   ]
  },
  {
   "cell_type": "code",
   "execution_count": null,
   "metadata": {
    "_cell_guid": "02f5b08a-faa7-4471-a2af-ceca3e5d3b67",
    "_uuid": "d7426bf0ba72d49c0dcf5aeaef19980413ccb6bb",
    "scrolled": true
   },
   "outputs": [],
   "source": [
    "plt.figure(figsize=(12,6), dpi=100)\n",
    "sns.countplot(y='purpose', hue='charged_off', data=df, orient='h')"
   ]
  },
  {
   "cell_type": "markdown",
   "metadata": {
    "_cell_guid": "240c20e9-6336-47c6-9d92-69cc73433966",
    "_uuid": "fab8e8d284e011c9da9fedfa1a586a409f77ea0b"
   },
   "source": [
    "It appears that most of the charge-offs come from loans for debt consolidation or to pay off credit cards."
   ]
  },
  {
   "cell_type": "markdown",
   "metadata": {
    "_cell_guid": "4b958608-1759-47e5-841f-6605dc5ed233",
    "_uuid": "4ed5e8ea7bbffd7938cc119fbde663480d763d0e"
   },
   "source": [
    "Let's make a similar plot, but with `sub_grade` instead of `purpose`."
   ]
  },
  {
   "cell_type": "code",
   "execution_count": null,
   "metadata": {
    "_cell_guid": "d8c01435-3bff-405f-85c0-65c929912e48",
    "_uuid": "cb0938b6fb0578166eef9ecc15c05cd10130bfd5"
   },
   "outputs": [],
   "source": [
    "plt.figure(figsize=(16,6), dpi=120)\n",
    "sns.countplot(x='sub_grade', hue='charged_off', data=df, order=sorted(df['sub_grade'].value_counts().index))"
   ]
  },
  {
   "cell_type": "markdown",
   "metadata": {
    "_cell_guid": "e53dbddd-aff4-4d44-bc8e-a7637e953ab0",
    "_uuid": "cf7685607c32b9857f4fc0cce38c6feea215e2fe"
   },
   "source": [
    "There's a clear trend of higher probability of charge-off as the subgrade worsens."
   ]
  },
  {
   "cell_type": "markdown",
   "metadata": {
    "_cell_guid": "89996216-39b5-42b6-aaf6-af717843f0dc",
    "_uuid": "0e513faba220e8b66e1a4468c61f99f2e362e2c2"
   },
   "source": [
    "Let's make yet another similar plot, but with `term` instead of `sub_grade`."
   ]
  },
  {
   "cell_type": "code",
   "execution_count": null,
   "metadata": {
    "_cell_guid": "23d47bc0-8d57-4ade-a2c2-5d1a1cb3a538",
    "_uuid": "d524414c2b2c783a9b23e3b7147a3d925ef3b425"
   },
   "outputs": [],
   "source": [
    "plt.figure(figsize=(4,4), dpi=90)\n",
    "sns.countplot(x='term', hue='charged_off', data=df)"
   ]
  },
  {
   "cell_type": "markdown",
   "metadata": {
    "_cell_guid": "037ad31c-74b8-42fa-baf2-bf3dd5c2f955",
    "_uuid": "3a5a08102e6710ed10a910c66e10bc5df4bc5dba"
   },
   "source": [
    "Loans with a term of 60 months are much more likely to be charged off."
   ]
  },
  {
   "cell_type": "markdown",
   "metadata": {
    "_cell_guid": "60f3bbe0-518a-4d5d-a0d6-50355d9c2ba8",
    "_uuid": "bf557e627d93a47d9e69e2157571de6915392917"
   },
   "source": [
    "Now let's compare the interest rate to the loan status using histograms:"
   ]
  },
  {
   "cell_type": "code",
   "execution_count": null,
   "metadata": {
    "_cell_guid": "42a7fe60-efa9-4a09-8ccf-3c86fda017b0",
    "_uuid": "6672c522ccd0eac962d0045087f41e4c7284b454"
   },
   "outputs": [],
   "source": [
    "plt.figure(figsize=(10,4), dpi=90)\n",
    "sns.distplot(df['int_rate'].loc[df['charged_off']==0], kde=True, label='charged_off = 0')\n",
    "sns.distplot(df['int_rate'].loc[df['charged_off']==1], kde=True, label='charged_off = 1')\n",
    "plt.xlabel('int_rate')\n",
    "plt.ylabel('density')\n",
    "plt.legend()"
   ]
  },
  {
   "cell_type": "markdown",
   "metadata": {
    "_cell_guid": "1fd2a00f-0f95-481c-b9ff-d26526eb5f04",
    "_uuid": "321c4fb18ebd1bcf6689d7a5d3f23f80752bcfb3"
   },
   "source": [
    "Charged-off loans tend to have higher interest rates."
   ]
  },
  {
   "cell_type": "markdown",
   "metadata": {
    "_cell_guid": "0708298c-18c9-4579-9f17-a21e2b76db4f",
    "_uuid": "50b61c252325f6170b4dd3eef39a973a05ea1577"
   },
   "source": [
    "Now let's compare the borrower's most recent FICO score (a credit score) to the loan status."
   ]
  },
  {
   "cell_type": "code",
   "execution_count": null,
   "metadata": {
    "_cell_guid": "7b5e856b-0487-4b7a-8cd5-762ef95aed89",
    "_uuid": "8b38ce7a4cf7015752c9eb1bcfadd2d535ae0fda"
   },
   "outputs": [],
   "source": [
    "plt.figure(figsize=(10,4), dpi=90)\n",
    "sns.distplot(df['last_fico_range_high'].loc[df['charged_off']==0], label='charged_off = 0')\n",
    "sns.distplot(df['last_fico_range_high'].loc[df['charged_off']==1], label='charged_off = 1')\n",
    "plt.xlabel('last_fico_range_high')\n",
    "plt.ylabel('density')\n",
    "plt.legend()"
   ]
  },
  {
   "cell_type": "markdown",
   "metadata": {
    "_cell_guid": "c14e89b8-15e6-47f6-ab7a-b65a65331d0a",
    "_uuid": "1e1a8edad690d093dbc1a41d876aeb656f39ca90"
   },
   "source": [
    "There's a strong correlation here: charged-off loans tend to have much lower FICO scores."
   ]
  },
  {
   "cell_type": "markdown",
   "metadata": {
    "_cell_guid": "cf5fdca3-0028-43f7-894f-76bfc1e33a4a",
    "_uuid": "99854ef8dc13dfcb3a60c83c71bef79cfafe765b"
   },
   "source": [
    "# More Pre-processing\n",
    "<a id=\"7\"></a>"
   ]
  },
  {
   "cell_type": "markdown",
   "metadata": {
    "_cell_guid": "1346206c-dd33-4da3-be18-8b0af193d776",
    "_uuid": "cd60bea970881e3d32c9e11e1008814ec880b57c"
   },
   "source": [
    "## Create dummy variables\n",
    "<a id=\"6.1\"></a>"
   ]
  },
  {
   "cell_type": "code",
   "execution_count": null,
   "metadata": {
    "_cell_guid": "787e1bc7-accd-4b1a-9f57-6e23c517399b",
    "_uuid": "950a720893228a27b639dd8dacac4e9561f0daa7"
   },
   "outputs": [],
   "source": [
    "df.shape"
   ]
  },
  {
   "cell_type": "code",
   "execution_count": null,
   "metadata": {
    "_cell_guid": "52024d7a-f856-4b8b-ba68-0b0e4ca7f07c",
    "_uuid": "3bbb478c41375661a0c52899dc222bc9fe1c7023"
   },
   "outputs": [],
   "source": [
    "df = pd.get_dummies(df, drop_first=True)"
   ]
  },
  {
   "cell_type": "code",
   "execution_count": null,
   "metadata": {
    "_cell_guid": "22cf7871-1850-4c2e-9786-9ebf1fad18ee",
    "_uuid": "9241e4b9c74cfadeb4c660da1aa68a073955ffbb"
   },
   "outputs": [],
   "source": [
    "df.shape"
   ]
  },
  {
   "cell_type": "markdown",
   "metadata": {
    "_cell_guid": "7ea13fa1-7c75-484f-86d3-3268a72f43ea",
    "_uuid": "12769431bbc57650cd3babc647b185fce8c140fd"
   },
   "source": [
    "Now all the features (171 of them) are numerical. What does the data look like after converting categorical features to dummy variables?"
   ]
  },
  {
   "cell_type": "code",
   "execution_count": null,
   "metadata": {
    "_cell_guid": "1d88c5c8-8a56-4e7c-969e-61785d68d650",
    "_uuid": "dc6af80d337ca418f1b32f76e387b43eeef23997"
   },
   "outputs": [],
   "source": [
    "df.sample(3)"
   ]
  },
  {
   "cell_type": "markdown",
   "metadata": {
    "_cell_guid": "35ee020b-95d2-4cb3-9ade-a7cf08e9ace8",
    "_uuid": "266c4c677d0737fa3e28dbe271e8223467967ae0"
   },
   "source": [
    "## Train/test split\n",
    "<a id=\"7.1\"></a>"
   ]
  },
  {
   "cell_type": "code",
   "execution_count": null,
   "metadata": {
    "_cell_guid": "73b60707-f995-4487-a799-7e7d2a6e5b5f",
    "_uuid": "4b81987b3bf09fa83c79e47d04aa1192ffea61a5"
   },
   "outputs": [],
   "source": [
    "X = df.drop(labels=['charged_off'], axis=1) # Features\n",
    "y = df.loc[:,'charged_off'] # Response variable\n",
    "df = None"
   ]
  },
  {
   "cell_type": "code",
   "execution_count": null,
   "metadata": {
    "_cell_guid": "367d4fe7-e305-478c-b10a-b3279f9b58e9",
    "_uuid": "456be27a6cbb840501ba58bccacd8150c9c7bbd1"
   },
   "outputs": [],
   "source": [
    "from sklearn.model_selection import train_test_split"
   ]
  },
  {
   "cell_type": "markdown",
   "metadata": {
    "_cell_guid": "0616d433-213b-4a81-bfb2-e65d6ba5fb79",
    "_uuid": "6c8d9bd7443c621e8707f3d4b8fdeee75a503167"
   },
   "source": [
    "Let's do a 90/10 train/test split."
   ]
  },
  {
   "cell_type": "code",
   "execution_count": null,
   "metadata": {
    "_cell_guid": "6b64a2bd-0785-404d-8e75-b82712f8ab6a",
    "_uuid": "c385aaf98736317f4d2971fba7170aab75a3ce9d"
   },
   "outputs": [],
   "source": [
    "random_state = 1 # Just to make the results fixed\n",
    "X_train, X_test, y_train, y_test = train_test_split(X, y, test_size=0.1, random_state=random_state, stratify=y)\n",
    "X = None\n",
    "y = None"
   ]
  },
  {
   "cell_type": "code",
   "execution_count": null,
   "metadata": {},
   "outputs": [],
   "source": [
    "X_train.shape"
   ]
  },
  {
   "cell_type": "code",
   "execution_count": null,
   "metadata": {},
   "outputs": [],
   "source": [
    "X_test.shape"
   ]
  },
  {
   "cell_type": "markdown",
   "metadata": {
    "_cell_guid": "4d75c70c-4f7d-4c84-abab-cc22fe78ca04",
    "_uuid": "3eb671b052048ab6e3a161b773160151440bc077"
   },
   "source": [
    "## Imputation with mean substitution\n",
    "<a id=\"7.2\"></a>"
   ]
  },
  {
   "cell_type": "markdown",
   "metadata": {
    "_cell_guid": "ef289f73-fa8e-43ff-a739-52b39221be56",
    "_uuid": "11c157b0eb3cee2bd0dcd8d6ee72d99c757336b3"
   },
   "source": [
    "How complete is our training data?"
   ]
  },
  {
   "cell_type": "code",
   "execution_count": null,
   "metadata": {
    "_cell_guid": "e2c1de55-63f7-4a88-a2d3-532fac855d39",
    "_uuid": "ef20d8e989c4cab1498c9eca8e26993d1002c808",
    "scrolled": true
   },
   "outputs": [],
   "source": [
    "incomplete_cols(X_train)"
   ]
  },
  {
   "cell_type": "markdown",
   "metadata": {
    "_cell_guid": "cc46fb54-6537-4dfd-8b25-26dc029cd921",
    "_uuid": "b03a222b3626e441ef356cc5e0f0b9cb25eb0e0b"
   },
   "source": [
    "The learning algorithms cannot have missing data. Perform mean substitution, using only the means of the training set to prevent test set leakage."
   ]
  },
  {
   "cell_type": "code",
   "execution_count": null,
   "metadata": {
    "_cell_guid": "6566134d-7bf8-4b74-9fa7-ffc66470f7c3",
    "_uuid": "851d2e8508f723a605e442ed71a5aa64bd62588c"
   },
   "outputs": [],
   "source": [
    "from sklearn.preprocessing import Imputer"
   ]
  },
  {
   "cell_type": "code",
   "execution_count": null,
   "metadata": {
    "_cell_guid": "118c6cb2-ffa7-4505-838f-475ff61f0fb9",
    "_uuid": "de03f263248639ac3f90c3721b82a29cae54431b"
   },
   "outputs": [],
   "source": [
    "imputer = Imputer().fit(X_train)"
   ]
  },
  {
   "cell_type": "code",
   "execution_count": null,
   "metadata": {
    "_cell_guid": "e4c2e660-e592-4871-b7b0-cae08e0e40af",
    "_uuid": "db1b87cad194575b09a6ef7c8474736ef4250554"
   },
   "outputs": [],
   "source": [
    "X_train = pd.DataFrame(imputer.transform(X_train), columns=X_train.columns)\n",
    "X_test  = pd.DataFrame(imputer.transform(X_test),  columns=X_test.columns)"
   ]
  },
  {
   "cell_type": "markdown",
   "metadata": {
    "_cell_guid": "d241b358-7f0b-44d3-86cd-d2d98d5dbf9e",
    "_uuid": "e91e0c1eb2783fa8701c4c1e45b01743c6d5f934"
   },
   "source": [
    "## Standardize the data\n",
    "<a id=\"7.3\"></a>"
   ]
  },
  {
   "cell_type": "markdown",
   "metadata": {
    "_cell_guid": "55f362d4-9e8a-43c7-a17d-48908fb1c66b",
    "_uuid": "a23991734ea1e185d9dab2f67f5098c9c515e93a"
   },
   "source": [
    "Shift and scale each column individually so that it has zero mean and unit variance. This will help to train the linear models.\n",
    "\n",
    "Train the scaler using only the training data to prevent test set leakage."
   ]
  },
  {
   "cell_type": "code",
   "execution_count": null,
   "metadata": {
    "_cell_guid": "e3811aa0-2b4e-4c07-8e81-f7e3a4b78162",
    "_uuid": "595deb455cbc792529daf83a78a70b9793dfd411"
   },
   "outputs": [],
   "source": [
    "from sklearn.preprocessing import StandardScaler"
   ]
  },
  {
   "cell_type": "code",
   "execution_count": null,
   "metadata": {
    "_cell_guid": "543d7769-a4fb-4fdd-9be3-648c12d4977a",
    "_uuid": "2fbc17402c0a863c1058859be0560b52b327bdc9"
   },
   "outputs": [],
   "source": [
    "scaler = StandardScaler().fit(X_train)"
   ]
  },
  {
   "cell_type": "code",
   "execution_count": null,
   "metadata": {
    "_cell_guid": "5f86cfff-0b10-4ff4-b136-0fb51edf50af",
    "_uuid": "f73bd45195b53ff5edec0b13bf9db8b133431ac1"
   },
   "outputs": [],
   "source": [
    "X_train = pd.DataFrame(scaler.transform(X_train), columns=X_train.columns)\n",
    "X_test  = pd.DataFrame(scaler.transform(X_test),  columns=X_test.columns)"
   ]
  },
  {
   "cell_type": "markdown",
   "metadata": {},
   "source": [
    "## Automatic feature selection"
   ]
  },
  {
   "cell_type": "code",
   "execution_count": null,
   "metadata": {},
   "outputs": [],
   "source": [
    "from sklearn.feature_selection import SelectKBest, mutual_info_classif"
   ]
  },
  {
   "cell_type": "code",
   "execution_count": null,
   "metadata": {},
   "outputs": [],
   "source": [
    "selector = SelectKBest(mutual_info_classif, k=15)"
   ]
  },
  {
   "cell_type": "code",
   "execution_count": null,
   "metadata": {},
   "outputs": [],
   "source": [
    "selector.fit(X_train.iloc[1:50000], y_train.iloc[1:50000])"
   ]
  },
  {
   "cell_type": "code",
   "execution_count": null,
   "metadata": {},
   "outputs": [],
   "source": [
    "X_train.shape"
   ]
  },
  {
   "cell_type": "code",
   "execution_count": null,
   "metadata": {},
   "outputs": [],
   "source": [
    "X_test.shape"
   ]
  },
  {
   "cell_type": "code",
   "execution_count": null,
   "metadata": {},
   "outputs": [],
   "source": [
    "X_train = selector.transform(X_train)\n",
    "X_test  = selector.transform(X_test)"
   ]
  },
  {
   "cell_type": "code",
   "execution_count": null,
   "metadata": {},
   "outputs": [],
   "source": [
    "X_train.shape"
   ]
  },
  {
   "cell_type": "code",
   "execution_count": null,
   "metadata": {},
   "outputs": [],
   "source": [
    "X_test.shape"
   ]
  },
  {
   "cell_type": "markdown",
   "metadata": {
    "_cell_guid": "52309b77-d97d-412a-b20f-da81f44a486f",
    "_uuid": "bbabe5a3810756b27f10e862f3d7ea34a21a20f8"
   },
   "source": [
    "# Predictive Modeling: SGDClassifier\n",
    "<a id=\"8\"></a>"
   ]
  },
  {
   "cell_type": "markdown",
   "metadata": {
    "_cell_guid": "fc774c42-47e6-427a-ac9c-a4bdbf7b5837",
    "_uuid": "39ac0b9f118cbb5b11d6749f2ec3f8aa3f97ac6d"
   },
   "source": [
    "I decided to use a SGD Classifier by looking at the machine learning flowchart here: http://scikit-learn.org/stable/tutorial/machine_learning_map/index.html.\n",
    "\n",
    "The SGDClassifier estimator implements linear classifiers (SVM, logistic regression, a.o.) with SGD training. The linear classifier is chosen by the `loss` hyperparameter."
   ]
  },
  {
   "cell_type": "code",
   "execution_count": null,
   "metadata": {
    "_cell_guid": "81e2ef8e-37af-44e5-a802-8ea4b028c5f8",
    "_uuid": "1799e7f0f05fed4064007a5cec36869eb3a43ba9"
   },
   "outputs": [],
   "source": [
    "from sklearn.linear_model import SGDClassifier\n",
    "from sklearn.model_selection import GridSearchCV\n",
    "from sklearn.metrics import matthews_corrcoef, make_scorer"
   ]
  },
  {
   "cell_type": "markdown",
   "metadata": {
    "_cell_guid": "04560103-0efe-4ace-831b-be73ece4fe7b",
    "_uuid": "4476709021bd10a8e39d8f7e99e8fdf4adcb6970"
   },
   "source": [
    "## Train with grid search\n",
    "<a id=\"8.1\"></a>"
   ]
  },
  {
   "cell_type": "markdown",
   "metadata": {
    "_cell_guid": "b7460548-ee72-4f66-b921-2ea68bd5db24",
    "_uuid": "edd6b1de60cf7b9da054d0259ea83e8b4e4e8719"
   },
   "source": [
    "We're going to search through many hyperparameters of SGDClassifier using an exhaustive grid search with 3-fold cross-validation, implemented in GridSearchCV.\n",
    "\n",
    "Here are the hyperparameters that we'll try:"
   ]
  },
  {
   "cell_type": "code",
   "execution_count": null,
   "metadata": {
    "_cell_guid": "7de32018-fcad-45b2-b770-3c29b075d3d5",
    "_uuid": "1508be5b632d730bcd308afd299aa7e4d03906b2"
   },
   "outputs": [],
   "source": [
    "param_grid = [{'loss': ['hinge'],\n",
    "               'alpha': [10.0**k for k in range(-3, 3)],\n",
    "               'class_weight': [None, 'balanced']},\n",
    "              {'loss': ['log'],\n",
    "               'alpha': [10.0**k for k in range(-3, 3)],\n",
    "               'penalty': ['l2', 'l1']}]"
   ]
  },
  {
   "cell_type": "markdown",
   "metadata": {
    "_cell_guid": "9fb73eb0-d7cc-4335-bdd0-e4297f358732",
    "_uuid": "2de3c9d4458c1e18531be4b3271ce83895bb9ad2"
   },
   "source": [
    "Instantiate the grid estimator. We'll use the Matthews correlation coefficient as our scoring metric."
   ]
  },
  {
   "cell_type": "code",
   "execution_count": null,
   "metadata": {
    "_cell_guid": "c016e122-86dd-4c96-88c2-a901fe48cf70",
    "_uuid": "8144ec0a936a93a1fbf5e2dd00cd0082dbc40782"
   },
   "outputs": [],
   "source": [
    "grid = GridSearchCV(estimator=SGDClassifier(max_iter=1000, tol=1e-3, random_state=random_state, warm_start=True), param_grid=param_grid, scoring=make_scorer(matthews_corrcoef), n_jobs=4, pre_dispatch=8, cv=5, verbose=1)"
   ]
  },
  {
   "cell_type": "markdown",
   "metadata": {
    "_cell_guid": "a486c903-f33c-41a2-89bc-ad1b0d3e1fb3",
    "_uuid": "536169e18eb2d6428b9abb8029705e6fd54c8390"
   },
   "source": [
    "Run the grid search (this could take some time)."
   ]
  },
  {
   "cell_type": "code",
   "execution_count": null,
   "metadata": {
    "_cell_guid": "b907b40c-402d-4d4a-a919-e4b63e0a832d",
    "_uuid": "76e6c2e828e670a1494d4d4fbec01f232f067512"
   },
   "outputs": [],
   "source": [
    "grid.fit(X_train, y_train)"
   ]
  },
  {
   "cell_type": "markdown",
   "metadata": {
    "_cell_guid": "67901f97-33dc-4ff0-8968-127eda9da452",
    "_uuid": "a6829cf727f13a804180637da8cfc8477754b8c6"
   },
   "source": [
    "Hyperparameters that gave the best results on the hold out data:"
   ]
  },
  {
   "cell_type": "code",
   "execution_count": null,
   "metadata": {
    "_cell_guid": "14983fb4-d45a-431d-9c03-20d737862cc7",
    "_uuid": "fffc4de31000514e733ccd7c8f0aac9306226644"
   },
   "outputs": [],
   "source": [
    "grid.best_params_"
   ]
  },
  {
   "cell_type": "markdown",
   "metadata": {},
   "source": [
    "Mean cross-validated MCC score of the best estimator:"
   ]
  },
  {
   "cell_type": "code",
   "execution_count": null,
   "metadata": {},
   "outputs": [],
   "source": [
    "grid.best_score_"
   ]
  },
  {
   "cell_type": "markdown",
   "metadata": {},
   "source": [
    "Weights assigned to the features by the best estimator:"
   ]
  },
  {
   "cell_type": "code",
   "execution_count": null,
   "metadata": {},
   "outputs": [],
   "source": [
    "plt.figure(figsize=(6,4), dpi=90)\n",
    "sns.barplot(y=np.arange(0,15), x=grid.best_estimator_.coef_[0,:], orient='h')\n",
    "plt.title(\"Classifier Weights\")\n",
    "plt.xlabel(\"classifier weight\")"
   ]
  },
  {
   "cell_type": "markdown",
   "metadata": {
    "_cell_guid": "61ffd538-9579-4638-8156-bcb3f29b39ab",
    "_uuid": "f3b87036a9ae078b8a9cc36ce5b47f734059358c"
   },
   "source": [
    "## Test set evaluation\n",
    "<a id=\"8.2\"></a>"
   ]
  },
  {
   "cell_type": "code",
   "execution_count": null,
   "metadata": {},
   "outputs": [],
   "source": [
    "from sklearn.metrics import confusion_matrix, classification_report, matthews_corrcoef, cohen_kappa_score, accuracy_score, average_precision_score, roc_auc_score"
   ]
  },
  {
   "cell_type": "code",
   "execution_count": null,
   "metadata": {},
   "outputs": [],
   "source": [
    "def classification_eval(estimator, X_test, y_test):\n",
    "    \"\"\"\n",
    "    Print several metrics of classification performance of an estimator, given features X_test and true labels y_test.\n",
    "    \n",
    "    Input: estimator or GridSearchCV instance, X_test, y_test\n",
    "    Returns: text printout of metrics\n",
    "    \"\"\"\n",
    "    y_pred = estimator.predict(X_test)\n",
    "    \n",
    "    # Number of decimal places based on number of samples\n",
    "    dec = np.int64(np.ceil(np.log10(len(y_test))))\n",
    "    \n",
    "    print('Confusion matrix')\n",
    "    print(confusion_matrix(y_test, y_pred), '\\n')\n",
    "    \n",
    "    print('Classification report')\n",
    "    print(classification_report(y_test, y_pred, digits=dec))\n",
    "    \n",
    "    print('Scalar metrics')\n",
    "    format_str = '%%13s = %%.%if' % dec\n",
    "    print(format_str % ('MCC', matthews_corrcoef(y_test, y_pred)))\n",
    "    if y_test.nunique() <= 2: # Additional metrics for binary classification\n",
    "        try:\n",
    "            y_score = estimator.predict_proba(X_test)[:,1]\n",
    "        except:\n",
    "            y_score = estimator.decision_function(X_test)\n",
    "        print(format_str % ('AUPRC', average_precision_score(y_test, y_score)))\n",
    "        print(format_str % ('AUROCC', roc_auc_score(y_test, y_score)))\n",
    "    print(format_str % (\"Cohen's kappa\", cohen_kappa_score(y_test, y_pred)))\n",
    "    print(format_str % ('Accuracy', accuracy_score(y_test, y_pred)))\n",
    "    # Add Informedness\n",
    "    # Add Markedness\n",
    "    # Add Fleiss' kappa"
   ]
  },
  {
   "cell_type": "markdown",
   "metadata": {},
   "source": [
    "Test set evaluation metrics:"
   ]
  },
  {
   "cell_type": "code",
   "execution_count": null,
   "metadata": {},
   "outputs": [],
   "source": [
    "classification_eval(grid, X_test, y_test)"
   ]
  }
 ],
 "metadata": {
  "kernelspec": {
   "display_name": "Python 3",
   "language": "python",
   "name": "python3"
  },
  "language_info": {
   "codemirror_mode": {
    "name": "ipython",
    "version": 3
   },
   "file_extension": ".py",
   "mimetype": "text/x-python",
   "name": "python",
   "nbconvert_exporter": "python",
   "pygments_lexer": "ipython3",
   "version": "3.6.5"
  }
 },
 "nbformat": 4,
 "nbformat_minor": 1
}
