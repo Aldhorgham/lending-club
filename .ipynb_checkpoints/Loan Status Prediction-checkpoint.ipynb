{
 "cells": [
  {
   "cell_type": "markdown",
   "metadata": {
    "_cell_guid": "1e8676bb-b153-45c9-a4ab-13b883e8e896",
    "_uuid": "90e7167782a3bdb675b5b6c581ec99d6920c8939"
   },
   "source": [
    "# Loan Status Prediction: Lending Club, 2007-2017\n",
    "\n",
    "***By Joe Corliss***"
   ]
  },
  {
   "cell_type": "markdown",
   "metadata": {
    "_cell_guid": "40dc37f2-37a8-4f73-897d-b28a8755e88b",
    "_uuid": "b645d94d7d7103b4000a089c42fca8afa54bac2e"
   },
   "source": [
    "## Table of Contents\n",
    "\n",
    "(Currently outdated)\n",
    "\n",
    "1. [Summary](#1)\n",
    "    1. [Spoilers](#1.1)\n",
    "2. [Import the Data](#2)\n",
    "3. [Target Variable](#3)\n",
    "4. [Feature Selection](#4)\n",
    "    1. [Drop columns that have only one distinct value](#4.1)\n",
    "    2. [Remove columns that have < 2% data](#4.2)\n",
    "    3. [Remove irrelevant features](#4.3)\n",
    "    4. [Remove features that could make predictions too easy](#4.4)\n",
    "    5. [Inspect non-numerical features](#4.5)\n",
    "5. [Exploratory Data Analysis](#5)\n",
    "6. [Correlations with 'charged_off'](#6)\n",
    "    1. [Create dummy variables](#6.1)\n",
    "    2. [Compute correlations with 'charged_off'](#6.2)\n",
    "7. [More Pre-processing](#7)\n",
    "    1. [Train/test split](#7.1)\n",
    "    2. [Imputation with mean substitution](#7.2)\n",
    "    3. [Standardize the data](#7.3)\n",
    "8. [Predictive Modeling: SGDClassifier](#8)\n",
    "    1. [Train with grid search](#8.1)\n",
    "    2. [Test set evaluation](#8.2)"
   ]
  },
  {
   "cell_type": "markdown",
   "metadata": {},
   "source": [
    "# Introduction"
   ]
  },
  {
   "cell_type": "markdown",
   "metadata": {
    "_cell_guid": "1e8676bb-b153-45c9-a4ab-13b883e8e896",
    "_uuid": "90e7167782a3bdb675b5b6c581ec99d6920c8939"
   },
   "source": [
    "[Data source on Kaggle](https://www.kaggle.com/wordsforthewise/lending-club)\n",
    "\n",
    "[Older, smaller dataset](https://www.kaggle.com/wendykan/lending-club-loan-data)\n",
    "\n",
    "[Notebook on Kaggle](https://www.kaggle.com/pileatedperch/predicting-loan-status-mcc-0-73)\n",
    "\n",
    "[Lending Club Statistics](https://www.lendingclub.com/info/download-data.action)\n",
    "\n",
    "[GitHub Repository](https://github.com/jgcorliss/lending-club)"
   ]
  },
  {
   "cell_type": "markdown",
   "metadata": {
    "_cell_guid": "4a90478f-c30d-44f0-84af-6e3bb311165c",
    "_uuid": "264453f199b6f027fbcce63057de3be7e5401bde"
   },
   "source": [
    "The goal of this project is to predict whether a loan will be fully paid or charged off. We'll remove some features that would make this prediction too easy, such as the total payments received on the loan to date."
   ]
  },
  {
   "cell_type": "markdown",
   "metadata": {
    "_cell_guid": "b018242b-b3c5-4245-b5d7-ea6a3f28d4c8",
    "_uuid": "2053f9b0b897cad21155cca0a00c537bfd1bb340"
   },
   "source": [
    "# Import the Data\n",
    "<a id=\"2\"></a>"
   ]
  },
  {
   "cell_type": "markdown",
   "metadata": {
    "_cell_guid": "8fe25919-5ebd-4101-b62a-c7d234e8bd29",
    "_uuid": "56a4335d022fcd47a34be72a06c88f14db3b7915"
   },
   "source": [
    "Import basic libraries."
   ]
  },
  {
   "cell_type": "code",
   "execution_count": 3,
   "metadata": {
    "_cell_guid": "d237539e-2aa1-438e-a2c6-39a48c47211c",
    "_uuid": "3a39bcc870d823d4923c7ec9d8acb62c733bebaa"
   },
   "outputs": [],
   "source": [
    "import numpy as np\n",
    "import scipy as sp\n",
    "import pandas as pd\n",
    "import matplotlib as mpl\n",
    "import matplotlib.pyplot as plt\n",
    "import seaborn as sns\n",
    "\n",
    "# Pandas options\n",
    "pd.set_option('display.max_colwidth', 1000, 'display.max_rows', None, 'display.max_columns', None)\n",
    "\n",
    "# Plotting options\n",
    "%matplotlib inline\n",
    "#mpl.style.use('ggplot')\n",
    "sns.set(style='whitegrid')"
   ]
  },
  {
   "cell_type": "markdown",
   "metadata": {
    "_cell_guid": "4c0f7ef4-37a3-4c71-847f-38f924706540",
    "_uuid": "c4b355a5d50e067d1461d6504cb04d827f65c6cd"
   },
   "source": [
    "Read in the data."
   ]
  },
  {
   "cell_type": "code",
   "execution_count": 4,
   "metadata": {
    "_cell_guid": "b54dd1e5-bbf7-4014-9434-3495a578e27f",
    "_uuid": "370f21d16cb87752040bb20a82a9115db2e36cb5"
   },
   "outputs": [
    {
     "name": "stderr",
     "output_type": "stream",
     "text": [
      "C:\\Users\\Joe\\Anaconda3\\lib\\site-packages\\IPython\\core\\interactiveshell.py:2728: DtypeWarning: Columns (0,18,48,58,117,128,129,130,133,134,135,138,144,145,146) have mixed types. Specify dtype option on import or set low_memory=False.\n",
      "  interactivity=interactivity, compiler=compiler, result=result)\n"
     ]
    }
   ],
   "source": [
    "df = pd.read_csv('accepted_2007_to_2017Q3.csv.gz', compression='gzip')"
   ]
  },
  {
   "cell_type": "markdown",
   "metadata": {
    "_cell_guid": "b195b476-a58b-4a6b-9745-f26a86e9c61c",
    "_uuid": "ee053ebca5fbc378cf651939bde5e378e5d0cdae"
   },
   "source": [
    "Check basic dataframe info."
   ]
  },
  {
   "cell_type": "code",
   "execution_count": 5,
   "metadata": {},
   "outputs": [
    {
     "data": {
      "text/plain": [
       "(1646801, 150)"
      ]
     },
     "execution_count": 5,
     "metadata": {},
     "output_type": "execute_result"
    }
   ],
   "source": [
    "df.shape"
   ]
  },
  {
   "cell_type": "code",
   "execution_count": 6,
   "metadata": {
    "_cell_guid": "f4a7c9a2-ff89-4219-8ff9-2324bef16bdf",
    "_uuid": "00c703a1943e72a68b83c4ddf46c00310656e22c"
   },
   "outputs": [
    {
     "name": "stdout",
     "output_type": "stream",
     "text": [
      "<class 'pandas.core.frame.DataFrame'>\n",
      "RangeIndex: 1646801 entries, 0 to 1646800\n",
      "Columns: 150 entries, id to settlement_term\n",
      "dtypes: float64(113), object(37)\n",
      "memory usage: 1.8+ GB\n"
     ]
    }
   ],
   "source": [
    "df.info()"
   ]
  },
  {
   "cell_type": "markdown",
   "metadata": {
    "_cell_guid": "53dad5c0-e147-4a75-9143-263c25aca443",
    "_uuid": "9174c9f401807a208e48aae2553eb69fa807f1cf"
   },
   "source": [
    "Sample some rows:"
   ]
  },
  {
   "cell_type": "code",
   "execution_count": 7,
   "metadata": {
    "_cell_guid": "ecdf5e79-8e7d-4e10-9d6a-bbed279cf07d",
    "_uuid": "927c3589a9c7ae39e78c2ad42f569101442cbb48"
   },
   "outputs": [
    {
     "data": {
      "text/html": [
       "<div>\n",
       "<style scoped>\n",
       "    .dataframe tbody tr th:only-of-type {\n",
       "        vertical-align: middle;\n",
       "    }\n",
       "\n",
       "    .dataframe tbody tr th {\n",
       "        vertical-align: top;\n",
       "    }\n",
       "\n",
       "    .dataframe thead th {\n",
       "        text-align: right;\n",
       "    }\n",
       "</style>\n",
       "<table border=\"1\" class=\"dataframe\">\n",
       "  <thead>\n",
       "    <tr style=\"text-align: right;\">\n",
       "      <th></th>\n",
       "      <th>id</th>\n",
       "      <th>member_id</th>\n",
       "      <th>loan_amnt</th>\n",
       "      <th>funded_amnt</th>\n",
       "      <th>funded_amnt_inv</th>\n",
       "      <th>term</th>\n",
       "      <th>int_rate</th>\n",
       "      <th>installment</th>\n",
       "      <th>grade</th>\n",
       "      <th>sub_grade</th>\n",
       "      <th>emp_title</th>\n",
       "      <th>emp_length</th>\n",
       "      <th>home_ownership</th>\n",
       "      <th>annual_inc</th>\n",
       "      <th>verification_status</th>\n",
       "      <th>issue_d</th>\n",
       "      <th>loan_status</th>\n",
       "      <th>pymnt_plan</th>\n",
       "      <th>desc</th>\n",
       "      <th>purpose</th>\n",
       "      <th>title</th>\n",
       "      <th>zip_code</th>\n",
       "      <th>addr_state</th>\n",
       "      <th>dti</th>\n",
       "      <th>delinq_2yrs</th>\n",
       "      <th>earliest_cr_line</th>\n",
       "      <th>fico_range_low</th>\n",
       "      <th>fico_range_high</th>\n",
       "      <th>inq_last_6mths</th>\n",
       "      <th>mths_since_last_delinq</th>\n",
       "      <th>mths_since_last_record</th>\n",
       "      <th>open_acc</th>\n",
       "      <th>pub_rec</th>\n",
       "      <th>revol_bal</th>\n",
       "      <th>revol_util</th>\n",
       "      <th>total_acc</th>\n",
       "      <th>initial_list_status</th>\n",
       "      <th>out_prncp</th>\n",
       "      <th>out_prncp_inv</th>\n",
       "      <th>total_pymnt</th>\n",
       "      <th>total_pymnt_inv</th>\n",
       "      <th>total_rec_prncp</th>\n",
       "      <th>total_rec_int</th>\n",
       "      <th>total_rec_late_fee</th>\n",
       "      <th>recoveries</th>\n",
       "      <th>collection_recovery_fee</th>\n",
       "      <th>last_pymnt_d</th>\n",
       "      <th>last_pymnt_amnt</th>\n",
       "      <th>next_pymnt_d</th>\n",
       "      <th>last_credit_pull_d</th>\n",
       "      <th>last_fico_range_high</th>\n",
       "      <th>last_fico_range_low</th>\n",
       "      <th>collections_12_mths_ex_med</th>\n",
       "      <th>mths_since_last_major_derog</th>\n",
       "      <th>policy_code</th>\n",
       "      <th>application_type</th>\n",
       "      <th>annual_inc_joint</th>\n",
       "      <th>dti_joint</th>\n",
       "      <th>verification_status_joint</th>\n",
       "      <th>acc_now_delinq</th>\n",
       "      <th>tot_coll_amt</th>\n",
       "      <th>tot_cur_bal</th>\n",
       "      <th>open_acc_6m</th>\n",
       "      <th>open_act_il</th>\n",
       "      <th>open_il_12m</th>\n",
       "      <th>open_il_24m</th>\n",
       "      <th>mths_since_rcnt_il</th>\n",
       "      <th>total_bal_il</th>\n",
       "      <th>il_util</th>\n",
       "      <th>open_rv_12m</th>\n",
       "      <th>open_rv_24m</th>\n",
       "      <th>max_bal_bc</th>\n",
       "      <th>all_util</th>\n",
       "      <th>total_rev_hi_lim</th>\n",
       "      <th>inq_fi</th>\n",
       "      <th>total_cu_tl</th>\n",
       "      <th>inq_last_12m</th>\n",
       "      <th>acc_open_past_24mths</th>\n",
       "      <th>avg_cur_bal</th>\n",
       "      <th>bc_open_to_buy</th>\n",
       "      <th>bc_util</th>\n",
       "      <th>chargeoff_within_12_mths</th>\n",
       "      <th>delinq_amnt</th>\n",
       "      <th>mo_sin_old_il_acct</th>\n",
       "      <th>mo_sin_old_rev_tl_op</th>\n",
       "      <th>mo_sin_rcnt_rev_tl_op</th>\n",
       "      <th>mo_sin_rcnt_tl</th>\n",
       "      <th>mort_acc</th>\n",
       "      <th>mths_since_recent_bc</th>\n",
       "      <th>mths_since_recent_bc_dlq</th>\n",
       "      <th>mths_since_recent_inq</th>\n",
       "      <th>mths_since_recent_revol_delinq</th>\n",
       "      <th>num_accts_ever_120_pd</th>\n",
       "      <th>num_actv_bc_tl</th>\n",
       "      <th>num_actv_rev_tl</th>\n",
       "      <th>num_bc_sats</th>\n",
       "      <th>num_bc_tl</th>\n",
       "      <th>num_il_tl</th>\n",
       "      <th>num_op_rev_tl</th>\n",
       "      <th>num_rev_accts</th>\n",
       "      <th>num_rev_tl_bal_gt_0</th>\n",
       "      <th>num_sats</th>\n",
       "      <th>num_tl_120dpd_2m</th>\n",
       "      <th>num_tl_30dpd</th>\n",
       "      <th>num_tl_90g_dpd_24m</th>\n",
       "      <th>num_tl_op_past_12m</th>\n",
       "      <th>pct_tl_nvr_dlq</th>\n",
       "      <th>percent_bc_gt_75</th>\n",
       "      <th>pub_rec_bankruptcies</th>\n",
       "      <th>tax_liens</th>\n",
       "      <th>tot_hi_cred_lim</th>\n",
       "      <th>total_bal_ex_mort</th>\n",
       "      <th>total_bc_limit</th>\n",
       "      <th>total_il_high_credit_limit</th>\n",
       "      <th>revol_bal_joint</th>\n",
       "      <th>sec_app_fico_range_low</th>\n",
       "      <th>sec_app_fico_range_high</th>\n",
       "      <th>sec_app_earliest_cr_line</th>\n",
       "      <th>sec_app_inq_last_6mths</th>\n",
       "      <th>sec_app_mort_acc</th>\n",
       "      <th>sec_app_open_acc</th>\n",
       "      <th>sec_app_revol_util</th>\n",
       "      <th>sec_app_open_act_il</th>\n",
       "      <th>sec_app_num_rev_accts</th>\n",
       "      <th>sec_app_chargeoff_within_12_mths</th>\n",
       "      <th>sec_app_collections_12_mths_ex_med</th>\n",
       "      <th>sec_app_mths_since_last_major_derog</th>\n",
       "      <th>hardship_flag</th>\n",
       "      <th>hardship_type</th>\n",
       "      <th>hardship_reason</th>\n",
       "      <th>hardship_status</th>\n",
       "      <th>deferral_term</th>\n",
       "      <th>hardship_amount</th>\n",
       "      <th>hardship_start_date</th>\n",
       "      <th>hardship_end_date</th>\n",
       "      <th>payment_plan_start_date</th>\n",
       "      <th>hardship_length</th>\n",
       "      <th>hardship_dpd</th>\n",
       "      <th>hardship_loan_status</th>\n",
       "      <th>orig_projected_additional_accrued_interest</th>\n",
       "      <th>hardship_payoff_balance_amount</th>\n",
       "      <th>hardship_last_payment_amount</th>\n",
       "      <th>disbursement_method</th>\n",
       "      <th>debt_settlement_flag</th>\n",
       "      <th>debt_settlement_flag_date</th>\n",
       "      <th>settlement_status</th>\n",
       "      <th>settlement_date</th>\n",
       "      <th>settlement_amount</th>\n",
       "      <th>settlement_percentage</th>\n",
       "      <th>settlement_term</th>\n",
       "    </tr>\n",
       "  </thead>\n",
       "  <tbody>\n",
       "    <tr>\n",
       "      <th>920720</th>\n",
       "      <td>3632084</td>\n",
       "      <td>NaN</td>\n",
       "      <td>7500.0</td>\n",
       "      <td>7500.0</td>\n",
       "      <td>7500.0</td>\n",
       "      <td>36 months</td>\n",
       "      <td>14.33</td>\n",
       "      <td>257.54</td>\n",
       "      <td>C</td>\n",
       "      <td>C1</td>\n",
       "      <td>Blu Perspective</td>\n",
       "      <td>4 years</td>\n",
       "      <td>MORTGAGE</td>\n",
       "      <td>41000.0</td>\n",
       "      <td>Not Verified</td>\n",
       "      <td>Mar-2013</td>\n",
       "      <td>Fully Paid</td>\n",
       "      <td>n</td>\n",
       "      <td>NaN</td>\n",
       "      <td>debt_consolidation</td>\n",
       "      <td>Consolidation</td>\n",
       "      <td>482xx</td>\n",
       "      <td>MI</td>\n",
       "      <td>7.11</td>\n",
       "      <td>0.0</td>\n",
       "      <td>Feb-2006</td>\n",
       "      <td>700.0</td>\n",
       "      <td>704.0</td>\n",
       "      <td>1.0</td>\n",
       "      <td>51.0</td>\n",
       "      <td>NaN</td>\n",
       "      <td>12.0</td>\n",
       "      <td>0.0</td>\n",
       "      <td>10036.0</td>\n",
       "      <td>37.0</td>\n",
       "      <td>15.0</td>\n",
       "      <td>f</td>\n",
       "      <td>0.00</td>\n",
       "      <td>0.00</td>\n",
       "      <td>9052.727802</td>\n",
       "      <td>9052.73</td>\n",
       "      <td>7500.00</td>\n",
       "      <td>1552.73</td>\n",
       "      <td>0.0</td>\n",
       "      <td>0.0</td>\n",
       "      <td>0.0</td>\n",
       "      <td>Mar-2015</td>\n",
       "      <td>3137.69</td>\n",
       "      <td>NaN</td>\n",
       "      <td>Dec-2017</td>\n",
       "      <td>654.0</td>\n",
       "      <td>650.0</td>\n",
       "      <td>0.0</td>\n",
       "      <td>51.0</td>\n",
       "      <td>1.0</td>\n",
       "      <td>Individual</td>\n",
       "      <td>NaN</td>\n",
       "      <td>NaN</td>\n",
       "      <td>NaN</td>\n",
       "      <td>0.0</td>\n",
       "      <td>0.0</td>\n",
       "      <td>123507.0</td>\n",
       "      <td>NaN</td>\n",
       "      <td>NaN</td>\n",
       "      <td>NaN</td>\n",
       "      <td>NaN</td>\n",
       "      <td>NaN</td>\n",
       "      <td>NaN</td>\n",
       "      <td>NaN</td>\n",
       "      <td>NaN</td>\n",
       "      <td>NaN</td>\n",
       "      <td>NaN</td>\n",
       "      <td>NaN</td>\n",
       "      <td>27100.0</td>\n",
       "      <td>NaN</td>\n",
       "      <td>NaN</td>\n",
       "      <td>NaN</td>\n",
       "      <td>4.0</td>\n",
       "      <td>11228.0</td>\n",
       "      <td>11583.0</td>\n",
       "      <td>45.1</td>\n",
       "      <td>0.0</td>\n",
       "      <td>0.0</td>\n",
       "      <td>NaN</td>\n",
       "      <td>86.0</td>\n",
       "      <td>5.0</td>\n",
       "      <td>5.0</td>\n",
       "      <td>3.0</td>\n",
       "      <td>10.0</td>\n",
       "      <td>NaN</td>\n",
       "      <td>5.0</td>\n",
       "      <td>NaN</td>\n",
       "      <td>1.0</td>\n",
       "      <td>8.0</td>\n",
       "      <td>9.0</td>\n",
       "      <td>8.0</td>\n",
       "      <td>9.0</td>\n",
       "      <td>0.0</td>\n",
       "      <td>11.0</td>\n",
       "      <td>12.0</td>\n",
       "      <td>9.0</td>\n",
       "      <td>12.0</td>\n",
       "      <td>0.0</td>\n",
       "      <td>0.0</td>\n",
       "      <td>0.0</td>\n",
       "      <td>3.0</td>\n",
       "      <td>92.0</td>\n",
       "      <td>0.0</td>\n",
       "      <td>0.0</td>\n",
       "      <td>0.0</td>\n",
       "      <td>139954.0</td>\n",
       "      <td>10036.0</td>\n",
       "      <td>21100.0</td>\n",
       "      <td>0.0</td>\n",
       "      <td>NaN</td>\n",
       "      <td>NaN</td>\n",
       "      <td>NaN</td>\n",
       "      <td>NaN</td>\n",
       "      <td>NaN</td>\n",
       "      <td>NaN</td>\n",
       "      <td>NaN</td>\n",
       "      <td>NaN</td>\n",
       "      <td>NaN</td>\n",
       "      <td>NaN</td>\n",
       "      <td>NaN</td>\n",
       "      <td>NaN</td>\n",
       "      <td>NaN</td>\n",
       "      <td>N</td>\n",
       "      <td>NaN</td>\n",
       "      <td>NaN</td>\n",
       "      <td>NaN</td>\n",
       "      <td>NaN</td>\n",
       "      <td>NaN</td>\n",
       "      <td>NaN</td>\n",
       "      <td>NaN</td>\n",
       "      <td>NaN</td>\n",
       "      <td>NaN</td>\n",
       "      <td>NaN</td>\n",
       "      <td>NaN</td>\n",
       "      <td>NaN</td>\n",
       "      <td>NaN</td>\n",
       "      <td>NaN</td>\n",
       "      <td>Cash</td>\n",
       "      <td>N</td>\n",
       "      <td>NaN</td>\n",
       "      <td>NaN</td>\n",
       "      <td>NaN</td>\n",
       "      <td>NaN</td>\n",
       "      <td>NaN</td>\n",
       "      <td>NaN</td>\n",
       "    </tr>\n",
       "    <tr>\n",
       "      <th>1293216</th>\n",
       "      <td>113151174</td>\n",
       "      <td>NaN</td>\n",
       "      <td>16000.0</td>\n",
       "      <td>16000.0</td>\n",
       "      <td>16000.0</td>\n",
       "      <td>60 months</td>\n",
       "      <td>24.85</td>\n",
       "      <td>468.22</td>\n",
       "      <td>E</td>\n",
       "      <td>E3</td>\n",
       "      <td>Project Coordinator</td>\n",
       "      <td>&lt; 1 year</td>\n",
       "      <td>RENT</td>\n",
       "      <td>50000.0</td>\n",
       "      <td>Source Verified</td>\n",
       "      <td>Jul-2017</td>\n",
       "      <td>Current</td>\n",
       "      <td>n</td>\n",
       "      <td>NaN</td>\n",
       "      <td>credit_card</td>\n",
       "      <td>Credit card refinancing</td>\n",
       "      <td>958xx</td>\n",
       "      <td>CA</td>\n",
       "      <td>21.32</td>\n",
       "      <td>0.0</td>\n",
       "      <td>May-2007</td>\n",
       "      <td>680.0</td>\n",
       "      <td>684.0</td>\n",
       "      <td>0.0</td>\n",
       "      <td>NaN</td>\n",
       "      <td>88.0</td>\n",
       "      <td>8.0</td>\n",
       "      <td>1.0</td>\n",
       "      <td>12892.0</td>\n",
       "      <td>57.8</td>\n",
       "      <td>13.0</td>\n",
       "      <td>w</td>\n",
       "      <td>15286.63</td>\n",
       "      <td>15286.63</td>\n",
       "      <td>2296.920000</td>\n",
       "      <td>2296.92</td>\n",
       "      <td>713.37</td>\n",
       "      <td>1583.55</td>\n",
       "      <td>0.0</td>\n",
       "      <td>0.0</td>\n",
       "      <td>0.0</td>\n",
       "      <td>Dec-2017</td>\n",
       "      <td>468.22</td>\n",
       "      <td>Jan-2018</td>\n",
       "      <td>Dec-2017</td>\n",
       "      <td>719.0</td>\n",
       "      <td>715.0</td>\n",
       "      <td>0.0</td>\n",
       "      <td>NaN</td>\n",
       "      <td>1.0</td>\n",
       "      <td>Individual</td>\n",
       "      <td>NaN</td>\n",
       "      <td>NaN</td>\n",
       "      <td>NaN</td>\n",
       "      <td>0.0</td>\n",
       "      <td>0.0</td>\n",
       "      <td>32640.0</td>\n",
       "      <td>1.0</td>\n",
       "      <td>2.0</td>\n",
       "      <td>1.0</td>\n",
       "      <td>2.0</td>\n",
       "      <td>4.0</td>\n",
       "      <td>19748.0</td>\n",
       "      <td>87.0</td>\n",
       "      <td>1.0</td>\n",
       "      <td>2.0</td>\n",
       "      <td>4608.0</td>\n",
       "      <td>73.0</td>\n",
       "      <td>22300.0</td>\n",
       "      <td>0.0</td>\n",
       "      <td>1.0</td>\n",
       "      <td>5.0</td>\n",
       "      <td>5.0</td>\n",
       "      <td>4080.0</td>\n",
       "      <td>2277.0</td>\n",
       "      <td>82.5</td>\n",
       "      <td>0.0</td>\n",
       "      <td>0.0</td>\n",
       "      <td>40.0</td>\n",
       "      <td>122.0</td>\n",
       "      <td>12.0</td>\n",
       "      <td>4.0</td>\n",
       "      <td>0.0</td>\n",
       "      <td>12.0</td>\n",
       "      <td>NaN</td>\n",
       "      <td>5.0</td>\n",
       "      <td>NaN</td>\n",
       "      <td>0.0</td>\n",
       "      <td>3.0</td>\n",
       "      <td>6.0</td>\n",
       "      <td>3.0</td>\n",
       "      <td>5.0</td>\n",
       "      <td>3.0</td>\n",
       "      <td>6.0</td>\n",
       "      <td>9.0</td>\n",
       "      <td>6.0</td>\n",
       "      <td>8.0</td>\n",
       "      <td>0.0</td>\n",
       "      <td>0.0</td>\n",
       "      <td>0.0</td>\n",
       "      <td>2.0</td>\n",
       "      <td>100.0</td>\n",
       "      <td>66.7</td>\n",
       "      <td>1.0</td>\n",
       "      <td>0.0</td>\n",
       "      <td>45015.0</td>\n",
       "      <td>32640.0</td>\n",
       "      <td>13000.0</td>\n",
       "      <td>22715.0</td>\n",
       "      <td>NaN</td>\n",
       "      <td>NaN</td>\n",
       "      <td>NaN</td>\n",
       "      <td>NaN</td>\n",
       "      <td>NaN</td>\n",
       "      <td>NaN</td>\n",
       "      <td>NaN</td>\n",
       "      <td>NaN</td>\n",
       "      <td>NaN</td>\n",
       "      <td>NaN</td>\n",
       "      <td>NaN</td>\n",
       "      <td>NaN</td>\n",
       "      <td>NaN</td>\n",
       "      <td>N</td>\n",
       "      <td>NaN</td>\n",
       "      <td>NaN</td>\n",
       "      <td>NaN</td>\n",
       "      <td>NaN</td>\n",
       "      <td>NaN</td>\n",
       "      <td>NaN</td>\n",
       "      <td>NaN</td>\n",
       "      <td>NaN</td>\n",
       "      <td>NaN</td>\n",
       "      <td>NaN</td>\n",
       "      <td>NaN</td>\n",
       "      <td>NaN</td>\n",
       "      <td>NaN</td>\n",
       "      <td>NaN</td>\n",
       "      <td>Cash</td>\n",
       "      <td>N</td>\n",
       "      <td>NaN</td>\n",
       "      <td>NaN</td>\n",
       "      <td>NaN</td>\n",
       "      <td>NaN</td>\n",
       "      <td>NaN</td>\n",
       "      <td>NaN</td>\n",
       "    </tr>\n",
       "    <tr>\n",
       "      <th>716670</th>\n",
       "      <td>110085611</td>\n",
       "      <td>NaN</td>\n",
       "      <td>40000.0</td>\n",
       "      <td>40000.0</td>\n",
       "      <td>40000.0</td>\n",
       "      <td>60 months</td>\n",
       "      <td>9.44</td>\n",
       "      <td>838.91</td>\n",
       "      <td>B</td>\n",
       "      <td>B1</td>\n",
       "      <td>CEO, President, and Owner</td>\n",
       "      <td>10+ years</td>\n",
       "      <td>MORTGAGE</td>\n",
       "      <td>300000.0</td>\n",
       "      <td>Source Verified</td>\n",
       "      <td>Jun-2017</td>\n",
       "      <td>Current</td>\n",
       "      <td>n</td>\n",
       "      <td>NaN</td>\n",
       "      <td>debt_consolidation</td>\n",
       "      <td>Debt consolidation</td>\n",
       "      <td>921xx</td>\n",
       "      <td>CA</td>\n",
       "      <td>21.94</td>\n",
       "      <td>0.0</td>\n",
       "      <td>Jul-1983</td>\n",
       "      <td>705.0</td>\n",
       "      <td>709.0</td>\n",
       "      <td>0.0</td>\n",
       "      <td>NaN</td>\n",
       "      <td>NaN</td>\n",
       "      <td>13.0</td>\n",
       "      <td>0.0</td>\n",
       "      <td>84048.0</td>\n",
       "      <td>75.2</td>\n",
       "      <td>28.0</td>\n",
       "      <td>w</td>\n",
       "      <td>36792.03</td>\n",
       "      <td>36792.03</td>\n",
       "      <td>4991.500000</td>\n",
       "      <td>4991.50</td>\n",
       "      <td>3207.97</td>\n",
       "      <td>1783.53</td>\n",
       "      <td>0.0</td>\n",
       "      <td>0.0</td>\n",
       "      <td>0.0</td>\n",
       "      <td>Dec-2017</td>\n",
       "      <td>838.91</td>\n",
       "      <td>Jan-2018</td>\n",
       "      <td>Dec-2017</td>\n",
       "      <td>724.0</td>\n",
       "      <td>720.0</td>\n",
       "      <td>0.0</td>\n",
       "      <td>NaN</td>\n",
       "      <td>1.0</td>\n",
       "      <td>Individual</td>\n",
       "      <td>NaN</td>\n",
       "      <td>NaN</td>\n",
       "      <td>NaN</td>\n",
       "      <td>0.0</td>\n",
       "      <td>0.0</td>\n",
       "      <td>118128.0</td>\n",
       "      <td>0.0</td>\n",
       "      <td>4.0</td>\n",
       "      <td>0.0</td>\n",
       "      <td>1.0</td>\n",
       "      <td>22.0</td>\n",
       "      <td>34080.0</td>\n",
       "      <td>20.0</td>\n",
       "      <td>0.0</td>\n",
       "      <td>0.0</td>\n",
       "      <td>29068.0</td>\n",
       "      <td>56.0</td>\n",
       "      <td>111800.0</td>\n",
       "      <td>0.0</td>\n",
       "      <td>3.0</td>\n",
       "      <td>0.0</td>\n",
       "      <td>1.0</td>\n",
       "      <td>9087.0</td>\n",
       "      <td>20252.0</td>\n",
       "      <td>80.6</td>\n",
       "      <td>0.0</td>\n",
       "      <td>0.0</td>\n",
       "      <td>158.0</td>\n",
       "      <td>406.0</td>\n",
       "      <td>45.0</td>\n",
       "      <td>22.0</td>\n",
       "      <td>0.0</td>\n",
       "      <td>45.0</td>\n",
       "      <td>NaN</td>\n",
       "      <td>16.0</td>\n",
       "      <td>NaN</td>\n",
       "      <td>0.0</td>\n",
       "      <td>7.0</td>\n",
       "      <td>7.0</td>\n",
       "      <td>7.0</td>\n",
       "      <td>11.0</td>\n",
       "      <td>9.0</td>\n",
       "      <td>9.0</td>\n",
       "      <td>19.0</td>\n",
       "      <td>7.0</td>\n",
       "      <td>13.0</td>\n",
       "      <td>0.0</td>\n",
       "      <td>0.0</td>\n",
       "      <td>0.0</td>\n",
       "      <td>0.0</td>\n",
       "      <td>100.0</td>\n",
       "      <td>57.1</td>\n",
       "      <td>0.0</td>\n",
       "      <td>0.0</td>\n",
       "      <td>222473.0</td>\n",
       "      <td>118128.0</td>\n",
       "      <td>104300.0</td>\n",
       "      <td>110673.0</td>\n",
       "      <td>NaN</td>\n",
       "      <td>NaN</td>\n",
       "      <td>NaN</td>\n",
       "      <td>NaN</td>\n",
       "      <td>NaN</td>\n",
       "      <td>NaN</td>\n",
       "      <td>NaN</td>\n",
       "      <td>NaN</td>\n",
       "      <td>NaN</td>\n",
       "      <td>NaN</td>\n",
       "      <td>NaN</td>\n",
       "      <td>NaN</td>\n",
       "      <td>NaN</td>\n",
       "      <td>N</td>\n",
       "      <td>NaN</td>\n",
       "      <td>NaN</td>\n",
       "      <td>NaN</td>\n",
       "      <td>NaN</td>\n",
       "      <td>NaN</td>\n",
       "      <td>NaN</td>\n",
       "      <td>NaN</td>\n",
       "      <td>NaN</td>\n",
       "      <td>NaN</td>\n",
       "      <td>NaN</td>\n",
       "      <td>NaN</td>\n",
       "      <td>NaN</td>\n",
       "      <td>NaN</td>\n",
       "      <td>NaN</td>\n",
       "      <td>Cash</td>\n",
       "      <td>N</td>\n",
       "      <td>NaN</td>\n",
       "      <td>NaN</td>\n",
       "      <td>NaN</td>\n",
       "      <td>NaN</td>\n",
       "      <td>NaN</td>\n",
       "      <td>NaN</td>\n",
       "    </tr>\n",
       "  </tbody>\n",
       "</table>\n",
       "</div>"
      ],
      "text/plain": [
       "                id  member_id  loan_amnt  funded_amnt  funded_amnt_inv  \\\n",
       "920720     3632084        NaN     7500.0       7500.0           7500.0   \n",
       "1293216  113151174        NaN    16000.0      16000.0          16000.0   \n",
       "716670   110085611        NaN    40000.0      40000.0          40000.0   \n",
       "\n",
       "               term  int_rate  installment grade sub_grade  \\\n",
       "920720    36 months     14.33       257.54     C        C1   \n",
       "1293216   60 months     24.85       468.22     E        E3   \n",
       "716670    60 months      9.44       838.91     B        B1   \n",
       "\n",
       "                         emp_title emp_length home_ownership  annual_inc  \\\n",
       "920720             Blu Perspective    4 years       MORTGAGE     41000.0   \n",
       "1293216        Project Coordinator   < 1 year           RENT     50000.0   \n",
       "716670   CEO, President, and Owner  10+ years       MORTGAGE    300000.0   \n",
       "\n",
       "        verification_status   issue_d loan_status pymnt_plan desc  \\\n",
       "920720         Not Verified  Mar-2013  Fully Paid          n  NaN   \n",
       "1293216     Source Verified  Jul-2017     Current          n  NaN   \n",
       "716670      Source Verified  Jun-2017     Current          n  NaN   \n",
       "\n",
       "                    purpose                    title zip_code addr_state  \\\n",
       "920720   debt_consolidation            Consolidation    482xx         MI   \n",
       "1293216         credit_card  Credit card refinancing    958xx         CA   \n",
       "716670   debt_consolidation       Debt consolidation    921xx         CA   \n",
       "\n",
       "           dti  delinq_2yrs earliest_cr_line  fico_range_low  fico_range_high  \\\n",
       "920720    7.11          0.0         Feb-2006           700.0            704.0   \n",
       "1293216  21.32          0.0         May-2007           680.0            684.0   \n",
       "716670   21.94          0.0         Jul-1983           705.0            709.0   \n",
       "\n",
       "         inq_last_6mths  mths_since_last_delinq  mths_since_last_record  \\\n",
       "920720              1.0                    51.0                     NaN   \n",
       "1293216             0.0                     NaN                    88.0   \n",
       "716670              0.0                     NaN                     NaN   \n",
       "\n",
       "         open_acc  pub_rec  revol_bal  revol_util  total_acc  \\\n",
       "920720       12.0      0.0    10036.0        37.0       15.0   \n",
       "1293216       8.0      1.0    12892.0        57.8       13.0   \n",
       "716670       13.0      0.0    84048.0        75.2       28.0   \n",
       "\n",
       "        initial_list_status  out_prncp  out_prncp_inv  total_pymnt  \\\n",
       "920720                    f       0.00           0.00  9052.727802   \n",
       "1293216                   w   15286.63       15286.63  2296.920000   \n",
       "716670                    w   36792.03       36792.03  4991.500000   \n",
       "\n",
       "         total_pymnt_inv  total_rec_prncp  total_rec_int  total_rec_late_fee  \\\n",
       "920720           9052.73          7500.00        1552.73                 0.0   \n",
       "1293216          2296.92           713.37        1583.55                 0.0   \n",
       "716670           4991.50          3207.97        1783.53                 0.0   \n",
       "\n",
       "         recoveries  collection_recovery_fee last_pymnt_d  last_pymnt_amnt  \\\n",
       "920720          0.0                      0.0     Mar-2015          3137.69   \n",
       "1293216         0.0                      0.0     Dec-2017           468.22   \n",
       "716670          0.0                      0.0     Dec-2017           838.91   \n",
       "\n",
       "        next_pymnt_d last_credit_pull_d  last_fico_range_high  \\\n",
       "920720           NaN           Dec-2017                 654.0   \n",
       "1293216     Jan-2018           Dec-2017                 719.0   \n",
       "716670      Jan-2018           Dec-2017                 724.0   \n",
       "\n",
       "         last_fico_range_low  collections_12_mths_ex_med  \\\n",
       "920720                 650.0                         0.0   \n",
       "1293216                715.0                         0.0   \n",
       "716670                 720.0                         0.0   \n",
       "\n",
       "         mths_since_last_major_derog  policy_code application_type  \\\n",
       "920720                          51.0          1.0       Individual   \n",
       "1293216                          NaN          1.0       Individual   \n",
       "716670                           NaN          1.0       Individual   \n",
       "\n",
       "         annual_inc_joint  dti_joint verification_status_joint  \\\n",
       "920720                NaN        NaN                       NaN   \n",
       "1293216               NaN        NaN                       NaN   \n",
       "716670                NaN        NaN                       NaN   \n",
       "\n",
       "         acc_now_delinq  tot_coll_amt  tot_cur_bal  open_acc_6m  open_act_il  \\\n",
       "920720              0.0           0.0     123507.0          NaN          NaN   \n",
       "1293216             0.0           0.0      32640.0          1.0          2.0   \n",
       "716670              0.0           0.0     118128.0          0.0          4.0   \n",
       "\n",
       "         open_il_12m  open_il_24m  mths_since_rcnt_il  total_bal_il  il_util  \\\n",
       "920720           NaN          NaN                 NaN           NaN      NaN   \n",
       "1293216          1.0          2.0                 4.0       19748.0     87.0   \n",
       "716670           0.0          1.0                22.0       34080.0     20.0   \n",
       "\n",
       "         open_rv_12m  open_rv_24m  max_bal_bc  all_util  total_rev_hi_lim  \\\n",
       "920720           NaN          NaN         NaN       NaN           27100.0   \n",
       "1293216          1.0          2.0      4608.0      73.0           22300.0   \n",
       "716670           0.0          0.0     29068.0      56.0          111800.0   \n",
       "\n",
       "         inq_fi  total_cu_tl  inq_last_12m  acc_open_past_24mths  avg_cur_bal  \\\n",
       "920720      NaN          NaN           NaN                   4.0      11228.0   \n",
       "1293216     0.0          1.0           5.0                   5.0       4080.0   \n",
       "716670      0.0          3.0           0.0                   1.0       9087.0   \n",
       "\n",
       "         bc_open_to_buy  bc_util  chargeoff_within_12_mths  delinq_amnt  \\\n",
       "920720          11583.0     45.1                       0.0          0.0   \n",
       "1293216          2277.0     82.5                       0.0          0.0   \n",
       "716670          20252.0     80.6                       0.0          0.0   \n",
       "\n",
       "         mo_sin_old_il_acct  mo_sin_old_rev_tl_op  mo_sin_rcnt_rev_tl_op  \\\n",
       "920720                  NaN                  86.0                    5.0   \n",
       "1293216                40.0                 122.0                   12.0   \n",
       "716670                158.0                 406.0                   45.0   \n",
       "\n",
       "         mo_sin_rcnt_tl  mort_acc  mths_since_recent_bc  \\\n",
       "920720              5.0       3.0                  10.0   \n",
       "1293216             4.0       0.0                  12.0   \n",
       "716670             22.0       0.0                  45.0   \n",
       "\n",
       "         mths_since_recent_bc_dlq  mths_since_recent_inq  \\\n",
       "920720                        NaN                    5.0   \n",
       "1293216                       NaN                    5.0   \n",
       "716670                        NaN                   16.0   \n",
       "\n",
       "         mths_since_recent_revol_delinq  num_accts_ever_120_pd  \\\n",
       "920720                              NaN                    1.0   \n",
       "1293216                             NaN                    0.0   \n",
       "716670                              NaN                    0.0   \n",
       "\n",
       "         num_actv_bc_tl  num_actv_rev_tl  num_bc_sats  num_bc_tl  num_il_tl  \\\n",
       "920720              8.0              9.0          8.0        9.0        0.0   \n",
       "1293216             3.0              6.0          3.0        5.0        3.0   \n",
       "716670              7.0              7.0          7.0       11.0        9.0   \n",
       "\n",
       "         num_op_rev_tl  num_rev_accts  num_rev_tl_bal_gt_0  num_sats  \\\n",
       "920720            11.0           12.0                  9.0      12.0   \n",
       "1293216            6.0            9.0                  6.0       8.0   \n",
       "716670             9.0           19.0                  7.0      13.0   \n",
       "\n",
       "         num_tl_120dpd_2m  num_tl_30dpd  num_tl_90g_dpd_24m  \\\n",
       "920720                0.0           0.0                 0.0   \n",
       "1293216               0.0           0.0                 0.0   \n",
       "716670                0.0           0.0                 0.0   \n",
       "\n",
       "         num_tl_op_past_12m  pct_tl_nvr_dlq  percent_bc_gt_75  \\\n",
       "920720                  3.0            92.0               0.0   \n",
       "1293216                 2.0           100.0              66.7   \n",
       "716670                  0.0           100.0              57.1   \n",
       "\n",
       "         pub_rec_bankruptcies  tax_liens  tot_hi_cred_lim  total_bal_ex_mort  \\\n",
       "920720                    0.0        0.0         139954.0            10036.0   \n",
       "1293216                   1.0        0.0          45015.0            32640.0   \n",
       "716670                    0.0        0.0         222473.0           118128.0   \n",
       "\n",
       "         total_bc_limit  total_il_high_credit_limit  revol_bal_joint  \\\n",
       "920720          21100.0                         0.0              NaN   \n",
       "1293216         13000.0                     22715.0              NaN   \n",
       "716670         104300.0                    110673.0              NaN   \n",
       "\n",
       "         sec_app_fico_range_low  sec_app_fico_range_high  \\\n",
       "920720                      NaN                      NaN   \n",
       "1293216                     NaN                      NaN   \n",
       "716670                      NaN                      NaN   \n",
       "\n",
       "        sec_app_earliest_cr_line  sec_app_inq_last_6mths  sec_app_mort_acc  \\\n",
       "920720                       NaN                     NaN               NaN   \n",
       "1293216                      NaN                     NaN               NaN   \n",
       "716670                       NaN                     NaN               NaN   \n",
       "\n",
       "         sec_app_open_acc  sec_app_revol_util  sec_app_open_act_il  \\\n",
       "920720                NaN                 NaN                  NaN   \n",
       "1293216               NaN                 NaN                  NaN   \n",
       "716670                NaN                 NaN                  NaN   \n",
       "\n",
       "         sec_app_num_rev_accts  sec_app_chargeoff_within_12_mths  \\\n",
       "920720                     NaN                               NaN   \n",
       "1293216                    NaN                               NaN   \n",
       "716670                     NaN                               NaN   \n",
       "\n",
       "         sec_app_collections_12_mths_ex_med  \\\n",
       "920720                                  NaN   \n",
       "1293216                                 NaN   \n",
       "716670                                  NaN   \n",
       "\n",
       "         sec_app_mths_since_last_major_derog hardship_flag hardship_type  \\\n",
       "920720                                   NaN             N           NaN   \n",
       "1293216                                  NaN             N           NaN   \n",
       "716670                                   NaN             N           NaN   \n",
       "\n",
       "        hardship_reason hardship_status  deferral_term  hardship_amount  \\\n",
       "920720              NaN             NaN            NaN              NaN   \n",
       "1293216             NaN             NaN            NaN              NaN   \n",
       "716670              NaN             NaN            NaN              NaN   \n",
       "\n",
       "        hardship_start_date hardship_end_date payment_plan_start_date  \\\n",
       "920720                  NaN               NaN                     NaN   \n",
       "1293216                 NaN               NaN                     NaN   \n",
       "716670                  NaN               NaN                     NaN   \n",
       "\n",
       "         hardship_length  hardship_dpd hardship_loan_status  \\\n",
       "920720               NaN           NaN                  NaN   \n",
       "1293216              NaN           NaN                  NaN   \n",
       "716670               NaN           NaN                  NaN   \n",
       "\n",
       "         orig_projected_additional_accrued_interest  \\\n",
       "920720                                          NaN   \n",
       "1293216                                         NaN   \n",
       "716670                                          NaN   \n",
       "\n",
       "         hardship_payoff_balance_amount  hardship_last_payment_amount  \\\n",
       "920720                              NaN                           NaN   \n",
       "1293216                             NaN                           NaN   \n",
       "716670                              NaN                           NaN   \n",
       "\n",
       "        disbursement_method debt_settlement_flag debt_settlement_flag_date  \\\n",
       "920720                 Cash                    N                       NaN   \n",
       "1293216                Cash                    N                       NaN   \n",
       "716670                 Cash                    N                       NaN   \n",
       "\n",
       "        settlement_status settlement_date  settlement_amount  \\\n",
       "920720                NaN             NaN                NaN   \n",
       "1293216               NaN             NaN                NaN   \n",
       "716670                NaN             NaN                NaN   \n",
       "\n",
       "         settlement_percentage  settlement_term  \n",
       "920720                     NaN              NaN  \n",
       "1293216                    NaN              NaN  \n",
       "716670                     NaN              NaN  "
      ]
     },
     "execution_count": 7,
     "metadata": {},
     "output_type": "execute_result"
    }
   ],
   "source": [
    "df.sample(3)"
   ]
  },
  {
   "cell_type": "markdown",
   "metadata": {
    "_cell_guid": "6e847348-5344-4ebb-b820-03a772ad5059",
    "_uuid": "841ca8b2103b35b98730139c2e64b790f2edeb89"
   },
   "source": [
    "# Response Variable\n",
    "<a id=\"3\"></a>"
   ]
  },
  {
   "cell_type": "markdown",
   "metadata": {
    "_cell_guid": "b9e79844-28d9-4b5e-a6d3-c9dbfd17820e",
    "_uuid": "138869442509b04e45df20b0356e7ed91f77f7c2"
   },
   "source": [
    "We're going to try to predict the `loan_status` column. What are the value counts in this column?"
   ]
  },
  {
   "cell_type": "code",
   "execution_count": 8,
   "metadata": {
    "_cell_guid": "d5b467af-c5a1-4ae0-a044-3a421252eb78",
    "_uuid": "84e9c41ee08246a83bc6f8ad04a90c83a1bf408e"
   },
   "outputs": [
    {
     "data": {
      "text/plain": [
       "Current                                                788950\n",
       "Fully Paid                                             646902\n",
       "Charged Off                                            168084\n",
       "Late (31-120 days)                                      23763\n",
       "In Grace Period                                         10474\n",
       "Late (16-30 days)                                        5786\n",
       "Does not meet the credit policy. Status:Fully Paid       1988\n",
       "Does not meet the credit policy. Status:Charged Off       761\n",
       "Default                                                    70\n",
       "Name: loan_status, dtype: int64"
      ]
     },
     "execution_count": 8,
     "metadata": {},
     "output_type": "execute_result"
    }
   ],
   "source": [
    "df['loan_status'].value_counts()"
   ]
  },
  {
   "cell_type": "markdown",
   "metadata": {
    "_cell_guid": "527520b1-32a4-4b95-ab0a-b24ac47b3cf6",
    "_uuid": "49a92fd5f4aab3a3561edf9929df506c9fd34a9d"
   },
   "source": [
    "Let's only consider loans that meet the credit policy and have either been fully paid or charged off. These are the two cases we'll try to distinguish with a predictive model.\n",
    "\n",
    "Retain only the rows with `loan_status` \"Fully Paid\" or \"Charged Off.\""
   ]
  },
  {
   "cell_type": "code",
   "execution_count": 9,
   "metadata": {
    "_cell_guid": "f4f361b5-32f2-4828-8e37-3e43a32c32c0",
    "_uuid": "5c7dc5453d31b32b849bec55fe252c449d8e9557"
   },
   "outputs": [],
   "source": [
    "df = df.loc[df['loan_status'].isin(['Fully Paid', 'Charged Off'])]"
   ]
  },
  {
   "cell_type": "markdown",
   "metadata": {},
   "source": [
    "How many observations remain?"
   ]
  },
  {
   "cell_type": "code",
   "execution_count": 10,
   "metadata": {
    "_cell_guid": "be5c5ad3-f002-48f3-9695-3a80a1539c1b",
    "_uuid": "c71ee5ec2f8dc3d8297a7eea7eef441f27c51317"
   },
   "outputs": [
    {
     "data": {
      "text/plain": [
       "(814986, 150)"
      ]
     },
     "execution_count": 10,
     "metadata": {},
     "output_type": "execute_result"
    }
   ],
   "source": [
    "df.shape"
   ]
  },
  {
   "cell_type": "code",
   "execution_count": 11,
   "metadata": {
    "_cell_guid": "590a5146-c659-43ed-bfb4-7bea32672932",
    "_uuid": "d70396f915861568607ee204c4ff4574f80d5bdc"
   },
   "outputs": [
    {
     "data": {
      "text/plain": [
       "Fully Paid     0.793758\n",
       "Charged Off    0.206242\n",
       "Name: loan_status, dtype: float64"
      ]
     },
     "execution_count": 11,
     "metadata": {},
     "output_type": "execute_result"
    }
   ],
   "source": [
    "df['loan_status'].value_counts(normalize=True)"
   ]
  },
  {
   "cell_type": "markdown",
   "metadata": {
    "_cell_guid": "c44aa6b1-041a-490e-8f64-81d010b1bf4a",
    "_uuid": "715d0aed4051332c5f32f35142e130e7da555150"
   },
   "source": [
    "About 79% of the loans have been fully paid, and 21% have been charged off."
   ]
  },
  {
   "cell_type": "markdown",
   "metadata": {
    "_cell_guid": "c44aa6b1-041a-490e-8f64-81d010b1bf4a",
    "_uuid": "715d0aed4051332c5f32f35142e130e7da555150"
   },
   "source": [
    "Let's convert the `loan_status` column to a binary `charged_off` column."
   ]
  },
  {
   "cell_type": "code",
   "execution_count": 12,
   "metadata": {
    "_cell_guid": "6bc0595b-4ead-4fdc-8161-13b4242406cc",
    "_uuid": "b195f4be2c6a2b0b01b6593f22a244a5e325ee9c"
   },
   "outputs": [],
   "source": [
    "df['loan_status'] = df['loan_status'].isin(['Charged Off'])"
   ]
  },
  {
   "cell_type": "code",
   "execution_count": 13,
   "metadata": {
    "_cell_guid": "c17354aa-e37d-4ba3-9e6d-a5c0e084399c",
    "_uuid": "db75f04efff6ab82d8564beb220580902c48327d"
   },
   "outputs": [
    {
     "data": {
      "text/plain": [
       "False    0.793758\n",
       "True     0.206242\n",
       "Name: loan_status, dtype: float64"
      ]
     },
     "execution_count": 13,
     "metadata": {},
     "output_type": "execute_result"
    }
   ],
   "source": [
    "df['loan_status'].value_counts(normalize=True, dropna=False)"
   ]
  },
  {
   "cell_type": "markdown",
   "metadata": {
    "_cell_guid": "5e0f1a69-b7b9-43cb-8d87-143a1c49f952",
    "_uuid": "1b6c365e025f1566511b87f886d1c618b36355d7"
   },
   "source": [
    "Rename the `loan_status` column to `charged_off`."
   ]
  },
  {
   "cell_type": "code",
   "execution_count": 14,
   "metadata": {
    "_cell_guid": "ea64d8bf-57db-4bc9-bb27-b992b272ffc7",
    "_uuid": "60022360aa67506e30b75b940d5e708389ba3e9b"
   },
   "outputs": [],
   "source": [
    "df.rename(columns={'loan_status':'charged_off'}, inplace=True)"
   ]
  },
  {
   "cell_type": "markdown",
   "metadata": {
    "_cell_guid": "fd09e5bd-3941-4152-8c5f-8471b33b2bc9",
    "_uuid": "6919d1676261dd95646f70b93d64256bc0a3e8f8"
   },
   "source": [
    "Our target variable is ready to go. We have two classes to try to predict."
   ]
  },
  {
   "cell_type": "markdown",
   "metadata": {
    "_cell_guid": "a6220e50-5df9-427a-a92b-5e6138234fb9",
    "_uuid": "34206dc6425cbf3c744c23006e6b10f522777a9d"
   },
   "source": [
    "# Feature Selection\n",
    "<a id=\"4\"></a>"
   ]
  },
  {
   "cell_type": "markdown",
   "metadata": {
    "_cell_guid": "89f9038c-fb12-46e9-9136-5f5e0a81d2bb",
    "_uuid": "a0a000e470b72a6128fc3ec216e181ab4ccc3809"
   },
   "source": [
    "The dataset has 150 features, but we won't be using all the features to predict the loan status.\n",
    "\n",
    "Definitions of the columns are given in the Lending Club \"Data Dictionary\" [available here](https://www.lendingclub.com/info/download-data.action)."
   ]
  },
  {
   "cell_type": "markdown",
   "metadata": {},
   "source": [
    "First let's locate columns with missing data:"
   ]
  },
  {
   "cell_type": "markdown",
   "metadata": {},
   "source": [
    "## Missing Data"
   ]
  },
  {
   "cell_type": "code",
   "execution_count": 15,
   "metadata": {},
   "outputs": [],
   "source": [
    "def incomplete_cols(df):\n",
    "    cmp = df.notnull().mean().sort_values()\n",
    "    return cmp.loc[cmp<1]"
   ]
  },
  {
   "cell_type": "code",
   "execution_count": 16,
   "metadata": {
    "scrolled": true
   },
   "outputs": [
    {
     "data": {
      "text/plain": [
       "member_id                                     0.000000\n",
       "next_pymnt_d                                  0.000000\n",
       "orig_projected_additional_accrued_interest    0.000124\n",
       "sec_app_mths_since_last_major_derog           0.000372\n",
       "hardship_status                               0.000725\n",
       "hardship_end_date                             0.000725\n",
       "payment_plan_start_date                       0.000725\n",
       "hardship_length                               0.000725\n",
       "hardship_dpd                                  0.000725\n",
       "hardship_start_date                           0.000725\n",
       "hardship_amount                               0.000725\n",
       "hardship_payoff_balance_amount                0.000725\n",
       "hardship_last_payment_amount                  0.000725\n",
       "hardship_reason                               0.000725\n",
       "hardship_type                                 0.000725\n",
       "hardship_loan_status                          0.000725\n",
       "deferral_term                                 0.000725\n",
       "sec_app_revol_util                            0.001081\n",
       "sec_app_fico_range_high                       0.001102\n",
       "sec_app_fico_range_low                        0.001102\n",
       "revol_bal_joint                               0.001102\n",
       "sec_app_collections_12_mths_ex_med            0.001102\n",
       "sec_app_chargeoff_within_12_mths              0.001102\n",
       "sec_app_num_rev_accts                         0.001102\n",
       "sec_app_open_act_il                           0.001102\n",
       "sec_app_earliest_cr_line                      0.001102\n",
       "sec_app_open_acc                              0.001102\n",
       "sec_app_mort_acc                              0.001102\n",
       "sec_app_inq_last_6mths                        0.001102\n",
       "verification_status_joint                     0.004637\n",
       "annual_inc_joint                              0.004637\n",
       "dti_joint                                     0.004637\n",
       "settlement_amount                             0.015546\n",
       "settlement_date                               0.015546\n",
       "settlement_percentage                         0.015546\n",
       "settlement_term                               0.015546\n",
       "settlement_status                             0.015546\n",
       "debt_settlement_flag_date                     0.015546\n",
       "desc                                          0.146913\n",
       "mths_since_last_record                        0.164600\n",
       "il_util                                       0.190087\n",
       "mths_since_rcnt_il                            0.212600\n",
       "all_util                                      0.217443\n",
       "open_acc_6m                                   0.217456\n",
       "total_cu_tl                                   0.217456\n",
       "inq_last_12m                                  0.217456\n",
       "open_il_24m                                   0.217458\n",
       "open_il_12m                                   0.217458\n",
       "open_act_il                                   0.217458\n",
       "total_bal_il                                  0.217458\n",
       "open_rv_24m                                   0.217458\n",
       "max_bal_bc                                    0.217458\n",
       "open_rv_12m                                   0.217458\n",
       "inq_fi                                        0.217458\n",
       "mths_since_recent_bc_dlq                      0.232597\n",
       "mths_since_last_major_derog                   0.252047\n",
       "mths_since_recent_revol_delinq                0.325970\n",
       "mths_since_last_delinq                        0.488125\n",
       "mths_since_recent_inq                         0.855567\n",
       "num_tl_120dpd_2m                              0.885586\n",
       "mo_sin_old_il_acct                            0.890110\n",
       "pct_tl_nvr_dlq                                0.916975\n",
       "avg_cur_bal                                   0.917129\n",
       "num_rev_accts                                 0.917142\n",
       "mo_sin_rcnt_rev_tl_op                         0.917142\n",
       "mo_sin_old_rev_tl_op                          0.917142\n",
       "num_accts_ever_120_pd                         0.917143\n",
       "total_rev_hi_lim                              0.917143\n",
       "num_actv_rev_tl                               0.917143\n",
       "num_actv_bc_tl                                0.917143\n",
       "num_il_tl                                     0.917143\n",
       "mo_sin_rcnt_tl                                0.917143\n",
       "num_op_rev_tl                                 0.917143\n",
       "num_rev_tl_bal_gt_0                           0.917143\n",
       "num_tl_30dpd                                  0.917143\n",
       "num_tl_90g_dpd_24m                            0.917143\n",
       "num_tl_op_past_12m                            0.917143\n",
       "tot_cur_bal                                   0.917143\n",
       "tot_coll_amt                                  0.917143\n",
       "tot_hi_cred_lim                               0.917143\n",
       "total_il_high_credit_limit                    0.917143\n",
       "num_bc_tl                                     0.917143\n",
       "num_bc_sats                                   0.931482\n",
       "num_sats                                      0.931482\n",
       "bc_util                                       0.931698\n",
       "percent_bc_gt_75                              0.931958\n",
       "bc_open_to_buy                                0.932298\n",
       "mths_since_recent_bc                          0.933032\n",
       "emp_title                                     0.940403\n",
       "acc_open_past_24mths                          0.941986\n",
       "total_bc_limit                                0.941986\n",
       "total_bal_ex_mort                             0.941986\n",
       "mort_acc                                      0.941986\n",
       "emp_length                                    0.948155\n",
       "title                                         0.990284\n",
       "last_pymnt_d                                  0.998198\n",
       "pub_rec_bankruptcies                          0.999145\n",
       "revol_util                                    0.999399\n",
       "chargeoff_within_12_mths                      0.999931\n",
       "collections_12_mths_ex_med                    0.999931\n",
       "last_credit_pull_d                            0.999952\n",
       "tax_liens                                     0.999952\n",
       "dti                                           0.999956\n",
       "inq_last_6mths                                0.999999\n",
       "dtype: float64"
      ]
     },
     "execution_count": 16,
     "metadata": {},
     "output_type": "execute_result"
    }
   ],
   "source": [
    "incmpl_cols = incomplete_cols(df)\n",
    "incmpl_cols"
   ]
  },
  {
   "cell_type": "code",
   "execution_count": 17,
   "metadata": {},
   "outputs": [],
   "source": [
    "incmpl_cols = incmpl_cols.index"
   ]
  },
  {
   "cell_type": "markdown",
   "metadata": {},
   "source": [
    "There are LOTS of features with missing data."
   ]
  },
  {
   "cell_type": "markdown",
   "metadata": {},
   "source": [
    "## Create features indicating missing data"
   ]
  },
  {
   "cell_type": "code",
   "execution_count": 18,
   "metadata": {
    "_cell_guid": "b2bccd07-6308-4d83-b45a-de8ade091106",
    "_uuid": "dd01b28cdf204ed38fa2d7123254fe9dd5f62c87"
   },
   "outputs": [],
   "source": [
    "for col in incmpl_cols:\n",
    "    df[col+'_NA'] = df[col].isnull()"
   ]
  },
  {
   "cell_type": "code",
   "execution_count": 19,
   "metadata": {},
   "outputs": [
    {
     "data": {
      "text/plain": [
       "(814986, 254)"
      ]
     },
     "execution_count": 19,
     "metadata": {},
     "output_type": "execute_result"
    }
   ],
   "source": [
    "df.shape"
   ]
  },
  {
   "cell_type": "markdown",
   "metadata": {},
   "source": [
    "Remove duplicate columns."
   ]
  },
  {
   "cell_type": "code",
   "execution_count": 20,
   "metadata": {},
   "outputs": [],
   "source": [
    "cols_to_remove = []\n",
    "for m in range(150, 252):\n",
    "    for n in range(m+1, 253):\n",
    "        if (df.iloc[:,m] == df.iloc[:,n]).all():\n",
    "            cols_to_remove.append(df.columns[m])\n",
    "            break"
   ]
  },
  {
   "cell_type": "code",
   "execution_count": 21,
   "metadata": {},
   "outputs": [],
   "source": [
    "df.drop(labels=cols_to_remove, axis=1, inplace=True)"
   ]
  },
  {
   "cell_type": "code",
   "execution_count": 22,
   "metadata": {},
   "outputs": [
    {
     "data": {
      "text/plain": [
       "(814986, 194)"
      ]
     },
     "execution_count": 22,
     "metadata": {},
     "output_type": "execute_result"
    }
   ],
   "source": [
    "df.shape"
   ]
  },
  {
   "cell_type": "markdown",
   "metadata": {
    "_cell_guid": "033676d1-c042-4af2-a41c-1f49d678d03f",
    "_uuid": "6d374ac8147274a76355bbeca958bbcf6ebb1de4"
   },
   "source": [
    "## Drop features that have >30% missing data\n",
    "<a id=\"4.2\"></a>"
   ]
  },
  {
   "cell_type": "markdown",
   "metadata": {},
   "source": [
    "Find the features to drop:"
   ]
  },
  {
   "cell_type": "code",
   "execution_count": 23,
   "metadata": {
    "_cell_guid": "b2bccd07-6308-4d83-b45a-de8ade091106",
    "_uuid": "dd01b28cdf204ed38fa2d7123254fe9dd5f62c87"
   },
   "outputs": [
    {
     "data": {
      "text/plain": [
       "['member_id',\n",
       " 'desc',\n",
       " 'mths_since_last_delinq',\n",
       " 'mths_since_last_record',\n",
       " 'next_pymnt_d',\n",
       " 'mths_since_last_major_derog',\n",
       " 'annual_inc_joint',\n",
       " 'dti_joint',\n",
       " 'verification_status_joint',\n",
       " 'open_acc_6m',\n",
       " 'open_act_il',\n",
       " 'open_il_12m',\n",
       " 'open_il_24m',\n",
       " 'mths_since_rcnt_il',\n",
       " 'total_bal_il',\n",
       " 'il_util',\n",
       " 'open_rv_12m',\n",
       " 'open_rv_24m',\n",
       " 'max_bal_bc',\n",
       " 'all_util',\n",
       " 'inq_fi',\n",
       " 'total_cu_tl',\n",
       " 'inq_last_12m',\n",
       " 'mths_since_recent_bc_dlq',\n",
       " 'mths_since_recent_revol_delinq',\n",
       " 'revol_bal_joint',\n",
       " 'sec_app_fico_range_low',\n",
       " 'sec_app_fico_range_high',\n",
       " 'sec_app_earliest_cr_line',\n",
       " 'sec_app_inq_last_6mths',\n",
       " 'sec_app_mort_acc',\n",
       " 'sec_app_open_acc',\n",
       " 'sec_app_revol_util',\n",
       " 'sec_app_open_act_il',\n",
       " 'sec_app_num_rev_accts',\n",
       " 'sec_app_chargeoff_within_12_mths',\n",
       " 'sec_app_collections_12_mths_ex_med',\n",
       " 'sec_app_mths_since_last_major_derog',\n",
       " 'hardship_type',\n",
       " 'hardship_reason',\n",
       " 'hardship_status',\n",
       " 'deferral_term',\n",
       " 'hardship_amount',\n",
       " 'hardship_start_date',\n",
       " 'hardship_end_date',\n",
       " 'payment_plan_start_date',\n",
       " 'hardship_length',\n",
       " 'hardship_dpd',\n",
       " 'hardship_loan_status',\n",
       " 'orig_projected_additional_accrued_interest',\n",
       " 'hardship_payoff_balance_amount',\n",
       " 'hardship_last_payment_amount',\n",
       " 'debt_settlement_flag_date',\n",
       " 'settlement_status',\n",
       " 'settlement_date',\n",
       " 'settlement_amount',\n",
       " 'settlement_percentage',\n",
       " 'settlement_term']"
      ]
     },
     "execution_count": 23,
     "metadata": {},
     "output_type": "execute_result"
    }
   ],
   "source": [
    "drop_list = []\n",
    "for col in df.columns:\n",
    "    if df[col].isnull().mean() > 0.3:\n",
    "        drop_list.append(col)\n",
    "\n",
    "drop_list"
   ]
  },
  {
   "cell_type": "markdown",
   "metadata": {
    "_cell_guid": "7fcfae32-fdf5-42af-a14a-0b797c17b034",
    "_uuid": "4477765ea99a243a25421550ff4087b68fc6fa1b"
   },
   "source": [
    "Drop these columns."
   ]
  },
  {
   "cell_type": "code",
   "execution_count": 24,
   "metadata": {
    "_cell_guid": "f970dbae-c67e-4c08-9d86-26d3eba0baf6",
    "_uuid": "483385386b944a572c261fd3c7c3c91e37bb0111"
   },
   "outputs": [
    {
     "data": {
      "text/plain": [
       "(814986, 194)"
      ]
     },
     "execution_count": 24,
     "metadata": {},
     "output_type": "execute_result"
    }
   ],
   "source": [
    "df.shape"
   ]
  },
  {
   "cell_type": "code",
   "execution_count": 25,
   "metadata": {
    "_cell_guid": "876333ef-2b06-4fa8-b74f-4d9a59f8b2d6",
    "_uuid": "ea1d37e6b2b661cb6aed42a2929b2113f493fce6"
   },
   "outputs": [],
   "source": [
    "df.drop(labels=drop_list, axis=1, inplace=True)"
   ]
  },
  {
   "cell_type": "code",
   "execution_count": 26,
   "metadata": {
    "_cell_guid": "67fad293-bc4c-4126-b753-0c266c20d639",
    "_uuid": "653d8aafd7048bfdf428338be189d6b317079f5f"
   },
   "outputs": [
    {
     "data": {
      "text/plain": [
       "(814986, 136)"
      ]
     },
     "execution_count": 26,
     "metadata": {},
     "output_type": "execute_result"
    }
   ],
   "source": [
    "df.shape"
   ]
  },
  {
   "cell_type": "markdown",
   "metadata": {
    "_cell_guid": "005d0c15-2687-4121-a1a5-fb976d0785b9",
    "_uuid": "ff18d981d951ab063b7de99fdc1f410776c5ae53"
   },
   "source": [
    "## Remove irrelevant features\n",
    "<a id=\"4.3\"></a>"
   ]
  },
  {
   "cell_type": "markdown",
   "metadata": {
    "_cell_guid": "3c7faa78-a1f5-40fb-98e5-af7930c95d02",
    "_uuid": "5957f341fdc91568b3e5ef935c9677c93516c480"
   },
   "source": [
    "Let's drop some features that we don't think will be useful for predicting the loan status.\n",
    "\n",
    "Analyzing text in the borrower loan description, job title, or loan title could be an interesting direction, but we won't explore this for now. The last three features listed below contain date information. We could convert these to numerical values, but we won't bother doing so."
   ]
  },
  {
   "cell_type": "code",
   "execution_count": 27,
   "metadata": {
    "_cell_guid": "6f398be9-0a45-4abc-9e50-ba3d8cca3655",
    "_uuid": "019a40648e082ecbf830828ca8617c3e74cdfb73"
   },
   "outputs": [
    {
     "data": {
      "text/plain": [
       "(814986, 136)"
      ]
     },
     "execution_count": 27,
     "metadata": {},
     "output_type": "execute_result"
    }
   ],
   "source": [
    "df.shape"
   ]
  },
  {
   "cell_type": "code",
   "execution_count": 28,
   "metadata": {
    "_cell_guid": "498805f3-a738-4493-97f7-d1089a630260",
    "_uuid": "e39264c8789579219bd1fc0f50b3beef392efc50"
   },
   "outputs": [],
   "source": [
    "df.drop(labels=['id', 'emp_title', 'title', 'issue_d', 'last_credit_pull_d', 'earliest_cr_line'], axis=1, inplace=True)"
   ]
  },
  {
   "cell_type": "code",
   "execution_count": 29,
   "metadata": {
    "_cell_guid": "0ac1ac85-b02d-45df-aae0-c465be793f66",
    "_uuid": "52704d043e424771bf5300cb63e8d692fffc7e8d"
   },
   "outputs": [
    {
     "data": {
      "text/plain": [
       "(814986, 130)"
      ]
     },
     "execution_count": 29,
     "metadata": {},
     "output_type": "execute_result"
    }
   ],
   "source": [
    "df.shape"
   ]
  },
  {
   "cell_type": "markdown",
   "metadata": {
    "_cell_guid": "33b90b6b-0fcd-4657-ae11-0ff2f6a95823",
    "_uuid": "4066be79385b7b0c6b7d4f96533106093304b746"
   },
   "source": [
    "## Remove features that could make predictions too easy\n",
    "<a id=\"4.4\"></a>"
   ]
  },
  {
   "cell_type": "markdown",
   "metadata": {
    "_cell_guid": "eeca4f72-9f43-41f6-b616-2a774a80241c",
    "_uuid": "d06b13c0421fa20ea98a295341384d09d7783aa4"
   },
   "source": [
    "Some features perfectly predict the loan status. For example, if `debt_settlement_flag` is 'Y', this implies that the borrower charged off. Also, if `total_pymnt` is greater than `loan_amnt`, and similarly for interest and fee payment features, then the loan must be paid off. Let's remove these columns so that predicting charge-offs isn't trivially simple."
   ]
  },
  {
   "cell_type": "code",
   "execution_count": 30,
   "metadata": {
    "_cell_guid": "bf02966a-485a-4fe2-9d8e-f5533b026c92",
    "_uuid": "018934ea475eb17391210a534ec91dc3f8823a84"
   },
   "outputs": [
    {
     "data": {
      "text/plain": [
       "(814986, 130)"
      ]
     },
     "execution_count": 30,
     "metadata": {},
     "output_type": "execute_result"
    }
   ],
   "source": [
    "df.shape"
   ]
  },
  {
   "cell_type": "code",
   "execution_count": 31,
   "metadata": {
    "_cell_guid": "395ba998-45d7-491f-a7a0-0e437faf85f2",
    "_uuid": "bef17f20d165af9c300243b637d95bf65a552084"
   },
   "outputs": [],
   "source": [
    "df.drop(labels=['collection_recovery_fee', 'debt_settlement_flag', 'last_pymnt_amnt', 'last_pymnt_d', 'recoveries', 'total_pymnt', 'total_pymnt_inv', 'total_rec_int', 'total_rec_late_fee', 'total_rec_prncp'], axis=1, inplace=True)"
   ]
  },
  {
   "cell_type": "code",
   "execution_count": 32,
   "metadata": {
    "_cell_guid": "994ff4b1-9e2e-427a-a464-382d42c2611c",
    "_uuid": "96284db153aaff8cbb0bea1a609b1477f00e0bc7"
   },
   "outputs": [
    {
     "data": {
      "text/plain": [
       "(814986, 120)"
      ]
     },
     "execution_count": 32,
     "metadata": {},
     "output_type": "execute_result"
    }
   ],
   "source": [
    "df.shape"
   ]
  },
  {
   "cell_type": "markdown",
   "metadata": {
    "_cell_guid": "1fccc348-6582-464a-8857-7944f5316954",
    "_uuid": "82e28e93690b55e5bbd6a46e163d93028eca5538"
   },
   "source": [
    "## Inspect non-numerical features\n",
    "<a id=\"4.5\"></a>"
   ]
  },
  {
   "cell_type": "markdown",
   "metadata": {
    "_cell_guid": "d638c626-6e5e-42af-a75b-7d839edc4717",
    "_uuid": "7df157e16c1f4a6c0ea180bb452336c96064f5e1"
   },
   "source": [
    "We're going to inspect features of type `object`, i.e. text data."
   ]
  },
  {
   "cell_type": "code",
   "execution_count": 33,
   "metadata": {
    "_cell_guid": "550efede-0bd4-4b8e-9ec7-99a36da33580",
    "_uuid": "a19ba5766eae9aef2c1cd7d6cfba80d42f0c445f"
   },
   "outputs": [
    {
     "data": {
      "text/html": [
       "<div>\n",
       "<style scoped>\n",
       "    .dataframe tbody tr th:only-of-type {\n",
       "        vertical-align: middle;\n",
       "    }\n",
       "\n",
       "    .dataframe tbody tr th {\n",
       "        vertical-align: top;\n",
       "    }\n",
       "\n",
       "    .dataframe thead th {\n",
       "        text-align: right;\n",
       "    }\n",
       "</style>\n",
       "<table border=\"1\" class=\"dataframe\">\n",
       "  <thead>\n",
       "    <tr style=\"text-align: right;\">\n",
       "      <th></th>\n",
       "      <th>loan_amnt</th>\n",
       "      <th>funded_amnt</th>\n",
       "      <th>funded_amnt_inv</th>\n",
       "      <th>term</th>\n",
       "      <th>int_rate</th>\n",
       "      <th>installment</th>\n",
       "      <th>grade</th>\n",
       "      <th>sub_grade</th>\n",
       "      <th>emp_length</th>\n",
       "      <th>home_ownership</th>\n",
       "      <th>annual_inc</th>\n",
       "      <th>verification_status</th>\n",
       "      <th>charged_off</th>\n",
       "      <th>pymnt_plan</th>\n",
       "      <th>purpose</th>\n",
       "      <th>zip_code</th>\n",
       "      <th>addr_state</th>\n",
       "      <th>dti</th>\n",
       "      <th>delinq_2yrs</th>\n",
       "      <th>fico_range_low</th>\n",
       "      <th>fico_range_high</th>\n",
       "      <th>inq_last_6mths</th>\n",
       "      <th>open_acc</th>\n",
       "      <th>pub_rec</th>\n",
       "      <th>revol_bal</th>\n",
       "      <th>revol_util</th>\n",
       "      <th>total_acc</th>\n",
       "      <th>initial_list_status</th>\n",
       "      <th>out_prncp</th>\n",
       "      <th>out_prncp_inv</th>\n",
       "      <th>last_fico_range_high</th>\n",
       "      <th>last_fico_range_low</th>\n",
       "      <th>collections_12_mths_ex_med</th>\n",
       "      <th>policy_code</th>\n",
       "      <th>application_type</th>\n",
       "      <th>acc_now_delinq</th>\n",
       "      <th>tot_coll_amt</th>\n",
       "      <th>tot_cur_bal</th>\n",
       "      <th>total_rev_hi_lim</th>\n",
       "      <th>acc_open_past_24mths</th>\n",
       "      <th>avg_cur_bal</th>\n",
       "      <th>bc_open_to_buy</th>\n",
       "      <th>bc_util</th>\n",
       "      <th>chargeoff_within_12_mths</th>\n",
       "      <th>delinq_amnt</th>\n",
       "      <th>mo_sin_old_il_acct</th>\n",
       "      <th>mo_sin_old_rev_tl_op</th>\n",
       "      <th>mo_sin_rcnt_rev_tl_op</th>\n",
       "      <th>mo_sin_rcnt_tl</th>\n",
       "      <th>mort_acc</th>\n",
       "      <th>mths_since_recent_bc</th>\n",
       "      <th>mths_since_recent_inq</th>\n",
       "      <th>num_accts_ever_120_pd</th>\n",
       "      <th>num_actv_bc_tl</th>\n",
       "      <th>num_actv_rev_tl</th>\n",
       "      <th>num_bc_sats</th>\n",
       "      <th>num_bc_tl</th>\n",
       "      <th>num_il_tl</th>\n",
       "      <th>num_op_rev_tl</th>\n",
       "      <th>num_rev_accts</th>\n",
       "      <th>num_rev_tl_bal_gt_0</th>\n",
       "      <th>num_sats</th>\n",
       "      <th>num_tl_120dpd_2m</th>\n",
       "      <th>num_tl_30dpd</th>\n",
       "      <th>num_tl_90g_dpd_24m</th>\n",
       "      <th>num_tl_op_past_12m</th>\n",
       "      <th>pct_tl_nvr_dlq</th>\n",
       "      <th>percent_bc_gt_75</th>\n",
       "      <th>pub_rec_bankruptcies</th>\n",
       "      <th>tax_liens</th>\n",
       "      <th>tot_hi_cred_lim</th>\n",
       "      <th>total_bal_ex_mort</th>\n",
       "      <th>total_bc_limit</th>\n",
       "      <th>total_il_high_credit_limit</th>\n",
       "      <th>hardship_flag</th>\n",
       "      <th>disbursement_method</th>\n",
       "      <th>next_pymnt_d_NA</th>\n",
       "      <th>orig_projected_additional_accrued_interest_NA</th>\n",
       "      <th>sec_app_mths_since_last_major_derog_NA</th>\n",
       "      <th>deferral_term_NA</th>\n",
       "      <th>sec_app_revol_util_NA</th>\n",
       "      <th>sec_app_inq_last_6mths_NA</th>\n",
       "      <th>dti_joint_NA</th>\n",
       "      <th>debt_settlement_flag_date_NA</th>\n",
       "      <th>desc_NA</th>\n",
       "      <th>mths_since_last_record_NA</th>\n",
       "      <th>il_util_NA</th>\n",
       "      <th>mths_since_rcnt_il_NA</th>\n",
       "      <th>all_util_NA</th>\n",
       "      <th>inq_last_12m_NA</th>\n",
       "      <th>inq_fi_NA</th>\n",
       "      <th>mths_since_recent_bc_dlq_NA</th>\n",
       "      <th>mths_since_last_major_derog_NA</th>\n",
       "      <th>mths_since_recent_revol_delinq_NA</th>\n",
       "      <th>mths_since_last_delinq_NA</th>\n",
       "      <th>mths_since_recent_inq_NA</th>\n",
       "      <th>num_tl_120dpd_2m_NA</th>\n",
       "      <th>mo_sin_old_il_acct_NA</th>\n",
       "      <th>pct_tl_nvr_dlq_NA</th>\n",
       "      <th>avg_cur_bal_NA</th>\n",
       "      <th>num_rev_accts_NA</th>\n",
       "      <th>mo_sin_old_rev_tl_op_NA</th>\n",
       "      <th>num_bc_tl_NA</th>\n",
       "      <th>num_sats_NA</th>\n",
       "      <th>bc_util_NA</th>\n",
       "      <th>percent_bc_gt_75_NA</th>\n",
       "      <th>bc_open_to_buy_NA</th>\n",
       "      <th>mths_since_recent_bc_NA</th>\n",
       "      <th>emp_title_NA</th>\n",
       "      <th>mort_acc_NA</th>\n",
       "      <th>emp_length_NA</th>\n",
       "      <th>title_NA</th>\n",
       "      <th>last_pymnt_d_NA</th>\n",
       "      <th>pub_rec_bankruptcies_NA</th>\n",
       "      <th>revol_util_NA</th>\n",
       "      <th>collections_12_mths_ex_med_NA</th>\n",
       "      <th>last_credit_pull_d_NA</th>\n",
       "      <th>tax_liens_NA</th>\n",
       "      <th>dti_NA</th>\n",
       "      <th>inq_last_6mths_NA</th>\n",
       "    </tr>\n",
       "  </thead>\n",
       "  <tbody>\n",
       "    <tr>\n",
       "      <th>1359281</th>\n",
       "      <td>5700.0</td>\n",
       "      <td>5700.0</td>\n",
       "      <td>5700.0</td>\n",
       "      <td>36 months</td>\n",
       "      <td>9.75</td>\n",
       "      <td>183.26</td>\n",
       "      <td>B</td>\n",
       "      <td>B3</td>\n",
       "      <td>10+ years</td>\n",
       "      <td>MORTGAGE</td>\n",
       "      <td>76000.0</td>\n",
       "      <td>Source Verified</td>\n",
       "      <td>False</td>\n",
       "      <td>n</td>\n",
       "      <td>home_improvement</td>\n",
       "      <td>282xx</td>\n",
       "      <td>NC</td>\n",
       "      <td>13.47</td>\n",
       "      <td>0.0</td>\n",
       "      <td>745.0</td>\n",
       "      <td>749.0</td>\n",
       "      <td>1.0</td>\n",
       "      <td>19.0</td>\n",
       "      <td>0.0</td>\n",
       "      <td>14145.0</td>\n",
       "      <td>26.8</td>\n",
       "      <td>25.0</td>\n",
       "      <td>w</td>\n",
       "      <td>0.0</td>\n",
       "      <td>0.0</td>\n",
       "      <td>659.0</td>\n",
       "      <td>655.0</td>\n",
       "      <td>0.0</td>\n",
       "      <td>1.0</td>\n",
       "      <td>Individual</td>\n",
       "      <td>0.0</td>\n",
       "      <td>0.0</td>\n",
       "      <td>39115.0</td>\n",
       "      <td>52700.0</td>\n",
       "      <td>12.0</td>\n",
       "      <td>2059.0</td>\n",
       "      <td>17940.0</td>\n",
       "      <td>34.3</td>\n",
       "      <td>0.0</td>\n",
       "      <td>0.0</td>\n",
       "      <td>25.0</td>\n",
       "      <td>218.0</td>\n",
       "      <td>3.0</td>\n",
       "      <td>3.0</td>\n",
       "      <td>0.0</td>\n",
       "      <td>4.0</td>\n",
       "      <td>1.0</td>\n",
       "      <td>0.0</td>\n",
       "      <td>3.0</td>\n",
       "      <td>5.0</td>\n",
       "      <td>7.0</td>\n",
       "      <td>10.0</td>\n",
       "      <td>3.0</td>\n",
       "      <td>17.0</td>\n",
       "      <td>22.0</td>\n",
       "      <td>5.0</td>\n",
       "      <td>19.0</td>\n",
       "      <td>0.0</td>\n",
       "      <td>0.0</td>\n",
       "      <td>0.0</td>\n",
       "      <td>5.0</td>\n",
       "      <td>100.0</td>\n",
       "      <td>14.3</td>\n",
       "      <td>0.0</td>\n",
       "      <td>0.0</td>\n",
       "      <td>87698.0</td>\n",
       "      <td>39115.0</td>\n",
       "      <td>27300.0</td>\n",
       "      <td>34998.0</td>\n",
       "      <td>N</td>\n",
       "      <td>Cash</td>\n",
       "      <td>True</td>\n",
       "      <td>True</td>\n",
       "      <td>True</td>\n",
       "      <td>True</td>\n",
       "      <td>True</td>\n",
       "      <td>True</td>\n",
       "      <td>True</td>\n",
       "      <td>True</td>\n",
       "      <td>True</td>\n",
       "      <td>True</td>\n",
       "      <td>False</td>\n",
       "      <td>False</td>\n",
       "      <td>False</td>\n",
       "      <td>False</td>\n",
       "      <td>False</td>\n",
       "      <td>True</td>\n",
       "      <td>True</td>\n",
       "      <td>True</td>\n",
       "      <td>True</td>\n",
       "      <td>False</td>\n",
       "      <td>False</td>\n",
       "      <td>False</td>\n",
       "      <td>False</td>\n",
       "      <td>False</td>\n",
       "      <td>False</td>\n",
       "      <td>False</td>\n",
       "      <td>False</td>\n",
       "      <td>False</td>\n",
       "      <td>False</td>\n",
       "      <td>False</td>\n",
       "      <td>False</td>\n",
       "      <td>False</td>\n",
       "      <td>False</td>\n",
       "      <td>False</td>\n",
       "      <td>False</td>\n",
       "      <td>False</td>\n",
       "      <td>False</td>\n",
       "      <td>False</td>\n",
       "      <td>False</td>\n",
       "      <td>False</td>\n",
       "      <td>False</td>\n",
       "      <td>False</td>\n",
       "      <td>False</td>\n",
       "      <td>False</td>\n",
       "    </tr>\n",
       "    <tr>\n",
       "      <th>807397</th>\n",
       "      <td>5000.0</td>\n",
       "      <td>5000.0</td>\n",
       "      <td>5000.0</td>\n",
       "      <td>36 months</td>\n",
       "      <td>13.98</td>\n",
       "      <td>170.84</td>\n",
       "      <td>C</td>\n",
       "      <td>C1</td>\n",
       "      <td>2 years</td>\n",
       "      <td>MORTGAGE</td>\n",
       "      <td>87000.0</td>\n",
       "      <td>Verified</td>\n",
       "      <td>False</td>\n",
       "      <td>n</td>\n",
       "      <td>credit_card</td>\n",
       "      <td>601xx</td>\n",
       "      <td>IL</td>\n",
       "      <td>16.81</td>\n",
       "      <td>0.0</td>\n",
       "      <td>675.0</td>\n",
       "      <td>679.0</td>\n",
       "      <td>1.0</td>\n",
       "      <td>7.0</td>\n",
       "      <td>1.0</td>\n",
       "      <td>24449.0</td>\n",
       "      <td>91.9</td>\n",
       "      <td>23.0</td>\n",
       "      <td>w</td>\n",
       "      <td>0.0</td>\n",
       "      <td>0.0</td>\n",
       "      <td>694.0</td>\n",
       "      <td>690.0</td>\n",
       "      <td>0.0</td>\n",
       "      <td>1.0</td>\n",
       "      <td>Individual</td>\n",
       "      <td>0.0</td>\n",
       "      <td>0.0</td>\n",
       "      <td>207056.0</td>\n",
       "      <td>26600.0</td>\n",
       "      <td>5.0</td>\n",
       "      <td>34509.0</td>\n",
       "      <td>0.0</td>\n",
       "      <td>101.6</td>\n",
       "      <td>0.0</td>\n",
       "      <td>0.0</td>\n",
       "      <td>136.0</td>\n",
       "      <td>190.0</td>\n",
       "      <td>89.0</td>\n",
       "      <td>6.0</td>\n",
       "      <td>4.0</td>\n",
       "      <td>134.0</td>\n",
       "      <td>6.0</td>\n",
       "      <td>0.0</td>\n",
       "      <td>1.0</td>\n",
       "      <td>2.0</td>\n",
       "      <td>1.0</td>\n",
       "      <td>2.0</td>\n",
       "      <td>12.0</td>\n",
       "      <td>3.0</td>\n",
       "      <td>7.0</td>\n",
       "      <td>2.0</td>\n",
       "      <td>7.0</td>\n",
       "      <td>0.0</td>\n",
       "      <td>0.0</td>\n",
       "      <td>0.0</td>\n",
       "      <td>2.0</td>\n",
       "      <td>100.0</td>\n",
       "      <td>100.0</td>\n",
       "      <td>0.0</td>\n",
       "      <td>1.0</td>\n",
       "      <td>220200.0</td>\n",
       "      <td>46521.0</td>\n",
       "      <td>16700.0</td>\n",
       "      <td>31589.0</td>\n",
       "      <td>N</td>\n",
       "      <td>Cash</td>\n",
       "      <td>True</td>\n",
       "      <td>True</td>\n",
       "      <td>True</td>\n",
       "      <td>True</td>\n",
       "      <td>True</td>\n",
       "      <td>True</td>\n",
       "      <td>True</td>\n",
       "      <td>True</td>\n",
       "      <td>True</td>\n",
       "      <td>False</td>\n",
       "      <td>True</td>\n",
       "      <td>True</td>\n",
       "      <td>True</td>\n",
       "      <td>True</td>\n",
       "      <td>True</td>\n",
       "      <td>True</td>\n",
       "      <td>True</td>\n",
       "      <td>True</td>\n",
       "      <td>False</td>\n",
       "      <td>False</td>\n",
       "      <td>False</td>\n",
       "      <td>False</td>\n",
       "      <td>False</td>\n",
       "      <td>False</td>\n",
       "      <td>False</td>\n",
       "      <td>False</td>\n",
       "      <td>False</td>\n",
       "      <td>False</td>\n",
       "      <td>False</td>\n",
       "      <td>False</td>\n",
       "      <td>False</td>\n",
       "      <td>False</td>\n",
       "      <td>False</td>\n",
       "      <td>False</td>\n",
       "      <td>False</td>\n",
       "      <td>False</td>\n",
       "      <td>False</td>\n",
       "      <td>False</td>\n",
       "      <td>False</td>\n",
       "      <td>False</td>\n",
       "      <td>False</td>\n",
       "      <td>False</td>\n",
       "      <td>False</td>\n",
       "      <td>False</td>\n",
       "    </tr>\n",
       "    <tr>\n",
       "      <th>127409</th>\n",
       "      <td>9875.0</td>\n",
       "      <td>9875.0</td>\n",
       "      <td>9875.0</td>\n",
       "      <td>36 months</td>\n",
       "      <td>13.35</td>\n",
       "      <td>334.40</td>\n",
       "      <td>C</td>\n",
       "      <td>C2</td>\n",
       "      <td>10+ years</td>\n",
       "      <td>MORTGAGE</td>\n",
       "      <td>22560.0</td>\n",
       "      <td>Source Verified</td>\n",
       "      <td>False</td>\n",
       "      <td>n</td>\n",
       "      <td>debt_consolidation</td>\n",
       "      <td>441xx</td>\n",
       "      <td>OH</td>\n",
       "      <td>15.00</td>\n",
       "      <td>0.0</td>\n",
       "      <td>715.0</td>\n",
       "      <td>719.0</td>\n",
       "      <td>1.0</td>\n",
       "      <td>9.0</td>\n",
       "      <td>1.0</td>\n",
       "      <td>9497.0</td>\n",
       "      <td>43.4</td>\n",
       "      <td>11.0</td>\n",
       "      <td>f</td>\n",
       "      <td>0.0</td>\n",
       "      <td>0.0</td>\n",
       "      <td>684.0</td>\n",
       "      <td>680.0</td>\n",
       "      <td>0.0</td>\n",
       "      <td>1.0</td>\n",
       "      <td>Individual</td>\n",
       "      <td>0.0</td>\n",
       "      <td>0.0</td>\n",
       "      <td>81526.0</td>\n",
       "      <td>21900.0</td>\n",
       "      <td>1.0</td>\n",
       "      <td>9058.0</td>\n",
       "      <td>9309.0</td>\n",
       "      <td>47.4</td>\n",
       "      <td>0.0</td>\n",
       "      <td>0.0</td>\n",
       "      <td>NaN</td>\n",
       "      <td>101.0</td>\n",
       "      <td>3.0</td>\n",
       "      <td>3.0</td>\n",
       "      <td>2.0</td>\n",
       "      <td>3.0</td>\n",
       "      <td>3.0</td>\n",
       "      <td>0.0</td>\n",
       "      <td>5.0</td>\n",
       "      <td>6.0</td>\n",
       "      <td>6.0</td>\n",
       "      <td>6.0</td>\n",
       "      <td>0.0</td>\n",
       "      <td>8.0</td>\n",
       "      <td>9.0</td>\n",
       "      <td>6.0</td>\n",
       "      <td>9.0</td>\n",
       "      <td>0.0</td>\n",
       "      <td>0.0</td>\n",
       "      <td>0.0</td>\n",
       "      <td>1.0</td>\n",
       "      <td>90.9</td>\n",
       "      <td>16.7</td>\n",
       "      <td>1.0</td>\n",
       "      <td>0.0</td>\n",
       "      <td>109640.0</td>\n",
       "      <td>9497.0</td>\n",
       "      <td>17700.0</td>\n",
       "      <td>0.0</td>\n",
       "      <td>N</td>\n",
       "      <td>Cash</td>\n",
       "      <td>True</td>\n",
       "      <td>True</td>\n",
       "      <td>True</td>\n",
       "      <td>True</td>\n",
       "      <td>True</td>\n",
       "      <td>True</td>\n",
       "      <td>True</td>\n",
       "      <td>True</td>\n",
       "      <td>True</td>\n",
       "      <td>False</td>\n",
       "      <td>True</td>\n",
       "      <td>True</td>\n",
       "      <td>True</td>\n",
       "      <td>True</td>\n",
       "      <td>True</td>\n",
       "      <td>True</td>\n",
       "      <td>True</td>\n",
       "      <td>True</td>\n",
       "      <td>True</td>\n",
       "      <td>False</td>\n",
       "      <td>False</td>\n",
       "      <td>True</td>\n",
       "      <td>False</td>\n",
       "      <td>False</td>\n",
       "      <td>False</td>\n",
       "      <td>False</td>\n",
       "      <td>False</td>\n",
       "      <td>False</td>\n",
       "      <td>False</td>\n",
       "      <td>False</td>\n",
       "      <td>False</td>\n",
       "      <td>False</td>\n",
       "      <td>False</td>\n",
       "      <td>False</td>\n",
       "      <td>False</td>\n",
       "      <td>False</td>\n",
       "      <td>False</td>\n",
       "      <td>False</td>\n",
       "      <td>False</td>\n",
       "      <td>False</td>\n",
       "      <td>False</td>\n",
       "      <td>False</td>\n",
       "      <td>False</td>\n",
       "      <td>False</td>\n",
       "    </tr>\n",
       "  </tbody>\n",
       "</table>\n",
       "</div>"
      ],
      "text/plain": [
       "         loan_amnt  funded_amnt  funded_amnt_inv        term  int_rate  \\\n",
       "1359281     5700.0       5700.0           5700.0   36 months      9.75   \n",
       "807397      5000.0       5000.0           5000.0   36 months     13.98   \n",
       "127409      9875.0       9875.0           9875.0   36 months     13.35   \n",
       "\n",
       "         installment grade sub_grade emp_length home_ownership  annual_inc  \\\n",
       "1359281       183.26     B        B3  10+ years       MORTGAGE     76000.0   \n",
       "807397        170.84     C        C1    2 years       MORTGAGE     87000.0   \n",
       "127409        334.40     C        C2  10+ years       MORTGAGE     22560.0   \n",
       "\n",
       "        verification_status  charged_off pymnt_plan             purpose  \\\n",
       "1359281     Source Verified        False          n    home_improvement   \n",
       "807397             Verified        False          n         credit_card   \n",
       "127409      Source Verified        False          n  debt_consolidation   \n",
       "\n",
       "        zip_code addr_state    dti  delinq_2yrs  fico_range_low  \\\n",
       "1359281    282xx         NC  13.47          0.0           745.0   \n",
       "807397     601xx         IL  16.81          0.0           675.0   \n",
       "127409     441xx         OH  15.00          0.0           715.0   \n",
       "\n",
       "         fico_range_high  inq_last_6mths  open_acc  pub_rec  revol_bal  \\\n",
       "1359281            749.0             1.0      19.0      0.0    14145.0   \n",
       "807397             679.0             1.0       7.0      1.0    24449.0   \n",
       "127409             719.0             1.0       9.0      1.0     9497.0   \n",
       "\n",
       "         revol_util  total_acc initial_list_status  out_prncp  out_prncp_inv  \\\n",
       "1359281        26.8       25.0                   w        0.0            0.0   \n",
       "807397         91.9       23.0                   w        0.0            0.0   \n",
       "127409         43.4       11.0                   f        0.0            0.0   \n",
       "\n",
       "         last_fico_range_high  last_fico_range_low  \\\n",
       "1359281                 659.0                655.0   \n",
       "807397                  694.0                690.0   \n",
       "127409                  684.0                680.0   \n",
       "\n",
       "         collections_12_mths_ex_med  policy_code application_type  \\\n",
       "1359281                         0.0          1.0       Individual   \n",
       "807397                          0.0          1.0       Individual   \n",
       "127409                          0.0          1.0       Individual   \n",
       "\n",
       "         acc_now_delinq  tot_coll_amt  tot_cur_bal  total_rev_hi_lim  \\\n",
       "1359281             0.0           0.0      39115.0           52700.0   \n",
       "807397              0.0           0.0     207056.0           26600.0   \n",
       "127409              0.0           0.0      81526.0           21900.0   \n",
       "\n",
       "         acc_open_past_24mths  avg_cur_bal  bc_open_to_buy  bc_util  \\\n",
       "1359281                  12.0       2059.0         17940.0     34.3   \n",
       "807397                    5.0      34509.0             0.0    101.6   \n",
       "127409                    1.0       9058.0          9309.0     47.4   \n",
       "\n",
       "         chargeoff_within_12_mths  delinq_amnt  mo_sin_old_il_acct  \\\n",
       "1359281                       0.0          0.0                25.0   \n",
       "807397                        0.0          0.0               136.0   \n",
       "127409                        0.0          0.0                 NaN   \n",
       "\n",
       "         mo_sin_old_rev_tl_op  mo_sin_rcnt_rev_tl_op  mo_sin_rcnt_tl  \\\n",
       "1359281                 218.0                    3.0             3.0   \n",
       "807397                  190.0                   89.0             6.0   \n",
       "127409                  101.0                    3.0             3.0   \n",
       "\n",
       "         mort_acc  mths_since_recent_bc  mths_since_recent_inq  \\\n",
       "1359281       0.0                   4.0                    1.0   \n",
       "807397        4.0                 134.0                    6.0   \n",
       "127409        2.0                   3.0                    3.0   \n",
       "\n",
       "         num_accts_ever_120_pd  num_actv_bc_tl  num_actv_rev_tl  num_bc_sats  \\\n",
       "1359281                    0.0             3.0              5.0          7.0   \n",
       "807397                     0.0             1.0              2.0          1.0   \n",
       "127409                     0.0             5.0              6.0          6.0   \n",
       "\n",
       "         num_bc_tl  num_il_tl  num_op_rev_tl  num_rev_accts  \\\n",
       "1359281       10.0        3.0           17.0           22.0   \n",
       "807397         2.0       12.0            3.0            7.0   \n",
       "127409         6.0        0.0            8.0            9.0   \n",
       "\n",
       "         num_rev_tl_bal_gt_0  num_sats  num_tl_120dpd_2m  num_tl_30dpd  \\\n",
       "1359281                  5.0      19.0               0.0           0.0   \n",
       "807397                   2.0       7.0               0.0           0.0   \n",
       "127409                   6.0       9.0               0.0           0.0   \n",
       "\n",
       "         num_tl_90g_dpd_24m  num_tl_op_past_12m  pct_tl_nvr_dlq  \\\n",
       "1359281                 0.0                 5.0           100.0   \n",
       "807397                  0.0                 2.0           100.0   \n",
       "127409                  0.0                 1.0            90.9   \n",
       "\n",
       "         percent_bc_gt_75  pub_rec_bankruptcies  tax_liens  tot_hi_cred_lim  \\\n",
       "1359281              14.3                   0.0        0.0          87698.0   \n",
       "807397              100.0                   0.0        1.0         220200.0   \n",
       "127409               16.7                   1.0        0.0         109640.0   \n",
       "\n",
       "         total_bal_ex_mort  total_bc_limit  total_il_high_credit_limit  \\\n",
       "1359281            39115.0         27300.0                     34998.0   \n",
       "807397             46521.0         16700.0                     31589.0   \n",
       "127409              9497.0         17700.0                         0.0   \n",
       "\n",
       "        hardship_flag disbursement_method  next_pymnt_d_NA  \\\n",
       "1359281             N                Cash             True   \n",
       "807397              N                Cash             True   \n",
       "127409              N                Cash             True   \n",
       "\n",
       "         orig_projected_additional_accrued_interest_NA  \\\n",
       "1359281                                           True   \n",
       "807397                                            True   \n",
       "127409                                            True   \n",
       "\n",
       "         sec_app_mths_since_last_major_derog_NA  deferral_term_NA  \\\n",
       "1359281                                    True              True   \n",
       "807397                                     True              True   \n",
       "127409                                     True              True   \n",
       "\n",
       "         sec_app_revol_util_NA  sec_app_inq_last_6mths_NA  dti_joint_NA  \\\n",
       "1359281                   True                       True          True   \n",
       "807397                    True                       True          True   \n",
       "127409                    True                       True          True   \n",
       "\n",
       "         debt_settlement_flag_date_NA  desc_NA  mths_since_last_record_NA  \\\n",
       "1359281                          True     True                       True   \n",
       "807397                           True     True                      False   \n",
       "127409                           True     True                      False   \n",
       "\n",
       "         il_util_NA  mths_since_rcnt_il_NA  all_util_NA  inq_last_12m_NA  \\\n",
       "1359281       False                  False        False            False   \n",
       "807397         True                   True         True             True   \n",
       "127409         True                   True         True             True   \n",
       "\n",
       "         inq_fi_NA  mths_since_recent_bc_dlq_NA  \\\n",
       "1359281      False                         True   \n",
       "807397        True                         True   \n",
       "127409        True                         True   \n",
       "\n",
       "         mths_since_last_major_derog_NA  mths_since_recent_revol_delinq_NA  \\\n",
       "1359281                            True                               True   \n",
       "807397                             True                               True   \n",
       "127409                             True                               True   \n",
       "\n",
       "         mths_since_last_delinq_NA  mths_since_recent_inq_NA  \\\n",
       "1359281                       True                     False   \n",
       "807397                       False                     False   \n",
       "127409                        True                     False   \n",
       "\n",
       "         num_tl_120dpd_2m_NA  mo_sin_old_il_acct_NA  pct_tl_nvr_dlq_NA  \\\n",
       "1359281                False                  False              False   \n",
       "807397                 False                  False              False   \n",
       "127409                 False                   True              False   \n",
       "\n",
       "         avg_cur_bal_NA  num_rev_accts_NA  mo_sin_old_rev_tl_op_NA  \\\n",
       "1359281           False             False                    False   \n",
       "807397            False             False                    False   \n",
       "127409            False             False                    False   \n",
       "\n",
       "         num_bc_tl_NA  num_sats_NA  bc_util_NA  percent_bc_gt_75_NA  \\\n",
       "1359281         False        False       False                False   \n",
       "807397          False        False       False                False   \n",
       "127409          False        False       False                False   \n",
       "\n",
       "         bc_open_to_buy_NA  mths_since_recent_bc_NA  emp_title_NA  \\\n",
       "1359281              False                    False         False   \n",
       "807397               False                    False         False   \n",
       "127409               False                    False         False   \n",
       "\n",
       "         mort_acc_NA  emp_length_NA  title_NA  last_pymnt_d_NA  \\\n",
       "1359281        False          False     False            False   \n",
       "807397         False          False     False            False   \n",
       "127409         False          False     False            False   \n",
       "\n",
       "         pub_rec_bankruptcies_NA  revol_util_NA  \\\n",
       "1359281                    False          False   \n",
       "807397                     False          False   \n",
       "127409                     False          False   \n",
       "\n",
       "         collections_12_mths_ex_med_NA  last_credit_pull_d_NA  tax_liens_NA  \\\n",
       "1359281                          False                  False         False   \n",
       "807397                           False                  False         False   \n",
       "127409                           False                  False         False   \n",
       "\n",
       "         dti_NA  inq_last_6mths_NA  \n",
       "1359281   False              False  \n",
       "807397    False              False  \n",
       "127409    False              False  "
      ]
     },
     "execution_count": 33,
     "metadata": {},
     "output_type": "execute_result"
    }
   ],
   "source": [
    "df.sample(3)"
   ]
  },
  {
   "cell_type": "markdown",
   "metadata": {
    "_cell_guid": "e3636ce7-ad85-4821-9fc3-af940e32ca1c",
    "_uuid": "25b3c22ae0b86eac2200f4125a9c45c044e94193"
   },
   "source": [
    "Which columns have text data?"
   ]
  },
  {
   "cell_type": "code",
   "execution_count": 34,
   "metadata": {
    "_cell_guid": "3868bffe-5a2a-41c8-8372-717982afe0d1",
    "_uuid": "7031a2b5f456d5824e6025f8ca1d3a1ad242adab"
   },
   "outputs": [
    {
     "data": {
      "text/plain": [
       "['term',\n",
       " 'grade',\n",
       " 'sub_grade',\n",
       " 'emp_length',\n",
       " 'home_ownership',\n",
       " 'verification_status',\n",
       " 'pymnt_plan',\n",
       " 'purpose',\n",
       " 'zip_code',\n",
       " 'addr_state',\n",
       " 'initial_list_status',\n",
       " 'application_type',\n",
       " 'hardship_flag',\n",
       " 'disbursement_method']"
      ]
     },
     "execution_count": 34,
     "metadata": {},
     "output_type": "execute_result"
    }
   ],
   "source": [
    "text_cols = []\n",
    "for col in df.columns:\n",
    "    if df[col].dtype == np.object:\n",
    "        text_cols.append(col)\n",
    "\n",
    "text_cols"
   ]
  },
  {
   "cell_type": "markdown",
   "metadata": {
    "_cell_guid": "8e98e8d9-9c8f-49b4-a123-4a11534454e3",
    "_uuid": "77ae6e4830589e4ee9dd0c815043300017c7fd75"
   },
   "source": [
    "### term"
   ]
  },
  {
   "cell_type": "code",
   "execution_count": 37,
   "metadata": {
    "_cell_guid": "e3559ee4-0c7c-4e29-9952-ef06f302937a",
    "_uuid": "b8fa81ef40fc0928639d94608d126039f73e3f3d"
   },
   "outputs": [
    {
     "data": {
      "text/plain": [
       " 36 months    618460\n",
       " 60 months    196526\n",
       "Name: term, dtype: int64"
      ]
     },
     "execution_count": 37,
     "metadata": {},
     "output_type": "execute_result"
    }
   ],
   "source": [
    "df['term'].value_counts(dropna=False)"
   ]
  },
  {
   "cell_type": "markdown",
   "metadata": {
    "_cell_guid": "a0a18d84-ed5f-4d4f-a377-c877a6d1be54",
    "_uuid": "7abe9deb95eb215cc2c8fa6425cc4d81bbf79bef"
   },
   "source": [
    "Convert `term` to integer values."
   ]
  },
  {
   "cell_type": "code",
   "execution_count": 38,
   "metadata": {
    "_cell_guid": "dd9462d5-673b-4dce-ae3b-61f427b1abcb",
    "_uuid": "09eed29a2d6f5e30beec07ae5d29088234c99b1c"
   },
   "outputs": [],
   "source": [
    "df['term'] = df['term'].apply(lambda s:np.int8(s[1:3])) # There's an extra space in the data for some reason"
   ]
  },
  {
   "cell_type": "code",
   "execution_count": 40,
   "metadata": {
    "_cell_guid": "dd9462d5-673b-4dce-ae3b-61f427b1abcb",
    "_uuid": "09eed29a2d6f5e30beec07ae5d29088234c99b1c"
   },
   "outputs": [
    {
     "data": {
      "text/plain": [
       "36    618460\n",
       "60    196526\n",
       "Name: term, dtype: int64"
      ]
     },
     "execution_count": 40,
     "metadata": {},
     "output_type": "execute_result"
    }
   ],
   "source": [
    "df['term'].value_counts()"
   ]
  },
  {
   "cell_type": "markdown",
   "metadata": {
    "_cell_guid": "1b745ce5-987f-45b9-8e3f-6d5f760e3a7c",
    "_uuid": "687c301f0bd5f40efdeca5307e9d0cb6a1fb6161"
   },
   "source": [
    "### grade, sub_grade"
   ]
  },
  {
   "cell_type": "code",
   "execution_count": 44,
   "metadata": {},
   "outputs": [
    {
     "data": {
      "text/plain": [
       "A    133475\n",
       "B    235225\n",
       "C    225917\n",
       "D    127665\n",
       "E     63559\n",
       "F     23112\n",
       "G      6033\n",
       "Name: grade, dtype: int64"
      ]
     },
     "execution_count": 44,
     "metadata": {},
     "output_type": "execute_result"
    }
   ],
   "source": [
    "df['grade'].value_counts().sort_index()"
   ]
  },
  {
   "cell_type": "markdown",
   "metadata": {
    "_cell_guid": "b1d34f86-4ffb-4024-ad0f-714bd5cb3f21",
    "_uuid": "efb24fbebc6a4b092a37b79e7fb6f29133d3315a"
   },
   "source": [
    "The grade is implied by the subgrade, so let's drop the grade column."
   ]
  },
  {
   "cell_type": "code",
   "execution_count": 45,
   "metadata": {
    "_cell_guid": "9c00600b-0a58-4648-9448-4e960b705eb6",
    "_uuid": "a46021ef96a484732a847ed2f3cece9d423f73ec"
   },
   "outputs": [],
   "source": [
    "df.drop(labels=['grade'], axis=1, inplace=True)"
   ]
  },
  {
   "cell_type": "markdown",
   "metadata": {
    "_cell_guid": "98efbb15-f5d7-42ef-992a-92bb0860a803",
    "_uuid": "e84911043e002622f7c181e2be71d09ac277dbc8"
   },
   "source": [
    "### emp_length"
   ]
  },
  {
   "cell_type": "code",
   "execution_count": 47,
   "metadata": {
    "_cell_guid": "a60d507b-dc0d-4e44-912e-0d214b1b85a9",
    "_uuid": "372fd175e1e4458f8a9bc860fd91798d696892be"
   },
   "outputs": [
    {
     "data": {
      "text/plain": [
       "1 year        53411\n",
       "10+ years    264873\n",
       "2 years       73493\n",
       "3 years       64999\n",
       "4 years       48752\n",
       "5 years       52149\n",
       "6 years       40290\n",
       "7 years       39407\n",
       "8 years       38887\n",
       "9 years       31900\n",
       "< 1 year      64572\n",
       "NaN           42253\n",
       "Name: emp_length, dtype: int64"
      ]
     },
     "execution_count": 47,
     "metadata": {},
     "output_type": "execute_result"
    }
   ],
   "source": [
    "df['emp_length'].value_counts(dropna=False).sort_index()"
   ]
  },
  {
   "cell_type": "markdown",
   "metadata": {
    "_cell_guid": "a0093edf-c48f-4680-8581-055c857e842f",
    "_uuid": "c05991844e80bb0af5fe0be54a01e3a822d8f2cb"
   },
   "source": [
    "Let's convert `emp_length` to floats:"
   ]
  },
  {
   "cell_type": "code",
   "execution_count": 48,
   "metadata": {
    "_cell_guid": "f5ce8306-8ca3-4a78-8332-7a12fd233f98",
    "_uuid": "fc61f2f288d38767f5fa1e3f7df5b58c7bc52a35"
   },
   "outputs": [],
   "source": [
    "def emp_conv(s):\n",
    "    try:\n",
    "        if pd.isnull(s):\n",
    "            return s\n",
    "        elif s[0] == '<':\n",
    "            return 0.0\n",
    "        elif s[:2] == '10':\n",
    "            return 10.0\n",
    "        else:\n",
    "            return np.float16(s[0])\n",
    "    except TypeError:\n",
    "        return np.float16(s)"
   ]
  },
  {
   "cell_type": "code",
   "execution_count": 49,
   "metadata": {
    "_cell_guid": "f5ce8306-8ca3-4a78-8332-7a12fd233f98",
    "_uuid": "fc61f2f288d38767f5fa1e3f7df5b58c7bc52a35"
   },
   "outputs": [],
   "source": [
    "df['emp_length'] = df['emp_length'].apply(lambda s: emp_conv(s))"
   ]
  },
  {
   "cell_type": "code",
   "execution_count": 51,
   "metadata": {
    "_cell_guid": "f5ce8306-8ca3-4a78-8332-7a12fd233f98",
    "_uuid": "fc61f2f288d38767f5fa1e3f7df5b58c7bc52a35"
   },
   "outputs": [
    {
     "data": {
      "text/plain": [
       " 0.0      64572\n",
       " 1.0      53411\n",
       " 2.0      73493\n",
       " 3.0      64999\n",
       " 4.0      48752\n",
       " 5.0      52149\n",
       " 6.0      40290\n",
       " 7.0      39407\n",
       " 8.0      38887\n",
       " 9.0      31900\n",
       " 10.0    264873\n",
       "NaN       42253\n",
       "Name: emp_length, dtype: int64"
      ]
     },
     "execution_count": 51,
     "metadata": {},
     "output_type": "execute_result"
    }
   ],
   "source": [
    "df['emp_length'].value_counts(dropna=False).sort_index()"
   ]
  },
  {
   "cell_type": "markdown",
   "metadata": {
    "_cell_guid": "e994c5db-880e-4ec0-8cbd-4aacad373993",
    "_uuid": "332158cff90d2e051f5a80bee5983019ada32a30"
   },
   "source": [
    "### home_ownership"
   ]
  },
  {
   "cell_type": "code",
   "execution_count": 52,
   "metadata": {
    "_cell_guid": "d574efb7-1a6b-4ec2-a446-827d75d0d9cf",
    "_uuid": "017c6be384f35a700cebfa761dbaee4ec6b73256"
   },
   "outputs": [
    {
     "data": {
      "text/plain": [
       "MORTGAGE    406866\n",
       "RENT        325071\n",
       "OWN          82765\n",
       "OTHER          144\n",
       "ANY             94\n",
       "NONE            46\n",
       "Name: home_ownership, dtype: int64"
      ]
     },
     "execution_count": 52,
     "metadata": {},
     "output_type": "execute_result"
    }
   ],
   "source": [
    "df['home_ownership'].value_counts()"
   ]
  },
  {
   "cell_type": "markdown",
   "metadata": {
    "_cell_guid": "119da036-552d-4a95-a61f-7fdd464bcf5b",
    "_uuid": "840799ab7f984830bf29f0b677f4f14b672d4253"
   },
   "source": [
    "### verification_status"
   ]
  },
  {
   "cell_type": "code",
   "execution_count": 53,
   "metadata": {
    "_cell_guid": "652e35e1-909f-4f32-94a2-836561bf4a02",
    "_uuid": "d1e800da00aea47ee7a5e2f876da9cbd66dc7947"
   },
   "outputs": [
    {
     "data": {
      "text/plain": [
       "Source Verified    293897\n",
       "Verified           269895\n",
       "Not Verified       251194\n",
       "Name: verification_status, dtype: int64"
      ]
     },
     "execution_count": 53,
     "metadata": {},
     "output_type": "execute_result"
    }
   ],
   "source": [
    "df['verification_status'].value_counts()"
   ]
  },
  {
   "cell_type": "markdown",
   "metadata": {},
   "source": [
    "### pymnt_plan"
   ]
  },
  {
   "cell_type": "code",
   "execution_count": 54,
   "metadata": {},
   "outputs": [
    {
     "data": {
      "text/plain": [
       "n    814986\n",
       "Name: pymnt_plan, dtype: int64"
      ]
     },
     "execution_count": 54,
     "metadata": {},
     "output_type": "execute_result"
    }
   ],
   "source": [
    "df['pymnt_plan'].value_counts(dropna=False)"
   ]
  },
  {
   "cell_type": "markdown",
   "metadata": {},
   "source": [
    "This feature will be removed automatically later."
   ]
  },
  {
   "cell_type": "markdown",
   "metadata": {
    "_cell_guid": "3a91aec4-9bc4-42d6-8c62-e3892a9a2754",
    "_uuid": "87124cd85754a1e6ef201217421ff2f50108cb2a"
   },
   "source": [
    "### purpose"
   ]
  },
  {
   "cell_type": "code",
   "execution_count": 55,
   "metadata": {
    "_cell_guid": "9de7d1b4-212b-4478-88a2-a3176a03e982",
    "_uuid": "5d4c3c93e59ee2cde87f4fc5487b43c555c33faf"
   },
   "outputs": [
    {
     "data": {
      "text/plain": [
       "debt_consolidation    481652\n",
       "credit_card           175123\n",
       "home_improvement       50793\n",
       "other                  43900\n",
       "major_purchase         17463\n",
       "small_business         10214\n",
       "car                     8936\n",
       "medical                 8772\n",
       "moving                  5725\n",
       "vacation                5116\n",
       "house                   4095\n",
       "wedding                 2272\n",
       "renewable_energy         599\n",
       "educational              326\n",
       "Name: purpose, dtype: int64"
      ]
     },
     "execution_count": 55,
     "metadata": {},
     "output_type": "execute_result"
    }
   ],
   "source": [
    "df['purpose'].value_counts()"
   ]
  },
  {
   "cell_type": "markdown",
   "metadata": {
    "_cell_guid": "b6908ad9-66be-4a38-8e45-bacde206e987",
    "_uuid": "f68d4795cca9861dd340a2c155c0b956ae9f53fa"
   },
   "source": [
    "### zip_code, addr_state"
   ]
  },
  {
   "cell_type": "code",
   "execution_count": 56,
   "metadata": {},
   "outputs": [
    {
     "data": {
      "text/plain": [
       "925"
      ]
     },
     "execution_count": 56,
     "metadata": {},
     "output_type": "execute_result"
    }
   ],
   "source": [
    "df['zip_code'].nunique()"
   ]
  },
  {
   "cell_type": "code",
   "execution_count": 57,
   "metadata": {},
   "outputs": [
    {
     "data": {
      "text/plain": [
       "51"
      ]
     },
     "execution_count": 57,
     "metadata": {},
     "output_type": "execute_result"
    }
   ],
   "source": [
    "df['addr_state'].nunique()"
   ]
  },
  {
   "cell_type": "markdown",
   "metadata": {
    "_cell_guid": "a2485d09-8385-427d-9bcb-7c47b8034e53",
    "_uuid": "69aa28976c0826de8e461d39c5e3b5bfdf49e61c"
   },
   "source": [
    "There are a lot of zip codes, so let's just retain the state column."
   ]
  },
  {
   "cell_type": "code",
   "execution_count": 59,
   "metadata": {
    "_cell_guid": "aef7a94f-613c-4137-86f2-d0591ea3a4bc",
    "_uuid": "d6d4c635eb86b895acda91d0cc1fa38327a96e7d"
   },
   "outputs": [],
   "source": [
    "df.drop(labels=['zip_code'], axis=1, inplace=True)"
   ]
  },
  {
   "cell_type": "markdown",
   "metadata": {
    "_cell_guid": "57408b52-70fd-4a45-b5bb-12f0c2612190",
    "_uuid": "2a671f42515e7c4727430a48e6163c6f77801275"
   },
   "source": [
    "### initial_list_status"
   ]
  },
  {
   "cell_type": "code",
   "execution_count": 60,
   "metadata": {
    "_cell_guid": "4d334d9a-9b65-4310-8dad-0f51e25ed987",
    "_uuid": "003a7ac0ee85585ac40fb46ad7e5907352c0a3b0"
   },
   "outputs": [
    {
     "data": {
      "text/plain": [
       "f    413678\n",
       "w    401308\n",
       "Name: initial_list_status, dtype: int64"
      ]
     },
     "execution_count": 60,
     "metadata": {},
     "output_type": "execute_result"
    }
   ],
   "source": [
    "df['initial_list_status'].value_counts()"
   ]
  },
  {
   "cell_type": "markdown",
   "metadata": {
    "_cell_guid": "1284f252-1980-4113-a5d3-6f422c11dab6",
    "_uuid": "c7f2a45467caca0cd7be06c244f93d66eeb82243"
   },
   "source": [
    "I wasn't able to determine what the initial list status means."
   ]
  },
  {
   "cell_type": "markdown",
   "metadata": {
    "_cell_guid": "b34ab6cc-0a3f-4780-a234-743b9d406dca",
    "_uuid": "77b5eba4a13bd157c68f522ab8002094bb8b456d"
   },
   "source": [
    "### application_type"
   ]
  },
  {
   "cell_type": "code",
   "execution_count": 61,
   "metadata": {
    "_cell_guid": "0fc4f079-695a-49e9-abac-05bf841bd9e5",
    "_uuid": "afc3918d6aa0db8f5ddeab49d17359155db1376d"
   },
   "outputs": [
    {
     "data": {
      "text/plain": [
       "Individual    811207\n",
       "Joint App       3779\n",
       "Name: application_type, dtype: int64"
      ]
     },
     "execution_count": 61,
     "metadata": {},
     "output_type": "execute_result"
    }
   ],
   "source": [
    "df['application_type'].value_counts()"
   ]
  },
  {
   "cell_type": "markdown",
   "metadata": {},
   "source": [
    "### hardship_flag"
   ]
  },
  {
   "cell_type": "code",
   "execution_count": 62,
   "metadata": {},
   "outputs": [
    {
     "data": {
      "text/plain": [
       "N    814986\n",
       "Name: hardship_flag, dtype: int64"
      ]
     },
     "execution_count": 62,
     "metadata": {},
     "output_type": "execute_result"
    }
   ],
   "source": [
    "df['hardship_flag'].value_counts()"
   ]
  },
  {
   "cell_type": "markdown",
   "metadata": {},
   "source": [
    "This feature will be removed automatically later."
   ]
  },
  {
   "cell_type": "markdown",
   "metadata": {
    "_cell_guid": "3ada3298-69e6-4477-8c89-d4644355d5e8",
    "_uuid": "ac65e5c874b3ec32ad14884e15274dd64c1869d3"
   },
   "source": [
    "### disbursement_method"
   ]
  },
  {
   "cell_type": "code",
   "execution_count": 63,
   "metadata": {
    "_cell_guid": "a0796820-ed1a-45d4-bbad-a0cd24b4b31e",
    "_uuid": "d612144ad296b2c463df392d29bcdf928718ec39"
   },
   "outputs": [
    {
     "data": {
      "text/plain": [
       "Cash         813877\n",
       "DirectPay      1109\n",
       "Name: disbursement_method, dtype: int64"
      ]
     },
     "execution_count": 63,
     "metadata": {},
     "output_type": "execute_result"
    }
   ],
   "source": [
    "df['disbursement_method'].value_counts()"
   ]
  },
  {
   "cell_type": "markdown",
   "metadata": {
    "_cell_guid": "03fcf116-3d14-4038-934b-cc6265fc6181",
    "_uuid": "50e63d0280f0f3ed0ed09812d73a867261fe0433"
   },
   "source": [
    "# Exploratory Data Analysis\n",
    "<a id=\"5\"></a>"
   ]
  },
  {
   "cell_type": "markdown",
   "metadata": {
    "_cell_guid": "1052b34a-487d-4aab-a87f-eae50a0b4224",
    "_uuid": "797b3da0449b25d2e87edde21b84d0cf209752ef"
   },
   "source": [
    "View some random rows:"
   ]
  },
  {
   "cell_type": "code",
   "execution_count": null,
   "metadata": {
    "_cell_guid": "9014b3c0-1a6a-4c26-8c66-0866c31941eb",
    "_uuid": "6fbd34cbcaf678395ba0a5a066a9abf960abe17f"
   },
   "outputs": [],
   "source": [
    "df.sample(3)"
   ]
  },
  {
   "cell_type": "markdown",
   "metadata": {
    "_cell_guid": "5a0b1c7c-2fe5-4005-9def-08afd7518a4c",
    "_uuid": "d5c69892f2d0ab0999b26d3c3370dc6055a5e009"
   },
   "source": [
    "Let's make a count plot of the loan purpose, separated by the `charged_off` value."
   ]
  },
  {
   "cell_type": "code",
   "execution_count": null,
   "metadata": {
    "_cell_guid": "02f5b08a-faa7-4471-a2af-ceca3e5d3b67",
    "_uuid": "d7426bf0ba72d49c0dcf5aeaef19980413ccb6bb",
    "scrolled": true
   },
   "outputs": [],
   "source": [
    "plt.figure(figsize=(12,6), dpi=100)\n",
    "sns.countplot(y='purpose', hue='charged_off', data=df, orient='h')"
   ]
  },
  {
   "cell_type": "markdown",
   "metadata": {
    "_cell_guid": "240c20e9-6336-47c6-9d92-69cc73433966",
    "_uuid": "fab8e8d284e011c9da9fedfa1a586a409f77ea0b"
   },
   "source": [
    "It appears that most of the charge-offs come from loans for debt consolidation or to pay off credit cards."
   ]
  },
  {
   "cell_type": "markdown",
   "metadata": {
    "_cell_guid": "4b958608-1759-47e5-841f-6605dc5ed233",
    "_uuid": "4ed5e8ea7bbffd7938cc119fbde663480d763d0e"
   },
   "source": [
    "Let's make a similar plot, but with `sub_grade` instead of `purpose`."
   ]
  },
  {
   "cell_type": "code",
   "execution_count": null,
   "metadata": {
    "_cell_guid": "d8c01435-3bff-405f-85c0-65c929912e48",
    "_uuid": "cb0938b6fb0578166eef9ecc15c05cd10130bfd5"
   },
   "outputs": [],
   "source": [
    "plt.figure(figsize=(16,6), dpi=120)\n",
    "sns.countplot(x='sub_grade', hue='charged_off', data=df, order=sorted(df['sub_grade'].value_counts().index))"
   ]
  },
  {
   "cell_type": "markdown",
   "metadata": {
    "_cell_guid": "e53dbddd-aff4-4d44-bc8e-a7637e953ab0",
    "_uuid": "cf7685607c32b9857f4fc0cce38c6feea215e2fe"
   },
   "source": [
    "There's a clear trend of higher probability of charge-off as the subgrade worsens."
   ]
  },
  {
   "cell_type": "markdown",
   "metadata": {
    "_cell_guid": "89996216-39b5-42b6-aaf6-af717843f0dc",
    "_uuid": "0e513faba220e8b66e1a4468c61f99f2e362e2c2"
   },
   "source": [
    "Let's make a similar plot, but with `term` instead of `sub_grade`."
   ]
  },
  {
   "cell_type": "code",
   "execution_count": null,
   "metadata": {
    "_cell_guid": "23d47bc0-8d57-4ade-a2c2-5d1a1cb3a538",
    "_uuid": "d524414c2b2c783a9b23e3b7147a3d925ef3b425"
   },
   "outputs": [],
   "source": [
    "plt.figure(figsize=(4,4), dpi=90)\n",
    "sns.countplot(x='term', hue='charged_off', data=df)"
   ]
  },
  {
   "cell_type": "markdown",
   "metadata": {
    "_cell_guid": "037ad31c-74b8-42fa-baf2-bf3dd5c2f955",
    "_uuid": "3a5a08102e6710ed10a910c66e10bc5df4bc5dba"
   },
   "source": [
    "Loans with a term of 60 months are much more likely to be charged off."
   ]
  },
  {
   "cell_type": "markdown",
   "metadata": {
    "_cell_guid": "60f3bbe0-518a-4d5d-a0d6-50355d9c2ba8",
    "_uuid": "bf557e627d93a47d9e69e2157571de6915392917"
   },
   "source": [
    "Now let's compare the interest rate to the loan status using a kdeplot, which approximates the probability distribution of the data."
   ]
  },
  {
   "cell_type": "code",
   "execution_count": null,
   "metadata": {
    "_cell_guid": "42a7fe60-efa9-4a09-8ccf-3c86fda017b0",
    "_uuid": "6672c522ccd0eac962d0045087f41e4c7284b454"
   },
   "outputs": [],
   "source": [
    "plt.figure(figsize=(10,4), dpi=90)\n",
    "sns.distplot(df['int_rate'].loc[df['charged_off']==0], kde=True, label='charged_off = 0')\n",
    "sns.distplot(df['int_rate'].loc[df['charged_off']==1], kde=True, label='charged_off = 1')\n",
    "plt.xlabel('int_rate')\n",
    "plt.ylabel('density')\n",
    "plt.legend()"
   ]
  },
  {
   "cell_type": "markdown",
   "metadata": {
    "_cell_guid": "1fd2a00f-0f95-481c-b9ff-d26526eb5f04",
    "_uuid": "321c4fb18ebd1bcf6689d7a5d3f23f80752bcfb3"
   },
   "source": [
    "Charged-off loans tend to have higher interest rates."
   ]
  },
  {
   "cell_type": "markdown",
   "metadata": {
    "_cell_guid": "0708298c-18c9-4579-9f17-a21e2b76db4f",
    "_uuid": "50b61c252325f6170b4dd3eef39a973a05ea1577"
   },
   "source": [
    "Now let's compare the borrower's most recent FICO score (a credit score) to the loan status."
   ]
  },
  {
   "cell_type": "code",
   "execution_count": null,
   "metadata": {
    "_cell_guid": "7b5e856b-0487-4b7a-8cd5-762ef95aed89",
    "_uuid": "8b38ce7a4cf7015752c9eb1bcfadd2d535ae0fda"
   },
   "outputs": [],
   "source": [
    "plt.figure(figsize=(10,4), dpi=90)\n",
    "sns.distplot(df['last_fico_range_high'].loc[df['charged_off']==0], label='charged_off = 0')\n",
    "sns.distplot(df['last_fico_range_high'].loc[df['charged_off']==1], label='charged_off = 1')\n",
    "plt.xlabel('last_fico_range_high')\n",
    "plt.ylabel('density')\n",
    "plt.legend()"
   ]
  },
  {
   "cell_type": "markdown",
   "metadata": {
    "_cell_guid": "c14e89b8-15e6-47f6-ab7a-b65a65331d0a",
    "_uuid": "1e1a8edad690d093dbc1a41d876aeb656f39ca90"
   },
   "source": [
    "There's a strong association here: charged-off loans tend to have much lower FICO scores."
   ]
  },
  {
   "cell_type": "markdown",
   "metadata": {
    "_cell_guid": "cf5fdca3-0028-43f7-894f-76bfc1e33a4a",
    "_uuid": "99854ef8dc13dfcb3a60c83c71bef79cfafe765b"
   },
   "source": [
    "# More Pre-processing\n",
    "<a id=\"7\"></a>"
   ]
  },
  {
   "cell_type": "markdown",
   "metadata": {
    "_cell_guid": "1346206c-dd33-4da3-be18-8b0af193d776",
    "_uuid": "cd60bea970881e3d32c9e11e1008814ec880b57c"
   },
   "source": [
    "## Create dummy variables\n",
    "<a id=\"6.1\"></a>"
   ]
  },
  {
   "cell_type": "code",
   "execution_count": 64,
   "metadata": {
    "_cell_guid": "787e1bc7-accd-4b1a-9f57-6e23c517399b",
    "_uuid": "950a720893228a27b639dd8dacac4e9561f0daa7"
   },
   "outputs": [
    {
     "data": {
      "text/plain": [
       "(814986, 118)"
      ]
     },
     "execution_count": 64,
     "metadata": {},
     "output_type": "execute_result"
    }
   ],
   "source": [
    "df.shape"
   ]
  },
  {
   "cell_type": "code",
   "execution_count": 65,
   "metadata": {
    "_cell_guid": "52024d7a-f856-4b8b-ba68-0b0e4ca7f07c",
    "_uuid": "3bbb478c41375661a0c52899dc222bc9fe1c7023"
   },
   "outputs": [],
   "source": [
    "df = pd.get_dummies(df, drop_first=True)"
   ]
  },
  {
   "cell_type": "code",
   "execution_count": 66,
   "metadata": {
    "_cell_guid": "22cf7871-1850-4c2e-9786-9ebf1fad18ee",
    "_uuid": "9241e4b9c74cfadeb4c660da1aa68a073955ffbb"
   },
   "outputs": [
    {
     "data": {
      "text/plain": [
       "(814986, 225)"
      ]
     },
     "execution_count": 66,
     "metadata": {},
     "output_type": "execute_result"
    }
   ],
   "source": [
    "df.shape"
   ]
  },
  {
   "cell_type": "markdown",
   "metadata": {
    "_cell_guid": "7ea13fa1-7c75-484f-86d3-3268a72f43ea",
    "_uuid": "12769431bbc57650cd3babc647b185fce8c140fd"
   },
   "source": [
    "Now all the features are numerical. What does the data look like after converting categorical features to dummy variables?"
   ]
  },
  {
   "cell_type": "code",
   "execution_count": null,
   "metadata": {
    "_cell_guid": "1d88c5c8-8a56-4e7c-969e-61785d68d650",
    "_uuid": "dc6af80d337ca418f1b32f76e387b43eeef23997"
   },
   "outputs": [],
   "source": [
    "df.sample(3)"
   ]
  },
  {
   "cell_type": "markdown",
   "metadata": {},
   "source": [
    "## Automatic feature selection"
   ]
  },
  {
   "cell_type": "markdown",
   "metadata": {},
   "source": [
    "Remove features that have no variance."
   ]
  },
  {
   "cell_type": "code",
   "execution_count": 83,
   "metadata": {},
   "outputs": [],
   "source": [
    "from sklearn.feature_selection import VarianceThreshold"
   ]
  },
  {
   "cell_type": "markdown",
   "metadata": {
    "_cell_guid": "35ee020b-95d2-4cb3-9ade-a7cf08e9ace8",
    "_uuid": "266c4c677d0737fa3e28dbe271e8223467967ae0"
   },
   "source": [
    "## Train/test split\n",
    "<a id=\"7.1\"></a>"
   ]
  },
  {
   "cell_type": "code",
   "execution_count": 67,
   "metadata": {
    "_cell_guid": "73b60707-f995-4487-a799-7e7d2a6e5b5f",
    "_uuid": "4b81987b3bf09fa83c79e47d04aa1192ffea61a5"
   },
   "outputs": [],
   "source": [
    "X = df.drop(labels=['charged_off'], axis=1) # Features\n",
    "y = df.loc[:,'charged_off'] # Response variable\n",
    "df = None"
   ]
  },
  {
   "cell_type": "code",
   "execution_count": 68,
   "metadata": {
    "_cell_guid": "367d4fe7-e305-478c-b10a-b3279f9b58e9",
    "_uuid": "456be27a6cbb840501ba58bccacd8150c9c7bbd1"
   },
   "outputs": [],
   "source": [
    "from sklearn.model_selection import train_test_split"
   ]
  },
  {
   "cell_type": "markdown",
   "metadata": {
    "_cell_guid": "0616d433-213b-4a81-bfb2-e65d6ba5fb79",
    "_uuid": "6c8d9bd7443c621e8707f3d4b8fdeee75a503167"
   },
   "source": [
    "Let's do a 90/10 train/test split."
   ]
  },
  {
   "cell_type": "code",
   "execution_count": 69,
   "metadata": {
    "_cell_guid": "6b64a2bd-0785-404d-8e75-b82712f8ab6a",
    "_uuid": "c385aaf98736317f4d2971fba7170aab75a3ce9d"
   },
   "outputs": [],
   "source": [
    "random_state = 1 # Just to make the results fixed\n",
    "X_train, X_test, y_train, y_test = train_test_split(X, y, test_size=0.1, random_state=random_state, stratify=y)\n",
    "X = None\n",
    "y = None"
   ]
  },
  {
   "cell_type": "markdown",
   "metadata": {
    "_cell_guid": "4d75c70c-4f7d-4c84-abab-cc22fe78ca04",
    "_uuid": "3eb671b052048ab6e3a161b773160151440bc077"
   },
   "source": [
    "## Imputation with mean substitution\n",
    "<a id=\"7.2\"></a>"
   ]
  },
  {
   "cell_type": "markdown",
   "metadata": {
    "_cell_guid": "ef289f73-fa8e-43ff-a739-52b39221be56",
    "_uuid": "11c157b0eb3cee2bd0dcd8d6ee72d99c757336b3"
   },
   "source": [
    "How complete is our training data?"
   ]
  },
  {
   "cell_type": "code",
   "execution_count": 70,
   "metadata": {
    "_cell_guid": "e2c1de55-63f7-4a88-a2d3-532fac855d39",
    "_uuid": "ef20d8e989c4cab1498c9eca8e26993d1002c808",
    "scrolled": true
   },
   "outputs": [
    {
     "data": {
      "text/plain": [
       "mths_since_recent_inq         0.855860\n",
       "num_tl_120dpd_2m              0.885714\n",
       "mo_sin_old_il_acct            0.890249\n",
       "pct_tl_nvr_dlq                0.917091\n",
       "avg_cur_bal                   0.917242\n",
       "mo_sin_old_rev_tl_op          0.917257\n",
       "mo_sin_rcnt_rev_tl_op         0.917257\n",
       "num_rev_accts                 0.917257\n",
       "num_actv_bc_tl                0.917258\n",
       "total_rev_hi_lim              0.917258\n",
       "mo_sin_rcnt_tl                0.917258\n",
       "num_accts_ever_120_pd         0.917258\n",
       "num_bc_tl                     0.917258\n",
       "tot_cur_bal                   0.917258\n",
       "num_il_tl                     0.917258\n",
       "num_op_rev_tl                 0.917258\n",
       "num_rev_tl_bal_gt_0           0.917258\n",
       "num_tl_30dpd                  0.917258\n",
       "num_tl_90g_dpd_24m            0.917258\n",
       "num_tl_op_past_12m            0.917258\n",
       "tot_hi_cred_lim               0.917258\n",
       "num_actv_rev_tl               0.917258\n",
       "tot_coll_amt                  0.917258\n",
       "total_il_high_credit_limit    0.917258\n",
       "num_bc_sats                   0.931642\n",
       "num_sats                      0.931642\n",
       "bc_util                       0.931845\n",
       "percent_bc_gt_75              0.932101\n",
       "bc_open_to_buy                0.932441\n",
       "mths_since_recent_bc          0.933169\n",
       "acc_open_past_24mths          0.942105\n",
       "total_bc_limit                0.942105\n",
       "mort_acc                      0.942105\n",
       "total_bal_ex_mort             0.942105\n",
       "emp_length                    0.948144\n",
       "pub_rec_bankruptcies          0.999149\n",
       "revol_util                    0.999396\n",
       "collections_12_mths_ex_med    0.999930\n",
       "chargeoff_within_12_mths      0.999930\n",
       "tax_liens                     0.999954\n",
       "dti                           0.999955\n",
       "inq_last_6mths                0.999999\n",
       "dtype: float64"
      ]
     },
     "execution_count": 70,
     "metadata": {},
     "output_type": "execute_result"
    }
   ],
   "source": [
    "incomplete_cols(X_train)"
   ]
  },
  {
   "cell_type": "markdown",
   "metadata": {
    "_cell_guid": "cc46fb54-6537-4dfd-8b25-26dc029cd921",
    "_uuid": "b03a222b3626e441ef356cc5e0f0b9cb25eb0e0b"
   },
   "source": [
    "The learning algorithms cannot have missing data. Perform mean substitution, using only the means of the training set to prevent test set leakage."
   ]
  },
  {
   "cell_type": "code",
   "execution_count": 71,
   "metadata": {
    "_cell_guid": "6566134d-7bf8-4b74-9fa7-ffc66470f7c3",
    "_uuid": "851d2e8508f723a605e442ed71a5aa64bd62588c"
   },
   "outputs": [],
   "source": [
    "from sklearn.preprocessing import Imputer"
   ]
  },
  {
   "cell_type": "code",
   "execution_count": 72,
   "metadata": {
    "_cell_guid": "118c6cb2-ffa7-4505-838f-475ff61f0fb9",
    "_uuid": "de03f263248639ac3f90c3721b82a29cae54431b"
   },
   "outputs": [],
   "source": [
    "imputer = Imputer().fit(X_train)"
   ]
  },
  {
   "cell_type": "code",
   "execution_count": 73,
   "metadata": {
    "_cell_guid": "e4c2e660-e592-4871-b7b0-cae08e0e40af",
    "_uuid": "db1b87cad194575b09a6ef7c8474736ef4250554"
   },
   "outputs": [],
   "source": [
    "X_train = pd.DataFrame(imputer.transform(X_train), columns=X_train.columns)\n",
    "X_test  = pd.DataFrame(imputer.transform(X_test),  columns=X_test.columns)"
   ]
  },
  {
   "cell_type": "markdown",
   "metadata": {
    "_cell_guid": "d241b358-7f0b-44d3-86cd-d2d98d5dbf9e",
    "_uuid": "e91e0c1eb2783fa8701c4c1e45b01743c6d5f934"
   },
   "source": [
    "## Standardize the data\n",
    "<a id=\"7.3\"></a>"
   ]
  },
  {
   "cell_type": "markdown",
   "metadata": {
    "_cell_guid": "55f362d4-9e8a-43c7-a17d-48908fb1c66b",
    "_uuid": "a23991734ea1e185d9dab2f67f5098c9c515e93a"
   },
   "source": [
    "Shift and scale each column individually so that it has zero mean and unit variance. This will help the learning algorithms.\n",
    "\n",
    "Train the scaler using only the training data to prevent test set leakage."
   ]
  },
  {
   "cell_type": "code",
   "execution_count": 74,
   "metadata": {
    "_cell_guid": "e3811aa0-2b4e-4c07-8e81-f7e3a4b78162",
    "_uuid": "595deb455cbc792529daf83a78a70b9793dfd411"
   },
   "outputs": [],
   "source": [
    "from sklearn.preprocessing import StandardScaler"
   ]
  },
  {
   "cell_type": "code",
   "execution_count": 75,
   "metadata": {
    "_cell_guid": "543d7769-a4fb-4fdd-9be3-648c12d4977a",
    "_uuid": "2fbc17402c0a863c1058859be0560b52b327bdc9"
   },
   "outputs": [],
   "source": [
    "scaler = StandardScaler().fit(X_train)"
   ]
  },
  {
   "cell_type": "code",
   "execution_count": 76,
   "metadata": {
    "_cell_guid": "5f86cfff-0b10-4ff4-b136-0fb51edf50af",
    "_uuid": "f73bd45195b53ff5edec0b13bf9db8b133431ac1"
   },
   "outputs": [],
   "source": [
    "X_train = pd.DataFrame(scaler.transform(X_train), columns=X_train.columns)\n",
    "X_test  = pd.DataFrame(scaler.transform(X_test),  columns=X_test.columns)"
   ]
  },
  {
   "cell_type": "markdown",
   "metadata": {
    "_cell_guid": "52309b77-d97d-412a-b20f-da81f44a486f",
    "_uuid": "bbabe5a3810756b27f10e862f3d7ea34a21a20f8"
   },
   "source": [
    "# Predictive Modeling: SGDClassifier\n",
    "<a id=\"8\"></a>"
   ]
  },
  {
   "cell_type": "markdown",
   "metadata": {
    "_cell_guid": "fc774c42-47e6-427a-ac9c-a4bdbf7b5837",
    "_uuid": "39ac0b9f118cbb5b11d6749f2ec3f8aa3f97ac6d"
   },
   "source": [
    "I decided to use a SGD Classifier by looking at the machine learning flowchart here: http://scikit-learn.org/stable/tutorial/machine_learning_map/index.html.\n",
    "\n",
    "The SGDClassifier estimator implements linear classifiers (SVM, logistic regression, a.o.) with SGD training. The linear classifier is chosen by the 'loss' hyperparameter."
   ]
  },
  {
   "cell_type": "code",
   "execution_count": 80,
   "metadata": {
    "_cell_guid": "81e2ef8e-37af-44e5-a802-8ea4b028c5f8",
    "_uuid": "1799e7f0f05fed4064007a5cec36869eb3a43ba9"
   },
   "outputs": [],
   "source": [
    "from sklearn.linear_model import SGDClassifier\n",
    "from sklearn.model_selection import GridSearchCV\n",
    "from sklearn.metrics import matthews_corrcoef, make_scorer"
   ]
  },
  {
   "cell_type": "markdown",
   "metadata": {
    "_cell_guid": "04560103-0efe-4ace-831b-be73ece4fe7b",
    "_uuid": "4476709021bd10a8e39d8f7e99e8fdf4adcb6970"
   },
   "source": [
    "## Train with grid search\n",
    "<a id=\"8.1\"></a>"
   ]
  },
  {
   "cell_type": "markdown",
   "metadata": {
    "_cell_guid": "b7460548-ee72-4f66-b921-2ea68bd5db24",
    "_uuid": "edd6b1de60cf7b9da054d0259ea83e8b4e4e8719"
   },
   "source": [
    "We're going to search through many hyperparameters of SGDClassifier using an exhaustive grid search with 3-fold cross-validation, implemented in GridSearchCV.\n",
    "\n",
    "Here are the hyperparameters that we'll try:"
   ]
  },
  {
   "cell_type": "code",
   "execution_count": 85,
   "metadata": {
    "_cell_guid": "7de32018-fcad-45b2-b770-3c29b075d3d5",
    "_uuid": "1508be5b632d730bcd308afd299aa7e4d03906b2"
   },
   "outputs": [],
   "source": [
    "param_grid = [{'loss': ['hinge'],\n",
    "               'alpha': [10.0**k for k in range(1,2)],\n",
    "               'class_weight': [None, 'balanced']},\n",
    "              {'loss': ['log'],\n",
    "               'alpha': [10.0**k for k in range(1,2)],\n",
    "               'penalty': ['l2', 'l1']}]"
   ]
  },
  {
   "cell_type": "markdown",
   "metadata": {
    "_cell_guid": "9fb73eb0-d7cc-4335-bdd0-e4297f358732",
    "_uuid": "2de3c9d4458c1e18531be4b3271ce83895bb9ad2"
   },
   "source": [
    "Instantiate the grid estimator. We'll use the Matthews correlation coefficient as our scoring metric."
   ]
  },
  {
   "cell_type": "code",
   "execution_count": 86,
   "metadata": {
    "_cell_guid": "c016e122-86dd-4c96-88c2-a901fe48cf70",
    "_uuid": "8144ec0a936a93a1fbf5e2dd00cd0082dbc40782"
   },
   "outputs": [],
   "source": [
    "grid = GridSearchCV(estimator=SGDClassifier(max_iter=1000, tol=1e-3, random_state=random_state, warm_start=True), param_grid=param_grid, scoring=make_scorer(matthews_corrcoef), n_jobs=4, pre_dispatch=8, verbose=1)"
   ]
  },
  {
   "cell_type": "markdown",
   "metadata": {
    "_cell_guid": "a486c903-f33c-41a2-89bc-ad1b0d3e1fb3",
    "_uuid": "536169e18eb2d6428b9abb8029705e6fd54c8390"
   },
   "source": [
    "Run the grid search (this could take some time)."
   ]
  },
  {
   "cell_type": "code",
   "execution_count": 87,
   "metadata": {
    "_cell_guid": "b907b40c-402d-4d4a-a919-e4b63e0a832d",
    "_uuid": "76e6c2e828e670a1494d4d4fbec01f232f067512"
   },
   "outputs": [
    {
     "name": "stdout",
     "output_type": "stream",
     "text": [
      "Fitting 3 folds for each of 4 candidates, totalling 12 fits\n"
     ]
    },
    {
     "name": "stderr",
     "output_type": "stream",
     "text": [
      "[Parallel(n_jobs=4)]: Done  12 out of  12 | elapsed:  2.5min finished\n"
     ]
    },
    {
     "data": {
      "text/plain": [
       "GridSearchCV(cv=None, error_score='raise',\n",
       "       estimator=SGDClassifier(alpha=0.0001, average=False, class_weight=None, epsilon=0.1,\n",
       "       eta0=0.0, fit_intercept=True, l1_ratio=0.15,\n",
       "       learning_rate='optimal', loss='hinge', max_iter=1000, n_iter=None,\n",
       "       n_jobs=1, penalty='l2', power_t=0.5, random_state=1, shuffle=True,\n",
       "       tol=0.001, verbose=0, warm_start=True),\n",
       "       fit_params=None, iid=True, n_jobs=4,\n",
       "       param_grid=[{'loss': ['hinge'], 'alpha': [10.0], 'class_weight': [None, 'balanced']}, {'loss': ['log'], 'alpha': [10.0], 'penalty': ['l2', 'l1']}],\n",
       "       pre_dispatch=8, refit=True, return_train_score='warn',\n",
       "       scoring=make_scorer(matthews_corrcoef), verbose=1)"
      ]
     },
     "execution_count": 87,
     "metadata": {},
     "output_type": "execute_result"
    }
   ],
   "source": [
    "grid.fit(X_train, y_train)"
   ]
  },
  {
   "cell_type": "markdown",
   "metadata": {
    "_cell_guid": "67901f97-33dc-4ff0-8968-127eda9da452",
    "_uuid": "a6829cf727f13a804180637da8cfc8477754b8c6"
   },
   "source": [
    "Hyperparameters that gave the best results on the hold out data:"
   ]
  },
  {
   "cell_type": "code",
   "execution_count": 88,
   "metadata": {
    "_cell_guid": "14983fb4-d45a-431d-9c03-20d737862cc7",
    "_uuid": "fffc4de31000514e733ccd7c8f0aac9306226644"
   },
   "outputs": [
    {
     "data": {
      "text/plain": [
       "{'alpha': 10.0, 'class_weight': 'balanced', 'loss': 'hinge'}"
      ]
     },
     "execution_count": 88,
     "metadata": {},
     "output_type": "execute_result"
    }
   ],
   "source": [
    "grid.best_params_"
   ]
  },
  {
   "cell_type": "markdown",
   "metadata": {},
   "source": [
    "Mean cross-validated MCC score of the best estimator:"
   ]
  },
  {
   "cell_type": "code",
   "execution_count": 89,
   "metadata": {},
   "outputs": [
    {
     "data": {
      "text/plain": [
       "0.35834719351907157"
      ]
     },
     "execution_count": 89,
     "metadata": {},
     "output_type": "execute_result"
    }
   ],
   "source": [
    "grid.best_score_"
   ]
  },
  {
   "cell_type": "markdown",
   "metadata": {},
   "source": [
    "Weights assigned to the features by the best estimator:"
   ]
  },
  {
   "cell_type": "code",
   "execution_count": 90,
   "metadata": {},
   "outputs": [
    {
     "data": {
      "text/plain": [
       "Text(0.5,0,'classifier weight')"
      ]
     },
     "execution_count": 90,
     "metadata": {},
     "output_type": "execute_result"
    },
    {
     "data": {
      "image/png": "[encoded data removed]",
      "text/plain": [
       "<matplotlib.figure.Figure at 0x1ea8b213048>"
      ]
     },
     "metadata": {},
     "output_type": "display_data"
    }
   ],
   "source": [
    "plt.figure(figsize=(8,36), dpi=90)\n",
    "sns.barplot(y=X_train.columns, x=grid.best_estimator_.coef_[0,:], orient='h')\n",
    "plt.title(\"Classifier Weights\")\n",
    "plt.xlabel(\"classifier weight\")"
   ]
  },
  {
   "cell_type": "markdown",
   "metadata": {
    "_cell_guid": "61ffd538-9579-4638-8156-bcb3f29b39ab",
    "_uuid": "f3b87036a9ae078b8a9cc36ce5b47f734059358c"
   },
   "source": [
    "## Test set evaluation\n",
    "<a id=\"8.2\"></a>"
   ]
  },
  {
   "cell_type": "code",
   "execution_count": 91,
   "metadata": {},
   "outputs": [],
   "source": [
    "from sklearn.metrics import confusion_matrix, classification_report, matthews_corrcoef, cohen_kappa_score, accuracy_score, average_precision_score, roc_auc_score"
   ]
  },
  {
   "cell_type": "code",
   "execution_count": 92,
   "metadata": {},
   "outputs": [],
   "source": [
    "def classification_eval(estimator, X_test, y_test):\n",
    "    \"\"\"\n",
    "    Print several metrics of classification performance of an estimator, given features X_test and labels y_test.\n",
    "    \n",
    "    Input: estimator or GridSearchCV instance, X_test, y_test\n",
    "    Returns: text printout of metrics\n",
    "    \"\"\"\n",
    "    y_pred = estimator.predict(X_test)\n",
    "    \n",
    "    # Number of decimal places based on number of samples\n",
    "    dec = np.int64(np.ceil(np.log10(len(y_test))))\n",
    "    \n",
    "    print('Confusion matrix -----------------------'+3*(dec-1)*'-')\n",
    "    print(confusion_matrix(y_test, y_pred), '\\n')\n",
    "    \n",
    "    print('Classification report ------------------'+3*(dec-1)*'-')\n",
    "    print(classification_report(y_test, y_pred, digits=dec))\n",
    "    \n",
    "    print('Scalar metrics -------------------------'+3*(dec-1)*'-')\n",
    "    format_str = '%%13s = %%.%if' % dec\n",
    "    print(format_str % ('MCC', matthews_corrcoef(y_test, y_pred)))\n",
    "    if y_test.nunique() <= 2: # Additional metrics for binary classification\n",
    "        try:\n",
    "            y_score = estimator.predict_proba(X_test)[:,1]\n",
    "        except:\n",
    "            y_score = estimator.decision_function(X_test)\n",
    "        print(format_str % ('AUPRC', average_precision_score(y_test, y_score)))\n",
    "        print(format_str % ('AUROCC', roc_auc_score(y_test, y_score)))\n",
    "    print(format_str % (\"Cohen's kappa\", cohen_kappa_score(y_test, y_pred)))\n",
    "    print(format_str % ('Accuracy', accuracy_score(y_test, y_pred)))"
   ]
  },
  {
   "cell_type": "markdown",
   "metadata": {},
   "source": [
    "Test set evaluation metrics:"
   ]
  },
  {
   "cell_type": "code",
   "execution_count": 93,
   "metadata": {},
   "outputs": [
    {
     "name": "stdout",
     "output_type": "stream",
     "text": [
      "Confusion matrix -----------------------------------\n",
      "[[61752  2939]\n",
      " [ 7370  9438]] \n",
      "\n",
      "Classification report ------------------------------\n",
      "             precision    recall  f1-score   support\n",
      "\n",
      "      False    0.89338   0.95457   0.92296     64691\n",
      "       True    0.76254   0.56152   0.64677     16808\n",
      "\n",
      "avg / total    0.86639   0.87351   0.86600     81499\n",
      "\n",
      "Scalar metrics -------------------------------------\n",
      "          MCC = 0.58182\n",
      "        AUPRC = 0.72984\n",
      "       AUROCC = 0.89041\n",
      "Cohen's kappa = 0.57188\n",
      "     Accuracy = 0.87351\n"
     ]
    }
   ],
   "source": [
    "classification_eval(grid, X_test, y_test)"
   ]
  }
 ],
 "metadata": {
  "kernelspec": {
   "display_name": "Python 3",
   "language": "python",
   "name": "python3"
  },
  "language_info": {
   "codemirror_mode": {
    "name": "ipython",
    "version": 3
   },
   "file_extension": ".py",
   "mimetype": "text/x-python",
   "name": "python",
   "nbconvert_exporter": "python",
   "pygments_lexer": "ipython3",
   "version": "3.6.4"
  }
 },
 "nbformat": 4,
 "nbformat_minor": 1
}
