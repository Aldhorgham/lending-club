{
 "cells": [
  {
   "cell_type": "markdown",
   "metadata": {},
   "source": [
    "(Work in progress)\n",
    "\n",
    "To-do:\n",
    "* Update table of contents\n",
    "* Write introduction\n",
    "* Write conclusion\n",
    "* More EDA?"
   ]
  },
  {
   "cell_type": "markdown",
   "metadata": {
    "_cell_guid": "1e8676bb-b153-45c9-a4ab-13b883e8e896",
    "_uuid": "90e7167782a3bdb675b5b6c581ec99d6920c8939"
   },
   "source": [
    "# Loan Status Prediction: Lending Club, 2007-2017\n",
    "\n",
    "***By Joe Corliss***"
   ]
  },
  {
   "cell_type": "markdown",
   "metadata": {
    "_cell_guid": "40dc37f2-37a8-4f73-897d-b28a8755e88b",
    "_uuid": "b645d94d7d7103b4000a089c42fca8afa54bac2e"
   },
   "source": [
    "## Table of Contents\n",
    "\n",
    "(Currently outdated)\n",
    "\n",
    "1. [Summary](#1)\n",
    "    1. [Spoilers](#1.1)\n",
    "2. [Import the Data](#2)\n",
    "3. [Target Variable](#3)\n",
    "4. [Feature Selection](#4)\n",
    "    1. [Drop columns that have only one distinct value](#4.1)\n",
    "    2. [Remove columns that have < 2% data](#4.2)\n",
    "    3. [Remove irrelevant features](#4.3)\n",
    "    4. [Remove features that could make predictions too easy](#4.4)\n",
    "    5. [Inspect non-numerical features](#4.5)\n",
    "5. [Exploratory Data Analysis](#5)\n",
    "6. [Correlations with 'charged_off'](#6)\n",
    "    1. [Create dummy variables](#6.1)\n",
    "    2. [Compute correlations with 'charged_off'](#6.2)\n",
    "7. [More Pre-processing](#7)\n",
    "    1. [Train/test split](#7.1)\n",
    "    2. [Imputation with mean substitution](#7.2)\n",
    "    3. [Standardize the data](#7.3)\n",
    "8. [Predictive Modeling: SGDClassifier](#8)\n",
    "    1. [Train with grid search](#8.1)\n",
    "    2. [Test set evaluation](#8.2)"
   ]
  },
  {
   "cell_type": "markdown",
   "metadata": {},
   "source": [
    "# Introduction"
   ]
  },
  {
   "cell_type": "markdown",
   "metadata": {
    "_cell_guid": "1e8676bb-b153-45c9-a4ab-13b883e8e896",
    "_uuid": "90e7167782a3bdb675b5b6c581ec99d6920c8939"
   },
   "source": [
    "[Data source on Kaggle](https://www.kaggle.com/wordsforthewise/lending-club)\n",
    "\n",
    "[Older, smaller dataset](https://www.kaggle.com/wendykan/lending-club-loan-data)\n",
    "\n",
    "[Notebook on Kaggle](https://www.kaggle.com/pileatedperch/predicting-loan-status-mcc-0-73)\n",
    "\n",
    "[Lending Club Statistics](https://www.lendingclub.com/info/download-data.action)\n",
    "\n",
    "[GitHub Repository](https://github.com/jgcorliss/lending-club)"
   ]
  },
  {
   "cell_type": "markdown",
   "metadata": {
    "_cell_guid": "4a90478f-c30d-44f0-84af-6e3bb311165c",
    "_uuid": "264453f199b6f027fbcce63057de3be7e5401bde"
   },
   "source": [
    "The goal of this project is to predict whether a loan will be fully paid or charged off. We'll remove some features that would make this prediction too easy, such as the total payments received on the loan to date."
   ]
  },
  {
   "cell_type": "markdown",
   "metadata": {
    "_cell_guid": "b018242b-b3c5-4245-b5d7-ea6a3f28d4c8",
    "_uuid": "2053f9b0b897cad21155cca0a00c537bfd1bb340"
   },
   "source": [
    "# Import the Data\n",
    "<a id=\"2\"></a>"
   ]
  },
  {
   "cell_type": "markdown",
   "metadata": {
    "_cell_guid": "8fe25919-5ebd-4101-b62a-c7d234e8bd29",
    "_uuid": "56a4335d022fcd47a34be72a06c88f14db3b7915"
   },
   "source": [
    "Import basic libraries."
   ]
  },
  {
   "cell_type": "code",
   "execution_count": 1,
   "metadata": {
    "_cell_guid": "d237539e-2aa1-438e-a2c6-39a48c47211c",
    "_uuid": "3a39bcc870d823d4923c7ec9d8acb62c733bebaa"
   },
   "outputs": [],
   "source": [
    "import numpy as np\n",
    "import scipy as sp\n",
    "import pandas as pd\n",
    "import matplotlib as mpl\n",
    "import matplotlib.pyplot as plt\n",
    "import seaborn as sns\n",
    "\n",
    "# Pandas options\n",
    "pd.set_option('display.max_colwidth', 1000, 'display.max_rows', None, 'display.max_columns', None)\n",
    "\n",
    "# Plotting options\n",
    "%matplotlib inline\n",
    "mpl.style.use('ggplot')\n",
    "sns.set(style='whitegrid')"
   ]
  },
  {
   "cell_type": "markdown",
   "metadata": {
    "_cell_guid": "4c0f7ef4-37a3-4c71-847f-38f924706540",
    "_uuid": "c4b355a5d50e067d1461d6504cb04d827f65c6cd"
   },
   "source": [
    "Read in the data."
   ]
  },
  {
   "cell_type": "code",
   "execution_count": 2,
   "metadata": {
    "_cell_guid": "b54dd1e5-bbf7-4014-9434-3495a578e27f",
    "_uuid": "370f21d16cb87752040bb20a82a9115db2e36cb5"
   },
   "outputs": [
    {
     "name": "stderr",
     "output_type": "stream",
     "text": [
      "C:\\Users\\Joe\\Anaconda3\\lib\\site-packages\\IPython\\core\\interactiveshell.py:2728: DtypeWarning: Columns (0,18,48,58,117,128,129,130,133,134,135,138,144,145,146) have mixed types. Specify dtype option on import or set low_memory=False.\n",
      "  interactivity=interactivity, compiler=compiler, result=result)\n"
     ]
    }
   ],
   "source": [
    "df = pd.read_csv('accepted_2007_to_2017Q3.csv.gz', compression='gzip')"
   ]
  },
  {
   "cell_type": "markdown",
   "metadata": {
    "_cell_guid": "b195b476-a58b-4a6b-9745-f26a86e9c61c",
    "_uuid": "ee053ebca5fbc378cf651939bde5e378e5d0cdae"
   },
   "source": [
    "Check basic dataframe info."
   ]
  },
  {
   "cell_type": "code",
   "execution_count": 4,
   "metadata": {
    "_cell_guid": "f4a7c9a2-ff89-4219-8ff9-2324bef16bdf",
    "_uuid": "00c703a1943e72a68b83c4ddf46c00310656e22c"
   },
   "outputs": [
    {
     "name": "stdout",
     "output_type": "stream",
     "text": [
      "<class 'pandas.core.frame.DataFrame'>\n",
      "RangeIndex: 1646801 entries, 0 to 1646800\n",
      "Columns: 150 entries, id to settlement_term\n",
      "dtypes: float64(113), object(37)\n",
      "memory usage: 1.8+ GB\n"
     ]
    }
   ],
   "source": [
    "df.info()"
   ]
  },
  {
   "cell_type": "markdown",
   "metadata": {
    "_cell_guid": "53dad5c0-e147-4a75-9143-263c25aca443",
    "_uuid": "9174c9f401807a208e48aae2553eb69fa807f1cf"
   },
   "source": [
    "Sample some rows:"
   ]
  },
  {
   "cell_type": "code",
   "execution_count": 5,
   "metadata": {
    "_cell_guid": "ecdf5e79-8e7d-4e10-9d6a-bbed279cf07d",
    "_uuid": "927c3589a9c7ae39e78c2ad42f569101442cbb48"
   },
   "outputs": [
    {
     "data": {
      "text/html": [
       "<div>\n",
       "<style scoped>\n",
       "    .dataframe tbody tr th:only-of-type {\n",
       "        vertical-align: middle;\n",
       "    }\n",
       "\n",
       "    .dataframe tbody tr th {\n",
       "        vertical-align: top;\n",
       "    }\n",
       "\n",
       "    .dataframe thead th {\n",
       "        text-align: right;\n",
       "    }\n",
       "</style>\n",
       "<table border=\"1\" class=\"dataframe\">\n",
       "  <thead>\n",
       "    <tr style=\"text-align: right;\">\n",
       "      <th></th>\n",
       "      <th>id</th>\n",
       "      <th>member_id</th>\n",
       "      <th>loan_amnt</th>\n",
       "      <th>funded_amnt</th>\n",
       "      <th>funded_amnt_inv</th>\n",
       "      <th>term</th>\n",
       "      <th>int_rate</th>\n",
       "      <th>installment</th>\n",
       "      <th>grade</th>\n",
       "      <th>sub_grade</th>\n",
       "      <th>emp_title</th>\n",
       "      <th>emp_length</th>\n",
       "      <th>home_ownership</th>\n",
       "      <th>annual_inc</th>\n",
       "      <th>verification_status</th>\n",
       "      <th>issue_d</th>\n",
       "      <th>loan_status</th>\n",
       "      <th>pymnt_plan</th>\n",
       "      <th>desc</th>\n",
       "      <th>purpose</th>\n",
       "      <th>title</th>\n",
       "      <th>zip_code</th>\n",
       "      <th>addr_state</th>\n",
       "      <th>dti</th>\n",
       "      <th>delinq_2yrs</th>\n",
       "      <th>earliest_cr_line</th>\n",
       "      <th>fico_range_low</th>\n",
       "      <th>fico_range_high</th>\n",
       "      <th>inq_last_6mths</th>\n",
       "      <th>mths_since_last_delinq</th>\n",
       "      <th>mths_since_last_record</th>\n",
       "      <th>open_acc</th>\n",
       "      <th>pub_rec</th>\n",
       "      <th>revol_bal</th>\n",
       "      <th>revol_util</th>\n",
       "      <th>total_acc</th>\n",
       "      <th>initial_list_status</th>\n",
       "      <th>out_prncp</th>\n",
       "      <th>out_prncp_inv</th>\n",
       "      <th>total_pymnt</th>\n",
       "      <th>total_pymnt_inv</th>\n",
       "      <th>total_rec_prncp</th>\n",
       "      <th>total_rec_int</th>\n",
       "      <th>total_rec_late_fee</th>\n",
       "      <th>recoveries</th>\n",
       "      <th>collection_recovery_fee</th>\n",
       "      <th>last_pymnt_d</th>\n",
       "      <th>last_pymnt_amnt</th>\n",
       "      <th>next_pymnt_d</th>\n",
       "      <th>last_credit_pull_d</th>\n",
       "      <th>last_fico_range_high</th>\n",
       "      <th>last_fico_range_low</th>\n",
       "      <th>collections_12_mths_ex_med</th>\n",
       "      <th>mths_since_last_major_derog</th>\n",
       "      <th>policy_code</th>\n",
       "      <th>application_type</th>\n",
       "      <th>annual_inc_joint</th>\n",
       "      <th>dti_joint</th>\n",
       "      <th>verification_status_joint</th>\n",
       "      <th>acc_now_delinq</th>\n",
       "      <th>tot_coll_amt</th>\n",
       "      <th>tot_cur_bal</th>\n",
       "      <th>open_acc_6m</th>\n",
       "      <th>open_act_il</th>\n",
       "      <th>open_il_12m</th>\n",
       "      <th>open_il_24m</th>\n",
       "      <th>mths_since_rcnt_il</th>\n",
       "      <th>total_bal_il</th>\n",
       "      <th>il_util</th>\n",
       "      <th>open_rv_12m</th>\n",
       "      <th>open_rv_24m</th>\n",
       "      <th>max_bal_bc</th>\n",
       "      <th>all_util</th>\n",
       "      <th>total_rev_hi_lim</th>\n",
       "      <th>inq_fi</th>\n",
       "      <th>total_cu_tl</th>\n",
       "      <th>inq_last_12m</th>\n",
       "      <th>acc_open_past_24mths</th>\n",
       "      <th>avg_cur_bal</th>\n",
       "      <th>bc_open_to_buy</th>\n",
       "      <th>bc_util</th>\n",
       "      <th>chargeoff_within_12_mths</th>\n",
       "      <th>delinq_amnt</th>\n",
       "      <th>mo_sin_old_il_acct</th>\n",
       "      <th>mo_sin_old_rev_tl_op</th>\n",
       "      <th>mo_sin_rcnt_rev_tl_op</th>\n",
       "      <th>mo_sin_rcnt_tl</th>\n",
       "      <th>mort_acc</th>\n",
       "      <th>mths_since_recent_bc</th>\n",
       "      <th>mths_since_recent_bc_dlq</th>\n",
       "      <th>mths_since_recent_inq</th>\n",
       "      <th>mths_since_recent_revol_delinq</th>\n",
       "      <th>num_accts_ever_120_pd</th>\n",
       "      <th>num_actv_bc_tl</th>\n",
       "      <th>num_actv_rev_tl</th>\n",
       "      <th>num_bc_sats</th>\n",
       "      <th>num_bc_tl</th>\n",
       "      <th>num_il_tl</th>\n",
       "      <th>num_op_rev_tl</th>\n",
       "      <th>num_rev_accts</th>\n",
       "      <th>num_rev_tl_bal_gt_0</th>\n",
       "      <th>num_sats</th>\n",
       "      <th>num_tl_120dpd_2m</th>\n",
       "      <th>num_tl_30dpd</th>\n",
       "      <th>num_tl_90g_dpd_24m</th>\n",
       "      <th>num_tl_op_past_12m</th>\n",
       "      <th>pct_tl_nvr_dlq</th>\n",
       "      <th>percent_bc_gt_75</th>\n",
       "      <th>pub_rec_bankruptcies</th>\n",
       "      <th>tax_liens</th>\n",
       "      <th>tot_hi_cred_lim</th>\n",
       "      <th>total_bal_ex_mort</th>\n",
       "      <th>total_bc_limit</th>\n",
       "      <th>total_il_high_credit_limit</th>\n",
       "      <th>revol_bal_joint</th>\n",
       "      <th>sec_app_fico_range_low</th>\n",
       "      <th>sec_app_fico_range_high</th>\n",
       "      <th>sec_app_earliest_cr_line</th>\n",
       "      <th>sec_app_inq_last_6mths</th>\n",
       "      <th>sec_app_mort_acc</th>\n",
       "      <th>sec_app_open_acc</th>\n",
       "      <th>sec_app_revol_util</th>\n",
       "      <th>sec_app_open_act_il</th>\n",
       "      <th>sec_app_num_rev_accts</th>\n",
       "      <th>sec_app_chargeoff_within_12_mths</th>\n",
       "      <th>sec_app_collections_12_mths_ex_med</th>\n",
       "      <th>sec_app_mths_since_last_major_derog</th>\n",
       "      <th>hardship_flag</th>\n",
       "      <th>hardship_type</th>\n",
       "      <th>hardship_reason</th>\n",
       "      <th>hardship_status</th>\n",
       "      <th>deferral_term</th>\n",
       "      <th>hardship_amount</th>\n",
       "      <th>hardship_start_date</th>\n",
       "      <th>hardship_end_date</th>\n",
       "      <th>payment_plan_start_date</th>\n",
       "      <th>hardship_length</th>\n",
       "      <th>hardship_dpd</th>\n",
       "      <th>hardship_loan_status</th>\n",
       "      <th>orig_projected_additional_accrued_interest</th>\n",
       "      <th>hardship_payoff_balance_amount</th>\n",
       "      <th>hardship_last_payment_amount</th>\n",
       "      <th>disbursement_method</th>\n",
       "      <th>debt_settlement_flag</th>\n",
       "      <th>debt_settlement_flag_date</th>\n",
       "      <th>settlement_status</th>\n",
       "      <th>settlement_date</th>\n",
       "      <th>settlement_amount</th>\n",
       "      <th>settlement_percentage</th>\n",
       "      <th>settlement_term</th>\n",
       "    </tr>\n",
       "  </thead>\n",
       "  <tbody>\n",
       "    <tr>\n",
       "      <th>1182636</th>\n",
       "      <td>84546454</td>\n",
       "      <td>NaN</td>\n",
       "      <td>35000.0</td>\n",
       "      <td>35000.0</td>\n",
       "      <td>35000.0</td>\n",
       "      <td>60 months</td>\n",
       "      <td>22.39</td>\n",
       "      <td>974.44</td>\n",
       "      <td>E</td>\n",
       "      <td>E1</td>\n",
       "      <td>Hospital Manager</td>\n",
       "      <td>9 years</td>\n",
       "      <td>MORTGAGE</td>\n",
       "      <td>80000.0</td>\n",
       "      <td>Source Verified</td>\n",
       "      <td>Jul-2016</td>\n",
       "      <td>Fully Paid</td>\n",
       "      <td>n</td>\n",
       "      <td>NaN</td>\n",
       "      <td>debt_consolidation</td>\n",
       "      <td>Debt consolidation</td>\n",
       "      <td>606xx</td>\n",
       "      <td>IL</td>\n",
       "      <td>30.69</td>\n",
       "      <td>0.0</td>\n",
       "      <td>Dec-1999</td>\n",
       "      <td>700.0</td>\n",
       "      <td>704.0</td>\n",
       "      <td>0.0</td>\n",
       "      <td>34.0</td>\n",
       "      <td>NaN</td>\n",
       "      <td>20.0</td>\n",
       "      <td>0.0</td>\n",
       "      <td>45419.0</td>\n",
       "      <td>74.6</td>\n",
       "      <td>56.0</td>\n",
       "      <td>f</td>\n",
       "      <td>0.00</td>\n",
       "      <td>0.00</td>\n",
       "      <td>45150.606169</td>\n",
       "      <td>45150.61</td>\n",
       "      <td>35000.00</td>\n",
       "      <td>10150.61</td>\n",
       "      <td>0.0</td>\n",
       "      <td>0.0</td>\n",
       "      <td>0.0</td>\n",
       "      <td>Nov-2017</td>\n",
       "      <td>30534.01</td>\n",
       "      <td>NaN</td>\n",
       "      <td>Dec-2017</td>\n",
       "      <td>764.0</td>\n",
       "      <td>760.0</td>\n",
       "      <td>0.0</td>\n",
       "      <td>NaN</td>\n",
       "      <td>1.0</td>\n",
       "      <td>Individual</td>\n",
       "      <td>NaN</td>\n",
       "      <td>NaN</td>\n",
       "      <td>NaN</td>\n",
       "      <td>0.0</td>\n",
       "      <td>0.0</td>\n",
       "      <td>326260.0</td>\n",
       "      <td>1.0</td>\n",
       "      <td>2.0</td>\n",
       "      <td>0.0</td>\n",
       "      <td>0.0</td>\n",
       "      <td>54.0</td>\n",
       "      <td>106142.0</td>\n",
       "      <td>42.0</td>\n",
       "      <td>1.0</td>\n",
       "      <td>1.0</td>\n",
       "      <td>6152.0</td>\n",
       "      <td>65.0</td>\n",
       "      <td>60900.0</td>\n",
       "      <td>0.0</td>\n",
       "      <td>3.0</td>\n",
       "      <td>1.0</td>\n",
       "      <td>1.0</td>\n",
       "      <td>20391.0</td>\n",
       "      <td>800.0</td>\n",
       "      <td>97.1</td>\n",
       "      <td>0.0</td>\n",
       "      <td>0.0</td>\n",
       "      <td>170.0</td>\n",
       "      <td>199.0</td>\n",
       "      <td>1.0</td>\n",
       "      <td>1.0</td>\n",
       "      <td>1.0</td>\n",
       "      <td>59.0</td>\n",
       "      <td>NaN</td>\n",
       "      <td>9.0</td>\n",
       "      <td>34.0</td>\n",
       "      <td>0.0</td>\n",
       "      <td>6.0</td>\n",
       "      <td>11.0</td>\n",
       "      <td>6.0</td>\n",
       "      <td>9.0</td>\n",
       "      <td>24.0</td>\n",
       "      <td>16.0</td>\n",
       "      <td>30.0</td>\n",
       "      <td>11.0</td>\n",
       "      <td>20.0</td>\n",
       "      <td>0.0</td>\n",
       "      <td>0.0</td>\n",
       "      <td>0.0</td>\n",
       "      <td>1.0</td>\n",
       "      <td>98.1</td>\n",
       "      <td>100.0</td>\n",
       "      <td>0.0</td>\n",
       "      <td>0.0</td>\n",
       "      <td>370893.0</td>\n",
       "      <td>151604.0</td>\n",
       "      <td>27900.0</td>\n",
       "      <td>121961.0</td>\n",
       "      <td>NaN</td>\n",
       "      <td>NaN</td>\n",
       "      <td>NaN</td>\n",
       "      <td>NaN</td>\n",
       "      <td>NaN</td>\n",
       "      <td>NaN</td>\n",
       "      <td>NaN</td>\n",
       "      <td>NaN</td>\n",
       "      <td>NaN</td>\n",
       "      <td>NaN</td>\n",
       "      <td>NaN</td>\n",
       "      <td>NaN</td>\n",
       "      <td>NaN</td>\n",
       "      <td>N</td>\n",
       "      <td>NaN</td>\n",
       "      <td>NaN</td>\n",
       "      <td>NaN</td>\n",
       "      <td>NaN</td>\n",
       "      <td>NaN</td>\n",
       "      <td>NaN</td>\n",
       "      <td>NaN</td>\n",
       "      <td>NaN</td>\n",
       "      <td>NaN</td>\n",
       "      <td>NaN</td>\n",
       "      <td>NaN</td>\n",
       "      <td>NaN</td>\n",
       "      <td>NaN</td>\n",
       "      <td>NaN</td>\n",
       "      <td>Cash</td>\n",
       "      <td>N</td>\n",
       "      <td>NaN</td>\n",
       "      <td>NaN</td>\n",
       "      <td>NaN</td>\n",
       "      <td>NaN</td>\n",
       "      <td>NaN</td>\n",
       "      <td>NaN</td>\n",
       "    </tr>\n",
       "    <tr>\n",
       "      <th>1557450</th>\n",
       "      <td>73905175</td>\n",
       "      <td>NaN</td>\n",
       "      <td>16800.0</td>\n",
       "      <td>16800.0</td>\n",
       "      <td>16800.0</td>\n",
       "      <td>60 months</td>\n",
       "      <td>10.75</td>\n",
       "      <td>363.19</td>\n",
       "      <td>B</td>\n",
       "      <td>B4</td>\n",
       "      <td>mechanic</td>\n",
       "      <td>10+ years</td>\n",
       "      <td>OWN</td>\n",
       "      <td>90000.0</td>\n",
       "      <td>Not Verified</td>\n",
       "      <td>Mar-2016</td>\n",
       "      <td>Fully Paid</td>\n",
       "      <td>n</td>\n",
       "      <td>NaN</td>\n",
       "      <td>credit_card</td>\n",
       "      <td>Credit card refinancing</td>\n",
       "      <td>934xx</td>\n",
       "      <td>CA</td>\n",
       "      <td>34.47</td>\n",
       "      <td>0.0</td>\n",
       "      <td>Jun-1970</td>\n",
       "      <td>770.0</td>\n",
       "      <td>774.0</td>\n",
       "      <td>1.0</td>\n",
       "      <td>NaN</td>\n",
       "      <td>NaN</td>\n",
       "      <td>17.0</td>\n",
       "      <td>0.0</td>\n",
       "      <td>17383.0</td>\n",
       "      <td>23.2</td>\n",
       "      <td>66.0</td>\n",
       "      <td>w</td>\n",
       "      <td>0.00</td>\n",
       "      <td>0.00</td>\n",
       "      <td>18434.915678</td>\n",
       "      <td>18434.92</td>\n",
       "      <td>16800.00</td>\n",
       "      <td>1634.92</td>\n",
       "      <td>0.0</td>\n",
       "      <td>0.0</td>\n",
       "      <td>0.0</td>\n",
       "      <td>Feb-2017</td>\n",
       "      <td>14823.09</td>\n",
       "      <td>NaN</td>\n",
       "      <td>Mar-2017</td>\n",
       "      <td>719.0</td>\n",
       "      <td>715.0</td>\n",
       "      <td>0.0</td>\n",
       "      <td>NaN</td>\n",
       "      <td>1.0</td>\n",
       "      <td>Individual</td>\n",
       "      <td>NaN</td>\n",
       "      <td>NaN</td>\n",
       "      <td>NaN</td>\n",
       "      <td>0.0</td>\n",
       "      <td>0.0</td>\n",
       "      <td>410071.0</td>\n",
       "      <td>3.0</td>\n",
       "      <td>5.0</td>\n",
       "      <td>3.0</td>\n",
       "      <td>7.0</td>\n",
       "      <td>3.0</td>\n",
       "      <td>137889.0</td>\n",
       "      <td>69.0</td>\n",
       "      <td>2.0</td>\n",
       "      <td>5.0</td>\n",
       "      <td>8805.0</td>\n",
       "      <td>40.0</td>\n",
       "      <td>74800.0</td>\n",
       "      <td>2.0</td>\n",
       "      <td>5.0</td>\n",
       "      <td>3.0</td>\n",
       "      <td>12.0</td>\n",
       "      <td>25629.0</td>\n",
       "      <td>43018.0</td>\n",
       "      <td>25.8</td>\n",
       "      <td>0.0</td>\n",
       "      <td>0.0</td>\n",
       "      <td>143.0</td>\n",
       "      <td>549.0</td>\n",
       "      <td>3.0</td>\n",
       "      <td>3.0</td>\n",
       "      <td>4.0</td>\n",
       "      <td>22.0</td>\n",
       "      <td>NaN</td>\n",
       "      <td>3.0</td>\n",
       "      <td>NaN</td>\n",
       "      <td>0.0</td>\n",
       "      <td>3.0</td>\n",
       "      <td>6.0</td>\n",
       "      <td>5.0</td>\n",
       "      <td>21.0</td>\n",
       "      <td>21.0</td>\n",
       "      <td>11.0</td>\n",
       "      <td>41.0</td>\n",
       "      <td>6.0</td>\n",
       "      <td>17.0</td>\n",
       "      <td>0.0</td>\n",
       "      <td>0.0</td>\n",
       "      <td>0.0</td>\n",
       "      <td>5.0</td>\n",
       "      <td>100.0</td>\n",
       "      <td>0.0</td>\n",
       "      <td>0.0</td>\n",
       "      <td>0.0</td>\n",
       "      <td>504722.0</td>\n",
       "      <td>155272.0</td>\n",
       "      <td>58000.0</td>\n",
       "      <td>156922.0</td>\n",
       "      <td>NaN</td>\n",
       "      <td>NaN</td>\n",
       "      <td>NaN</td>\n",
       "      <td>NaN</td>\n",
       "      <td>NaN</td>\n",
       "      <td>NaN</td>\n",
       "      <td>NaN</td>\n",
       "      <td>NaN</td>\n",
       "      <td>NaN</td>\n",
       "      <td>NaN</td>\n",
       "      <td>NaN</td>\n",
       "      <td>NaN</td>\n",
       "      <td>NaN</td>\n",
       "      <td>N</td>\n",
       "      <td>NaN</td>\n",
       "      <td>NaN</td>\n",
       "      <td>NaN</td>\n",
       "      <td>NaN</td>\n",
       "      <td>NaN</td>\n",
       "      <td>NaN</td>\n",
       "      <td>NaN</td>\n",
       "      <td>NaN</td>\n",
       "      <td>NaN</td>\n",
       "      <td>NaN</td>\n",
       "      <td>NaN</td>\n",
       "      <td>NaN</td>\n",
       "      <td>NaN</td>\n",
       "      <td>NaN</td>\n",
       "      <td>Cash</td>\n",
       "      <td>N</td>\n",
       "      <td>NaN</td>\n",
       "      <td>NaN</td>\n",
       "      <td>NaN</td>\n",
       "      <td>NaN</td>\n",
       "      <td>NaN</td>\n",
       "      <td>NaN</td>\n",
       "    </tr>\n",
       "    <tr>\n",
       "      <th>797136</th>\n",
       "      <td>104171367</td>\n",
       "      <td>NaN</td>\n",
       "      <td>25000.0</td>\n",
       "      <td>25000.0</td>\n",
       "      <td>24950.0</td>\n",
       "      <td>36 months</td>\n",
       "      <td>8.24</td>\n",
       "      <td>786.19</td>\n",
       "      <td>B</td>\n",
       "      <td>B1</td>\n",
       "      <td>Senior Systems Engineer</td>\n",
       "      <td>&lt; 1 year</td>\n",
       "      <td>RENT</td>\n",
       "      <td>115000.0</td>\n",
       "      <td>Not Verified</td>\n",
       "      <td>Apr-2017</td>\n",
       "      <td>Current</td>\n",
       "      <td>n</td>\n",
       "      <td>NaN</td>\n",
       "      <td>debt_consolidation</td>\n",
       "      <td>Debt consolidation</td>\n",
       "      <td>103xx</td>\n",
       "      <td>NY</td>\n",
       "      <td>13.60</td>\n",
       "      <td>2.0</td>\n",
       "      <td>Jul-2003</td>\n",
       "      <td>665.0</td>\n",
       "      <td>669.0</td>\n",
       "      <td>0.0</td>\n",
       "      <td>19.0</td>\n",
       "      <td>NaN</td>\n",
       "      <td>5.0</td>\n",
       "      <td>0.0</td>\n",
       "      <td>8074.0</td>\n",
       "      <td>97.3</td>\n",
       "      <td>16.0</td>\n",
       "      <td>f</td>\n",
       "      <td>19964.02</td>\n",
       "      <td>19924.09</td>\n",
       "      <td>6209.410000</td>\n",
       "      <td>6196.99</td>\n",
       "      <td>5035.98</td>\n",
       "      <td>1173.43</td>\n",
       "      <td>0.0</td>\n",
       "      <td>0.0</td>\n",
       "      <td>0.0</td>\n",
       "      <td>Dec-2017</td>\n",
       "      <td>786.19</td>\n",
       "      <td>Jan-2018</td>\n",
       "      <td>Dec-2017</td>\n",
       "      <td>644.0</td>\n",
       "      <td>640.0</td>\n",
       "      <td>0.0</td>\n",
       "      <td>37.0</td>\n",
       "      <td>1.0</td>\n",
       "      <td>Individual</td>\n",
       "      <td>NaN</td>\n",
       "      <td>NaN</td>\n",
       "      <td>NaN</td>\n",
       "      <td>0.0</td>\n",
       "      <td>0.0</td>\n",
       "      <td>18702.0</td>\n",
       "      <td>0.0</td>\n",
       "      <td>2.0</td>\n",
       "      <td>0.0</td>\n",
       "      <td>0.0</td>\n",
       "      <td>25.0</td>\n",
       "      <td>10628.0</td>\n",
       "      <td>28.0</td>\n",
       "      <td>1.0</td>\n",
       "      <td>1.0</td>\n",
       "      <td>4919.0</td>\n",
       "      <td>40.0</td>\n",
       "      <td>8300.0</td>\n",
       "      <td>0.0</td>\n",
       "      <td>0.0</td>\n",
       "      <td>1.0</td>\n",
       "      <td>1.0</td>\n",
       "      <td>3740.0</td>\n",
       "      <td>169.0</td>\n",
       "      <td>97.7</td>\n",
       "      <td>0.0</td>\n",
       "      <td>0.0</td>\n",
       "      <td>49.0</td>\n",
       "      <td>158.0</td>\n",
       "      <td>10.0</td>\n",
       "      <td>10.0</td>\n",
       "      <td>0.0</td>\n",
       "      <td>76.0</td>\n",
       "      <td>19.0</td>\n",
       "      <td>10.0</td>\n",
       "      <td>19.0</td>\n",
       "      <td>1.0</td>\n",
       "      <td>2.0</td>\n",
       "      <td>3.0</td>\n",
       "      <td>2.0</td>\n",
       "      <td>7.0</td>\n",
       "      <td>2.0</td>\n",
       "      <td>3.0</td>\n",
       "      <td>13.0</td>\n",
       "      <td>3.0</td>\n",
       "      <td>5.0</td>\n",
       "      <td>0.0</td>\n",
       "      <td>0.0</td>\n",
       "      <td>0.0</td>\n",
       "      <td>1.0</td>\n",
       "      <td>68.8</td>\n",
       "      <td>100.0</td>\n",
       "      <td>0.0</td>\n",
       "      <td>0.0</td>\n",
       "      <td>46295.0</td>\n",
       "      <td>18702.0</td>\n",
       "      <td>7500.0</td>\n",
       "      <td>37995.0</td>\n",
       "      <td>NaN</td>\n",
       "      <td>NaN</td>\n",
       "      <td>NaN</td>\n",
       "      <td>NaN</td>\n",
       "      <td>NaN</td>\n",
       "      <td>NaN</td>\n",
       "      <td>NaN</td>\n",
       "      <td>NaN</td>\n",
       "      <td>NaN</td>\n",
       "      <td>NaN</td>\n",
       "      <td>NaN</td>\n",
       "      <td>NaN</td>\n",
       "      <td>NaN</td>\n",
       "      <td>N</td>\n",
       "      <td>NaN</td>\n",
       "      <td>NaN</td>\n",
       "      <td>NaN</td>\n",
       "      <td>NaN</td>\n",
       "      <td>NaN</td>\n",
       "      <td>NaN</td>\n",
       "      <td>NaN</td>\n",
       "      <td>NaN</td>\n",
       "      <td>NaN</td>\n",
       "      <td>NaN</td>\n",
       "      <td>NaN</td>\n",
       "      <td>NaN</td>\n",
       "      <td>NaN</td>\n",
       "      <td>NaN</td>\n",
       "      <td>Cash</td>\n",
       "      <td>N</td>\n",
       "      <td>NaN</td>\n",
       "      <td>NaN</td>\n",
       "      <td>NaN</td>\n",
       "      <td>NaN</td>\n",
       "      <td>NaN</td>\n",
       "      <td>NaN</td>\n",
       "    </tr>\n",
       "  </tbody>\n",
       "</table>\n",
       "</div>"
      ],
      "text/plain": [
       "                id  member_id  loan_amnt  funded_amnt  funded_amnt_inv  \\\n",
       "1182636   84546454        NaN    35000.0      35000.0          35000.0   \n",
       "1557450   73905175        NaN    16800.0      16800.0          16800.0   \n",
       "797136   104171367        NaN    25000.0      25000.0          24950.0   \n",
       "\n",
       "               term  int_rate  installment grade sub_grade  \\\n",
       "1182636   60 months     22.39       974.44     E        E1   \n",
       "1557450   60 months     10.75       363.19     B        B4   \n",
       "797136    36 months      8.24       786.19     B        B1   \n",
       "\n",
       "                       emp_title emp_length home_ownership  annual_inc  \\\n",
       "1182636         Hospital Manager    9 years       MORTGAGE     80000.0   \n",
       "1557450                 mechanic  10+ years            OWN     90000.0   \n",
       "797136   Senior Systems Engineer   < 1 year           RENT    115000.0   \n",
       "\n",
       "        verification_status   issue_d loan_status pymnt_plan desc  \\\n",
       "1182636     Source Verified  Jul-2016  Fully Paid          n  NaN   \n",
       "1557450        Not Verified  Mar-2016  Fully Paid          n  NaN   \n",
       "797136         Not Verified  Apr-2017     Current          n  NaN   \n",
       "\n",
       "                    purpose                    title zip_code addr_state  \\\n",
       "1182636  debt_consolidation       Debt consolidation    606xx         IL   \n",
       "1557450         credit_card  Credit card refinancing    934xx         CA   \n",
       "797136   debt_consolidation       Debt consolidation    103xx         NY   \n",
       "\n",
       "           dti  delinq_2yrs earliest_cr_line  fico_range_low  fico_range_high  \\\n",
       "1182636  30.69          0.0         Dec-1999           700.0            704.0   \n",
       "1557450  34.47          0.0         Jun-1970           770.0            774.0   \n",
       "797136   13.60          2.0         Jul-2003           665.0            669.0   \n",
       "\n",
       "         inq_last_6mths  mths_since_last_delinq  mths_since_last_record  \\\n",
       "1182636             0.0                    34.0                     NaN   \n",
       "1557450             1.0                     NaN                     NaN   \n",
       "797136              0.0                    19.0                     NaN   \n",
       "\n",
       "         open_acc  pub_rec  revol_bal  revol_util  total_acc  \\\n",
       "1182636      20.0      0.0    45419.0        74.6       56.0   \n",
       "1557450      17.0      0.0    17383.0        23.2       66.0   \n",
       "797136        5.0      0.0     8074.0        97.3       16.0   \n",
       "\n",
       "        initial_list_status  out_prncp  out_prncp_inv   total_pymnt  \\\n",
       "1182636                   f       0.00           0.00  45150.606169   \n",
       "1557450                   w       0.00           0.00  18434.915678   \n",
       "797136                    f   19964.02       19924.09   6209.410000   \n",
       "\n",
       "         total_pymnt_inv  total_rec_prncp  total_rec_int  total_rec_late_fee  \\\n",
       "1182636         45150.61         35000.00       10150.61                 0.0   \n",
       "1557450         18434.92         16800.00        1634.92                 0.0   \n",
       "797136           6196.99          5035.98        1173.43                 0.0   \n",
       "\n",
       "         recoveries  collection_recovery_fee last_pymnt_d  last_pymnt_amnt  \\\n",
       "1182636         0.0                      0.0     Nov-2017         30534.01   \n",
       "1557450         0.0                      0.0     Feb-2017         14823.09   \n",
       "797136          0.0                      0.0     Dec-2017           786.19   \n",
       "\n",
       "        next_pymnt_d last_credit_pull_d  last_fico_range_high  \\\n",
       "1182636          NaN           Dec-2017                 764.0   \n",
       "1557450          NaN           Mar-2017                 719.0   \n",
       "797136      Jan-2018           Dec-2017                 644.0   \n",
       "\n",
       "         last_fico_range_low  collections_12_mths_ex_med  \\\n",
       "1182636                760.0                         0.0   \n",
       "1557450                715.0                         0.0   \n",
       "797136                 640.0                         0.0   \n",
       "\n",
       "         mths_since_last_major_derog  policy_code application_type  \\\n",
       "1182636                          NaN          1.0       Individual   \n",
       "1557450                          NaN          1.0       Individual   \n",
       "797136                          37.0          1.0       Individual   \n",
       "\n",
       "         annual_inc_joint  dti_joint verification_status_joint  \\\n",
       "1182636               NaN        NaN                       NaN   \n",
       "1557450               NaN        NaN                       NaN   \n",
       "797136                NaN        NaN                       NaN   \n",
       "\n",
       "         acc_now_delinq  tot_coll_amt  tot_cur_bal  open_acc_6m  open_act_il  \\\n",
       "1182636             0.0           0.0     326260.0          1.0          2.0   \n",
       "1557450             0.0           0.0     410071.0          3.0          5.0   \n",
       "797136              0.0           0.0      18702.0          0.0          2.0   \n",
       "\n",
       "         open_il_12m  open_il_24m  mths_since_rcnt_il  total_bal_il  il_util  \\\n",
       "1182636          0.0          0.0                54.0      106142.0     42.0   \n",
       "1557450          3.0          7.0                 3.0      137889.0     69.0   \n",
       "797136           0.0          0.0                25.0       10628.0     28.0   \n",
       "\n",
       "         open_rv_12m  open_rv_24m  max_bal_bc  all_util  total_rev_hi_lim  \\\n",
       "1182636          1.0          1.0      6152.0      65.0           60900.0   \n",
       "1557450          2.0          5.0      8805.0      40.0           74800.0   \n",
       "797136           1.0          1.0      4919.0      40.0            8300.0   \n",
       "\n",
       "         inq_fi  total_cu_tl  inq_last_12m  acc_open_past_24mths  avg_cur_bal  \\\n",
       "1182636     0.0          3.0           1.0                   1.0      20391.0   \n",
       "1557450     2.0          5.0           3.0                  12.0      25629.0   \n",
       "797136      0.0          0.0           1.0                   1.0       3740.0   \n",
       "\n",
       "         bc_open_to_buy  bc_util  chargeoff_within_12_mths  delinq_amnt  \\\n",
       "1182636           800.0     97.1                       0.0          0.0   \n",
       "1557450         43018.0     25.8                       0.0          0.0   \n",
       "797136            169.0     97.7                       0.0          0.0   \n",
       "\n",
       "         mo_sin_old_il_acct  mo_sin_old_rev_tl_op  mo_sin_rcnt_rev_tl_op  \\\n",
       "1182636               170.0                 199.0                    1.0   \n",
       "1557450               143.0                 549.0                    3.0   \n",
       "797136                 49.0                 158.0                   10.0   \n",
       "\n",
       "         mo_sin_rcnt_tl  mort_acc  mths_since_recent_bc  \\\n",
       "1182636             1.0       1.0                  59.0   \n",
       "1557450             3.0       4.0                  22.0   \n",
       "797136             10.0       0.0                  76.0   \n",
       "\n",
       "         mths_since_recent_bc_dlq  mths_since_recent_inq  \\\n",
       "1182636                       NaN                    9.0   \n",
       "1557450                       NaN                    3.0   \n",
       "797136                       19.0                   10.0   \n",
       "\n",
       "         mths_since_recent_revol_delinq  num_accts_ever_120_pd  \\\n",
       "1182636                            34.0                    0.0   \n",
       "1557450                             NaN                    0.0   \n",
       "797136                             19.0                    1.0   \n",
       "\n",
       "         num_actv_bc_tl  num_actv_rev_tl  num_bc_sats  num_bc_tl  num_il_tl  \\\n",
       "1182636             6.0             11.0          6.0        9.0       24.0   \n",
       "1557450             3.0              6.0          5.0       21.0       21.0   \n",
       "797136              2.0              3.0          2.0        7.0        2.0   \n",
       "\n",
       "         num_op_rev_tl  num_rev_accts  num_rev_tl_bal_gt_0  num_sats  \\\n",
       "1182636           16.0           30.0                 11.0      20.0   \n",
       "1557450           11.0           41.0                  6.0      17.0   \n",
       "797136             3.0           13.0                  3.0       5.0   \n",
       "\n",
       "         num_tl_120dpd_2m  num_tl_30dpd  num_tl_90g_dpd_24m  \\\n",
       "1182636               0.0           0.0                 0.0   \n",
       "1557450               0.0           0.0                 0.0   \n",
       "797136                0.0           0.0                 0.0   \n",
       "\n",
       "         num_tl_op_past_12m  pct_tl_nvr_dlq  percent_bc_gt_75  \\\n",
       "1182636                 1.0            98.1             100.0   \n",
       "1557450                 5.0           100.0               0.0   \n",
       "797136                  1.0            68.8             100.0   \n",
       "\n",
       "         pub_rec_bankruptcies  tax_liens  tot_hi_cred_lim  total_bal_ex_mort  \\\n",
       "1182636                   0.0        0.0         370893.0           151604.0   \n",
       "1557450                   0.0        0.0         504722.0           155272.0   \n",
       "797136                    0.0        0.0          46295.0            18702.0   \n",
       "\n",
       "         total_bc_limit  total_il_high_credit_limit  revol_bal_joint  \\\n",
       "1182636         27900.0                    121961.0              NaN   \n",
       "1557450         58000.0                    156922.0              NaN   \n",
       "797136           7500.0                     37995.0              NaN   \n",
       "\n",
       "         sec_app_fico_range_low  sec_app_fico_range_high  \\\n",
       "1182636                     NaN                      NaN   \n",
       "1557450                     NaN                      NaN   \n",
       "797136                      NaN                      NaN   \n",
       "\n",
       "        sec_app_earliest_cr_line  sec_app_inq_last_6mths  sec_app_mort_acc  \\\n",
       "1182636                      NaN                     NaN               NaN   \n",
       "1557450                      NaN                     NaN               NaN   \n",
       "797136                       NaN                     NaN               NaN   \n",
       "\n",
       "         sec_app_open_acc  sec_app_revol_util  sec_app_open_act_il  \\\n",
       "1182636               NaN                 NaN                  NaN   \n",
       "1557450               NaN                 NaN                  NaN   \n",
       "797136                NaN                 NaN                  NaN   \n",
       "\n",
       "         sec_app_num_rev_accts  sec_app_chargeoff_within_12_mths  \\\n",
       "1182636                    NaN                               NaN   \n",
       "1557450                    NaN                               NaN   \n",
       "797136                     NaN                               NaN   \n",
       "\n",
       "         sec_app_collections_12_mths_ex_med  \\\n",
       "1182636                                 NaN   \n",
       "1557450                                 NaN   \n",
       "797136                                  NaN   \n",
       "\n",
       "         sec_app_mths_since_last_major_derog hardship_flag hardship_type  \\\n",
       "1182636                                  NaN             N           NaN   \n",
       "1557450                                  NaN             N           NaN   \n",
       "797136                                   NaN             N           NaN   \n",
       "\n",
       "        hardship_reason hardship_status  deferral_term  hardship_amount  \\\n",
       "1182636             NaN             NaN            NaN              NaN   \n",
       "1557450             NaN             NaN            NaN              NaN   \n",
       "797136              NaN             NaN            NaN              NaN   \n",
       "\n",
       "        hardship_start_date hardship_end_date payment_plan_start_date  \\\n",
       "1182636                 NaN               NaN                     NaN   \n",
       "1557450                 NaN               NaN                     NaN   \n",
       "797136                  NaN               NaN                     NaN   \n",
       "\n",
       "         hardship_length  hardship_dpd hardship_loan_status  \\\n",
       "1182636              NaN           NaN                  NaN   \n",
       "1557450              NaN           NaN                  NaN   \n",
       "797136               NaN           NaN                  NaN   \n",
       "\n",
       "         orig_projected_additional_accrued_interest  \\\n",
       "1182636                                         NaN   \n",
       "1557450                                         NaN   \n",
       "797136                                          NaN   \n",
       "\n",
       "         hardship_payoff_balance_amount  hardship_last_payment_amount  \\\n",
       "1182636                             NaN                           NaN   \n",
       "1557450                             NaN                           NaN   \n",
       "797136                              NaN                           NaN   \n",
       "\n",
       "        disbursement_method debt_settlement_flag debt_settlement_flag_date  \\\n",
       "1182636                Cash                    N                       NaN   \n",
       "1557450                Cash                    N                       NaN   \n",
       "797136                 Cash                    N                       NaN   \n",
       "\n",
       "        settlement_status settlement_date  settlement_amount  \\\n",
       "1182636               NaN             NaN                NaN   \n",
       "1557450               NaN             NaN                NaN   \n",
       "797136                NaN             NaN                NaN   \n",
       "\n",
       "         settlement_percentage  settlement_term  \n",
       "1182636                    NaN              NaN  \n",
       "1557450                    NaN              NaN  \n",
       "797136                     NaN              NaN  "
      ]
     },
     "execution_count": 5,
     "metadata": {},
     "output_type": "execute_result"
    }
   ],
   "source": [
    "df.sample(3)"
   ]
  },
  {
   "cell_type": "markdown",
   "metadata": {
    "_cell_guid": "6e847348-5344-4ebb-b820-03a772ad5059",
    "_uuid": "841ca8b2103b35b98730139c2e64b790f2edeb89"
   },
   "source": [
    "# Response Variable\n",
    "<a id=\"3\"></a>"
   ]
  },
  {
   "cell_type": "markdown",
   "metadata": {
    "_cell_guid": "b9e79844-28d9-4b5e-a6d3-c9dbfd17820e",
    "_uuid": "138869442509b04e45df20b0356e7ed91f77f7c2"
   },
   "source": [
    "We're going to try to predict the `loan_status` column. What are the value counts in this column?"
   ]
  },
  {
   "cell_type": "code",
   "execution_count": 6,
   "metadata": {
    "_cell_guid": "d5b467af-c5a1-4ae0-a044-3a421252eb78",
    "_uuid": "84e9c41ee08246a83bc6f8ad04a90c83a1bf408e"
   },
   "outputs": [
    {
     "data": {
      "text/plain": [
       "Current                                                788950\n",
       "Fully Paid                                             646902\n",
       "Charged Off                                            168084\n",
       "Late (31-120 days)                                      23763\n",
       "In Grace Period                                         10474\n",
       "Late (16-30 days)                                        5786\n",
       "Does not meet the credit policy. Status:Fully Paid       1988\n",
       "Does not meet the credit policy. Status:Charged Off       761\n",
       "Default                                                    70\n",
       "Name: loan_status, dtype: int64"
      ]
     },
     "execution_count": 6,
     "metadata": {},
     "output_type": "execute_result"
    }
   ],
   "source": [
    "df['loan_status'].value_counts()"
   ]
  },
  {
   "cell_type": "markdown",
   "metadata": {
    "_cell_guid": "527520b1-32a4-4b95-ab0a-b24ac47b3cf6",
    "_uuid": "49a92fd5f4aab3a3561edf9929df506c9fd34a9d"
   },
   "source": [
    "Let's only consider loans that meet the credit policy and have either been fully paid or charged off. These are the two cases we'll try to distinguish with a predictive model.\n",
    "\n",
    "Retain only the rows with `loan_status` \"Fully Paid\" or \"Charged Off.\""
   ]
  },
  {
   "cell_type": "code",
   "execution_count": 7,
   "metadata": {
    "_cell_guid": "f4f361b5-32f2-4828-8e37-3e43a32c32c0",
    "_uuid": "5c7dc5453d31b32b849bec55fe252c449d8e9557"
   },
   "outputs": [],
   "source": [
    "df = df.loc[df['loan_status'].isin(['Fully Paid', 'Charged Off'])]"
   ]
  },
  {
   "cell_type": "markdown",
   "metadata": {},
   "source": [
    "How many observations remain?"
   ]
  },
  {
   "cell_type": "code",
   "execution_count": 8,
   "metadata": {
    "_cell_guid": "be5c5ad3-f002-48f3-9695-3a80a1539c1b",
    "_uuid": "c71ee5ec2f8dc3d8297a7eea7eef441f27c51317"
   },
   "outputs": [
    {
     "data": {
      "text/plain": [
       "(814986, 150)"
      ]
     },
     "execution_count": 8,
     "metadata": {},
     "output_type": "execute_result"
    }
   ],
   "source": [
    "df.shape"
   ]
  },
  {
   "cell_type": "code",
   "execution_count": 9,
   "metadata": {
    "_cell_guid": "590a5146-c659-43ed-bfb4-7bea32672932",
    "_uuid": "d70396f915861568607ee204c4ff4574f80d5bdc"
   },
   "outputs": [
    {
     "data": {
      "text/plain": [
       "Fully Paid     0.793758\n",
       "Charged Off    0.206242\n",
       "Name: loan_status, dtype: float64"
      ]
     },
     "execution_count": 9,
     "metadata": {},
     "output_type": "execute_result"
    }
   ],
   "source": [
    "df['loan_status'].value_counts(normalize=True)"
   ]
  },
  {
   "cell_type": "markdown",
   "metadata": {
    "_cell_guid": "c44aa6b1-041a-490e-8f64-81d010b1bf4a",
    "_uuid": "715d0aed4051332c5f32f35142e130e7da555150"
   },
   "source": [
    "About 79% of the loans have been fully paid, and 21% have been charged off."
   ]
  },
  {
   "cell_type": "markdown",
   "metadata": {
    "_cell_guid": "c44aa6b1-041a-490e-8f64-81d010b1bf4a",
    "_uuid": "715d0aed4051332c5f32f35142e130e7da555150"
   },
   "source": [
    "Let's convert the `loan_status` column to a binary `charged_off` column."
   ]
  },
  {
   "cell_type": "code",
   "execution_count": 10,
   "metadata": {
    "_cell_guid": "6bc0595b-4ead-4fdc-8161-13b4242406cc",
    "_uuid": "b195f4be2c6a2b0b01b6593f22a244a5e325ee9c"
   },
   "outputs": [],
   "source": [
    "df['loan_status'] = df['loan_status'].isin(['Charged Off'])"
   ]
  },
  {
   "cell_type": "code",
   "execution_count": 11,
   "metadata": {
    "_cell_guid": "c17354aa-e37d-4ba3-9e6d-a5c0e084399c",
    "_uuid": "db75f04efff6ab82d8564beb220580902c48327d"
   },
   "outputs": [
    {
     "data": {
      "text/plain": [
       "False    0.793758\n",
       "True     0.206242\n",
       "Name: loan_status, dtype: float64"
      ]
     },
     "execution_count": 11,
     "metadata": {},
     "output_type": "execute_result"
    }
   ],
   "source": [
    "df['loan_status'].value_counts(normalize=True, dropna=False)"
   ]
  },
  {
   "cell_type": "markdown",
   "metadata": {
    "_cell_guid": "5e0f1a69-b7b9-43cb-8d87-143a1c49f952",
    "_uuid": "1b6c365e025f1566511b87f886d1c618b36355d7"
   },
   "source": [
    "Rename the `loan_status` column to `charged_off`."
   ]
  },
  {
   "cell_type": "code",
   "execution_count": 12,
   "metadata": {
    "_cell_guid": "ea64d8bf-57db-4bc9-bb27-b992b272ffc7",
    "_uuid": "60022360aa67506e30b75b940d5e708389ba3e9b"
   },
   "outputs": [],
   "source": [
    "df.rename(columns={'loan_status':'charged_off'}, inplace=True)"
   ]
  },
  {
   "cell_type": "markdown",
   "metadata": {
    "_cell_guid": "fd09e5bd-3941-4152-8c5f-8471b33b2bc9",
    "_uuid": "6919d1676261dd95646f70b93d64256bc0a3e8f8"
   },
   "source": [
    "Our target variable is ready to go. We have two classes to try to predict."
   ]
  },
  {
   "cell_type": "markdown",
   "metadata": {
    "_cell_guid": "a6220e50-5df9-427a-a92b-5e6138234fb9",
    "_uuid": "34206dc6425cbf3c744c23006e6b10f522777a9d"
   },
   "source": [
    "# Feature Selection\n",
    "<a id=\"4\"></a>"
   ]
  },
  {
   "cell_type": "markdown",
   "metadata": {
    "_cell_guid": "89f9038c-fb12-46e9-9136-5f5e0a81d2bb",
    "_uuid": "a0a000e470b72a6128fc3ec216e181ab4ccc3809"
   },
   "source": [
    "The dataset has 150 features, but we won't be using all the features to predict the loan status.\n",
    "\n",
    "Definitions of the columns are given in the Lending Club \"Data Dictionary\" [available here](https://www.lendingclub.com/info/download-data.action)."
   ]
  },
  {
   "cell_type": "markdown",
   "metadata": {},
   "source": [
    "First let's locate columns with missing data:"
   ]
  },
  {
   "cell_type": "markdown",
   "metadata": {},
   "source": [
    "## Missing Data"
   ]
  },
  {
   "cell_type": "code",
   "execution_count": 13,
   "metadata": {},
   "outputs": [],
   "source": [
    "def incomplete_cols(df):\n",
    "    cmp = df.notnull().mean().sort_values()\n",
    "    return cmp.loc[cmp<1]"
   ]
  },
  {
   "cell_type": "code",
   "execution_count": 17,
   "metadata": {
    "scrolled": true
   },
   "outputs": [
    {
     "data": {
      "text/plain": [
       "member_id                                     0.000000\n",
       "next_pymnt_d                                  0.000000\n",
       "orig_projected_additional_accrued_interest    0.000124\n",
       "sec_app_mths_since_last_major_derog           0.000372\n",
       "hardship_status                               0.000725\n",
       "hardship_end_date                             0.000725\n",
       "payment_plan_start_date                       0.000725\n",
       "hardship_length                               0.000725\n",
       "hardship_dpd                                  0.000725\n",
       "hardship_start_date                           0.000725\n",
       "hardship_amount                               0.000725\n",
       "hardship_payoff_balance_amount                0.000725\n",
       "hardship_last_payment_amount                  0.000725\n",
       "hardship_reason                               0.000725\n",
       "hardship_type                                 0.000725\n",
       "hardship_loan_status                          0.000725\n",
       "deferral_term                                 0.000725\n",
       "sec_app_revol_util                            0.001081\n",
       "sec_app_fico_range_high                       0.001102\n",
       "sec_app_fico_range_low                        0.001102\n",
       "revol_bal_joint                               0.001102\n",
       "sec_app_collections_12_mths_ex_med            0.001102\n",
       "sec_app_chargeoff_within_12_mths              0.001102\n",
       "sec_app_num_rev_accts                         0.001102\n",
       "sec_app_open_act_il                           0.001102\n",
       "sec_app_earliest_cr_line                      0.001102\n",
       "sec_app_open_acc                              0.001102\n",
       "sec_app_mort_acc                              0.001102\n",
       "sec_app_inq_last_6mths                        0.001102\n",
       "verification_status_joint                     0.004637\n",
       "annual_inc_joint                              0.004637\n",
       "dti_joint                                     0.004637\n",
       "settlement_amount                             0.015546\n",
       "settlement_date                               0.015546\n",
       "settlement_percentage                         0.015546\n",
       "settlement_term                               0.015546\n",
       "settlement_status                             0.015546\n",
       "debt_settlement_flag_date                     0.015546\n",
       "desc                                          0.146913\n",
       "mths_since_last_record                        0.164600\n",
       "il_util                                       0.190087\n",
       "mths_since_rcnt_il                            0.212600\n",
       "all_util                                      0.217443\n",
       "open_acc_6m                                   0.217456\n",
       "total_cu_tl                                   0.217456\n",
       "inq_last_12m                                  0.217456\n",
       "open_il_24m                                   0.217458\n",
       "open_il_12m                                   0.217458\n",
       "open_act_il                                   0.217458\n",
       "total_bal_il                                  0.217458\n",
       "open_rv_24m                                   0.217458\n",
       "max_bal_bc                                    0.217458\n",
       "open_rv_12m                                   0.217458\n",
       "inq_fi                                        0.217458\n",
       "mths_since_recent_bc_dlq                      0.232597\n",
       "mths_since_last_major_derog                   0.252047\n",
       "mths_since_recent_revol_delinq                0.325970\n",
       "mths_since_last_delinq                        0.488125\n",
       "mths_since_recent_inq                         0.855567\n",
       "num_tl_120dpd_2m                              0.885586\n",
       "mo_sin_old_il_acct                            0.890110\n",
       "pct_tl_nvr_dlq                                0.916975\n",
       "avg_cur_bal                                   0.917129\n",
       "num_rev_accts                                 0.917142\n",
       "mo_sin_rcnt_rev_tl_op                         0.917142\n",
       "mo_sin_old_rev_tl_op                          0.917142\n",
       "num_accts_ever_120_pd                         0.917143\n",
       "total_rev_hi_lim                              0.917143\n",
       "num_actv_rev_tl                               0.917143\n",
       "num_actv_bc_tl                                0.917143\n",
       "num_il_tl                                     0.917143\n",
       "mo_sin_rcnt_tl                                0.917143\n",
       "num_op_rev_tl                                 0.917143\n",
       "num_rev_tl_bal_gt_0                           0.917143\n",
       "num_tl_30dpd                                  0.917143\n",
       "num_tl_90g_dpd_24m                            0.917143\n",
       "num_tl_op_past_12m                            0.917143\n",
       "tot_cur_bal                                   0.917143\n",
       "tot_coll_amt                                  0.917143\n",
       "tot_hi_cred_lim                               0.917143\n",
       "total_il_high_credit_limit                    0.917143\n",
       "num_bc_tl                                     0.917143\n",
       "num_bc_sats                                   0.931482\n",
       "num_sats                                      0.931482\n",
       "bc_util                                       0.931698\n",
       "percent_bc_gt_75                              0.931958\n",
       "bc_open_to_buy                                0.932298\n",
       "mths_since_recent_bc                          0.933032\n",
       "emp_title                                     0.940403\n",
       "acc_open_past_24mths                          0.941986\n",
       "total_bc_limit                                0.941986\n",
       "total_bal_ex_mort                             0.941986\n",
       "mort_acc                                      0.941986\n",
       "emp_length                                    0.948155\n",
       "title                                         0.990284\n",
       "last_pymnt_d                                  0.998198\n",
       "pub_rec_bankruptcies                          0.999145\n",
       "revol_util                                    0.999399\n",
       "chargeoff_within_12_mths                      0.999931\n",
       "collections_12_mths_ex_med                    0.999931\n",
       "last_credit_pull_d                            0.999952\n",
       "tax_liens                                     0.999952\n",
       "dti                                           0.999956\n",
       "inq_last_6mths                                0.999999\n",
       "dtype: float64"
      ]
     },
     "execution_count": 17,
     "metadata": {},
     "output_type": "execute_result"
    }
   ],
   "source": [
    "incomplete_cols(df) # Fraction of non-null values"
   ]
  },
  {
   "cell_type": "markdown",
   "metadata": {},
   "source": [
    "There are LOTS of features with missing data."
   ]
  },
  {
   "cell_type": "markdown",
   "metadata": {
    "_cell_guid": "033676d1-c042-4af2-a41c-1f49d678d03f",
    "_uuid": "6d374ac8147274a76355bbeca958bbcf6ebb1de4"
   },
   "source": [
    "## Drop features that have >30% missing data\n",
    "<a id=\"4.2\"></a>"
   ]
  },
  {
   "cell_type": "markdown",
   "metadata": {},
   "source": [
    "Find the features to drop:"
   ]
  },
  {
   "cell_type": "code",
   "execution_count": 18,
   "metadata": {
    "_cell_guid": "b2bccd07-6308-4d83-b45a-de8ade091106",
    "_uuid": "dd01b28cdf204ed38fa2d7123254fe9dd5f62c87",
    "scrolled": true
   },
   "outputs": [
    {
     "data": {
      "text/plain": [
       "['member_id',\n",
       " 'desc',\n",
       " 'mths_since_last_delinq',\n",
       " 'mths_since_last_record',\n",
       " 'next_pymnt_d',\n",
       " 'mths_since_last_major_derog',\n",
       " 'annual_inc_joint',\n",
       " 'dti_joint',\n",
       " 'verification_status_joint',\n",
       " 'open_acc_6m',\n",
       " 'open_act_il',\n",
       " 'open_il_12m',\n",
       " 'open_il_24m',\n",
       " 'mths_since_rcnt_il',\n",
       " 'total_bal_il',\n",
       " 'il_util',\n",
       " 'open_rv_12m',\n",
       " 'open_rv_24m',\n",
       " 'max_bal_bc',\n",
       " 'all_util',\n",
       " 'inq_fi',\n",
       " 'total_cu_tl',\n",
       " 'inq_last_12m',\n",
       " 'mths_since_recent_bc_dlq',\n",
       " 'mths_since_recent_revol_delinq',\n",
       " 'revol_bal_joint',\n",
       " 'sec_app_fico_range_low',\n",
       " 'sec_app_fico_range_high',\n",
       " 'sec_app_earliest_cr_line',\n",
       " 'sec_app_inq_last_6mths',\n",
       " 'sec_app_mort_acc',\n",
       " 'sec_app_open_acc',\n",
       " 'sec_app_revol_util',\n",
       " 'sec_app_open_act_il',\n",
       " 'sec_app_num_rev_accts',\n",
       " 'sec_app_chargeoff_within_12_mths',\n",
       " 'sec_app_collections_12_mths_ex_med',\n",
       " 'sec_app_mths_since_last_major_derog',\n",
       " 'hardship_type',\n",
       " 'hardship_reason',\n",
       " 'hardship_status',\n",
       " 'deferral_term',\n",
       " 'hardship_amount',\n",
       " 'hardship_start_date',\n",
       " 'hardship_end_date',\n",
       " 'payment_plan_start_date',\n",
       " 'hardship_length',\n",
       " 'hardship_dpd',\n",
       " 'hardship_loan_status',\n",
       " 'orig_projected_additional_accrued_interest',\n",
       " 'hardship_payoff_balance_amount',\n",
       " 'hardship_last_payment_amount',\n",
       " 'debt_settlement_flag_date',\n",
       " 'settlement_status',\n",
       " 'settlement_date',\n",
       " 'settlement_amount',\n",
       " 'settlement_percentage',\n",
       " 'settlement_term']"
      ]
     },
     "execution_count": 18,
     "metadata": {},
     "output_type": "execute_result"
    }
   ],
   "source": [
    "drop_list = []\n",
    "for col in df.columns:\n",
    "    if df[col].isnull().mean() > 0.3:\n",
    "        drop_list.append(col)\n",
    "\n",
    "drop_list"
   ]
  },
  {
   "cell_type": "markdown",
   "metadata": {
    "_cell_guid": "7fcfae32-fdf5-42af-a14a-0b797c17b034",
    "_uuid": "4477765ea99a243a25421550ff4087b68fc6fa1b"
   },
   "source": [
    "Drop these columns."
   ]
  },
  {
   "cell_type": "code",
   "execution_count": 19,
   "metadata": {
    "_cell_guid": "f970dbae-c67e-4c08-9d86-26d3eba0baf6",
    "_uuid": "483385386b944a572c261fd3c7c3c91e37bb0111"
   },
   "outputs": [
    {
     "data": {
      "text/plain": [
       "(814986, 150)"
      ]
     },
     "execution_count": 19,
     "metadata": {},
     "output_type": "execute_result"
    }
   ],
   "source": [
    "df.shape"
   ]
  },
  {
   "cell_type": "code",
   "execution_count": 20,
   "metadata": {
    "_cell_guid": "876333ef-2b06-4fa8-b74f-4d9a59f8b2d6",
    "_uuid": "ea1d37e6b2b661cb6aed42a2929b2113f493fce6"
   },
   "outputs": [],
   "source": [
    "df.drop(labels=drop_list, axis=1, inplace=True)"
   ]
  },
  {
   "cell_type": "code",
   "execution_count": 21,
   "metadata": {
    "_cell_guid": "67fad293-bc4c-4126-b753-0c266c20d639",
    "_uuid": "653d8aafd7048bfdf428338be189d6b317079f5f"
   },
   "outputs": [
    {
     "data": {
      "text/plain": [
       "(814986, 92)"
      ]
     },
     "execution_count": 21,
     "metadata": {},
     "output_type": "execute_result"
    }
   ],
   "source": [
    "df.shape"
   ]
  },
  {
   "cell_type": "markdown",
   "metadata": {
    "_cell_guid": "005d0c15-2687-4121-a1a5-fb976d0785b9",
    "_uuid": "ff18d981d951ab063b7de99fdc1f410776c5ae53"
   },
   "source": [
    "## Remove irrelevant features\n",
    "<a id=\"4.3\"></a>"
   ]
  },
  {
   "cell_type": "markdown",
   "metadata": {
    "_cell_guid": "3c7faa78-a1f5-40fb-98e5-af7930c95d02",
    "_uuid": "5957f341fdc91568b3e5ef935c9677c93516c480"
   },
   "source": [
    "Let's drop some features that we don't think will be useful for predicting the loan status:"
   ]
  },
  {
   "cell_type": "code",
   "execution_count": 22,
   "metadata": {
    "_cell_guid": "6f398be9-0a45-4abc-9e50-ba3d8cca3655",
    "_uuid": "019a40648e082ecbf830828ca8617c3e74cdfb73"
   },
   "outputs": [
    {
     "data": {
      "text/plain": [
       "(814986, 92)"
      ]
     },
     "execution_count": 22,
     "metadata": {},
     "output_type": "execute_result"
    }
   ],
   "source": [
    "df.shape"
   ]
  },
  {
   "cell_type": "code",
   "execution_count": 23,
   "metadata": {
    "_cell_guid": "498805f3-a738-4493-97f7-d1089a630260",
    "_uuid": "e39264c8789579219bd1fc0f50b3beef392efc50"
   },
   "outputs": [],
   "source": [
    "df.drop(labels=['id', 'emp_title', 'title', 'issue_d', 'last_credit_pull_d', 'earliest_cr_line'], axis=1, inplace=True)"
   ]
  },
  {
   "cell_type": "code",
   "execution_count": 24,
   "metadata": {
    "_cell_guid": "0ac1ac85-b02d-45df-aae0-c465be793f66",
    "_uuid": "52704d043e424771bf5300cb63e8d692fffc7e8d"
   },
   "outputs": [
    {
     "data": {
      "text/plain": [
       "(814986, 86)"
      ]
     },
     "execution_count": 24,
     "metadata": {},
     "output_type": "execute_result"
    }
   ],
   "source": [
    "df.shape"
   ]
  },
  {
   "cell_type": "markdown",
   "metadata": {
    "_cell_guid": "33b90b6b-0fcd-4657-ae11-0ff2f6a95823",
    "_uuid": "4066be79385b7b0c6b7d4f96533106093304b746"
   },
   "source": [
    "## Remove features that could make predictions too easy\n",
    "<a id=\"4.4\"></a>"
   ]
  },
  {
   "cell_type": "markdown",
   "metadata": {
    "_cell_guid": "eeca4f72-9f43-41f6-b616-2a774a80241c",
    "_uuid": "d06b13c0421fa20ea98a295341384d09d7783aa4"
   },
   "source": [
    "Some features might perfectly predict the loan status. For example, if `debt_settlement_flag` is 'Y', this implies that the borrower charged off. Also, if `total_pymnt` is greater than `loan_amnt`, and similarly for interest and fee payment features, then the loan must be paid off. Let's remove these columns so that predicting charge-offs isn't trivially simple."
   ]
  },
  {
   "cell_type": "code",
   "execution_count": 25,
   "metadata": {
    "_cell_guid": "bf02966a-485a-4fe2-9d8e-f5533b026c92",
    "_uuid": "018934ea475eb17391210a534ec91dc3f8823a84"
   },
   "outputs": [
    {
     "data": {
      "text/plain": [
       "(814986, 86)"
      ]
     },
     "execution_count": 25,
     "metadata": {},
     "output_type": "execute_result"
    }
   ],
   "source": [
    "df.shape"
   ]
  },
  {
   "cell_type": "code",
   "execution_count": 26,
   "metadata": {
    "_cell_guid": "395ba998-45d7-491f-a7a0-0e437faf85f2",
    "_uuid": "bef17f20d165af9c300243b637d95bf65a552084"
   },
   "outputs": [],
   "source": [
    "df.drop(labels=['collection_recovery_fee', 'debt_settlement_flag', 'last_pymnt_amnt', 'last_pymnt_d', 'recoveries', 'total_pymnt', 'total_pymnt_inv', 'total_rec_int', 'total_rec_late_fee', 'total_rec_prncp'], axis=1, inplace=True)"
   ]
  },
  {
   "cell_type": "code",
   "execution_count": 27,
   "metadata": {
    "_cell_guid": "994ff4b1-9e2e-427a-a464-382d42c2611c",
    "_uuid": "96284db153aaff8cbb0bea1a609b1477f00e0bc7"
   },
   "outputs": [
    {
     "data": {
      "text/plain": [
       "(814986, 76)"
      ]
     },
     "execution_count": 27,
     "metadata": {},
     "output_type": "execute_result"
    }
   ],
   "source": [
    "df.shape"
   ]
  },
  {
   "cell_type": "markdown",
   "metadata": {
    "_cell_guid": "1fccc348-6582-464a-8857-7944f5316954",
    "_uuid": "82e28e93690b55e5bbd6a46e163d93028eca5538"
   },
   "source": [
    "## Inspect non-numerical features\n",
    "<a id=\"4.5\"></a>"
   ]
  },
  {
   "cell_type": "markdown",
   "metadata": {
    "_cell_guid": "d638c626-6e5e-42af-a75b-7d839edc4717",
    "_uuid": "7df157e16c1f4a6c0ea180bb452336c96064f5e1"
   },
   "source": [
    "We're going to inspect features of type `object`, i.e. text data."
   ]
  },
  {
   "cell_type": "code",
   "execution_count": 28,
   "metadata": {
    "_cell_guid": "550efede-0bd4-4b8e-9ec7-99a36da33580",
    "_uuid": "a19ba5766eae9aef2c1cd7d6cfba80d42f0c445f"
   },
   "outputs": [
    {
     "data": {
      "text/html": [
       "<div>\n",
       "<style scoped>\n",
       "    .dataframe tbody tr th:only-of-type {\n",
       "        vertical-align: middle;\n",
       "    }\n",
       "\n",
       "    .dataframe tbody tr th {\n",
       "        vertical-align: top;\n",
       "    }\n",
       "\n",
       "    .dataframe thead th {\n",
       "        text-align: right;\n",
       "    }\n",
       "</style>\n",
       "<table border=\"1\" class=\"dataframe\">\n",
       "  <thead>\n",
       "    <tr style=\"text-align: right;\">\n",
       "      <th></th>\n",
       "      <th>loan_amnt</th>\n",
       "      <th>funded_amnt</th>\n",
       "      <th>funded_amnt_inv</th>\n",
       "      <th>term</th>\n",
       "      <th>int_rate</th>\n",
       "      <th>installment</th>\n",
       "      <th>grade</th>\n",
       "      <th>sub_grade</th>\n",
       "      <th>emp_length</th>\n",
       "      <th>home_ownership</th>\n",
       "      <th>annual_inc</th>\n",
       "      <th>verification_status</th>\n",
       "      <th>charged_off</th>\n",
       "      <th>pymnt_plan</th>\n",
       "      <th>purpose</th>\n",
       "      <th>zip_code</th>\n",
       "      <th>addr_state</th>\n",
       "      <th>dti</th>\n",
       "      <th>delinq_2yrs</th>\n",
       "      <th>fico_range_low</th>\n",
       "      <th>fico_range_high</th>\n",
       "      <th>inq_last_6mths</th>\n",
       "      <th>open_acc</th>\n",
       "      <th>pub_rec</th>\n",
       "      <th>revol_bal</th>\n",
       "      <th>revol_util</th>\n",
       "      <th>total_acc</th>\n",
       "      <th>initial_list_status</th>\n",
       "      <th>out_prncp</th>\n",
       "      <th>out_prncp_inv</th>\n",
       "      <th>last_fico_range_high</th>\n",
       "      <th>last_fico_range_low</th>\n",
       "      <th>collections_12_mths_ex_med</th>\n",
       "      <th>policy_code</th>\n",
       "      <th>application_type</th>\n",
       "      <th>acc_now_delinq</th>\n",
       "      <th>tot_coll_amt</th>\n",
       "      <th>tot_cur_bal</th>\n",
       "      <th>total_rev_hi_lim</th>\n",
       "      <th>acc_open_past_24mths</th>\n",
       "      <th>avg_cur_bal</th>\n",
       "      <th>bc_open_to_buy</th>\n",
       "      <th>bc_util</th>\n",
       "      <th>chargeoff_within_12_mths</th>\n",
       "      <th>delinq_amnt</th>\n",
       "      <th>mo_sin_old_il_acct</th>\n",
       "      <th>mo_sin_old_rev_tl_op</th>\n",
       "      <th>mo_sin_rcnt_rev_tl_op</th>\n",
       "      <th>mo_sin_rcnt_tl</th>\n",
       "      <th>mort_acc</th>\n",
       "      <th>mths_since_recent_bc</th>\n",
       "      <th>mths_since_recent_inq</th>\n",
       "      <th>num_accts_ever_120_pd</th>\n",
       "      <th>num_actv_bc_tl</th>\n",
       "      <th>num_actv_rev_tl</th>\n",
       "      <th>num_bc_sats</th>\n",
       "      <th>num_bc_tl</th>\n",
       "      <th>num_il_tl</th>\n",
       "      <th>num_op_rev_tl</th>\n",
       "      <th>num_rev_accts</th>\n",
       "      <th>num_rev_tl_bal_gt_0</th>\n",
       "      <th>num_sats</th>\n",
       "      <th>num_tl_120dpd_2m</th>\n",
       "      <th>num_tl_30dpd</th>\n",
       "      <th>num_tl_90g_dpd_24m</th>\n",
       "      <th>num_tl_op_past_12m</th>\n",
       "      <th>pct_tl_nvr_dlq</th>\n",
       "      <th>percent_bc_gt_75</th>\n",
       "      <th>pub_rec_bankruptcies</th>\n",
       "      <th>tax_liens</th>\n",
       "      <th>tot_hi_cred_lim</th>\n",
       "      <th>total_bal_ex_mort</th>\n",
       "      <th>total_bc_limit</th>\n",
       "      <th>total_il_high_credit_limit</th>\n",
       "      <th>hardship_flag</th>\n",
       "      <th>disbursement_method</th>\n",
       "    </tr>\n",
       "  </thead>\n",
       "  <tbody>\n",
       "    <tr>\n",
       "      <th>842569</th>\n",
       "      <td>21000.0</td>\n",
       "      <td>21000.0</td>\n",
       "      <td>21000.0</td>\n",
       "      <td>36 months</td>\n",
       "      <td>14.30</td>\n",
       "      <td>720.80</td>\n",
       "      <td>C</td>\n",
       "      <td>C1</td>\n",
       "      <td>10+ years</td>\n",
       "      <td>MORTGAGE</td>\n",
       "      <td>58600.0</td>\n",
       "      <td>Source Verified</td>\n",
       "      <td>False</td>\n",
       "      <td>n</td>\n",
       "      <td>credit_card</td>\n",
       "      <td>243xx</td>\n",
       "      <td>VA</td>\n",
       "      <td>30.45</td>\n",
       "      <td>0.0</td>\n",
       "      <td>670.0</td>\n",
       "      <td>674.0</td>\n",
       "      <td>0.0</td>\n",
       "      <td>14.0</td>\n",
       "      <td>0.0</td>\n",
       "      <td>32914.0</td>\n",
       "      <td>92.2</td>\n",
       "      <td>36.0</td>\n",
       "      <td>f</td>\n",
       "      <td>0.0</td>\n",
       "      <td>0.0</td>\n",
       "      <td>804.0</td>\n",
       "      <td>800.0</td>\n",
       "      <td>0.0</td>\n",
       "      <td>1.0</td>\n",
       "      <td>Individual</td>\n",
       "      <td>0.0</td>\n",
       "      <td>0.0</td>\n",
       "      <td>76191.0</td>\n",
       "      <td>35700.0</td>\n",
       "      <td>3.0</td>\n",
       "      <td>5442.0</td>\n",
       "      <td>1145.0</td>\n",
       "      <td>93.3</td>\n",
       "      <td>0.0</td>\n",
       "      <td>0.0</td>\n",
       "      <td>143.0</td>\n",
       "      <td>473.0</td>\n",
       "      <td>23.0</td>\n",
       "      <td>5.0</td>\n",
       "      <td>1.0</td>\n",
       "      <td>23.0</td>\n",
       "      <td>24.0</td>\n",
       "      <td>0.0</td>\n",
       "      <td>7.0</td>\n",
       "      <td>10.0</td>\n",
       "      <td>8.0</td>\n",
       "      <td>16.0</td>\n",
       "      <td>15.0</td>\n",
       "      <td>11.0</td>\n",
       "      <td>20.0</td>\n",
       "      <td>10.0</td>\n",
       "      <td>14.0</td>\n",
       "      <td>0.0</td>\n",
       "      <td>0.0</td>\n",
       "      <td>0.0</td>\n",
       "      <td>1.0</td>\n",
       "      <td>97.0</td>\n",
       "      <td>87.5</td>\n",
       "      <td>0.0</td>\n",
       "      <td>0.0</td>\n",
       "      <td>105664.0</td>\n",
       "      <td>45440.0</td>\n",
       "      <td>17200.0</td>\n",
       "      <td>18221.0</td>\n",
       "      <td>N</td>\n",
       "      <td>Cash</td>\n",
       "    </tr>\n",
       "    <tr>\n",
       "      <th>935456</th>\n",
       "      <td>6400.0</td>\n",
       "      <td>6400.0</td>\n",
       "      <td>6400.0</td>\n",
       "      <td>36 months</td>\n",
       "      <td>13.11</td>\n",
       "      <td>215.99</td>\n",
       "      <td>B</td>\n",
       "      <td>B4</td>\n",
       "      <td>5 years</td>\n",
       "      <td>MORTGAGE</td>\n",
       "      <td>37000.0</td>\n",
       "      <td>Not Verified</td>\n",
       "      <td>False</td>\n",
       "      <td>n</td>\n",
       "      <td>debt_consolidation</td>\n",
       "      <td>448xx</td>\n",
       "      <td>OH</td>\n",
       "      <td>19.78</td>\n",
       "      <td>0.0</td>\n",
       "      <td>710.0</td>\n",
       "      <td>714.0</td>\n",
       "      <td>1.0</td>\n",
       "      <td>10.0</td>\n",
       "      <td>0.0</td>\n",
       "      <td>6146.0</td>\n",
       "      <td>36.6</td>\n",
       "      <td>18.0</td>\n",
       "      <td>w</td>\n",
       "      <td>0.0</td>\n",
       "      <td>0.0</td>\n",
       "      <td>714.0</td>\n",
       "      <td>710.0</td>\n",
       "      <td>0.0</td>\n",
       "      <td>1.0</td>\n",
       "      <td>Individual</td>\n",
       "      <td>0.0</td>\n",
       "      <td>0.0</td>\n",
       "      <td>105863.0</td>\n",
       "      <td>16800.0</td>\n",
       "      <td>5.0</td>\n",
       "      <td>10586.0</td>\n",
       "      <td>8558.0</td>\n",
       "      <td>33.7</td>\n",
       "      <td>0.0</td>\n",
       "      <td>0.0</td>\n",
       "      <td>29.0</td>\n",
       "      <td>87.0</td>\n",
       "      <td>6.0</td>\n",
       "      <td>6.0</td>\n",
       "      <td>2.0</td>\n",
       "      <td>6.0</td>\n",
       "      <td>4.0</td>\n",
       "      <td>0.0</td>\n",
       "      <td>4.0</td>\n",
       "      <td>6.0</td>\n",
       "      <td>6.0</td>\n",
       "      <td>7.0</td>\n",
       "      <td>3.0</td>\n",
       "      <td>8.0</td>\n",
       "      <td>13.0</td>\n",
       "      <td>6.0</td>\n",
       "      <td>10.0</td>\n",
       "      <td>0.0</td>\n",
       "      <td>0.0</td>\n",
       "      <td>0.0</td>\n",
       "      <td>2.0</td>\n",
       "      <td>100.0</td>\n",
       "      <td>0.0</td>\n",
       "      <td>0.0</td>\n",
       "      <td>0.0</td>\n",
       "      <td>122581.0</td>\n",
       "      <td>29160.0</td>\n",
       "      <td>12900.0</td>\n",
       "      <td>26781.0</td>\n",
       "      <td>N</td>\n",
       "      <td>Cash</td>\n",
       "    </tr>\n",
       "    <tr>\n",
       "      <th>720710</th>\n",
       "      <td>1000.0</td>\n",
       "      <td>1000.0</td>\n",
       "      <td>1000.0</td>\n",
       "      <td>36 months</td>\n",
       "      <td>7.21</td>\n",
       "      <td>30.98</td>\n",
       "      <td>A</td>\n",
       "      <td>A3</td>\n",
       "      <td>&lt; 1 year</td>\n",
       "      <td>RENT</td>\n",
       "      <td>24000.0</td>\n",
       "      <td>Not Verified</td>\n",
       "      <td>False</td>\n",
       "      <td>n</td>\n",
       "      <td>other</td>\n",
       "      <td>946xx</td>\n",
       "      <td>CA</td>\n",
       "      <td>19.70</td>\n",
       "      <td>0.0</td>\n",
       "      <td>710.0</td>\n",
       "      <td>714.0</td>\n",
       "      <td>0.0</td>\n",
       "      <td>7.0</td>\n",
       "      <td>0.0</td>\n",
       "      <td>3738.0</td>\n",
       "      <td>22.5</td>\n",
       "      <td>21.0</td>\n",
       "      <td>w</td>\n",
       "      <td>0.0</td>\n",
       "      <td>0.0</td>\n",
       "      <td>649.0</td>\n",
       "      <td>645.0</td>\n",
       "      <td>0.0</td>\n",
       "      <td>1.0</td>\n",
       "      <td>Individual</td>\n",
       "      <td>0.0</td>\n",
       "      <td>0.0</td>\n",
       "      <td>82561.0</td>\n",
       "      <td>16600.0</td>\n",
       "      <td>4.0</td>\n",
       "      <td>11794.0</td>\n",
       "      <td>12862.0</td>\n",
       "      <td>22.5</td>\n",
       "      <td>0.0</td>\n",
       "      <td>0.0</td>\n",
       "      <td>93.0</td>\n",
       "      <td>59.0</td>\n",
       "      <td>1.0</td>\n",
       "      <td>1.0</td>\n",
       "      <td>0.0</td>\n",
       "      <td>1.0</td>\n",
       "      <td>NaN</td>\n",
       "      <td>0.0</td>\n",
       "      <td>2.0</td>\n",
       "      <td>2.0</td>\n",
       "      <td>4.0</td>\n",
       "      <td>4.0</td>\n",
       "      <td>14.0</td>\n",
       "      <td>4.0</td>\n",
       "      <td>7.0</td>\n",
       "      <td>2.0</td>\n",
       "      <td>7.0</td>\n",
       "      <td>0.0</td>\n",
       "      <td>0.0</td>\n",
       "      <td>0.0</td>\n",
       "      <td>2.0</td>\n",
       "      <td>100.0</td>\n",
       "      <td>25.0</td>\n",
       "      <td>0.0</td>\n",
       "      <td>0.0</td>\n",
       "      <td>95375.0</td>\n",
       "      <td>82561.0</td>\n",
       "      <td>16600.0</td>\n",
       "      <td>78775.0</td>\n",
       "      <td>N</td>\n",
       "      <td>Cash</td>\n",
       "    </tr>\n",
       "  </tbody>\n",
       "</table>\n",
       "</div>"
      ],
      "text/plain": [
       "        loan_amnt  funded_amnt  funded_amnt_inv        term  int_rate  \\\n",
       "842569    21000.0      21000.0          21000.0   36 months     14.30   \n",
       "935456     6400.0       6400.0           6400.0   36 months     13.11   \n",
       "720710     1000.0       1000.0           1000.0   36 months      7.21   \n",
       "\n",
       "        installment grade sub_grade emp_length home_ownership  annual_inc  \\\n",
       "842569       720.80     C        C1  10+ years       MORTGAGE     58600.0   \n",
       "935456       215.99     B        B4    5 years       MORTGAGE     37000.0   \n",
       "720710        30.98     A        A3   < 1 year           RENT     24000.0   \n",
       "\n",
       "       verification_status  charged_off pymnt_plan             purpose  \\\n",
       "842569     Source Verified        False          n         credit_card   \n",
       "935456        Not Verified        False          n  debt_consolidation   \n",
       "720710        Not Verified        False          n               other   \n",
       "\n",
       "       zip_code addr_state    dti  delinq_2yrs  fico_range_low  \\\n",
       "842569    243xx         VA  30.45          0.0           670.0   \n",
       "935456    448xx         OH  19.78          0.0           710.0   \n",
       "720710    946xx         CA  19.70          0.0           710.0   \n",
       "\n",
       "        fico_range_high  inq_last_6mths  open_acc  pub_rec  revol_bal  \\\n",
       "842569            674.0             0.0      14.0      0.0    32914.0   \n",
       "935456            714.0             1.0      10.0      0.0     6146.0   \n",
       "720710            714.0             0.0       7.0      0.0     3738.0   \n",
       "\n",
       "        revol_util  total_acc initial_list_status  out_prncp  out_prncp_inv  \\\n",
       "842569        92.2       36.0                   f        0.0            0.0   \n",
       "935456        36.6       18.0                   w        0.0            0.0   \n",
       "720710        22.5       21.0                   w        0.0            0.0   \n",
       "\n",
       "        last_fico_range_high  last_fico_range_low  collections_12_mths_ex_med  \\\n",
       "842569                 804.0                800.0                         0.0   \n",
       "935456                 714.0                710.0                         0.0   \n",
       "720710                 649.0                645.0                         0.0   \n",
       "\n",
       "        policy_code application_type  acc_now_delinq  tot_coll_amt  \\\n",
       "842569          1.0       Individual             0.0           0.0   \n",
       "935456          1.0       Individual             0.0           0.0   \n",
       "720710          1.0       Individual             0.0           0.0   \n",
       "\n",
       "        tot_cur_bal  total_rev_hi_lim  acc_open_past_24mths  avg_cur_bal  \\\n",
       "842569      76191.0           35700.0                   3.0       5442.0   \n",
       "935456     105863.0           16800.0                   5.0      10586.0   \n",
       "720710      82561.0           16600.0                   4.0      11794.0   \n",
       "\n",
       "        bc_open_to_buy  bc_util  chargeoff_within_12_mths  delinq_amnt  \\\n",
       "842569          1145.0     93.3                       0.0          0.0   \n",
       "935456          8558.0     33.7                       0.0          0.0   \n",
       "720710         12862.0     22.5                       0.0          0.0   \n",
       "\n",
       "        mo_sin_old_il_acct  mo_sin_old_rev_tl_op  mo_sin_rcnt_rev_tl_op  \\\n",
       "842569               143.0                 473.0                   23.0   \n",
       "935456                29.0                  87.0                    6.0   \n",
       "720710                93.0                  59.0                    1.0   \n",
       "\n",
       "        mo_sin_rcnt_tl  mort_acc  mths_since_recent_bc  mths_since_recent_inq  \\\n",
       "842569             5.0       1.0                  23.0                   24.0   \n",
       "935456             6.0       2.0                   6.0                    4.0   \n",
       "720710             1.0       0.0                   1.0                    NaN   \n",
       "\n",
       "        num_accts_ever_120_pd  num_actv_bc_tl  num_actv_rev_tl  num_bc_sats  \\\n",
       "842569                    0.0             7.0             10.0          8.0   \n",
       "935456                    0.0             4.0              6.0          6.0   \n",
       "720710                    0.0             2.0              2.0          4.0   \n",
       "\n",
       "        num_bc_tl  num_il_tl  num_op_rev_tl  num_rev_accts  \\\n",
       "842569       16.0       15.0           11.0           20.0   \n",
       "935456        7.0        3.0            8.0           13.0   \n",
       "720710        4.0       14.0            4.0            7.0   \n",
       "\n",
       "        num_rev_tl_bal_gt_0  num_sats  num_tl_120dpd_2m  num_tl_30dpd  \\\n",
       "842569                 10.0      14.0               0.0           0.0   \n",
       "935456                  6.0      10.0               0.0           0.0   \n",
       "720710                  2.0       7.0               0.0           0.0   \n",
       "\n",
       "        num_tl_90g_dpd_24m  num_tl_op_past_12m  pct_tl_nvr_dlq  \\\n",
       "842569                 0.0                 1.0            97.0   \n",
       "935456                 0.0                 2.0           100.0   \n",
       "720710                 0.0                 2.0           100.0   \n",
       "\n",
       "        percent_bc_gt_75  pub_rec_bankruptcies  tax_liens  tot_hi_cred_lim  \\\n",
       "842569              87.5                   0.0        0.0         105664.0   \n",
       "935456               0.0                   0.0        0.0         122581.0   \n",
       "720710              25.0                   0.0        0.0          95375.0   \n",
       "\n",
       "        total_bal_ex_mort  total_bc_limit  total_il_high_credit_limit  \\\n",
       "842569            45440.0         17200.0                     18221.0   \n",
       "935456            29160.0         12900.0                     26781.0   \n",
       "720710            82561.0         16600.0                     78775.0   \n",
       "\n",
       "       hardship_flag disbursement_method  \n",
       "842569             N                Cash  \n",
       "935456             N                Cash  \n",
       "720710             N                Cash  "
      ]
     },
     "execution_count": 28,
     "metadata": {},
     "output_type": "execute_result"
    }
   ],
   "source": [
    "df.sample(3)"
   ]
  },
  {
   "cell_type": "markdown",
   "metadata": {
    "_cell_guid": "e3636ce7-ad85-4821-9fc3-af940e32ca1c",
    "_uuid": "25b3c22ae0b86eac2200f4125a9c45c044e94193"
   },
   "source": [
    "Which columns have text data?"
   ]
  },
  {
   "cell_type": "code",
   "execution_count": 29,
   "metadata": {
    "_cell_guid": "3868bffe-5a2a-41c8-8372-717982afe0d1",
    "_uuid": "7031a2b5f456d5824e6025f8ca1d3a1ad242adab"
   },
   "outputs": [
    {
     "data": {
      "text/plain": [
       "['term',\n",
       " 'grade',\n",
       " 'sub_grade',\n",
       " 'emp_length',\n",
       " 'home_ownership',\n",
       " 'verification_status',\n",
       " 'pymnt_plan',\n",
       " 'purpose',\n",
       " 'zip_code',\n",
       " 'addr_state',\n",
       " 'initial_list_status',\n",
       " 'application_type',\n",
       " 'hardship_flag',\n",
       " 'disbursement_method']"
      ]
     },
     "execution_count": 29,
     "metadata": {},
     "output_type": "execute_result"
    }
   ],
   "source": [
    "text_cols = []\n",
    "for col in df.columns:\n",
    "    if df[col].dtype == np.object:\n",
    "        text_cols.append(col)\n",
    "\n",
    "text_cols"
   ]
  },
  {
   "cell_type": "markdown",
   "metadata": {
    "_cell_guid": "8e98e8d9-9c8f-49b4-a123-4a11534454e3",
    "_uuid": "77ae6e4830589e4ee9dd0c815043300017c7fd75"
   },
   "source": [
    "### term"
   ]
  },
  {
   "cell_type": "code",
   "execution_count": 30,
   "metadata": {
    "_cell_guid": "e3559ee4-0c7c-4e29-9952-ef06f302937a",
    "_uuid": "b8fa81ef40fc0928639d94608d126039f73e3f3d"
   },
   "outputs": [
    {
     "data": {
      "text/plain": [
       " 36 months    618460\n",
       " 60 months    196526\n",
       "Name: term, dtype: int64"
      ]
     },
     "execution_count": 30,
     "metadata": {},
     "output_type": "execute_result"
    }
   ],
   "source": [
    "df['term'].value_counts(dropna=False)"
   ]
  },
  {
   "cell_type": "markdown",
   "metadata": {
    "_cell_guid": "a0a18d84-ed5f-4d4f-a377-c877a6d1be54",
    "_uuid": "7abe9deb95eb215cc2c8fa6425cc4d81bbf79bef"
   },
   "source": [
    "Convert `term` to integer values."
   ]
  },
  {
   "cell_type": "code",
   "execution_count": 31,
   "metadata": {
    "_cell_guid": "dd9462d5-673b-4dce-ae3b-61f427b1abcb",
    "_uuid": "09eed29a2d6f5e30beec07ae5d29088234c99b1c"
   },
   "outputs": [],
   "source": [
    "df['term'] = df['term'].apply(lambda s:np.int8(s[1:3])) # There's an extra space in the data for some reason"
   ]
  },
  {
   "cell_type": "code",
   "execution_count": 32,
   "metadata": {
    "_cell_guid": "dd9462d5-673b-4dce-ae3b-61f427b1abcb",
    "_uuid": "09eed29a2d6f5e30beec07ae5d29088234c99b1c"
   },
   "outputs": [
    {
     "data": {
      "text/plain": [
       "36    618460\n",
       "60    196526\n",
       "Name: term, dtype: int64"
      ]
     },
     "execution_count": 32,
     "metadata": {},
     "output_type": "execute_result"
    }
   ],
   "source": [
    "df['term'].value_counts()"
   ]
  },
  {
   "cell_type": "markdown",
   "metadata": {
    "_cell_guid": "1b745ce5-987f-45b9-8e3f-6d5f760e3a7c",
    "_uuid": "687c301f0bd5f40efdeca5307e9d0cb6a1fb6161"
   },
   "source": [
    "### grade, sub_grade"
   ]
  },
  {
   "cell_type": "code",
   "execution_count": 33,
   "metadata": {},
   "outputs": [
    {
     "data": {
      "text/plain": [
       "A    133475\n",
       "B    235225\n",
       "C    225917\n",
       "D    127665\n",
       "E     63559\n",
       "F     23112\n",
       "G      6033\n",
       "Name: grade, dtype: int64"
      ]
     },
     "execution_count": 33,
     "metadata": {},
     "output_type": "execute_result"
    }
   ],
   "source": [
    "df['grade'].value_counts().sort_index()"
   ]
  },
  {
   "cell_type": "markdown",
   "metadata": {
    "_cell_guid": "b1d34f86-4ffb-4024-ad0f-714bd5cb3f21",
    "_uuid": "efb24fbebc6a4b092a37b79e7fb6f29133d3315a"
   },
   "source": [
    "The grade is implied by the subgrade, so let's drop the grade column."
   ]
  },
  {
   "cell_type": "code",
   "execution_count": 34,
   "metadata": {
    "_cell_guid": "9c00600b-0a58-4648-9448-4e960b705eb6",
    "_uuid": "a46021ef96a484732a847ed2f3cece9d423f73ec"
   },
   "outputs": [],
   "source": [
    "df.drop(labels=['grade'], axis=1, inplace=True)"
   ]
  },
  {
   "cell_type": "markdown",
   "metadata": {
    "_cell_guid": "98efbb15-f5d7-42ef-992a-92bb0860a803",
    "_uuid": "e84911043e002622f7c181e2be71d09ac277dbc8"
   },
   "source": [
    "### emp_length"
   ]
  },
  {
   "cell_type": "code",
   "execution_count": 35,
   "metadata": {
    "_cell_guid": "a60d507b-dc0d-4e44-912e-0d214b1b85a9",
    "_uuid": "372fd175e1e4458f8a9bc860fd91798d696892be"
   },
   "outputs": [
    {
     "data": {
      "text/plain": [
       "1 year        53411\n",
       "10+ years    264873\n",
       "2 years       73493\n",
       "3 years       64999\n",
       "4 years       48752\n",
       "5 years       52149\n",
       "6 years       40290\n",
       "7 years       39407\n",
       "8 years       38887\n",
       "9 years       31900\n",
       "< 1 year      64572\n",
       "NaN           42253\n",
       "Name: emp_length, dtype: int64"
      ]
     },
     "execution_count": 35,
     "metadata": {},
     "output_type": "execute_result"
    }
   ],
   "source": [
    "df['emp_length'].value_counts(dropna=False).sort_index()"
   ]
  },
  {
   "cell_type": "markdown",
   "metadata": {
    "_cell_guid": "a0093edf-c48f-4680-8581-055c857e842f",
    "_uuid": "c05991844e80bb0af5fe0be54a01e3a822d8f2cb"
   },
   "source": [
    "Let's convert `emp_length` to floats:"
   ]
  },
  {
   "cell_type": "code",
   "execution_count": 36,
   "metadata": {
    "_cell_guid": "f5ce8306-8ca3-4a78-8332-7a12fd233f98",
    "_uuid": "fc61f2f288d38767f5fa1e3f7df5b58c7bc52a35"
   },
   "outputs": [],
   "source": [
    "def emp_conv(s):\n",
    "    try:\n",
    "        if pd.isnull(s):\n",
    "            return s\n",
    "        elif s[0] == '<':\n",
    "            return 0.0\n",
    "        elif s[:2] == '10':\n",
    "            return 10.0\n",
    "        else:\n",
    "            return float(s[0])\n",
    "    except TypeError:\n",
    "        return float(s)"
   ]
  },
  {
   "cell_type": "code",
   "execution_count": 37,
   "metadata": {
    "_cell_guid": "f5ce8306-8ca3-4a78-8332-7a12fd233f98",
    "_uuid": "fc61f2f288d38767f5fa1e3f7df5b58c7bc52a35"
   },
   "outputs": [],
   "source": [
    "df['emp_length'] = df['emp_length'].apply(lambda s: emp_conv(s))"
   ]
  },
  {
   "cell_type": "code",
   "execution_count": 38,
   "metadata": {
    "_cell_guid": "f5ce8306-8ca3-4a78-8332-7a12fd233f98",
    "_uuid": "fc61f2f288d38767f5fa1e3f7df5b58c7bc52a35"
   },
   "outputs": [
    {
     "data": {
      "text/plain": [
       " 0.0      64572\n",
       " 1.0      53411\n",
       " 2.0      73493\n",
       " 3.0      64999\n",
       " 4.0      48752\n",
       " 5.0      52149\n",
       " 6.0      40290\n",
       " 7.0      39407\n",
       " 8.0      38887\n",
       " 9.0      31900\n",
       " 10.0    264873\n",
       "NaN       42253\n",
       "Name: emp_length, dtype: int64"
      ]
     },
     "execution_count": 38,
     "metadata": {},
     "output_type": "execute_result"
    }
   ],
   "source": [
    "df['emp_length'].value_counts(dropna=False).sort_index()"
   ]
  },
  {
   "cell_type": "markdown",
   "metadata": {
    "_cell_guid": "e994c5db-880e-4ec0-8cbd-4aacad373993",
    "_uuid": "332158cff90d2e051f5a80bee5983019ada32a30"
   },
   "source": [
    "### home_ownership"
   ]
  },
  {
   "cell_type": "code",
   "execution_count": 39,
   "metadata": {
    "_cell_guid": "d574efb7-1a6b-4ec2-a446-827d75d0d9cf",
    "_uuid": "017c6be384f35a700cebfa761dbaee4ec6b73256"
   },
   "outputs": [
    {
     "data": {
      "text/plain": [
       "MORTGAGE    406866\n",
       "RENT        325071\n",
       "OWN          82765\n",
       "OTHER          144\n",
       "ANY             94\n",
       "NONE            46\n",
       "Name: home_ownership, dtype: int64"
      ]
     },
     "execution_count": 39,
     "metadata": {},
     "output_type": "execute_result"
    }
   ],
   "source": [
    "df['home_ownership'].value_counts()"
   ]
  },
  {
   "cell_type": "markdown",
   "metadata": {
    "_cell_guid": "119da036-552d-4a95-a61f-7fdd464bcf5b",
    "_uuid": "840799ab7f984830bf29f0b677f4f14b672d4253"
   },
   "source": [
    "### verification_status"
   ]
  },
  {
   "cell_type": "code",
   "execution_count": 40,
   "metadata": {
    "_cell_guid": "652e35e1-909f-4f32-94a2-836561bf4a02",
    "_uuid": "d1e800da00aea47ee7a5e2f876da9cbd66dc7947"
   },
   "outputs": [
    {
     "data": {
      "text/plain": [
       "Source Verified    293897\n",
       "Verified           269895\n",
       "Not Verified       251194\n",
       "Name: verification_status, dtype: int64"
      ]
     },
     "execution_count": 40,
     "metadata": {},
     "output_type": "execute_result"
    }
   ],
   "source": [
    "df['verification_status'].value_counts()"
   ]
  },
  {
   "cell_type": "markdown",
   "metadata": {},
   "source": [
    "### pymnt_plan"
   ]
  },
  {
   "cell_type": "code",
   "execution_count": 41,
   "metadata": {},
   "outputs": [
    {
     "data": {
      "text/plain": [
       "n    814986\n",
       "Name: pymnt_plan, dtype: int64"
      ]
     },
     "execution_count": 41,
     "metadata": {},
     "output_type": "execute_result"
    }
   ],
   "source": [
    "df['pymnt_plan'].value_counts(dropna=False)"
   ]
  },
  {
   "cell_type": "markdown",
   "metadata": {},
   "source": [
    "This feature will be removed automatically later."
   ]
  },
  {
   "cell_type": "markdown",
   "metadata": {
    "_cell_guid": "3a91aec4-9bc4-42d6-8c62-e3892a9a2754",
    "_uuid": "87124cd85754a1e6ef201217421ff2f50108cb2a"
   },
   "source": [
    "### purpose"
   ]
  },
  {
   "cell_type": "code",
   "execution_count": 42,
   "metadata": {
    "_cell_guid": "9de7d1b4-212b-4478-88a2-a3176a03e982",
    "_uuid": "5d4c3c93e59ee2cde87f4fc5487b43c555c33faf"
   },
   "outputs": [
    {
     "data": {
      "text/plain": [
       "debt_consolidation    481652\n",
       "credit_card           175123\n",
       "home_improvement       50793\n",
       "other                  43900\n",
       "major_purchase         17463\n",
       "small_business         10214\n",
       "car                     8936\n",
       "medical                 8772\n",
       "moving                  5725\n",
       "vacation                5116\n",
       "house                   4095\n",
       "wedding                 2272\n",
       "renewable_energy         599\n",
       "educational              326\n",
       "Name: purpose, dtype: int64"
      ]
     },
     "execution_count": 42,
     "metadata": {},
     "output_type": "execute_result"
    }
   ],
   "source": [
    "df['purpose'].value_counts()"
   ]
  },
  {
   "cell_type": "markdown",
   "metadata": {
    "_cell_guid": "b6908ad9-66be-4a38-8e45-bacde206e987",
    "_uuid": "f68d4795cca9861dd340a2c155c0b956ae9f53fa"
   },
   "source": [
    "### zip_code, addr_state"
   ]
  },
  {
   "cell_type": "code",
   "execution_count": 43,
   "metadata": {},
   "outputs": [
    {
     "data": {
      "text/plain": [
       "925"
      ]
     },
     "execution_count": 43,
     "metadata": {},
     "output_type": "execute_result"
    }
   ],
   "source": [
    "df['zip_code'].nunique()"
   ]
  },
  {
   "cell_type": "code",
   "execution_count": 44,
   "metadata": {},
   "outputs": [
    {
     "data": {
      "text/plain": [
       "51"
      ]
     },
     "execution_count": 44,
     "metadata": {},
     "output_type": "execute_result"
    }
   ],
   "source": [
    "df['addr_state'].nunique()"
   ]
  },
  {
   "cell_type": "markdown",
   "metadata": {
    "_cell_guid": "a2485d09-8385-427d-9bcb-7c47b8034e53",
    "_uuid": "69aa28976c0826de8e461d39c5e3b5bfdf49e61c"
   },
   "source": [
    "There are a lot of zip codes, so let's just retain the state column."
   ]
  },
  {
   "cell_type": "code",
   "execution_count": 45,
   "metadata": {
    "_cell_guid": "aef7a94f-613c-4137-86f2-d0591ea3a4bc",
    "_uuid": "d6d4c635eb86b895acda91d0cc1fa38327a96e7d"
   },
   "outputs": [],
   "source": [
    "df.drop(labels=['zip_code'], axis=1, inplace=True)"
   ]
  },
  {
   "cell_type": "markdown",
   "metadata": {
    "_cell_guid": "57408b52-70fd-4a45-b5bb-12f0c2612190",
    "_uuid": "2a671f42515e7c4727430a48e6163c6f77801275"
   },
   "source": [
    "### initial_list_status"
   ]
  },
  {
   "cell_type": "code",
   "execution_count": 46,
   "metadata": {
    "_cell_guid": "4d334d9a-9b65-4310-8dad-0f51e25ed987",
    "_uuid": "003a7ac0ee85585ac40fb46ad7e5907352c0a3b0"
   },
   "outputs": [
    {
     "data": {
      "text/plain": [
       "f    413678\n",
       "w    401308\n",
       "Name: initial_list_status, dtype: int64"
      ]
     },
     "execution_count": 46,
     "metadata": {},
     "output_type": "execute_result"
    }
   ],
   "source": [
    "df['initial_list_status'].value_counts()"
   ]
  },
  {
   "cell_type": "markdown",
   "metadata": {
    "_cell_guid": "1284f252-1980-4113-a5d3-6f422c11dab6",
    "_uuid": "c7f2a45467caca0cd7be06c244f93d66eeb82243"
   },
   "source": [
    "I wasn't able to determine what the initial list status means."
   ]
  },
  {
   "cell_type": "markdown",
   "metadata": {
    "_cell_guid": "b34ab6cc-0a3f-4780-a234-743b9d406dca",
    "_uuid": "77b5eba4a13bd157c68f522ab8002094bb8b456d"
   },
   "source": [
    "### application_type"
   ]
  },
  {
   "cell_type": "code",
   "execution_count": 48,
   "metadata": {
    "_cell_guid": "0fc4f079-695a-49e9-abac-05bf841bd9e5",
    "_uuid": "afc3918d6aa0db8f5ddeab49d17359155db1376d"
   },
   "outputs": [
    {
     "data": {
      "text/plain": [
       "Individual    811207\n",
       "Joint App       3779\n",
       "Name: application_type, dtype: int64"
      ]
     },
     "execution_count": 48,
     "metadata": {},
     "output_type": "execute_result"
    }
   ],
   "source": [
    "df['application_type'].value_counts()"
   ]
  },
  {
   "cell_type": "markdown",
   "metadata": {},
   "source": [
    "### hardship_flag"
   ]
  },
  {
   "cell_type": "code",
   "execution_count": 49,
   "metadata": {},
   "outputs": [
    {
     "data": {
      "text/plain": [
       "N    814986\n",
       "Name: hardship_flag, dtype: int64"
      ]
     },
     "execution_count": 49,
     "metadata": {},
     "output_type": "execute_result"
    }
   ],
   "source": [
    "df['hardship_flag'].value_counts()"
   ]
  },
  {
   "cell_type": "markdown",
   "metadata": {},
   "source": [
    "This feature will be removed automatically later."
   ]
  },
  {
   "cell_type": "markdown",
   "metadata": {
    "_cell_guid": "3ada3298-69e6-4477-8c89-d4644355d5e8",
    "_uuid": "ac65e5c874b3ec32ad14884e15274dd64c1869d3"
   },
   "source": [
    "### disbursement_method"
   ]
  },
  {
   "cell_type": "code",
   "execution_count": 50,
   "metadata": {
    "_cell_guid": "a0796820-ed1a-45d4-bbad-a0cd24b4b31e",
    "_uuid": "d612144ad296b2c463df392d29bcdf928718ec39"
   },
   "outputs": [
    {
     "data": {
      "text/plain": [
       "Cash         813877\n",
       "DirectPay      1109\n",
       "Name: disbursement_method, dtype: int64"
      ]
     },
     "execution_count": 50,
     "metadata": {},
     "output_type": "execute_result"
    }
   ],
   "source": [
    "df['disbursement_method'].value_counts()"
   ]
  },
  {
   "cell_type": "markdown",
   "metadata": {
    "_cell_guid": "03fcf116-3d14-4038-934b-cc6265fc6181",
    "_uuid": "50e63d0280f0f3ed0ed09812d73a867261fe0433"
   },
   "source": [
    "# Exploratory Data Analysis\n",
    "<a id=\"5\"></a>"
   ]
  },
  {
   "cell_type": "markdown",
   "metadata": {
    "_cell_guid": "1052b34a-487d-4aab-a87f-eae50a0b4224",
    "_uuid": "797b3da0449b25d2e87edde21b84d0cf209752ef"
   },
   "source": [
    "View some random rows:"
   ]
  },
  {
   "cell_type": "code",
   "execution_count": 51,
   "metadata": {
    "_cell_guid": "9014b3c0-1a6a-4c26-8c66-0866c31941eb",
    "_uuid": "6fbd34cbcaf678395ba0a5a066a9abf960abe17f"
   },
   "outputs": [
    {
     "data": {
      "text/html": [
       "<div>\n",
       "<style scoped>\n",
       "    .dataframe tbody tr th:only-of-type {\n",
       "        vertical-align: middle;\n",
       "    }\n",
       "\n",
       "    .dataframe tbody tr th {\n",
       "        vertical-align: top;\n",
       "    }\n",
       "\n",
       "    .dataframe thead th {\n",
       "        text-align: right;\n",
       "    }\n",
       "</style>\n",
       "<table border=\"1\" class=\"dataframe\">\n",
       "  <thead>\n",
       "    <tr style=\"text-align: right;\">\n",
       "      <th></th>\n",
       "      <th>loan_amnt</th>\n",
       "      <th>funded_amnt</th>\n",
       "      <th>funded_amnt_inv</th>\n",
       "      <th>term</th>\n",
       "      <th>int_rate</th>\n",
       "      <th>installment</th>\n",
       "      <th>sub_grade</th>\n",
       "      <th>emp_length</th>\n",
       "      <th>home_ownership</th>\n",
       "      <th>annual_inc</th>\n",
       "      <th>verification_status</th>\n",
       "      <th>charged_off</th>\n",
       "      <th>pymnt_plan</th>\n",
       "      <th>purpose</th>\n",
       "      <th>addr_state</th>\n",
       "      <th>dti</th>\n",
       "      <th>delinq_2yrs</th>\n",
       "      <th>fico_range_low</th>\n",
       "      <th>fico_range_high</th>\n",
       "      <th>inq_last_6mths</th>\n",
       "      <th>open_acc</th>\n",
       "      <th>pub_rec</th>\n",
       "      <th>revol_bal</th>\n",
       "      <th>revol_util</th>\n",
       "      <th>total_acc</th>\n",
       "      <th>initial_list_status</th>\n",
       "      <th>out_prncp</th>\n",
       "      <th>out_prncp_inv</th>\n",
       "      <th>last_fico_range_high</th>\n",
       "      <th>last_fico_range_low</th>\n",
       "      <th>collections_12_mths_ex_med</th>\n",
       "      <th>policy_code</th>\n",
       "      <th>application_type</th>\n",
       "      <th>acc_now_delinq</th>\n",
       "      <th>tot_coll_amt</th>\n",
       "      <th>tot_cur_bal</th>\n",
       "      <th>total_rev_hi_lim</th>\n",
       "      <th>acc_open_past_24mths</th>\n",
       "      <th>avg_cur_bal</th>\n",
       "      <th>bc_open_to_buy</th>\n",
       "      <th>bc_util</th>\n",
       "      <th>chargeoff_within_12_mths</th>\n",
       "      <th>delinq_amnt</th>\n",
       "      <th>mo_sin_old_il_acct</th>\n",
       "      <th>mo_sin_old_rev_tl_op</th>\n",
       "      <th>mo_sin_rcnt_rev_tl_op</th>\n",
       "      <th>mo_sin_rcnt_tl</th>\n",
       "      <th>mort_acc</th>\n",
       "      <th>mths_since_recent_bc</th>\n",
       "      <th>mths_since_recent_inq</th>\n",
       "      <th>num_accts_ever_120_pd</th>\n",
       "      <th>num_actv_bc_tl</th>\n",
       "      <th>num_actv_rev_tl</th>\n",
       "      <th>num_bc_sats</th>\n",
       "      <th>num_bc_tl</th>\n",
       "      <th>num_il_tl</th>\n",
       "      <th>num_op_rev_tl</th>\n",
       "      <th>num_rev_accts</th>\n",
       "      <th>num_rev_tl_bal_gt_0</th>\n",
       "      <th>num_sats</th>\n",
       "      <th>num_tl_120dpd_2m</th>\n",
       "      <th>num_tl_30dpd</th>\n",
       "      <th>num_tl_90g_dpd_24m</th>\n",
       "      <th>num_tl_op_past_12m</th>\n",
       "      <th>pct_tl_nvr_dlq</th>\n",
       "      <th>percent_bc_gt_75</th>\n",
       "      <th>pub_rec_bankruptcies</th>\n",
       "      <th>tax_liens</th>\n",
       "      <th>tot_hi_cred_lim</th>\n",
       "      <th>total_bal_ex_mort</th>\n",
       "      <th>total_bc_limit</th>\n",
       "      <th>total_il_high_credit_limit</th>\n",
       "      <th>hardship_flag</th>\n",
       "      <th>disbursement_method</th>\n",
       "    </tr>\n",
       "  </thead>\n",
       "  <tbody>\n",
       "    <tr>\n",
       "      <th>169798</th>\n",
       "      <td>3125.0</td>\n",
       "      <td>3125.0</td>\n",
       "      <td>3125.0</td>\n",
       "      <td>36</td>\n",
       "      <td>14.64</td>\n",
       "      <td>107.78</td>\n",
       "      <td>C3</td>\n",
       "      <td>4.0</td>\n",
       "      <td>RENT</td>\n",
       "      <td>43000.0</td>\n",
       "      <td>Verified</td>\n",
       "      <td>False</td>\n",
       "      <td>n</td>\n",
       "      <td>debt_consolidation</td>\n",
       "      <td>CA</td>\n",
       "      <td>9.77</td>\n",
       "      <td>0.0</td>\n",
       "      <td>665.0</td>\n",
       "      <td>669.0</td>\n",
       "      <td>2.0</td>\n",
       "      <td>10.0</td>\n",
       "      <td>1.0</td>\n",
       "      <td>4901.0</td>\n",
       "      <td>40.0</td>\n",
       "      <td>24.0</td>\n",
       "      <td>f</td>\n",
       "      <td>0.0</td>\n",
       "      <td>0.0</td>\n",
       "      <td>564.0</td>\n",
       "      <td>560.0</td>\n",
       "      <td>0.0</td>\n",
       "      <td>1.0</td>\n",
       "      <td>Individual</td>\n",
       "      <td>0.0</td>\n",
       "      <td>0.0</td>\n",
       "      <td>7459.0</td>\n",
       "      <td>12300.0</td>\n",
       "      <td>6.0</td>\n",
       "      <td>745.0</td>\n",
       "      <td>1625.0</td>\n",
       "      <td>69.0</td>\n",
       "      <td>0.0</td>\n",
       "      <td>0.0</td>\n",
       "      <td>139.0</td>\n",
       "      <td>214.0</td>\n",
       "      <td>6.0</td>\n",
       "      <td>6.0</td>\n",
       "      <td>0.0</td>\n",
       "      <td>6.0</td>\n",
       "      <td>6.0</td>\n",
       "      <td>0.0</td>\n",
       "      <td>2.0</td>\n",
       "      <td>9.0</td>\n",
       "      <td>4.0</td>\n",
       "      <td>9.0</td>\n",
       "      <td>3.0</td>\n",
       "      <td>9.0</td>\n",
       "      <td>21.0</td>\n",
       "      <td>9.0</td>\n",
       "      <td>10.0</td>\n",
       "      <td>NaN</td>\n",
       "      <td>0.0</td>\n",
       "      <td>0.0</td>\n",
       "      <td>4.0</td>\n",
       "      <td>75.0</td>\n",
       "      <td>0.0</td>\n",
       "      <td>1.0</td>\n",
       "      <td>0.0</td>\n",
       "      <td>15100.0</td>\n",
       "      <td>7459.0</td>\n",
       "      <td>3250.0</td>\n",
       "      <td>2800.0</td>\n",
       "      <td>N</td>\n",
       "      <td>Cash</td>\n",
       "    </tr>\n",
       "    <tr>\n",
       "      <th>1000030</th>\n",
       "      <td>30000.0</td>\n",
       "      <td>30000.0</td>\n",
       "      <td>30000.0</td>\n",
       "      <td>60</td>\n",
       "      <td>28.69</td>\n",
       "      <td>946.61</td>\n",
       "      <td>F1</td>\n",
       "      <td>10.0</td>\n",
       "      <td>MORTGAGE</td>\n",
       "      <td>88000.0</td>\n",
       "      <td>Verified</td>\n",
       "      <td>False</td>\n",
       "      <td>n</td>\n",
       "      <td>debt_consolidation</td>\n",
       "      <td>TN</td>\n",
       "      <td>20.46</td>\n",
       "      <td>0.0</td>\n",
       "      <td>710.0</td>\n",
       "      <td>714.0</td>\n",
       "      <td>0.0</td>\n",
       "      <td>17.0</td>\n",
       "      <td>0.0</td>\n",
       "      <td>25402.0</td>\n",
       "      <td>58.5</td>\n",
       "      <td>47.0</td>\n",
       "      <td>w</td>\n",
       "      <td>0.0</td>\n",
       "      <td>0.0</td>\n",
       "      <td>779.0</td>\n",
       "      <td>775.0</td>\n",
       "      <td>0.0</td>\n",
       "      <td>1.0</td>\n",
       "      <td>Individual</td>\n",
       "      <td>0.0</td>\n",
       "      <td>0.0</td>\n",
       "      <td>79002.0</td>\n",
       "      <td>43400.0</td>\n",
       "      <td>11.0</td>\n",
       "      <td>4938.0</td>\n",
       "      <td>5553.0</td>\n",
       "      <td>72.5</td>\n",
       "      <td>0.0</td>\n",
       "      <td>0.0</td>\n",
       "      <td>150.0</td>\n",
       "      <td>136.0</td>\n",
       "      <td>10.0</td>\n",
       "      <td>10.0</td>\n",
       "      <td>12.0</td>\n",
       "      <td>12.0</td>\n",
       "      <td>3.0</td>\n",
       "      <td>0.0</td>\n",
       "      <td>3.0</td>\n",
       "      <td>5.0</td>\n",
       "      <td>4.0</td>\n",
       "      <td>10.0</td>\n",
       "      <td>9.0</td>\n",
       "      <td>13.0</td>\n",
       "      <td>26.0</td>\n",
       "      <td>5.0</td>\n",
       "      <td>17.0</td>\n",
       "      <td>0.0</td>\n",
       "      <td>0.0</td>\n",
       "      <td>0.0</td>\n",
       "      <td>3.0</td>\n",
       "      <td>100.0</td>\n",
       "      <td>50.0</td>\n",
       "      <td>0.0</td>\n",
       "      <td>0.0</td>\n",
       "      <td>162433.0</td>\n",
       "      <td>62643.0</td>\n",
       "      <td>20200.0</td>\n",
       "      <td>69033.0</td>\n",
       "      <td>N</td>\n",
       "      <td>Cash</td>\n",
       "    </tr>\n",
       "    <tr>\n",
       "      <th>394264</th>\n",
       "      <td>2600.0</td>\n",
       "      <td>2600.0</td>\n",
       "      <td>2600.0</td>\n",
       "      <td>36</td>\n",
       "      <td>12.29</td>\n",
       "      <td>86.72</td>\n",
       "      <td>C1</td>\n",
       "      <td>NaN</td>\n",
       "      <td>RENT</td>\n",
       "      <td>20112.0</td>\n",
       "      <td>Verified</td>\n",
       "      <td>False</td>\n",
       "      <td>n</td>\n",
       "      <td>debt_consolidation</td>\n",
       "      <td>CA</td>\n",
       "      <td>22.79</td>\n",
       "      <td>0.0</td>\n",
       "      <td>665.0</td>\n",
       "      <td>669.0</td>\n",
       "      <td>1.0</td>\n",
       "      <td>10.0</td>\n",
       "      <td>1.0</td>\n",
       "      <td>9163.0</td>\n",
       "      <td>43.2</td>\n",
       "      <td>35.0</td>\n",
       "      <td>w</td>\n",
       "      <td>0.0</td>\n",
       "      <td>0.0</td>\n",
       "      <td>689.0</td>\n",
       "      <td>685.0</td>\n",
       "      <td>0.0</td>\n",
       "      <td>1.0</td>\n",
       "      <td>Individual</td>\n",
       "      <td>0.0</td>\n",
       "      <td>0.0</td>\n",
       "      <td>9163.0</td>\n",
       "      <td>21200.0</td>\n",
       "      <td>3.0</td>\n",
       "      <td>1145.0</td>\n",
       "      <td>5974.0</td>\n",
       "      <td>54.0</td>\n",
       "      <td>0.0</td>\n",
       "      <td>0.0</td>\n",
       "      <td>119.0</td>\n",
       "      <td>387.0</td>\n",
       "      <td>15.0</td>\n",
       "      <td>15.0</td>\n",
       "      <td>5.0</td>\n",
       "      <td>24.0</td>\n",
       "      <td>1.0</td>\n",
       "      <td>1.0</td>\n",
       "      <td>2.0</td>\n",
       "      <td>7.0</td>\n",
       "      <td>2.0</td>\n",
       "      <td>12.0</td>\n",
       "      <td>1.0</td>\n",
       "      <td>10.0</td>\n",
       "      <td>29.0</td>\n",
       "      <td>7.0</td>\n",
       "      <td>10.0</td>\n",
       "      <td>0.0</td>\n",
       "      <td>0.0</td>\n",
       "      <td>0.0</td>\n",
       "      <td>0.0</td>\n",
       "      <td>96.6</td>\n",
       "      <td>0.0</td>\n",
       "      <td>1.0</td>\n",
       "      <td>0.0</td>\n",
       "      <td>21200.0</td>\n",
       "      <td>9163.0</td>\n",
       "      <td>13000.0</td>\n",
       "      <td>0.0</td>\n",
       "      <td>N</td>\n",
       "      <td>Cash</td>\n",
       "    </tr>\n",
       "  </tbody>\n",
       "</table>\n",
       "</div>"
      ],
      "text/plain": [
       "         loan_amnt  funded_amnt  funded_amnt_inv  term  int_rate  installment  \\\n",
       "169798      3125.0       3125.0           3125.0    36     14.64       107.78   \n",
       "1000030    30000.0      30000.0          30000.0    60     28.69       946.61   \n",
       "394264      2600.0       2600.0           2600.0    36     12.29        86.72   \n",
       "\n",
       "        sub_grade  emp_length home_ownership  annual_inc verification_status  \\\n",
       "169798         C3         4.0           RENT     43000.0            Verified   \n",
       "1000030        F1        10.0       MORTGAGE     88000.0            Verified   \n",
       "394264         C1         NaN           RENT     20112.0            Verified   \n",
       "\n",
       "         charged_off pymnt_plan             purpose addr_state    dti  \\\n",
       "169798         False          n  debt_consolidation         CA   9.77   \n",
       "1000030        False          n  debt_consolidation         TN  20.46   \n",
       "394264         False          n  debt_consolidation         CA  22.79   \n",
       "\n",
       "         delinq_2yrs  fico_range_low  fico_range_high  inq_last_6mths  \\\n",
       "169798           0.0           665.0            669.0             2.0   \n",
       "1000030          0.0           710.0            714.0             0.0   \n",
       "394264           0.0           665.0            669.0             1.0   \n",
       "\n",
       "         open_acc  pub_rec  revol_bal  revol_util  total_acc  \\\n",
       "169798       10.0      1.0     4901.0        40.0       24.0   \n",
       "1000030      17.0      0.0    25402.0        58.5       47.0   \n",
       "394264       10.0      1.0     9163.0        43.2       35.0   \n",
       "\n",
       "        initial_list_status  out_prncp  out_prncp_inv  last_fico_range_high  \\\n",
       "169798                    f        0.0            0.0                 564.0   \n",
       "1000030                   w        0.0            0.0                 779.0   \n",
       "394264                    w        0.0            0.0                 689.0   \n",
       "\n",
       "         last_fico_range_low  collections_12_mths_ex_med  policy_code  \\\n",
       "169798                 560.0                         0.0          1.0   \n",
       "1000030                775.0                         0.0          1.0   \n",
       "394264                 685.0                         0.0          1.0   \n",
       "\n",
       "        application_type  acc_now_delinq  tot_coll_amt  tot_cur_bal  \\\n",
       "169798        Individual             0.0           0.0       7459.0   \n",
       "1000030       Individual             0.0           0.0      79002.0   \n",
       "394264        Individual             0.0           0.0       9163.0   \n",
       "\n",
       "         total_rev_hi_lim  acc_open_past_24mths  avg_cur_bal  bc_open_to_buy  \\\n",
       "169798            12300.0                   6.0        745.0          1625.0   \n",
       "1000030           43400.0                  11.0       4938.0          5553.0   \n",
       "394264            21200.0                   3.0       1145.0          5974.0   \n",
       "\n",
       "         bc_util  chargeoff_within_12_mths  delinq_amnt  mo_sin_old_il_acct  \\\n",
       "169798      69.0                       0.0          0.0               139.0   \n",
       "1000030     72.5                       0.0          0.0               150.0   \n",
       "394264      54.0                       0.0          0.0               119.0   \n",
       "\n",
       "         mo_sin_old_rev_tl_op  mo_sin_rcnt_rev_tl_op  mo_sin_rcnt_tl  \\\n",
       "169798                  214.0                    6.0             6.0   \n",
       "1000030                 136.0                   10.0            10.0   \n",
       "394264                  387.0                   15.0            15.0   \n",
       "\n",
       "         mort_acc  mths_since_recent_bc  mths_since_recent_inq  \\\n",
       "169798        0.0                   6.0                    6.0   \n",
       "1000030      12.0                  12.0                    3.0   \n",
       "394264        5.0                  24.0                    1.0   \n",
       "\n",
       "         num_accts_ever_120_pd  num_actv_bc_tl  num_actv_rev_tl  num_bc_sats  \\\n",
       "169798                     0.0             2.0              9.0          4.0   \n",
       "1000030                    0.0             3.0              5.0          4.0   \n",
       "394264                     1.0             2.0              7.0          2.0   \n",
       "\n",
       "         num_bc_tl  num_il_tl  num_op_rev_tl  num_rev_accts  \\\n",
       "169798         9.0        3.0            9.0           21.0   \n",
       "1000030       10.0        9.0           13.0           26.0   \n",
       "394264        12.0        1.0           10.0           29.0   \n",
       "\n",
       "         num_rev_tl_bal_gt_0  num_sats  num_tl_120dpd_2m  num_tl_30dpd  \\\n",
       "169798                   9.0      10.0               NaN           0.0   \n",
       "1000030                  5.0      17.0               0.0           0.0   \n",
       "394264                   7.0      10.0               0.0           0.0   \n",
       "\n",
       "         num_tl_90g_dpd_24m  num_tl_op_past_12m  pct_tl_nvr_dlq  \\\n",
       "169798                  0.0                 4.0            75.0   \n",
       "1000030                 0.0                 3.0           100.0   \n",
       "394264                  0.0                 0.0            96.6   \n",
       "\n",
       "         percent_bc_gt_75  pub_rec_bankruptcies  tax_liens  tot_hi_cred_lim  \\\n",
       "169798                0.0                   1.0        0.0          15100.0   \n",
       "1000030              50.0                   0.0        0.0         162433.0   \n",
       "394264                0.0                   1.0        0.0          21200.0   \n",
       "\n",
       "         total_bal_ex_mort  total_bc_limit  total_il_high_credit_limit  \\\n",
       "169798              7459.0          3250.0                      2800.0   \n",
       "1000030            62643.0         20200.0                     69033.0   \n",
       "394264              9163.0         13000.0                         0.0   \n",
       "\n",
       "        hardship_flag disbursement_method  \n",
       "169798              N                Cash  \n",
       "1000030             N                Cash  \n",
       "394264              N                Cash  "
      ]
     },
     "execution_count": 51,
     "metadata": {},
     "output_type": "execute_result"
    }
   ],
   "source": [
    "df.sample(3)"
   ]
  },
  {
   "cell_type": "markdown",
   "metadata": {
    "_cell_guid": "5a0b1c7c-2fe5-4005-9def-08afd7518a4c",
    "_uuid": "d5c69892f2d0ab0999b26d3c3370dc6055a5e009"
   },
   "source": [
    "Let's make a count plot of the loan purpose, separated by the `charged_off` value."
   ]
  },
  {
   "cell_type": "code",
   "execution_count": 52,
   "metadata": {
    "_cell_guid": "02f5b08a-faa7-4471-a2af-ceca3e5d3b67",
    "_uuid": "d7426bf0ba72d49c0dcf5aeaef19980413ccb6bb",
    "scrolled": true
   },
   "outputs": [
    {
     "data": {
      "text/plain": [
       "<matplotlib.axes._subplots.AxesSubplot at 0x1fc3129aa20>"
      ]
     },
     "execution_count": 52,
     "metadata": {},
     "output_type": "execute_result"
    },
    {
     "data": {
      "image/png": "[encoded data removed]",
      "text/plain": [
       "<Figure size 1200x600 with 1 Axes>"
      ]
     },
     "metadata": {},
     "output_type": "display_data"
    }
   ],
   "source": [
    "plt.figure(figsize=(12,6), dpi=100)\n",
    "sns.countplot(y='purpose', hue='charged_off', data=df, orient='h')"
   ]
  },
  {
   "cell_type": "markdown",
   "metadata": {
    "_cell_guid": "240c20e9-6336-47c6-9d92-69cc73433966",
    "_uuid": "fab8e8d284e011c9da9fedfa1a586a409f77ea0b"
   },
   "source": [
    "It appears that most of the charge-offs come from loans for debt consolidation or to pay off credit cards."
   ]
  },
  {
   "cell_type": "markdown",
   "metadata": {
    "_cell_guid": "4b958608-1759-47e5-841f-6605dc5ed233",
    "_uuid": "4ed5e8ea7bbffd7938cc119fbde663480d763d0e"
   },
   "source": [
    "Let's make a similar plot, but with `sub_grade` instead of `purpose`."
   ]
  },
  {
   "cell_type": "code",
   "execution_count": 53,
   "metadata": {
    "_cell_guid": "d8c01435-3bff-405f-85c0-65c929912e48",
    "_uuid": "cb0938b6fb0578166eef9ecc15c05cd10130bfd5"
   },
   "outputs": [
    {
     "data": {
      "text/plain": [
       "<matplotlib.axes._subplots.AxesSubplot at 0x1fc780bd278>"
      ]
     },
     "execution_count": 53,
     "metadata": {},
     "output_type": "execute_result"
    },
    {
     "data": {
      "image/png": "[encoded data removed]",
      "text/plain": [
       "<Figure size 1920x720 with 1 Axes>"
      ]
     },
     "metadata": {},
     "output_type": "display_data"
    }
   ],
   "source": [
    "plt.figure(figsize=(16,6), dpi=120)\n",
    "sns.countplot(x='sub_grade', hue='charged_off', data=df, order=sorted(df['sub_grade'].value_counts().index))"
   ]
  },
  {
   "cell_type": "markdown",
   "metadata": {
    "_cell_guid": "e53dbddd-aff4-4d44-bc8e-a7637e953ab0",
    "_uuid": "cf7685607c32b9857f4fc0cce38c6feea215e2fe"
   },
   "source": [
    "There's a clear trend of higher probability of charge-off as the subgrade worsens."
   ]
  },
  {
   "cell_type": "markdown",
   "metadata": {
    "_cell_guid": "89996216-39b5-42b6-aaf6-af717843f0dc",
    "_uuid": "0e513faba220e8b66e1a4468c61f99f2e362e2c2"
   },
   "source": [
    "Let's make yet another similar plot, but with `term` instead of `sub_grade`."
   ]
  },
  {
   "cell_type": "code",
   "execution_count": 54,
   "metadata": {
    "_cell_guid": "23d47bc0-8d57-4ade-a2c2-5d1a1cb3a538",
    "_uuid": "d524414c2b2c783a9b23e3b7147a3d925ef3b425"
   },
   "outputs": [
    {
     "data": {
      "text/plain": [
       "<matplotlib.axes._subplots.AxesSubplot at 0x1fc310a22b0>"
      ]
     },
     "execution_count": 54,
     "metadata": {},
     "output_type": "execute_result"
    },
    {
     "data": {
      "image/png": "[encoded data removed]",
      "text/plain": [
       "<Figure size 360x360 with 1 Axes>"
      ]
     },
     "metadata": {},
     "output_type": "display_data"
    }
   ],
   "source": [
    "plt.figure(figsize=(4,4), dpi=90)\n",
    "sns.countplot(x='term', hue='charged_off', data=df)"
   ]
  },
  {
   "cell_type": "markdown",
   "metadata": {
    "_cell_guid": "037ad31c-74b8-42fa-baf2-bf3dd5c2f955",
    "_uuid": "3a5a08102e6710ed10a910c66e10bc5df4bc5dba"
   },
   "source": [
    "Loans with a term of 60 months are much more likely to be charged off."
   ]
  },
  {
   "cell_type": "markdown",
   "metadata": {
    "_cell_guid": "60f3bbe0-518a-4d5d-a0d6-50355d9c2ba8",
    "_uuid": "bf557e627d93a47d9e69e2157571de6915392917"
   },
   "source": [
    "Now let's compare the interest rate to the loan status using histograms:"
   ]
  },
  {
   "cell_type": "code",
   "execution_count": 55,
   "metadata": {
    "_cell_guid": "42a7fe60-efa9-4a09-8ccf-3c86fda017b0",
    "_uuid": "6672c522ccd0eac962d0045087f41e4c7284b454"
   },
   "outputs": [
    {
     "name": "stderr",
     "output_type": "stream",
     "text": [
      "C:\\Users\\Joe\\Anaconda3\\lib\\site-packages\\matplotlib\\axes\\_axes.py:6462: UserWarning: The 'normed' kwarg is deprecated, and has been replaced by the 'density' kwarg.\n",
      "  warnings.warn(\"The 'normed' kwarg is deprecated, and has been \"\n"
     ]
    },
    {
     "data": {
      "text/plain": [
       "<matplotlib.legend.Legend at 0x1fc63afe240>"
      ]
     },
     "execution_count": 55,
     "metadata": {},
     "output_type": "execute_result"
    },
    {
     "data": {
      "image/png": "[encoded data removed]",
      "text/plain": [
       "<Figure size 900x360 with 1 Axes>"
      ]
     },
     "metadata": {},
     "output_type": "display_data"
    }
   ],
   "source": [
    "plt.figure(figsize=(10,4), dpi=90)\n",
    "sns.distplot(df['int_rate'].loc[df['charged_off']==0], kde=True, label='charged_off = 0')\n",
    "sns.distplot(df['int_rate'].loc[df['charged_off']==1], kde=True, label='charged_off = 1')\n",
    "plt.xlabel('int_rate')\n",
    "plt.ylabel('density')\n",
    "plt.legend()"
   ]
  },
  {
   "cell_type": "markdown",
   "metadata": {
    "_cell_guid": "1fd2a00f-0f95-481c-b9ff-d26526eb5f04",
    "_uuid": "321c4fb18ebd1bcf6689d7a5d3f23f80752bcfb3"
   },
   "source": [
    "Charged-off loans tend to have higher interest rates."
   ]
  },
  {
   "cell_type": "markdown",
   "metadata": {
    "_cell_guid": "0708298c-18c9-4579-9f17-a21e2b76db4f",
    "_uuid": "50b61c252325f6170b4dd3eef39a973a05ea1577"
   },
   "source": [
    "Now let's compare the borrower's most recent FICO score (a credit score) to the loan status."
   ]
  },
  {
   "cell_type": "code",
   "execution_count": 56,
   "metadata": {
    "_cell_guid": "7b5e856b-0487-4b7a-8cd5-762ef95aed89",
    "_uuid": "8b38ce7a4cf7015752c9eb1bcfadd2d535ae0fda"
   },
   "outputs": [
    {
     "name": "stderr",
     "output_type": "stream",
     "text": [
      "C:\\Users\\Joe\\Anaconda3\\lib\\site-packages\\matplotlib\\axes\\_axes.py:6462: UserWarning: The 'normed' kwarg is deprecated, and has been replaced by the 'density' kwarg.\n",
      "  warnings.warn(\"The 'normed' kwarg is deprecated, and has been \"\n"
     ]
    },
    {
     "data": {
      "text/plain": [
       "<matplotlib.legend.Legend at 0x1fc8a4250b8>"
      ]
     },
     "execution_count": 56,
     "metadata": {},
     "output_type": "execute_result"
    },
    {
     "data": {
      "image/png": "[encoded data removed]",
      "text/plain": [
       "<Figure size 900x360 with 1 Axes>"
      ]
     },
     "metadata": {},
     "output_type": "display_data"
    }
   ],
   "source": [
    "plt.figure(figsize=(10,4), dpi=90)\n",
    "sns.distplot(df['last_fico_range_high'].loc[df['charged_off']==0], label='charged_off = 0')\n",
    "sns.distplot(df['last_fico_range_high'].loc[df['charged_off']==1], label='charged_off = 1')\n",
    "plt.xlabel('last_fico_range_high')\n",
    "plt.ylabel('density')\n",
    "plt.legend()"
   ]
  },
  {
   "cell_type": "markdown",
   "metadata": {
    "_cell_guid": "c14e89b8-15e6-47f6-ab7a-b65a65331d0a",
    "_uuid": "1e1a8edad690d093dbc1a41d876aeb656f39ca90"
   },
   "source": [
    "Wow! There's a strong correlation here: charged-off loans tend to have much lower FICO scores."
   ]
  },
  {
   "cell_type": "markdown",
   "metadata": {
    "_cell_guid": "cf5fdca3-0028-43f7-894f-76bfc1e33a4a",
    "_uuid": "99854ef8dc13dfcb3a60c83c71bef79cfafe765b"
   },
   "source": [
    "# More Pre-processing\n",
    "<a id=\"7\"></a>"
   ]
  },
  {
   "cell_type": "markdown",
   "metadata": {
    "_cell_guid": "1346206c-dd33-4da3-be18-8b0af193d776",
    "_uuid": "cd60bea970881e3d32c9e11e1008814ec880b57c"
   },
   "source": [
    "## Create dummy variables\n",
    "<a id=\"6.1\"></a>"
   ]
  },
  {
   "cell_type": "code",
   "execution_count": 57,
   "metadata": {
    "_cell_guid": "787e1bc7-accd-4b1a-9f57-6e23c517399b",
    "_uuid": "950a720893228a27b639dd8dacac4e9561f0daa7"
   },
   "outputs": [
    {
     "data": {
      "text/plain": [
       "(814986, 74)"
      ]
     },
     "execution_count": 57,
     "metadata": {},
     "output_type": "execute_result"
    }
   ],
   "source": [
    "df.shape"
   ]
  },
  {
   "cell_type": "code",
   "execution_count": 58,
   "metadata": {
    "_cell_guid": "52024d7a-f856-4b8b-ba68-0b0e4ca7f07c",
    "_uuid": "3bbb478c41375661a0c52899dc222bc9fe1c7023"
   },
   "outputs": [],
   "source": [
    "df = pd.get_dummies(df, drop_first=True)"
   ]
  },
  {
   "cell_type": "code",
   "execution_count": 59,
   "metadata": {
    "_cell_guid": "22cf7871-1850-4c2e-9786-9ebf1fad18ee",
    "_uuid": "9241e4b9c74cfadeb4c660da1aa68a073955ffbb"
   },
   "outputs": [
    {
     "data": {
      "text/plain": [
       "(814986, 171)"
      ]
     },
     "execution_count": 59,
     "metadata": {},
     "output_type": "execute_result"
    }
   ],
   "source": [
    "df.shape"
   ]
  },
  {
   "cell_type": "markdown",
   "metadata": {
    "_cell_guid": "7ea13fa1-7c75-484f-86d3-3268a72f43ea",
    "_uuid": "12769431bbc57650cd3babc647b185fce8c140fd"
   },
   "source": [
    "Now all the features (171 of them) are numerical. What does the data look like after converting categorical features to dummy variables?"
   ]
  },
  {
   "cell_type": "code",
   "execution_count": 60,
   "metadata": {
    "_cell_guid": "1d88c5c8-8a56-4e7c-969e-61785d68d650",
    "_uuid": "dc6af80d337ca418f1b32f76e387b43eeef23997"
   },
   "outputs": [
    {
     "data": {
      "text/html": [
       "<div>\n",
       "<style scoped>\n",
       "    .dataframe tbody tr th:only-of-type {\n",
       "        vertical-align: middle;\n",
       "    }\n",
       "\n",
       "    .dataframe tbody tr th {\n",
       "        vertical-align: top;\n",
       "    }\n",
       "\n",
       "    .dataframe thead th {\n",
       "        text-align: right;\n",
       "    }\n",
       "</style>\n",
       "<table border=\"1\" class=\"dataframe\">\n",
       "  <thead>\n",
       "    <tr style=\"text-align: right;\">\n",
       "      <th></th>\n",
       "      <th>loan_amnt</th>\n",
       "      <th>funded_amnt</th>\n",
       "      <th>funded_amnt_inv</th>\n",
       "      <th>term</th>\n",
       "      <th>int_rate</th>\n",
       "      <th>installment</th>\n",
       "      <th>emp_length</th>\n",
       "      <th>annual_inc</th>\n",
       "      <th>charged_off</th>\n",
       "      <th>dti</th>\n",
       "      <th>delinq_2yrs</th>\n",
       "      <th>fico_range_low</th>\n",
       "      <th>fico_range_high</th>\n",
       "      <th>inq_last_6mths</th>\n",
       "      <th>open_acc</th>\n",
       "      <th>pub_rec</th>\n",
       "      <th>revol_bal</th>\n",
       "      <th>revol_util</th>\n",
       "      <th>total_acc</th>\n",
       "      <th>out_prncp</th>\n",
       "      <th>out_prncp_inv</th>\n",
       "      <th>last_fico_range_high</th>\n",
       "      <th>last_fico_range_low</th>\n",
       "      <th>collections_12_mths_ex_med</th>\n",
       "      <th>policy_code</th>\n",
       "      <th>acc_now_delinq</th>\n",
       "      <th>tot_coll_amt</th>\n",
       "      <th>tot_cur_bal</th>\n",
       "      <th>total_rev_hi_lim</th>\n",
       "      <th>acc_open_past_24mths</th>\n",
       "      <th>avg_cur_bal</th>\n",
       "      <th>bc_open_to_buy</th>\n",
       "      <th>bc_util</th>\n",
       "      <th>chargeoff_within_12_mths</th>\n",
       "      <th>delinq_amnt</th>\n",
       "      <th>mo_sin_old_il_acct</th>\n",
       "      <th>mo_sin_old_rev_tl_op</th>\n",
       "      <th>mo_sin_rcnt_rev_tl_op</th>\n",
       "      <th>mo_sin_rcnt_tl</th>\n",
       "      <th>mort_acc</th>\n",
       "      <th>mths_since_recent_bc</th>\n",
       "      <th>mths_since_recent_inq</th>\n",
       "      <th>num_accts_ever_120_pd</th>\n",
       "      <th>num_actv_bc_tl</th>\n",
       "      <th>num_actv_rev_tl</th>\n",
       "      <th>num_bc_sats</th>\n",
       "      <th>num_bc_tl</th>\n",
       "      <th>num_il_tl</th>\n",
       "      <th>num_op_rev_tl</th>\n",
       "      <th>num_rev_accts</th>\n",
       "      <th>num_rev_tl_bal_gt_0</th>\n",
       "      <th>num_sats</th>\n",
       "      <th>num_tl_120dpd_2m</th>\n",
       "      <th>num_tl_30dpd</th>\n",
       "      <th>num_tl_90g_dpd_24m</th>\n",
       "      <th>num_tl_op_past_12m</th>\n",
       "      <th>pct_tl_nvr_dlq</th>\n",
       "      <th>percent_bc_gt_75</th>\n",
       "      <th>pub_rec_bankruptcies</th>\n",
       "      <th>tax_liens</th>\n",
       "      <th>tot_hi_cred_lim</th>\n",
       "      <th>total_bal_ex_mort</th>\n",
       "      <th>total_bc_limit</th>\n",
       "      <th>total_il_high_credit_limit</th>\n",
       "      <th>sub_grade_A2</th>\n",
       "      <th>sub_grade_A3</th>\n",
       "      <th>sub_grade_A4</th>\n",
       "      <th>sub_grade_A5</th>\n",
       "      <th>sub_grade_B1</th>\n",
       "      <th>sub_grade_B2</th>\n",
       "      <th>sub_grade_B3</th>\n",
       "      <th>sub_grade_B4</th>\n",
       "      <th>sub_grade_B5</th>\n",
       "      <th>sub_grade_C1</th>\n",
       "      <th>sub_grade_C2</th>\n",
       "      <th>sub_grade_C3</th>\n",
       "      <th>sub_grade_C4</th>\n",
       "      <th>sub_grade_C5</th>\n",
       "      <th>sub_grade_D1</th>\n",
       "      <th>sub_grade_D2</th>\n",
       "      <th>sub_grade_D3</th>\n",
       "      <th>sub_grade_D4</th>\n",
       "      <th>sub_grade_D5</th>\n",
       "      <th>sub_grade_E1</th>\n",
       "      <th>sub_grade_E2</th>\n",
       "      <th>sub_grade_E3</th>\n",
       "      <th>sub_grade_E4</th>\n",
       "      <th>sub_grade_E5</th>\n",
       "      <th>sub_grade_F1</th>\n",
       "      <th>sub_grade_F2</th>\n",
       "      <th>sub_grade_F3</th>\n",
       "      <th>sub_grade_F4</th>\n",
       "      <th>sub_grade_F5</th>\n",
       "      <th>sub_grade_G1</th>\n",
       "      <th>sub_grade_G2</th>\n",
       "      <th>sub_grade_G3</th>\n",
       "      <th>sub_grade_G4</th>\n",
       "      <th>sub_grade_G5</th>\n",
       "      <th>home_ownership_MORTGAGE</th>\n",
       "      <th>home_ownership_NONE</th>\n",
       "      <th>home_ownership_OTHER</th>\n",
       "      <th>home_ownership_OWN</th>\n",
       "      <th>home_ownership_RENT</th>\n",
       "      <th>verification_status_Source Verified</th>\n",
       "      <th>verification_status_Verified</th>\n",
       "      <th>purpose_credit_card</th>\n",
       "      <th>purpose_debt_consolidation</th>\n",
       "      <th>purpose_educational</th>\n",
       "      <th>purpose_home_improvement</th>\n",
       "      <th>purpose_house</th>\n",
       "      <th>purpose_major_purchase</th>\n",
       "      <th>purpose_medical</th>\n",
       "      <th>purpose_moving</th>\n",
       "      <th>purpose_other</th>\n",
       "      <th>purpose_renewable_energy</th>\n",
       "      <th>purpose_small_business</th>\n",
       "      <th>purpose_vacation</th>\n",
       "      <th>purpose_wedding</th>\n",
       "      <th>addr_state_AL</th>\n",
       "      <th>addr_state_AR</th>\n",
       "      <th>addr_state_AZ</th>\n",
       "      <th>addr_state_CA</th>\n",
       "      <th>addr_state_CO</th>\n",
       "      <th>addr_state_CT</th>\n",
       "      <th>addr_state_DC</th>\n",
       "      <th>addr_state_DE</th>\n",
       "      <th>addr_state_FL</th>\n",
       "      <th>addr_state_GA</th>\n",
       "      <th>addr_state_HI</th>\n",
       "      <th>addr_state_IA</th>\n",
       "      <th>addr_state_ID</th>\n",
       "      <th>addr_state_IL</th>\n",
       "      <th>addr_state_IN</th>\n",
       "      <th>addr_state_KS</th>\n",
       "      <th>addr_state_KY</th>\n",
       "      <th>addr_state_LA</th>\n",
       "      <th>addr_state_MA</th>\n",
       "      <th>addr_state_MD</th>\n",
       "      <th>addr_state_ME</th>\n",
       "      <th>addr_state_MI</th>\n",
       "      <th>addr_state_MN</th>\n",
       "      <th>addr_state_MO</th>\n",
       "      <th>addr_state_MS</th>\n",
       "      <th>addr_state_MT</th>\n",
       "      <th>addr_state_NC</th>\n",
       "      <th>addr_state_ND</th>\n",
       "      <th>addr_state_NE</th>\n",
       "      <th>addr_state_NH</th>\n",
       "      <th>addr_state_NJ</th>\n",
       "      <th>addr_state_NM</th>\n",
       "      <th>addr_state_NV</th>\n",
       "      <th>addr_state_NY</th>\n",
       "      <th>addr_state_OH</th>\n",
       "      <th>addr_state_OK</th>\n",
       "      <th>addr_state_OR</th>\n",
       "      <th>addr_state_PA</th>\n",
       "      <th>addr_state_RI</th>\n",
       "      <th>addr_state_SC</th>\n",
       "      <th>addr_state_SD</th>\n",
       "      <th>addr_state_TN</th>\n",
       "      <th>addr_state_TX</th>\n",
       "      <th>addr_state_UT</th>\n",
       "      <th>addr_state_VA</th>\n",
       "      <th>addr_state_VT</th>\n",
       "      <th>addr_state_WA</th>\n",
       "      <th>addr_state_WI</th>\n",
       "      <th>addr_state_WV</th>\n",
       "      <th>addr_state_WY</th>\n",
       "      <th>initial_list_status_w</th>\n",
       "      <th>application_type_Joint App</th>\n",
       "      <th>disbursement_method_DirectPay</th>\n",
       "    </tr>\n",
       "  </thead>\n",
       "  <tbody>\n",
       "    <tr>\n",
       "      <th>962372</th>\n",
       "      <td>1200.0</td>\n",
       "      <td>1200.0</td>\n",
       "      <td>1200.000000</td>\n",
       "      <td>36</td>\n",
       "      <td>14.33</td>\n",
       "      <td>41.21</td>\n",
       "      <td>4.0</td>\n",
       "      <td>31200.0</td>\n",
       "      <td>False</td>\n",
       "      <td>19.19</td>\n",
       "      <td>1.0</td>\n",
       "      <td>665.0</td>\n",
       "      <td>669.0</td>\n",
       "      <td>0.0</td>\n",
       "      <td>9.0</td>\n",
       "      <td>0.0</td>\n",
       "      <td>7202.0</td>\n",
       "      <td>54.6</td>\n",
       "      <td>14.0</td>\n",
       "      <td>0.0</td>\n",
       "      <td>0.0</td>\n",
       "      <td>509.0</td>\n",
       "      <td>505.0</td>\n",
       "      <td>0.0</td>\n",
       "      <td>1.0</td>\n",
       "      <td>0.0</td>\n",
       "      <td>0.0</td>\n",
       "      <td>18196.0</td>\n",
       "      <td>13200.0</td>\n",
       "      <td>4.0</td>\n",
       "      <td>2022.0</td>\n",
       "      <td>377.0</td>\n",
       "      <td>88.6</td>\n",
       "      <td>0.0</td>\n",
       "      <td>0.0</td>\n",
       "      <td>54.0</td>\n",
       "      <td>97.0</td>\n",
       "      <td>6.0</td>\n",
       "      <td>6.0</td>\n",
       "      <td>0.0</td>\n",
       "      <td>9.0</td>\n",
       "      <td>7.0</td>\n",
       "      <td>1.0</td>\n",
       "      <td>3.0</td>\n",
       "      <td>6.0</td>\n",
       "      <td>3.0</td>\n",
       "      <td>5.0</td>\n",
       "      <td>5.0</td>\n",
       "      <td>6.0</td>\n",
       "      <td>8.0</td>\n",
       "      <td>6.0</td>\n",
       "      <td>9.0</td>\n",
       "      <td>0.0</td>\n",
       "      <td>0.0</td>\n",
       "      <td>0.0</td>\n",
       "      <td>4.0</td>\n",
       "      <td>92.0</td>\n",
       "      <td>100.0</td>\n",
       "      <td>0.0</td>\n",
       "      <td>0.0</td>\n",
       "      <td>26298.0</td>\n",
       "      <td>18196.0</td>\n",
       "      <td>3300.0</td>\n",
       "      <td>13098.0</td>\n",
       "      <td>0</td>\n",
       "      <td>0</td>\n",
       "      <td>0</td>\n",
       "      <td>0</td>\n",
       "      <td>0</td>\n",
       "      <td>0</td>\n",
       "      <td>0</td>\n",
       "      <td>0</td>\n",
       "      <td>0</td>\n",
       "      <td>1</td>\n",
       "      <td>0</td>\n",
       "      <td>0</td>\n",
       "      <td>0</td>\n",
       "      <td>0</td>\n",
       "      <td>0</td>\n",
       "      <td>0</td>\n",
       "      <td>0</td>\n",
       "      <td>0</td>\n",
       "      <td>0</td>\n",
       "      <td>0</td>\n",
       "      <td>0</td>\n",
       "      <td>0</td>\n",
       "      <td>0</td>\n",
       "      <td>0</td>\n",
       "      <td>0</td>\n",
       "      <td>0</td>\n",
       "      <td>0</td>\n",
       "      <td>0</td>\n",
       "      <td>0</td>\n",
       "      <td>0</td>\n",
       "      <td>0</td>\n",
       "      <td>0</td>\n",
       "      <td>0</td>\n",
       "      <td>0</td>\n",
       "      <td>0</td>\n",
       "      <td>0</td>\n",
       "      <td>0</td>\n",
       "      <td>0</td>\n",
       "      <td>1</td>\n",
       "      <td>0</td>\n",
       "      <td>0</td>\n",
       "      <td>0</td>\n",
       "      <td>0</td>\n",
       "      <td>0</td>\n",
       "      <td>0</td>\n",
       "      <td>0</td>\n",
       "      <td>0</td>\n",
       "      <td>1</td>\n",
       "      <td>0</td>\n",
       "      <td>0</td>\n",
       "      <td>0</td>\n",
       "      <td>0</td>\n",
       "      <td>0</td>\n",
       "      <td>0</td>\n",
       "      <td>0</td>\n",
       "      <td>0</td>\n",
       "      <td>0</td>\n",
       "      <td>0</td>\n",
       "      <td>0</td>\n",
       "      <td>0</td>\n",
       "      <td>0</td>\n",
       "      <td>0</td>\n",
       "      <td>0</td>\n",
       "      <td>0</td>\n",
       "      <td>0</td>\n",
       "      <td>0</td>\n",
       "      <td>0</td>\n",
       "      <td>0</td>\n",
       "      <td>0</td>\n",
       "      <td>0</td>\n",
       "      <td>0</td>\n",
       "      <td>0</td>\n",
       "      <td>0</td>\n",
       "      <td>0</td>\n",
       "      <td>0</td>\n",
       "      <td>0</td>\n",
       "      <td>0</td>\n",
       "      <td>0</td>\n",
       "      <td>0</td>\n",
       "      <td>0</td>\n",
       "      <td>0</td>\n",
       "      <td>0</td>\n",
       "      <td>0</td>\n",
       "      <td>0</td>\n",
       "      <td>0</td>\n",
       "      <td>0</td>\n",
       "      <td>0</td>\n",
       "      <td>0</td>\n",
       "      <td>0</td>\n",
       "      <td>0</td>\n",
       "      <td>0</td>\n",
       "      <td>0</td>\n",
       "      <td>1</td>\n",
       "      <td>0</td>\n",
       "      <td>0</td>\n",
       "      <td>0</td>\n",
       "      <td>0</td>\n",
       "      <td>0</td>\n",
       "      <td>0</td>\n",
       "      <td>0</td>\n",
       "      <td>0</td>\n",
       "      <td>0</td>\n",
       "      <td>0</td>\n",
       "      <td>0</td>\n",
       "      <td>0</td>\n",
       "      <td>0</td>\n",
       "      <td>0</td>\n",
       "    </tr>\n",
       "    <tr>\n",
       "      <th>1506672</th>\n",
       "      <td>3000.0</td>\n",
       "      <td>3000.0</td>\n",
       "      <td>3000.000000</td>\n",
       "      <td>36</td>\n",
       "      <td>8.59</td>\n",
       "      <td>94.83</td>\n",
       "      <td>NaN</td>\n",
       "      <td>30058.0</td>\n",
       "      <td>True</td>\n",
       "      <td>26.56</td>\n",
       "      <td>0.0</td>\n",
       "      <td>780.0</td>\n",
       "      <td>784.0</td>\n",
       "      <td>1.0</td>\n",
       "      <td>13.0</td>\n",
       "      <td>0.0</td>\n",
       "      <td>155.0</td>\n",
       "      <td>0.5</td>\n",
       "      <td>43.0</td>\n",
       "      <td>0.0</td>\n",
       "      <td>0.0</td>\n",
       "      <td>579.0</td>\n",
       "      <td>575.0</td>\n",
       "      <td>0.0</td>\n",
       "      <td>1.0</td>\n",
       "      <td>0.0</td>\n",
       "      <td>0.0</td>\n",
       "      <td>25344.0</td>\n",
       "      <td>34200.0</td>\n",
       "      <td>10.0</td>\n",
       "      <td>2112.0</td>\n",
       "      <td>34045.0</td>\n",
       "      <td>0.5</td>\n",
       "      <td>0.0</td>\n",
       "      <td>0.0</td>\n",
       "      <td>126.0</td>\n",
       "      <td>190.0</td>\n",
       "      <td>8.0</td>\n",
       "      <td>5.0</td>\n",
       "      <td>0.0</td>\n",
       "      <td>8.0</td>\n",
       "      <td>1.0</td>\n",
       "      <td>0.0</td>\n",
       "      <td>1.0</td>\n",
       "      <td>1.0</td>\n",
       "      <td>9.0</td>\n",
       "      <td>12.0</td>\n",
       "      <td>26.0</td>\n",
       "      <td>10.0</td>\n",
       "      <td>17.0</td>\n",
       "      <td>1.0</td>\n",
       "      <td>13.0</td>\n",
       "      <td>0.0</td>\n",
       "      <td>0.0</td>\n",
       "      <td>0.0</td>\n",
       "      <td>4.0</td>\n",
       "      <td>100.0</td>\n",
       "      <td>0.0</td>\n",
       "      <td>0.0</td>\n",
       "      <td>0.0</td>\n",
       "      <td>63300.0</td>\n",
       "      <td>25344.0</td>\n",
       "      <td>34200.0</td>\n",
       "      <td>29100.0</td>\n",
       "      <td>0</td>\n",
       "      <td>0</td>\n",
       "      <td>0</td>\n",
       "      <td>1</td>\n",
       "      <td>0</td>\n",
       "      <td>0</td>\n",
       "      <td>0</td>\n",
       "      <td>0</td>\n",
       "      <td>0</td>\n",
       "      <td>0</td>\n",
       "      <td>0</td>\n",
       "      <td>0</td>\n",
       "      <td>0</td>\n",
       "      <td>0</td>\n",
       "      <td>0</td>\n",
       "      <td>0</td>\n",
       "      <td>0</td>\n",
       "      <td>0</td>\n",
       "      <td>0</td>\n",
       "      <td>0</td>\n",
       "      <td>0</td>\n",
       "      <td>0</td>\n",
       "      <td>0</td>\n",
       "      <td>0</td>\n",
       "      <td>0</td>\n",
       "      <td>0</td>\n",
       "      <td>0</td>\n",
       "      <td>0</td>\n",
       "      <td>0</td>\n",
       "      <td>0</td>\n",
       "      <td>0</td>\n",
       "      <td>0</td>\n",
       "      <td>0</td>\n",
       "      <td>0</td>\n",
       "      <td>0</td>\n",
       "      <td>0</td>\n",
       "      <td>0</td>\n",
       "      <td>0</td>\n",
       "      <td>1</td>\n",
       "      <td>0</td>\n",
       "      <td>0</td>\n",
       "      <td>0</td>\n",
       "      <td>0</td>\n",
       "      <td>0</td>\n",
       "      <td>0</td>\n",
       "      <td>0</td>\n",
       "      <td>0</td>\n",
       "      <td>0</td>\n",
       "      <td>0</td>\n",
       "      <td>1</td>\n",
       "      <td>0</td>\n",
       "      <td>0</td>\n",
       "      <td>0</td>\n",
       "      <td>0</td>\n",
       "      <td>0</td>\n",
       "      <td>0</td>\n",
       "      <td>0</td>\n",
       "      <td>0</td>\n",
       "      <td>0</td>\n",
       "      <td>0</td>\n",
       "      <td>0</td>\n",
       "      <td>0</td>\n",
       "      <td>0</td>\n",
       "      <td>0</td>\n",
       "      <td>0</td>\n",
       "      <td>0</td>\n",
       "      <td>0</td>\n",
       "      <td>0</td>\n",
       "      <td>1</td>\n",
       "      <td>0</td>\n",
       "      <td>0</td>\n",
       "      <td>0</td>\n",
       "      <td>0</td>\n",
       "      <td>0</td>\n",
       "      <td>0</td>\n",
       "      <td>0</td>\n",
       "      <td>0</td>\n",
       "      <td>0</td>\n",
       "      <td>0</td>\n",
       "      <td>0</td>\n",
       "      <td>0</td>\n",
       "      <td>0</td>\n",
       "      <td>0</td>\n",
       "      <td>0</td>\n",
       "      <td>0</td>\n",
       "      <td>0</td>\n",
       "      <td>0</td>\n",
       "      <td>0</td>\n",
       "      <td>0</td>\n",
       "      <td>0</td>\n",
       "      <td>0</td>\n",
       "      <td>0</td>\n",
       "      <td>0</td>\n",
       "      <td>0</td>\n",
       "      <td>0</td>\n",
       "      <td>0</td>\n",
       "      <td>0</td>\n",
       "      <td>0</td>\n",
       "      <td>0</td>\n",
       "      <td>0</td>\n",
       "      <td>0</td>\n",
       "      <td>0</td>\n",
       "      <td>0</td>\n",
       "      <td>0</td>\n",
       "      <td>0</td>\n",
       "      <td>0</td>\n",
       "      <td>0</td>\n",
       "    </tr>\n",
       "    <tr>\n",
       "      <th>273276</th>\n",
       "      <td>2200.0</td>\n",
       "      <td>2200.0</td>\n",
       "      <td>2172.921022</td>\n",
       "      <td>36</td>\n",
       "      <td>9.63</td>\n",
       "      <td>70.61</td>\n",
       "      <td>2.0</td>\n",
       "      <td>42000.0</td>\n",
       "      <td>False</td>\n",
       "      <td>21.77</td>\n",
       "      <td>0.0</td>\n",
       "      <td>720.0</td>\n",
       "      <td>724.0</td>\n",
       "      <td>0.0</td>\n",
       "      <td>14.0</td>\n",
       "      <td>0.0</td>\n",
       "      <td>14544.0</td>\n",
       "      <td>38.0</td>\n",
       "      <td>20.0</td>\n",
       "      <td>0.0</td>\n",
       "      <td>0.0</td>\n",
       "      <td>584.0</td>\n",
       "      <td>580.0</td>\n",
       "      <td>0.0</td>\n",
       "      <td>1.0</td>\n",
       "      <td>0.0</td>\n",
       "      <td>NaN</td>\n",
       "      <td>NaN</td>\n",
       "      <td>NaN</td>\n",
       "      <td>NaN</td>\n",
       "      <td>NaN</td>\n",
       "      <td>NaN</td>\n",
       "      <td>NaN</td>\n",
       "      <td>0.0</td>\n",
       "      <td>0.0</td>\n",
       "      <td>NaN</td>\n",
       "      <td>NaN</td>\n",
       "      <td>NaN</td>\n",
       "      <td>NaN</td>\n",
       "      <td>NaN</td>\n",
       "      <td>NaN</td>\n",
       "      <td>NaN</td>\n",
       "      <td>NaN</td>\n",
       "      <td>NaN</td>\n",
       "      <td>NaN</td>\n",
       "      <td>NaN</td>\n",
       "      <td>NaN</td>\n",
       "      <td>NaN</td>\n",
       "      <td>NaN</td>\n",
       "      <td>NaN</td>\n",
       "      <td>NaN</td>\n",
       "      <td>NaN</td>\n",
       "      <td>NaN</td>\n",
       "      <td>NaN</td>\n",
       "      <td>NaN</td>\n",
       "      <td>NaN</td>\n",
       "      <td>NaN</td>\n",
       "      <td>NaN</td>\n",
       "      <td>0.0</td>\n",
       "      <td>0.0</td>\n",
       "      <td>NaN</td>\n",
       "      <td>NaN</td>\n",
       "      <td>NaN</td>\n",
       "      <td>NaN</td>\n",
       "      <td>0</td>\n",
       "      <td>0</td>\n",
       "      <td>0</td>\n",
       "      <td>1</td>\n",
       "      <td>0</td>\n",
       "      <td>0</td>\n",
       "      <td>0</td>\n",
       "      <td>0</td>\n",
       "      <td>0</td>\n",
       "      <td>0</td>\n",
       "      <td>0</td>\n",
       "      <td>0</td>\n",
       "      <td>0</td>\n",
       "      <td>0</td>\n",
       "      <td>0</td>\n",
       "      <td>0</td>\n",
       "      <td>0</td>\n",
       "      <td>0</td>\n",
       "      <td>0</td>\n",
       "      <td>0</td>\n",
       "      <td>0</td>\n",
       "      <td>0</td>\n",
       "      <td>0</td>\n",
       "      <td>0</td>\n",
       "      <td>0</td>\n",
       "      <td>0</td>\n",
       "      <td>0</td>\n",
       "      <td>0</td>\n",
       "      <td>0</td>\n",
       "      <td>0</td>\n",
       "      <td>0</td>\n",
       "      <td>0</td>\n",
       "      <td>0</td>\n",
       "      <td>0</td>\n",
       "      <td>0</td>\n",
       "      <td>0</td>\n",
       "      <td>0</td>\n",
       "      <td>0</td>\n",
       "      <td>1</td>\n",
       "      <td>1</td>\n",
       "      <td>0</td>\n",
       "      <td>0</td>\n",
       "      <td>0</td>\n",
       "      <td>0</td>\n",
       "      <td>0</td>\n",
       "      <td>0</td>\n",
       "      <td>0</td>\n",
       "      <td>0</td>\n",
       "      <td>0</td>\n",
       "      <td>1</td>\n",
       "      <td>0</td>\n",
       "      <td>0</td>\n",
       "      <td>0</td>\n",
       "      <td>0</td>\n",
       "      <td>0</td>\n",
       "      <td>0</td>\n",
       "      <td>0</td>\n",
       "      <td>0</td>\n",
       "      <td>1</td>\n",
       "      <td>0</td>\n",
       "      <td>0</td>\n",
       "      <td>0</td>\n",
       "      <td>0</td>\n",
       "      <td>0</td>\n",
       "      <td>0</td>\n",
       "      <td>0</td>\n",
       "      <td>0</td>\n",
       "      <td>0</td>\n",
       "      <td>0</td>\n",
       "      <td>0</td>\n",
       "      <td>0</td>\n",
       "      <td>0</td>\n",
       "      <td>0</td>\n",
       "      <td>0</td>\n",
       "      <td>0</td>\n",
       "      <td>0</td>\n",
       "      <td>0</td>\n",
       "      <td>0</td>\n",
       "      <td>0</td>\n",
       "      <td>0</td>\n",
       "      <td>0</td>\n",
       "      <td>0</td>\n",
       "      <td>0</td>\n",
       "      <td>0</td>\n",
       "      <td>0</td>\n",
       "      <td>0</td>\n",
       "      <td>0</td>\n",
       "      <td>0</td>\n",
       "      <td>0</td>\n",
       "      <td>0</td>\n",
       "      <td>0</td>\n",
       "      <td>0</td>\n",
       "      <td>0</td>\n",
       "      <td>0</td>\n",
       "      <td>0</td>\n",
       "      <td>0</td>\n",
       "      <td>0</td>\n",
       "      <td>0</td>\n",
       "      <td>0</td>\n",
       "      <td>0</td>\n",
       "      <td>0</td>\n",
       "      <td>0</td>\n",
       "      <td>0</td>\n",
       "      <td>0</td>\n",
       "      <td>0</td>\n",
       "      <td>0</td>\n",
       "      <td>0</td>\n",
       "    </tr>\n",
       "  </tbody>\n",
       "</table>\n",
       "</div>"
      ],
      "text/plain": [
       "         loan_amnt  funded_amnt  funded_amnt_inv  term  int_rate  installment  \\\n",
       "962372      1200.0       1200.0      1200.000000    36     14.33        41.21   \n",
       "1506672     3000.0       3000.0      3000.000000    36      8.59        94.83   \n",
       "273276      2200.0       2200.0      2172.921022    36      9.63        70.61   \n",
       "\n",
       "         emp_length  annual_inc  charged_off    dti  delinq_2yrs  \\\n",
       "962372          4.0     31200.0        False  19.19          1.0   \n",
       "1506672         NaN     30058.0         True  26.56          0.0   \n",
       "273276          2.0     42000.0        False  21.77          0.0   \n",
       "\n",
       "         fico_range_low  fico_range_high  inq_last_6mths  open_acc  pub_rec  \\\n",
       "962372            665.0            669.0             0.0       9.0      0.0   \n",
       "1506672           780.0            784.0             1.0      13.0      0.0   \n",
       "273276            720.0            724.0             0.0      14.0      0.0   \n",
       "\n",
       "         revol_bal  revol_util  total_acc  out_prncp  out_prncp_inv  \\\n",
       "962372      7202.0        54.6       14.0        0.0            0.0   \n",
       "1506672      155.0         0.5       43.0        0.0            0.0   \n",
       "273276     14544.0        38.0       20.0        0.0            0.0   \n",
       "\n",
       "         last_fico_range_high  last_fico_range_low  \\\n",
       "962372                  509.0                505.0   \n",
       "1506672                 579.0                575.0   \n",
       "273276                  584.0                580.0   \n",
       "\n",
       "         collections_12_mths_ex_med  policy_code  acc_now_delinq  \\\n",
       "962372                          0.0          1.0             0.0   \n",
       "1506672                         0.0          1.0             0.0   \n",
       "273276                          0.0          1.0             0.0   \n",
       "\n",
       "         tot_coll_amt  tot_cur_bal  total_rev_hi_lim  acc_open_past_24mths  \\\n",
       "962372            0.0      18196.0           13200.0                   4.0   \n",
       "1506672           0.0      25344.0           34200.0                  10.0   \n",
       "273276            NaN          NaN               NaN                   NaN   \n",
       "\n",
       "         avg_cur_bal  bc_open_to_buy  bc_util  chargeoff_within_12_mths  \\\n",
       "962372        2022.0           377.0     88.6                       0.0   \n",
       "1506672       2112.0         34045.0      0.5                       0.0   \n",
       "273276           NaN             NaN      NaN                       0.0   \n",
       "\n",
       "         delinq_amnt  mo_sin_old_il_acct  mo_sin_old_rev_tl_op  \\\n",
       "962372           0.0                54.0                  97.0   \n",
       "1506672          0.0               126.0                 190.0   \n",
       "273276           0.0                 NaN                   NaN   \n",
       "\n",
       "         mo_sin_rcnt_rev_tl_op  mo_sin_rcnt_tl  mort_acc  \\\n",
       "962372                     6.0             6.0       0.0   \n",
       "1506672                    8.0             5.0       0.0   \n",
       "273276                     NaN             NaN       NaN   \n",
       "\n",
       "         mths_since_recent_bc  mths_since_recent_inq  num_accts_ever_120_pd  \\\n",
       "962372                    9.0                    7.0                    1.0   \n",
       "1506672                   8.0                    1.0                    0.0   \n",
       "273276                    NaN                    NaN                    NaN   \n",
       "\n",
       "         num_actv_bc_tl  num_actv_rev_tl  num_bc_sats  num_bc_tl  num_il_tl  \\\n",
       "962372              3.0              6.0          3.0        5.0        5.0   \n",
       "1506672             1.0              1.0          9.0       12.0       26.0   \n",
       "273276              NaN              NaN          NaN        NaN        NaN   \n",
       "\n",
       "         num_op_rev_tl  num_rev_accts  num_rev_tl_bal_gt_0  num_sats  \\\n",
       "962372             6.0            8.0                  6.0       9.0   \n",
       "1506672           10.0           17.0                  1.0      13.0   \n",
       "273276             NaN            NaN                  NaN       NaN   \n",
       "\n",
       "         num_tl_120dpd_2m  num_tl_30dpd  num_tl_90g_dpd_24m  \\\n",
       "962372                0.0           0.0                 0.0   \n",
       "1506672               0.0           0.0                 0.0   \n",
       "273276                NaN           NaN                 NaN   \n",
       "\n",
       "         num_tl_op_past_12m  pct_tl_nvr_dlq  percent_bc_gt_75  \\\n",
       "962372                  4.0            92.0             100.0   \n",
       "1506672                 4.0           100.0               0.0   \n",
       "273276                  NaN             NaN               NaN   \n",
       "\n",
       "         pub_rec_bankruptcies  tax_liens  tot_hi_cred_lim  total_bal_ex_mort  \\\n",
       "962372                    0.0        0.0          26298.0            18196.0   \n",
       "1506672                   0.0        0.0          63300.0            25344.0   \n",
       "273276                    0.0        0.0              NaN                NaN   \n",
       "\n",
       "         total_bc_limit  total_il_high_credit_limit  sub_grade_A2  \\\n",
       "962372           3300.0                     13098.0             0   \n",
       "1506672         34200.0                     29100.0             0   \n",
       "273276              NaN                         NaN             0   \n",
       "\n",
       "         sub_grade_A3  sub_grade_A4  sub_grade_A5  sub_grade_B1  sub_grade_B2  \\\n",
       "962372              0             0             0             0             0   \n",
       "1506672             0             0             1             0             0   \n",
       "273276              0             0             1             0             0   \n",
       "\n",
       "         sub_grade_B3  sub_grade_B4  sub_grade_B5  sub_grade_C1  sub_grade_C2  \\\n",
       "962372              0             0             0             1             0   \n",
       "1506672             0             0             0             0             0   \n",
       "273276              0             0             0             0             0   \n",
       "\n",
       "         sub_grade_C3  sub_grade_C4  sub_grade_C5  sub_grade_D1  sub_grade_D2  \\\n",
       "962372              0             0             0             0             0   \n",
       "1506672             0             0             0             0             0   \n",
       "273276              0             0             0             0             0   \n",
       "\n",
       "         sub_grade_D3  sub_grade_D4  sub_grade_D5  sub_grade_E1  sub_grade_E2  \\\n",
       "962372              0             0             0             0             0   \n",
       "1506672             0             0             0             0             0   \n",
       "273276              0             0             0             0             0   \n",
       "\n",
       "         sub_grade_E3  sub_grade_E4  sub_grade_E5  sub_grade_F1  sub_grade_F2  \\\n",
       "962372              0             0             0             0             0   \n",
       "1506672             0             0             0             0             0   \n",
       "273276              0             0             0             0             0   \n",
       "\n",
       "         sub_grade_F3  sub_grade_F4  sub_grade_F5  sub_grade_G1  sub_grade_G2  \\\n",
       "962372              0             0             0             0             0   \n",
       "1506672             0             0             0             0             0   \n",
       "273276              0             0             0             0             0   \n",
       "\n",
       "         sub_grade_G3  sub_grade_G4  sub_grade_G5  home_ownership_MORTGAGE  \\\n",
       "962372              0             0             0                        0   \n",
       "1506672             0             0             0                        0   \n",
       "273276              0             0             0                        0   \n",
       "\n",
       "         home_ownership_NONE  home_ownership_OTHER  home_ownership_OWN  \\\n",
       "962372                     0                     0                   0   \n",
       "1506672                    0                     0                   0   \n",
       "273276                     0                     0                   0   \n",
       "\n",
       "         home_ownership_RENT  verification_status_Source Verified  \\\n",
       "962372                     1                                    0   \n",
       "1506672                    1                                    0   \n",
       "273276                     1                                    1   \n",
       "\n",
       "         verification_status_Verified  purpose_credit_card  \\\n",
       "962372                              0                    0   \n",
       "1506672                             0                    0   \n",
       "273276                              0                    0   \n",
       "\n",
       "         purpose_debt_consolidation  purpose_educational  \\\n",
       "962372                            0                    0   \n",
       "1506672                           0                    0   \n",
       "273276                            0                    0   \n",
       "\n",
       "         purpose_home_improvement  purpose_house  purpose_major_purchase  \\\n",
       "962372                          0              0                       0   \n",
       "1506672                         0              0                       0   \n",
       "273276                          0              0                       0   \n",
       "\n",
       "         purpose_medical  purpose_moving  purpose_other  \\\n",
       "962372                 1               0              0   \n",
       "1506672                0               0              1   \n",
       "273276                 0               0              1   \n",
       "\n",
       "         purpose_renewable_energy  purpose_small_business  purpose_vacation  \\\n",
       "962372                          0                       0                 0   \n",
       "1506672                         0                       0                 0   \n",
       "273276                          0                       0                 0   \n",
       "\n",
       "         purpose_wedding  addr_state_AL  addr_state_AR  addr_state_AZ  \\\n",
       "962372                 0              0              0              0   \n",
       "1506672                0              0              0              0   \n",
       "273276                 0              0              0              0   \n",
       "\n",
       "         addr_state_CA  addr_state_CO  addr_state_CT  addr_state_DC  \\\n",
       "962372               0              0              0              0   \n",
       "1506672              0              0              0              0   \n",
       "273276               0              1              0              0   \n",
       "\n",
       "         addr_state_DE  addr_state_FL  addr_state_GA  addr_state_HI  \\\n",
       "962372               0              0              0              0   \n",
       "1506672              0              0              0              0   \n",
       "273276               0              0              0              0   \n",
       "\n",
       "         addr_state_IA  addr_state_ID  addr_state_IL  addr_state_IN  \\\n",
       "962372               0              0              0              0   \n",
       "1506672              0              0              0              1   \n",
       "273276               0              0              0              0   \n",
       "\n",
       "         addr_state_KS  addr_state_KY  addr_state_LA  addr_state_MA  \\\n",
       "962372               0              0              0              0   \n",
       "1506672              0              0              0              0   \n",
       "273276               0              0              0              0   \n",
       "\n",
       "         addr_state_MD  addr_state_ME  addr_state_MI  addr_state_MN  \\\n",
       "962372               0              0              0              0   \n",
       "1506672              0              0              0              0   \n",
       "273276               0              0              0              0   \n",
       "\n",
       "         addr_state_MO  addr_state_MS  addr_state_MT  addr_state_NC  \\\n",
       "962372               0              0              0              0   \n",
       "1506672              0              0              0              0   \n",
       "273276               0              0              0              0   \n",
       "\n",
       "         addr_state_ND  addr_state_NE  addr_state_NH  addr_state_NJ  \\\n",
       "962372               0              0              0              0   \n",
       "1506672              0              0              0              0   \n",
       "273276               0              0              0              0   \n",
       "\n",
       "         addr_state_NM  addr_state_NV  addr_state_NY  addr_state_OH  \\\n",
       "962372               0              0              0              0   \n",
       "1506672              0              0              0              0   \n",
       "273276               0              0              0              0   \n",
       "\n",
       "         addr_state_OK  addr_state_OR  addr_state_PA  addr_state_RI  \\\n",
       "962372               0              0              0              1   \n",
       "1506672              0              0              0              0   \n",
       "273276               0              0              0              0   \n",
       "\n",
       "         addr_state_SC  addr_state_SD  addr_state_TN  addr_state_TX  \\\n",
       "962372               0              0              0              0   \n",
       "1506672              0              0              0              0   \n",
       "273276               0              0              0              0   \n",
       "\n",
       "         addr_state_UT  addr_state_VA  addr_state_VT  addr_state_WA  \\\n",
       "962372               0              0              0              0   \n",
       "1506672              0              0              0              0   \n",
       "273276               0              0              0              0   \n",
       "\n",
       "         addr_state_WI  addr_state_WV  addr_state_WY  initial_list_status_w  \\\n",
       "962372               0              0              0                      0   \n",
       "1506672              0              0              0                      0   \n",
       "273276               0              0              0                      0   \n",
       "\n",
       "         application_type_Joint App  disbursement_method_DirectPay  \n",
       "962372                            0                              0  \n",
       "1506672                           0                              0  \n",
       "273276                            0                              0  "
      ]
     },
     "execution_count": 60,
     "metadata": {},
     "output_type": "execute_result"
    }
   ],
   "source": [
    "df.sample(3)"
   ]
  },
  {
   "cell_type": "markdown",
   "metadata": {
    "_cell_guid": "35ee020b-95d2-4cb3-9ade-a7cf08e9ace8",
    "_uuid": "266c4c677d0737fa3e28dbe271e8223467967ae0"
   },
   "source": [
    "## Train/test split\n",
    "<a id=\"7.1\"></a>"
   ]
  },
  {
   "cell_type": "code",
   "execution_count": 61,
   "metadata": {
    "_cell_guid": "73b60707-f995-4487-a799-7e7d2a6e5b5f",
    "_uuid": "4b81987b3bf09fa83c79e47d04aa1192ffea61a5"
   },
   "outputs": [],
   "source": [
    "X = df.drop(labels=['charged_off'], axis=1) # Features\n",
    "y = df.loc[:,'charged_off'] # Response variable\n",
    "df = None"
   ]
  },
  {
   "cell_type": "code",
   "execution_count": 62,
   "metadata": {
    "_cell_guid": "367d4fe7-e305-478c-b10a-b3279f9b58e9",
    "_uuid": "456be27a6cbb840501ba58bccacd8150c9c7bbd1"
   },
   "outputs": [],
   "source": [
    "from sklearn.model_selection import train_test_split"
   ]
  },
  {
   "cell_type": "markdown",
   "metadata": {
    "_cell_guid": "0616d433-213b-4a81-bfb2-e65d6ba5fb79",
    "_uuid": "6c8d9bd7443c621e8707f3d4b8fdeee75a503167"
   },
   "source": [
    "Let's do a 90/10 train/test split."
   ]
  },
  {
   "cell_type": "code",
   "execution_count": 63,
   "metadata": {
    "_cell_guid": "6b64a2bd-0785-404d-8e75-b82712f8ab6a",
    "_uuid": "c385aaf98736317f4d2971fba7170aab75a3ce9d"
   },
   "outputs": [],
   "source": [
    "random_state = 1 # Just to make the results fixed\n",
    "X_train, X_test, y_train, y_test = train_test_split(X, y, test_size=0.1, random_state=random_state, stratify=y)\n",
    "X = None\n",
    "y = None"
   ]
  },
  {
   "cell_type": "code",
   "execution_count": 64,
   "metadata": {},
   "outputs": [
    {
     "data": {
      "text/plain": [
       "(733487, 170)"
      ]
     },
     "execution_count": 64,
     "metadata": {},
     "output_type": "execute_result"
    }
   ],
   "source": [
    "X_train.shape"
   ]
  },
  {
   "cell_type": "code",
   "execution_count": 65,
   "metadata": {},
   "outputs": [
    {
     "data": {
      "text/plain": [
       "(81499, 170)"
      ]
     },
     "execution_count": 65,
     "metadata": {},
     "output_type": "execute_result"
    }
   ],
   "source": [
    "X_test.shape"
   ]
  },
  {
   "cell_type": "markdown",
   "metadata": {
    "_cell_guid": "4d75c70c-4f7d-4c84-abab-cc22fe78ca04",
    "_uuid": "3eb671b052048ab6e3a161b773160151440bc077"
   },
   "source": [
    "## Imputation with mean substitution\n",
    "<a id=\"7.2\"></a>"
   ]
  },
  {
   "cell_type": "markdown",
   "metadata": {
    "_cell_guid": "ef289f73-fa8e-43ff-a739-52b39221be56",
    "_uuid": "11c157b0eb3cee2bd0dcd8d6ee72d99c757336b3"
   },
   "source": [
    "How complete is our training data?"
   ]
  },
  {
   "cell_type": "code",
   "execution_count": 66,
   "metadata": {
    "_cell_guid": "e2c1de55-63f7-4a88-a2d3-532fac855d39",
    "_uuid": "ef20d8e989c4cab1498c9eca8e26993d1002c808",
    "scrolled": true
   },
   "outputs": [
    {
     "data": {
      "text/plain": [
       "mths_since_recent_inq         0.855860\n",
       "num_tl_120dpd_2m              0.885714\n",
       "mo_sin_old_il_acct            0.890249\n",
       "pct_tl_nvr_dlq                0.917091\n",
       "avg_cur_bal                   0.917242\n",
       "mo_sin_old_rev_tl_op          0.917257\n",
       "mo_sin_rcnt_rev_tl_op         0.917257\n",
       "num_rev_accts                 0.917257\n",
       "total_rev_hi_lim              0.917258\n",
       "mo_sin_rcnt_tl                0.917258\n",
       "num_accts_ever_120_pd         0.917258\n",
       "num_actv_bc_tl                0.917258\n",
       "num_bc_tl                     0.917258\n",
       "tot_cur_bal                   0.917258\n",
       "num_il_tl                     0.917258\n",
       "num_op_rev_tl                 0.917258\n",
       "num_rev_tl_bal_gt_0           0.917258\n",
       "num_tl_90g_dpd_24m            0.917258\n",
       "num_tl_op_past_12m            0.917258\n",
       "tot_hi_cred_lim               0.917258\n",
       "total_il_high_credit_limit    0.917258\n",
       "num_actv_rev_tl               0.917258\n",
       "tot_coll_amt                  0.917258\n",
       "num_tl_30dpd                  0.917258\n",
       "num_bc_sats                   0.931642\n",
       "num_sats                      0.931642\n",
       "bc_util                       0.931845\n",
       "percent_bc_gt_75              0.932101\n",
       "bc_open_to_buy                0.932441\n",
       "mths_since_recent_bc          0.933169\n",
       "mort_acc                      0.942105\n",
       "total_bc_limit                0.942105\n",
       "total_bal_ex_mort             0.942105\n",
       "acc_open_past_24mths          0.942105\n",
       "emp_length                    0.948144\n",
       "pub_rec_bankruptcies          0.999149\n",
       "revol_util                    0.999396\n",
       "collections_12_mths_ex_med    0.999930\n",
       "chargeoff_within_12_mths      0.999930\n",
       "tax_liens                     0.999954\n",
       "dti                           0.999955\n",
       "inq_last_6mths                0.999999\n",
       "dtype: float64"
      ]
     },
     "execution_count": 66,
     "metadata": {},
     "output_type": "execute_result"
    }
   ],
   "source": [
    "incomplete_cols(X_train)"
   ]
  },
  {
   "cell_type": "markdown",
   "metadata": {
    "_cell_guid": "cc46fb54-6537-4dfd-8b25-26dc029cd921",
    "_uuid": "b03a222b3626e441ef356cc5e0f0b9cb25eb0e0b"
   },
   "source": [
    "The learning algorithms cannot have missing data. Perform mean substitution, using only the means of the training set to prevent test set leakage."
   ]
  },
  {
   "cell_type": "code",
   "execution_count": 67,
   "metadata": {
    "_cell_guid": "6566134d-7bf8-4b74-9fa7-ffc66470f7c3",
    "_uuid": "851d2e8508f723a605e442ed71a5aa64bd62588c"
   },
   "outputs": [],
   "source": [
    "from sklearn.preprocessing import Imputer"
   ]
  },
  {
   "cell_type": "code",
   "execution_count": 68,
   "metadata": {
    "_cell_guid": "118c6cb2-ffa7-4505-838f-475ff61f0fb9",
    "_uuid": "de03f263248639ac3f90c3721b82a29cae54431b"
   },
   "outputs": [],
   "source": [
    "imputer = Imputer().fit(X_train)"
   ]
  },
  {
   "cell_type": "code",
   "execution_count": 69,
   "metadata": {
    "_cell_guid": "e4c2e660-e592-4871-b7b0-cae08e0e40af",
    "_uuid": "db1b87cad194575b09a6ef7c8474736ef4250554"
   },
   "outputs": [],
   "source": [
    "X_train = pd.DataFrame(imputer.transform(X_train), columns=X_train.columns)\n",
    "X_test  = pd.DataFrame(imputer.transform(X_test),  columns=X_test.columns)"
   ]
  },
  {
   "cell_type": "markdown",
   "metadata": {
    "_cell_guid": "d241b358-7f0b-44d3-86cd-d2d98d5dbf9e",
    "_uuid": "e91e0c1eb2783fa8701c4c1e45b01743c6d5f934"
   },
   "source": [
    "## Standardize the data\n",
    "<a id=\"7.3\"></a>"
   ]
  },
  {
   "cell_type": "markdown",
   "metadata": {
    "_cell_guid": "55f362d4-9e8a-43c7-a17d-48908fb1c66b",
    "_uuid": "a23991734ea1e185d9dab2f67f5098c9c515e93a"
   },
   "source": [
    "Shift and scale each column individually so that it has zero mean and unit variance. This will help to train the linear models.\n",
    "\n",
    "Train the scaler using only the training data to prevent test set leakage."
   ]
  },
  {
   "cell_type": "code",
   "execution_count": 70,
   "metadata": {
    "_cell_guid": "e3811aa0-2b4e-4c07-8e81-f7e3a4b78162",
    "_uuid": "595deb455cbc792529daf83a78a70b9793dfd411"
   },
   "outputs": [],
   "source": [
    "from sklearn.preprocessing import StandardScaler"
   ]
  },
  {
   "cell_type": "code",
   "execution_count": 71,
   "metadata": {
    "_cell_guid": "543d7769-a4fb-4fdd-9be3-648c12d4977a",
    "_uuid": "2fbc17402c0a863c1058859be0560b52b327bdc9"
   },
   "outputs": [],
   "source": [
    "scaler = StandardScaler().fit(X_train)"
   ]
  },
  {
   "cell_type": "code",
   "execution_count": 72,
   "metadata": {
    "_cell_guid": "5f86cfff-0b10-4ff4-b136-0fb51edf50af",
    "_uuid": "f73bd45195b53ff5edec0b13bf9db8b133431ac1"
   },
   "outputs": [],
   "source": [
    "X_train = pd.DataFrame(scaler.transform(X_train), columns=X_train.columns)\n",
    "X_test  = pd.DataFrame(scaler.transform(X_test),  columns=X_test.columns)"
   ]
  },
  {
   "cell_type": "markdown",
   "metadata": {},
   "source": [
    "## Automatic feature selection"
   ]
  },
  {
   "cell_type": "code",
   "execution_count": 73,
   "metadata": {},
   "outputs": [],
   "source": [
    "from sklearn.feature_selection import SelectKBest, mutual_info_classif"
   ]
  },
  {
   "cell_type": "code",
   "execution_count": 74,
   "metadata": {},
   "outputs": [],
   "source": [
    "selector = SelectKBest(mutual_info_classif, k=15)"
   ]
  },
  {
   "cell_type": "code",
   "execution_count": 75,
   "metadata": {},
   "outputs": [
    {
     "data": {
      "text/plain": [
       "SelectKBest(k=15,\n",
       "      score_func=<function mutual_info_classif at 0x000001FC53EBF488>)"
      ]
     },
     "execution_count": 75,
     "metadata": {},
     "output_type": "execute_result"
    }
   ],
   "source": [
    "selector.fit(X_train.iloc[1:50000], y_train.iloc[1:50000])"
   ]
  },
  {
   "cell_type": "code",
   "execution_count": 76,
   "metadata": {},
   "outputs": [
    {
     "data": {
      "text/plain": [
       "(733487, 170)"
      ]
     },
     "execution_count": 76,
     "metadata": {},
     "output_type": "execute_result"
    }
   ],
   "source": [
    "X_train.shape"
   ]
  },
  {
   "cell_type": "code",
   "execution_count": 77,
   "metadata": {},
   "outputs": [
    {
     "data": {
      "text/plain": [
       "(81499, 170)"
      ]
     },
     "execution_count": 77,
     "metadata": {},
     "output_type": "execute_result"
    }
   ],
   "source": [
    "X_test.shape"
   ]
  },
  {
   "cell_type": "code",
   "execution_count": 78,
   "metadata": {},
   "outputs": [],
   "source": [
    "X_train = selector.transform(X_train)\n",
    "X_test  = selector.transform(X_test)"
   ]
  },
  {
   "cell_type": "code",
   "execution_count": 79,
   "metadata": {},
   "outputs": [
    {
     "data": {
      "text/plain": [
       "(733487, 15)"
      ]
     },
     "execution_count": 79,
     "metadata": {},
     "output_type": "execute_result"
    }
   ],
   "source": [
    "X_train.shape"
   ]
  },
  {
   "cell_type": "code",
   "execution_count": 80,
   "metadata": {},
   "outputs": [
    {
     "data": {
      "text/plain": [
       "(81499, 15)"
      ]
     },
     "execution_count": 80,
     "metadata": {},
     "output_type": "execute_result"
    }
   ],
   "source": [
    "X_test.shape"
   ]
  },
  {
   "cell_type": "markdown",
   "metadata": {
    "_cell_guid": "52309b77-d97d-412a-b20f-da81f44a486f",
    "_uuid": "bbabe5a3810756b27f10e862f3d7ea34a21a20f8"
   },
   "source": [
    "# Predictive Modeling: SGDClassifier\n",
    "<a id=\"8\"></a>"
   ]
  },
  {
   "cell_type": "markdown",
   "metadata": {
    "_cell_guid": "fc774c42-47e6-427a-ac9c-a4bdbf7b5837",
    "_uuid": "39ac0b9f118cbb5b11d6749f2ec3f8aa3f97ac6d"
   },
   "source": [
    "I decided to use a SGD Classifier by looking at the machine learning flowchart here: http://scikit-learn.org/stable/tutorial/machine_learning_map/index.html.\n",
    "\n",
    "The SGDClassifier estimator implements linear classifiers (SVM, logistic regression, a.o.) with SGD training. The linear classifier is chosen by the `loss` hyperparameter."
   ]
  },
  {
   "cell_type": "code",
   "execution_count": 94,
   "metadata": {
    "_cell_guid": "81e2ef8e-37af-44e5-a802-8ea4b028c5f8",
    "_uuid": "1799e7f0f05fed4064007a5cec36869eb3a43ba9"
   },
   "outputs": [],
   "source": [
    "from sklearn.linear_model import SGDClassifier\n",
    "from sklearn.model_selection import GridSearchCV\n",
    "from sklearn.metrics import matthews_corrcoef, make_scorer"
   ]
  },
  {
   "cell_type": "markdown",
   "metadata": {
    "_cell_guid": "04560103-0efe-4ace-831b-be73ece4fe7b",
    "_uuid": "4476709021bd10a8e39d8f7e99e8fdf4adcb6970"
   },
   "source": [
    "## Train with grid search\n",
    "<a id=\"8.1\"></a>"
   ]
  },
  {
   "cell_type": "markdown",
   "metadata": {
    "_cell_guid": "b7460548-ee72-4f66-b921-2ea68bd5db24",
    "_uuid": "edd6b1de60cf7b9da054d0259ea83e8b4e4e8719"
   },
   "source": [
    "We're going to search through many hyperparameters of SGDClassifier using an exhaustive grid search with 3-fold cross-validation, implemented in GridSearchCV.\n",
    "\n",
    "Here are the hyperparameters that we'll try:"
   ]
  },
  {
   "cell_type": "code",
   "execution_count": 95,
   "metadata": {
    "_cell_guid": "7de32018-fcad-45b2-b770-3c29b075d3d5",
    "_uuid": "1508be5b632d730bcd308afd299aa7e4d03906b2"
   },
   "outputs": [],
   "source": [
    "param_grid = [{'loss': ['hinge'],\n",
    "               'alpha': [10.0**k for k in range(-3, 3)],\n",
    "               'class_weight': [None, 'balanced']},\n",
    "              {'loss': ['log'],\n",
    "               'alpha': [10.0**k for k in range(-3, 3)],\n",
    "               'penalty': ['l2', 'l1']}]"
   ]
  },
  {
   "cell_type": "markdown",
   "metadata": {
    "_cell_guid": "9fb73eb0-d7cc-4335-bdd0-e4297f358732",
    "_uuid": "2de3c9d4458c1e18531be4b3271ce83895bb9ad2"
   },
   "source": [
    "Instantiate the grid estimator. We'll use the Matthews correlation coefficient as our scoring metric."
   ]
  },
  {
   "cell_type": "code",
   "execution_count": 96,
   "metadata": {
    "_cell_guid": "c016e122-86dd-4c96-88c2-a901fe48cf70",
    "_uuid": "8144ec0a936a93a1fbf5e2dd00cd0082dbc40782"
   },
   "outputs": [],
   "source": [
    "grid = GridSearchCV(estimator=SGDClassifier(max_iter=1000, tol=1e-3, random_state=random_state, warm_start=True), param_grid=param_grid, scoring=make_scorer(matthews_corrcoef), n_jobs=4, pre_dispatch=8, cv=5, verbose=1)"
   ]
  },
  {
   "cell_type": "markdown",
   "metadata": {
    "_cell_guid": "a486c903-f33c-41a2-89bc-ad1b0d3e1fb3",
    "_uuid": "536169e18eb2d6428b9abb8029705e6fd54c8390"
   },
   "source": [
    "Run the grid search (this could take some time)."
   ]
  },
  {
   "cell_type": "code",
   "execution_count": 97,
   "metadata": {
    "_cell_guid": "b907b40c-402d-4d4a-a919-e4b63e0a832d",
    "_uuid": "76e6c2e828e670a1494d4d4fbec01f232f067512"
   },
   "outputs": [
    {
     "name": "stdout",
     "output_type": "stream",
     "text": [
      "Fitting 5 folds for each of 24 candidates, totalling 120 fits\n"
     ]
    },
    {
     "name": "stderr",
     "output_type": "stream",
     "text": [
      "[Parallel(n_jobs=4)]: Done  42 tasks      | elapsed:   35.8s\n",
      "[Parallel(n_jobs=4)]: Done 120 out of 120 | elapsed:  1.7min finished\n"
     ]
    },
    {
     "data": {
      "text/plain": [
       "GridSearchCV(cv=5, error_score='raise',\n",
       "       estimator=SGDClassifier(alpha=0.0001, average=False, class_weight=None, epsilon=0.1,\n",
       "       eta0=0.0, fit_intercept=True, l1_ratio=0.15,\n",
       "       learning_rate='optimal', loss='hinge', max_iter=1000, n_iter=None,\n",
       "       n_jobs=1, penalty='l2', power_t=0.5, random_state=1, shuffle=True,\n",
       "       tol=0.001, verbose=0, warm_start=True),\n",
       "       fit_params=None, iid=True, n_jobs=4,\n",
       "       param_grid=[{'loss': ['hinge'], 'alpha': [0.001, 0.01, 0.1, 1.0, 10.0, 100.0], 'class_weight': [None, 'balanced']}, {'loss': ['log'], 'alpha': [0.001, 0.01, 0.1, 1.0, 10.0, 100.0], 'penalty': ['l2', 'l1']}],\n",
       "       pre_dispatch=8, refit=True, return_train_score='warn',\n",
       "       scoring=make_scorer(matthews_corrcoef), verbose=1)"
      ]
     },
     "execution_count": 97,
     "metadata": {},
     "output_type": "execute_result"
    }
   ],
   "source": [
    "grid.fit(X_train, y_train)"
   ]
  },
  {
   "cell_type": "markdown",
   "metadata": {
    "_cell_guid": "67901f97-33dc-4ff0-8968-127eda9da452",
    "_uuid": "a6829cf727f13a804180637da8cfc8477754b8c6"
   },
   "source": [
    "Hyperparameters that gave the best results on the hold out data:"
   ]
  },
  {
   "cell_type": "code",
   "execution_count": 98,
   "metadata": {
    "_cell_guid": "14983fb4-d45a-431d-9c03-20d737862cc7",
    "_uuid": "fffc4de31000514e733ccd7c8f0aac9306226644"
   },
   "outputs": [
    {
     "data": {
      "text/plain": [
       "{'alpha': 0.1, 'class_weight': 'balanced', 'loss': 'hinge'}"
      ]
     },
     "execution_count": 98,
     "metadata": {},
     "output_type": "execute_result"
    }
   ],
   "source": [
    "grid.best_params_"
   ]
  },
  {
   "cell_type": "markdown",
   "metadata": {},
   "source": [
    "Mean cross-validated MCC score of the best estimator:"
   ]
  },
  {
   "cell_type": "code",
   "execution_count": 99,
   "metadata": {},
   "outputs": [
    {
     "data": {
      "text/plain": [
       "0.7352132199896961"
      ]
     },
     "execution_count": 99,
     "metadata": {},
     "output_type": "execute_result"
    }
   ],
   "source": [
    "grid.best_score_"
   ]
  },
  {
   "cell_type": "markdown",
   "metadata": {},
   "source": [
    "Weights assigned to the features by the best estimator:"
   ]
  },
  {
   "cell_type": "code",
   "execution_count": 107,
   "metadata": {},
   "outputs": [
    {
     "data": {
      "text/plain": [
       "Text(0.5,0,'classifier weight')"
      ]
     },
     "execution_count": 107,
     "metadata": {},
     "output_type": "execute_result"
    },
    {
     "data": {
      "image/png": "[encoded data removed]",
      "text/plain": [
       "<Figure size 540x360 with 1 Axes>"
      ]
     },
     "metadata": {},
     "output_type": "display_data"
    }
   ],
   "source": [
    "plt.figure(figsize=(6,4), dpi=90)\n",
    "sns.barplot(y=np.arange(0,15), x=grid.best_estimator_.coef_[0,:], orient='h')\n",
    "plt.title(\"Classifier Weights\")\n",
    "plt.xlabel(\"classifier weight\")"
   ]
  },
  {
   "cell_type": "markdown",
   "metadata": {
    "_cell_guid": "61ffd538-9579-4638-8156-bcb3f29b39ab",
    "_uuid": "f3b87036a9ae078b8a9cc36ce5b47f734059358c"
   },
   "source": [
    "## Test set evaluation\n",
    "<a id=\"8.2\"></a>"
   ]
  },
  {
   "cell_type": "code",
   "execution_count": 108,
   "metadata": {},
   "outputs": [],
   "source": [
    "from sklearn.metrics import confusion_matrix, classification_report, matthews_corrcoef, cohen_kappa_score, accuracy_score, average_precision_score, roc_auc_score"
   ]
  },
  {
   "cell_type": "code",
   "execution_count": 109,
   "metadata": {},
   "outputs": [],
   "source": [
    "def classification_eval(estimator, X_test, y_test):\n",
    "    \"\"\"\n",
    "    Print several metrics of classification performance of an estimator, given features X_test and true labels y_test.\n",
    "    \n",
    "    Input: estimator or GridSearchCV instance, X_test, y_test\n",
    "    Returns: text printout of metrics\n",
    "    \"\"\"\n",
    "    y_pred = estimator.predict(X_test)\n",
    "    \n",
    "    # Number of decimal places based on number of samples\n",
    "    dec = np.int64(np.ceil(np.log10(len(y_test))))\n",
    "    \n",
    "    print('Confusion matrix')\n",
    "    print(confusion_matrix(y_test, y_pred), '\\n')\n",
    "    \n",
    "    print('Classification report')\n",
    "    print(classification_report(y_test, y_pred, digits=dec))\n",
    "    \n",
    "    print('Scalar metrics')\n",
    "    format_str = '%%13s = %%.%if' % dec\n",
    "    print(format_str % ('MCC', matthews_corrcoef(y_test, y_pred)))\n",
    "    if y_test.nunique() <= 2: # Additional metrics for binary classification\n",
    "        try:\n",
    "            y_score = estimator.predict_proba(X_test)[:,1]\n",
    "        except:\n",
    "            y_score = estimator.decision_function(X_test)\n",
    "        print(format_str % ('AUPRC', average_precision_score(y_test, y_score)))\n",
    "        print(format_str % ('AUROCC', roc_auc_score(y_test, y_score)))\n",
    "    print(format_str % (\"Cohen's kappa\", cohen_kappa_score(y_test, y_pred)))\n",
    "    print(format_str % ('Accuracy', accuracy_score(y_test, y_pred)))\n",
    "    # Add Informedness\n",
    "    # Add Markedness\n",
    "    # Add Fleiss' kappa"
   ]
  },
  {
   "cell_type": "markdown",
   "metadata": {},
   "source": [
    "Test set evaluation metrics:"
   ]
  },
  {
   "cell_type": "code",
   "execution_count": 110,
   "metadata": {},
   "outputs": [
    {
     "name": "stdout",
     "output_type": "stream",
     "text": [
      "Confusion matrix\n",
      "[[58659  6032]\n",
      " [ 1870 14938]] \n",
      "\n",
      "Classification report\n",
      "             precision    recall  f1-score   support\n",
      "\n",
      "      False    0.96911   0.90676   0.93690     64691\n",
      "       True    0.71235   0.88874   0.79083     16808\n",
      "\n",
      "avg / total    0.91615   0.90304   0.90677     81499\n",
      "\n",
      "Scalar metrics\n",
      "          MCC = 0.73627\n",
      "        AUPRC = 0.81818\n",
      "       AUROCC = 0.95117\n",
      "Cohen's kappa = 0.72872\n",
      "     Accuracy = 0.90304\n"
     ]
    }
   ],
   "source": [
    "classification_eval(grid, X_test, y_test)"
   ]
  }
 ],
 "metadata": {
  "kernelspec": {
   "display_name": "Python 3",
   "language": "python",
   "name": "python3"
  },
  "language_info": {
   "codemirror_mode": {
    "name": "ipython",
    "version": 3
   },
   "file_extension": ".py",
   "mimetype": "text/x-python",
   "name": "python",
   "nbconvert_exporter": "python",
   "pygments_lexer": "ipython3",
   "version": "3.6.5"
  }
 },
 "nbformat": 4,
 "nbformat_minor": 1
}
